{
 "cells": [
  {
   "cell_type": "code",
   "execution_count": 1,
   "metadata": {},
   "outputs": [],
   "source": [
    "import math\n",
    "import time\n",
    "import wandb\n",
    "import rpnn\n",
    "import pprint"
   ]
  },
  {
   "cell_type": "code",
   "execution_count": 2,
   "metadata": {},
   "outputs": [
    {
     "name": "stderr",
     "output_type": "stream",
     "text": [
      "wandb: Currently logged in as: lubomirkurcak (use `wandb login --relogin` to force relogin)\n"
     ]
    },
    {
     "data": {
      "text/plain": [
       "True"
      ]
     },
     "execution_count": 2,
     "metadata": {},
     "output_type": "execute_result"
    }
   ],
   "source": [
    "WANDB_PROJECT = 'matrix-factorization'\n",
    "wandb.login()"
   ]
  },
  {
   "cell_type": "code",
   "execution_count": 3,
   "metadata": {},
   "outputs": [],
   "source": [
    "# vytvorenie sweep configu (pouzivame nahodne zvolenie parametrov)\n",
    "sweep_config = {\n",
    "    'method': 'random'\n",
    "}"
   ]
  },
  {
   "cell_type": "code",
   "execution_count": 4,
   "metadata": {},
   "outputs": [],
   "source": [
    "#metric = {\n",
    "#    'name': 'loss',\n",
    "#    'goal': 'minimize'\n",
    "#}\n",
    "\n",
    "metric = {\n",
    "    'name': 'squared_error',\n",
    "    'goal': 'minimize'\n",
    "}\n",
    "\n",
    "sweep_config['metric'] = metric"
   ]
  },
  {
   "cell_type": "code",
   "execution_count": 5,
   "metadata": {},
   "outputs": [],
   "source": [
    "# diskretne parametre\n",
    "parameters_dict = {\n",
    "    'fp_subnormal': {\n",
    "        'values': ['CPFLOAT_SUBN_RND',\n",
    "                   'CPFLOAT_SUBN_USE']\n",
    "    },\n",
    "    \n",
    "    'fp_round': {\n",
    "        'values': ['CPFLOAT_RND_NA',\n",
    "                   'CPFLOAT_RND_NZ',\n",
    "                   'CPFLOAT_RND_NE',\n",
    "                   'CPFLOAT_RND_TP',\n",
    "                   'CPFLOAT_RND_TN',\n",
    "                   'CPFLOAT_RND_TZ',\n",
    "                   'CPFLOAT_RND_SP',\n",
    "                   'CPFLOAT_RND_SE',\n",
    "                   'CPFLOAT_RND_OD',\n",
    "                   'CPFLOAT_NO_RND']\n",
    "    },\n",
    "    \n",
    "    'fp_flip': {\n",
    "        'values': ['CPFLOAT_NO_SOFTERR',\n",
    "                   'CPFLOAT_SOFTERR']\n",
    "    },\n",
    "    \n",
    "    'fp_explim': {\n",
    "        'values': ['CPFLOAT_EXPRANGE_STOR',\n",
    "                   'CPFLOAT_EXPRANGE_TARG']\n",
    "    },\n",
    "}\n",
    "\n",
    "sweep_config['parameters'] = parameters_dict"
   ]
  },
  {
   "cell_type": "code",
   "execution_count": 6,
   "metadata": {},
   "outputs": [],
   "source": [
    "# konstantne parametre\n",
    "parameters_dict.update({\n",
    "    'features': {\n",
    "        'value': 15\n",
    "    },\n",
    "    'epochs': {\n",
    "        'value': 50000\n",
    "    },\n",
    "    'non_negative': {\n",
    "        'value': True\n",
    "    },\n",
    "    'learning_rate': {\n",
    "        'value': 0.001\n",
    "    },\n",
    "    'weight_decay': {\n",
    "        'value': 0.0001\n",
    "    },\n",
    "    'dropout_keep_p': {\n",
    "        'value': 1\n",
    "    },\n",
    "    'momentum_coefficient': {\n",
    "        'value': 0\n",
    "    },\n",
    "    'loss': {\n",
    "        'value': 'mean_squared_error'\n",
    "    }\n",
    "})"
   ]
  },
  {
   "cell_type": "code",
   "execution_count": 7,
   "metadata": {},
   "outputs": [
    {
     "data": {
      "text/plain": [
       "\"\\n'fp_precision': {\\n    'distribution': 'q_log_uniform',\\n    'q': 1,\\n    'min': math.log(4),\\n    'max': math.log(24),\\n},\\n\\n'fp_emax': {\\n    'distribution': 'q_log_uniform',\\n    'q': 1,\\n    'min': math.log(4),\\n    'max': math.log(127),\\n},\\n\""
      ]
     },
     "execution_count": 7,
     "metadata": {},
     "output_type": "execute_result"
    }
   ],
   "source": [
    "# spojite parametre\n",
    "parameters_dict.update({\n",
    "    'fp_p': {\n",
    "        'distribution': 'uniform',\n",
    "        'min': 0,\n",
    "        'max': 0.5\n",
    "    },\n",
    "    \n",
    "    'fp_precision': {\n",
    "        'distribution': 'q_uniform',\n",
    "        'q': 1,\n",
    "        'min': 4,\n",
    "        'max': 24,\n",
    "    },\n",
    "    \n",
    "    'fp_emax': {\n",
    "        'distribution': 'q_uniform',\n",
    "        'q': 1,\n",
    "        'min': 4,\n",
    "        'max': 127,\n",
    "    },\n",
    "})\n",
    "\n",
    "\n",
    "'''\n",
    "'fp_precision': {\n",
    "    'distribution': 'q_log_uniform',\n",
    "    'q': 1,\n",
    "    'min': math.log(4),\n",
    "    'max': math.log(24),\n",
    "},\n",
    "\n",
    "'fp_emax': {\n",
    "    'distribution': 'q_log_uniform',\n",
    "    'q': 1,\n",
    "    'min': math.log(4),\n",
    "    'max': math.log(127),\n",
    "},\n",
    "'''"
   ]
  },
  {
   "cell_type": "code",
   "execution_count": 8,
   "metadata": {},
   "outputs": [
    {
     "data": {
      "text/plain": [
       "0"
      ]
     },
     "execution_count": 8,
     "metadata": {},
     "output_type": "execute_result"
    }
   ],
   "source": [
    "rpnn.system('echo %TIME%')"
   ]
  },
  {
   "cell_type": "code",
   "execution_count": 9,
   "metadata": {},
   "outputs": [],
   "source": [
    "# trenovacia funkcia, pouzita pri volani trenovacich agentov\n",
    "def train():\n",
    "    \n",
    "    # inicialuzuj wandb a vyber config s nastavenymi hodnotami podla sweep configu\n",
    "    run = wandb.init()\n",
    "    config = run.config\n",
    "    \n",
    "    squared_error = rpnn.matrix_factorization(features=config[\"features\"],\n",
    "        epochs=config[\"epochs\"],\n",
    "        non_negative=config[\"non_negative\"],\n",
    "        learning_rate=config[\"learning_rate\"],\n",
    "        weight_decay=config[\"weight_decay\"],\n",
    "        dropout_keep_p=config[\"dropout_keep_p\"],\n",
    "        momentum_coefficient=config[\"momentum_coefficient\"],\n",
    "        fp_precision=config[\"fp_precision\"],\n",
    "        fp_emax=config[\"fp_emax\"],\n",
    "        fp_subnormal=config[\"fp_subnormal\"],\n",
    "        fp_round=config[\"fp_round\"],\n",
    "        fp_flip=config[\"fp_flip\"],\n",
    "        fp_p=config[\"fp_p\"],\n",
    "        fp_explim=config[\"fp_explim\"]\n",
    "    )\n",
    "    \n",
    "    wandb.log({'squared_error': squared_error}, commit=False, step=0)\n",
    "        \n",
    "    run.finish()\n",
    "    "
   ]
  },
  {
   "cell_type": "code",
   "execution_count": 11,
   "metadata": {
    "scrolled": true
   },
   "outputs": [
    {
     "name": "stdout",
     "output_type": "stream",
     "text": [
      "Create sweep with ID: 2q624iuc\n",
      "Sweep URL: https://wandb.ai/lubomirkurcak/matrix-factorization/sweeps/2q624iuc\n"
     ]
    },
    {
     "name": "stderr",
     "output_type": "stream",
     "text": [
      "wandb: Agent Starting Run: uf1pl5h3 with config:\n",
      "wandb: \tdropout_keep_p: 1\n",
      "wandb: \tepochs: 50000\n",
      "wandb: \tfeatures: 15\n",
      "wandb: \tfp_emax: 90\n",
      "wandb: \tfp_explim: CPFLOAT_EXPRANGE_TARG\n",
      "wandb: \tfp_flip: CPFLOAT_SOFTERR\n",
      "wandb: \tfp_p: 0.4044221057413532\n",
      "wandb: \tfp_precision: 22\n",
      "wandb: \tfp_round: CPFLOAT_RND_OD\n",
      "wandb: \tfp_subnormal: CPFLOAT_SUBN_USE\n",
      "wandb: \tlearning_rate: 0.001\n",
      "wandb: \tloss: mean_squared_error\n",
      "wandb: \tmomentum_coefficient: 0\n",
      "wandb: \tnon_negative: True\n",
      "wandb: \tweight_decay: 0.0001\n",
      "wandb: wandb version 0.12.11 is available!  To upgrade, please run:\n",
      "wandb:  $ pip install wandb --upgrade\n"
     ]
    },
    {
     "data": {
      "text/html": [
       "\n",
       "                Tracking run with wandb version 0.10.21<br/>\n",
       "                Syncing run <strong style=\"color:#cdcd00\">leafy-sweep-1</strong> to <a href=\"https://wandb.ai\" target=\"_blank\">Weights & Biases</a> <a href=\"https://docs.wandb.com/integrations/jupyter.html\" target=\"_blank\">(Documentation)</a>.<br/>\n",
       "                Project page: <a href=\"https://wandb.ai/lubomirkurcak/matrix-factorization\" target=\"_blank\">https://wandb.ai/lubomirkurcak/matrix-factorization</a><br/>\n",
       "                Sweep page: <a href=\"https://wandb.ai/lubomirkurcak/matrix-factorization/sweeps/2q624iuc\" target=\"_blank\">https://wandb.ai/lubomirkurcak/matrix-factorization/sweeps/2q624iuc</a><br/>\n",
       "Run page: <a href=\"https://wandb.ai/lubomirkurcak/matrix-factorization/runs/uf1pl5h3\" target=\"_blank\">https://wandb.ai/lubomirkurcak/matrix-factorization/runs/uf1pl5h3</a><br/>\n",
       "                Run data is saved locally in <code>W:\\rpnn\\python\\wandb\\run-20220305_181840-uf1pl5h3</code><br/><br/>\n",
       "            "
      ],
      "text/plain": [
       "<IPython.core.display.HTML object>"
      ]
     },
     "metadata": {},
     "output_type": "display_data"
    },
    {
     "name": "stdout",
     "output_type": "stream",
     "text": [
      "cpfloat_validate_optstruct returned 0\n"
     ]
    },
    {
     "data": {
      "text/html": [
       "<br/>Waiting for W&B process to finish, PID 21516<br/>Program ended successfully."
      ],
      "text/plain": [
       "<IPython.core.display.HTML object>"
      ]
     },
     "metadata": {},
     "output_type": "display_data"
    },
    {
     "data": {
      "application/vnd.jupyter.widget-view+json": {
       "model_id": "",
       "version_major": 2,
       "version_minor": 0
      },
      "text/plain": [
       "VBox(children=(Label(value=' 0.00MB of 0.00MB uploaded (0.00MB deduped)\\r'), FloatProgress(value=1.0, max=1.0)…"
      ]
     },
     "metadata": {},
     "output_type": "display_data"
    },
    {
     "data": {
      "text/html": [
       "Find user logs for this run at: <code>W:\\rpnn\\python\\wandb\\run-20220305_181840-uf1pl5h3\\logs\\debug.log</code>"
      ],
      "text/plain": [
       "<IPython.core.display.HTML object>"
      ]
     },
     "metadata": {},
     "output_type": "display_data"
    },
    {
     "data": {
      "text/html": [
       "Find internal logs for this run at: <code>W:\\rpnn\\python\\wandb\\run-20220305_181840-uf1pl5h3\\logs\\debug-internal.log</code>"
      ],
      "text/plain": [
       "<IPython.core.display.HTML object>"
      ]
     },
     "metadata": {},
     "output_type": "display_data"
    },
    {
     "data": {
      "text/html": [
       "<h3>Run summary:</h3><br/><style>\n",
       "    table.wandb td:nth-child(1) { padding: 0 10px; text-align: right }\n",
       "    </style><table class=\"wandb\">\n",
       "<tr><td>squared_error</td><td>177.18229</td></tr><tr><td>_runtime</td><td>21</td></tr><tr><td>_timestamp</td><td>1646500741</td></tr><tr><td>_step</td><td>0</td></tr></table>"
      ],
      "text/plain": [
       "<IPython.core.display.HTML object>"
      ]
     },
     "metadata": {},
     "output_type": "display_data"
    },
    {
     "data": {
      "text/html": [
       "<h3>Run history:</h3><br/><style>\n",
       "    table.wandb td:nth-child(1) { padding: 0 10px; text-align: right }\n",
       "    </style><table class=\"wandb\">\n",
       "<tr><td>squared_error</td><td>▁</td></tr><tr><td>_runtime</td><td>▁</td></tr><tr><td>_timestamp</td><td>▁</td></tr><tr><td>_step</td><td>▁</td></tr></table><br/>"
      ],
      "text/plain": [
       "<IPython.core.display.HTML object>"
      ]
     },
     "metadata": {},
     "output_type": "display_data"
    },
    {
     "data": {
      "text/html": [
       "Synced 5 W&B file(s), 0 media file(s), 0 artifact file(s) and 0 other file(s)"
      ],
      "text/plain": [
       "<IPython.core.display.HTML object>"
      ]
     },
     "metadata": {},
     "output_type": "display_data"
    },
    {
     "data": {
      "text/html": [
       "\n",
       "                    <br/>Synced <strong style=\"color:#cdcd00\">leafy-sweep-1</strong>: <a href=\"https://wandb.ai/lubomirkurcak/matrix-factorization/runs/uf1pl5h3\" target=\"_blank\">https://wandb.ai/lubomirkurcak/matrix-factorization/runs/uf1pl5h3</a><br/>\n",
       "                "
      ],
      "text/plain": [
       "<IPython.core.display.HTML object>"
      ]
     },
     "metadata": {},
     "output_type": "display_data"
    },
    {
     "name": "stderr",
     "output_type": "stream",
     "text": [
      "wandb: Agent Starting Run: bwrn0cq0 with config:\n",
      "wandb: \tdropout_keep_p: 1\n",
      "wandb: \tepochs: 50000\n",
      "wandb: \tfeatures: 15\n",
      "wandb: \tfp_emax: 78\n",
      "wandb: \tfp_explim: CPFLOAT_EXPRANGE_STOR\n",
      "wandb: \tfp_flip: CPFLOAT_NO_SOFTERR\n",
      "wandb: \tfp_p: 0.3920528552385\n",
      "wandb: \tfp_precision: 11\n",
      "wandb: \tfp_round: CPFLOAT_RND_SE\n",
      "wandb: \tfp_subnormal: CPFLOAT_SUBN_RND\n",
      "wandb: \tlearning_rate: 0.001\n",
      "wandb: \tloss: mean_squared_error\n",
      "wandb: \tmomentum_coefficient: 0\n",
      "wandb: \tnon_negative: True\n",
      "wandb: \tweight_decay: 0.0001\n",
      "wandb: wandb version 0.12.11 is available!  To upgrade, please run:\n",
      "wandb:  $ pip install wandb --upgrade\n"
     ]
    },
    {
     "data": {
      "text/html": [
       "\n",
       "                Tracking run with wandb version 0.10.21<br/>\n",
       "                Syncing run <strong style=\"color:#cdcd00\">dainty-sweep-2</strong> to <a href=\"https://wandb.ai\" target=\"_blank\">Weights & Biases</a> <a href=\"https://docs.wandb.com/integrations/jupyter.html\" target=\"_blank\">(Documentation)</a>.<br/>\n",
       "                Project page: <a href=\"https://wandb.ai/lubomirkurcak/matrix-factorization\" target=\"_blank\">https://wandb.ai/lubomirkurcak/matrix-factorization</a><br/>\n",
       "                Sweep page: <a href=\"https://wandb.ai/lubomirkurcak/matrix-factorization/sweeps/2q624iuc\" target=\"_blank\">https://wandb.ai/lubomirkurcak/matrix-factorization/sweeps/2q624iuc</a><br/>\n",
       "Run page: <a href=\"https://wandb.ai/lubomirkurcak/matrix-factorization/runs/bwrn0cq0\" target=\"_blank\">https://wandb.ai/lubomirkurcak/matrix-factorization/runs/bwrn0cq0</a><br/>\n",
       "                Run data is saved locally in <code>W:\\rpnn\\python\\wandb\\run-20220305_181905-bwrn0cq0</code><br/><br/>\n",
       "            "
      ],
      "text/plain": [
       "<IPython.core.display.HTML object>"
      ]
     },
     "metadata": {},
     "output_type": "display_data"
    },
    {
     "name": "stdout",
     "output_type": "stream",
     "text": [
      "cpfloat_validate_optstruct returned 0\n"
     ]
    },
    {
     "data": {
      "text/html": [
       "<br/>Waiting for W&B process to finish, PID 11276<br/>Program ended successfully."
      ],
      "text/plain": [
       "<IPython.core.display.HTML object>"
      ]
     },
     "metadata": {},
     "output_type": "display_data"
    },
    {
     "data": {
      "application/vnd.jupyter.widget-view+json": {
       "model_id": "",
       "version_major": 2,
       "version_minor": 0
      },
      "text/plain": [
       "VBox(children=(Label(value=' 0.00MB of 0.00MB uploaded (0.00MB deduped)\\r'), FloatProgress(value=1.0, max=1.0)…"
      ]
     },
     "metadata": {},
     "output_type": "display_data"
    },
    {
     "data": {
      "text/html": [
       "Find user logs for this run at: <code>W:\\rpnn\\python\\wandb\\run-20220305_181905-bwrn0cq0\\logs\\debug.log</code>"
      ],
      "text/plain": [
       "<IPython.core.display.HTML object>"
      ]
     },
     "metadata": {},
     "output_type": "display_data"
    },
    {
     "data": {
      "text/html": [
       "Find internal logs for this run at: <code>W:\\rpnn\\python\\wandb\\run-20220305_181905-bwrn0cq0\\logs\\debug-internal.log</code>"
      ],
      "text/plain": [
       "<IPython.core.display.HTML object>"
      ]
     },
     "metadata": {},
     "output_type": "display_data"
    },
    {
     "data": {
      "text/html": [
       "<h3>Run summary:</h3><br/><style>\n",
       "    table.wandb td:nth-child(1) { padding: 0 10px; text-align: right }\n",
       "    </style><table class=\"wandb\">\n",
       "<tr><td>squared_error</td><td>272.32765</td></tr><tr><td>_runtime</td><td>19</td></tr><tr><td>_timestamp</td><td>1646500764</td></tr><tr><td>_step</td><td>0</td></tr></table>"
      ],
      "text/plain": [
       "<IPython.core.display.HTML object>"
      ]
     },
     "metadata": {},
     "output_type": "display_data"
    },
    {
     "data": {
      "text/html": [
       "<h3>Run history:</h3><br/><style>\n",
       "    table.wandb td:nth-child(1) { padding: 0 10px; text-align: right }\n",
       "    </style><table class=\"wandb\">\n",
       "<tr><td>squared_error</td><td>▁</td></tr><tr><td>_runtime</td><td>▁</td></tr><tr><td>_timestamp</td><td>▁</td></tr><tr><td>_step</td><td>▁</td></tr></table><br/>"
      ],
      "text/plain": [
       "<IPython.core.display.HTML object>"
      ]
     },
     "metadata": {},
     "output_type": "display_data"
    },
    {
     "data": {
      "text/html": [
       "Synced 5 W&B file(s), 0 media file(s), 0 artifact file(s) and 0 other file(s)"
      ],
      "text/plain": [
       "<IPython.core.display.HTML object>"
      ]
     },
     "metadata": {},
     "output_type": "display_data"
    },
    {
     "data": {
      "text/html": [
       "\n",
       "                    <br/>Synced <strong style=\"color:#cdcd00\">dainty-sweep-2</strong>: <a href=\"https://wandb.ai/lubomirkurcak/matrix-factorization/runs/bwrn0cq0\" target=\"_blank\">https://wandb.ai/lubomirkurcak/matrix-factorization/runs/bwrn0cq0</a><br/>\n",
       "                "
      ],
      "text/plain": [
       "<IPython.core.display.HTML object>"
      ]
     },
     "metadata": {},
     "output_type": "display_data"
    },
    {
     "name": "stderr",
     "output_type": "stream",
     "text": [
      "wandb: Agent Starting Run: 6r4i81jt with config:\n",
      "wandb: \tdropout_keep_p: 1\n",
      "wandb: \tepochs: 50000\n",
      "wandb: \tfeatures: 15\n",
      "wandb: \tfp_emax: 22\n",
      "wandb: \tfp_explim: CPFLOAT_EXPRANGE_STOR\n",
      "wandb: \tfp_flip: CPFLOAT_SOFTERR\n",
      "wandb: \tfp_p: 0.30323965639883116\n",
      "wandb: \tfp_precision: 14\n",
      "wandb: \tfp_round: CPFLOAT_RND_NE\n",
      "wandb: \tfp_subnormal: CPFLOAT_SUBN_RND\n",
      "wandb: \tlearning_rate: 0.001\n",
      "wandb: \tloss: mean_squared_error\n",
      "wandb: \tmomentum_coefficient: 0\n",
      "wandb: \tnon_negative: True\n",
      "wandb: \tweight_decay: 0.0001\n",
      "wandb: wandb version 0.12.11 is available!  To upgrade, please run:\n",
      "wandb:  $ pip install wandb --upgrade\n"
     ]
    },
    {
     "data": {
      "text/html": [
       "\n",
       "                Tracking run with wandb version 0.10.21<br/>\n",
       "                Syncing run <strong style=\"color:#cdcd00\">likely-sweep-3</strong> to <a href=\"https://wandb.ai\" target=\"_blank\">Weights & Biases</a> <a href=\"https://docs.wandb.com/integrations/jupyter.html\" target=\"_blank\">(Documentation)</a>.<br/>\n",
       "                Project page: <a href=\"https://wandb.ai/lubomirkurcak/matrix-factorization\" target=\"_blank\">https://wandb.ai/lubomirkurcak/matrix-factorization</a><br/>\n",
       "                Sweep page: <a href=\"https://wandb.ai/lubomirkurcak/matrix-factorization/sweeps/2q624iuc\" target=\"_blank\">https://wandb.ai/lubomirkurcak/matrix-factorization/sweeps/2q624iuc</a><br/>\n",
       "Run page: <a href=\"https://wandb.ai/lubomirkurcak/matrix-factorization/runs/6r4i81jt\" target=\"_blank\">https://wandb.ai/lubomirkurcak/matrix-factorization/runs/6r4i81jt</a><br/>\n",
       "                Run data is saved locally in <code>W:\\rpnn\\python\\wandb\\run-20220305_181928-6r4i81jt</code><br/><br/>\n",
       "            "
      ],
      "text/plain": [
       "<IPython.core.display.HTML object>"
      ]
     },
     "metadata": {},
     "output_type": "display_data"
    },
    {
     "name": "stdout",
     "output_type": "stream",
     "text": [
      "cpfloat_validate_optstruct returned 0\n"
     ]
    },
    {
     "data": {
      "text/html": [
       "<br/>Waiting for W&B process to finish, PID 14196<br/>Program ended successfully."
      ],
      "text/plain": [
       "<IPython.core.display.HTML object>"
      ]
     },
     "metadata": {},
     "output_type": "display_data"
    },
    {
     "data": {
      "application/vnd.jupyter.widget-view+json": {
       "model_id": "",
       "version_major": 2,
       "version_minor": 0
      },
      "text/plain": [
       "VBox(children=(Label(value=' 0.00MB of 0.00MB uploaded (0.00MB deduped)\\r'), FloatProgress(value=1.0, max=1.0)…"
      ]
     },
     "metadata": {},
     "output_type": "display_data"
    },
    {
     "data": {
      "text/html": [
       "Find user logs for this run at: <code>W:\\rpnn\\python\\wandb\\run-20220305_181928-6r4i81jt\\logs\\debug.log</code>"
      ],
      "text/plain": [
       "<IPython.core.display.HTML object>"
      ]
     },
     "metadata": {},
     "output_type": "display_data"
    },
    {
     "data": {
      "text/html": [
       "Find internal logs for this run at: <code>W:\\rpnn\\python\\wandb\\run-20220305_181928-6r4i81jt\\logs\\debug-internal.log</code>"
      ],
      "text/plain": [
       "<IPython.core.display.HTML object>"
      ]
     },
     "metadata": {},
     "output_type": "display_data"
    },
    {
     "data": {
      "text/html": [
       "<h3>Run summary:</h3><br/><style>\n",
       "    table.wandb td:nth-child(1) { padding: 0 10px; text-align: right }\n",
       "    </style><table class=\"wandb\">\n",
       "<tr><td>squared_error</td><td>176.54703</td></tr><tr><td>_runtime</td><td>19</td></tr><tr><td>_timestamp</td><td>1646500787</td></tr><tr><td>_step</td><td>0</td></tr></table>"
      ],
      "text/plain": [
       "<IPython.core.display.HTML object>"
      ]
     },
     "metadata": {},
     "output_type": "display_data"
    },
    {
     "data": {
      "text/html": [
       "<h3>Run history:</h3><br/><style>\n",
       "    table.wandb td:nth-child(1) { padding: 0 10px; text-align: right }\n",
       "    </style><table class=\"wandb\">\n",
       "<tr><td>squared_error</td><td>▁</td></tr><tr><td>_runtime</td><td>▁</td></tr><tr><td>_timestamp</td><td>▁</td></tr><tr><td>_step</td><td>▁</td></tr></table><br/>"
      ],
      "text/plain": [
       "<IPython.core.display.HTML object>"
      ]
     },
     "metadata": {},
     "output_type": "display_data"
    },
    {
     "data": {
      "text/html": [
       "Synced 5 W&B file(s), 0 media file(s), 0 artifact file(s) and 0 other file(s)"
      ],
      "text/plain": [
       "<IPython.core.display.HTML object>"
      ]
     },
     "metadata": {},
     "output_type": "display_data"
    },
    {
     "data": {
      "text/html": [
       "\n",
       "                    <br/>Synced <strong style=\"color:#cdcd00\">likely-sweep-3</strong>: <a href=\"https://wandb.ai/lubomirkurcak/matrix-factorization/runs/6r4i81jt\" target=\"_blank\">https://wandb.ai/lubomirkurcak/matrix-factorization/runs/6r4i81jt</a><br/>\n",
       "                "
      ],
      "text/plain": [
       "<IPython.core.display.HTML object>"
      ]
     },
     "metadata": {},
     "output_type": "display_data"
    },
    {
     "name": "stderr",
     "output_type": "stream",
     "text": [
      "wandb: Agent Starting Run: pkjv427h with config:\n",
      "wandb: \tdropout_keep_p: 1\n",
      "wandb: \tepochs: 50000\n",
      "wandb: \tfeatures: 15\n",
      "wandb: \tfp_emax: 90\n",
      "wandb: \tfp_explim: CPFLOAT_EXPRANGE_STOR\n",
      "wandb: \tfp_flip: CPFLOAT_SOFTERR\n",
      "wandb: \tfp_p: 0.14895523824994972\n",
      "wandb: \tfp_precision: 23\n",
      "wandb: \tfp_round: CPFLOAT_RND_OD\n",
      "wandb: \tfp_subnormal: CPFLOAT_SUBN_RND\n",
      "wandb: \tlearning_rate: 0.001\n",
      "wandb: \tloss: mean_squared_error\n",
      "wandb: \tmomentum_coefficient: 0\n",
      "wandb: \tnon_negative: True\n",
      "wandb: \tweight_decay: 0.0001\n",
      "wandb: wandb version 0.12.11 is available!  To upgrade, please run:\n",
      "wandb:  $ pip install wandb --upgrade\n"
     ]
    },
    {
     "data": {
      "text/html": [
       "\n",
       "                Tracking run with wandb version 0.10.21<br/>\n",
       "                Syncing run <strong style=\"color:#cdcd00\">silvery-sweep-4</strong> to <a href=\"https://wandb.ai\" target=\"_blank\">Weights & Biases</a> <a href=\"https://docs.wandb.com/integrations/jupyter.html\" target=\"_blank\">(Documentation)</a>.<br/>\n",
       "                Project page: <a href=\"https://wandb.ai/lubomirkurcak/matrix-factorization\" target=\"_blank\">https://wandb.ai/lubomirkurcak/matrix-factorization</a><br/>\n",
       "                Sweep page: <a href=\"https://wandb.ai/lubomirkurcak/matrix-factorization/sweeps/2q624iuc\" target=\"_blank\">https://wandb.ai/lubomirkurcak/matrix-factorization/sweeps/2q624iuc</a><br/>\n",
       "Run page: <a href=\"https://wandb.ai/lubomirkurcak/matrix-factorization/runs/pkjv427h\" target=\"_blank\">https://wandb.ai/lubomirkurcak/matrix-factorization/runs/pkjv427h</a><br/>\n",
       "                Run data is saved locally in <code>W:\\rpnn\\python\\wandb\\run-20220305_181952-pkjv427h</code><br/><br/>\n",
       "            "
      ],
      "text/plain": [
       "<IPython.core.display.HTML object>"
      ]
     },
     "metadata": {},
     "output_type": "display_data"
    },
    {
     "name": "stdout",
     "output_type": "stream",
     "text": [
      "cpfloat_validate_optstruct returned 0\n"
     ]
    },
    {
     "data": {
      "text/html": [
       "<br/>Waiting for W&B process to finish, PID 13548<br/>Program ended successfully."
      ],
      "text/plain": [
       "<IPython.core.display.HTML object>"
      ]
     },
     "metadata": {},
     "output_type": "display_data"
    },
    {
     "data": {
      "application/vnd.jupyter.widget-view+json": {
       "model_id": "",
       "version_major": 2,
       "version_minor": 0
      },
      "text/plain": [
       "VBox(children=(Label(value=' 0.00MB of 0.00MB uploaded (0.00MB deduped)\\r'), FloatProgress(value=1.0, max=1.0)…"
      ]
     },
     "metadata": {},
     "output_type": "display_data"
    },
    {
     "data": {
      "text/html": [
       "Find user logs for this run at: <code>W:\\rpnn\\python\\wandb\\run-20220305_181952-pkjv427h\\logs\\debug.log</code>"
      ],
      "text/plain": [
       "<IPython.core.display.HTML object>"
      ]
     },
     "metadata": {},
     "output_type": "display_data"
    },
    {
     "data": {
      "text/html": [
       "Find internal logs for this run at: <code>W:\\rpnn\\python\\wandb\\run-20220305_181952-pkjv427h\\logs\\debug-internal.log</code>"
      ],
      "text/plain": [
       "<IPython.core.display.HTML object>"
      ]
     },
     "metadata": {},
     "output_type": "display_data"
    },
    {
     "data": {
      "text/html": [
       "<h3>Run summary:</h3><br/><style>\n",
       "    table.wandb td:nth-child(1) { padding: 0 10px; text-align: right }\n",
       "    </style><table class=\"wandb\">\n",
       "<tr><td>squared_error</td><td>171.53938</td></tr><tr><td>_runtime</td><td>20</td></tr><tr><td>_timestamp</td><td>1646500812</td></tr><tr><td>_step</td><td>0</td></tr></table>"
      ],
      "text/plain": [
       "<IPython.core.display.HTML object>"
      ]
     },
     "metadata": {},
     "output_type": "display_data"
    },
    {
     "data": {
      "text/html": [
       "<h3>Run history:</h3><br/><style>\n",
       "    table.wandb td:nth-child(1) { padding: 0 10px; text-align: right }\n",
       "    </style><table class=\"wandb\">\n",
       "<tr><td>squared_error</td><td>▁</td></tr><tr><td>_runtime</td><td>▁</td></tr><tr><td>_timestamp</td><td>▁</td></tr><tr><td>_step</td><td>▁</td></tr></table><br/>"
      ],
      "text/plain": [
       "<IPython.core.display.HTML object>"
      ]
     },
     "metadata": {},
     "output_type": "display_data"
    },
    {
     "data": {
      "text/html": [
       "Synced 5 W&B file(s), 0 media file(s), 0 artifact file(s) and 0 other file(s)"
      ],
      "text/plain": [
       "<IPython.core.display.HTML object>"
      ]
     },
     "metadata": {},
     "output_type": "display_data"
    },
    {
     "data": {
      "text/html": [
       "\n",
       "                    <br/>Synced <strong style=\"color:#cdcd00\">silvery-sweep-4</strong>: <a href=\"https://wandb.ai/lubomirkurcak/matrix-factorization/runs/pkjv427h\" target=\"_blank\">https://wandb.ai/lubomirkurcak/matrix-factorization/runs/pkjv427h</a><br/>\n",
       "                "
      ],
      "text/plain": [
       "<IPython.core.display.HTML object>"
      ]
     },
     "metadata": {},
     "output_type": "display_data"
    },
    {
     "name": "stderr",
     "output_type": "stream",
     "text": [
      "wandb: Agent Starting Run: 0tz8ty7h with config:\n",
      "wandb: \tdropout_keep_p: 1\n",
      "wandb: \tepochs: 50000\n",
      "wandb: \tfeatures: 15\n",
      "wandb: \tfp_emax: 83\n",
      "wandb: \tfp_explim: CPFLOAT_EXPRANGE_TARG\n",
      "wandb: \tfp_flip: CPFLOAT_SOFTERR\n",
      "wandb: \tfp_p: 0.13352558087440336\n",
      "wandb: \tfp_precision: 20\n",
      "wandb: \tfp_round: CPFLOAT_RND_NZ\n",
      "wandb: \tfp_subnormal: CPFLOAT_SUBN_USE\n",
      "wandb: \tlearning_rate: 0.001\n",
      "wandb: \tloss: mean_squared_error\n",
      "wandb: \tmomentum_coefficient: 0\n",
      "wandb: \tnon_negative: True\n",
      "wandb: \tweight_decay: 0.0001\n",
      "wandb: wandb version 0.12.11 is available!  To upgrade, please run:\n",
      "wandb:  $ pip install wandb --upgrade\n"
     ]
    },
    {
     "data": {
      "text/html": [
       "\n",
       "                Tracking run with wandb version 0.10.21<br/>\n",
       "                Syncing run <strong style=\"color:#cdcd00\">dashing-sweep-5</strong> to <a href=\"https://wandb.ai\" target=\"_blank\">Weights & Biases</a> <a href=\"https://docs.wandb.com/integrations/jupyter.html\" target=\"_blank\">(Documentation)</a>.<br/>\n",
       "                Project page: <a href=\"https://wandb.ai/lubomirkurcak/matrix-factorization\" target=\"_blank\">https://wandb.ai/lubomirkurcak/matrix-factorization</a><br/>\n",
       "                Sweep page: <a href=\"https://wandb.ai/lubomirkurcak/matrix-factorization/sweeps/2q624iuc\" target=\"_blank\">https://wandb.ai/lubomirkurcak/matrix-factorization/sweeps/2q624iuc</a><br/>\n",
       "Run page: <a href=\"https://wandb.ai/lubomirkurcak/matrix-factorization/runs/0tz8ty7h\" target=\"_blank\">https://wandb.ai/lubomirkurcak/matrix-factorization/runs/0tz8ty7h</a><br/>\n",
       "                Run data is saved locally in <code>W:\\rpnn\\python\\wandb\\run-20220305_182016-0tz8ty7h</code><br/><br/>\n",
       "            "
      ],
      "text/plain": [
       "<IPython.core.display.HTML object>"
      ]
     },
     "metadata": {},
     "output_type": "display_data"
    },
    {
     "name": "stdout",
     "output_type": "stream",
     "text": [
      "cpfloat_validate_optstruct returned 0\n"
     ]
    },
    {
     "data": {
      "text/html": [
       "<br/>Waiting for W&B process to finish, PID 2568<br/>Program ended successfully."
      ],
      "text/plain": [
       "<IPython.core.display.HTML object>"
      ]
     },
     "metadata": {},
     "output_type": "display_data"
    },
    {
     "data": {
      "application/vnd.jupyter.widget-view+json": {
       "model_id": "",
       "version_major": 2,
       "version_minor": 0
      },
      "text/plain": [
       "VBox(children=(Label(value=' 0.00MB of 0.00MB uploaded (0.00MB deduped)\\r'), FloatProgress(value=1.0, max=1.0)…"
      ]
     },
     "metadata": {},
     "output_type": "display_data"
    },
    {
     "data": {
      "text/html": [
       "Find user logs for this run at: <code>W:\\rpnn\\python\\wandb\\run-20220305_182016-0tz8ty7h\\logs\\debug.log</code>"
      ],
      "text/plain": [
       "<IPython.core.display.HTML object>"
      ]
     },
     "metadata": {},
     "output_type": "display_data"
    },
    {
     "data": {
      "text/html": [
       "Find internal logs for this run at: <code>W:\\rpnn\\python\\wandb\\run-20220305_182016-0tz8ty7h\\logs\\debug-internal.log</code>"
      ],
      "text/plain": [
       "<IPython.core.display.HTML object>"
      ]
     },
     "metadata": {},
     "output_type": "display_data"
    },
    {
     "data": {
      "text/html": [
       "<h3>Run summary:</h3><br/><style>\n",
       "    table.wandb td:nth-child(1) { padding: 0 10px; text-align: right }\n",
       "    </style><table class=\"wandb\">\n",
       "<tr><td>squared_error</td><td>175.08329</td></tr><tr><td>_runtime</td><td>21</td></tr><tr><td>_timestamp</td><td>1646500838</td></tr><tr><td>_step</td><td>0</td></tr></table>"
      ],
      "text/plain": [
       "<IPython.core.display.HTML object>"
      ]
     },
     "metadata": {},
     "output_type": "display_data"
    },
    {
     "data": {
      "text/html": [
       "<h3>Run history:</h3><br/><style>\n",
       "    table.wandb td:nth-child(1) { padding: 0 10px; text-align: right }\n",
       "    </style><table class=\"wandb\">\n",
       "<tr><td>squared_error</td><td>▁</td></tr><tr><td>_runtime</td><td>▁</td></tr><tr><td>_timestamp</td><td>▁</td></tr><tr><td>_step</td><td>▁</td></tr></table><br/>"
      ],
      "text/plain": [
       "<IPython.core.display.HTML object>"
      ]
     },
     "metadata": {},
     "output_type": "display_data"
    },
    {
     "data": {
      "text/html": [
       "Synced 5 W&B file(s), 0 media file(s), 0 artifact file(s) and 0 other file(s)"
      ],
      "text/plain": [
       "<IPython.core.display.HTML object>"
      ]
     },
     "metadata": {},
     "output_type": "display_data"
    },
    {
     "data": {
      "text/html": [
       "\n",
       "                    <br/>Synced <strong style=\"color:#cdcd00\">dashing-sweep-5</strong>: <a href=\"https://wandb.ai/lubomirkurcak/matrix-factorization/runs/0tz8ty7h\" target=\"_blank\">https://wandb.ai/lubomirkurcak/matrix-factorization/runs/0tz8ty7h</a><br/>\n",
       "                "
      ],
      "text/plain": [
       "<IPython.core.display.HTML object>"
      ]
     },
     "metadata": {},
     "output_type": "display_data"
    },
    {
     "name": "stderr",
     "output_type": "stream",
     "text": [
      "wandb: Agent Starting Run: b6yfti6v with config:\n",
      "wandb: \tdropout_keep_p: 1\n",
      "wandb: \tepochs: 50000\n",
      "wandb: \tfeatures: 15\n",
      "wandb: \tfp_emax: 88\n",
      "wandb: \tfp_explim: CPFLOAT_EXPRANGE_TARG\n",
      "wandb: \tfp_flip: CPFLOAT_NO_SOFTERR\n",
      "wandb: \tfp_p: 0.0917843553121821\n",
      "wandb: \tfp_precision: 9\n",
      "wandb: \tfp_round: CPFLOAT_RND_SE\n",
      "wandb: \tfp_subnormal: CPFLOAT_SUBN_RND\n",
      "wandb: \tlearning_rate: 0.001\n",
      "wandb: \tloss: mean_squared_error\n",
      "wandb: \tmomentum_coefficient: 0\n",
      "wandb: \tnon_negative: True\n",
      "wandb: \tweight_decay: 0.0001\n",
      "wandb: wandb version 0.12.11 is available!  To upgrade, please run:\n",
      "wandb:  $ pip install wandb --upgrade\n"
     ]
    },
    {
     "data": {
      "text/html": [
       "\n",
       "                Tracking run with wandb version 0.10.21<br/>\n",
       "                Syncing run <strong style=\"color:#cdcd00\">autumn-sweep-6</strong> to <a href=\"https://wandb.ai\" target=\"_blank\">Weights & Biases</a> <a href=\"https://docs.wandb.com/integrations/jupyter.html\" target=\"_blank\">(Documentation)</a>.<br/>\n",
       "                Project page: <a href=\"https://wandb.ai/lubomirkurcak/matrix-factorization\" target=\"_blank\">https://wandb.ai/lubomirkurcak/matrix-factorization</a><br/>\n",
       "                Sweep page: <a href=\"https://wandb.ai/lubomirkurcak/matrix-factorization/sweeps/2q624iuc\" target=\"_blank\">https://wandb.ai/lubomirkurcak/matrix-factorization/sweeps/2q624iuc</a><br/>\n",
       "Run page: <a href=\"https://wandb.ai/lubomirkurcak/matrix-factorization/runs/b6yfti6v\" target=\"_blank\">https://wandb.ai/lubomirkurcak/matrix-factorization/runs/b6yfti6v</a><br/>\n",
       "                Run data is saved locally in <code>W:\\rpnn\\python\\wandb\\run-20220305_182042-b6yfti6v</code><br/><br/>\n",
       "            "
      ],
      "text/plain": [
       "<IPython.core.display.HTML object>"
      ]
     },
     "metadata": {},
     "output_type": "display_data"
    },
    {
     "name": "stdout",
     "output_type": "stream",
     "text": [
      "cpfloat_validate_optstruct returned 0\n"
     ]
    },
    {
     "data": {
      "text/html": [
       "<br/>Waiting for W&B process to finish, PID 5012<br/>Program ended successfully."
      ],
      "text/plain": [
       "<IPython.core.display.HTML object>"
      ]
     },
     "metadata": {},
     "output_type": "display_data"
    },
    {
     "data": {
      "application/vnd.jupyter.widget-view+json": {
       "model_id": "",
       "version_major": 2,
       "version_minor": 0
      },
      "text/plain": [
       "VBox(children=(Label(value=' 0.00MB of 0.00MB uploaded (0.00MB deduped)\\r'), FloatProgress(value=1.0, max=1.0)…"
      ]
     },
     "metadata": {},
     "output_type": "display_data"
    },
    {
     "data": {
      "text/html": [
       "Find user logs for this run at: <code>W:\\rpnn\\python\\wandb\\run-20220305_182042-b6yfti6v\\logs\\debug.log</code>"
      ],
      "text/plain": [
       "<IPython.core.display.HTML object>"
      ]
     },
     "metadata": {},
     "output_type": "display_data"
    },
    {
     "data": {
      "text/html": [
       "Find internal logs for this run at: <code>W:\\rpnn\\python\\wandb\\run-20220305_182042-b6yfti6v\\logs\\debug-internal.log</code>"
      ],
      "text/plain": [
       "<IPython.core.display.HTML object>"
      ]
     },
     "metadata": {},
     "output_type": "display_data"
    },
    {
     "data": {
      "text/html": [
       "<h3>Run summary:</h3><br/><style>\n",
       "    table.wandb td:nth-child(1) { padding: 0 10px; text-align: right }\n",
       "    </style><table class=\"wandb\">\n",
       "<tr><td>squared_error</td><td>515.87354</td></tr><tr><td>_runtime</td><td>20</td></tr><tr><td>_timestamp</td><td>1646500862</td></tr><tr><td>_step</td><td>0</td></tr></table>"
      ],
      "text/plain": [
       "<IPython.core.display.HTML object>"
      ]
     },
     "metadata": {},
     "output_type": "display_data"
    },
    {
     "data": {
      "text/html": [
       "<h3>Run history:</h3><br/><style>\n",
       "    table.wandb td:nth-child(1) { padding: 0 10px; text-align: right }\n",
       "    </style><table class=\"wandb\">\n",
       "<tr><td>squared_error</td><td>▁</td></tr><tr><td>_runtime</td><td>▁</td></tr><tr><td>_timestamp</td><td>▁</td></tr><tr><td>_step</td><td>▁</td></tr></table><br/>"
      ],
      "text/plain": [
       "<IPython.core.display.HTML object>"
      ]
     },
     "metadata": {},
     "output_type": "display_data"
    },
    {
     "data": {
      "text/html": [
       "Synced 5 W&B file(s), 0 media file(s), 0 artifact file(s) and 0 other file(s)"
      ],
      "text/plain": [
       "<IPython.core.display.HTML object>"
      ]
     },
     "metadata": {},
     "output_type": "display_data"
    },
    {
     "data": {
      "text/html": [
       "\n",
       "                    <br/>Synced <strong style=\"color:#cdcd00\">autumn-sweep-6</strong>: <a href=\"https://wandb.ai/lubomirkurcak/matrix-factorization/runs/b6yfti6v\" target=\"_blank\">https://wandb.ai/lubomirkurcak/matrix-factorization/runs/b6yfti6v</a><br/>\n",
       "                "
      ],
      "text/plain": [
       "<IPython.core.display.HTML object>"
      ]
     },
     "metadata": {},
     "output_type": "display_data"
    },
    {
     "name": "stderr",
     "output_type": "stream",
     "text": [
      "wandb: Agent Starting Run: q61osbmz with config:\n",
      "wandb: \tdropout_keep_p: 1\n",
      "wandb: \tepochs: 50000\n",
      "wandb: \tfeatures: 15\n",
      "wandb: \tfp_emax: 9\n",
      "wandb: \tfp_explim: CPFLOAT_EXPRANGE_TARG\n",
      "wandb: \tfp_flip: CPFLOAT_NO_SOFTERR\n",
      "wandb: \tfp_p: 0.1741484672226284\n",
      "wandb: \tfp_precision: 12\n",
      "wandb: \tfp_round: CPFLOAT_RND_NZ\n",
      "wandb: \tfp_subnormal: CPFLOAT_SUBN_RND\n",
      "wandb: \tlearning_rate: 0.001\n",
      "wandb: \tloss: mean_squared_error\n",
      "wandb: \tmomentum_coefficient: 0\n",
      "wandb: \tnon_negative: True\n",
      "wandb: \tweight_decay: 0.0001\n",
      "wandb: wandb version 0.12.11 is available!  To upgrade, please run:\n",
      "wandb:  $ pip install wandb --upgrade\n"
     ]
    },
    {
     "data": {
      "text/html": [
       "\n",
       "                Tracking run with wandb version 0.10.21<br/>\n",
       "                Syncing run <strong style=\"color:#cdcd00\">floral-sweep-7</strong> to <a href=\"https://wandb.ai\" target=\"_blank\">Weights & Biases</a> <a href=\"https://docs.wandb.com/integrations/jupyter.html\" target=\"_blank\">(Documentation)</a>.<br/>\n",
       "                Project page: <a href=\"https://wandb.ai/lubomirkurcak/matrix-factorization\" target=\"_blank\">https://wandb.ai/lubomirkurcak/matrix-factorization</a><br/>\n",
       "                Sweep page: <a href=\"https://wandb.ai/lubomirkurcak/matrix-factorization/sweeps/2q624iuc\" target=\"_blank\">https://wandb.ai/lubomirkurcak/matrix-factorization/sweeps/2q624iuc</a><br/>\n",
       "Run page: <a href=\"https://wandb.ai/lubomirkurcak/matrix-factorization/runs/q61osbmz\" target=\"_blank\">https://wandb.ai/lubomirkurcak/matrix-factorization/runs/q61osbmz</a><br/>\n",
       "                Run data is saved locally in <code>W:\\rpnn\\python\\wandb\\run-20220305_182106-q61osbmz</code><br/><br/>\n",
       "            "
      ],
      "text/plain": [
       "<IPython.core.display.HTML object>"
      ]
     },
     "metadata": {},
     "output_type": "display_data"
    },
    {
     "name": "stdout",
     "output_type": "stream",
     "text": [
      "cpfloat_validate_optstruct returned 0\n"
     ]
    },
    {
     "data": {
      "text/html": [
       "<br/>Waiting for W&B process to finish, PID 17584<br/>Program ended successfully."
      ],
      "text/plain": [
       "<IPython.core.display.HTML object>"
      ]
     },
     "metadata": {},
     "output_type": "display_data"
    },
    {
     "data": {
      "application/vnd.jupyter.widget-view+json": {
       "model_id": "",
       "version_major": 2,
       "version_minor": 0
      },
      "text/plain": [
       "VBox(children=(Label(value=' 0.00MB of 0.00MB uploaded (0.00MB deduped)\\r'), FloatProgress(value=1.0, max=1.0)…"
      ]
     },
     "metadata": {},
     "output_type": "display_data"
    },
    {
     "data": {
      "text/html": [
       "Find user logs for this run at: <code>W:\\rpnn\\python\\wandb\\run-20220305_182106-q61osbmz\\logs\\debug.log</code>"
      ],
      "text/plain": [
       "<IPython.core.display.HTML object>"
      ]
     },
     "metadata": {},
     "output_type": "display_data"
    },
    {
     "data": {
      "text/html": [
       "Find internal logs for this run at: <code>W:\\rpnn\\python\\wandb\\run-20220305_182106-q61osbmz\\logs\\debug-internal.log</code>"
      ],
      "text/plain": [
       "<IPython.core.display.HTML object>"
      ]
     },
     "metadata": {},
     "output_type": "display_data"
    },
    {
     "data": {
      "text/html": [
       "<h3>Run summary:</h3><br/><style>\n",
       "    table.wandb td:nth-child(1) { padding: 0 10px; text-align: right }\n",
       "    </style><table class=\"wandb\">\n",
       "<tr><td>squared_error</td><td>712.26352</td></tr><tr><td>_runtime</td><td>16</td></tr><tr><td>_timestamp</td><td>1646500882</td></tr><tr><td>_step</td><td>0</td></tr></table>"
      ],
      "text/plain": [
       "<IPython.core.display.HTML object>"
      ]
     },
     "metadata": {},
     "output_type": "display_data"
    },
    {
     "data": {
      "text/html": [
       "<h3>Run history:</h3><br/><style>\n",
       "    table.wandb td:nth-child(1) { padding: 0 10px; text-align: right }\n",
       "    </style><table class=\"wandb\">\n",
       "<tr><td>squared_error</td><td>▁</td></tr><tr><td>_runtime</td><td>▁</td></tr><tr><td>_timestamp</td><td>▁</td></tr><tr><td>_step</td><td>▁</td></tr></table><br/>"
      ],
      "text/plain": [
       "<IPython.core.display.HTML object>"
      ]
     },
     "metadata": {},
     "output_type": "display_data"
    },
    {
     "data": {
      "text/html": [
       "Synced 5 W&B file(s), 0 media file(s), 0 artifact file(s) and 0 other file(s)"
      ],
      "text/plain": [
       "<IPython.core.display.HTML object>"
      ]
     },
     "metadata": {},
     "output_type": "display_data"
    },
    {
     "data": {
      "text/html": [
       "\n",
       "                    <br/>Synced <strong style=\"color:#cdcd00\">floral-sweep-7</strong>: <a href=\"https://wandb.ai/lubomirkurcak/matrix-factorization/runs/q61osbmz\" target=\"_blank\">https://wandb.ai/lubomirkurcak/matrix-factorization/runs/q61osbmz</a><br/>\n",
       "                "
      ],
      "text/plain": [
       "<IPython.core.display.HTML object>"
      ]
     },
     "metadata": {},
     "output_type": "display_data"
    },
    {
     "name": "stderr",
     "output_type": "stream",
     "text": [
      "wandb: Agent Starting Run: ij2vxqx4 with config:\n",
      "wandb: \tdropout_keep_p: 1\n",
      "wandb: \tepochs: 50000\n",
      "wandb: \tfeatures: 15\n",
      "wandb: \tfp_emax: 63\n",
      "wandb: \tfp_explim: CPFLOAT_EXPRANGE_STOR\n",
      "wandb: \tfp_flip: CPFLOAT_NO_SOFTERR\n",
      "wandb: \tfp_p: 0.39353201751773975\n",
      "wandb: \tfp_precision: 18\n",
      "wandb: \tfp_round: CPFLOAT_RND_TZ\n",
      "wandb: \tfp_subnormal: CPFLOAT_SUBN_USE\n",
      "wandb: \tlearning_rate: 0.001\n",
      "wandb: \tloss: mean_squared_error\n",
      "wandb: \tmomentum_coefficient: 0\n",
      "wandb: \tnon_negative: True\n",
      "wandb: \tweight_decay: 0.0001\n",
      "wandb: wandb version 0.12.11 is available!  To upgrade, please run:\n",
      "wandb:  $ pip install wandb --upgrade\n"
     ]
    },
    {
     "data": {
      "text/html": [
       "\n",
       "                Tracking run with wandb version 0.10.21<br/>\n",
       "                Syncing run <strong style=\"color:#cdcd00\">amber-sweep-8</strong> to <a href=\"https://wandb.ai\" target=\"_blank\">Weights & Biases</a> <a href=\"https://docs.wandb.com/integrations/jupyter.html\" target=\"_blank\">(Documentation)</a>.<br/>\n",
       "                Project page: <a href=\"https://wandb.ai/lubomirkurcak/matrix-factorization\" target=\"_blank\">https://wandb.ai/lubomirkurcak/matrix-factorization</a><br/>\n",
       "                Sweep page: <a href=\"https://wandb.ai/lubomirkurcak/matrix-factorization/sweeps/2q624iuc\" target=\"_blank\">https://wandb.ai/lubomirkurcak/matrix-factorization/sweeps/2q624iuc</a><br/>\n",
       "Run page: <a href=\"https://wandb.ai/lubomirkurcak/matrix-factorization/runs/ij2vxqx4\" target=\"_blank\">https://wandb.ai/lubomirkurcak/matrix-factorization/runs/ij2vxqx4</a><br/>\n",
       "                Run data is saved locally in <code>W:\\rpnn\\python\\wandb\\run-20220305_182127-ij2vxqx4</code><br/><br/>\n",
       "            "
      ],
      "text/plain": [
       "<IPython.core.display.HTML object>"
      ]
     },
     "metadata": {},
     "output_type": "display_data"
    },
    {
     "name": "stdout",
     "output_type": "stream",
     "text": [
      "cpfloat_validate_optstruct returned 0\n"
     ]
    },
    {
     "data": {
      "text/html": [
       "<br/>Waiting for W&B process to finish, PID 3132<br/>Program ended successfully."
      ],
      "text/plain": [
       "<IPython.core.display.HTML object>"
      ]
     },
     "metadata": {},
     "output_type": "display_data"
    },
    {
     "data": {
      "application/vnd.jupyter.widget-view+json": {
       "model_id": "",
       "version_major": 2,
       "version_minor": 0
      },
      "text/plain": [
       "VBox(children=(Label(value=' 0.00MB of 0.00MB uploaded (0.00MB deduped)\\r'), FloatProgress(value=1.0, max=1.0)…"
      ]
     },
     "metadata": {},
     "output_type": "display_data"
    },
    {
     "data": {
      "text/html": [
       "Find user logs for this run at: <code>W:\\rpnn\\python\\wandb\\run-20220305_182127-ij2vxqx4\\logs\\debug.log</code>"
      ],
      "text/plain": [
       "<IPython.core.display.HTML object>"
      ]
     },
     "metadata": {},
     "output_type": "display_data"
    },
    {
     "data": {
      "text/html": [
       "Find internal logs for this run at: <code>W:\\rpnn\\python\\wandb\\run-20220305_182127-ij2vxqx4\\logs\\debug-internal.log</code>"
      ],
      "text/plain": [
       "<IPython.core.display.HTML object>"
      ]
     },
     "metadata": {},
     "output_type": "display_data"
    },
    {
     "data": {
      "text/html": [
       "<h3>Run summary:</h3><br/><style>\n",
       "    table.wandb td:nth-child(1) { padding: 0 10px; text-align: right }\n",
       "    </style><table class=\"wandb\">\n",
       "<tr><td>squared_error</td><td>176.02018</td></tr><tr><td>_runtime</td><td>14</td></tr><tr><td>_timestamp</td><td>1646500901</td></tr><tr><td>_step</td><td>0</td></tr></table>"
      ],
      "text/plain": [
       "<IPython.core.display.HTML object>"
      ]
     },
     "metadata": {},
     "output_type": "display_data"
    },
    {
     "data": {
      "text/html": [
       "<h3>Run history:</h3><br/><style>\n",
       "    table.wandb td:nth-child(1) { padding: 0 10px; text-align: right }\n",
       "    </style><table class=\"wandb\">\n",
       "<tr><td>squared_error</td><td>▁</td></tr><tr><td>_runtime</td><td>▁</td></tr><tr><td>_timestamp</td><td>▁</td></tr><tr><td>_step</td><td>▁</td></tr></table><br/>"
      ],
      "text/plain": [
       "<IPython.core.display.HTML object>"
      ]
     },
     "metadata": {},
     "output_type": "display_data"
    },
    {
     "data": {
      "text/html": [
       "Synced 5 W&B file(s), 0 media file(s), 0 artifact file(s) and 0 other file(s)"
      ],
      "text/plain": [
       "<IPython.core.display.HTML object>"
      ]
     },
     "metadata": {},
     "output_type": "display_data"
    },
    {
     "data": {
      "text/html": [
       "\n",
       "                    <br/>Synced <strong style=\"color:#cdcd00\">amber-sweep-8</strong>: <a href=\"https://wandb.ai/lubomirkurcak/matrix-factorization/runs/ij2vxqx4\" target=\"_blank\">https://wandb.ai/lubomirkurcak/matrix-factorization/runs/ij2vxqx4</a><br/>\n",
       "                "
      ],
      "text/plain": [
       "<IPython.core.display.HTML object>"
      ]
     },
     "metadata": {},
     "output_type": "display_data"
    },
    {
     "name": "stderr",
     "output_type": "stream",
     "text": [
      "wandb: Agent Starting Run: g14hijxh with config:\n",
      "wandb: \tdropout_keep_p: 1\n",
      "wandb: \tepochs: 50000\n",
      "wandb: \tfeatures: 15\n",
      "wandb: \tfp_emax: 50\n",
      "wandb: \tfp_explim: CPFLOAT_EXPRANGE_TARG\n",
      "wandb: \tfp_flip: CPFLOAT_NO_SOFTERR\n",
      "wandb: \tfp_p: 0.10990408835215808\n",
      "wandb: \tfp_precision: 8\n",
      "wandb: \tfp_round: CPFLOAT_RND_NA\n",
      "wandb: \tfp_subnormal: CPFLOAT_SUBN_USE\n",
      "wandb: \tlearning_rate: 0.001\n",
      "wandb: \tloss: mean_squared_error\n",
      "wandb: \tmomentum_coefficient: 0\n",
      "wandb: \tnon_negative: True\n",
      "wandb: \tweight_decay: 0.0001\n",
      "wandb: wandb version 0.12.11 is available!  To upgrade, please run:\n",
      "wandb:  $ pip install wandb --upgrade\n"
     ]
    },
    {
     "data": {
      "text/html": [
       "\n",
       "                Tracking run with wandb version 0.10.21<br/>\n",
       "                Syncing run <strong style=\"color:#cdcd00\">mild-sweep-9</strong> to <a href=\"https://wandb.ai\" target=\"_blank\">Weights & Biases</a> <a href=\"https://docs.wandb.com/integrations/jupyter.html\" target=\"_blank\">(Documentation)</a>.<br/>\n",
       "                Project page: <a href=\"https://wandb.ai/lubomirkurcak/matrix-factorization\" target=\"_blank\">https://wandb.ai/lubomirkurcak/matrix-factorization</a><br/>\n",
       "                Sweep page: <a href=\"https://wandb.ai/lubomirkurcak/matrix-factorization/sweeps/2q624iuc\" target=\"_blank\">https://wandb.ai/lubomirkurcak/matrix-factorization/sweeps/2q624iuc</a><br/>\n",
       "Run page: <a href=\"https://wandb.ai/lubomirkurcak/matrix-factorization/runs/g14hijxh\" target=\"_blank\">https://wandb.ai/lubomirkurcak/matrix-factorization/runs/g14hijxh</a><br/>\n",
       "                Run data is saved locally in <code>W:\\rpnn\\python\\wandb\\run-20220305_182145-g14hijxh</code><br/><br/>\n",
       "            "
      ],
      "text/plain": [
       "<IPython.core.display.HTML object>"
      ]
     },
     "metadata": {},
     "output_type": "display_data"
    },
    {
     "name": "stdout",
     "output_type": "stream",
     "text": [
      "cpfloat_validate_optstruct returned 0\n"
     ]
    },
    {
     "data": {
      "text/html": [
       "<br/>Waiting for W&B process to finish, PID 26408<br/>Program ended successfully."
      ],
      "text/plain": [
       "<IPython.core.display.HTML object>"
      ]
     },
     "metadata": {},
     "output_type": "display_data"
    },
    {
     "data": {
      "application/vnd.jupyter.widget-view+json": {
       "model_id": "",
       "version_major": 2,
       "version_minor": 0
      },
      "text/plain": [
       "VBox(children=(Label(value=' 0.00MB of 0.00MB uploaded (0.00MB deduped)\\r'), FloatProgress(value=1.0, max=1.0)…"
      ]
     },
     "metadata": {},
     "output_type": "display_data"
    },
    {
     "data": {
      "text/html": [
       "Find user logs for this run at: <code>W:\\rpnn\\python\\wandb\\run-20220305_182145-g14hijxh\\logs\\debug.log</code>"
      ],
      "text/plain": [
       "<IPython.core.display.HTML object>"
      ]
     },
     "metadata": {},
     "output_type": "display_data"
    },
    {
     "data": {
      "text/html": [
       "Find internal logs for this run at: <code>W:\\rpnn\\python\\wandb\\run-20220305_182145-g14hijxh\\logs\\debug-internal.log</code>"
      ],
      "text/plain": [
       "<IPython.core.display.HTML object>"
      ]
     },
     "metadata": {},
     "output_type": "display_data"
    },
    {
     "data": {
      "text/html": [
       "<h3>Run summary:</h3><br/><style>\n",
       "    table.wandb td:nth-child(1) { padding: 0 10px; text-align: right }\n",
       "    </style><table class=\"wandb\">\n",
       "<tr><td>squared_error</td><td>683.37225</td></tr><tr><td>_runtime</td><td>17</td></tr><tr><td>_timestamp</td><td>1646500922</td></tr><tr><td>_step</td><td>0</td></tr></table>"
      ],
      "text/plain": [
       "<IPython.core.display.HTML object>"
      ]
     },
     "metadata": {},
     "output_type": "display_data"
    },
    {
     "data": {
      "text/html": [
       "<h3>Run history:</h3><br/><style>\n",
       "    table.wandb td:nth-child(1) { padding: 0 10px; text-align: right }\n",
       "    </style><table class=\"wandb\">\n",
       "<tr><td>squared_error</td><td>▁</td></tr><tr><td>_runtime</td><td>▁</td></tr><tr><td>_timestamp</td><td>▁</td></tr><tr><td>_step</td><td>▁</td></tr></table><br/>"
      ],
      "text/plain": [
       "<IPython.core.display.HTML object>"
      ]
     },
     "metadata": {},
     "output_type": "display_data"
    },
    {
     "data": {
      "text/html": [
       "Synced 5 W&B file(s), 0 media file(s), 0 artifact file(s) and 0 other file(s)"
      ],
      "text/plain": [
       "<IPython.core.display.HTML object>"
      ]
     },
     "metadata": {},
     "output_type": "display_data"
    },
    {
     "data": {
      "text/html": [
       "\n",
       "                    <br/>Synced <strong style=\"color:#cdcd00\">mild-sweep-9</strong>: <a href=\"https://wandb.ai/lubomirkurcak/matrix-factorization/runs/g14hijxh\" target=\"_blank\">https://wandb.ai/lubomirkurcak/matrix-factorization/runs/g14hijxh</a><br/>\n",
       "                "
      ],
      "text/plain": [
       "<IPython.core.display.HTML object>"
      ]
     },
     "metadata": {},
     "output_type": "display_data"
    },
    {
     "name": "stderr",
     "output_type": "stream",
     "text": [
      "wandb: Agent Starting Run: 4x7uo9bw with config:\n",
      "wandb: \tdropout_keep_p: 1\n",
      "wandb: \tepochs: 50000\n",
      "wandb: \tfeatures: 15\n",
      "wandb: \tfp_emax: 73\n",
      "wandb: \tfp_explim: CPFLOAT_EXPRANGE_TARG\n",
      "wandb: \tfp_flip: CPFLOAT_SOFTERR\n",
      "wandb: \tfp_p: 0.02925283525805361\n",
      "wandb: \tfp_precision: 6\n",
      "wandb: \tfp_round: CPFLOAT_RND_SE\n",
      "wandb: \tfp_subnormal: CPFLOAT_SUBN_RND\n",
      "wandb: \tlearning_rate: 0.001\n",
      "wandb: \tloss: mean_squared_error\n",
      "wandb: \tmomentum_coefficient: 0\n",
      "wandb: \tnon_negative: True\n",
      "wandb: \tweight_decay: 0.0001\n",
      "wandb: wandb version 0.12.11 is available!  To upgrade, please run:\n",
      "wandb:  $ pip install wandb --upgrade\n"
     ]
    },
    {
     "data": {
      "text/html": [
       "\n",
       "                Tracking run with wandb version 0.10.21<br/>\n",
       "                Syncing run <strong style=\"color:#cdcd00\">rose-sweep-10</strong> to <a href=\"https://wandb.ai\" target=\"_blank\">Weights & Biases</a> <a href=\"https://docs.wandb.com/integrations/jupyter.html\" target=\"_blank\">(Documentation)</a>.<br/>\n",
       "                Project page: <a href=\"https://wandb.ai/lubomirkurcak/matrix-factorization\" target=\"_blank\">https://wandb.ai/lubomirkurcak/matrix-factorization</a><br/>\n",
       "                Sweep page: <a href=\"https://wandb.ai/lubomirkurcak/matrix-factorization/sweeps/2q624iuc\" target=\"_blank\">https://wandb.ai/lubomirkurcak/matrix-factorization/sweeps/2q624iuc</a><br/>\n",
       "Run page: <a href=\"https://wandb.ai/lubomirkurcak/matrix-factorization/runs/4x7uo9bw\" target=\"_blank\">https://wandb.ai/lubomirkurcak/matrix-factorization/runs/4x7uo9bw</a><br/>\n",
       "                Run data is saved locally in <code>W:\\rpnn\\python\\wandb\\run-20220305_182208-4x7uo9bw</code><br/><br/>\n",
       "            "
      ],
      "text/plain": [
       "<IPython.core.display.HTML object>"
      ]
     },
     "metadata": {},
     "output_type": "display_data"
    },
    {
     "name": "stdout",
     "output_type": "stream",
     "text": [
      "cpfloat_validate_optstruct returned 0\n"
     ]
    },
    {
     "data": {
      "text/html": [
       "<br/>Waiting for W&B process to finish, PID 11352<br/>Program ended successfully."
      ],
      "text/plain": [
       "<IPython.core.display.HTML object>"
      ]
     },
     "metadata": {},
     "output_type": "display_data"
    },
    {
     "data": {
      "application/vnd.jupyter.widget-view+json": {
       "model_id": "",
       "version_major": 2,
       "version_minor": 0
      },
      "text/plain": [
       "VBox(children=(Label(value=' 0.00MB of 0.00MB uploaded (0.00MB deduped)\\r'), FloatProgress(value=1.0, max=1.0)…"
      ]
     },
     "metadata": {},
     "output_type": "display_data"
    },
    {
     "data": {
      "text/html": [
       "Find user logs for this run at: <code>W:\\rpnn\\python\\wandb\\run-20220305_182208-4x7uo9bw\\logs\\debug.log</code>"
      ],
      "text/plain": [
       "<IPython.core.display.HTML object>"
      ]
     },
     "metadata": {},
     "output_type": "display_data"
    },
    {
     "data": {
      "text/html": [
       "Find internal logs for this run at: <code>W:\\rpnn\\python\\wandb\\run-20220305_182208-4x7uo9bw\\logs\\debug-internal.log</code>"
      ],
      "text/plain": [
       "<IPython.core.display.HTML object>"
      ]
     },
     "metadata": {},
     "output_type": "display_data"
    },
    {
     "data": {
      "text/html": [
       "<h3>Run summary:</h3><br/><style>\n",
       "    table.wandb td:nth-child(1) { padding: 0 10px; text-align: right }\n",
       "    </style><table class=\"wandb\">\n",
       "<tr><td>squared_error</td><td>1984.8418</td></tr><tr><td>_runtime</td><td>24</td></tr><tr><td>_timestamp</td><td>1646500952</td></tr><tr><td>_step</td><td>0</td></tr></table>"
      ],
      "text/plain": [
       "<IPython.core.display.HTML object>"
      ]
     },
     "metadata": {},
     "output_type": "display_data"
    },
    {
     "data": {
      "text/html": [
       "<h3>Run history:</h3><br/><style>\n",
       "    table.wandb td:nth-child(1) { padding: 0 10px; text-align: right }\n",
       "    </style><table class=\"wandb\">\n",
       "<tr><td>squared_error</td><td>▁</td></tr><tr><td>_runtime</td><td>▁</td></tr><tr><td>_timestamp</td><td>▁</td></tr><tr><td>_step</td><td>▁</td></tr></table><br/>"
      ],
      "text/plain": [
       "<IPython.core.display.HTML object>"
      ]
     },
     "metadata": {},
     "output_type": "display_data"
    },
    {
     "data": {
      "text/html": [
       "Synced 5 W&B file(s), 0 media file(s), 0 artifact file(s) and 0 other file(s)"
      ],
      "text/plain": [
       "<IPython.core.display.HTML object>"
      ]
     },
     "metadata": {},
     "output_type": "display_data"
    },
    {
     "data": {
      "text/html": [
       "\n",
       "                    <br/>Synced <strong style=\"color:#cdcd00\">rose-sweep-10</strong>: <a href=\"https://wandb.ai/lubomirkurcak/matrix-factorization/runs/4x7uo9bw\" target=\"_blank\">https://wandb.ai/lubomirkurcak/matrix-factorization/runs/4x7uo9bw</a><br/>\n",
       "                "
      ],
      "text/plain": [
       "<IPython.core.display.HTML object>"
      ]
     },
     "metadata": {},
     "output_type": "display_data"
    },
    {
     "name": "stderr",
     "output_type": "stream",
     "text": [
      "wandb: Agent Starting Run: xotk7fst with config:\n",
      "wandb: \tdropout_keep_p: 1\n",
      "wandb: \tepochs: 50000\n",
      "wandb: \tfeatures: 15\n",
      "wandb: \tfp_emax: 92\n",
      "wandb: \tfp_explim: CPFLOAT_EXPRANGE_TARG\n",
      "wandb: \tfp_flip: CPFLOAT_NO_SOFTERR\n",
      "wandb: \tfp_p: 0.48127867031934174\n",
      "wandb: \tfp_precision: 19\n",
      "wandb: \tfp_round: CPFLOAT_RND_SP\n",
      "wandb: \tfp_subnormal: CPFLOAT_SUBN_RND\n",
      "wandb: \tlearning_rate: 0.001\n",
      "wandb: \tloss: mean_squared_error\n",
      "wandb: \tmomentum_coefficient: 0\n",
      "wandb: \tnon_negative: True\n",
      "wandb: \tweight_decay: 0.0001\n",
      "wandb: wandb version 0.12.11 is available!  To upgrade, please run:\n",
      "wandb:  $ pip install wandb --upgrade\n"
     ]
    },
    {
     "data": {
      "text/html": [
       "\n",
       "                Tracking run with wandb version 0.10.21<br/>\n",
       "                Syncing run <strong style=\"color:#cdcd00\">earthy-sweep-11</strong> to <a href=\"https://wandb.ai\" target=\"_blank\">Weights & Biases</a> <a href=\"https://docs.wandb.com/integrations/jupyter.html\" target=\"_blank\">(Documentation)</a>.<br/>\n",
       "                Project page: <a href=\"https://wandb.ai/lubomirkurcak/matrix-factorization\" target=\"_blank\">https://wandb.ai/lubomirkurcak/matrix-factorization</a><br/>\n",
       "                Sweep page: <a href=\"https://wandb.ai/lubomirkurcak/matrix-factorization/sweeps/2q624iuc\" target=\"_blank\">https://wandb.ai/lubomirkurcak/matrix-factorization/sweeps/2q624iuc</a><br/>\n",
       "Run page: <a href=\"https://wandb.ai/lubomirkurcak/matrix-factorization/runs/xotk7fst\" target=\"_blank\">https://wandb.ai/lubomirkurcak/matrix-factorization/runs/xotk7fst</a><br/>\n",
       "                Run data is saved locally in <code>W:\\rpnn\\python\\wandb\\run-20220305_182237-xotk7fst</code><br/><br/>\n",
       "            "
      ],
      "text/plain": [
       "<IPython.core.display.HTML object>"
      ]
     },
     "metadata": {},
     "output_type": "display_data"
    },
    {
     "name": "stdout",
     "output_type": "stream",
     "text": [
      "cpfloat_validate_optstruct returned 0\n"
     ]
    },
    {
     "data": {
      "text/html": [
       "<br/>Waiting for W&B process to finish, PID 11508<br/>Program ended successfully."
      ],
      "text/plain": [
       "<IPython.core.display.HTML object>"
      ]
     },
     "metadata": {},
     "output_type": "display_data"
    },
    {
     "data": {
      "application/vnd.jupyter.widget-view+json": {
       "model_id": "",
       "version_major": 2,
       "version_minor": 0
      },
      "text/plain": [
       "VBox(children=(Label(value=' 0.00MB of 0.00MB uploaded (0.00MB deduped)\\r'), FloatProgress(value=1.0, max=1.0)…"
      ]
     },
     "metadata": {},
     "output_type": "display_data"
    },
    {
     "data": {
      "text/html": [
       "Find user logs for this run at: <code>W:\\rpnn\\python\\wandb\\run-20220305_182237-xotk7fst\\logs\\debug.log</code>"
      ],
      "text/plain": [
       "<IPython.core.display.HTML object>"
      ]
     },
     "metadata": {},
     "output_type": "display_data"
    },
    {
     "data": {
      "text/html": [
       "Find internal logs for this run at: <code>W:\\rpnn\\python\\wandb\\run-20220305_182237-xotk7fst\\logs\\debug-internal.log</code>"
      ],
      "text/plain": [
       "<IPython.core.display.HTML object>"
      ]
     },
     "metadata": {},
     "output_type": "display_data"
    },
    {
     "data": {
      "text/html": [
       "<h3>Run summary:</h3><br/><style>\n",
       "    table.wandb td:nth-child(1) { padding: 0 10px; text-align: right }\n",
       "    </style><table class=\"wandb\">\n",
       "<tr><td>squared_error</td><td>189.09278</td></tr><tr><td>_runtime</td><td>26</td></tr><tr><td>_timestamp</td><td>1646500983</td></tr><tr><td>_step</td><td>0</td></tr></table>"
      ],
      "text/plain": [
       "<IPython.core.display.HTML object>"
      ]
     },
     "metadata": {},
     "output_type": "display_data"
    },
    {
     "data": {
      "text/html": [
       "<h3>Run history:</h3><br/><style>\n",
       "    table.wandb td:nth-child(1) { padding: 0 10px; text-align: right }\n",
       "    </style><table class=\"wandb\">\n",
       "<tr><td>squared_error</td><td>▁</td></tr><tr><td>_runtime</td><td>▁</td></tr><tr><td>_timestamp</td><td>▁</td></tr><tr><td>_step</td><td>▁</td></tr></table><br/>"
      ],
      "text/plain": [
       "<IPython.core.display.HTML object>"
      ]
     },
     "metadata": {},
     "output_type": "display_data"
    },
    {
     "data": {
      "text/html": [
       "Synced 5 W&B file(s), 0 media file(s), 0 artifact file(s) and 0 other file(s)"
      ],
      "text/plain": [
       "<IPython.core.display.HTML object>"
      ]
     },
     "metadata": {},
     "output_type": "display_data"
    },
    {
     "data": {
      "text/html": [
       "\n",
       "                    <br/>Synced <strong style=\"color:#cdcd00\">earthy-sweep-11</strong>: <a href=\"https://wandb.ai/lubomirkurcak/matrix-factorization/runs/xotk7fst\" target=\"_blank\">https://wandb.ai/lubomirkurcak/matrix-factorization/runs/xotk7fst</a><br/>\n",
       "                "
      ],
      "text/plain": [
       "<IPython.core.display.HTML object>"
      ]
     },
     "metadata": {},
     "output_type": "display_data"
    },
    {
     "name": "stderr",
     "output_type": "stream",
     "text": [
      "wandb: Agent Starting Run: tbi7jjmt with config:\n",
      "wandb: \tdropout_keep_p: 1\n",
      "wandb: \tepochs: 50000\n",
      "wandb: \tfeatures: 15\n",
      "wandb: \tfp_emax: 40\n",
      "wandb: \tfp_explim: CPFLOAT_EXPRANGE_STOR\n",
      "wandb: \tfp_flip: CPFLOAT_SOFTERR\n",
      "wandb: \tfp_p: 0.30349503461950345\n",
      "wandb: \tfp_precision: 24\n",
      "wandb: \tfp_round: CPFLOAT_RND_SE\n",
      "wandb: \tfp_subnormal: CPFLOAT_SUBN_USE\n",
      "wandb: \tlearning_rate: 0.001\n",
      "wandb: \tloss: mean_squared_error\n",
      "wandb: \tmomentum_coefficient: 0\n",
      "wandb: \tnon_negative: True\n",
      "wandb: \tweight_decay: 0.0001\n",
      "wandb: wandb version 0.12.11 is available!  To upgrade, please run:\n",
      "wandb:  $ pip install wandb --upgrade\n"
     ]
    },
    {
     "data": {
      "text/html": [
       "\n",
       "                Tracking run with wandb version 0.10.21<br/>\n",
       "                Syncing run <strong style=\"color:#cdcd00\">copper-sweep-12</strong> to <a href=\"https://wandb.ai\" target=\"_blank\">Weights & Biases</a> <a href=\"https://docs.wandb.com/integrations/jupyter.html\" target=\"_blank\">(Documentation)</a>.<br/>\n",
       "                Project page: <a href=\"https://wandb.ai/lubomirkurcak/matrix-factorization\" target=\"_blank\">https://wandb.ai/lubomirkurcak/matrix-factorization</a><br/>\n",
       "                Sweep page: <a href=\"https://wandb.ai/lubomirkurcak/matrix-factorization/sweeps/2q624iuc\" target=\"_blank\">https://wandb.ai/lubomirkurcak/matrix-factorization/sweeps/2q624iuc</a><br/>\n",
       "Run page: <a href=\"https://wandb.ai/lubomirkurcak/matrix-factorization/runs/tbi7jjmt\" target=\"_blank\">https://wandb.ai/lubomirkurcak/matrix-factorization/runs/tbi7jjmt</a><br/>\n",
       "                Run data is saved locally in <code>W:\\rpnn\\python\\wandb\\run-20220305_182307-tbi7jjmt</code><br/><br/>\n",
       "            "
      ],
      "text/plain": [
       "<IPython.core.display.HTML object>"
      ]
     },
     "metadata": {},
     "output_type": "display_data"
    },
    {
     "name": "stdout",
     "output_type": "stream",
     "text": [
      "cpfloat_validate_optstruct returned 0\n"
     ]
    },
    {
     "data": {
      "text/html": [
       "<br/>Waiting for W&B process to finish, PID 10832<br/>Program ended successfully."
      ],
      "text/plain": [
       "<IPython.core.display.HTML object>"
      ]
     },
     "metadata": {},
     "output_type": "display_data"
    },
    {
     "data": {
      "application/vnd.jupyter.widget-view+json": {
       "model_id": "",
       "version_major": 2,
       "version_minor": 0
      },
      "text/plain": [
       "VBox(children=(Label(value=' 0.00MB of 0.00MB uploaded (0.00MB deduped)\\r'), FloatProgress(value=1.0, max=1.0)…"
      ]
     },
     "metadata": {},
     "output_type": "display_data"
    },
    {
     "data": {
      "text/html": [
       "Find user logs for this run at: <code>W:\\rpnn\\python\\wandb\\run-20220305_182307-tbi7jjmt\\logs\\debug.log</code>"
      ],
      "text/plain": [
       "<IPython.core.display.HTML object>"
      ]
     },
     "metadata": {},
     "output_type": "display_data"
    },
    {
     "data": {
      "text/html": [
       "Find internal logs for this run at: <code>W:\\rpnn\\python\\wandb\\run-20220305_182307-tbi7jjmt\\logs\\debug-internal.log</code>"
      ],
      "text/plain": [
       "<IPython.core.display.HTML object>"
      ]
     },
     "metadata": {},
     "output_type": "display_data"
    },
    {
     "data": {
      "text/html": [
       "<h3>Run summary:</h3><br/><style>\n",
       "    table.wandb td:nth-child(1) { padding: 0 10px; text-align: right }\n",
       "    </style><table class=\"wandb\">\n",
       "<tr><td>squared_error</td><td>179.79921</td></tr><tr><td>_runtime</td><td>26</td></tr><tr><td>_timestamp</td><td>1646501013</td></tr><tr><td>_step</td><td>0</td></tr></table>"
      ],
      "text/plain": [
       "<IPython.core.display.HTML object>"
      ]
     },
     "metadata": {},
     "output_type": "display_data"
    },
    {
     "data": {
      "text/html": [
       "<h3>Run history:</h3><br/><style>\n",
       "    table.wandb td:nth-child(1) { padding: 0 10px; text-align: right }\n",
       "    </style><table class=\"wandb\">\n",
       "<tr><td>squared_error</td><td>▁</td></tr><tr><td>_runtime</td><td>▁</td></tr><tr><td>_timestamp</td><td>▁</td></tr><tr><td>_step</td><td>▁</td></tr></table><br/>"
      ],
      "text/plain": [
       "<IPython.core.display.HTML object>"
      ]
     },
     "metadata": {},
     "output_type": "display_data"
    },
    {
     "data": {
      "text/html": [
       "Synced 5 W&B file(s), 0 media file(s), 0 artifact file(s) and 0 other file(s)"
      ],
      "text/plain": [
       "<IPython.core.display.HTML object>"
      ]
     },
     "metadata": {},
     "output_type": "display_data"
    },
    {
     "data": {
      "text/html": [
       "\n",
       "                    <br/>Synced <strong style=\"color:#cdcd00\">copper-sweep-12</strong>: <a href=\"https://wandb.ai/lubomirkurcak/matrix-factorization/runs/tbi7jjmt\" target=\"_blank\">https://wandb.ai/lubomirkurcak/matrix-factorization/runs/tbi7jjmt</a><br/>\n",
       "                "
      ],
      "text/plain": [
       "<IPython.core.display.HTML object>"
      ]
     },
     "metadata": {},
     "output_type": "display_data"
    },
    {
     "name": "stderr",
     "output_type": "stream",
     "text": [
      "wandb: Agent Starting Run: r6u6h6md with config:\n",
      "wandb: \tdropout_keep_p: 1\n",
      "wandb: \tepochs: 50000\n",
      "wandb: \tfeatures: 15\n",
      "wandb: \tfp_emax: 46\n",
      "wandb: \tfp_explim: CPFLOAT_EXPRANGE_TARG\n",
      "wandb: \tfp_flip: CPFLOAT_SOFTERR\n",
      "wandb: \tfp_p: 0.3928995780218307\n",
      "wandb: \tfp_precision: 11\n",
      "wandb: \tfp_round: CPFLOAT_NO_RND\n",
      "wandb: \tfp_subnormal: CPFLOAT_SUBN_RND\n",
      "wandb: \tlearning_rate: 0.001\n",
      "wandb: \tloss: mean_squared_error\n",
      "wandb: \tmomentum_coefficient: 0\n",
      "wandb: \tnon_negative: True\n",
      "wandb: \tweight_decay: 0.0001\n",
      "wandb: wandb version 0.12.11 is available!  To upgrade, please run:\n",
      "wandb:  $ pip install wandb --upgrade\n"
     ]
    },
    {
     "data": {
      "text/html": [
       "\n",
       "                Tracking run with wandb version 0.10.21<br/>\n",
       "                Syncing run <strong style=\"color:#cdcd00\">young-sweep-13</strong> to <a href=\"https://wandb.ai\" target=\"_blank\">Weights & Biases</a> <a href=\"https://docs.wandb.com/integrations/jupyter.html\" target=\"_blank\">(Documentation)</a>.<br/>\n",
       "                Project page: <a href=\"https://wandb.ai/lubomirkurcak/matrix-factorization\" target=\"_blank\">https://wandb.ai/lubomirkurcak/matrix-factorization</a><br/>\n",
       "                Sweep page: <a href=\"https://wandb.ai/lubomirkurcak/matrix-factorization/sweeps/2q624iuc\" target=\"_blank\">https://wandb.ai/lubomirkurcak/matrix-factorization/sweeps/2q624iuc</a><br/>\n",
       "Run page: <a href=\"https://wandb.ai/lubomirkurcak/matrix-factorization/runs/r6u6h6md\" target=\"_blank\">https://wandb.ai/lubomirkurcak/matrix-factorization/runs/r6u6h6md</a><br/>\n",
       "                Run data is saved locally in <code>W:\\rpnn\\python\\wandb\\run-20220305_182337-r6u6h6md</code><br/><br/>\n",
       "            "
      ],
      "text/plain": [
       "<IPython.core.display.HTML object>"
      ]
     },
     "metadata": {},
     "output_type": "display_data"
    },
    {
     "name": "stdout",
     "output_type": "stream",
     "text": [
      "cpfloat_validate_optstruct returned -4\n"
     ]
    },
    {
     "data": {
      "text/html": [
       "<br/>Waiting for W&B process to finish, PID 15112<br/>Program ended successfully."
      ],
      "text/plain": [
       "<IPython.core.display.HTML object>"
      ]
     },
     "metadata": {},
     "output_type": "display_data"
    },
    {
     "data": {
      "application/vnd.jupyter.widget-view+json": {
       "model_id": "",
       "version_major": 2,
       "version_minor": 0
      },
      "text/plain": [
       "VBox(children=(Label(value=' 0.00MB of 0.00MB uploaded (0.00MB deduped)\\r'), FloatProgress(value=1.0, max=1.0)…"
      ]
     },
     "metadata": {},
     "output_type": "display_data"
    },
    {
     "data": {
      "text/html": [
       "Find user logs for this run at: <code>W:\\rpnn\\python\\wandb\\run-20220305_182337-r6u6h6md\\logs\\debug.log</code>"
      ],
      "text/plain": [
       "<IPython.core.display.HTML object>"
      ]
     },
     "metadata": {},
     "output_type": "display_data"
    },
    {
     "data": {
      "text/html": [
       "Find internal logs for this run at: <code>W:\\rpnn\\python\\wandb\\run-20220305_182337-r6u6h6md\\logs\\debug-internal.log</code>"
      ],
      "text/plain": [
       "<IPython.core.display.HTML object>"
      ]
     },
     "metadata": {},
     "output_type": "display_data"
    },
    {
     "data": {
      "text/html": [
       "<h3>Run summary:</h3><br/><style>\n",
       "    table.wandb td:nth-child(1) { padding: 0 10px; text-align: right }\n",
       "    </style><table class=\"wandb\">\n",
       "<tr><td>squared_error</td><td>175.47093</td></tr><tr><td>_runtime</td><td>19</td></tr><tr><td>_timestamp</td><td>1646501037</td></tr><tr><td>_step</td><td>0</td></tr></table>"
      ],
      "text/plain": [
       "<IPython.core.display.HTML object>"
      ]
     },
     "metadata": {},
     "output_type": "display_data"
    },
    {
     "data": {
      "text/html": [
       "<h3>Run history:</h3><br/><style>\n",
       "    table.wandb td:nth-child(1) { padding: 0 10px; text-align: right }\n",
       "    </style><table class=\"wandb\">\n",
       "<tr><td>squared_error</td><td>▁</td></tr><tr><td>_runtime</td><td>▁</td></tr><tr><td>_timestamp</td><td>▁</td></tr><tr><td>_step</td><td>▁</td></tr></table><br/>"
      ],
      "text/plain": [
       "<IPython.core.display.HTML object>"
      ]
     },
     "metadata": {},
     "output_type": "display_data"
    },
    {
     "data": {
      "text/html": [
       "Synced 5 W&B file(s), 0 media file(s), 0 artifact file(s) and 0 other file(s)"
      ],
      "text/plain": [
       "<IPython.core.display.HTML object>"
      ]
     },
     "metadata": {},
     "output_type": "display_data"
    },
    {
     "data": {
      "text/html": [
       "\n",
       "                    <br/>Synced <strong style=\"color:#cdcd00\">young-sweep-13</strong>: <a href=\"https://wandb.ai/lubomirkurcak/matrix-factorization/runs/r6u6h6md\" target=\"_blank\">https://wandb.ai/lubomirkurcak/matrix-factorization/runs/r6u6h6md</a><br/>\n",
       "                "
      ],
      "text/plain": [
       "<IPython.core.display.HTML object>"
      ]
     },
     "metadata": {},
     "output_type": "display_data"
    },
    {
     "name": "stderr",
     "output_type": "stream",
     "text": [
      "wandb: Agent Starting Run: 1g8kw4zq with config:\n",
      "wandb: \tdropout_keep_p: 1\n",
      "wandb: \tepochs: 50000\n",
      "wandb: \tfeatures: 15\n",
      "wandb: \tfp_emax: 35\n",
      "wandb: \tfp_explim: CPFLOAT_EXPRANGE_TARG\n",
      "wandb: \tfp_flip: CPFLOAT_SOFTERR\n",
      "wandb: \tfp_p: 0.3573556299289977\n",
      "wandb: \tfp_precision: 18\n",
      "wandb: \tfp_round: CPFLOAT_RND_NZ\n",
      "wandb: \tfp_subnormal: CPFLOAT_SUBN_RND\n",
      "wandb: \tlearning_rate: 0.001\n",
      "wandb: \tloss: mean_squared_error\n",
      "wandb: \tmomentum_coefficient: 0\n",
      "wandb: \tnon_negative: True\n",
      "wandb: \tweight_decay: 0.0001\n",
      "wandb: wandb version 0.12.11 is available!  To upgrade, please run:\n",
      "wandb:  $ pip install wandb --upgrade\n"
     ]
    },
    {
     "data": {
      "text/html": [
       "\n",
       "                Tracking run with wandb version 0.10.21<br/>\n",
       "                Syncing run <strong style=\"color:#cdcd00\">frosty-sweep-14</strong> to <a href=\"https://wandb.ai\" target=\"_blank\">Weights & Biases</a> <a href=\"https://docs.wandb.com/integrations/jupyter.html\" target=\"_blank\">(Documentation)</a>.<br/>\n",
       "                Project page: <a href=\"https://wandb.ai/lubomirkurcak/matrix-factorization\" target=\"_blank\">https://wandb.ai/lubomirkurcak/matrix-factorization</a><br/>\n",
       "                Sweep page: <a href=\"https://wandb.ai/lubomirkurcak/matrix-factorization/sweeps/2q624iuc\" target=\"_blank\">https://wandb.ai/lubomirkurcak/matrix-factorization/sweeps/2q624iuc</a><br/>\n",
       "Run page: <a href=\"https://wandb.ai/lubomirkurcak/matrix-factorization/runs/1g8kw4zq\" target=\"_blank\">https://wandb.ai/lubomirkurcak/matrix-factorization/runs/1g8kw4zq</a><br/>\n",
       "                Run data is saved locally in <code>W:\\rpnn\\python\\wandb\\run-20220305_182401-1g8kw4zq</code><br/><br/>\n",
       "            "
      ],
      "text/plain": [
       "<IPython.core.display.HTML object>"
      ]
     },
     "metadata": {},
     "output_type": "display_data"
    },
    {
     "name": "stdout",
     "output_type": "stream",
     "text": [
      "cpfloat_validate_optstruct returned 0\n"
     ]
    },
    {
     "data": {
      "text/html": [
       "<br/>Waiting for W&B process to finish, PID 19624<br/>Program ended successfully."
      ],
      "text/plain": [
       "<IPython.core.display.HTML object>"
      ]
     },
     "metadata": {},
     "output_type": "display_data"
    },
    {
     "data": {
      "application/vnd.jupyter.widget-view+json": {
       "model_id": "",
       "version_major": 2,
       "version_minor": 0
      },
      "text/plain": [
       "VBox(children=(Label(value=' 0.00MB of 0.00MB uploaded (0.00MB deduped)\\r'), FloatProgress(value=1.0, max=1.0)…"
      ]
     },
     "metadata": {},
     "output_type": "display_data"
    },
    {
     "data": {
      "text/html": [
       "Find user logs for this run at: <code>W:\\rpnn\\python\\wandb\\run-20220305_182401-1g8kw4zq\\logs\\debug.log</code>"
      ],
      "text/plain": [
       "<IPython.core.display.HTML object>"
      ]
     },
     "metadata": {},
     "output_type": "display_data"
    },
    {
     "data": {
      "text/html": [
       "Find internal logs for this run at: <code>W:\\rpnn\\python\\wandb\\run-20220305_182401-1g8kw4zq\\logs\\debug-internal.log</code>"
      ],
      "text/plain": [
       "<IPython.core.display.HTML object>"
      ]
     },
     "metadata": {},
     "output_type": "display_data"
    },
    {
     "data": {
      "text/html": [
       "<h3>Run summary:</h3><br/><style>\n",
       "    table.wandb td:nth-child(1) { padding: 0 10px; text-align: right }\n",
       "    </style><table class=\"wandb\">\n",
       "<tr><td>squared_error</td><td>175.29889</td></tr><tr><td>_runtime</td><td>21</td></tr><tr><td>_timestamp</td><td>1646501062</td></tr><tr><td>_step</td><td>0</td></tr></table>"
      ],
      "text/plain": [
       "<IPython.core.display.HTML object>"
      ]
     },
     "metadata": {},
     "output_type": "display_data"
    },
    {
     "data": {
      "text/html": [
       "<h3>Run history:</h3><br/><style>\n",
       "    table.wandb td:nth-child(1) { padding: 0 10px; text-align: right }\n",
       "    </style><table class=\"wandb\">\n",
       "<tr><td>squared_error</td><td>▁</td></tr><tr><td>_runtime</td><td>▁</td></tr><tr><td>_timestamp</td><td>▁</td></tr><tr><td>_step</td><td>▁</td></tr></table><br/>"
      ],
      "text/plain": [
       "<IPython.core.display.HTML object>"
      ]
     },
     "metadata": {},
     "output_type": "display_data"
    },
    {
     "data": {
      "text/html": [
       "Synced 5 W&B file(s), 0 media file(s), 0 artifact file(s) and 0 other file(s)"
      ],
      "text/plain": [
       "<IPython.core.display.HTML object>"
      ]
     },
     "metadata": {},
     "output_type": "display_data"
    },
    {
     "data": {
      "text/html": [
       "\n",
       "                    <br/>Synced <strong style=\"color:#cdcd00\">frosty-sweep-14</strong>: <a href=\"https://wandb.ai/lubomirkurcak/matrix-factorization/runs/1g8kw4zq\" target=\"_blank\">https://wandb.ai/lubomirkurcak/matrix-factorization/runs/1g8kw4zq</a><br/>\n",
       "                "
      ],
      "text/plain": [
       "<IPython.core.display.HTML object>"
      ]
     },
     "metadata": {},
     "output_type": "display_data"
    },
    {
     "name": "stderr",
     "output_type": "stream",
     "text": [
      "wandb: Agent Starting Run: fwhpsmv2 with config:\n",
      "wandb: \tdropout_keep_p: 1\n",
      "wandb: \tepochs: 50000\n",
      "wandb: \tfeatures: 15\n",
      "wandb: \tfp_emax: 87\n",
      "wandb: \tfp_explim: CPFLOAT_EXPRANGE_TARG\n",
      "wandb: \tfp_flip: CPFLOAT_SOFTERR\n",
      "wandb: \tfp_p: 0.492431983842793\n",
      "wandb: \tfp_precision: 22\n",
      "wandb: \tfp_round: CPFLOAT_NO_RND\n",
      "wandb: \tfp_subnormal: CPFLOAT_SUBN_RND\n",
      "wandb: \tlearning_rate: 0.001\n",
      "wandb: \tloss: mean_squared_error\n",
      "wandb: \tmomentum_coefficient: 0\n",
      "wandb: \tnon_negative: True\n",
      "wandb: \tweight_decay: 0.0001\n",
      "wandb: wandb version 0.12.11 is available!  To upgrade, please run:\n",
      "wandb:  $ pip install wandb --upgrade\n"
     ]
    },
    {
     "data": {
      "text/html": [
       "\n",
       "                Tracking run with wandb version 0.10.21<br/>\n",
       "                Syncing run <strong style=\"color:#cdcd00\">hardy-sweep-15</strong> to <a href=\"https://wandb.ai\" target=\"_blank\">Weights & Biases</a> <a href=\"https://docs.wandb.com/integrations/jupyter.html\" target=\"_blank\">(Documentation)</a>.<br/>\n",
       "                Project page: <a href=\"https://wandb.ai/lubomirkurcak/matrix-factorization\" target=\"_blank\">https://wandb.ai/lubomirkurcak/matrix-factorization</a><br/>\n",
       "                Sweep page: <a href=\"https://wandb.ai/lubomirkurcak/matrix-factorization/sweeps/2q624iuc\" target=\"_blank\">https://wandb.ai/lubomirkurcak/matrix-factorization/sweeps/2q624iuc</a><br/>\n",
       "Run page: <a href=\"https://wandb.ai/lubomirkurcak/matrix-factorization/runs/fwhpsmv2\" target=\"_blank\">https://wandb.ai/lubomirkurcak/matrix-factorization/runs/fwhpsmv2</a><br/>\n",
       "                Run data is saved locally in <code>W:\\rpnn\\python\\wandb\\run-20220305_182426-fwhpsmv2</code><br/><br/>\n",
       "            "
      ],
      "text/plain": [
       "<IPython.core.display.HTML object>"
      ]
     },
     "metadata": {},
     "output_type": "display_data"
    },
    {
     "name": "stdout",
     "output_type": "stream",
     "text": [
      "cpfloat_validate_optstruct returned -4\n"
     ]
    },
    {
     "data": {
      "text/html": [
       "<br/>Waiting for W&B process to finish, PID 14296<br/>Program ended successfully."
      ],
      "text/plain": [
       "<IPython.core.display.HTML object>"
      ]
     },
     "metadata": {},
     "output_type": "display_data"
    },
    {
     "data": {
      "application/vnd.jupyter.widget-view+json": {
       "model_id": "",
       "version_major": 2,
       "version_minor": 0
      },
      "text/plain": [
       "VBox(children=(Label(value=' 0.00MB of 0.00MB uploaded (0.00MB deduped)\\r'), FloatProgress(value=1.0, max=1.0)…"
      ]
     },
     "metadata": {},
     "output_type": "display_data"
    },
    {
     "data": {
      "text/html": [
       "Find user logs for this run at: <code>W:\\rpnn\\python\\wandb\\run-20220305_182426-fwhpsmv2\\logs\\debug.log</code>"
      ],
      "text/plain": [
       "<IPython.core.display.HTML object>"
      ]
     },
     "metadata": {},
     "output_type": "display_data"
    },
    {
     "data": {
      "text/html": [
       "Find internal logs for this run at: <code>W:\\rpnn\\python\\wandb\\run-20220305_182426-fwhpsmv2\\logs\\debug-internal.log</code>"
      ],
      "text/plain": [
       "<IPython.core.display.HTML object>"
      ]
     },
     "metadata": {},
     "output_type": "display_data"
    },
    {
     "data": {
      "text/html": [
       "<h3>Run summary:</h3><br/><style>\n",
       "    table.wandb td:nth-child(1) { padding: 0 10px; text-align: right }\n",
       "    </style><table class=\"wandb\">\n",
       "<tr><td>squared_error</td><td>171.13861</td></tr><tr><td>_runtime</td><td>19</td></tr><tr><td>_timestamp</td><td>1646501086</td></tr><tr><td>_step</td><td>0</td></tr></table>"
      ],
      "text/plain": [
       "<IPython.core.display.HTML object>"
      ]
     },
     "metadata": {},
     "output_type": "display_data"
    },
    {
     "data": {
      "text/html": [
       "<h3>Run history:</h3><br/><style>\n",
       "    table.wandb td:nth-child(1) { padding: 0 10px; text-align: right }\n",
       "    </style><table class=\"wandb\">\n",
       "<tr><td>squared_error</td><td>▁</td></tr><tr><td>_runtime</td><td>▁</td></tr><tr><td>_timestamp</td><td>▁</td></tr><tr><td>_step</td><td>▁</td></tr></table><br/>"
      ],
      "text/plain": [
       "<IPython.core.display.HTML object>"
      ]
     },
     "metadata": {},
     "output_type": "display_data"
    },
    {
     "data": {
      "text/html": [
       "Synced 5 W&B file(s), 0 media file(s), 0 artifact file(s) and 0 other file(s)"
      ],
      "text/plain": [
       "<IPython.core.display.HTML object>"
      ]
     },
     "metadata": {},
     "output_type": "display_data"
    },
    {
     "data": {
      "text/html": [
       "\n",
       "                    <br/>Synced <strong style=\"color:#cdcd00\">hardy-sweep-15</strong>: <a href=\"https://wandb.ai/lubomirkurcak/matrix-factorization/runs/fwhpsmv2\" target=\"_blank\">https://wandb.ai/lubomirkurcak/matrix-factorization/runs/fwhpsmv2</a><br/>\n",
       "                "
      ],
      "text/plain": [
       "<IPython.core.display.HTML object>"
      ]
     },
     "metadata": {},
     "output_type": "display_data"
    },
    {
     "name": "stderr",
     "output_type": "stream",
     "text": [
      "wandb: Agent Starting Run: ubgyi3b1 with config:\n",
      "wandb: \tdropout_keep_p: 1\n",
      "wandb: \tepochs: 50000\n",
      "wandb: \tfeatures: 15\n",
      "wandb: \tfp_emax: 86\n",
      "wandb: \tfp_explim: CPFLOAT_EXPRANGE_STOR\n",
      "wandb: \tfp_flip: CPFLOAT_NO_SOFTERR\n",
      "wandb: \tfp_p: 0.37849136190214494\n",
      "wandb: \tfp_precision: 17\n",
      "wandb: \tfp_round: CPFLOAT_RND_OD\n",
      "wandb: \tfp_subnormal: CPFLOAT_SUBN_USE\n",
      "wandb: \tlearning_rate: 0.001\n",
      "wandb: \tloss: mean_squared_error\n",
      "wandb: \tmomentum_coefficient: 0\n",
      "wandb: \tnon_negative: True\n",
      "wandb: \tweight_decay: 0.0001\n",
      "wandb: wandb version 0.12.11 is available!  To upgrade, please run:\n",
      "wandb:  $ pip install wandb --upgrade\n"
     ]
    },
    {
     "data": {
      "text/html": [
       "\n",
       "                Tracking run with wandb version 0.10.21<br/>\n",
       "                Syncing run <strong style=\"color:#cdcd00\">glorious-sweep-16</strong> to <a href=\"https://wandb.ai\" target=\"_blank\">Weights & Biases</a> <a href=\"https://docs.wandb.com/integrations/jupyter.html\" target=\"_blank\">(Documentation)</a>.<br/>\n",
       "                Project page: <a href=\"https://wandb.ai/lubomirkurcak/matrix-factorization\" target=\"_blank\">https://wandb.ai/lubomirkurcak/matrix-factorization</a><br/>\n",
       "                Sweep page: <a href=\"https://wandb.ai/lubomirkurcak/matrix-factorization/sweeps/2q624iuc\" target=\"_blank\">https://wandb.ai/lubomirkurcak/matrix-factorization/sweeps/2q624iuc</a><br/>\n",
       "Run page: <a href=\"https://wandb.ai/lubomirkurcak/matrix-factorization/runs/ubgyi3b1\" target=\"_blank\">https://wandb.ai/lubomirkurcak/matrix-factorization/runs/ubgyi3b1</a><br/>\n",
       "                Run data is saved locally in <code>W:\\rpnn\\python\\wandb\\run-20220305_182450-ubgyi3b1</code><br/><br/>\n",
       "            "
      ],
      "text/plain": [
       "<IPython.core.display.HTML object>"
      ]
     },
     "metadata": {},
     "output_type": "display_data"
    },
    {
     "name": "stdout",
     "output_type": "stream",
     "text": [
      "cpfloat_validate_optstruct returned 0\n"
     ]
    },
    {
     "data": {
      "text/html": [
       "<br/>Waiting for W&B process to finish, PID 10060<br/>Program ended successfully."
      ],
      "text/plain": [
       "<IPython.core.display.HTML object>"
      ]
     },
     "metadata": {},
     "output_type": "display_data"
    },
    {
     "data": {
      "application/vnd.jupyter.widget-view+json": {
       "model_id": "",
       "version_major": 2,
       "version_minor": 0
      },
      "text/plain": [
       "VBox(children=(Label(value=' 0.00MB of 0.00MB uploaded (0.00MB deduped)\\r'), FloatProgress(value=1.0, max=1.0)…"
      ]
     },
     "metadata": {},
     "output_type": "display_data"
    },
    {
     "data": {
      "text/html": [
       "Find user logs for this run at: <code>W:\\rpnn\\python\\wandb\\run-20220305_182450-ubgyi3b1\\logs\\debug.log</code>"
      ],
      "text/plain": [
       "<IPython.core.display.HTML object>"
      ]
     },
     "metadata": {},
     "output_type": "display_data"
    },
    {
     "data": {
      "text/html": [
       "Find internal logs for this run at: <code>W:\\rpnn\\python\\wandb\\run-20220305_182450-ubgyi3b1\\logs\\debug-internal.log</code>"
      ],
      "text/plain": [
       "<IPython.core.display.HTML object>"
      ]
     },
     "metadata": {},
     "output_type": "display_data"
    },
    {
     "data": {
      "text/html": [
       "<h3>Run summary:</h3><br/><style>\n",
       "    table.wandb td:nth-child(1) { padding: 0 10px; text-align: right }\n",
       "    </style><table class=\"wandb\">\n",
       "<tr><td>squared_error</td><td>171.76309</td></tr><tr><td>_runtime</td><td>17</td></tr><tr><td>_timestamp</td><td>1646501107</td></tr><tr><td>_step</td><td>0</td></tr></table>"
      ],
      "text/plain": [
       "<IPython.core.display.HTML object>"
      ]
     },
     "metadata": {},
     "output_type": "display_data"
    },
    {
     "data": {
      "text/html": [
       "<h3>Run history:</h3><br/><style>\n",
       "    table.wandb td:nth-child(1) { padding: 0 10px; text-align: right }\n",
       "    </style><table class=\"wandb\">\n",
       "<tr><td>squared_error</td><td>▁</td></tr><tr><td>_runtime</td><td>▁</td></tr><tr><td>_timestamp</td><td>▁</td></tr><tr><td>_step</td><td>▁</td></tr></table><br/>"
      ],
      "text/plain": [
       "<IPython.core.display.HTML object>"
      ]
     },
     "metadata": {},
     "output_type": "display_data"
    },
    {
     "data": {
      "text/html": [
       "Synced 5 W&B file(s), 0 media file(s), 0 artifact file(s) and 0 other file(s)"
      ],
      "text/plain": [
       "<IPython.core.display.HTML object>"
      ]
     },
     "metadata": {},
     "output_type": "display_data"
    },
    {
     "data": {
      "text/html": [
       "\n",
       "                    <br/>Synced <strong style=\"color:#cdcd00\">glorious-sweep-16</strong>: <a href=\"https://wandb.ai/lubomirkurcak/matrix-factorization/runs/ubgyi3b1\" target=\"_blank\">https://wandb.ai/lubomirkurcak/matrix-factorization/runs/ubgyi3b1</a><br/>\n",
       "                "
      ],
      "text/plain": [
       "<IPython.core.display.HTML object>"
      ]
     },
     "metadata": {},
     "output_type": "display_data"
    },
    {
     "name": "stderr",
     "output_type": "stream",
     "text": [
      "wandb: Agent Starting Run: xnbu0tfg with config:\n",
      "wandb: \tdropout_keep_p: 1\n",
      "wandb: \tepochs: 50000\n",
      "wandb: \tfeatures: 15\n",
      "wandb: \tfp_emax: 108\n",
      "wandb: \tfp_explim: CPFLOAT_EXPRANGE_TARG\n",
      "wandb: \tfp_flip: CPFLOAT_SOFTERR\n",
      "wandb: \tfp_p: 0.06542814966820343\n",
      "wandb: \tfp_precision: 23\n",
      "wandb: \tfp_round: CPFLOAT_RND_TN\n",
      "wandb: \tfp_subnormal: CPFLOAT_SUBN_RND\n",
      "wandb: \tlearning_rate: 0.001\n",
      "wandb: \tloss: mean_squared_error\n",
      "wandb: \tmomentum_coefficient: 0\n",
      "wandb: \tnon_negative: True\n",
      "wandb: \tweight_decay: 0.0001\n",
      "wandb: wandb version 0.12.11 is available!  To upgrade, please run:\n",
      "wandb:  $ pip install wandb --upgrade\n"
     ]
    },
    {
     "data": {
      "text/html": [
       "\n",
       "                Tracking run with wandb version 0.10.21<br/>\n",
       "                Syncing run <strong style=\"color:#cdcd00\">splendid-sweep-17</strong> to <a href=\"https://wandb.ai\" target=\"_blank\">Weights & Biases</a> <a href=\"https://docs.wandb.com/integrations/jupyter.html\" target=\"_blank\">(Documentation)</a>.<br/>\n",
       "                Project page: <a href=\"https://wandb.ai/lubomirkurcak/matrix-factorization\" target=\"_blank\">https://wandb.ai/lubomirkurcak/matrix-factorization</a><br/>\n",
       "                Sweep page: <a href=\"https://wandb.ai/lubomirkurcak/matrix-factorization/sweeps/2q624iuc\" target=\"_blank\">https://wandb.ai/lubomirkurcak/matrix-factorization/sweeps/2q624iuc</a><br/>\n",
       "Run page: <a href=\"https://wandb.ai/lubomirkurcak/matrix-factorization/runs/xnbu0tfg\" target=\"_blank\">https://wandb.ai/lubomirkurcak/matrix-factorization/runs/xnbu0tfg</a><br/>\n",
       "                Run data is saved locally in <code>W:\\rpnn\\python\\wandb\\run-20220305_182511-xnbu0tfg</code><br/><br/>\n",
       "            "
      ],
      "text/plain": [
       "<IPython.core.display.HTML object>"
      ]
     },
     "metadata": {},
     "output_type": "display_data"
    },
    {
     "name": "stdout",
     "output_type": "stream",
     "text": [
      "cpfloat_validate_optstruct returned 0\n"
     ]
    },
    {
     "data": {
      "text/html": [
       "<br/>Waiting for W&B process to finish, PID 21652<br/>Program ended successfully."
      ],
      "text/plain": [
       "<IPython.core.display.HTML object>"
      ]
     },
     "metadata": {},
     "output_type": "display_data"
    },
    {
     "data": {
      "application/vnd.jupyter.widget-view+json": {
       "model_id": "",
       "version_major": 2,
       "version_minor": 0
      },
      "text/plain": [
       "VBox(children=(Label(value=' 0.00MB of 0.00MB uploaded (0.00MB deduped)\\r'), FloatProgress(value=1.0, max=1.0)…"
      ]
     },
     "metadata": {},
     "output_type": "display_data"
    },
    {
     "data": {
      "text/html": [
       "Find user logs for this run at: <code>W:\\rpnn\\python\\wandb\\run-20220305_182511-xnbu0tfg\\logs\\debug.log</code>"
      ],
      "text/plain": [
       "<IPython.core.display.HTML object>"
      ]
     },
     "metadata": {},
     "output_type": "display_data"
    },
    {
     "data": {
      "text/html": [
       "Find internal logs for this run at: <code>W:\\rpnn\\python\\wandb\\run-20220305_182511-xnbu0tfg\\logs\\debug-internal.log</code>"
      ],
      "text/plain": [
       "<IPython.core.display.HTML object>"
      ]
     },
     "metadata": {},
     "output_type": "display_data"
    },
    {
     "data": {
      "text/html": [
       "<h3>Run summary:</h3><br/><style>\n",
       "    table.wandb td:nth-child(1) { padding: 0 10px; text-align: right }\n",
       "    </style><table class=\"wandb\">\n",
       "<tr><td>squared_error</td><td>172.88423</td></tr><tr><td>_runtime</td><td>22</td></tr><tr><td>_timestamp</td><td>1646501133</td></tr><tr><td>_step</td><td>0</td></tr></table>"
      ],
      "text/plain": [
       "<IPython.core.display.HTML object>"
      ]
     },
     "metadata": {},
     "output_type": "display_data"
    },
    {
     "data": {
      "text/html": [
       "<h3>Run history:</h3><br/><style>\n",
       "    table.wandb td:nth-child(1) { padding: 0 10px; text-align: right }\n",
       "    </style><table class=\"wandb\">\n",
       "<tr><td>squared_error</td><td>▁</td></tr><tr><td>_runtime</td><td>▁</td></tr><tr><td>_timestamp</td><td>▁</td></tr><tr><td>_step</td><td>▁</td></tr></table><br/>"
      ],
      "text/plain": [
       "<IPython.core.display.HTML object>"
      ]
     },
     "metadata": {},
     "output_type": "display_data"
    },
    {
     "data": {
      "text/html": [
       "Synced 5 W&B file(s), 0 media file(s), 0 artifact file(s) and 0 other file(s)"
      ],
      "text/plain": [
       "<IPython.core.display.HTML object>"
      ]
     },
     "metadata": {},
     "output_type": "display_data"
    },
    {
     "data": {
      "text/html": [
       "\n",
       "                    <br/>Synced <strong style=\"color:#cdcd00\">splendid-sweep-17</strong>: <a href=\"https://wandb.ai/lubomirkurcak/matrix-factorization/runs/xnbu0tfg\" target=\"_blank\">https://wandb.ai/lubomirkurcak/matrix-factorization/runs/xnbu0tfg</a><br/>\n",
       "                "
      ],
      "text/plain": [
       "<IPython.core.display.HTML object>"
      ]
     },
     "metadata": {},
     "output_type": "display_data"
    },
    {
     "name": "stderr",
     "output_type": "stream",
     "text": [
      "wandb: Agent Starting Run: 55p3io1n with config:\n",
      "wandb: \tdropout_keep_p: 1\n",
      "wandb: \tepochs: 50000\n",
      "wandb: \tfeatures: 15\n",
      "wandb: \tfp_emax: 20\n",
      "wandb: \tfp_explim: CPFLOAT_EXPRANGE_STOR\n",
      "wandb: \tfp_flip: CPFLOAT_NO_SOFTERR\n",
      "wandb: \tfp_p: 0.43203504928200326\n",
      "wandb: \tfp_precision: 17\n",
      "wandb: \tfp_round: CPFLOAT_RND_SE\n",
      "wandb: \tfp_subnormal: CPFLOAT_SUBN_USE\n",
      "wandb: \tlearning_rate: 0.001\n",
      "wandb: \tloss: mean_squared_error\n",
      "wandb: \tmomentum_coefficient: 0\n",
      "wandb: \tnon_negative: True\n",
      "wandb: \tweight_decay: 0.0001\n",
      "wandb: wandb version 0.12.11 is available!  To upgrade, please run:\n",
      "wandb:  $ pip install wandb --upgrade\n"
     ]
    },
    {
     "data": {
      "text/html": [
       "\n",
       "                Tracking run with wandb version 0.10.21<br/>\n",
       "                Syncing run <strong style=\"color:#cdcd00\">dutiful-sweep-18</strong> to <a href=\"https://wandb.ai\" target=\"_blank\">Weights & Biases</a> <a href=\"https://docs.wandb.com/integrations/jupyter.html\" target=\"_blank\">(Documentation)</a>.<br/>\n",
       "                Project page: <a href=\"https://wandb.ai/lubomirkurcak/matrix-factorization\" target=\"_blank\">https://wandb.ai/lubomirkurcak/matrix-factorization</a><br/>\n",
       "                Sweep page: <a href=\"https://wandb.ai/lubomirkurcak/matrix-factorization/sweeps/2q624iuc\" target=\"_blank\">https://wandb.ai/lubomirkurcak/matrix-factorization/sweeps/2q624iuc</a><br/>\n",
       "Run page: <a href=\"https://wandb.ai/lubomirkurcak/matrix-factorization/runs/55p3io1n\" target=\"_blank\">https://wandb.ai/lubomirkurcak/matrix-factorization/runs/55p3io1n</a><br/>\n",
       "                Run data is saved locally in <code>W:\\rpnn\\python\\wandb\\run-20220305_182537-55p3io1n</code><br/><br/>\n",
       "            "
      ],
      "text/plain": [
       "<IPython.core.display.HTML object>"
      ]
     },
     "metadata": {},
     "output_type": "display_data"
    },
    {
     "name": "stdout",
     "output_type": "stream",
     "text": [
      "cpfloat_validate_optstruct returned 0\n"
     ]
    },
    {
     "data": {
      "text/html": [
       "<br/>Waiting for W&B process to finish, PID 18956<br/>Program ended successfully."
      ],
      "text/plain": [
       "<IPython.core.display.HTML object>"
      ]
     },
     "metadata": {},
     "output_type": "display_data"
    },
    {
     "data": {
      "application/vnd.jupyter.widget-view+json": {
       "model_id": "",
       "version_major": 2,
       "version_minor": 0
      },
      "text/plain": [
       "VBox(children=(Label(value=' 0.00MB of 0.00MB uploaded (0.00MB deduped)\\r'), FloatProgress(value=1.0, max=1.0)…"
      ]
     },
     "metadata": {},
     "output_type": "display_data"
    },
    {
     "data": {
      "text/html": [
       "Find user logs for this run at: <code>W:\\rpnn\\python\\wandb\\run-20220305_182537-55p3io1n\\logs\\debug.log</code>"
      ],
      "text/plain": [
       "<IPython.core.display.HTML object>"
      ]
     },
     "metadata": {},
     "output_type": "display_data"
    },
    {
     "data": {
      "text/html": [
       "Find internal logs for this run at: <code>W:\\rpnn\\python\\wandb\\run-20220305_182537-55p3io1n\\logs\\debug-internal.log</code>"
      ],
      "text/plain": [
       "<IPython.core.display.HTML object>"
      ]
     },
     "metadata": {},
     "output_type": "display_data"
    },
    {
     "data": {
      "text/html": [
       "<h3>Run summary:</h3><br/><style>\n",
       "    table.wandb td:nth-child(1) { padding: 0 10px; text-align: right }\n",
       "    </style><table class=\"wandb\">\n",
       "<tr><td>squared_error</td><td>178.1084</td></tr><tr><td>_runtime</td><td>20</td></tr><tr><td>_timestamp</td><td>1646501157</td></tr><tr><td>_step</td><td>0</td></tr></table>"
      ],
      "text/plain": [
       "<IPython.core.display.HTML object>"
      ]
     },
     "metadata": {},
     "output_type": "display_data"
    },
    {
     "data": {
      "text/html": [
       "<h3>Run history:</h3><br/><style>\n",
       "    table.wandb td:nth-child(1) { padding: 0 10px; text-align: right }\n",
       "    </style><table class=\"wandb\">\n",
       "<tr><td>squared_error</td><td>▁</td></tr><tr><td>_runtime</td><td>▁</td></tr><tr><td>_timestamp</td><td>▁</td></tr><tr><td>_step</td><td>▁</td></tr></table><br/>"
      ],
      "text/plain": [
       "<IPython.core.display.HTML object>"
      ]
     },
     "metadata": {},
     "output_type": "display_data"
    },
    {
     "data": {
      "text/html": [
       "Synced 5 W&B file(s), 0 media file(s), 0 artifact file(s) and 0 other file(s)"
      ],
      "text/plain": [
       "<IPython.core.display.HTML object>"
      ]
     },
     "metadata": {},
     "output_type": "display_data"
    },
    {
     "data": {
      "text/html": [
       "\n",
       "                    <br/>Synced <strong style=\"color:#cdcd00\">dutiful-sweep-18</strong>: <a href=\"https://wandb.ai/lubomirkurcak/matrix-factorization/runs/55p3io1n\" target=\"_blank\">https://wandb.ai/lubomirkurcak/matrix-factorization/runs/55p3io1n</a><br/>\n",
       "                "
      ],
      "text/plain": [
       "<IPython.core.display.HTML object>"
      ]
     },
     "metadata": {},
     "output_type": "display_data"
    },
    {
     "name": "stderr",
     "output_type": "stream",
     "text": [
      "wandb: Agent Starting Run: n1nmypnz with config:\n",
      "wandb: \tdropout_keep_p: 1\n",
      "wandb: \tepochs: 50000\n",
      "wandb: \tfeatures: 15\n",
      "wandb: \tfp_emax: 122\n",
      "wandb: \tfp_explim: CPFLOAT_EXPRANGE_TARG\n",
      "wandb: \tfp_flip: CPFLOAT_SOFTERR\n",
      "wandb: \tfp_p: 0.08859603167828506\n",
      "wandb: \tfp_precision: 8\n",
      "wandb: \tfp_round: CPFLOAT_RND_NE\n",
      "wandb: \tfp_subnormal: CPFLOAT_SUBN_USE\n",
      "wandb: \tlearning_rate: 0.001\n",
      "wandb: \tloss: mean_squared_error\n",
      "wandb: \tmomentum_coefficient: 0\n",
      "wandb: \tnon_negative: True\n",
      "wandb: \tweight_decay: 0.0001\n",
      "wandb: wandb version 0.12.11 is available!  To upgrade, please run:\n",
      "wandb:  $ pip install wandb --upgrade\n"
     ]
    },
    {
     "data": {
      "text/html": [
       "\n",
       "                Tracking run with wandb version 0.10.21<br/>\n",
       "                Syncing run <strong style=\"color:#cdcd00\">generous-sweep-19</strong> to <a href=\"https://wandb.ai\" target=\"_blank\">Weights & Biases</a> <a href=\"https://docs.wandb.com/integrations/jupyter.html\" target=\"_blank\">(Documentation)</a>.<br/>\n",
       "                Project page: <a href=\"https://wandb.ai/lubomirkurcak/matrix-factorization\" target=\"_blank\">https://wandb.ai/lubomirkurcak/matrix-factorization</a><br/>\n",
       "                Sweep page: <a href=\"https://wandb.ai/lubomirkurcak/matrix-factorization/sweeps/2q624iuc\" target=\"_blank\">https://wandb.ai/lubomirkurcak/matrix-factorization/sweeps/2q624iuc</a><br/>\n",
       "Run page: <a href=\"https://wandb.ai/lubomirkurcak/matrix-factorization/runs/n1nmypnz\" target=\"_blank\">https://wandb.ai/lubomirkurcak/matrix-factorization/runs/n1nmypnz</a><br/>\n",
       "                Run data is saved locally in <code>W:\\rpnn\\python\\wandb\\run-20220305_182602-n1nmypnz</code><br/><br/>\n",
       "            "
      ],
      "text/plain": [
       "<IPython.core.display.HTML object>"
      ]
     },
     "metadata": {},
     "output_type": "display_data"
    },
    {
     "name": "stdout",
     "output_type": "stream",
     "text": [
      "cpfloat_validate_optstruct returned 0\n"
     ]
    },
    {
     "data": {
      "text/html": [
       "<br/>Waiting for W&B process to finish, PID 26600<br/>Program ended successfully."
      ],
      "text/plain": [
       "<IPython.core.display.HTML object>"
      ]
     },
     "metadata": {},
     "output_type": "display_data"
    },
    {
     "data": {
      "application/vnd.jupyter.widget-view+json": {
       "model_id": "",
       "version_major": 2,
       "version_minor": 0
      },
      "text/plain": [
       "VBox(children=(Label(value=' 0.00MB of 0.00MB uploaded (0.00MB deduped)\\r'), FloatProgress(value=1.0, max=1.0)…"
      ]
     },
     "metadata": {},
     "output_type": "display_data"
    },
    {
     "data": {
      "text/html": [
       "Find user logs for this run at: <code>W:\\rpnn\\python\\wandb\\run-20220305_182602-n1nmypnz\\logs\\debug.log</code>"
      ],
      "text/plain": [
       "<IPython.core.display.HTML object>"
      ]
     },
     "metadata": {},
     "output_type": "display_data"
    },
    {
     "data": {
      "text/html": [
       "Find internal logs for this run at: <code>W:\\rpnn\\python\\wandb\\run-20220305_182602-n1nmypnz\\logs\\debug-internal.log</code>"
      ],
      "text/plain": [
       "<IPython.core.display.HTML object>"
      ]
     },
     "metadata": {},
     "output_type": "display_data"
    },
    {
     "data": {
      "text/html": [
       "<h3>Run summary:</h3><br/><style>\n",
       "    table.wandb td:nth-child(1) { padding: 0 10px; text-align: right }\n",
       "    </style><table class=\"wandb\">\n",
       "<tr><td>squared_error</td><td>577.32703</td></tr><tr><td>_runtime</td><td>22</td></tr><tr><td>_timestamp</td><td>1646501184</td></tr><tr><td>_step</td><td>0</td></tr></table>"
      ],
      "text/plain": [
       "<IPython.core.display.HTML object>"
      ]
     },
     "metadata": {},
     "output_type": "display_data"
    },
    {
     "data": {
      "text/html": [
       "<h3>Run history:</h3><br/><style>\n",
       "    table.wandb td:nth-child(1) { padding: 0 10px; text-align: right }\n",
       "    </style><table class=\"wandb\">\n",
       "<tr><td>squared_error</td><td>▁</td></tr><tr><td>_runtime</td><td>▁</td></tr><tr><td>_timestamp</td><td>▁</td></tr><tr><td>_step</td><td>▁</td></tr></table><br/>"
      ],
      "text/plain": [
       "<IPython.core.display.HTML object>"
      ]
     },
     "metadata": {},
     "output_type": "display_data"
    },
    {
     "data": {
      "text/html": [
       "Synced 5 W&B file(s), 0 media file(s), 0 artifact file(s) and 0 other file(s)"
      ],
      "text/plain": [
       "<IPython.core.display.HTML object>"
      ]
     },
     "metadata": {},
     "output_type": "display_data"
    },
    {
     "data": {
      "text/html": [
       "\n",
       "                    <br/>Synced <strong style=\"color:#cdcd00\">generous-sweep-19</strong>: <a href=\"https://wandb.ai/lubomirkurcak/matrix-factorization/runs/n1nmypnz\" target=\"_blank\">https://wandb.ai/lubomirkurcak/matrix-factorization/runs/n1nmypnz</a><br/>\n",
       "                "
      ],
      "text/plain": [
       "<IPython.core.display.HTML object>"
      ]
     },
     "metadata": {},
     "output_type": "display_data"
    },
    {
     "name": "stderr",
     "output_type": "stream",
     "text": [
      "wandb: Agent Starting Run: i7o829ky with config:\n",
      "wandb: \tdropout_keep_p: 1\n",
      "wandb: \tepochs: 50000\n",
      "wandb: \tfeatures: 15\n",
      "wandb: \tfp_emax: 115\n",
      "wandb: \tfp_explim: CPFLOAT_EXPRANGE_TARG\n",
      "wandb: \tfp_flip: CPFLOAT_SOFTERR\n",
      "wandb: \tfp_p: 0.24214502545683292\n",
      "wandb: \tfp_precision: 20\n",
      "wandb: \tfp_round: CPFLOAT_RND_NA\n",
      "wandb: \tfp_subnormal: CPFLOAT_SUBN_USE\n",
      "wandb: \tlearning_rate: 0.001\n",
      "wandb: \tloss: mean_squared_error\n",
      "wandb: \tmomentum_coefficient: 0\n",
      "wandb: \tnon_negative: True\n",
      "wandb: \tweight_decay: 0.0001\n",
      "wandb: wandb version 0.12.11 is available!  To upgrade, please run:\n",
      "wandb:  $ pip install wandb --upgrade\n"
     ]
    },
    {
     "data": {
      "text/html": [
       "\n",
       "                Tracking run with wandb version 0.10.21<br/>\n",
       "                Syncing run <strong style=\"color:#cdcd00\">golden-sweep-20</strong> to <a href=\"https://wandb.ai\" target=\"_blank\">Weights & Biases</a> <a href=\"https://docs.wandb.com/integrations/jupyter.html\" target=\"_blank\">(Documentation)</a>.<br/>\n",
       "                Project page: <a href=\"https://wandb.ai/lubomirkurcak/matrix-factorization\" target=\"_blank\">https://wandb.ai/lubomirkurcak/matrix-factorization</a><br/>\n",
       "                Sweep page: <a href=\"https://wandb.ai/lubomirkurcak/matrix-factorization/sweeps/2q624iuc\" target=\"_blank\">https://wandb.ai/lubomirkurcak/matrix-factorization/sweeps/2q624iuc</a><br/>\n",
       "Run page: <a href=\"https://wandb.ai/lubomirkurcak/matrix-factorization/runs/i7o829ky\" target=\"_blank\">https://wandb.ai/lubomirkurcak/matrix-factorization/runs/i7o829ky</a><br/>\n",
       "                Run data is saved locally in <code>W:\\rpnn\\python\\wandb\\run-20220305_182628-i7o829ky</code><br/><br/>\n",
       "            "
      ],
      "text/plain": [
       "<IPython.core.display.HTML object>"
      ]
     },
     "metadata": {},
     "output_type": "display_data"
    },
    {
     "name": "stdout",
     "output_type": "stream",
     "text": [
      "cpfloat_validate_optstruct returned 0\n"
     ]
    },
    {
     "data": {
      "text/html": [
       "<br/>Waiting for W&B process to finish, PID 15792<br/>Program ended successfully."
      ],
      "text/plain": [
       "<IPython.core.display.HTML object>"
      ]
     },
     "metadata": {},
     "output_type": "display_data"
    },
    {
     "data": {
      "application/vnd.jupyter.widget-view+json": {
       "model_id": "",
       "version_major": 2,
       "version_minor": 0
      },
      "text/plain": [
       "VBox(children=(Label(value=' 0.00MB of 0.00MB uploaded (0.00MB deduped)\\r'), FloatProgress(value=1.0, max=1.0)…"
      ]
     },
     "metadata": {},
     "output_type": "display_data"
    },
    {
     "data": {
      "text/html": [
       "Find user logs for this run at: <code>W:\\rpnn\\python\\wandb\\run-20220305_182628-i7o829ky\\logs\\debug.log</code>"
      ],
      "text/plain": [
       "<IPython.core.display.HTML object>"
      ]
     },
     "metadata": {},
     "output_type": "display_data"
    },
    {
     "data": {
      "text/html": [
       "Find internal logs for this run at: <code>W:\\rpnn\\python\\wandb\\run-20220305_182628-i7o829ky\\logs\\debug-internal.log</code>"
      ],
      "text/plain": [
       "<IPython.core.display.HTML object>"
      ]
     },
     "metadata": {},
     "output_type": "display_data"
    },
    {
     "data": {
      "text/html": [
       "<h3>Run summary:</h3><br/><style>\n",
       "    table.wandb td:nth-child(1) { padding: 0 10px; text-align: right }\n",
       "    </style><table class=\"wandb\">\n",
       "<tr><td>squared_error</td><td>173.4979</td></tr><tr><td>_runtime</td><td>21</td></tr><tr><td>_timestamp</td><td>1646501209</td></tr><tr><td>_step</td><td>0</td></tr></table>"
      ],
      "text/plain": [
       "<IPython.core.display.HTML object>"
      ]
     },
     "metadata": {},
     "output_type": "display_data"
    },
    {
     "data": {
      "text/html": [
       "<h3>Run history:</h3><br/><style>\n",
       "    table.wandb td:nth-child(1) { padding: 0 10px; text-align: right }\n",
       "    </style><table class=\"wandb\">\n",
       "<tr><td>squared_error</td><td>▁</td></tr><tr><td>_runtime</td><td>▁</td></tr><tr><td>_timestamp</td><td>▁</td></tr><tr><td>_step</td><td>▁</td></tr></table><br/>"
      ],
      "text/plain": [
       "<IPython.core.display.HTML object>"
      ]
     },
     "metadata": {},
     "output_type": "display_data"
    },
    {
     "data": {
      "text/html": [
       "Synced 5 W&B file(s), 0 media file(s), 0 artifact file(s) and 0 other file(s)"
      ],
      "text/plain": [
       "<IPython.core.display.HTML object>"
      ]
     },
     "metadata": {},
     "output_type": "display_data"
    },
    {
     "data": {
      "text/html": [
       "\n",
       "                    <br/>Synced <strong style=\"color:#cdcd00\">golden-sweep-20</strong>: <a href=\"https://wandb.ai/lubomirkurcak/matrix-factorization/runs/i7o829ky\" target=\"_blank\">https://wandb.ai/lubomirkurcak/matrix-factorization/runs/i7o829ky</a><br/>\n",
       "                "
      ],
      "text/plain": [
       "<IPython.core.display.HTML object>"
      ]
     },
     "metadata": {},
     "output_type": "display_data"
    },
    {
     "name": "stderr",
     "output_type": "stream",
     "text": [
      "wandb: Agent Starting Run: 44ps9my9 with config:\n",
      "wandb: \tdropout_keep_p: 1\n",
      "wandb: \tepochs: 50000\n",
      "wandb: \tfeatures: 15\n",
      "wandb: \tfp_emax: 73\n",
      "wandb: \tfp_explim: CPFLOAT_EXPRANGE_STOR\n",
      "wandb: \tfp_flip: CPFLOAT_NO_SOFTERR\n",
      "wandb: \tfp_p: 0.1393754135208785\n",
      "wandb: \tfp_precision: 6\n",
      "wandb: \tfp_round: CPFLOAT_RND_SP\n",
      "wandb: \tfp_subnormal: CPFLOAT_SUBN_RND\n",
      "wandb: \tlearning_rate: 0.001\n",
      "wandb: \tloss: mean_squared_error\n",
      "wandb: \tmomentum_coefficient: 0\n",
      "wandb: \tnon_negative: True\n",
      "wandb: \tweight_decay: 0.0001\n",
      "wandb: wandb version 0.12.11 is available!  To upgrade, please run:\n",
      "wandb:  $ pip install wandb --upgrade\n"
     ]
    },
    {
     "data": {
      "text/html": [
       "\n",
       "                Tracking run with wandb version 0.10.21<br/>\n",
       "                Syncing run <strong style=\"color:#cdcd00\">classic-sweep-21</strong> to <a href=\"https://wandb.ai\" target=\"_blank\">Weights & Biases</a> <a href=\"https://docs.wandb.com/integrations/jupyter.html\" target=\"_blank\">(Documentation)</a>.<br/>\n",
       "                Project page: <a href=\"https://wandb.ai/lubomirkurcak/matrix-factorization\" target=\"_blank\">https://wandb.ai/lubomirkurcak/matrix-factorization</a><br/>\n",
       "                Sweep page: <a href=\"https://wandb.ai/lubomirkurcak/matrix-factorization/sweeps/2q624iuc\" target=\"_blank\">https://wandb.ai/lubomirkurcak/matrix-factorization/sweeps/2q624iuc</a><br/>\n",
       "Run page: <a href=\"https://wandb.ai/lubomirkurcak/matrix-factorization/runs/44ps9my9\" target=\"_blank\">https://wandb.ai/lubomirkurcak/matrix-factorization/runs/44ps9my9</a><br/>\n",
       "                Run data is saved locally in <code>W:\\rpnn\\python\\wandb\\run-20220305_182654-44ps9my9</code><br/><br/>\n",
       "            "
      ],
      "text/plain": [
       "<IPython.core.display.HTML object>"
      ]
     },
     "metadata": {},
     "output_type": "display_data"
    },
    {
     "name": "stdout",
     "output_type": "stream",
     "text": [
      "cpfloat_validate_optstruct returned 0\n"
     ]
    },
    {
     "data": {
      "text/html": [
       "<br/>Waiting for W&B process to finish, PID 4768<br/>Program ended successfully."
      ],
      "text/plain": [
       "<IPython.core.display.HTML object>"
      ]
     },
     "metadata": {},
     "output_type": "display_data"
    },
    {
     "data": {
      "application/vnd.jupyter.widget-view+json": {
       "model_id": "",
       "version_major": 2,
       "version_minor": 0
      },
      "text/plain": [
       "VBox(children=(Label(value=' 0.00MB of 0.00MB uploaded (0.00MB deduped)\\r'), FloatProgress(value=1.0, max=1.0)…"
      ]
     },
     "metadata": {},
     "output_type": "display_data"
    },
    {
     "data": {
      "text/html": [
       "Find user logs for this run at: <code>W:\\rpnn\\python\\wandb\\run-20220305_182654-44ps9my9\\logs\\debug.log</code>"
      ],
      "text/plain": [
       "<IPython.core.display.HTML object>"
      ]
     },
     "metadata": {},
     "output_type": "display_data"
    },
    {
     "data": {
      "text/html": [
       "Find internal logs for this run at: <code>W:\\rpnn\\python\\wandb\\run-20220305_182654-44ps9my9\\logs\\debug-internal.log</code>"
      ],
      "text/plain": [
       "<IPython.core.display.HTML object>"
      ]
     },
     "metadata": {},
     "output_type": "display_data"
    },
    {
     "data": {
      "text/html": [
       "<h3>Run summary:</h3><br/><style>\n",
       "    table.wandb td:nth-child(1) { padding: 0 10px; text-align: right }\n",
       "    </style><table class=\"wandb\">\n",
       "<tr><td>squared_error</td><td>1838.07324</td></tr><tr><td>_runtime</td><td>27</td></tr><tr><td>_timestamp</td><td>1646501241</td></tr><tr><td>_step</td><td>0</td></tr></table>"
      ],
      "text/plain": [
       "<IPython.core.display.HTML object>"
      ]
     },
     "metadata": {},
     "output_type": "display_data"
    },
    {
     "data": {
      "text/html": [
       "<h3>Run history:</h3><br/><style>\n",
       "    table.wandb td:nth-child(1) { padding: 0 10px; text-align: right }\n",
       "    </style><table class=\"wandb\">\n",
       "<tr><td>squared_error</td><td>▁</td></tr><tr><td>_runtime</td><td>▁</td></tr><tr><td>_timestamp</td><td>▁</td></tr><tr><td>_step</td><td>▁</td></tr></table><br/>"
      ],
      "text/plain": [
       "<IPython.core.display.HTML object>"
      ]
     },
     "metadata": {},
     "output_type": "display_data"
    },
    {
     "data": {
      "text/html": [
       "Synced 5 W&B file(s), 0 media file(s), 0 artifact file(s) and 0 other file(s)"
      ],
      "text/plain": [
       "<IPython.core.display.HTML object>"
      ]
     },
     "metadata": {},
     "output_type": "display_data"
    },
    {
     "data": {
      "text/html": [
       "\n",
       "                    <br/>Synced <strong style=\"color:#cdcd00\">classic-sweep-21</strong>: <a href=\"https://wandb.ai/lubomirkurcak/matrix-factorization/runs/44ps9my9\" target=\"_blank\">https://wandb.ai/lubomirkurcak/matrix-factorization/runs/44ps9my9</a><br/>\n",
       "                "
      ],
      "text/plain": [
       "<IPython.core.display.HTML object>"
      ]
     },
     "metadata": {},
     "output_type": "display_data"
    },
    {
     "name": "stderr",
     "output_type": "stream",
     "text": [
      "wandb: Agent Starting Run: ori18vz9 with config:\n",
      "wandb: \tdropout_keep_p: 1\n",
      "wandb: \tepochs: 50000\n",
      "wandb: \tfeatures: 15\n",
      "wandb: \tfp_emax: 121\n",
      "wandb: \tfp_explim: CPFLOAT_EXPRANGE_STOR\n",
      "wandb: \tfp_flip: CPFLOAT_SOFTERR\n",
      "wandb: \tfp_p: 0.15087836147961675\n",
      "wandb: \tfp_precision: 18\n",
      "wandb: \tfp_round: CPFLOAT_RND_NE\n",
      "wandb: \tfp_subnormal: CPFLOAT_SUBN_RND\n",
      "wandb: \tlearning_rate: 0.001\n",
      "wandb: \tloss: mean_squared_error\n",
      "wandb: \tmomentum_coefficient: 0\n",
      "wandb: \tnon_negative: True\n",
      "wandb: \tweight_decay: 0.0001\n",
      "wandb: wandb version 0.12.11 is available!  To upgrade, please run:\n",
      "wandb:  $ pip install wandb --upgrade\n"
     ]
    },
    {
     "data": {
      "text/html": [
       "\n",
       "                Tracking run with wandb version 0.10.21<br/>\n",
       "                Syncing run <strong style=\"color:#cdcd00\">royal-sweep-22</strong> to <a href=\"https://wandb.ai\" target=\"_blank\">Weights & Biases</a> <a href=\"https://docs.wandb.com/integrations/jupyter.html\" target=\"_blank\">(Documentation)</a>.<br/>\n",
       "                Project page: <a href=\"https://wandb.ai/lubomirkurcak/matrix-factorization\" target=\"_blank\">https://wandb.ai/lubomirkurcak/matrix-factorization</a><br/>\n",
       "                Sweep page: <a href=\"https://wandb.ai/lubomirkurcak/matrix-factorization/sweeps/2q624iuc\" target=\"_blank\">https://wandb.ai/lubomirkurcak/matrix-factorization/sweeps/2q624iuc</a><br/>\n",
       "Run page: <a href=\"https://wandb.ai/lubomirkurcak/matrix-factorization/runs/ori18vz9\" target=\"_blank\">https://wandb.ai/lubomirkurcak/matrix-factorization/runs/ori18vz9</a><br/>\n",
       "                Run data is saved locally in <code>W:\\rpnn\\python\\wandb\\run-20220305_182725-ori18vz9</code><br/><br/>\n",
       "            "
      ],
      "text/plain": [
       "<IPython.core.display.HTML object>"
      ]
     },
     "metadata": {},
     "output_type": "display_data"
    },
    {
     "name": "stdout",
     "output_type": "stream",
     "text": [
      "cpfloat_validate_optstruct returned 0\n"
     ]
    },
    {
     "data": {
      "text/html": [
       "<br/>Waiting for W&B process to finish, PID 2284<br/>Program ended successfully."
      ],
      "text/plain": [
       "<IPython.core.display.HTML object>"
      ]
     },
     "metadata": {},
     "output_type": "display_data"
    },
    {
     "data": {
      "application/vnd.jupyter.widget-view+json": {
       "model_id": "",
       "version_major": 2,
       "version_minor": 0
      },
      "text/plain": [
       "VBox(children=(Label(value=' 0.00MB of 0.00MB uploaded (0.00MB deduped)\\r'), FloatProgress(value=1.0, max=1.0)…"
      ]
     },
     "metadata": {},
     "output_type": "display_data"
    },
    {
     "data": {
      "text/html": [
       "Find user logs for this run at: <code>W:\\rpnn\\python\\wandb\\run-20220305_182725-ori18vz9\\logs\\debug.log</code>"
      ],
      "text/plain": [
       "<IPython.core.display.HTML object>"
      ]
     },
     "metadata": {},
     "output_type": "display_data"
    },
    {
     "data": {
      "text/html": [
       "Find internal logs for this run at: <code>W:\\rpnn\\python\\wandb\\run-20220305_182725-ori18vz9\\logs\\debug-internal.log</code>"
      ],
      "text/plain": [
       "<IPython.core.display.HTML object>"
      ]
     },
     "metadata": {},
     "output_type": "display_data"
    },
    {
     "data": {
      "text/html": [
       "<h3>Run summary:</h3><br/><style>\n",
       "    table.wandb td:nth-child(1) { padding: 0 10px; text-align: right }\n",
       "    </style><table class=\"wandb\">\n",
       "<tr><td>squared_error</td><td>175.36161</td></tr><tr><td>_runtime</td><td>20</td></tr><tr><td>_timestamp</td><td>1646501265</td></tr><tr><td>_step</td><td>0</td></tr></table>"
      ],
      "text/plain": [
       "<IPython.core.display.HTML object>"
      ]
     },
     "metadata": {},
     "output_type": "display_data"
    },
    {
     "data": {
      "text/html": [
       "<h3>Run history:</h3><br/><style>\n",
       "    table.wandb td:nth-child(1) { padding: 0 10px; text-align: right }\n",
       "    </style><table class=\"wandb\">\n",
       "<tr><td>squared_error</td><td>▁</td></tr><tr><td>_runtime</td><td>▁</td></tr><tr><td>_timestamp</td><td>▁</td></tr><tr><td>_step</td><td>▁</td></tr></table><br/>"
      ],
      "text/plain": [
       "<IPython.core.display.HTML object>"
      ]
     },
     "metadata": {},
     "output_type": "display_data"
    },
    {
     "data": {
      "text/html": [
       "Synced 5 W&B file(s), 0 media file(s), 0 artifact file(s) and 0 other file(s)"
      ],
      "text/plain": [
       "<IPython.core.display.HTML object>"
      ]
     },
     "metadata": {},
     "output_type": "display_data"
    },
    {
     "data": {
      "text/html": [
       "\n",
       "                    <br/>Synced <strong style=\"color:#cdcd00\">royal-sweep-22</strong>: <a href=\"https://wandb.ai/lubomirkurcak/matrix-factorization/runs/ori18vz9\" target=\"_blank\">https://wandb.ai/lubomirkurcak/matrix-factorization/runs/ori18vz9</a><br/>\n",
       "                "
      ],
      "text/plain": [
       "<IPython.core.display.HTML object>"
      ]
     },
     "metadata": {},
     "output_type": "display_data"
    },
    {
     "name": "stderr",
     "output_type": "stream",
     "text": [
      "wandb: Agent Starting Run: h6ws8205 with config:\n",
      "wandb: \tdropout_keep_p: 1\n",
      "wandb: \tepochs: 50000\n",
      "wandb: \tfeatures: 15\n",
      "wandb: \tfp_emax: 22\n",
      "wandb: \tfp_explim: CPFLOAT_EXPRANGE_TARG\n",
      "wandb: \tfp_flip: CPFLOAT_SOFTERR\n",
      "wandb: \tfp_p: 0.3218455726002613\n",
      "wandb: \tfp_precision: 23\n",
      "wandb: \tfp_round: CPFLOAT_RND_SP\n",
      "wandb: \tfp_subnormal: CPFLOAT_SUBN_RND\n",
      "wandb: \tlearning_rate: 0.001\n",
      "wandb: \tloss: mean_squared_error\n",
      "wandb: \tmomentum_coefficient: 0\n",
      "wandb: \tnon_negative: True\n",
      "wandb: \tweight_decay: 0.0001\n",
      "wandb: wandb version 0.12.11 is available!  To upgrade, please run:\n",
      "wandb:  $ pip install wandb --upgrade\n"
     ]
    },
    {
     "data": {
      "text/html": [
       "\n",
       "                Tracking run with wandb version 0.10.21<br/>\n",
       "                Syncing run <strong style=\"color:#cdcd00\">tough-sweep-23</strong> to <a href=\"https://wandb.ai\" target=\"_blank\">Weights & Biases</a> <a href=\"https://docs.wandb.com/integrations/jupyter.html\" target=\"_blank\">(Documentation)</a>.<br/>\n",
       "                Project page: <a href=\"https://wandb.ai/lubomirkurcak/matrix-factorization\" target=\"_blank\">https://wandb.ai/lubomirkurcak/matrix-factorization</a><br/>\n",
       "                Sweep page: <a href=\"https://wandb.ai/lubomirkurcak/matrix-factorization/sweeps/2q624iuc\" target=\"_blank\">https://wandb.ai/lubomirkurcak/matrix-factorization/sweeps/2q624iuc</a><br/>\n",
       "Run page: <a href=\"https://wandb.ai/lubomirkurcak/matrix-factorization/runs/h6ws8205\" target=\"_blank\">https://wandb.ai/lubomirkurcak/matrix-factorization/runs/h6ws8205</a><br/>\n",
       "                Run data is saved locally in <code>W:\\rpnn\\python\\wandb\\run-20220305_182749-h6ws8205</code><br/><br/>\n",
       "            "
      ],
      "text/plain": [
       "<IPython.core.display.HTML object>"
      ]
     },
     "metadata": {},
     "output_type": "display_data"
    },
    {
     "name": "stdout",
     "output_type": "stream",
     "text": [
      "cpfloat_validate_optstruct returned 0\n"
     ]
    },
    {
     "data": {
      "text/html": [
       "<br/>Waiting for W&B process to finish, PID 13468<br/>Program ended successfully."
      ],
      "text/plain": [
       "<IPython.core.display.HTML object>"
      ]
     },
     "metadata": {},
     "output_type": "display_data"
    },
    {
     "data": {
      "application/vnd.jupyter.widget-view+json": {
       "model_id": "",
       "version_major": 2,
       "version_minor": 0
      },
      "text/plain": [
       "VBox(children=(Label(value=' 0.00MB of 0.00MB uploaded (0.00MB deduped)\\r'), FloatProgress(value=1.0, max=1.0)…"
      ]
     },
     "metadata": {},
     "output_type": "display_data"
    },
    {
     "data": {
      "text/html": [
       "Find user logs for this run at: <code>W:\\rpnn\\python\\wandb\\run-20220305_182749-h6ws8205\\logs\\debug.log</code>"
      ],
      "text/plain": [
       "<IPython.core.display.HTML object>"
      ]
     },
     "metadata": {},
     "output_type": "display_data"
    },
    {
     "data": {
      "text/html": [
       "Find internal logs for this run at: <code>W:\\rpnn\\python\\wandb\\run-20220305_182749-h6ws8205\\logs\\debug-internal.log</code>"
      ],
      "text/plain": [
       "<IPython.core.display.HTML object>"
      ]
     },
     "metadata": {},
     "output_type": "display_data"
    },
    {
     "data": {
      "text/html": [
       "<h3>Run summary:</h3><br/><style>\n",
       "    table.wandb td:nth-child(1) { padding: 0 10px; text-align: right }\n",
       "    </style><table class=\"wandb\">\n",
       "<tr><td>squared_error</td><td>169.4693</td></tr><tr><td>_runtime</td><td>32</td></tr><tr><td>_timestamp</td><td>1646501301</td></tr><tr><td>_step</td><td>0</td></tr></table>"
      ],
      "text/plain": [
       "<IPython.core.display.HTML object>"
      ]
     },
     "metadata": {},
     "output_type": "display_data"
    },
    {
     "data": {
      "text/html": [
       "<h3>Run history:</h3><br/><style>\n",
       "    table.wandb td:nth-child(1) { padding: 0 10px; text-align: right }\n",
       "    </style><table class=\"wandb\">\n",
       "<tr><td>squared_error</td><td>▁</td></tr><tr><td>_runtime</td><td>▁</td></tr><tr><td>_timestamp</td><td>▁</td></tr><tr><td>_step</td><td>▁</td></tr></table><br/>"
      ],
      "text/plain": [
       "<IPython.core.display.HTML object>"
      ]
     },
     "metadata": {},
     "output_type": "display_data"
    },
    {
     "data": {
      "text/html": [
       "Synced 5 W&B file(s), 0 media file(s), 0 artifact file(s) and 0 other file(s)"
      ],
      "text/plain": [
       "<IPython.core.display.HTML object>"
      ]
     },
     "metadata": {},
     "output_type": "display_data"
    },
    {
     "data": {
      "text/html": [
       "\n",
       "                    <br/>Synced <strong style=\"color:#cdcd00\">tough-sweep-23</strong>: <a href=\"https://wandb.ai/lubomirkurcak/matrix-factorization/runs/h6ws8205\" target=\"_blank\">https://wandb.ai/lubomirkurcak/matrix-factorization/runs/h6ws8205</a><br/>\n",
       "                "
      ],
      "text/plain": [
       "<IPython.core.display.HTML object>"
      ]
     },
     "metadata": {},
     "output_type": "display_data"
    },
    {
     "name": "stderr",
     "output_type": "stream",
     "text": [
      "wandb: Agent Starting Run: bq85m09d with config:\n",
      "wandb: \tdropout_keep_p: 1\n",
      "wandb: \tepochs: 50000\n",
      "wandb: \tfeatures: 15\n",
      "wandb: \tfp_emax: 106\n",
      "wandb: \tfp_explim: CPFLOAT_EXPRANGE_TARG\n",
      "wandb: \tfp_flip: CPFLOAT_SOFTERR\n",
      "wandb: \tfp_p: 0.2699013710510793\n",
      "wandb: \tfp_precision: 15\n",
      "wandb: \tfp_round: CPFLOAT_NO_RND\n",
      "wandb: \tfp_subnormal: CPFLOAT_SUBN_RND\n",
      "wandb: \tlearning_rate: 0.001\n",
      "wandb: \tloss: mean_squared_error\n",
      "wandb: \tmomentum_coefficient: 0\n",
      "wandb: \tnon_negative: True\n",
      "wandb: \tweight_decay: 0.0001\n",
      "wandb: wandb version 0.12.11 is available!  To upgrade, please run:\n",
      "wandb:  $ pip install wandb --upgrade\n"
     ]
    },
    {
     "data": {
      "text/html": [
       "\n",
       "                Tracking run with wandb version 0.10.21<br/>\n",
       "                Syncing run <strong style=\"color:#cdcd00\">scarlet-sweep-24</strong> to <a href=\"https://wandb.ai\" target=\"_blank\">Weights & Biases</a> <a href=\"https://docs.wandb.com/integrations/jupyter.html\" target=\"_blank\">(Documentation)</a>.<br/>\n",
       "                Project page: <a href=\"https://wandb.ai/lubomirkurcak/matrix-factorization\" target=\"_blank\">https://wandb.ai/lubomirkurcak/matrix-factorization</a><br/>\n",
       "                Sweep page: <a href=\"https://wandb.ai/lubomirkurcak/matrix-factorization/sweeps/2q624iuc\" target=\"_blank\">https://wandb.ai/lubomirkurcak/matrix-factorization/sweeps/2q624iuc</a><br/>\n",
       "Run page: <a href=\"https://wandb.ai/lubomirkurcak/matrix-factorization/runs/bq85m09d\" target=\"_blank\">https://wandb.ai/lubomirkurcak/matrix-factorization/runs/bq85m09d</a><br/>\n",
       "                Run data is saved locally in <code>W:\\rpnn\\python\\wandb\\run-20220305_182825-bq85m09d</code><br/><br/>\n",
       "            "
      ],
      "text/plain": [
       "<IPython.core.display.HTML object>"
      ]
     },
     "metadata": {},
     "output_type": "display_data"
    },
    {
     "name": "stdout",
     "output_type": "stream",
     "text": [
      "cpfloat_validate_optstruct returned -4\n"
     ]
    },
    {
     "data": {
      "text/html": [
       "<br/>Waiting for W&B process to finish, PID 20796<br/>Program ended successfully."
      ],
      "text/plain": [
       "<IPython.core.display.HTML object>"
      ]
     },
     "metadata": {},
     "output_type": "display_data"
    },
    {
     "data": {
      "application/vnd.jupyter.widget-view+json": {
       "model_id": "",
       "version_major": 2,
       "version_minor": 0
      },
      "text/plain": [
       "VBox(children=(Label(value=' 0.00MB of 0.00MB uploaded (0.00MB deduped)\\r'), FloatProgress(value=1.0, max=1.0)…"
      ]
     },
     "metadata": {},
     "output_type": "display_data"
    },
    {
     "data": {
      "text/html": [
       "Find user logs for this run at: <code>W:\\rpnn\\python\\wandb\\run-20220305_182825-bq85m09d\\logs\\debug.log</code>"
      ],
      "text/plain": [
       "<IPython.core.display.HTML object>"
      ]
     },
     "metadata": {},
     "output_type": "display_data"
    },
    {
     "data": {
      "text/html": [
       "Find internal logs for this run at: <code>W:\\rpnn\\python\\wandb\\run-20220305_182825-bq85m09d\\logs\\debug-internal.log</code>"
      ],
      "text/plain": [
       "<IPython.core.display.HTML object>"
      ]
     },
     "metadata": {},
     "output_type": "display_data"
    },
    {
     "data": {
      "text/html": [
       "<h3>Run summary:</h3><br/><style>\n",
       "    table.wandb td:nth-child(1) { padding: 0 10px; text-align: right }\n",
       "    </style><table class=\"wandb\">\n",
       "<tr><td>squared_error</td><td>178.22993</td></tr><tr><td>_runtime</td><td>20</td></tr><tr><td>_timestamp</td><td>1646501325</td></tr><tr><td>_step</td><td>0</td></tr></table>"
      ],
      "text/plain": [
       "<IPython.core.display.HTML object>"
      ]
     },
     "metadata": {},
     "output_type": "display_data"
    },
    {
     "data": {
      "text/html": [
       "<h3>Run history:</h3><br/><style>\n",
       "    table.wandb td:nth-child(1) { padding: 0 10px; text-align: right }\n",
       "    </style><table class=\"wandb\">\n",
       "<tr><td>squared_error</td><td>▁</td></tr><tr><td>_runtime</td><td>▁</td></tr><tr><td>_timestamp</td><td>▁</td></tr><tr><td>_step</td><td>▁</td></tr></table><br/>"
      ],
      "text/plain": [
       "<IPython.core.display.HTML object>"
      ]
     },
     "metadata": {},
     "output_type": "display_data"
    },
    {
     "data": {
      "text/html": [
       "Synced 5 W&B file(s), 0 media file(s), 0 artifact file(s) and 0 other file(s)"
      ],
      "text/plain": [
       "<IPython.core.display.HTML object>"
      ]
     },
     "metadata": {},
     "output_type": "display_data"
    },
    {
     "data": {
      "text/html": [
       "\n",
       "                    <br/>Synced <strong style=\"color:#cdcd00\">scarlet-sweep-24</strong>: <a href=\"https://wandb.ai/lubomirkurcak/matrix-factorization/runs/bq85m09d\" target=\"_blank\">https://wandb.ai/lubomirkurcak/matrix-factorization/runs/bq85m09d</a><br/>\n",
       "                "
      ],
      "text/plain": [
       "<IPython.core.display.HTML object>"
      ]
     },
     "metadata": {},
     "output_type": "display_data"
    },
    {
     "name": "stderr",
     "output_type": "stream",
     "text": [
      "wandb: Agent Starting Run: bfsk97v2 with config:\n",
      "wandb: \tdropout_keep_p: 1\n",
      "wandb: \tepochs: 50000\n",
      "wandb: \tfeatures: 15\n",
      "wandb: \tfp_emax: 83\n",
      "wandb: \tfp_explim: CPFLOAT_EXPRANGE_STOR\n",
      "wandb: \tfp_flip: CPFLOAT_SOFTERR\n",
      "wandb: \tfp_p: 0.10594883083350236\n",
      "wandb: \tfp_precision: 15\n",
      "wandb: \tfp_round: CPFLOAT_RND_SP\n",
      "wandb: \tfp_subnormal: CPFLOAT_SUBN_RND\n",
      "wandb: \tlearning_rate: 0.001\n",
      "wandb: \tloss: mean_squared_error\n",
      "wandb: \tmomentum_coefficient: 0\n",
      "wandb: \tnon_negative: True\n",
      "wandb: \tweight_decay: 0.0001\n",
      "wandb: wandb version 0.12.11 is available!  To upgrade, please run:\n",
      "wandb:  $ pip install wandb --upgrade\n"
     ]
    },
    {
     "data": {
      "text/html": [
       "\n",
       "                Tracking run with wandb version 0.10.21<br/>\n",
       "                Syncing run <strong style=\"color:#cdcd00\">ancient-sweep-25</strong> to <a href=\"https://wandb.ai\" target=\"_blank\">Weights & Biases</a> <a href=\"https://docs.wandb.com/integrations/jupyter.html\" target=\"_blank\">(Documentation)</a>.<br/>\n",
       "                Project page: <a href=\"https://wandb.ai/lubomirkurcak/matrix-factorization\" target=\"_blank\">https://wandb.ai/lubomirkurcak/matrix-factorization</a><br/>\n",
       "                Sweep page: <a href=\"https://wandb.ai/lubomirkurcak/matrix-factorization/sweeps/2q624iuc\" target=\"_blank\">https://wandb.ai/lubomirkurcak/matrix-factorization/sweeps/2q624iuc</a><br/>\n",
       "Run page: <a href=\"https://wandb.ai/lubomirkurcak/matrix-factorization/runs/bfsk97v2\" target=\"_blank\">https://wandb.ai/lubomirkurcak/matrix-factorization/runs/bfsk97v2</a><br/>\n",
       "                Run data is saved locally in <code>W:\\rpnn\\python\\wandb\\run-20220305_182851-bfsk97v2</code><br/><br/>\n",
       "            "
      ],
      "text/plain": [
       "<IPython.core.display.HTML object>"
      ]
     },
     "metadata": {},
     "output_type": "display_data"
    },
    {
     "name": "stdout",
     "output_type": "stream",
     "text": [
      "cpfloat_validate_optstruct returned 0\n"
     ]
    },
    {
     "data": {
      "text/html": [
       "<br/>Waiting for W&B process to finish, PID 23064<br/>Program ended successfully."
      ],
      "text/plain": [
       "<IPython.core.display.HTML object>"
      ]
     },
     "metadata": {},
     "output_type": "display_data"
    },
    {
     "data": {
      "application/vnd.jupyter.widget-view+json": {
       "model_id": "",
       "version_major": 2,
       "version_minor": 0
      },
      "text/plain": [
       "VBox(children=(Label(value=' 0.00MB of 0.00MB uploaded (0.00MB deduped)\\r'), FloatProgress(value=1.0, max=1.0)…"
      ]
     },
     "metadata": {},
     "output_type": "display_data"
    },
    {
     "data": {
      "text/html": [
       "Find user logs for this run at: <code>W:\\rpnn\\python\\wandb\\run-20220305_182851-bfsk97v2\\logs\\debug.log</code>"
      ],
      "text/plain": [
       "<IPython.core.display.HTML object>"
      ]
     },
     "metadata": {},
     "output_type": "display_data"
    },
    {
     "data": {
      "text/html": [
       "Find internal logs for this run at: <code>W:\\rpnn\\python\\wandb\\run-20220305_182851-bfsk97v2\\logs\\debug-internal.log</code>"
      ],
      "text/plain": [
       "<IPython.core.display.HTML object>"
      ]
     },
     "metadata": {},
     "output_type": "display_data"
    },
    {
     "data": {
      "text/html": [
       "<h3>Run summary:</h3><br/><style>\n",
       "    table.wandb td:nth-child(1) { padding: 0 10px; text-align: right }\n",
       "    </style><table class=\"wandb\">\n",
       "<tr><td>squared_error</td><td>175.88499</td></tr><tr><td>_runtime</td><td>33</td></tr><tr><td>_timestamp</td><td>1646501364</td></tr><tr><td>_step</td><td>0</td></tr></table>"
      ],
      "text/plain": [
       "<IPython.core.display.HTML object>"
      ]
     },
     "metadata": {},
     "output_type": "display_data"
    },
    {
     "data": {
      "text/html": [
       "<h3>Run history:</h3><br/><style>\n",
       "    table.wandb td:nth-child(1) { padding: 0 10px; text-align: right }\n",
       "    </style><table class=\"wandb\">\n",
       "<tr><td>squared_error</td><td>▁</td></tr><tr><td>_runtime</td><td>▁</td></tr><tr><td>_timestamp</td><td>▁</td></tr><tr><td>_step</td><td>▁</td></tr></table><br/>"
      ],
      "text/plain": [
       "<IPython.core.display.HTML object>"
      ]
     },
     "metadata": {},
     "output_type": "display_data"
    },
    {
     "data": {
      "text/html": [
       "Synced 5 W&B file(s), 0 media file(s), 0 artifact file(s) and 0 other file(s)"
      ],
      "text/plain": [
       "<IPython.core.display.HTML object>"
      ]
     },
     "metadata": {},
     "output_type": "display_data"
    },
    {
     "data": {
      "text/html": [
       "\n",
       "                    <br/>Synced <strong style=\"color:#cdcd00\">ancient-sweep-25</strong>: <a href=\"https://wandb.ai/lubomirkurcak/matrix-factorization/runs/bfsk97v2\" target=\"_blank\">https://wandb.ai/lubomirkurcak/matrix-factorization/runs/bfsk97v2</a><br/>\n",
       "                "
      ],
      "text/plain": [
       "<IPython.core.display.HTML object>"
      ]
     },
     "metadata": {},
     "output_type": "display_data"
    },
    {
     "name": "stderr",
     "output_type": "stream",
     "text": [
      "wandb: Agent Starting Run: 19svu8lm with config:\n",
      "wandb: \tdropout_keep_p: 1\n",
      "wandb: \tepochs: 50000\n",
      "wandb: \tfeatures: 15\n",
      "wandb: \tfp_emax: 19\n",
      "wandb: \tfp_explim: CPFLOAT_EXPRANGE_STOR\n",
      "wandb: \tfp_flip: CPFLOAT_SOFTERR\n",
      "wandb: \tfp_p: 0.07937185910190858\n",
      "wandb: \tfp_precision: 7\n",
      "wandb: \tfp_round: CPFLOAT_RND_TZ\n",
      "wandb: \tfp_subnormal: CPFLOAT_SUBN_RND\n",
      "wandb: \tlearning_rate: 0.001\n",
      "wandb: \tloss: mean_squared_error\n",
      "wandb: \tmomentum_coefficient: 0\n",
      "wandb: \tnon_negative: True\n",
      "wandb: \tweight_decay: 0.0001\n",
      "wandb: wandb version 0.12.11 is available!  To upgrade, please run:\n",
      "wandb:  $ pip install wandb --upgrade\n"
     ]
    },
    {
     "data": {
      "text/html": [
       "\n",
       "                Tracking run with wandb version 0.10.21<br/>\n",
       "                Syncing run <strong style=\"color:#cdcd00\">gentle-sweep-26</strong> to <a href=\"https://wandb.ai\" target=\"_blank\">Weights & Biases</a> <a href=\"https://docs.wandb.com/integrations/jupyter.html\" target=\"_blank\">(Documentation)</a>.<br/>\n",
       "                Project page: <a href=\"https://wandb.ai/lubomirkurcak/matrix-factorization\" target=\"_blank\">https://wandb.ai/lubomirkurcak/matrix-factorization</a><br/>\n",
       "                Sweep page: <a href=\"https://wandb.ai/lubomirkurcak/matrix-factorization/sweeps/2q624iuc\" target=\"_blank\">https://wandb.ai/lubomirkurcak/matrix-factorization/sweeps/2q624iuc</a><br/>\n",
       "Run page: <a href=\"https://wandb.ai/lubomirkurcak/matrix-factorization/runs/19svu8lm\" target=\"_blank\">https://wandb.ai/lubomirkurcak/matrix-factorization/runs/19svu8lm</a><br/>\n",
       "                Run data is saved locally in <code>W:\\rpnn\\python\\wandb\\run-20220305_182928-19svu8lm</code><br/><br/>\n",
       "            "
      ],
      "text/plain": [
       "<IPython.core.display.HTML object>"
      ]
     },
     "metadata": {},
     "output_type": "display_data"
    },
    {
     "name": "stdout",
     "output_type": "stream",
     "text": [
      "cpfloat_validate_optstruct returned 0\n"
     ]
    },
    {
     "data": {
      "text/html": [
       "<br/>Waiting for W&B process to finish, PID 17256<br/>Program ended successfully."
      ],
      "text/plain": [
       "<IPython.core.display.HTML object>"
      ]
     },
     "metadata": {},
     "output_type": "display_data"
    },
    {
     "data": {
      "application/vnd.jupyter.widget-view+json": {
       "model_id": "",
       "version_major": 2,
       "version_minor": 0
      },
      "text/plain": [
       "VBox(children=(Label(value=' 0.00MB of 0.00MB uploaded (0.00MB deduped)\\r'), FloatProgress(value=1.0, max=1.0)…"
      ]
     },
     "metadata": {},
     "output_type": "display_data"
    },
    {
     "data": {
      "text/html": [
       "Find user logs for this run at: <code>W:\\rpnn\\python\\wandb\\run-20220305_182928-19svu8lm\\logs\\debug.log</code>"
      ],
      "text/plain": [
       "<IPython.core.display.HTML object>"
      ]
     },
     "metadata": {},
     "output_type": "display_data"
    },
    {
     "data": {
      "text/html": [
       "Find internal logs for this run at: <code>W:\\rpnn\\python\\wandb\\run-20220305_182928-19svu8lm\\logs\\debug-internal.log</code>"
      ],
      "text/plain": [
       "<IPython.core.display.HTML object>"
      ]
     },
     "metadata": {},
     "output_type": "display_data"
    },
    {
     "data": {
      "text/html": [
       "<h3>Run summary:</h3><br/><style>\n",
       "    table.wandb td:nth-child(1) { padding: 0 10px; text-align: right }\n",
       "    </style><table class=\"wandb\">\n",
       "<tr><td>squared_error</td><td>1771.76685</td></tr><tr><td>_runtime</td><td>20</td></tr><tr><td>_timestamp</td><td>1646501388</td></tr><tr><td>_step</td><td>0</td></tr></table>"
      ],
      "text/plain": [
       "<IPython.core.display.HTML object>"
      ]
     },
     "metadata": {},
     "output_type": "display_data"
    },
    {
     "data": {
      "text/html": [
       "<h3>Run history:</h3><br/><style>\n",
       "    table.wandb td:nth-child(1) { padding: 0 10px; text-align: right }\n",
       "    </style><table class=\"wandb\">\n",
       "<tr><td>squared_error</td><td>▁</td></tr><tr><td>_runtime</td><td>▁</td></tr><tr><td>_timestamp</td><td>▁</td></tr><tr><td>_step</td><td>▁</td></tr></table><br/>"
      ],
      "text/plain": [
       "<IPython.core.display.HTML object>"
      ]
     },
     "metadata": {},
     "output_type": "display_data"
    },
    {
     "data": {
      "text/html": [
       "Synced 5 W&B file(s), 0 media file(s), 0 artifact file(s) and 0 other file(s)"
      ],
      "text/plain": [
       "<IPython.core.display.HTML object>"
      ]
     },
     "metadata": {},
     "output_type": "display_data"
    },
    {
     "data": {
      "text/html": [
       "\n",
       "                    <br/>Synced <strong style=\"color:#cdcd00\">gentle-sweep-26</strong>: <a href=\"https://wandb.ai/lubomirkurcak/matrix-factorization/runs/19svu8lm\" target=\"_blank\">https://wandb.ai/lubomirkurcak/matrix-factorization/runs/19svu8lm</a><br/>\n",
       "                "
      ],
      "text/plain": [
       "<IPython.core.display.HTML object>"
      ]
     },
     "metadata": {},
     "output_type": "display_data"
    },
    {
     "name": "stderr",
     "output_type": "stream",
     "text": [
      "wandb: Agent Starting Run: cfu8y9pb with config:\n",
      "wandb: \tdropout_keep_p: 1\n",
      "wandb: \tepochs: 50000\n",
      "wandb: \tfeatures: 15\n",
      "wandb: \tfp_emax: 123\n",
      "wandb: \tfp_explim: CPFLOAT_EXPRANGE_TARG\n",
      "wandb: \tfp_flip: CPFLOAT_SOFTERR\n",
      "wandb: \tfp_p: 0.3164368272757645\n",
      "wandb: \tfp_precision: 23\n",
      "wandb: \tfp_round: CPFLOAT_RND_NZ\n",
      "wandb: \tfp_subnormal: CPFLOAT_SUBN_RND\n",
      "wandb: \tlearning_rate: 0.001\n",
      "wandb: \tloss: mean_squared_error\n",
      "wandb: \tmomentum_coefficient: 0\n",
      "wandb: \tnon_negative: True\n",
      "wandb: \tweight_decay: 0.0001\n",
      "wandb: wandb version 0.12.11 is available!  To upgrade, please run:\n",
      "wandb:  $ pip install wandb --upgrade\n"
     ]
    },
    {
     "data": {
      "text/html": [
       "\n",
       "                Tracking run with wandb version 0.10.21<br/>\n",
       "                Syncing run <strong style=\"color:#cdcd00\">neat-sweep-27</strong> to <a href=\"https://wandb.ai\" target=\"_blank\">Weights & Biases</a> <a href=\"https://docs.wandb.com/integrations/jupyter.html\" target=\"_blank\">(Documentation)</a>.<br/>\n",
       "                Project page: <a href=\"https://wandb.ai/lubomirkurcak/matrix-factorization\" target=\"_blank\">https://wandb.ai/lubomirkurcak/matrix-factorization</a><br/>\n",
       "                Sweep page: <a href=\"https://wandb.ai/lubomirkurcak/matrix-factorization/sweeps/2q624iuc\" target=\"_blank\">https://wandb.ai/lubomirkurcak/matrix-factorization/sweeps/2q624iuc</a><br/>\n",
       "Run page: <a href=\"https://wandb.ai/lubomirkurcak/matrix-factorization/runs/cfu8y9pb\" target=\"_blank\">https://wandb.ai/lubomirkurcak/matrix-factorization/runs/cfu8y9pb</a><br/>\n",
       "                Run data is saved locally in <code>W:\\rpnn\\python\\wandb\\run-20220305_182952-cfu8y9pb</code><br/><br/>\n",
       "            "
      ],
      "text/plain": [
       "<IPython.core.display.HTML object>"
      ]
     },
     "metadata": {},
     "output_type": "display_data"
    },
    {
     "name": "stdout",
     "output_type": "stream",
     "text": [
      "cpfloat_validate_optstruct returned 0\n"
     ]
    },
    {
     "data": {
      "text/html": [
       "<br/>Waiting for W&B process to finish, PID 21960<br/>Program ended successfully."
      ],
      "text/plain": [
       "<IPython.core.display.HTML object>"
      ]
     },
     "metadata": {},
     "output_type": "display_data"
    },
    {
     "data": {
      "application/vnd.jupyter.widget-view+json": {
       "model_id": "",
       "version_major": 2,
       "version_minor": 0
      },
      "text/plain": [
       "VBox(children=(Label(value=' 0.00MB of 0.00MB uploaded (0.00MB deduped)\\r'), FloatProgress(value=1.0, max=1.0)…"
      ]
     },
     "metadata": {},
     "output_type": "display_data"
    },
    {
     "data": {
      "text/html": [
       "Find user logs for this run at: <code>W:\\rpnn\\python\\wandb\\run-20220305_182952-cfu8y9pb\\logs\\debug.log</code>"
      ],
      "text/plain": [
       "<IPython.core.display.HTML object>"
      ]
     },
     "metadata": {},
     "output_type": "display_data"
    },
    {
     "data": {
      "text/html": [
       "Find internal logs for this run at: <code>W:\\rpnn\\python\\wandb\\run-20220305_182952-cfu8y9pb\\logs\\debug-internal.log</code>"
      ],
      "text/plain": [
       "<IPython.core.display.HTML object>"
      ]
     },
     "metadata": {},
     "output_type": "display_data"
    },
    {
     "data": {
      "text/html": [
       "<h3>Run summary:</h3><br/><style>\n",
       "    table.wandb td:nth-child(1) { padding: 0 10px; text-align: right }\n",
       "    </style><table class=\"wandb\">\n",
       "<tr><td>squared_error</td><td>174.02155</td></tr><tr><td>_runtime</td><td>21</td></tr><tr><td>_timestamp</td><td>1646501413</td></tr><tr><td>_step</td><td>0</td></tr></table>"
      ],
      "text/plain": [
       "<IPython.core.display.HTML object>"
      ]
     },
     "metadata": {},
     "output_type": "display_data"
    },
    {
     "data": {
      "text/html": [
       "<h3>Run history:</h3><br/><style>\n",
       "    table.wandb td:nth-child(1) { padding: 0 10px; text-align: right }\n",
       "    </style><table class=\"wandb\">\n",
       "<tr><td>squared_error</td><td>▁</td></tr><tr><td>_runtime</td><td>▁</td></tr><tr><td>_timestamp</td><td>▁</td></tr><tr><td>_step</td><td>▁</td></tr></table><br/>"
      ],
      "text/plain": [
       "<IPython.core.display.HTML object>"
      ]
     },
     "metadata": {},
     "output_type": "display_data"
    },
    {
     "data": {
      "text/html": [
       "Synced 5 W&B file(s), 0 media file(s), 0 artifact file(s) and 0 other file(s)"
      ],
      "text/plain": [
       "<IPython.core.display.HTML object>"
      ]
     },
     "metadata": {},
     "output_type": "display_data"
    },
    {
     "data": {
      "text/html": [
       "\n",
       "                    <br/>Synced <strong style=\"color:#cdcd00\">neat-sweep-27</strong>: <a href=\"https://wandb.ai/lubomirkurcak/matrix-factorization/runs/cfu8y9pb\" target=\"_blank\">https://wandb.ai/lubomirkurcak/matrix-factorization/runs/cfu8y9pb</a><br/>\n",
       "                "
      ],
      "text/plain": [
       "<IPython.core.display.HTML object>"
      ]
     },
     "metadata": {},
     "output_type": "display_data"
    },
    {
     "name": "stderr",
     "output_type": "stream",
     "text": [
      "wandb: Agent Starting Run: 2kr0bi3r with config:\n",
      "wandb: \tdropout_keep_p: 1\n",
      "wandb: \tepochs: 50000\n",
      "wandb: \tfeatures: 15\n",
      "wandb: \tfp_emax: 15\n",
      "wandb: \tfp_explim: CPFLOAT_EXPRANGE_STOR\n",
      "wandb: \tfp_flip: CPFLOAT_NO_SOFTERR\n",
      "wandb: \tfp_p: 0.0459335268488581\n",
      "wandb: \tfp_precision: 14\n",
      "wandb: \tfp_round: CPFLOAT_RND_SP\n",
      "wandb: \tfp_subnormal: CPFLOAT_SUBN_USE\n",
      "wandb: \tlearning_rate: 0.001\n",
      "wandb: \tloss: mean_squared_error\n",
      "wandb: \tmomentum_coefficient: 0\n",
      "wandb: \tnon_negative: True\n",
      "wandb: \tweight_decay: 0.0001\n",
      "wandb: wandb version 0.12.11 is available!  To upgrade, please run:\n",
      "wandb:  $ pip install wandb --upgrade\n"
     ]
    },
    {
     "data": {
      "text/html": [
       "\n",
       "                Tracking run with wandb version 0.10.21<br/>\n",
       "                Syncing run <strong style=\"color:#cdcd00\">apricot-sweep-28</strong> to <a href=\"https://wandb.ai\" target=\"_blank\">Weights & Biases</a> <a href=\"https://docs.wandb.com/integrations/jupyter.html\" target=\"_blank\">(Documentation)</a>.<br/>\n",
       "                Project page: <a href=\"https://wandb.ai/lubomirkurcak/matrix-factorization\" target=\"_blank\">https://wandb.ai/lubomirkurcak/matrix-factorization</a><br/>\n",
       "                Sweep page: <a href=\"https://wandb.ai/lubomirkurcak/matrix-factorization/sweeps/2q624iuc\" target=\"_blank\">https://wandb.ai/lubomirkurcak/matrix-factorization/sweeps/2q624iuc</a><br/>\n",
       "Run page: <a href=\"https://wandb.ai/lubomirkurcak/matrix-factorization/runs/2kr0bi3r\" target=\"_blank\">https://wandb.ai/lubomirkurcak/matrix-factorization/runs/2kr0bi3r</a><br/>\n",
       "                Run data is saved locally in <code>W:\\rpnn\\python\\wandb\\run-20220305_183018-2kr0bi3r</code><br/><br/>\n",
       "            "
      ],
      "text/plain": [
       "<IPython.core.display.HTML object>"
      ]
     },
     "metadata": {},
     "output_type": "display_data"
    },
    {
     "name": "stdout",
     "output_type": "stream",
     "text": [
      "cpfloat_validate_optstruct returned 0\n"
     ]
    },
    {
     "data": {
      "text/html": [
       "<br/>Waiting for W&B process to finish, PID 21540<br/>Program ended successfully."
      ],
      "text/plain": [
       "<IPython.core.display.HTML object>"
      ]
     },
     "metadata": {},
     "output_type": "display_data"
    },
    {
     "data": {
      "application/vnd.jupyter.widget-view+json": {
       "model_id": "",
       "version_major": 2,
       "version_minor": 0
      },
      "text/plain": [
       "VBox(children=(Label(value=' 0.00MB of 0.00MB uploaded (0.00MB deduped)\\r'), FloatProgress(value=1.0, max=1.0)…"
      ]
     },
     "metadata": {},
     "output_type": "display_data"
    },
    {
     "data": {
      "text/html": [
       "Find user logs for this run at: <code>W:\\rpnn\\python\\wandb\\run-20220305_183018-2kr0bi3r\\logs\\debug.log</code>"
      ],
      "text/plain": [
       "<IPython.core.display.HTML object>"
      ]
     },
     "metadata": {},
     "output_type": "display_data"
    },
    {
     "data": {
      "text/html": [
       "Find internal logs for this run at: <code>W:\\rpnn\\python\\wandb\\run-20220305_183018-2kr0bi3r\\logs\\debug-internal.log</code>"
      ],
      "text/plain": [
       "<IPython.core.display.HTML object>"
      ]
     },
     "metadata": {},
     "output_type": "display_data"
    },
    {
     "data": {
      "text/html": [
       "<h3>Run summary:</h3><br/><style>\n",
       "    table.wandb td:nth-child(1) { padding: 0 10px; text-align: right }\n",
       "    </style><table class=\"wandb\">\n",
       "<tr><td>squared_error</td><td>174.74917</td></tr><tr><td>_runtime</td><td>26</td></tr><tr><td>_timestamp</td><td>1646501444</td></tr><tr><td>_step</td><td>0</td></tr></table>"
      ],
      "text/plain": [
       "<IPython.core.display.HTML object>"
      ]
     },
     "metadata": {},
     "output_type": "display_data"
    },
    {
     "data": {
      "text/html": [
       "<h3>Run history:</h3><br/><style>\n",
       "    table.wandb td:nth-child(1) { padding: 0 10px; text-align: right }\n",
       "    </style><table class=\"wandb\">\n",
       "<tr><td>squared_error</td><td>▁</td></tr><tr><td>_runtime</td><td>▁</td></tr><tr><td>_timestamp</td><td>▁</td></tr><tr><td>_step</td><td>▁</td></tr></table><br/>"
      ],
      "text/plain": [
       "<IPython.core.display.HTML object>"
      ]
     },
     "metadata": {},
     "output_type": "display_data"
    },
    {
     "data": {
      "text/html": [
       "Synced 5 W&B file(s), 0 media file(s), 0 artifact file(s) and 0 other file(s)"
      ],
      "text/plain": [
       "<IPython.core.display.HTML object>"
      ]
     },
     "metadata": {},
     "output_type": "display_data"
    },
    {
     "data": {
      "text/html": [
       "\n",
       "                    <br/>Synced <strong style=\"color:#cdcd00\">apricot-sweep-28</strong>: <a href=\"https://wandb.ai/lubomirkurcak/matrix-factorization/runs/2kr0bi3r\" target=\"_blank\">https://wandb.ai/lubomirkurcak/matrix-factorization/runs/2kr0bi3r</a><br/>\n",
       "                "
      ],
      "text/plain": [
       "<IPython.core.display.HTML object>"
      ]
     },
     "metadata": {},
     "output_type": "display_data"
    },
    {
     "name": "stderr",
     "output_type": "stream",
     "text": [
      "wandb: Agent Starting Run: vap1fp8s with config:\n",
      "wandb: \tdropout_keep_p: 1\n",
      "wandb: \tepochs: 50000\n",
      "wandb: \tfeatures: 15\n",
      "wandb: \tfp_emax: 90\n",
      "wandb: \tfp_explim: CPFLOAT_EXPRANGE_STOR\n",
      "wandb: \tfp_flip: CPFLOAT_SOFTERR\n",
      "wandb: \tfp_p: 0.3595380098201983\n",
      "wandb: \tfp_precision: 15\n",
      "wandb: \tfp_round: CPFLOAT_RND_NE\n",
      "wandb: \tfp_subnormal: CPFLOAT_SUBN_RND\n",
      "wandb: \tlearning_rate: 0.001\n",
      "wandb: \tloss: mean_squared_error\n",
      "wandb: \tmomentum_coefficient: 0\n",
      "wandb: \tnon_negative: True\n",
      "wandb: \tweight_decay: 0.0001\n",
      "wandb: wandb version 0.12.11 is available!  To upgrade, please run:\n",
      "wandb:  $ pip install wandb --upgrade\n"
     ]
    },
    {
     "data": {
      "text/html": [
       "\n",
       "                Tracking run with wandb version 0.10.21<br/>\n",
       "                Syncing run <strong style=\"color:#cdcd00\">trim-sweep-29</strong> to <a href=\"https://wandb.ai\" target=\"_blank\">Weights & Biases</a> <a href=\"https://docs.wandb.com/integrations/jupyter.html\" target=\"_blank\">(Documentation)</a>.<br/>\n",
       "                Project page: <a href=\"https://wandb.ai/lubomirkurcak/matrix-factorization\" target=\"_blank\">https://wandb.ai/lubomirkurcak/matrix-factorization</a><br/>\n",
       "                Sweep page: <a href=\"https://wandb.ai/lubomirkurcak/matrix-factorization/sweeps/2q624iuc\" target=\"_blank\">https://wandb.ai/lubomirkurcak/matrix-factorization/sweeps/2q624iuc</a><br/>\n",
       "Run page: <a href=\"https://wandb.ai/lubomirkurcak/matrix-factorization/runs/vap1fp8s\" target=\"_blank\">https://wandb.ai/lubomirkurcak/matrix-factorization/runs/vap1fp8s</a><br/>\n",
       "                Run data is saved locally in <code>W:\\rpnn\\python\\wandb\\run-20220305_183049-vap1fp8s</code><br/><br/>\n",
       "            "
      ],
      "text/plain": [
       "<IPython.core.display.HTML object>"
      ]
     },
     "metadata": {},
     "output_type": "display_data"
    },
    {
     "name": "stdout",
     "output_type": "stream",
     "text": [
      "cpfloat_validate_optstruct returned 0\n"
     ]
    },
    {
     "data": {
      "text/html": [
       "<br/>Waiting for W&B process to finish, PID 20544<br/>Program ended successfully."
      ],
      "text/plain": [
       "<IPython.core.display.HTML object>"
      ]
     },
     "metadata": {},
     "output_type": "display_data"
    },
    {
     "data": {
      "application/vnd.jupyter.widget-view+json": {
       "model_id": "",
       "version_major": 2,
       "version_minor": 0
      },
      "text/plain": [
       "VBox(children=(Label(value=' 0.00MB of 0.00MB uploaded (0.00MB deduped)\\r'), FloatProgress(value=1.0, max=1.0)…"
      ]
     },
     "metadata": {},
     "output_type": "display_data"
    },
    {
     "data": {
      "text/html": [
       "Find user logs for this run at: <code>W:\\rpnn\\python\\wandb\\run-20220305_183049-vap1fp8s\\logs\\debug.log</code>"
      ],
      "text/plain": [
       "<IPython.core.display.HTML object>"
      ]
     },
     "metadata": {},
     "output_type": "display_data"
    },
    {
     "data": {
      "text/html": [
       "Find internal logs for this run at: <code>W:\\rpnn\\python\\wandb\\run-20220305_183049-vap1fp8s\\logs\\debug-internal.log</code>"
      ],
      "text/plain": [
       "<IPython.core.display.HTML object>"
      ]
     },
     "metadata": {},
     "output_type": "display_data"
    },
    {
     "data": {
      "text/html": [
       "<h3>Run summary:</h3><br/><style>\n",
       "    table.wandb td:nth-child(1) { padding: 0 10px; text-align: right }\n",
       "    </style><table class=\"wandb\">\n",
       "<tr><td>squared_error</td><td>179.24397</td></tr><tr><td>_runtime</td><td>20</td></tr><tr><td>_timestamp</td><td>1646501469</td></tr><tr><td>_step</td><td>0</td></tr></table>"
      ],
      "text/plain": [
       "<IPython.core.display.HTML object>"
      ]
     },
     "metadata": {},
     "output_type": "display_data"
    },
    {
     "data": {
      "text/html": [
       "<h3>Run history:</h3><br/><style>\n",
       "    table.wandb td:nth-child(1) { padding: 0 10px; text-align: right }\n",
       "    </style><table class=\"wandb\">\n",
       "<tr><td>squared_error</td><td>▁</td></tr><tr><td>_runtime</td><td>▁</td></tr><tr><td>_timestamp</td><td>▁</td></tr><tr><td>_step</td><td>▁</td></tr></table><br/>"
      ],
      "text/plain": [
       "<IPython.core.display.HTML object>"
      ]
     },
     "metadata": {},
     "output_type": "display_data"
    },
    {
     "data": {
      "text/html": [
       "Synced 5 W&B file(s), 0 media file(s), 0 artifact file(s) and 0 other file(s)"
      ],
      "text/plain": [
       "<IPython.core.display.HTML object>"
      ]
     },
     "metadata": {},
     "output_type": "display_data"
    },
    {
     "data": {
      "text/html": [
       "\n",
       "                    <br/>Synced <strong style=\"color:#cdcd00\">trim-sweep-29</strong>: <a href=\"https://wandb.ai/lubomirkurcak/matrix-factorization/runs/vap1fp8s\" target=\"_blank\">https://wandb.ai/lubomirkurcak/matrix-factorization/runs/vap1fp8s</a><br/>\n",
       "                "
      ],
      "text/plain": [
       "<IPython.core.display.HTML object>"
      ]
     },
     "metadata": {},
     "output_type": "display_data"
    },
    {
     "name": "stderr",
     "output_type": "stream",
     "text": [
      "wandb: Agent Starting Run: d06iyzgh with config:\n",
      "wandb: \tdropout_keep_p: 1\n",
      "wandb: \tepochs: 50000\n",
      "wandb: \tfeatures: 15\n",
      "wandb: \tfp_emax: 99\n",
      "wandb: \tfp_explim: CPFLOAT_EXPRANGE_TARG\n",
      "wandb: \tfp_flip: CPFLOAT_SOFTERR\n",
      "wandb: \tfp_p: 0.23160637317801752\n",
      "wandb: \tfp_precision: 21\n",
      "wandb: \tfp_round: CPFLOAT_RND_SP\n",
      "wandb: \tfp_subnormal: CPFLOAT_SUBN_RND\n",
      "wandb: \tlearning_rate: 0.001\n",
      "wandb: \tloss: mean_squared_error\n",
      "wandb: \tmomentum_coefficient: 0\n",
      "wandb: \tnon_negative: True\n",
      "wandb: \tweight_decay: 0.0001\n",
      "wandb: wandb version 0.12.11 is available!  To upgrade, please run:\n",
      "wandb:  $ pip install wandb --upgrade\n"
     ]
    },
    {
     "data": {
      "text/html": [
       "\n",
       "                Tracking run with wandb version 0.10.21<br/>\n",
       "                Syncing run <strong style=\"color:#cdcd00\">floral-sweep-30</strong> to <a href=\"https://wandb.ai\" target=\"_blank\">Weights & Biases</a> <a href=\"https://docs.wandb.com/integrations/jupyter.html\" target=\"_blank\">(Documentation)</a>.<br/>\n",
       "                Project page: <a href=\"https://wandb.ai/lubomirkurcak/matrix-factorization\" target=\"_blank\">https://wandb.ai/lubomirkurcak/matrix-factorization</a><br/>\n",
       "                Sweep page: <a href=\"https://wandb.ai/lubomirkurcak/matrix-factorization/sweeps/2q624iuc\" target=\"_blank\">https://wandb.ai/lubomirkurcak/matrix-factorization/sweeps/2q624iuc</a><br/>\n",
       "Run page: <a href=\"https://wandb.ai/lubomirkurcak/matrix-factorization/runs/d06iyzgh\" target=\"_blank\">https://wandb.ai/lubomirkurcak/matrix-factorization/runs/d06iyzgh</a><br/>\n",
       "                Run data is saved locally in <code>W:\\rpnn\\python\\wandb\\run-20220305_183113-d06iyzgh</code><br/><br/>\n",
       "            "
      ],
      "text/plain": [
       "<IPython.core.display.HTML object>"
      ]
     },
     "metadata": {},
     "output_type": "display_data"
    },
    {
     "name": "stdout",
     "output_type": "stream",
     "text": [
      "cpfloat_validate_optstruct returned 0\n"
     ]
    },
    {
     "data": {
      "text/html": [
       "<br/>Waiting for W&B process to finish, PID 18044<br/>Program ended successfully."
      ],
      "text/plain": [
       "<IPython.core.display.HTML object>"
      ]
     },
     "metadata": {},
     "output_type": "display_data"
    },
    {
     "data": {
      "application/vnd.jupyter.widget-view+json": {
       "model_id": "",
       "version_major": 2,
       "version_minor": 0
      },
      "text/plain": [
       "VBox(children=(Label(value=' 0.00MB of 0.00MB uploaded (0.00MB deduped)\\r'), FloatProgress(value=1.0, max=1.0)…"
      ]
     },
     "metadata": {},
     "output_type": "display_data"
    },
    {
     "data": {
      "text/html": [
       "Find user logs for this run at: <code>W:\\rpnn\\python\\wandb\\run-20220305_183113-d06iyzgh\\logs\\debug.log</code>"
      ],
      "text/plain": [
       "<IPython.core.display.HTML object>"
      ]
     },
     "metadata": {},
     "output_type": "display_data"
    },
    {
     "data": {
      "text/html": [
       "Find internal logs for this run at: <code>W:\\rpnn\\python\\wandb\\run-20220305_183113-d06iyzgh\\logs\\debug-internal.log</code>"
      ],
      "text/plain": [
       "<IPython.core.display.HTML object>"
      ]
     },
     "metadata": {},
     "output_type": "display_data"
    },
    {
     "data": {
      "text/html": [
       "<h3>Run summary:</h3><br/><style>\n",
       "    table.wandb td:nth-child(1) { padding: 0 10px; text-align: right }\n",
       "    </style><table class=\"wandb\">\n",
       "<tr><td>squared_error</td><td>177.74841</td></tr><tr><td>_runtime</td><td>32</td></tr><tr><td>_timestamp</td><td>1646501505</td></tr><tr><td>_step</td><td>0</td></tr></table>"
      ],
      "text/plain": [
       "<IPython.core.display.HTML object>"
      ]
     },
     "metadata": {},
     "output_type": "display_data"
    },
    {
     "data": {
      "text/html": [
       "<h3>Run history:</h3><br/><style>\n",
       "    table.wandb td:nth-child(1) { padding: 0 10px; text-align: right }\n",
       "    </style><table class=\"wandb\">\n",
       "<tr><td>squared_error</td><td>▁</td></tr><tr><td>_runtime</td><td>▁</td></tr><tr><td>_timestamp</td><td>▁</td></tr><tr><td>_step</td><td>▁</td></tr></table><br/>"
      ],
      "text/plain": [
       "<IPython.core.display.HTML object>"
      ]
     },
     "metadata": {},
     "output_type": "display_data"
    },
    {
     "data": {
      "text/html": [
       "Synced 5 W&B file(s), 0 media file(s), 0 artifact file(s) and 0 other file(s)"
      ],
      "text/plain": [
       "<IPython.core.display.HTML object>"
      ]
     },
     "metadata": {},
     "output_type": "display_data"
    },
    {
     "data": {
      "text/html": [
       "\n",
       "                    <br/>Synced <strong style=\"color:#cdcd00\">floral-sweep-30</strong>: <a href=\"https://wandb.ai/lubomirkurcak/matrix-factorization/runs/d06iyzgh\" target=\"_blank\">https://wandb.ai/lubomirkurcak/matrix-factorization/runs/d06iyzgh</a><br/>\n",
       "                "
      ],
      "text/plain": [
       "<IPython.core.display.HTML object>"
      ]
     },
     "metadata": {},
     "output_type": "display_data"
    },
    {
     "name": "stderr",
     "output_type": "stream",
     "text": [
      "wandb: Agent Starting Run: 7lckdown with config:\n",
      "wandb: \tdropout_keep_p: 1\n",
      "wandb: \tepochs: 50000\n",
      "wandb: \tfeatures: 15\n",
      "wandb: \tfp_emax: 25\n",
      "wandb: \tfp_explim: CPFLOAT_EXPRANGE_STOR\n",
      "wandb: \tfp_flip: CPFLOAT_NO_SOFTERR\n",
      "wandb: \tfp_p: 0.1875245549447623\n",
      "wandb: \tfp_precision: 21\n",
      "wandb: \tfp_round: CPFLOAT_RND_NZ\n",
      "wandb: \tfp_subnormal: CPFLOAT_SUBN_RND\n",
      "wandb: \tlearning_rate: 0.001\n",
      "wandb: \tloss: mean_squared_error\n",
      "wandb: \tmomentum_coefficient: 0\n",
      "wandb: \tnon_negative: True\n",
      "wandb: \tweight_decay: 0.0001\n",
      "wandb: wandb version 0.12.11 is available!  To upgrade, please run:\n",
      "wandb:  $ pip install wandb --upgrade\n"
     ]
    },
    {
     "data": {
      "text/html": [
       "\n",
       "                Tracking run with wandb version 0.10.21<br/>\n",
       "                Syncing run <strong style=\"color:#cdcd00\">polar-sweep-31</strong> to <a href=\"https://wandb.ai\" target=\"_blank\">Weights & Biases</a> <a href=\"https://docs.wandb.com/integrations/jupyter.html\" target=\"_blank\">(Documentation)</a>.<br/>\n",
       "                Project page: <a href=\"https://wandb.ai/lubomirkurcak/matrix-factorization\" target=\"_blank\">https://wandb.ai/lubomirkurcak/matrix-factorization</a><br/>\n",
       "                Sweep page: <a href=\"https://wandb.ai/lubomirkurcak/matrix-factorization/sweeps/2q624iuc\" target=\"_blank\">https://wandb.ai/lubomirkurcak/matrix-factorization/sweeps/2q624iuc</a><br/>\n",
       "Run page: <a href=\"https://wandb.ai/lubomirkurcak/matrix-factorization/runs/7lckdown\" target=\"_blank\">https://wandb.ai/lubomirkurcak/matrix-factorization/runs/7lckdown</a><br/>\n",
       "                Run data is saved locally in <code>W:\\rpnn\\python\\wandb\\run-20220305_183149-7lckdown</code><br/><br/>\n",
       "            "
      ],
      "text/plain": [
       "<IPython.core.display.HTML object>"
      ]
     },
     "metadata": {},
     "output_type": "display_data"
    },
    {
     "name": "stdout",
     "output_type": "stream",
     "text": [
      "cpfloat_validate_optstruct returned 0\n"
     ]
    },
    {
     "data": {
      "text/html": [
       "<br/>Waiting for W&B process to finish, PID 23140<br/>Program ended successfully."
      ],
      "text/plain": [
       "<IPython.core.display.HTML object>"
      ]
     },
     "metadata": {},
     "output_type": "display_data"
    },
    {
     "data": {
      "application/vnd.jupyter.widget-view+json": {
       "model_id": "",
       "version_major": 2,
       "version_minor": 0
      },
      "text/plain": [
       "VBox(children=(Label(value=' 0.00MB of 0.00MB uploaded (0.00MB deduped)\\r'), FloatProgress(value=1.0, max=1.0)…"
      ]
     },
     "metadata": {},
     "output_type": "display_data"
    },
    {
     "data": {
      "text/html": [
       "Find user logs for this run at: <code>W:\\rpnn\\python\\wandb\\run-20220305_183149-7lckdown\\logs\\debug.log</code>"
      ],
      "text/plain": [
       "<IPython.core.display.HTML object>"
      ]
     },
     "metadata": {},
     "output_type": "display_data"
    },
    {
     "data": {
      "text/html": [
       "Find internal logs for this run at: <code>W:\\rpnn\\python\\wandb\\run-20220305_183149-7lckdown\\logs\\debug-internal.log</code>"
      ],
      "text/plain": [
       "<IPython.core.display.HTML object>"
      ]
     },
     "metadata": {},
     "output_type": "display_data"
    },
    {
     "data": {
      "text/html": [
       "<h3>Run summary:</h3><br/><style>\n",
       "    table.wandb td:nth-child(1) { padding: 0 10px; text-align: right }\n",
       "    </style><table class=\"wandb\">\n",
       "<tr><td>squared_error</td><td>172.93656</td></tr><tr><td>_runtime</td><td>15</td></tr><tr><td>_timestamp</td><td>1646501524</td></tr><tr><td>_step</td><td>0</td></tr></table>"
      ],
      "text/plain": [
       "<IPython.core.display.HTML object>"
      ]
     },
     "metadata": {},
     "output_type": "display_data"
    },
    {
     "data": {
      "text/html": [
       "<h3>Run history:</h3><br/><style>\n",
       "    table.wandb td:nth-child(1) { padding: 0 10px; text-align: right }\n",
       "    </style><table class=\"wandb\">\n",
       "<tr><td>squared_error</td><td>▁</td></tr><tr><td>_runtime</td><td>▁</td></tr><tr><td>_timestamp</td><td>▁</td></tr><tr><td>_step</td><td>▁</td></tr></table><br/>"
      ],
      "text/plain": [
       "<IPython.core.display.HTML object>"
      ]
     },
     "metadata": {},
     "output_type": "display_data"
    },
    {
     "data": {
      "text/html": [
       "Synced 5 W&B file(s), 0 media file(s), 0 artifact file(s) and 0 other file(s)"
      ],
      "text/plain": [
       "<IPython.core.display.HTML object>"
      ]
     },
     "metadata": {},
     "output_type": "display_data"
    },
    {
     "data": {
      "text/html": [
       "\n",
       "                    <br/>Synced <strong style=\"color:#cdcd00\">polar-sweep-31</strong>: <a href=\"https://wandb.ai/lubomirkurcak/matrix-factorization/runs/7lckdown\" target=\"_blank\">https://wandb.ai/lubomirkurcak/matrix-factorization/runs/7lckdown</a><br/>\n",
       "                "
      ],
      "text/plain": [
       "<IPython.core.display.HTML object>"
      ]
     },
     "metadata": {},
     "output_type": "display_data"
    },
    {
     "name": "stderr",
     "output_type": "stream",
     "text": [
      "wandb: Agent Starting Run: wnmb0sks with config:\n",
      "wandb: \tdropout_keep_p: 1\n",
      "wandb: \tepochs: 50000\n",
      "wandb: \tfeatures: 15\n",
      "wandb: \tfp_emax: 90\n",
      "wandb: \tfp_explim: CPFLOAT_EXPRANGE_STOR\n",
      "wandb: \tfp_flip: CPFLOAT_SOFTERR\n",
      "wandb: \tfp_p: 0.1162142028573479\n",
      "wandb: \tfp_precision: 16\n",
      "wandb: \tfp_round: CPFLOAT_RND_SE\n",
      "wandb: \tfp_subnormal: CPFLOAT_SUBN_RND\n",
      "wandb: \tlearning_rate: 0.001\n",
      "wandb: \tloss: mean_squared_error\n",
      "wandb: \tmomentum_coefficient: 0\n",
      "wandb: \tnon_negative: True\n",
      "wandb: \tweight_decay: 0.0001\n",
      "wandb: wandb version 0.12.11 is available!  To upgrade, please run:\n",
      "wandb:  $ pip install wandb --upgrade\n"
     ]
    },
    {
     "data": {
      "text/html": [
       "\n",
       "                Tracking run with wandb version 0.10.21<br/>\n",
       "                Syncing run <strong style=\"color:#cdcd00\">fresh-sweep-32</strong> to <a href=\"https://wandb.ai\" target=\"_blank\">Weights & Biases</a> <a href=\"https://docs.wandb.com/integrations/jupyter.html\" target=\"_blank\">(Documentation)</a>.<br/>\n",
       "                Project page: <a href=\"https://wandb.ai/lubomirkurcak/matrix-factorization\" target=\"_blank\">https://wandb.ai/lubomirkurcak/matrix-factorization</a><br/>\n",
       "                Sweep page: <a href=\"https://wandb.ai/lubomirkurcak/matrix-factorization/sweeps/2q624iuc\" target=\"_blank\">https://wandb.ai/lubomirkurcak/matrix-factorization/sweeps/2q624iuc</a><br/>\n",
       "Run page: <a href=\"https://wandb.ai/lubomirkurcak/matrix-factorization/runs/wnmb0sks\" target=\"_blank\">https://wandb.ai/lubomirkurcak/matrix-factorization/runs/wnmb0sks</a><br/>\n",
       "                Run data is saved locally in <code>W:\\rpnn\\python\\wandb\\run-20220305_183208-wnmb0sks</code><br/><br/>\n",
       "            "
      ],
      "text/plain": [
       "<IPython.core.display.HTML object>"
      ]
     },
     "metadata": {},
     "output_type": "display_data"
    },
    {
     "name": "stdout",
     "output_type": "stream",
     "text": [
      "cpfloat_validate_optstruct returned 0\n"
     ]
    },
    {
     "data": {
      "text/html": [
       "<br/>Waiting for W&B process to finish, PID 1628<br/>Program ended successfully."
      ],
      "text/plain": [
       "<IPython.core.display.HTML object>"
      ]
     },
     "metadata": {},
     "output_type": "display_data"
    },
    {
     "data": {
      "application/vnd.jupyter.widget-view+json": {
       "model_id": "",
       "version_major": 2,
       "version_minor": 0
      },
      "text/plain": [
       "VBox(children=(Label(value=' 0.00MB of 0.00MB uploaded (0.00MB deduped)\\r'), FloatProgress(value=1.0, max=1.0)…"
      ]
     },
     "metadata": {},
     "output_type": "display_data"
    },
    {
     "data": {
      "text/html": [
       "Find user logs for this run at: <code>W:\\rpnn\\python\\wandb\\run-20220305_183208-wnmb0sks\\logs\\debug.log</code>"
      ],
      "text/plain": [
       "<IPython.core.display.HTML object>"
      ]
     },
     "metadata": {},
     "output_type": "display_data"
    },
    {
     "data": {
      "text/html": [
       "Find internal logs for this run at: <code>W:\\rpnn\\python\\wandb\\run-20220305_183208-wnmb0sks\\logs\\debug-internal.log</code>"
      ],
      "text/plain": [
       "<IPython.core.display.HTML object>"
      ]
     },
     "metadata": {},
     "output_type": "display_data"
    },
    {
     "data": {
      "text/html": [
       "<h3>Run summary:</h3><br/><style>\n",
       "    table.wandb td:nth-child(1) { padding: 0 10px; text-align: right }\n",
       "    </style><table class=\"wandb\">\n",
       "<tr><td>squared_error</td><td>178.84981</td></tr><tr><td>_runtime</td><td>25</td></tr><tr><td>_timestamp</td><td>1646501553</td></tr><tr><td>_step</td><td>0</td></tr></table>"
      ],
      "text/plain": [
       "<IPython.core.display.HTML object>"
      ]
     },
     "metadata": {},
     "output_type": "display_data"
    },
    {
     "data": {
      "text/html": [
       "<h3>Run history:</h3><br/><style>\n",
       "    table.wandb td:nth-child(1) { padding: 0 10px; text-align: right }\n",
       "    </style><table class=\"wandb\">\n",
       "<tr><td>squared_error</td><td>▁</td></tr><tr><td>_runtime</td><td>▁</td></tr><tr><td>_timestamp</td><td>▁</td></tr><tr><td>_step</td><td>▁</td></tr></table><br/>"
      ],
      "text/plain": [
       "<IPython.core.display.HTML object>"
      ]
     },
     "metadata": {},
     "output_type": "display_data"
    },
    {
     "data": {
      "text/html": [
       "Synced 5 W&B file(s), 0 media file(s), 0 artifact file(s) and 0 other file(s)"
      ],
      "text/plain": [
       "<IPython.core.display.HTML object>"
      ]
     },
     "metadata": {},
     "output_type": "display_data"
    },
    {
     "data": {
      "text/html": [
       "\n",
       "                    <br/>Synced <strong style=\"color:#cdcd00\">fresh-sweep-32</strong>: <a href=\"https://wandb.ai/lubomirkurcak/matrix-factorization/runs/wnmb0sks\" target=\"_blank\">https://wandb.ai/lubomirkurcak/matrix-factorization/runs/wnmb0sks</a><br/>\n",
       "                "
      ],
      "text/plain": [
       "<IPython.core.display.HTML object>"
      ]
     },
     "metadata": {},
     "output_type": "display_data"
    },
    {
     "name": "stderr",
     "output_type": "stream",
     "text": [
      "wandb: Agent Starting Run: naq597av with config:\n",
      "wandb: \tdropout_keep_p: 1\n",
      "wandb: \tepochs: 50000\n",
      "wandb: \tfeatures: 15\n",
      "wandb: \tfp_emax: 62\n",
      "wandb: \tfp_explim: CPFLOAT_EXPRANGE_STOR\n",
      "wandb: \tfp_flip: CPFLOAT_NO_SOFTERR\n",
      "wandb: \tfp_p: 0.32985359747577403\n",
      "wandb: \tfp_precision: 18\n",
      "wandb: \tfp_round: CPFLOAT_RND_TN\n",
      "wandb: \tfp_subnormal: CPFLOAT_SUBN_USE\n",
      "wandb: \tlearning_rate: 0.001\n",
      "wandb: \tloss: mean_squared_error\n",
      "wandb: \tmomentum_coefficient: 0\n",
      "wandb: \tnon_negative: True\n",
      "wandb: \tweight_decay: 0.0001\n",
      "wandb: wandb version 0.12.11 is available!  To upgrade, please run:\n",
      "wandb:  $ pip install wandb --upgrade\n"
     ]
    },
    {
     "data": {
      "text/html": [
       "\n",
       "                Tracking run with wandb version 0.10.21<br/>\n",
       "                Syncing run <strong style=\"color:#cdcd00\">ancient-sweep-33</strong> to <a href=\"https://wandb.ai\" target=\"_blank\">Weights & Biases</a> <a href=\"https://docs.wandb.com/integrations/jupyter.html\" target=\"_blank\">(Documentation)</a>.<br/>\n",
       "                Project page: <a href=\"https://wandb.ai/lubomirkurcak/matrix-factorization\" target=\"_blank\">https://wandb.ai/lubomirkurcak/matrix-factorization</a><br/>\n",
       "                Sweep page: <a href=\"https://wandb.ai/lubomirkurcak/matrix-factorization/sweeps/2q624iuc\" target=\"_blank\">https://wandb.ai/lubomirkurcak/matrix-factorization/sweeps/2q624iuc</a><br/>\n",
       "Run page: <a href=\"https://wandb.ai/lubomirkurcak/matrix-factorization/runs/naq597av\" target=\"_blank\">https://wandb.ai/lubomirkurcak/matrix-factorization/runs/naq597av</a><br/>\n",
       "                Run data is saved locally in <code>W:\\rpnn\\python\\wandb\\run-20220305_183237-naq597av</code><br/><br/>\n",
       "            "
      ],
      "text/plain": [
       "<IPython.core.display.HTML object>"
      ]
     },
     "metadata": {},
     "output_type": "display_data"
    },
    {
     "name": "stdout",
     "output_type": "stream",
     "text": [
      "cpfloat_validate_optstruct returned 0\n"
     ]
    },
    {
     "data": {
      "text/html": [
       "<br/>Waiting for W&B process to finish, PID 19548<br/>Program ended successfully."
      ],
      "text/plain": [
       "<IPython.core.display.HTML object>"
      ]
     },
     "metadata": {},
     "output_type": "display_data"
    },
    {
     "data": {
      "application/vnd.jupyter.widget-view+json": {
       "model_id": "",
       "version_major": 2,
       "version_minor": 0
      },
      "text/plain": [
       "VBox(children=(Label(value=' 0.00MB of 0.00MB uploaded (0.00MB deduped)\\r'), FloatProgress(value=1.0, max=1.0)…"
      ]
     },
     "metadata": {},
     "output_type": "display_data"
    },
    {
     "data": {
      "text/html": [
       "Find user logs for this run at: <code>W:\\rpnn\\python\\wandb\\run-20220305_183237-naq597av\\logs\\debug.log</code>"
      ],
      "text/plain": [
       "<IPython.core.display.HTML object>"
      ]
     },
     "metadata": {},
     "output_type": "display_data"
    },
    {
     "data": {
      "text/html": [
       "Find internal logs for this run at: <code>W:\\rpnn\\python\\wandb\\run-20220305_183237-naq597av\\logs\\debug-internal.log</code>"
      ],
      "text/plain": [
       "<IPython.core.display.HTML object>"
      ]
     },
     "metadata": {},
     "output_type": "display_data"
    },
    {
     "data": {
      "text/html": [
       "<h3>Run summary:</h3><br/><style>\n",
       "    table.wandb td:nth-child(1) { padding: 0 10px; text-align: right }\n",
       "    </style><table class=\"wandb\">\n",
       "<tr><td>squared_error</td><td>176.32829</td></tr><tr><td>_runtime</td><td>16</td></tr><tr><td>_timestamp</td><td>1646501573</td></tr><tr><td>_step</td><td>0</td></tr></table>"
      ],
      "text/plain": [
       "<IPython.core.display.HTML object>"
      ]
     },
     "metadata": {},
     "output_type": "display_data"
    },
    {
     "data": {
      "text/html": [
       "<h3>Run history:</h3><br/><style>\n",
       "    table.wandb td:nth-child(1) { padding: 0 10px; text-align: right }\n",
       "    </style><table class=\"wandb\">\n",
       "<tr><td>squared_error</td><td>▁</td></tr><tr><td>_runtime</td><td>▁</td></tr><tr><td>_timestamp</td><td>▁</td></tr><tr><td>_step</td><td>▁</td></tr></table><br/>"
      ],
      "text/plain": [
       "<IPython.core.display.HTML object>"
      ]
     },
     "metadata": {},
     "output_type": "display_data"
    },
    {
     "data": {
      "text/html": [
       "Synced 5 W&B file(s), 0 media file(s), 0 artifact file(s) and 0 other file(s)"
      ],
      "text/plain": [
       "<IPython.core.display.HTML object>"
      ]
     },
     "metadata": {},
     "output_type": "display_data"
    },
    {
     "data": {
      "text/html": [
       "\n",
       "                    <br/>Synced <strong style=\"color:#cdcd00\">ancient-sweep-33</strong>: <a href=\"https://wandb.ai/lubomirkurcak/matrix-factorization/runs/naq597av\" target=\"_blank\">https://wandb.ai/lubomirkurcak/matrix-factorization/runs/naq597av</a><br/>\n",
       "                "
      ],
      "text/plain": [
       "<IPython.core.display.HTML object>"
      ]
     },
     "metadata": {},
     "output_type": "display_data"
    },
    {
     "name": "stderr",
     "output_type": "stream",
     "text": [
      "wandb: Agent Starting Run: mb9qx9g5 with config:\n",
      "wandb: \tdropout_keep_p: 1\n",
      "wandb: \tepochs: 50000\n",
      "wandb: \tfeatures: 15\n",
      "wandb: \tfp_emax: 124\n",
      "wandb: \tfp_explim: CPFLOAT_EXPRANGE_TARG\n",
      "wandb: \tfp_flip: CPFLOAT_NO_SOFTERR\n",
      "wandb: \tfp_p: 0.40156041749432\n",
      "wandb: \tfp_precision: 19\n",
      "wandb: \tfp_round: CPFLOAT_NO_RND\n",
      "wandb: \tfp_subnormal: CPFLOAT_SUBN_USE\n",
      "wandb: \tlearning_rate: 0.001\n",
      "wandb: \tloss: mean_squared_error\n",
      "wandb: \tmomentum_coefficient: 0\n",
      "wandb: \tnon_negative: True\n",
      "wandb: \tweight_decay: 0.0001\n",
      "wandb: wandb version 0.12.11 is available!  To upgrade, please run:\n",
      "wandb:  $ pip install wandb --upgrade\n"
     ]
    },
    {
     "data": {
      "text/html": [
       "\n",
       "                Tracking run with wandb version 0.10.21<br/>\n",
       "                Syncing run <strong style=\"color:#cdcd00\">swept-sweep-34</strong> to <a href=\"https://wandb.ai\" target=\"_blank\">Weights & Biases</a> <a href=\"https://docs.wandb.com/integrations/jupyter.html\" target=\"_blank\">(Documentation)</a>.<br/>\n",
       "                Project page: <a href=\"https://wandb.ai/lubomirkurcak/matrix-factorization\" target=\"_blank\">https://wandb.ai/lubomirkurcak/matrix-factorization</a><br/>\n",
       "                Sweep page: <a href=\"https://wandb.ai/lubomirkurcak/matrix-factorization/sweeps/2q624iuc\" target=\"_blank\">https://wandb.ai/lubomirkurcak/matrix-factorization/sweeps/2q624iuc</a><br/>\n",
       "Run page: <a href=\"https://wandb.ai/lubomirkurcak/matrix-factorization/runs/mb9qx9g5\" target=\"_blank\">https://wandb.ai/lubomirkurcak/matrix-factorization/runs/mb9qx9g5</a><br/>\n",
       "                Run data is saved locally in <code>W:\\rpnn\\python\\wandb\\run-20220305_183257-mb9qx9g5</code><br/><br/>\n",
       "            "
      ],
      "text/plain": [
       "<IPython.core.display.HTML object>"
      ]
     },
     "metadata": {},
     "output_type": "display_data"
    },
    {
     "name": "stdout",
     "output_type": "stream",
     "text": [
      "cpfloat_validate_optstruct returned -4\n"
     ]
    },
    {
     "data": {
      "text/html": [
       "<br/>Waiting for W&B process to finish, PID 14808<br/>Program ended successfully."
      ],
      "text/plain": [
       "<IPython.core.display.HTML object>"
      ]
     },
     "metadata": {},
     "output_type": "display_data"
    },
    {
     "data": {
      "application/vnd.jupyter.widget-view+json": {
       "model_id": "",
       "version_major": 2,
       "version_minor": 0
      },
      "text/plain": [
       "VBox(children=(Label(value=' 0.00MB of 0.00MB uploaded (0.00MB deduped)\\r'), FloatProgress(value=1.0, max=1.0)…"
      ]
     },
     "metadata": {},
     "output_type": "display_data"
    },
    {
     "data": {
      "text/html": [
       "Find user logs for this run at: <code>W:\\rpnn\\python\\wandb\\run-20220305_183257-mb9qx9g5\\logs\\debug.log</code>"
      ],
      "text/plain": [
       "<IPython.core.display.HTML object>"
      ]
     },
     "metadata": {},
     "output_type": "display_data"
    },
    {
     "data": {
      "text/html": [
       "Find internal logs for this run at: <code>W:\\rpnn\\python\\wandb\\run-20220305_183257-mb9qx9g5\\logs\\debug-internal.log</code>"
      ],
      "text/plain": [
       "<IPython.core.display.HTML object>"
      ]
     },
     "metadata": {},
     "output_type": "display_data"
    },
    {
     "data": {
      "text/html": [
       "<h3>Run summary:</h3><br/><style>\n",
       "    table.wandb td:nth-child(1) { padding: 0 10px; text-align: right }\n",
       "    </style><table class=\"wandb\">\n",
       "<tr><td>squared_error</td><td>181.0302</td></tr><tr><td>_runtime</td><td>15</td></tr><tr><td>_timestamp</td><td>1646501592</td></tr><tr><td>_step</td><td>0</td></tr></table>"
      ],
      "text/plain": [
       "<IPython.core.display.HTML object>"
      ]
     },
     "metadata": {},
     "output_type": "display_data"
    },
    {
     "data": {
      "text/html": [
       "<h3>Run history:</h3><br/><style>\n",
       "    table.wandb td:nth-child(1) { padding: 0 10px; text-align: right }\n",
       "    </style><table class=\"wandb\">\n",
       "<tr><td>squared_error</td><td>▁</td></tr><tr><td>_runtime</td><td>▁</td></tr><tr><td>_timestamp</td><td>▁</td></tr><tr><td>_step</td><td>▁</td></tr></table><br/>"
      ],
      "text/plain": [
       "<IPython.core.display.HTML object>"
      ]
     },
     "metadata": {},
     "output_type": "display_data"
    },
    {
     "data": {
      "text/html": [
       "Synced 5 W&B file(s), 0 media file(s), 0 artifact file(s) and 0 other file(s)"
      ],
      "text/plain": [
       "<IPython.core.display.HTML object>"
      ]
     },
     "metadata": {},
     "output_type": "display_data"
    },
    {
     "data": {
      "text/html": [
       "\n",
       "                    <br/>Synced <strong style=\"color:#cdcd00\">swept-sweep-34</strong>: <a href=\"https://wandb.ai/lubomirkurcak/matrix-factorization/runs/mb9qx9g5\" target=\"_blank\">https://wandb.ai/lubomirkurcak/matrix-factorization/runs/mb9qx9g5</a><br/>\n",
       "                "
      ],
      "text/plain": [
       "<IPython.core.display.HTML object>"
      ]
     },
     "metadata": {},
     "output_type": "display_data"
    },
    {
     "name": "stderr",
     "output_type": "stream",
     "text": [
      "wandb: Agent Starting Run: bfkqrmak with config:\n",
      "wandb: \tdropout_keep_p: 1\n",
      "wandb: \tepochs: 50000\n",
      "wandb: \tfeatures: 15\n",
      "wandb: \tfp_emax: 111\n",
      "wandb: \tfp_explim: CPFLOAT_EXPRANGE_TARG\n",
      "wandb: \tfp_flip: CPFLOAT_SOFTERR\n",
      "wandb: \tfp_p: 0.2744975756079987\n",
      "wandb: \tfp_precision: 11\n",
      "wandb: \tfp_round: CPFLOAT_NO_RND\n",
      "wandb: \tfp_subnormal: CPFLOAT_SUBN_RND\n",
      "wandb: \tlearning_rate: 0.001\n",
      "wandb: \tloss: mean_squared_error\n",
      "wandb: \tmomentum_coefficient: 0\n",
      "wandb: \tnon_negative: True\n",
      "wandb: \tweight_decay: 0.0001\n",
      "wandb: wandb version 0.12.11 is available!  To upgrade, please run:\n",
      "wandb:  $ pip install wandb --upgrade\n"
     ]
    },
    {
     "data": {
      "text/html": [
       "\n",
       "                Tracking run with wandb version 0.10.21<br/>\n",
       "                Syncing run <strong style=\"color:#cdcd00\">lemon-sweep-35</strong> to <a href=\"https://wandb.ai\" target=\"_blank\">Weights & Biases</a> <a href=\"https://docs.wandb.com/integrations/jupyter.html\" target=\"_blank\">(Documentation)</a>.<br/>\n",
       "                Project page: <a href=\"https://wandb.ai/lubomirkurcak/matrix-factorization\" target=\"_blank\">https://wandb.ai/lubomirkurcak/matrix-factorization</a><br/>\n",
       "                Sweep page: <a href=\"https://wandb.ai/lubomirkurcak/matrix-factorization/sweeps/2q624iuc\" target=\"_blank\">https://wandb.ai/lubomirkurcak/matrix-factorization/sweeps/2q624iuc</a><br/>\n",
       "Run page: <a href=\"https://wandb.ai/lubomirkurcak/matrix-factorization/runs/bfkqrmak\" target=\"_blank\">https://wandb.ai/lubomirkurcak/matrix-factorization/runs/bfkqrmak</a><br/>\n",
       "                Run data is saved locally in <code>W:\\rpnn\\python\\wandb\\run-20220305_183316-bfkqrmak</code><br/><br/>\n",
       "            "
      ],
      "text/plain": [
       "<IPython.core.display.HTML object>"
      ]
     },
     "metadata": {},
     "output_type": "display_data"
    },
    {
     "name": "stdout",
     "output_type": "stream",
     "text": [
      "cpfloat_validate_optstruct returned -4\n"
     ]
    },
    {
     "data": {
      "text/html": [
       "<br/>Waiting for W&B process to finish, PID 19080<br/>Program ended successfully."
      ],
      "text/plain": [
       "<IPython.core.display.HTML object>"
      ]
     },
     "metadata": {},
     "output_type": "display_data"
    },
    {
     "data": {
      "application/vnd.jupyter.widget-view+json": {
       "model_id": "",
       "version_major": 2,
       "version_minor": 0
      },
      "text/plain": [
       "VBox(children=(Label(value=' 0.00MB of 0.00MB uploaded (0.00MB deduped)\\r'), FloatProgress(value=1.0, max=1.0)…"
      ]
     },
     "metadata": {},
     "output_type": "display_data"
    },
    {
     "data": {
      "text/html": [
       "Find user logs for this run at: <code>W:\\rpnn\\python\\wandb\\run-20220305_183316-bfkqrmak\\logs\\debug.log</code>"
      ],
      "text/plain": [
       "<IPython.core.display.HTML object>"
      ]
     },
     "metadata": {},
     "output_type": "display_data"
    },
    {
     "data": {
      "text/html": [
       "Find internal logs for this run at: <code>W:\\rpnn\\python\\wandb\\run-20220305_183316-bfkqrmak\\logs\\debug-internal.log</code>"
      ],
      "text/plain": [
       "<IPython.core.display.HTML object>"
      ]
     },
     "metadata": {},
     "output_type": "display_data"
    },
    {
     "data": {
      "text/html": [
       "<h3>Run summary:</h3><br/><style>\n",
       "    table.wandb td:nth-child(1) { padding: 0 10px; text-align: right }\n",
       "    </style><table class=\"wandb\">\n",
       "<tr><td>squared_error</td><td>180.75611</td></tr><tr><td>_runtime</td><td>19</td></tr><tr><td>_timestamp</td><td>1646501615</td></tr><tr><td>_step</td><td>0</td></tr></table>"
      ],
      "text/plain": [
       "<IPython.core.display.HTML object>"
      ]
     },
     "metadata": {},
     "output_type": "display_data"
    },
    {
     "data": {
      "text/html": [
       "<h3>Run history:</h3><br/><style>\n",
       "    table.wandb td:nth-child(1) { padding: 0 10px; text-align: right }\n",
       "    </style><table class=\"wandb\">\n",
       "<tr><td>squared_error</td><td>▁</td></tr><tr><td>_runtime</td><td>▁</td></tr><tr><td>_timestamp</td><td>▁</td></tr><tr><td>_step</td><td>▁</td></tr></table><br/>"
      ],
      "text/plain": [
       "<IPython.core.display.HTML object>"
      ]
     },
     "metadata": {},
     "output_type": "display_data"
    },
    {
     "data": {
      "text/html": [
       "Synced 5 W&B file(s), 0 media file(s), 0 artifact file(s) and 0 other file(s)"
      ],
      "text/plain": [
       "<IPython.core.display.HTML object>"
      ]
     },
     "metadata": {},
     "output_type": "display_data"
    },
    {
     "data": {
      "text/html": [
       "\n",
       "                    <br/>Synced <strong style=\"color:#cdcd00\">lemon-sweep-35</strong>: <a href=\"https://wandb.ai/lubomirkurcak/matrix-factorization/runs/bfkqrmak\" target=\"_blank\">https://wandb.ai/lubomirkurcak/matrix-factorization/runs/bfkqrmak</a><br/>\n",
       "                "
      ],
      "text/plain": [
       "<IPython.core.display.HTML object>"
      ]
     },
     "metadata": {},
     "output_type": "display_data"
    },
    {
     "name": "stderr",
     "output_type": "stream",
     "text": [
      "wandb: Agent Starting Run: pc7wo3he with config:\n",
      "wandb: \tdropout_keep_p: 1\n",
      "wandb: \tepochs: 50000\n",
      "wandb: \tfeatures: 15\n",
      "wandb: \tfp_emax: 75\n",
      "wandb: \tfp_explim: CPFLOAT_EXPRANGE_STOR\n",
      "wandb: \tfp_flip: CPFLOAT_SOFTERR\n",
      "wandb: \tfp_p: 0.2238477429028557\n",
      "wandb: \tfp_precision: 10\n",
      "wandb: \tfp_round: CPFLOAT_RND_TP\n",
      "wandb: \tfp_subnormal: CPFLOAT_SUBN_RND\n",
      "wandb: \tlearning_rate: 0.001\n",
      "wandb: \tloss: mean_squared_error\n",
      "wandb: \tmomentum_coefficient: 0\n",
      "wandb: \tnon_negative: True\n",
      "wandb: \tweight_decay: 0.0001\n",
      "wandb: wandb version 0.12.11 is available!  To upgrade, please run:\n",
      "wandb:  $ pip install wandb --upgrade\n"
     ]
    },
    {
     "data": {
      "text/html": [
       "\n",
       "                Tracking run with wandb version 0.10.21<br/>\n",
       "                Syncing run <strong style=\"color:#cdcd00\">confused-sweep-36</strong> to <a href=\"https://wandb.ai\" target=\"_blank\">Weights & Biases</a> <a href=\"https://docs.wandb.com/integrations/jupyter.html\" target=\"_blank\">(Documentation)</a>.<br/>\n",
       "                Project page: <a href=\"https://wandb.ai/lubomirkurcak/matrix-factorization\" target=\"_blank\">https://wandb.ai/lubomirkurcak/matrix-factorization</a><br/>\n",
       "                Sweep page: <a href=\"https://wandb.ai/lubomirkurcak/matrix-factorization/sweeps/2q624iuc\" target=\"_blank\">https://wandb.ai/lubomirkurcak/matrix-factorization/sweeps/2q624iuc</a><br/>\n",
       "Run page: <a href=\"https://wandb.ai/lubomirkurcak/matrix-factorization/runs/pc7wo3he\" target=\"_blank\">https://wandb.ai/lubomirkurcak/matrix-factorization/runs/pc7wo3he</a><br/>\n",
       "                Run data is saved locally in <code>W:\\rpnn\\python\\wandb\\run-20220305_183339-pc7wo3he</code><br/><br/>\n",
       "            "
      ],
      "text/plain": [
       "<IPython.core.display.HTML object>"
      ]
     },
     "metadata": {},
     "output_type": "display_data"
    },
    {
     "name": "stdout",
     "output_type": "stream",
     "text": [
      "cpfloat_validate_optstruct returned 0\n"
     ]
    },
    {
     "data": {
      "text/html": [
       "<br/>Waiting for W&B process to finish, PID 8752<br/>Program ended successfully."
      ],
      "text/plain": [
       "<IPython.core.display.HTML object>"
      ]
     },
     "metadata": {},
     "output_type": "display_data"
    },
    {
     "data": {
      "application/vnd.jupyter.widget-view+json": {
       "model_id": "",
       "version_major": 2,
       "version_minor": 0
      },
      "text/plain": [
       "VBox(children=(Label(value=' 0.00MB of 0.00MB uploaded (0.00MB deduped)\\r'), FloatProgress(value=1.0, max=1.0)…"
      ]
     },
     "metadata": {},
     "output_type": "display_data"
    },
    {
     "data": {
      "text/html": [
       "Find user logs for this run at: <code>W:\\rpnn\\python\\wandb\\run-20220305_183339-pc7wo3he\\logs\\debug.log</code>"
      ],
      "text/plain": [
       "<IPython.core.display.HTML object>"
      ]
     },
     "metadata": {},
     "output_type": "display_data"
    },
    {
     "data": {
      "text/html": [
       "Find internal logs for this run at: <code>W:\\rpnn\\python\\wandb\\run-20220305_183339-pc7wo3he\\logs\\debug-internal.log</code>"
      ],
      "text/plain": [
       "<IPython.core.display.HTML object>"
      ]
     },
     "metadata": {},
     "output_type": "display_data"
    },
    {
     "data": {
      "text/html": [
       "<h3>Run summary:</h3><br/><style>\n",
       "    table.wandb td:nth-child(1) { padding: 0 10px; text-align: right }\n",
       "    </style><table class=\"wandb\">\n",
       "<tr><td>squared_error</td><td>284.68415</td></tr><tr><td>_runtime</td><td>20</td></tr><tr><td>_timestamp</td><td>1646501639</td></tr><tr><td>_step</td><td>0</td></tr></table>"
      ],
      "text/plain": [
       "<IPython.core.display.HTML object>"
      ]
     },
     "metadata": {},
     "output_type": "display_data"
    },
    {
     "data": {
      "text/html": [
       "<h3>Run history:</h3><br/><style>\n",
       "    table.wandb td:nth-child(1) { padding: 0 10px; text-align: right }\n",
       "    </style><table class=\"wandb\">\n",
       "<tr><td>squared_error</td><td>▁</td></tr><tr><td>_runtime</td><td>▁</td></tr><tr><td>_timestamp</td><td>▁</td></tr><tr><td>_step</td><td>▁</td></tr></table><br/>"
      ],
      "text/plain": [
       "<IPython.core.display.HTML object>"
      ]
     },
     "metadata": {},
     "output_type": "display_data"
    },
    {
     "data": {
      "text/html": [
       "Synced 5 W&B file(s), 0 media file(s), 0 artifact file(s) and 0 other file(s)"
      ],
      "text/plain": [
       "<IPython.core.display.HTML object>"
      ]
     },
     "metadata": {},
     "output_type": "display_data"
    },
    {
     "data": {
      "text/html": [
       "\n",
       "                    <br/>Synced <strong style=\"color:#cdcd00\">confused-sweep-36</strong>: <a href=\"https://wandb.ai/lubomirkurcak/matrix-factorization/runs/pc7wo3he\" target=\"_blank\">https://wandb.ai/lubomirkurcak/matrix-factorization/runs/pc7wo3he</a><br/>\n",
       "                "
      ],
      "text/plain": [
       "<IPython.core.display.HTML object>"
      ]
     },
     "metadata": {},
     "output_type": "display_data"
    },
    {
     "name": "stderr",
     "output_type": "stream",
     "text": [
      "wandb: Agent Starting Run: b5ecy33a with config:\n",
      "wandb: \tdropout_keep_p: 1\n",
      "wandb: \tepochs: 50000\n",
      "wandb: \tfeatures: 15\n",
      "wandb: \tfp_emax: 118\n",
      "wandb: \tfp_explim: CPFLOAT_EXPRANGE_TARG\n",
      "wandb: \tfp_flip: CPFLOAT_SOFTERR\n",
      "wandb: \tfp_p: 0.1454334548625587\n",
      "wandb: \tfp_precision: 14\n",
      "wandb: \tfp_round: CPFLOAT_RND_TN\n",
      "wandb: \tfp_subnormal: CPFLOAT_SUBN_USE\n",
      "wandb: \tlearning_rate: 0.001\n",
      "wandb: \tloss: mean_squared_error\n",
      "wandb: \tmomentum_coefficient: 0\n",
      "wandb: \tnon_negative: True\n",
      "wandb: \tweight_decay: 0.0001\n",
      "wandb: wandb version 0.12.11 is available!  To upgrade, please run:\n",
      "wandb:  $ pip install wandb --upgrade\n"
     ]
    },
    {
     "data": {
      "text/html": [
       "\n",
       "                Tracking run with wandb version 0.10.21<br/>\n",
       "                Syncing run <strong style=\"color:#cdcd00\">solar-sweep-37</strong> to <a href=\"https://wandb.ai\" target=\"_blank\">Weights & Biases</a> <a href=\"https://docs.wandb.com/integrations/jupyter.html\" target=\"_blank\">(Documentation)</a>.<br/>\n",
       "                Project page: <a href=\"https://wandb.ai/lubomirkurcak/matrix-factorization\" target=\"_blank\">https://wandb.ai/lubomirkurcak/matrix-factorization</a><br/>\n",
       "                Sweep page: <a href=\"https://wandb.ai/lubomirkurcak/matrix-factorization/sweeps/2q624iuc\" target=\"_blank\">https://wandb.ai/lubomirkurcak/matrix-factorization/sweeps/2q624iuc</a><br/>\n",
       "Run page: <a href=\"https://wandb.ai/lubomirkurcak/matrix-factorization/runs/b5ecy33a\" target=\"_blank\">https://wandb.ai/lubomirkurcak/matrix-factorization/runs/b5ecy33a</a><br/>\n",
       "                Run data is saved locally in <code>W:\\rpnn\\python\\wandb\\run-20220305_183403-b5ecy33a</code><br/><br/>\n",
       "            "
      ],
      "text/plain": [
       "<IPython.core.display.HTML object>"
      ]
     },
     "metadata": {},
     "output_type": "display_data"
    },
    {
     "name": "stdout",
     "output_type": "stream",
     "text": [
      "cpfloat_validate_optstruct returned 0\n"
     ]
    },
    {
     "data": {
      "text/html": [
       "<br/>Waiting for W&B process to finish, PID 16920<br/>Program ended successfully."
      ],
      "text/plain": [
       "<IPython.core.display.HTML object>"
      ]
     },
     "metadata": {},
     "output_type": "display_data"
    },
    {
     "data": {
      "application/vnd.jupyter.widget-view+json": {
       "model_id": "",
       "version_major": 2,
       "version_minor": 0
      },
      "text/plain": [
       "VBox(children=(Label(value=' 0.00MB of 0.00MB uploaded (0.00MB deduped)\\r'), FloatProgress(value=1.0, max=1.0)…"
      ]
     },
     "metadata": {},
     "output_type": "display_data"
    },
    {
     "data": {
      "text/html": [
       "Find user logs for this run at: <code>W:\\rpnn\\python\\wandb\\run-20220305_183403-b5ecy33a\\logs\\debug.log</code>"
      ],
      "text/plain": [
       "<IPython.core.display.HTML object>"
      ]
     },
     "metadata": {},
     "output_type": "display_data"
    },
    {
     "data": {
      "text/html": [
       "Find internal logs for this run at: <code>W:\\rpnn\\python\\wandb\\run-20220305_183403-b5ecy33a\\logs\\debug-internal.log</code>"
      ],
      "text/plain": [
       "<IPython.core.display.HTML object>"
      ]
     },
     "metadata": {},
     "output_type": "display_data"
    },
    {
     "data": {
      "text/html": [
       "<h3>Run summary:</h3><br/><style>\n",
       "    table.wandb td:nth-child(1) { padding: 0 10px; text-align: right }\n",
       "    </style><table class=\"wandb\">\n",
       "<tr><td>squared_error</td><td>170.54872</td></tr><tr><td>_runtime</td><td>22</td></tr><tr><td>_timestamp</td><td>1646501665</td></tr><tr><td>_step</td><td>0</td></tr></table>"
      ],
      "text/plain": [
       "<IPython.core.display.HTML object>"
      ]
     },
     "metadata": {},
     "output_type": "display_data"
    },
    {
     "data": {
      "text/html": [
       "<h3>Run history:</h3><br/><style>\n",
       "    table.wandb td:nth-child(1) { padding: 0 10px; text-align: right }\n",
       "    </style><table class=\"wandb\">\n",
       "<tr><td>squared_error</td><td>▁</td></tr><tr><td>_runtime</td><td>▁</td></tr><tr><td>_timestamp</td><td>▁</td></tr><tr><td>_step</td><td>▁</td></tr></table><br/>"
      ],
      "text/plain": [
       "<IPython.core.display.HTML object>"
      ]
     },
     "metadata": {},
     "output_type": "display_data"
    },
    {
     "data": {
      "text/html": [
       "Synced 5 W&B file(s), 0 media file(s), 0 artifact file(s) and 0 other file(s)"
      ],
      "text/plain": [
       "<IPython.core.display.HTML object>"
      ]
     },
     "metadata": {},
     "output_type": "display_data"
    },
    {
     "data": {
      "text/html": [
       "\n",
       "                    <br/>Synced <strong style=\"color:#cdcd00\">solar-sweep-37</strong>: <a href=\"https://wandb.ai/lubomirkurcak/matrix-factorization/runs/b5ecy33a\" target=\"_blank\">https://wandb.ai/lubomirkurcak/matrix-factorization/runs/b5ecy33a</a><br/>\n",
       "                "
      ],
      "text/plain": [
       "<IPython.core.display.HTML object>"
      ]
     },
     "metadata": {},
     "output_type": "display_data"
    },
    {
     "name": "stderr",
     "output_type": "stream",
     "text": [
      "wandb: Agent Starting Run: kifdgsut with config:\n",
      "wandb: \tdropout_keep_p: 1\n",
      "wandb: \tepochs: 50000\n",
      "wandb: \tfeatures: 15\n",
      "wandb: \tfp_emax: 76\n",
      "wandb: \tfp_explim: CPFLOAT_EXPRANGE_TARG\n",
      "wandb: \tfp_flip: CPFLOAT_NO_SOFTERR\n",
      "wandb: \tfp_p: 0.48550109932909646\n",
      "wandb: \tfp_precision: 12\n",
      "wandb: \tfp_round: CPFLOAT_RND_TN\n",
      "wandb: \tfp_subnormal: CPFLOAT_SUBN_RND\n",
      "wandb: \tlearning_rate: 0.001\n",
      "wandb: \tloss: mean_squared_error\n",
      "wandb: \tmomentum_coefficient: 0\n",
      "wandb: \tnon_negative: True\n",
      "wandb: \tweight_decay: 0.0001\n",
      "wandb: wandb version 0.12.11 is available!  To upgrade, please run:\n",
      "wandb:  $ pip install wandb --upgrade\n"
     ]
    },
    {
     "data": {
      "text/html": [
       "\n",
       "                Tracking run with wandb version 0.10.21<br/>\n",
       "                Syncing run <strong style=\"color:#cdcd00\">pretty-sweep-38</strong> to <a href=\"https://wandb.ai\" target=\"_blank\">Weights & Biases</a> <a href=\"https://docs.wandb.com/integrations/jupyter.html\" target=\"_blank\">(Documentation)</a>.<br/>\n",
       "                Project page: <a href=\"https://wandb.ai/lubomirkurcak/matrix-factorization\" target=\"_blank\">https://wandb.ai/lubomirkurcak/matrix-factorization</a><br/>\n",
       "                Sweep page: <a href=\"https://wandb.ai/lubomirkurcak/matrix-factorization/sweeps/2q624iuc\" target=\"_blank\">https://wandb.ai/lubomirkurcak/matrix-factorization/sweeps/2q624iuc</a><br/>\n",
       "Run page: <a href=\"https://wandb.ai/lubomirkurcak/matrix-factorization/runs/kifdgsut\" target=\"_blank\">https://wandb.ai/lubomirkurcak/matrix-factorization/runs/kifdgsut</a><br/>\n",
       "                Run data is saved locally in <code>W:\\rpnn\\python\\wandb\\run-20220305_183430-kifdgsut</code><br/><br/>\n",
       "            "
      ],
      "text/plain": [
       "<IPython.core.display.HTML object>"
      ]
     },
     "metadata": {},
     "output_type": "display_data"
    },
    {
     "name": "stdout",
     "output_type": "stream",
     "text": [
      "cpfloat_validate_optstruct returned 0\n"
     ]
    },
    {
     "data": {
      "text/html": [
       "<br/>Waiting for W&B process to finish, PID 17600<br/>Program ended successfully."
      ],
      "text/plain": [
       "<IPython.core.display.HTML object>"
      ]
     },
     "metadata": {},
     "output_type": "display_data"
    },
    {
     "data": {
      "application/vnd.jupyter.widget-view+json": {
       "model_id": "",
       "version_major": 2,
       "version_minor": 0
      },
      "text/plain": [
       "VBox(children=(Label(value=' 0.00MB of 0.00MB uploaded (0.00MB deduped)\\r'), FloatProgress(value=1.0, max=1.0)…"
      ]
     },
     "metadata": {},
     "output_type": "display_data"
    },
    {
     "data": {
      "text/html": [
       "Find user logs for this run at: <code>W:\\rpnn\\python\\wandb\\run-20220305_183430-kifdgsut\\logs\\debug.log</code>"
      ],
      "text/plain": [
       "<IPython.core.display.HTML object>"
      ]
     },
     "metadata": {},
     "output_type": "display_data"
    },
    {
     "data": {
      "text/html": [
       "Find internal logs for this run at: <code>W:\\rpnn\\python\\wandb\\run-20220305_183430-kifdgsut\\logs\\debug-internal.log</code>"
      ],
      "text/plain": [
       "<IPython.core.display.HTML object>"
      ]
     },
     "metadata": {},
     "output_type": "display_data"
    },
    {
     "data": {
      "text/html": [
       "<h3>Run summary:</h3><br/><style>\n",
       "    table.wandb td:nth-child(1) { padding: 0 10px; text-align: right }\n",
       "    </style><table class=\"wandb\">\n",
       "<tr><td>squared_error</td><td>228.37</td></tr><tr><td>_runtime</td><td>17</td></tr><tr><td>_timestamp</td><td>1646501687</td></tr><tr><td>_step</td><td>0</td></tr></table>"
      ],
      "text/plain": [
       "<IPython.core.display.HTML object>"
      ]
     },
     "metadata": {},
     "output_type": "display_data"
    },
    {
     "data": {
      "text/html": [
       "<h3>Run history:</h3><br/><style>\n",
       "    table.wandb td:nth-child(1) { padding: 0 10px; text-align: right }\n",
       "    </style><table class=\"wandb\">\n",
       "<tr><td>squared_error</td><td>▁</td></tr><tr><td>_runtime</td><td>▁</td></tr><tr><td>_timestamp</td><td>▁</td></tr><tr><td>_step</td><td>▁</td></tr></table><br/>"
      ],
      "text/plain": [
       "<IPython.core.display.HTML object>"
      ]
     },
     "metadata": {},
     "output_type": "display_data"
    },
    {
     "data": {
      "text/html": [
       "Synced 5 W&B file(s), 0 media file(s), 0 artifact file(s) and 0 other file(s)"
      ],
      "text/plain": [
       "<IPython.core.display.HTML object>"
      ]
     },
     "metadata": {},
     "output_type": "display_data"
    },
    {
     "data": {
      "text/html": [
       "\n",
       "                    <br/>Synced <strong style=\"color:#cdcd00\">pretty-sweep-38</strong>: <a href=\"https://wandb.ai/lubomirkurcak/matrix-factorization/runs/kifdgsut\" target=\"_blank\">https://wandb.ai/lubomirkurcak/matrix-factorization/runs/kifdgsut</a><br/>\n",
       "                "
      ],
      "text/plain": [
       "<IPython.core.display.HTML object>"
      ]
     },
     "metadata": {},
     "output_type": "display_data"
    },
    {
     "name": "stderr",
     "output_type": "stream",
     "text": [
      "wandb: Agent Starting Run: pbqp3ln8 with config:\n",
      "wandb: \tdropout_keep_p: 1\n",
      "wandb: \tepochs: 50000\n",
      "wandb: \tfeatures: 15\n",
      "wandb: \tfp_emax: 30\n",
      "wandb: \tfp_explim: CPFLOAT_EXPRANGE_TARG\n",
      "wandb: \tfp_flip: CPFLOAT_SOFTERR\n",
      "wandb: \tfp_p: 0.40392125432125386\n",
      "wandb: \tfp_precision: 15\n",
      "wandb: \tfp_round: CPFLOAT_RND_SE\n",
      "wandb: \tfp_subnormal: CPFLOAT_SUBN_USE\n",
      "wandb: \tlearning_rate: 0.001\n",
      "wandb: \tloss: mean_squared_error\n",
      "wandb: \tmomentum_coefficient: 0\n",
      "wandb: \tnon_negative: True\n",
      "wandb: \tweight_decay: 0.0001\n",
      "wandb: wandb version 0.12.11 is available!  To upgrade, please run:\n",
      "wandb:  $ pip install wandb --upgrade\n"
     ]
    },
    {
     "data": {
      "text/html": [
       "\n",
       "                Tracking run with wandb version 0.10.21<br/>\n",
       "                Syncing run <strong style=\"color:#cdcd00\">iconic-sweep-39</strong> to <a href=\"https://wandb.ai\" target=\"_blank\">Weights & Biases</a> <a href=\"https://docs.wandb.com/integrations/jupyter.html\" target=\"_blank\">(Documentation)</a>.<br/>\n",
       "                Project page: <a href=\"https://wandb.ai/lubomirkurcak/matrix-factorization\" target=\"_blank\">https://wandb.ai/lubomirkurcak/matrix-factorization</a><br/>\n",
       "                Sweep page: <a href=\"https://wandb.ai/lubomirkurcak/matrix-factorization/sweeps/2q624iuc\" target=\"_blank\">https://wandb.ai/lubomirkurcak/matrix-factorization/sweeps/2q624iuc</a><br/>\n",
       "Run page: <a href=\"https://wandb.ai/lubomirkurcak/matrix-factorization/runs/pbqp3ln8\" target=\"_blank\">https://wandb.ai/lubomirkurcak/matrix-factorization/runs/pbqp3ln8</a><br/>\n",
       "                Run data is saved locally in <code>W:\\rpnn\\python\\wandb\\run-20220305_183451-pbqp3ln8</code><br/><br/>\n",
       "            "
      ],
      "text/plain": [
       "<IPython.core.display.HTML object>"
      ]
     },
     "metadata": {},
     "output_type": "display_data"
    },
    {
     "name": "stdout",
     "output_type": "stream",
     "text": [
      "cpfloat_validate_optstruct returned 0\n"
     ]
    },
    {
     "data": {
      "text/html": [
       "<br/>Waiting for W&B process to finish, PID 7240<br/>Program ended successfully."
      ],
      "text/plain": [
       "<IPython.core.display.HTML object>"
      ]
     },
     "metadata": {},
     "output_type": "display_data"
    },
    {
     "data": {
      "application/vnd.jupyter.widget-view+json": {
       "model_id": "",
       "version_major": 2,
       "version_minor": 0
      },
      "text/plain": [
       "VBox(children=(Label(value=' 0.00MB of 0.00MB uploaded (0.00MB deduped)\\r'), FloatProgress(value=1.0, max=1.0)…"
      ]
     },
     "metadata": {},
     "output_type": "display_data"
    },
    {
     "data": {
      "text/html": [
       "Find user logs for this run at: <code>W:\\rpnn\\python\\wandb\\run-20220305_183451-pbqp3ln8\\logs\\debug.log</code>"
      ],
      "text/plain": [
       "<IPython.core.display.HTML object>"
      ]
     },
     "metadata": {},
     "output_type": "display_data"
    },
    {
     "data": {
      "text/html": [
       "Find internal logs for this run at: <code>W:\\rpnn\\python\\wandb\\run-20220305_183451-pbqp3ln8\\logs\\debug-internal.log</code>"
      ],
      "text/plain": [
       "<IPython.core.display.HTML object>"
      ]
     },
     "metadata": {},
     "output_type": "display_data"
    },
    {
     "data": {
      "text/html": [
       "<h3>Run summary:</h3><br/><style>\n",
       "    table.wandb td:nth-child(1) { padding: 0 10px; text-align: right }\n",
       "    </style><table class=\"wandb\">\n",
       "<tr><td>squared_error</td><td>180.40897</td></tr><tr><td>_runtime</td><td>25</td></tr><tr><td>_timestamp</td><td>1646501716</td></tr><tr><td>_step</td><td>0</td></tr></table>"
      ],
      "text/plain": [
       "<IPython.core.display.HTML object>"
      ]
     },
     "metadata": {},
     "output_type": "display_data"
    },
    {
     "data": {
      "text/html": [
       "<h3>Run history:</h3><br/><style>\n",
       "    table.wandb td:nth-child(1) { padding: 0 10px; text-align: right }\n",
       "    </style><table class=\"wandb\">\n",
       "<tr><td>squared_error</td><td>▁</td></tr><tr><td>_runtime</td><td>▁</td></tr><tr><td>_timestamp</td><td>▁</td></tr><tr><td>_step</td><td>▁</td></tr></table><br/>"
      ],
      "text/plain": [
       "<IPython.core.display.HTML object>"
      ]
     },
     "metadata": {},
     "output_type": "display_data"
    },
    {
     "data": {
      "text/html": [
       "Synced 5 W&B file(s), 0 media file(s), 0 artifact file(s) and 0 other file(s)"
      ],
      "text/plain": [
       "<IPython.core.display.HTML object>"
      ]
     },
     "metadata": {},
     "output_type": "display_data"
    },
    {
     "data": {
      "text/html": [
       "\n",
       "                    <br/>Synced <strong style=\"color:#cdcd00\">iconic-sweep-39</strong>: <a href=\"https://wandb.ai/lubomirkurcak/matrix-factorization/runs/pbqp3ln8\" target=\"_blank\">https://wandb.ai/lubomirkurcak/matrix-factorization/runs/pbqp3ln8</a><br/>\n",
       "                "
      ],
      "text/plain": [
       "<IPython.core.display.HTML object>"
      ]
     },
     "metadata": {},
     "output_type": "display_data"
    },
    {
     "name": "stderr",
     "output_type": "stream",
     "text": [
      "wandb: Agent Starting Run: zy57ksbo with config:\n",
      "wandb: \tdropout_keep_p: 1\n",
      "wandb: \tepochs: 50000\n",
      "wandb: \tfeatures: 15\n",
      "wandb: \tfp_emax: 99\n",
      "wandb: \tfp_explim: CPFLOAT_EXPRANGE_TARG\n",
      "wandb: \tfp_flip: CPFLOAT_SOFTERR\n",
      "wandb: \tfp_p: 0.3516603385793302\n",
      "wandb: \tfp_precision: 10\n",
      "wandb: \tfp_round: CPFLOAT_RND_SP\n",
      "wandb: \tfp_subnormal: CPFLOAT_SUBN_USE\n",
      "wandb: \tlearning_rate: 0.001\n",
      "wandb: \tloss: mean_squared_error\n",
      "wandb: \tmomentum_coefficient: 0\n",
      "wandb: \tnon_negative: True\n",
      "wandb: \tweight_decay: 0.0001\n",
      "wandb: wandb version 0.12.11 is available!  To upgrade, please run:\n",
      "wandb:  $ pip install wandb --upgrade\n"
     ]
    },
    {
     "data": {
      "text/html": [
       "\n",
       "                Tracking run with wandb version 0.10.21<br/>\n",
       "                Syncing run <strong style=\"color:#cdcd00\">pretty-sweep-40</strong> to <a href=\"https://wandb.ai\" target=\"_blank\">Weights & Biases</a> <a href=\"https://docs.wandb.com/integrations/jupyter.html\" target=\"_blank\">(Documentation)</a>.<br/>\n",
       "                Project page: <a href=\"https://wandb.ai/lubomirkurcak/matrix-factorization\" target=\"_blank\">https://wandb.ai/lubomirkurcak/matrix-factorization</a><br/>\n",
       "                Sweep page: <a href=\"https://wandb.ai/lubomirkurcak/matrix-factorization/sweeps/2q624iuc\" target=\"_blank\">https://wandb.ai/lubomirkurcak/matrix-factorization/sweeps/2q624iuc</a><br/>\n",
       "Run page: <a href=\"https://wandb.ai/lubomirkurcak/matrix-factorization/runs/zy57ksbo\" target=\"_blank\">https://wandb.ai/lubomirkurcak/matrix-factorization/runs/zy57ksbo</a><br/>\n",
       "                Run data is saved locally in <code>W:\\rpnn\\python\\wandb\\run-20220305_183520-zy57ksbo</code><br/><br/>\n",
       "            "
      ],
      "text/plain": [
       "<IPython.core.display.HTML object>"
      ]
     },
     "metadata": {},
     "output_type": "display_data"
    },
    {
     "name": "stdout",
     "output_type": "stream",
     "text": [
      "cpfloat_validate_optstruct returned 0\n"
     ]
    },
    {
     "data": {
      "text/html": [
       "<br/>Waiting for W&B process to finish, PID 19908<br/>Program ended successfully."
      ],
      "text/plain": [
       "<IPython.core.display.HTML object>"
      ]
     },
     "metadata": {},
     "output_type": "display_data"
    },
    {
     "data": {
      "application/vnd.jupyter.widget-view+json": {
       "model_id": "",
       "version_major": 2,
       "version_minor": 0
      },
      "text/plain": [
       "VBox(children=(Label(value=' 0.00MB of 0.00MB uploaded (0.00MB deduped)\\r'), FloatProgress(value=1.0, max=1.0)…"
      ]
     },
     "metadata": {},
     "output_type": "display_data"
    },
    {
     "data": {
      "text/html": [
       "Find user logs for this run at: <code>W:\\rpnn\\python\\wandb\\run-20220305_183520-zy57ksbo\\logs\\debug.log</code>"
      ],
      "text/plain": [
       "<IPython.core.display.HTML object>"
      ]
     },
     "metadata": {},
     "output_type": "display_data"
    },
    {
     "data": {
      "text/html": [
       "Find internal logs for this run at: <code>W:\\rpnn\\python\\wandb\\run-20220305_183520-zy57ksbo\\logs\\debug-internal.log</code>"
      ],
      "text/plain": [
       "<IPython.core.display.HTML object>"
      ]
     },
     "metadata": {},
     "output_type": "display_data"
    },
    {
     "data": {
      "text/html": [
       "<h3>Run summary:</h3><br/><style>\n",
       "    table.wandb td:nth-child(1) { padding: 0 10px; text-align: right }\n",
       "    </style><table class=\"wandb\">\n",
       "<tr><td>squared_error</td><td>175.21595</td></tr><tr><td>_runtime</td><td>31</td></tr><tr><td>_timestamp</td><td>1646501751</td></tr><tr><td>_step</td><td>0</td></tr></table>"
      ],
      "text/plain": [
       "<IPython.core.display.HTML object>"
      ]
     },
     "metadata": {},
     "output_type": "display_data"
    },
    {
     "data": {
      "text/html": [
       "<h3>Run history:</h3><br/><style>\n",
       "    table.wandb td:nth-child(1) { padding: 0 10px; text-align: right }\n",
       "    </style><table class=\"wandb\">\n",
       "<tr><td>squared_error</td><td>▁</td></tr><tr><td>_runtime</td><td>▁</td></tr><tr><td>_timestamp</td><td>▁</td></tr><tr><td>_step</td><td>▁</td></tr></table><br/>"
      ],
      "text/plain": [
       "<IPython.core.display.HTML object>"
      ]
     },
     "metadata": {},
     "output_type": "display_data"
    },
    {
     "data": {
      "text/html": [
       "Synced 5 W&B file(s), 0 media file(s), 0 artifact file(s) and 0 other file(s)"
      ],
      "text/plain": [
       "<IPython.core.display.HTML object>"
      ]
     },
     "metadata": {},
     "output_type": "display_data"
    },
    {
     "data": {
      "text/html": [
       "\n",
       "                    <br/>Synced <strong style=\"color:#cdcd00\">pretty-sweep-40</strong>: <a href=\"https://wandb.ai/lubomirkurcak/matrix-factorization/runs/zy57ksbo\" target=\"_blank\">https://wandb.ai/lubomirkurcak/matrix-factorization/runs/zy57ksbo</a><br/>\n",
       "                "
      ],
      "text/plain": [
       "<IPython.core.display.HTML object>"
      ]
     },
     "metadata": {},
     "output_type": "display_data"
    },
    {
     "name": "stderr",
     "output_type": "stream",
     "text": [
      "wandb: Agent Starting Run: ux9bkimy with config:\n",
      "wandb: \tdropout_keep_p: 1\n",
      "wandb: \tepochs: 50000\n",
      "wandb: \tfeatures: 15\n",
      "wandb: \tfp_emax: 26\n",
      "wandb: \tfp_explim: CPFLOAT_EXPRANGE_TARG\n",
      "wandb: \tfp_flip: CPFLOAT_NO_SOFTERR\n",
      "wandb: \tfp_p: 0.11000424159942657\n",
      "wandb: \tfp_precision: 5\n",
      "wandb: \tfp_round: CPFLOAT_RND_NZ\n",
      "wandb: \tfp_subnormal: CPFLOAT_SUBN_USE\n",
      "wandb: \tlearning_rate: 0.001\n",
      "wandb: \tloss: mean_squared_error\n",
      "wandb: \tmomentum_coefficient: 0\n",
      "wandb: \tnon_negative: True\n",
      "wandb: \tweight_decay: 0.0001\n",
      "wandb: wandb version 0.12.11 is available!  To upgrade, please run:\n",
      "wandb:  $ pip install wandb --upgrade\n"
     ]
    },
    {
     "data": {
      "text/html": [
       "\n",
       "                Tracking run with wandb version 0.10.21<br/>\n",
       "                Syncing run <strong style=\"color:#cdcd00\">rare-sweep-41</strong> to <a href=\"https://wandb.ai\" target=\"_blank\">Weights & Biases</a> <a href=\"https://docs.wandb.com/integrations/jupyter.html\" target=\"_blank\">(Documentation)</a>.<br/>\n",
       "                Project page: <a href=\"https://wandb.ai/lubomirkurcak/matrix-factorization\" target=\"_blank\">https://wandb.ai/lubomirkurcak/matrix-factorization</a><br/>\n",
       "                Sweep page: <a href=\"https://wandb.ai/lubomirkurcak/matrix-factorization/sweeps/2q624iuc\" target=\"_blank\">https://wandb.ai/lubomirkurcak/matrix-factorization/sweeps/2q624iuc</a><br/>\n",
       "Run page: <a href=\"https://wandb.ai/lubomirkurcak/matrix-factorization/runs/ux9bkimy\" target=\"_blank\">https://wandb.ai/lubomirkurcak/matrix-factorization/runs/ux9bkimy</a><br/>\n",
       "                Run data is saved locally in <code>W:\\rpnn\\python\\wandb\\run-20220305_183555-ux9bkimy</code><br/><br/>\n",
       "            "
      ],
      "text/plain": [
       "<IPython.core.display.HTML object>"
      ]
     },
     "metadata": {},
     "output_type": "display_data"
    },
    {
     "name": "stdout",
     "output_type": "stream",
     "text": [
      "cpfloat_validate_optstruct returned 0\n"
     ]
    },
    {
     "data": {
      "text/html": [
       "<br/>Waiting for W&B process to finish, PID 18900<br/>Program ended successfully."
      ],
      "text/plain": [
       "<IPython.core.display.HTML object>"
      ]
     },
     "metadata": {},
     "output_type": "display_data"
    },
    {
     "data": {
      "application/vnd.jupyter.widget-view+json": {
       "model_id": "",
       "version_major": 2,
       "version_minor": 0
      },
      "text/plain": [
       "VBox(children=(Label(value=' 0.00MB of 0.00MB uploaded (0.00MB deduped)\\r'), FloatProgress(value=1.0, max=1.0)…"
      ]
     },
     "metadata": {},
     "output_type": "display_data"
    },
    {
     "data": {
      "text/html": [
       "Find user logs for this run at: <code>W:\\rpnn\\python\\wandb\\run-20220305_183555-ux9bkimy\\logs\\debug.log</code>"
      ],
      "text/plain": [
       "<IPython.core.display.HTML object>"
      ]
     },
     "metadata": {},
     "output_type": "display_data"
    },
    {
     "data": {
      "text/html": [
       "Find internal logs for this run at: <code>W:\\rpnn\\python\\wandb\\run-20220305_183555-ux9bkimy\\logs\\debug-internal.log</code>"
      ],
      "text/plain": [
       "<IPython.core.display.HTML object>"
      ]
     },
     "metadata": {},
     "output_type": "display_data"
    },
    {
     "data": {
      "text/html": [
       "<h3>Run summary:</h3><br/><style>\n",
       "    table.wandb td:nth-child(1) { padding: 0 10px; text-align: right }\n",
       "    </style><table class=\"wandb\">\n",
       "<tr><td>squared_error</td><td>2043.50781</td></tr><tr><td>_runtime</td><td>16</td></tr><tr><td>_timestamp</td><td>1646501771</td></tr><tr><td>_step</td><td>0</td></tr></table>"
      ],
      "text/plain": [
       "<IPython.core.display.HTML object>"
      ]
     },
     "metadata": {},
     "output_type": "display_data"
    },
    {
     "data": {
      "text/html": [
       "<h3>Run history:</h3><br/><style>\n",
       "    table.wandb td:nth-child(1) { padding: 0 10px; text-align: right }\n",
       "    </style><table class=\"wandb\">\n",
       "<tr><td>squared_error</td><td>▁</td></tr><tr><td>_runtime</td><td>▁</td></tr><tr><td>_timestamp</td><td>▁</td></tr><tr><td>_step</td><td>▁</td></tr></table><br/>"
      ],
      "text/plain": [
       "<IPython.core.display.HTML object>"
      ]
     },
     "metadata": {},
     "output_type": "display_data"
    },
    {
     "data": {
      "text/html": [
       "Synced 5 W&B file(s), 0 media file(s), 0 artifact file(s) and 0 other file(s)"
      ],
      "text/plain": [
       "<IPython.core.display.HTML object>"
      ]
     },
     "metadata": {},
     "output_type": "display_data"
    },
    {
     "data": {
      "text/html": [
       "\n",
       "                    <br/>Synced <strong style=\"color:#cdcd00\">rare-sweep-41</strong>: <a href=\"https://wandb.ai/lubomirkurcak/matrix-factorization/runs/ux9bkimy\" target=\"_blank\">https://wandb.ai/lubomirkurcak/matrix-factorization/runs/ux9bkimy</a><br/>\n",
       "                "
      ],
      "text/plain": [
       "<IPython.core.display.HTML object>"
      ]
     },
     "metadata": {},
     "output_type": "display_data"
    },
    {
     "name": "stderr",
     "output_type": "stream",
     "text": [
      "wandb: Agent Starting Run: 4ua6ijp4 with config:\n",
      "wandb: \tdropout_keep_p: 1\n",
      "wandb: \tepochs: 50000\n",
      "wandb: \tfeatures: 15\n",
      "wandb: \tfp_emax: 99\n",
      "wandb: \tfp_explim: CPFLOAT_EXPRANGE_STOR\n",
      "wandb: \tfp_flip: CPFLOAT_NO_SOFTERR\n",
      "wandb: \tfp_p: 0.1989015915576295\n",
      "wandb: \tfp_precision: 5\n",
      "wandb: \tfp_round: CPFLOAT_RND_SP\n",
      "wandb: \tfp_subnormal: CPFLOAT_SUBN_RND\n",
      "wandb: \tlearning_rate: 0.001\n",
      "wandb: \tloss: mean_squared_error\n",
      "wandb: \tmomentum_coefficient: 0\n",
      "wandb: \tnon_negative: True\n",
      "wandb: \tweight_decay: 0.0001\n",
      "wandb: wandb version 0.12.11 is available!  To upgrade, please run:\n",
      "wandb:  $ pip install wandb --upgrade\n"
     ]
    },
    {
     "data": {
      "text/html": [
       "\n",
       "                Tracking run with wandb version 0.10.21<br/>\n",
       "                Syncing run <strong style=\"color:#cdcd00\">quiet-sweep-42</strong> to <a href=\"https://wandb.ai\" target=\"_blank\">Weights & Biases</a> <a href=\"https://docs.wandb.com/integrations/jupyter.html\" target=\"_blank\">(Documentation)</a>.<br/>\n",
       "                Project page: <a href=\"https://wandb.ai/lubomirkurcak/matrix-factorization\" target=\"_blank\">https://wandb.ai/lubomirkurcak/matrix-factorization</a><br/>\n",
       "                Sweep page: <a href=\"https://wandb.ai/lubomirkurcak/matrix-factorization/sweeps/2q624iuc\" target=\"_blank\">https://wandb.ai/lubomirkurcak/matrix-factorization/sweeps/2q624iuc</a><br/>\n",
       "Run page: <a href=\"https://wandb.ai/lubomirkurcak/matrix-factorization/runs/4ua6ijp4\" target=\"_blank\">https://wandb.ai/lubomirkurcak/matrix-factorization/runs/4ua6ijp4</a><br/>\n",
       "                Run data is saved locally in <code>W:\\rpnn\\python\\wandb\\run-20220305_183616-4ua6ijp4</code><br/><br/>\n",
       "            "
      ],
      "text/plain": [
       "<IPython.core.display.HTML object>"
      ]
     },
     "metadata": {},
     "output_type": "display_data"
    },
    {
     "name": "stdout",
     "output_type": "stream",
     "text": [
      "cpfloat_validate_optstruct returned 0\n"
     ]
    },
    {
     "data": {
      "text/html": [
       "<br/>Waiting for W&B process to finish, PID 12044<br/>Program ended successfully."
      ],
      "text/plain": [
       "<IPython.core.display.HTML object>"
      ]
     },
     "metadata": {},
     "output_type": "display_data"
    },
    {
     "data": {
      "application/vnd.jupyter.widget-view+json": {
       "model_id": "",
       "version_major": 2,
       "version_minor": 0
      },
      "text/plain": [
       "VBox(children=(Label(value=' 0.00MB of 0.00MB uploaded (0.00MB deduped)\\r'), FloatProgress(value=1.0, max=1.0)…"
      ]
     },
     "metadata": {},
     "output_type": "display_data"
    },
    {
     "data": {
      "text/html": [
       "Find user logs for this run at: <code>W:\\rpnn\\python\\wandb\\run-20220305_183616-4ua6ijp4\\logs\\debug.log</code>"
      ],
      "text/plain": [
       "<IPython.core.display.HTML object>"
      ]
     },
     "metadata": {},
     "output_type": "display_data"
    },
    {
     "data": {
      "text/html": [
       "Find internal logs for this run at: <code>W:\\rpnn\\python\\wandb\\run-20220305_183616-4ua6ijp4\\logs\\debug-internal.log</code>"
      ],
      "text/plain": [
       "<IPython.core.display.HTML object>"
      ]
     },
     "metadata": {},
     "output_type": "display_data"
    },
    {
     "data": {
      "text/html": [
       "<h3>Run summary:</h3><br/><style>\n",
       "    table.wandb td:nth-child(1) { padding: 0 10px; text-align: right }\n",
       "    </style><table class=\"wandb\">\n",
       "<tr><td>squared_error</td><td>2713.16016</td></tr><tr><td>_runtime</td><td>26</td></tr><tr><td>_timestamp</td><td>1646501802</td></tr><tr><td>_step</td><td>0</td></tr></table>"
      ],
      "text/plain": [
       "<IPython.core.display.HTML object>"
      ]
     },
     "metadata": {},
     "output_type": "display_data"
    },
    {
     "data": {
      "text/html": [
       "<h3>Run history:</h3><br/><style>\n",
       "    table.wandb td:nth-child(1) { padding: 0 10px; text-align: right }\n",
       "    </style><table class=\"wandb\">\n",
       "<tr><td>squared_error</td><td>▁</td></tr><tr><td>_runtime</td><td>▁</td></tr><tr><td>_timestamp</td><td>▁</td></tr><tr><td>_step</td><td>▁</td></tr></table><br/>"
      ],
      "text/plain": [
       "<IPython.core.display.HTML object>"
      ]
     },
     "metadata": {},
     "output_type": "display_data"
    },
    {
     "data": {
      "text/html": [
       "Synced 5 W&B file(s), 0 media file(s), 0 artifact file(s) and 0 other file(s)"
      ],
      "text/plain": [
       "<IPython.core.display.HTML object>"
      ]
     },
     "metadata": {},
     "output_type": "display_data"
    },
    {
     "data": {
      "text/html": [
       "\n",
       "                    <br/>Synced <strong style=\"color:#cdcd00\">quiet-sweep-42</strong>: <a href=\"https://wandb.ai/lubomirkurcak/matrix-factorization/runs/4ua6ijp4\" target=\"_blank\">https://wandb.ai/lubomirkurcak/matrix-factorization/runs/4ua6ijp4</a><br/>\n",
       "                "
      ],
      "text/plain": [
       "<IPython.core.display.HTML object>"
      ]
     },
     "metadata": {},
     "output_type": "display_data"
    },
    {
     "name": "stderr",
     "output_type": "stream",
     "text": [
      "wandb: Agent Starting Run: gvkj78ll with config:\n",
      "wandb: \tdropout_keep_p: 1\n",
      "wandb: \tepochs: 50000\n",
      "wandb: \tfeatures: 15\n",
      "wandb: \tfp_emax: 88\n",
      "wandb: \tfp_explim: CPFLOAT_EXPRANGE_TARG\n",
      "wandb: \tfp_flip: CPFLOAT_SOFTERR\n",
      "wandb: \tfp_p: 0.2971623062581542\n",
      "wandb: \tfp_precision: 7\n",
      "wandb: \tfp_round: CPFLOAT_RND_SE\n",
      "wandb: \tfp_subnormal: CPFLOAT_SUBN_USE\n",
      "wandb: \tlearning_rate: 0.001\n",
      "wandb: \tloss: mean_squared_error\n",
      "wandb: \tmomentum_coefficient: 0\n",
      "wandb: \tnon_negative: True\n",
      "wandb: \tweight_decay: 0.0001\n",
      "wandb: wandb version 0.12.11 is available!  To upgrade, please run:\n",
      "wandb:  $ pip install wandb --upgrade\n"
     ]
    },
    {
     "data": {
      "text/html": [
       "\n",
       "                Tracking run with wandb version 0.10.21<br/>\n",
       "                Syncing run <strong style=\"color:#cdcd00\">fallen-sweep-43</strong> to <a href=\"https://wandb.ai\" target=\"_blank\">Weights & Biases</a> <a href=\"https://docs.wandb.com/integrations/jupyter.html\" target=\"_blank\">(Documentation)</a>.<br/>\n",
       "                Project page: <a href=\"https://wandb.ai/lubomirkurcak/matrix-factorization\" target=\"_blank\">https://wandb.ai/lubomirkurcak/matrix-factorization</a><br/>\n",
       "                Sweep page: <a href=\"https://wandb.ai/lubomirkurcak/matrix-factorization/sweeps/2q624iuc\" target=\"_blank\">https://wandb.ai/lubomirkurcak/matrix-factorization/sweeps/2q624iuc</a><br/>\n",
       "Run page: <a href=\"https://wandb.ai/lubomirkurcak/matrix-factorization/runs/gvkj78ll\" target=\"_blank\">https://wandb.ai/lubomirkurcak/matrix-factorization/runs/gvkj78ll</a><br/>\n",
       "                Run data is saved locally in <code>W:\\rpnn\\python\\wandb\\run-20220305_183649-gvkj78ll</code><br/><br/>\n",
       "            "
      ],
      "text/plain": [
       "<IPython.core.display.HTML object>"
      ]
     },
     "metadata": {},
     "output_type": "display_data"
    },
    {
     "name": "stdout",
     "output_type": "stream",
     "text": [
      "cpfloat_validate_optstruct returned 0\n"
     ]
    },
    {
     "data": {
      "text/html": [
       "<br/>Waiting for W&B process to finish, PID 3188<br/>Program ended successfully."
      ],
      "text/plain": [
       "<IPython.core.display.HTML object>"
      ]
     },
     "metadata": {},
     "output_type": "display_data"
    },
    {
     "data": {
      "application/vnd.jupyter.widget-view+json": {
       "model_id": "",
       "version_major": 2,
       "version_minor": 0
      },
      "text/plain": [
       "VBox(children=(Label(value=' 0.00MB of 0.00MB uploaded (0.00MB deduped)\\r'), FloatProgress(value=1.0, max=1.0)…"
      ]
     },
     "metadata": {},
     "output_type": "display_data"
    },
    {
     "data": {
      "text/html": [
       "Find user logs for this run at: <code>W:\\rpnn\\python\\wandb\\run-20220305_183649-gvkj78ll\\logs\\debug.log</code>"
      ],
      "text/plain": [
       "<IPython.core.display.HTML object>"
      ]
     },
     "metadata": {},
     "output_type": "display_data"
    },
    {
     "data": {
      "text/html": [
       "Find internal logs for this run at: <code>W:\\rpnn\\python\\wandb\\run-20220305_183649-gvkj78ll\\logs\\debug-internal.log</code>"
      ],
      "text/plain": [
       "<IPython.core.display.HTML object>"
      ]
     },
     "metadata": {},
     "output_type": "display_data"
    },
    {
     "data": {
      "text/html": [
       "<h3>Run summary:</h3><br/><style>\n",
       "    table.wandb td:nth-child(1) { padding: 0 10px; text-align: right }\n",
       "    </style><table class=\"wandb\">\n",
       "<tr><td>squared_error</td><td>1785.72559</td></tr><tr><td>_runtime</td><td>25</td></tr><tr><td>_timestamp</td><td>1646501834</td></tr><tr><td>_step</td><td>0</td></tr></table>"
      ],
      "text/plain": [
       "<IPython.core.display.HTML object>"
      ]
     },
     "metadata": {},
     "output_type": "display_data"
    },
    {
     "data": {
      "text/html": [
       "<h3>Run history:</h3><br/><style>\n",
       "    table.wandb td:nth-child(1) { padding: 0 10px; text-align: right }\n",
       "    </style><table class=\"wandb\">\n",
       "<tr><td>squared_error</td><td>▁</td></tr><tr><td>_runtime</td><td>▁</td></tr><tr><td>_timestamp</td><td>▁</td></tr><tr><td>_step</td><td>▁</td></tr></table><br/>"
      ],
      "text/plain": [
       "<IPython.core.display.HTML object>"
      ]
     },
     "metadata": {},
     "output_type": "display_data"
    },
    {
     "data": {
      "text/html": [
       "Synced 5 W&B file(s), 0 media file(s), 0 artifact file(s) and 0 other file(s)"
      ],
      "text/plain": [
       "<IPython.core.display.HTML object>"
      ]
     },
     "metadata": {},
     "output_type": "display_data"
    },
    {
     "data": {
      "text/html": [
       "\n",
       "                    <br/>Synced <strong style=\"color:#cdcd00\">fallen-sweep-43</strong>: <a href=\"https://wandb.ai/lubomirkurcak/matrix-factorization/runs/gvkj78ll\" target=\"_blank\">https://wandb.ai/lubomirkurcak/matrix-factorization/runs/gvkj78ll</a><br/>\n",
       "                "
      ],
      "text/plain": [
       "<IPython.core.display.HTML object>"
      ]
     },
     "metadata": {},
     "output_type": "display_data"
    },
    {
     "name": "stderr",
     "output_type": "stream",
     "text": [
      "wandb: Agent Starting Run: jsk58etr with config:\n",
      "wandb: \tdropout_keep_p: 1\n",
      "wandb: \tepochs: 50000\n",
      "wandb: \tfeatures: 15\n",
      "wandb: \tfp_emax: 22\n",
      "wandb: \tfp_explim: CPFLOAT_EXPRANGE_TARG\n",
      "wandb: \tfp_flip: CPFLOAT_NO_SOFTERR\n",
      "wandb: \tfp_p: 0.3525412507162144\n",
      "wandb: \tfp_precision: 6\n",
      "wandb: \tfp_round: CPFLOAT_NO_RND\n",
      "wandb: \tfp_subnormal: CPFLOAT_SUBN_RND\n",
      "wandb: \tlearning_rate: 0.001\n",
      "wandb: \tloss: mean_squared_error\n",
      "wandb: \tmomentum_coefficient: 0\n",
      "wandb: \tnon_negative: True\n",
      "wandb: \tweight_decay: 0.0001\n",
      "wandb: wandb version 0.12.11 is available!  To upgrade, please run:\n",
      "wandb:  $ pip install wandb --upgrade\n"
     ]
    },
    {
     "data": {
      "text/html": [
       "\n",
       "                Tracking run with wandb version 0.10.21<br/>\n",
       "                Syncing run <strong style=\"color:#cdcd00\">dutiful-sweep-44</strong> to <a href=\"https://wandb.ai\" target=\"_blank\">Weights & Biases</a> <a href=\"https://docs.wandb.com/integrations/jupyter.html\" target=\"_blank\">(Documentation)</a>.<br/>\n",
       "                Project page: <a href=\"https://wandb.ai/lubomirkurcak/matrix-factorization\" target=\"_blank\">https://wandb.ai/lubomirkurcak/matrix-factorization</a><br/>\n",
       "                Sweep page: <a href=\"https://wandb.ai/lubomirkurcak/matrix-factorization/sweeps/2q624iuc\" target=\"_blank\">https://wandb.ai/lubomirkurcak/matrix-factorization/sweeps/2q624iuc</a><br/>\n",
       "Run page: <a href=\"https://wandb.ai/lubomirkurcak/matrix-factorization/runs/jsk58etr\" target=\"_blank\">https://wandb.ai/lubomirkurcak/matrix-factorization/runs/jsk58etr</a><br/>\n",
       "                Run data is saved locally in <code>W:\\rpnn\\python\\wandb\\run-20220305_183721-jsk58etr</code><br/><br/>\n",
       "            "
      ],
      "text/plain": [
       "<IPython.core.display.HTML object>"
      ]
     },
     "metadata": {},
     "output_type": "display_data"
    },
    {
     "name": "stdout",
     "output_type": "stream",
     "text": [
      "cpfloat_validate_optstruct returned -4\n"
     ]
    },
    {
     "data": {
      "text/html": [
       "<br/>Waiting for W&B process to finish, PID 15336<br/>Program ended successfully."
      ],
      "text/plain": [
       "<IPython.core.display.HTML object>"
      ]
     },
     "metadata": {},
     "output_type": "display_data"
    },
    {
     "data": {
      "application/vnd.jupyter.widget-view+json": {
       "model_id": "",
       "version_major": 2,
       "version_minor": 0
      },
      "text/plain": [
       "VBox(children=(Label(value=' 0.00MB of 0.00MB uploaded (0.00MB deduped)\\r'), FloatProgress(value=1.0, max=1.0)…"
      ]
     },
     "metadata": {},
     "output_type": "display_data"
    },
    {
     "data": {
      "text/html": [
       "Find user logs for this run at: <code>W:\\rpnn\\python\\wandb\\run-20220305_183721-jsk58etr\\logs\\debug.log</code>"
      ],
      "text/plain": [
       "<IPython.core.display.HTML object>"
      ]
     },
     "metadata": {},
     "output_type": "display_data"
    },
    {
     "data": {
      "text/html": [
       "Find internal logs for this run at: <code>W:\\rpnn\\python\\wandb\\run-20220305_183721-jsk58etr\\logs\\debug-internal.log</code>"
      ],
      "text/plain": [
       "<IPython.core.display.HTML object>"
      ]
     },
     "metadata": {},
     "output_type": "display_data"
    },
    {
     "data": {
      "text/html": [
       "<h3>Run summary:</h3><br/><style>\n",
       "    table.wandb td:nth-child(1) { padding: 0 10px; text-align: right }\n",
       "    </style><table class=\"wandb\">\n",
       "<tr><td>squared_error</td><td>175.64439</td></tr><tr><td>_runtime</td><td>15</td></tr><tr><td>_timestamp</td><td>1646501856</td></tr><tr><td>_step</td><td>0</td></tr></table>"
      ],
      "text/plain": [
       "<IPython.core.display.HTML object>"
      ]
     },
     "metadata": {},
     "output_type": "display_data"
    },
    {
     "data": {
      "text/html": [
       "<h3>Run history:</h3><br/><style>\n",
       "    table.wandb td:nth-child(1) { padding: 0 10px; text-align: right }\n",
       "    </style><table class=\"wandb\">\n",
       "<tr><td>squared_error</td><td>▁</td></tr><tr><td>_runtime</td><td>▁</td></tr><tr><td>_timestamp</td><td>▁</td></tr><tr><td>_step</td><td>▁</td></tr></table><br/>"
      ],
      "text/plain": [
       "<IPython.core.display.HTML object>"
      ]
     },
     "metadata": {},
     "output_type": "display_data"
    },
    {
     "data": {
      "text/html": [
       "Synced 5 W&B file(s), 0 media file(s), 0 artifact file(s) and 0 other file(s)"
      ],
      "text/plain": [
       "<IPython.core.display.HTML object>"
      ]
     },
     "metadata": {},
     "output_type": "display_data"
    },
    {
     "data": {
      "text/html": [
       "\n",
       "                    <br/>Synced <strong style=\"color:#cdcd00\">dutiful-sweep-44</strong>: <a href=\"https://wandb.ai/lubomirkurcak/matrix-factorization/runs/jsk58etr\" target=\"_blank\">https://wandb.ai/lubomirkurcak/matrix-factorization/runs/jsk58etr</a><br/>\n",
       "                "
      ],
      "text/plain": [
       "<IPython.core.display.HTML object>"
      ]
     },
     "metadata": {},
     "output_type": "display_data"
    },
    {
     "name": "stderr",
     "output_type": "stream",
     "text": [
      "wandb: Agent Starting Run: p5e57zro with config:\n",
      "wandb: \tdropout_keep_p: 1\n",
      "wandb: \tepochs: 50000\n",
      "wandb: \tfeatures: 15\n",
      "wandb: \tfp_emax: 121\n",
      "wandb: \tfp_explim: CPFLOAT_EXPRANGE_STOR\n",
      "wandb: \tfp_flip: CPFLOAT_NO_SOFTERR\n",
      "wandb: \tfp_p: 0.23141118025234095\n",
      "wandb: \tfp_precision: 18\n",
      "wandb: \tfp_round: CPFLOAT_RND_TZ\n",
      "wandb: \tfp_subnormal: CPFLOAT_SUBN_RND\n",
      "wandb: \tlearning_rate: 0.001\n",
      "wandb: \tloss: mean_squared_error\n",
      "wandb: \tmomentum_coefficient: 0\n",
      "wandb: \tnon_negative: True\n",
      "wandb: \tweight_decay: 0.0001\n",
      "wandb: wandb version 0.12.11 is available!  To upgrade, please run:\n",
      "wandb:  $ pip install wandb --upgrade\n"
     ]
    },
    {
     "data": {
      "text/html": [
       "\n",
       "                Tracking run with wandb version 0.10.21<br/>\n",
       "                Syncing run <strong style=\"color:#cdcd00\">rare-sweep-45</strong> to <a href=\"https://wandb.ai\" target=\"_blank\">Weights & Biases</a> <a href=\"https://docs.wandb.com/integrations/jupyter.html\" target=\"_blank\">(Documentation)</a>.<br/>\n",
       "                Project page: <a href=\"https://wandb.ai/lubomirkurcak/matrix-factorization\" target=\"_blank\">https://wandb.ai/lubomirkurcak/matrix-factorization</a><br/>\n",
       "                Sweep page: <a href=\"https://wandb.ai/lubomirkurcak/matrix-factorization/sweeps/2q624iuc\" target=\"_blank\">https://wandb.ai/lubomirkurcak/matrix-factorization/sweeps/2q624iuc</a><br/>\n",
       "Run page: <a href=\"https://wandb.ai/lubomirkurcak/matrix-factorization/runs/p5e57zro\" target=\"_blank\">https://wandb.ai/lubomirkurcak/matrix-factorization/runs/p5e57zro</a><br/>\n",
       "                Run data is saved locally in <code>W:\\rpnn\\python\\wandb\\run-20220305_183741-p5e57zro</code><br/><br/>\n",
       "            "
      ],
      "text/plain": [
       "<IPython.core.display.HTML object>"
      ]
     },
     "metadata": {},
     "output_type": "display_data"
    },
    {
     "name": "stdout",
     "output_type": "stream",
     "text": [
      "cpfloat_validate_optstruct returned 0\n"
     ]
    },
    {
     "data": {
      "text/html": [
       "<br/>Waiting for W&B process to finish, PID 11752<br/>Program ended successfully."
      ],
      "text/plain": [
       "<IPython.core.display.HTML object>"
      ]
     },
     "metadata": {},
     "output_type": "display_data"
    },
    {
     "data": {
      "application/vnd.jupyter.widget-view+json": {
       "model_id": "",
       "version_major": 2,
       "version_minor": 0
      },
      "text/plain": [
       "VBox(children=(Label(value=' 0.00MB of 0.00MB uploaded (0.00MB deduped)\\r'), FloatProgress(value=1.0, max=1.0)…"
      ]
     },
     "metadata": {},
     "output_type": "display_data"
    },
    {
     "data": {
      "text/html": [
       "Find user logs for this run at: <code>W:\\rpnn\\python\\wandb\\run-20220305_183741-p5e57zro\\logs\\debug.log</code>"
      ],
      "text/plain": [
       "<IPython.core.display.HTML object>"
      ]
     },
     "metadata": {},
     "output_type": "display_data"
    },
    {
     "data": {
      "text/html": [
       "Find internal logs for this run at: <code>W:\\rpnn\\python\\wandb\\run-20220305_183741-p5e57zro\\logs\\debug-internal.log</code>"
      ],
      "text/plain": [
       "<IPython.core.display.HTML object>"
      ]
     },
     "metadata": {},
     "output_type": "display_data"
    },
    {
     "data": {
      "text/html": [
       "<h3>Run summary:</h3><br/><style>\n",
       "    table.wandb td:nth-child(1) { padding: 0 10px; text-align: right }\n",
       "    </style><table class=\"wandb\">\n",
       "<tr><td>squared_error</td><td>189.43534</td></tr><tr><td>_runtime</td><td>14</td></tr><tr><td>_timestamp</td><td>1646501876</td></tr><tr><td>_step</td><td>0</td></tr></table>"
      ],
      "text/plain": [
       "<IPython.core.display.HTML object>"
      ]
     },
     "metadata": {},
     "output_type": "display_data"
    },
    {
     "data": {
      "text/html": [
       "<h3>Run history:</h3><br/><style>\n",
       "    table.wandb td:nth-child(1) { padding: 0 10px; text-align: right }\n",
       "    </style><table class=\"wandb\">\n",
       "<tr><td>squared_error</td><td>▁</td></tr><tr><td>_runtime</td><td>▁</td></tr><tr><td>_timestamp</td><td>▁</td></tr><tr><td>_step</td><td>▁</td></tr></table><br/>"
      ],
      "text/plain": [
       "<IPython.core.display.HTML object>"
      ]
     },
     "metadata": {},
     "output_type": "display_data"
    },
    {
     "data": {
      "text/html": [
       "Synced 5 W&B file(s), 0 media file(s), 0 artifact file(s) and 0 other file(s)"
      ],
      "text/plain": [
       "<IPython.core.display.HTML object>"
      ]
     },
     "metadata": {},
     "output_type": "display_data"
    },
    {
     "data": {
      "text/html": [
       "\n",
       "                    <br/>Synced <strong style=\"color:#cdcd00\">rare-sweep-45</strong>: <a href=\"https://wandb.ai/lubomirkurcak/matrix-factorization/runs/p5e57zro\" target=\"_blank\">https://wandb.ai/lubomirkurcak/matrix-factorization/runs/p5e57zro</a><br/>\n",
       "                "
      ],
      "text/plain": [
       "<IPython.core.display.HTML object>"
      ]
     },
     "metadata": {},
     "output_type": "display_data"
    },
    {
     "name": "stderr",
     "output_type": "stream",
     "text": [
      "wandb: Agent Starting Run: o7f2igxi with config:\n",
      "wandb: \tdropout_keep_p: 1\n",
      "wandb: \tepochs: 50000\n",
      "wandb: \tfeatures: 15\n",
      "wandb: \tfp_emax: 38\n",
      "wandb: \tfp_explim: CPFLOAT_EXPRANGE_TARG\n",
      "wandb: \tfp_flip: CPFLOAT_NO_SOFTERR\n",
      "wandb: \tfp_p: 0.3859826981901168\n",
      "wandb: \tfp_precision: 11\n",
      "wandb: \tfp_round: CPFLOAT_RND_TZ\n",
      "wandb: \tfp_subnormal: CPFLOAT_SUBN_USE\n",
      "wandb: \tlearning_rate: 0.001\n",
      "wandb: \tloss: mean_squared_error\n",
      "wandb: \tmomentum_coefficient: 0\n",
      "wandb: \tnon_negative: True\n",
      "wandb: \tweight_decay: 0.0001\n",
      "wandb: wandb version 0.12.11 is available!  To upgrade, please run:\n",
      "wandb:  $ pip install wandb --upgrade\n"
     ]
    },
    {
     "data": {
      "text/html": [
       "\n",
       "                Tracking run with wandb version 0.10.21<br/>\n",
       "                Syncing run <strong style=\"color:#cdcd00\">fanciful-sweep-46</strong> to <a href=\"https://wandb.ai\" target=\"_blank\">Weights & Biases</a> <a href=\"https://docs.wandb.com/integrations/jupyter.html\" target=\"_blank\">(Documentation)</a>.<br/>\n",
       "                Project page: <a href=\"https://wandb.ai/lubomirkurcak/matrix-factorization\" target=\"_blank\">https://wandb.ai/lubomirkurcak/matrix-factorization</a><br/>\n",
       "                Sweep page: <a href=\"https://wandb.ai/lubomirkurcak/matrix-factorization/sweeps/2q624iuc\" target=\"_blank\">https://wandb.ai/lubomirkurcak/matrix-factorization/sweeps/2q624iuc</a><br/>\n",
       "Run page: <a href=\"https://wandb.ai/lubomirkurcak/matrix-factorization/runs/o7f2igxi\" target=\"_blank\">https://wandb.ai/lubomirkurcak/matrix-factorization/runs/o7f2igxi</a><br/>\n",
       "                Run data is saved locally in <code>W:\\rpnn\\python\\wandb\\run-20220305_183800-o7f2igxi</code><br/><br/>\n",
       "            "
      ],
      "text/plain": [
       "<IPython.core.display.HTML object>"
      ]
     },
     "metadata": {},
     "output_type": "display_data"
    },
    {
     "name": "stdout",
     "output_type": "stream",
     "text": [
      "cpfloat_validate_optstruct returned 0\n"
     ]
    },
    {
     "data": {
      "text/html": [
       "<br/>Waiting for W&B process to finish, PID 18488<br/>Program ended successfully."
      ],
      "text/plain": [
       "<IPython.core.display.HTML object>"
      ]
     },
     "metadata": {},
     "output_type": "display_data"
    },
    {
     "data": {
      "application/vnd.jupyter.widget-view+json": {
       "model_id": "",
       "version_major": 2,
       "version_minor": 0
      },
      "text/plain": [
       "VBox(children=(Label(value=' 0.00MB of 0.00MB uploaded (0.00MB deduped)\\r'), FloatProgress(value=1.0, max=1.0)…"
      ]
     },
     "metadata": {},
     "output_type": "display_data"
    },
    {
     "data": {
      "text/html": [
       "Find user logs for this run at: <code>W:\\rpnn\\python\\wandb\\run-20220305_183800-o7f2igxi\\logs\\debug.log</code>"
      ],
      "text/plain": [
       "<IPython.core.display.HTML object>"
      ]
     },
     "metadata": {},
     "output_type": "display_data"
    },
    {
     "data": {
      "text/html": [
       "Find internal logs for this run at: <code>W:\\rpnn\\python\\wandb\\run-20220305_183800-o7f2igxi\\logs\\debug-internal.log</code>"
      ],
      "text/plain": [
       "<IPython.core.display.HTML object>"
      ]
     },
     "metadata": {},
     "output_type": "display_data"
    },
    {
     "data": {
      "text/html": [
       "<h3>Run summary:</h3><br/><style>\n",
       "    table.wandb td:nth-child(1) { padding: 0 10px; text-align: right }\n",
       "    </style><table class=\"wandb\">\n",
       "<tr><td>squared_error</td><td>275.33556</td></tr><tr><td>_runtime</td><td>17</td></tr><tr><td>_timestamp</td><td>1646501897</td></tr><tr><td>_step</td><td>0</td></tr></table>"
      ],
      "text/plain": [
       "<IPython.core.display.HTML object>"
      ]
     },
     "metadata": {},
     "output_type": "display_data"
    },
    {
     "data": {
      "text/html": [
       "<h3>Run history:</h3><br/><style>\n",
       "    table.wandb td:nth-child(1) { padding: 0 10px; text-align: right }\n",
       "    </style><table class=\"wandb\">\n",
       "<tr><td>squared_error</td><td>▁</td></tr><tr><td>_runtime</td><td>▁</td></tr><tr><td>_timestamp</td><td>▁</td></tr><tr><td>_step</td><td>▁</td></tr></table><br/>"
      ],
      "text/plain": [
       "<IPython.core.display.HTML object>"
      ]
     },
     "metadata": {},
     "output_type": "display_data"
    },
    {
     "data": {
      "text/html": [
       "Synced 5 W&B file(s), 0 media file(s), 0 artifact file(s) and 0 other file(s)"
      ],
      "text/plain": [
       "<IPython.core.display.HTML object>"
      ]
     },
     "metadata": {},
     "output_type": "display_data"
    },
    {
     "data": {
      "text/html": [
       "\n",
       "                    <br/>Synced <strong style=\"color:#cdcd00\">fanciful-sweep-46</strong>: <a href=\"https://wandb.ai/lubomirkurcak/matrix-factorization/runs/o7f2igxi\" target=\"_blank\">https://wandb.ai/lubomirkurcak/matrix-factorization/runs/o7f2igxi</a><br/>\n",
       "                "
      ],
      "text/plain": [
       "<IPython.core.display.HTML object>"
      ]
     },
     "metadata": {},
     "output_type": "display_data"
    },
    {
     "name": "stderr",
     "output_type": "stream",
     "text": [
      "wandb: Agent Starting Run: 1mj9rpvx with config:\n",
      "wandb: \tdropout_keep_p: 1\n",
      "wandb: \tepochs: 50000\n",
      "wandb: \tfeatures: 15\n",
      "wandb: \tfp_emax: 82\n",
      "wandb: \tfp_explim: CPFLOAT_EXPRANGE_TARG\n",
      "wandb: \tfp_flip: CPFLOAT_NO_SOFTERR\n",
      "wandb: \tfp_p: 0.4536606121863042\n",
      "wandb: \tfp_precision: 24\n",
      "wandb: \tfp_round: CPFLOAT_RND_TN\n",
      "wandb: \tfp_subnormal: CPFLOAT_SUBN_RND\n",
      "wandb: \tlearning_rate: 0.001\n",
      "wandb: \tloss: mean_squared_error\n",
      "wandb: \tmomentum_coefficient: 0\n",
      "wandb: \tnon_negative: True\n",
      "wandb: \tweight_decay: 0.0001\n",
      "wandb: wandb version 0.12.11 is available!  To upgrade, please run:\n",
      "wandb:  $ pip install wandb --upgrade\n"
     ]
    },
    {
     "data": {
      "text/html": [
       "\n",
       "                Tracking run with wandb version 0.10.21<br/>\n",
       "                Syncing run <strong style=\"color:#cdcd00\">clean-sweep-47</strong> to <a href=\"https://wandb.ai\" target=\"_blank\">Weights & Biases</a> <a href=\"https://docs.wandb.com/integrations/jupyter.html\" target=\"_blank\">(Documentation)</a>.<br/>\n",
       "                Project page: <a href=\"https://wandb.ai/lubomirkurcak/matrix-factorization\" target=\"_blank\">https://wandb.ai/lubomirkurcak/matrix-factorization</a><br/>\n",
       "                Sweep page: <a href=\"https://wandb.ai/lubomirkurcak/matrix-factorization/sweeps/2q624iuc\" target=\"_blank\">https://wandb.ai/lubomirkurcak/matrix-factorization/sweeps/2q624iuc</a><br/>\n",
       "Run page: <a href=\"https://wandb.ai/lubomirkurcak/matrix-factorization/runs/1mj9rpvx\" target=\"_blank\">https://wandb.ai/lubomirkurcak/matrix-factorization/runs/1mj9rpvx</a><br/>\n",
       "                Run data is saved locally in <code>W:\\rpnn\\python\\wandb\\run-20220305_183821-1mj9rpvx</code><br/><br/>\n",
       "            "
      ],
      "text/plain": [
       "<IPython.core.display.HTML object>"
      ]
     },
     "metadata": {},
     "output_type": "display_data"
    },
    {
     "name": "stdout",
     "output_type": "stream",
     "text": [
      "cpfloat_validate_optstruct returned 0\n"
     ]
    },
    {
     "data": {
      "text/html": [
       "<br/>Waiting for W&B process to finish, PID 1496<br/>Program ended successfully."
      ],
      "text/plain": [
       "<IPython.core.display.HTML object>"
      ]
     },
     "metadata": {},
     "output_type": "display_data"
    },
    {
     "data": {
      "application/vnd.jupyter.widget-view+json": {
       "model_id": "",
       "version_major": 2,
       "version_minor": 0
      },
      "text/plain": [
       "VBox(children=(Label(value=' 0.00MB of 0.00MB uploaded (0.00MB deduped)\\r'), FloatProgress(value=1.0, max=1.0)…"
      ]
     },
     "metadata": {},
     "output_type": "display_data"
    },
    {
     "data": {
      "text/html": [
       "Find user logs for this run at: <code>W:\\rpnn\\python\\wandb\\run-20220305_183821-1mj9rpvx\\logs\\debug.log</code>"
      ],
      "text/plain": [
       "<IPython.core.display.HTML object>"
      ]
     },
     "metadata": {},
     "output_type": "display_data"
    },
    {
     "data": {
      "text/html": [
       "Find internal logs for this run at: <code>W:\\rpnn\\python\\wandb\\run-20220305_183821-1mj9rpvx\\logs\\debug-internal.log</code>"
      ],
      "text/plain": [
       "<IPython.core.display.HTML object>"
      ]
     },
     "metadata": {},
     "output_type": "display_data"
    },
    {
     "data": {
      "text/html": [
       "<h3>Run summary:</h3><br/><style>\n",
       "    table.wandb td:nth-child(1) { padding: 0 10px; text-align: right }\n",
       "    </style><table class=\"wandb\">\n",
       "<tr><td>squared_error</td><td>174.62457</td></tr><tr><td>_runtime</td><td>17</td></tr><tr><td>_timestamp</td><td>1646501918</td></tr><tr><td>_step</td><td>0</td></tr></table>"
      ],
      "text/plain": [
       "<IPython.core.display.HTML object>"
      ]
     },
     "metadata": {},
     "output_type": "display_data"
    },
    {
     "data": {
      "text/html": [
       "<h3>Run history:</h3><br/><style>\n",
       "    table.wandb td:nth-child(1) { padding: 0 10px; text-align: right }\n",
       "    </style><table class=\"wandb\">\n",
       "<tr><td>squared_error</td><td>▁</td></tr><tr><td>_runtime</td><td>▁</td></tr><tr><td>_timestamp</td><td>▁</td></tr><tr><td>_step</td><td>▁</td></tr></table><br/>"
      ],
      "text/plain": [
       "<IPython.core.display.HTML object>"
      ]
     },
     "metadata": {},
     "output_type": "display_data"
    },
    {
     "data": {
      "text/html": [
       "Synced 5 W&B file(s), 0 media file(s), 0 artifact file(s) and 0 other file(s)"
      ],
      "text/plain": [
       "<IPython.core.display.HTML object>"
      ]
     },
     "metadata": {},
     "output_type": "display_data"
    },
    {
     "data": {
      "text/html": [
       "\n",
       "                    <br/>Synced <strong style=\"color:#cdcd00\">clean-sweep-47</strong>: <a href=\"https://wandb.ai/lubomirkurcak/matrix-factorization/runs/1mj9rpvx\" target=\"_blank\">https://wandb.ai/lubomirkurcak/matrix-factorization/runs/1mj9rpvx</a><br/>\n",
       "                "
      ],
      "text/plain": [
       "<IPython.core.display.HTML object>"
      ]
     },
     "metadata": {},
     "output_type": "display_data"
    },
    {
     "name": "stderr",
     "output_type": "stream",
     "text": [
      "wandb: Agent Starting Run: nowr6ubm with config:\n",
      "wandb: \tdropout_keep_p: 1\n",
      "wandb: \tepochs: 50000\n",
      "wandb: \tfeatures: 15\n",
      "wandb: \tfp_emax: 74\n",
      "wandb: \tfp_explim: CPFLOAT_EXPRANGE_TARG\n",
      "wandb: \tfp_flip: CPFLOAT_NO_SOFTERR\n",
      "wandb: \tfp_p: 0.09206536796511088\n",
      "wandb: \tfp_precision: 9\n",
      "wandb: \tfp_round: CPFLOAT_RND_SE\n",
      "wandb: \tfp_subnormal: CPFLOAT_SUBN_USE\n",
      "wandb: \tlearning_rate: 0.001\n",
      "wandb: \tloss: mean_squared_error\n",
      "wandb: \tmomentum_coefficient: 0\n",
      "wandb: \tnon_negative: True\n",
      "wandb: \tweight_decay: 0.0001\n",
      "wandb: wandb version 0.12.11 is available!  To upgrade, please run:\n",
      "wandb:  $ pip install wandb --upgrade\n"
     ]
    },
    {
     "data": {
      "text/html": [
       "\n",
       "                Tracking run with wandb version 0.10.21<br/>\n",
       "                Syncing run <strong style=\"color:#cdcd00\">smart-sweep-48</strong> to <a href=\"https://wandb.ai\" target=\"_blank\">Weights & Biases</a> <a href=\"https://docs.wandb.com/integrations/jupyter.html\" target=\"_blank\">(Documentation)</a>.<br/>\n",
       "                Project page: <a href=\"https://wandb.ai/lubomirkurcak/matrix-factorization\" target=\"_blank\">https://wandb.ai/lubomirkurcak/matrix-factorization</a><br/>\n",
       "                Sweep page: <a href=\"https://wandb.ai/lubomirkurcak/matrix-factorization/sweeps/2q624iuc\" target=\"_blank\">https://wandb.ai/lubomirkurcak/matrix-factorization/sweeps/2q624iuc</a><br/>\n",
       "Run page: <a href=\"https://wandb.ai/lubomirkurcak/matrix-factorization/runs/nowr6ubm\" target=\"_blank\">https://wandb.ai/lubomirkurcak/matrix-factorization/runs/nowr6ubm</a><br/>\n",
       "                Run data is saved locally in <code>W:\\rpnn\\python\\wandb\\run-20220305_183842-nowr6ubm</code><br/><br/>\n",
       "            "
      ],
      "text/plain": [
       "<IPython.core.display.HTML object>"
      ]
     },
     "metadata": {},
     "output_type": "display_data"
    },
    {
     "name": "stdout",
     "output_type": "stream",
     "text": [
      "cpfloat_validate_optstruct returned 0\n"
     ]
    },
    {
     "data": {
      "text/html": [
       "<br/>Waiting for W&B process to finish, PID 21296<br/>Program ended successfully."
      ],
      "text/plain": [
       "<IPython.core.display.HTML object>"
      ]
     },
     "metadata": {},
     "output_type": "display_data"
    },
    {
     "data": {
      "application/vnd.jupyter.widget-view+json": {
       "model_id": "",
       "version_major": 2,
       "version_minor": 0
      },
      "text/plain": [
       "VBox(children=(Label(value=' 0.00MB of 0.00MB uploaded (0.00MB deduped)\\r'), FloatProgress(value=1.0, max=1.0)…"
      ]
     },
     "metadata": {},
     "output_type": "display_data"
    },
    {
     "data": {
      "text/html": [
       "Find user logs for this run at: <code>W:\\rpnn\\python\\wandb\\run-20220305_183842-nowr6ubm\\logs\\debug.log</code>"
      ],
      "text/plain": [
       "<IPython.core.display.HTML object>"
      ]
     },
     "metadata": {},
     "output_type": "display_data"
    },
    {
     "data": {
      "text/html": [
       "Find internal logs for this run at: <code>W:\\rpnn\\python\\wandb\\run-20220305_183842-nowr6ubm\\logs\\debug-internal.log</code>"
      ],
      "text/plain": [
       "<IPython.core.display.HTML object>"
      ]
     },
     "metadata": {},
     "output_type": "display_data"
    },
    {
     "data": {
      "text/html": [
       "<h3>Run summary:</h3><br/><style>\n",
       "    table.wandb td:nth-child(1) { padding: 0 10px; text-align: right }\n",
       "    </style><table class=\"wandb\">\n",
       "<tr><td>squared_error</td><td>496.75641</td></tr><tr><td>_runtime</td><td>20</td></tr><tr><td>_timestamp</td><td>1646501942</td></tr><tr><td>_step</td><td>0</td></tr></table>"
      ],
      "text/plain": [
       "<IPython.core.display.HTML object>"
      ]
     },
     "metadata": {},
     "output_type": "display_data"
    },
    {
     "data": {
      "text/html": [
       "<h3>Run history:</h3><br/><style>\n",
       "    table.wandb td:nth-child(1) { padding: 0 10px; text-align: right }\n",
       "    </style><table class=\"wandb\">\n",
       "<tr><td>squared_error</td><td>▁</td></tr><tr><td>_runtime</td><td>▁</td></tr><tr><td>_timestamp</td><td>▁</td></tr><tr><td>_step</td><td>▁</td></tr></table><br/>"
      ],
      "text/plain": [
       "<IPython.core.display.HTML object>"
      ]
     },
     "metadata": {},
     "output_type": "display_data"
    },
    {
     "data": {
      "text/html": [
       "Synced 5 W&B file(s), 0 media file(s), 0 artifact file(s) and 0 other file(s)"
      ],
      "text/plain": [
       "<IPython.core.display.HTML object>"
      ]
     },
     "metadata": {},
     "output_type": "display_data"
    },
    {
     "data": {
      "text/html": [
       "\n",
       "                    <br/>Synced <strong style=\"color:#cdcd00\">smart-sweep-48</strong>: <a href=\"https://wandb.ai/lubomirkurcak/matrix-factorization/runs/nowr6ubm\" target=\"_blank\">https://wandb.ai/lubomirkurcak/matrix-factorization/runs/nowr6ubm</a><br/>\n",
       "                "
      ],
      "text/plain": [
       "<IPython.core.display.HTML object>"
      ]
     },
     "metadata": {},
     "output_type": "display_data"
    },
    {
     "name": "stderr",
     "output_type": "stream",
     "text": [
      "wandb: Agent Starting Run: v5984e1j with config:\n",
      "wandb: \tdropout_keep_p: 1\n",
      "wandb: \tepochs: 50000\n",
      "wandb: \tfeatures: 15\n",
      "wandb: \tfp_emax: 118\n",
      "wandb: \tfp_explim: CPFLOAT_EXPRANGE_STOR\n",
      "wandb: \tfp_flip: CPFLOAT_SOFTERR\n",
      "wandb: \tfp_p: 0.4106316668522259\n",
      "wandb: \tfp_precision: 17\n",
      "wandb: \tfp_round: CPFLOAT_RND_OD\n",
      "wandb: \tfp_subnormal: CPFLOAT_SUBN_RND\n",
      "wandb: \tlearning_rate: 0.001\n",
      "wandb: \tloss: mean_squared_error\n",
      "wandb: \tmomentum_coefficient: 0\n",
      "wandb: \tnon_negative: True\n",
      "wandb: \tweight_decay: 0.0001\n",
      "wandb: wandb version 0.12.11 is available!  To upgrade, please run:\n",
      "wandb:  $ pip install wandb --upgrade\n"
     ]
    },
    {
     "data": {
      "text/html": [
       "\n",
       "                Tracking run with wandb version 0.10.21<br/>\n",
       "                Syncing run <strong style=\"color:#cdcd00\">floral-sweep-49</strong> to <a href=\"https://wandb.ai\" target=\"_blank\">Weights & Biases</a> <a href=\"https://docs.wandb.com/integrations/jupyter.html\" target=\"_blank\">(Documentation)</a>.<br/>\n",
       "                Project page: <a href=\"https://wandb.ai/lubomirkurcak/matrix-factorization\" target=\"_blank\">https://wandb.ai/lubomirkurcak/matrix-factorization</a><br/>\n",
       "                Sweep page: <a href=\"https://wandb.ai/lubomirkurcak/matrix-factorization/sweeps/2q624iuc\" target=\"_blank\">https://wandb.ai/lubomirkurcak/matrix-factorization/sweeps/2q624iuc</a><br/>\n",
       "Run page: <a href=\"https://wandb.ai/lubomirkurcak/matrix-factorization/runs/v5984e1j\" target=\"_blank\">https://wandb.ai/lubomirkurcak/matrix-factorization/runs/v5984e1j</a><br/>\n",
       "                Run data is saved locally in <code>W:\\rpnn\\python\\wandb\\run-20220305_183907-v5984e1j</code><br/><br/>\n",
       "            "
      ],
      "text/plain": [
       "<IPython.core.display.HTML object>"
      ]
     },
     "metadata": {},
     "output_type": "display_data"
    },
    {
     "name": "stdout",
     "output_type": "stream",
     "text": [
      "cpfloat_validate_optstruct returned 0\n"
     ]
    },
    {
     "data": {
      "text/html": [
       "<br/>Waiting for W&B process to finish, PID 24448<br/>Program ended successfully."
      ],
      "text/plain": [
       "<IPython.core.display.HTML object>"
      ]
     },
     "metadata": {},
     "output_type": "display_data"
    },
    {
     "data": {
      "application/vnd.jupyter.widget-view+json": {
       "model_id": "",
       "version_major": 2,
       "version_minor": 0
      },
      "text/plain": [
       "VBox(children=(Label(value=' 0.00MB of 0.00MB uploaded (0.00MB deduped)\\r'), FloatProgress(value=1.0, max=1.0)…"
      ]
     },
     "metadata": {},
     "output_type": "display_data"
    },
    {
     "data": {
      "text/html": [
       "Find user logs for this run at: <code>W:\\rpnn\\python\\wandb\\run-20220305_183907-v5984e1j\\logs\\debug.log</code>"
      ],
      "text/plain": [
       "<IPython.core.display.HTML object>"
      ]
     },
     "metadata": {},
     "output_type": "display_data"
    },
    {
     "data": {
      "text/html": [
       "Find internal logs for this run at: <code>W:\\rpnn\\python\\wandb\\run-20220305_183907-v5984e1j\\logs\\debug-internal.log</code>"
      ],
      "text/plain": [
       "<IPython.core.display.HTML object>"
      ]
     },
     "metadata": {},
     "output_type": "display_data"
    },
    {
     "data": {
      "text/html": [
       "<h3>Run summary:</h3><br/><style>\n",
       "    table.wandb td:nth-child(1) { padding: 0 10px; text-align: right }\n",
       "    </style><table class=\"wandb\">\n",
       "<tr><td>squared_error</td><td>175.58574</td></tr><tr><td>_runtime</td><td>21</td></tr><tr><td>_timestamp</td><td>1646501968</td></tr><tr><td>_step</td><td>0</td></tr></table>"
      ],
      "text/plain": [
       "<IPython.core.display.HTML object>"
      ]
     },
     "metadata": {},
     "output_type": "display_data"
    },
    {
     "data": {
      "text/html": [
       "<h3>Run history:</h3><br/><style>\n",
       "    table.wandb td:nth-child(1) { padding: 0 10px; text-align: right }\n",
       "    </style><table class=\"wandb\">\n",
       "<tr><td>squared_error</td><td>▁</td></tr><tr><td>_runtime</td><td>▁</td></tr><tr><td>_timestamp</td><td>▁</td></tr><tr><td>_step</td><td>▁</td></tr></table><br/>"
      ],
      "text/plain": [
       "<IPython.core.display.HTML object>"
      ]
     },
     "metadata": {},
     "output_type": "display_data"
    },
    {
     "data": {
      "text/html": [
       "Synced 5 W&B file(s), 0 media file(s), 0 artifact file(s) and 0 other file(s)"
      ],
      "text/plain": [
       "<IPython.core.display.HTML object>"
      ]
     },
     "metadata": {},
     "output_type": "display_data"
    },
    {
     "data": {
      "text/html": [
       "\n",
       "                    <br/>Synced <strong style=\"color:#cdcd00\">floral-sweep-49</strong>: <a href=\"https://wandb.ai/lubomirkurcak/matrix-factorization/runs/v5984e1j\" target=\"_blank\">https://wandb.ai/lubomirkurcak/matrix-factorization/runs/v5984e1j</a><br/>\n",
       "                "
      ],
      "text/plain": [
       "<IPython.core.display.HTML object>"
      ]
     },
     "metadata": {},
     "output_type": "display_data"
    },
    {
     "name": "stderr",
     "output_type": "stream",
     "text": [
      "wandb: Agent Starting Run: o0uysose with config:\n",
      "wandb: \tdropout_keep_p: 1\n",
      "wandb: \tepochs: 50000\n",
      "wandb: \tfeatures: 15\n",
      "wandb: \tfp_emax: 103\n",
      "wandb: \tfp_explim: CPFLOAT_EXPRANGE_STOR\n",
      "wandb: \tfp_flip: CPFLOAT_NO_SOFTERR\n",
      "wandb: \tfp_p: 0.23461037979408297\n",
      "wandb: \tfp_precision: 10\n",
      "wandb: \tfp_round: CPFLOAT_RND_TZ\n",
      "wandb: \tfp_subnormal: CPFLOAT_SUBN_RND\n",
      "wandb: \tlearning_rate: 0.001\n",
      "wandb: \tloss: mean_squared_error\n",
      "wandb: \tmomentum_coefficient: 0\n",
      "wandb: \tnon_negative: True\n",
      "wandb: \tweight_decay: 0.0001\n",
      "wandb: wandb version 0.12.11 is available!  To upgrade, please run:\n",
      "wandb:  $ pip install wandb --upgrade\n"
     ]
    },
    {
     "data": {
      "text/html": [
       "\n",
       "                Tracking run with wandb version 0.10.21<br/>\n",
       "                Syncing run <strong style=\"color:#cdcd00\">fallen-sweep-50</strong> to <a href=\"https://wandb.ai\" target=\"_blank\">Weights & Biases</a> <a href=\"https://docs.wandb.com/integrations/jupyter.html\" target=\"_blank\">(Documentation)</a>.<br/>\n",
       "                Project page: <a href=\"https://wandb.ai/lubomirkurcak/matrix-factorization\" target=\"_blank\">https://wandb.ai/lubomirkurcak/matrix-factorization</a><br/>\n",
       "                Sweep page: <a href=\"https://wandb.ai/lubomirkurcak/matrix-factorization/sweeps/2q624iuc\" target=\"_blank\">https://wandb.ai/lubomirkurcak/matrix-factorization/sweeps/2q624iuc</a><br/>\n",
       "Run page: <a href=\"https://wandb.ai/lubomirkurcak/matrix-factorization/runs/o0uysose\" target=\"_blank\">https://wandb.ai/lubomirkurcak/matrix-factorization/runs/o0uysose</a><br/>\n",
       "                Run data is saved locally in <code>W:\\rpnn\\python\\wandb\\run-20220305_183933-o0uysose</code><br/><br/>\n",
       "            "
      ],
      "text/plain": [
       "<IPython.core.display.HTML object>"
      ]
     },
     "metadata": {},
     "output_type": "display_data"
    },
    {
     "name": "stdout",
     "output_type": "stream",
     "text": [
      "cpfloat_validate_optstruct returned 0\n"
     ]
    },
    {
     "data": {
      "text/html": [
       "<br/>Waiting for W&B process to finish, PID 4720<br/>Program ended successfully."
      ],
      "text/plain": [
       "<IPython.core.display.HTML object>"
      ]
     },
     "metadata": {},
     "output_type": "display_data"
    },
    {
     "data": {
      "application/vnd.jupyter.widget-view+json": {
       "model_id": "",
       "version_major": 2,
       "version_minor": 0
      },
      "text/plain": [
       "VBox(children=(Label(value=' 0.00MB of 0.00MB uploaded (0.00MB deduped)\\r'), FloatProgress(value=1.0, max=1.0)…"
      ]
     },
     "metadata": {},
     "output_type": "display_data"
    },
    {
     "data": {
      "text/html": [
       "Find user logs for this run at: <code>W:\\rpnn\\python\\wandb\\run-20220305_183933-o0uysose\\logs\\debug.log</code>"
      ],
      "text/plain": [
       "<IPython.core.display.HTML object>"
      ]
     },
     "metadata": {},
     "output_type": "display_data"
    },
    {
     "data": {
      "text/html": [
       "Find internal logs for this run at: <code>W:\\rpnn\\python\\wandb\\run-20220305_183933-o0uysose\\logs\\debug-internal.log</code>"
      ],
      "text/plain": [
       "<IPython.core.display.HTML object>"
      ]
     },
     "metadata": {},
     "output_type": "display_data"
    },
    {
     "data": {
      "text/html": [
       "<h3>Run summary:</h3><br/><style>\n",
       "    table.wandb td:nth-child(1) { padding: 0 10px; text-align: right }\n",
       "    </style><table class=\"wandb\">\n",
       "<tr><td>squared_error</td><td>331.05737</td></tr><tr><td>_runtime</td><td>14</td></tr><tr><td>_timestamp</td><td>1646501987</td></tr><tr><td>_step</td><td>0</td></tr></table>"
      ],
      "text/plain": [
       "<IPython.core.display.HTML object>"
      ]
     },
     "metadata": {},
     "output_type": "display_data"
    },
    {
     "data": {
      "text/html": [
       "<h3>Run history:</h3><br/><style>\n",
       "    table.wandb td:nth-child(1) { padding: 0 10px; text-align: right }\n",
       "    </style><table class=\"wandb\">\n",
       "<tr><td>squared_error</td><td>▁</td></tr><tr><td>_runtime</td><td>▁</td></tr><tr><td>_timestamp</td><td>▁</td></tr><tr><td>_step</td><td>▁</td></tr></table><br/>"
      ],
      "text/plain": [
       "<IPython.core.display.HTML object>"
      ]
     },
     "metadata": {},
     "output_type": "display_data"
    },
    {
     "data": {
      "text/html": [
       "Synced 5 W&B file(s), 0 media file(s), 0 artifact file(s) and 0 other file(s)"
      ],
      "text/plain": [
       "<IPython.core.display.HTML object>"
      ]
     },
     "metadata": {},
     "output_type": "display_data"
    },
    {
     "data": {
      "text/html": [
       "\n",
       "                    <br/>Synced <strong style=\"color:#cdcd00\">fallen-sweep-50</strong>: <a href=\"https://wandb.ai/lubomirkurcak/matrix-factorization/runs/o0uysose\" target=\"_blank\">https://wandb.ai/lubomirkurcak/matrix-factorization/runs/o0uysose</a><br/>\n",
       "                "
      ],
      "text/plain": [
       "<IPython.core.display.HTML object>"
      ]
     },
     "metadata": {},
     "output_type": "display_data"
    },
    {
     "name": "stderr",
     "output_type": "stream",
     "text": [
      "wandb: Agent Starting Run: cab34x0s with config:\n",
      "wandb: \tdropout_keep_p: 1\n",
      "wandb: \tepochs: 50000\n",
      "wandb: \tfeatures: 15\n",
      "wandb: \tfp_emax: 97\n",
      "wandb: \tfp_explim: CPFLOAT_EXPRANGE_STOR\n",
      "wandb: \tfp_flip: CPFLOAT_SOFTERR\n",
      "wandb: \tfp_p: 0.4831931688577781\n",
      "wandb: \tfp_precision: 9\n",
      "wandb: \tfp_round: CPFLOAT_RND_TP\n",
      "wandb: \tfp_subnormal: CPFLOAT_SUBN_RND\n",
      "wandb: \tlearning_rate: 0.001\n",
      "wandb: \tloss: mean_squared_error\n",
      "wandb: \tmomentum_coefficient: 0\n",
      "wandb: \tnon_negative: True\n",
      "wandb: \tweight_decay: 0.0001\n",
      "wandb: wandb version 0.12.11 is available!  To upgrade, please run:\n",
      "wandb:  $ pip install wandb --upgrade\n"
     ]
    },
    {
     "data": {
      "text/html": [
       "\n",
       "                Tracking run with wandb version 0.10.21<br/>\n",
       "                Syncing run <strong style=\"color:#cdcd00\">honest-sweep-51</strong> to <a href=\"https://wandb.ai\" target=\"_blank\">Weights & Biases</a> <a href=\"https://docs.wandb.com/integrations/jupyter.html\" target=\"_blank\">(Documentation)</a>.<br/>\n",
       "                Project page: <a href=\"https://wandb.ai/lubomirkurcak/matrix-factorization\" target=\"_blank\">https://wandb.ai/lubomirkurcak/matrix-factorization</a><br/>\n",
       "                Sweep page: <a href=\"https://wandb.ai/lubomirkurcak/matrix-factorization/sweeps/2q624iuc\" target=\"_blank\">https://wandb.ai/lubomirkurcak/matrix-factorization/sweeps/2q624iuc</a><br/>\n",
       "Run page: <a href=\"https://wandb.ai/lubomirkurcak/matrix-factorization/runs/cab34x0s\" target=\"_blank\">https://wandb.ai/lubomirkurcak/matrix-factorization/runs/cab34x0s</a><br/>\n",
       "                Run data is saved locally in <code>W:\\rpnn\\python\\wandb\\run-20220305_183952-cab34x0s</code><br/><br/>\n",
       "            "
      ],
      "text/plain": [
       "<IPython.core.display.HTML object>"
      ]
     },
     "metadata": {},
     "output_type": "display_data"
    },
    {
     "name": "stdout",
     "output_type": "stream",
     "text": [
      "cpfloat_validate_optstruct returned 0\n"
     ]
    },
    {
     "data": {
      "text/html": [
       "<br/>Waiting for W&B process to finish, PID 492<br/>Program ended successfully."
      ],
      "text/plain": [
       "<IPython.core.display.HTML object>"
      ]
     },
     "metadata": {},
     "output_type": "display_data"
    },
    {
     "data": {
      "application/vnd.jupyter.widget-view+json": {
       "model_id": "",
       "version_major": 2,
       "version_minor": 0
      },
      "text/plain": [
       "VBox(children=(Label(value=' 0.00MB of 0.00MB uploaded (0.00MB deduped)\\r'), FloatProgress(value=1.0, max=1.0)…"
      ]
     },
     "metadata": {},
     "output_type": "display_data"
    },
    {
     "data": {
      "text/html": [
       "Find user logs for this run at: <code>W:\\rpnn\\python\\wandb\\run-20220305_183952-cab34x0s\\logs\\debug.log</code>"
      ],
      "text/plain": [
       "<IPython.core.display.HTML object>"
      ]
     },
     "metadata": {},
     "output_type": "display_data"
    },
    {
     "data": {
      "text/html": [
       "Find internal logs for this run at: <code>W:\\rpnn\\python\\wandb\\run-20220305_183952-cab34x0s\\logs\\debug-internal.log</code>"
      ],
      "text/plain": [
       "<IPython.core.display.HTML object>"
      ]
     },
     "metadata": {},
     "output_type": "display_data"
    },
    {
     "data": {
      "text/html": [
       "<h3>Run summary:</h3><br/><style>\n",
       "    table.wandb td:nth-child(1) { padding: 0 10px; text-align: right }\n",
       "    </style><table class=\"wandb\">\n",
       "<tr><td>squared_error</td><td>411.29171</td></tr><tr><td>_runtime</td><td>21</td></tr><tr><td>_timestamp</td><td>1646502013</td></tr><tr><td>_step</td><td>0</td></tr></table>"
      ],
      "text/plain": [
       "<IPython.core.display.HTML object>"
      ]
     },
     "metadata": {},
     "output_type": "display_data"
    },
    {
     "data": {
      "text/html": [
       "<h3>Run history:</h3><br/><style>\n",
       "    table.wandb td:nth-child(1) { padding: 0 10px; text-align: right }\n",
       "    </style><table class=\"wandb\">\n",
       "<tr><td>squared_error</td><td>▁</td></tr><tr><td>_runtime</td><td>▁</td></tr><tr><td>_timestamp</td><td>▁</td></tr><tr><td>_step</td><td>▁</td></tr></table><br/>"
      ],
      "text/plain": [
       "<IPython.core.display.HTML object>"
      ]
     },
     "metadata": {},
     "output_type": "display_data"
    },
    {
     "data": {
      "text/html": [
       "Synced 5 W&B file(s), 0 media file(s), 0 artifact file(s) and 0 other file(s)"
      ],
      "text/plain": [
       "<IPython.core.display.HTML object>"
      ]
     },
     "metadata": {},
     "output_type": "display_data"
    },
    {
     "data": {
      "text/html": [
       "\n",
       "                    <br/>Synced <strong style=\"color:#cdcd00\">honest-sweep-51</strong>: <a href=\"https://wandb.ai/lubomirkurcak/matrix-factorization/runs/cab34x0s\" target=\"_blank\">https://wandb.ai/lubomirkurcak/matrix-factorization/runs/cab34x0s</a><br/>\n",
       "                "
      ],
      "text/plain": [
       "<IPython.core.display.HTML object>"
      ]
     },
     "metadata": {},
     "output_type": "display_data"
    },
    {
     "name": "stderr",
     "output_type": "stream",
     "text": [
      "wandb: Agent Starting Run: kqfj8aha with config:\n",
      "wandb: \tdropout_keep_p: 1\n",
      "wandb: \tepochs: 50000\n",
      "wandb: \tfeatures: 15\n",
      "wandb: \tfp_emax: 52\n",
      "wandb: \tfp_explim: CPFLOAT_EXPRANGE_TARG\n",
      "wandb: \tfp_flip: CPFLOAT_NO_SOFTERR\n",
      "wandb: \tfp_p: 0.2287134743699461\n",
      "wandb: \tfp_precision: 11\n",
      "wandb: \tfp_round: CPFLOAT_NO_RND\n",
      "wandb: \tfp_subnormal: CPFLOAT_SUBN_RND\n",
      "wandb: \tlearning_rate: 0.001\n",
      "wandb: \tloss: mean_squared_error\n",
      "wandb: \tmomentum_coefficient: 0\n",
      "wandb: \tnon_negative: True\n",
      "wandb: \tweight_decay: 0.0001\n",
      "wandb: wandb version 0.12.11 is available!  To upgrade, please run:\n",
      "wandb:  $ pip install wandb --upgrade\n"
     ]
    },
    {
     "data": {
      "text/html": [
       "\n",
       "                Tracking run with wandb version 0.10.21<br/>\n",
       "                Syncing run <strong style=\"color:#cdcd00\">vocal-sweep-52</strong> to <a href=\"https://wandb.ai\" target=\"_blank\">Weights & Biases</a> <a href=\"https://docs.wandb.com/integrations/jupyter.html\" target=\"_blank\">(Documentation)</a>.<br/>\n",
       "                Project page: <a href=\"https://wandb.ai/lubomirkurcak/matrix-factorization\" target=\"_blank\">https://wandb.ai/lubomirkurcak/matrix-factorization</a><br/>\n",
       "                Sweep page: <a href=\"https://wandb.ai/lubomirkurcak/matrix-factorization/sweeps/2q624iuc\" target=\"_blank\">https://wandb.ai/lubomirkurcak/matrix-factorization/sweeps/2q624iuc</a><br/>\n",
       "Run page: <a href=\"https://wandb.ai/lubomirkurcak/matrix-factorization/runs/kqfj8aha\" target=\"_blank\">https://wandb.ai/lubomirkurcak/matrix-factorization/runs/kqfj8aha</a><br/>\n",
       "                Run data is saved locally in <code>W:\\rpnn\\python\\wandb\\run-20220305_184017-kqfj8aha</code><br/><br/>\n",
       "            "
      ],
      "text/plain": [
       "<IPython.core.display.HTML object>"
      ]
     },
     "metadata": {},
     "output_type": "display_data"
    },
    {
     "name": "stdout",
     "output_type": "stream",
     "text": [
      "cpfloat_validate_optstruct returned -4\n"
     ]
    },
    {
     "data": {
      "text/html": [
       "<br/>Waiting for W&B process to finish, PID 5572<br/>Program ended successfully."
      ],
      "text/plain": [
       "<IPython.core.display.HTML object>"
      ]
     },
     "metadata": {},
     "output_type": "display_data"
    },
    {
     "data": {
      "application/vnd.jupyter.widget-view+json": {
       "model_id": "",
       "version_major": 2,
       "version_minor": 0
      },
      "text/plain": [
       "VBox(children=(Label(value=' 0.00MB of 0.00MB uploaded (0.00MB deduped)\\r'), FloatProgress(value=1.0, max=1.0)…"
      ]
     },
     "metadata": {},
     "output_type": "display_data"
    },
    {
     "data": {
      "text/html": [
       "Find user logs for this run at: <code>W:\\rpnn\\python\\wandb\\run-20220305_184017-kqfj8aha\\logs\\debug.log</code>"
      ],
      "text/plain": [
       "<IPython.core.display.HTML object>"
      ]
     },
     "metadata": {},
     "output_type": "display_data"
    },
    {
     "data": {
      "text/html": [
       "Find internal logs for this run at: <code>W:\\rpnn\\python\\wandb\\run-20220305_184017-kqfj8aha\\logs\\debug-internal.log</code>"
      ],
      "text/plain": [
       "<IPython.core.display.HTML object>"
      ]
     },
     "metadata": {},
     "output_type": "display_data"
    },
    {
     "data": {
      "text/html": [
       "<h3>Run summary:</h3><br/><style>\n",
       "    table.wandb td:nth-child(1) { padding: 0 10px; text-align: right }\n",
       "    </style><table class=\"wandb\">\n",
       "<tr><td>squared_error</td><td>169.45839</td></tr><tr><td>_runtime</td><td>14</td></tr><tr><td>_timestamp</td><td>1646502031</td></tr><tr><td>_step</td><td>0</td></tr></table>"
      ],
      "text/plain": [
       "<IPython.core.display.HTML object>"
      ]
     },
     "metadata": {},
     "output_type": "display_data"
    },
    {
     "data": {
      "text/html": [
       "<h3>Run history:</h3><br/><style>\n",
       "    table.wandb td:nth-child(1) { padding: 0 10px; text-align: right }\n",
       "    </style><table class=\"wandb\">\n",
       "<tr><td>squared_error</td><td>▁</td></tr><tr><td>_runtime</td><td>▁</td></tr><tr><td>_timestamp</td><td>▁</td></tr><tr><td>_step</td><td>▁</td></tr></table><br/>"
      ],
      "text/plain": [
       "<IPython.core.display.HTML object>"
      ]
     },
     "metadata": {},
     "output_type": "display_data"
    },
    {
     "data": {
      "text/html": [
       "Synced 5 W&B file(s), 0 media file(s), 0 artifact file(s) and 0 other file(s)"
      ],
      "text/plain": [
       "<IPython.core.display.HTML object>"
      ]
     },
     "metadata": {},
     "output_type": "display_data"
    },
    {
     "data": {
      "text/html": [
       "\n",
       "                    <br/>Synced <strong style=\"color:#cdcd00\">vocal-sweep-52</strong>: <a href=\"https://wandb.ai/lubomirkurcak/matrix-factorization/runs/kqfj8aha\" target=\"_blank\">https://wandb.ai/lubomirkurcak/matrix-factorization/runs/kqfj8aha</a><br/>\n",
       "                "
      ],
      "text/plain": [
       "<IPython.core.display.HTML object>"
      ]
     },
     "metadata": {},
     "output_type": "display_data"
    },
    {
     "name": "stderr",
     "output_type": "stream",
     "text": [
      "wandb: Agent Starting Run: lqxud77o with config:\n",
      "wandb: \tdropout_keep_p: 1\n",
      "wandb: \tepochs: 50000\n",
      "wandb: \tfeatures: 15\n",
      "wandb: \tfp_emax: 14\n",
      "wandb: \tfp_explim: CPFLOAT_EXPRANGE_STOR\n",
      "wandb: \tfp_flip: CPFLOAT_SOFTERR\n",
      "wandb: \tfp_p: 0.23396473513956717\n",
      "wandb: \tfp_precision: 19\n",
      "wandb: \tfp_round: CPFLOAT_RND_OD\n",
      "wandb: \tfp_subnormal: CPFLOAT_SUBN_RND\n",
      "wandb: \tlearning_rate: 0.001\n",
      "wandb: \tloss: mean_squared_error\n",
      "wandb: \tmomentum_coefficient: 0\n",
      "wandb: \tnon_negative: True\n",
      "wandb: \tweight_decay: 0.0001\n",
      "wandb: wandb version 0.12.11 is available!  To upgrade, please run:\n",
      "wandb:  $ pip install wandb --upgrade\n"
     ]
    },
    {
     "data": {
      "text/html": [
       "\n",
       "                Tracking run with wandb version 0.10.21<br/>\n",
       "                Syncing run <strong style=\"color:#cdcd00\">dutiful-sweep-53</strong> to <a href=\"https://wandb.ai\" target=\"_blank\">Weights & Biases</a> <a href=\"https://docs.wandb.com/integrations/jupyter.html\" target=\"_blank\">(Documentation)</a>.<br/>\n",
       "                Project page: <a href=\"https://wandb.ai/lubomirkurcak/matrix-factorization\" target=\"_blank\">https://wandb.ai/lubomirkurcak/matrix-factorization</a><br/>\n",
       "                Sweep page: <a href=\"https://wandb.ai/lubomirkurcak/matrix-factorization/sweeps/2q624iuc\" target=\"_blank\">https://wandb.ai/lubomirkurcak/matrix-factorization/sweeps/2q624iuc</a><br/>\n",
       "Run page: <a href=\"https://wandb.ai/lubomirkurcak/matrix-factorization/runs/lqxud77o\" target=\"_blank\">https://wandb.ai/lubomirkurcak/matrix-factorization/runs/lqxud77o</a><br/>\n",
       "                Run data is saved locally in <code>W:\\rpnn\\python\\wandb\\run-20220305_184035-lqxud77o</code><br/><br/>\n",
       "            "
      ],
      "text/plain": [
       "<IPython.core.display.HTML object>"
      ]
     },
     "metadata": {},
     "output_type": "display_data"
    },
    {
     "name": "stdout",
     "output_type": "stream",
     "text": [
      "cpfloat_validate_optstruct returned 0\n"
     ]
    },
    {
     "data": {
      "text/html": [
       "<br/>Waiting for W&B process to finish, PID 23116<br/>Program ended successfully."
      ],
      "text/plain": [
       "<IPython.core.display.HTML object>"
      ]
     },
     "metadata": {},
     "output_type": "display_data"
    },
    {
     "data": {
      "application/vnd.jupyter.widget-view+json": {
       "model_id": "",
       "version_major": 2,
       "version_minor": 0
      },
      "text/plain": [
       "VBox(children=(Label(value=' 0.00MB of 0.00MB uploaded (0.00MB deduped)\\r'), FloatProgress(value=1.0, max=1.0)…"
      ]
     },
     "metadata": {},
     "output_type": "display_data"
    },
    {
     "data": {
      "text/html": [
       "Find user logs for this run at: <code>W:\\rpnn\\python\\wandb\\run-20220305_184035-lqxud77o\\logs\\debug.log</code>"
      ],
      "text/plain": [
       "<IPython.core.display.HTML object>"
      ]
     },
     "metadata": {},
     "output_type": "display_data"
    },
    {
     "data": {
      "text/html": [
       "Find internal logs for this run at: <code>W:\\rpnn\\python\\wandb\\run-20220305_184035-lqxud77o\\logs\\debug-internal.log</code>"
      ],
      "text/plain": [
       "<IPython.core.display.HTML object>"
      ]
     },
     "metadata": {},
     "output_type": "display_data"
    },
    {
     "data": {
      "text/html": [
       "<h3>Run summary:</h3><br/><style>\n",
       "    table.wandb td:nth-child(1) { padding: 0 10px; text-align: right }\n",
       "    </style><table class=\"wandb\">\n",
       "<tr><td>squared_error</td><td>181.45012</td></tr><tr><td>_runtime</td><td>22</td></tr><tr><td>_timestamp</td><td>1646502057</td></tr><tr><td>_step</td><td>0</td></tr></table>"
      ],
      "text/plain": [
       "<IPython.core.display.HTML object>"
      ]
     },
     "metadata": {},
     "output_type": "display_data"
    },
    {
     "data": {
      "text/html": [
       "<h3>Run history:</h3><br/><style>\n",
       "    table.wandb td:nth-child(1) { padding: 0 10px; text-align: right }\n",
       "    </style><table class=\"wandb\">\n",
       "<tr><td>squared_error</td><td>▁</td></tr><tr><td>_runtime</td><td>▁</td></tr><tr><td>_timestamp</td><td>▁</td></tr><tr><td>_step</td><td>▁</td></tr></table><br/>"
      ],
      "text/plain": [
       "<IPython.core.display.HTML object>"
      ]
     },
     "metadata": {},
     "output_type": "display_data"
    },
    {
     "data": {
      "text/html": [
       "Synced 5 W&B file(s), 0 media file(s), 0 artifact file(s) and 0 other file(s)"
      ],
      "text/plain": [
       "<IPython.core.display.HTML object>"
      ]
     },
     "metadata": {},
     "output_type": "display_data"
    },
    {
     "data": {
      "text/html": [
       "\n",
       "                    <br/>Synced <strong style=\"color:#cdcd00\">dutiful-sweep-53</strong>: <a href=\"https://wandb.ai/lubomirkurcak/matrix-factorization/runs/lqxud77o\" target=\"_blank\">https://wandb.ai/lubomirkurcak/matrix-factorization/runs/lqxud77o</a><br/>\n",
       "                "
      ],
      "text/plain": [
       "<IPython.core.display.HTML object>"
      ]
     },
     "metadata": {},
     "output_type": "display_data"
    },
    {
     "name": "stderr",
     "output_type": "stream",
     "text": [
      "wandb: Agent Starting Run: fndwjgoz with config:\n",
      "wandb: \tdropout_keep_p: 1\n",
      "wandb: \tepochs: 50000\n",
      "wandb: \tfeatures: 15\n",
      "wandb: \tfp_emax: 78\n",
      "wandb: \tfp_explim: CPFLOAT_EXPRANGE_STOR\n",
      "wandb: \tfp_flip: CPFLOAT_SOFTERR\n",
      "wandb: \tfp_p: 0.3387876950235473\n",
      "wandb: \tfp_precision: 13\n",
      "wandb: \tfp_round: CPFLOAT_RND_NE\n",
      "wandb: \tfp_subnormal: CPFLOAT_SUBN_RND\n",
      "wandb: \tlearning_rate: 0.001\n",
      "wandb: \tloss: mean_squared_error\n",
      "wandb: \tmomentum_coefficient: 0\n",
      "wandb: \tnon_negative: True\n",
      "wandb: \tweight_decay: 0.0001\n",
      "wandb: wandb version 0.12.11 is available!  To upgrade, please run:\n",
      "wandb:  $ pip install wandb --upgrade\n"
     ]
    },
    {
     "data": {
      "text/html": [
       "\n",
       "                Tracking run with wandb version 0.10.21<br/>\n",
       "                Syncing run <strong style=\"color:#cdcd00\">still-sweep-54</strong> to <a href=\"https://wandb.ai\" target=\"_blank\">Weights & Biases</a> <a href=\"https://docs.wandb.com/integrations/jupyter.html\" target=\"_blank\">(Documentation)</a>.<br/>\n",
       "                Project page: <a href=\"https://wandb.ai/lubomirkurcak/matrix-factorization\" target=\"_blank\">https://wandb.ai/lubomirkurcak/matrix-factorization</a><br/>\n",
       "                Sweep page: <a href=\"https://wandb.ai/lubomirkurcak/matrix-factorization/sweeps/2q624iuc\" target=\"_blank\">https://wandb.ai/lubomirkurcak/matrix-factorization/sweeps/2q624iuc</a><br/>\n",
       "Run page: <a href=\"https://wandb.ai/lubomirkurcak/matrix-factorization/runs/fndwjgoz\" target=\"_blank\">https://wandb.ai/lubomirkurcak/matrix-factorization/runs/fndwjgoz</a><br/>\n",
       "                Run data is saved locally in <code>W:\\rpnn\\python\\wandb\\run-20220305_184101-fndwjgoz</code><br/><br/>\n",
       "            "
      ],
      "text/plain": [
       "<IPython.core.display.HTML object>"
      ]
     },
     "metadata": {},
     "output_type": "display_data"
    },
    {
     "name": "stdout",
     "output_type": "stream",
     "text": [
      "cpfloat_validate_optstruct returned 0\n"
     ]
    },
    {
     "data": {
      "text/html": [
       "<br/>Waiting for W&B process to finish, PID 13112<br/>Program ended successfully."
      ],
      "text/plain": [
       "<IPython.core.display.HTML object>"
      ]
     },
     "metadata": {},
     "output_type": "display_data"
    },
    {
     "data": {
      "application/vnd.jupyter.widget-view+json": {
       "model_id": "",
       "version_major": 2,
       "version_minor": 0
      },
      "text/plain": [
       "VBox(children=(Label(value=' 0.00MB of 0.00MB uploaded (0.00MB deduped)\\r'), FloatProgress(value=1.0, max=1.0)…"
      ]
     },
     "metadata": {},
     "output_type": "display_data"
    },
    {
     "data": {
      "text/html": [
       "Find user logs for this run at: <code>W:\\rpnn\\python\\wandb\\run-20220305_184101-fndwjgoz\\logs\\debug.log</code>"
      ],
      "text/plain": [
       "<IPython.core.display.HTML object>"
      ]
     },
     "metadata": {},
     "output_type": "display_data"
    },
    {
     "data": {
      "text/html": [
       "Find internal logs for this run at: <code>W:\\rpnn\\python\\wandb\\run-20220305_184101-fndwjgoz\\logs\\debug-internal.log</code>"
      ],
      "text/plain": [
       "<IPython.core.display.HTML object>"
      ]
     },
     "metadata": {},
     "output_type": "display_data"
    },
    {
     "data": {
      "text/html": [
       "<h3>Run summary:</h3><br/><style>\n",
       "    table.wandb td:nth-child(1) { padding: 0 10px; text-align: right }\n",
       "    </style><table class=\"wandb\">\n",
       "<tr><td>squared_error</td><td>187.33232</td></tr><tr><td>_runtime</td><td>22</td></tr><tr><td>_timestamp</td><td>1646502083</td></tr><tr><td>_step</td><td>0</td></tr></table>"
      ],
      "text/plain": [
       "<IPython.core.display.HTML object>"
      ]
     },
     "metadata": {},
     "output_type": "display_data"
    },
    {
     "data": {
      "text/html": [
       "<h3>Run history:</h3><br/><style>\n",
       "    table.wandb td:nth-child(1) { padding: 0 10px; text-align: right }\n",
       "    </style><table class=\"wandb\">\n",
       "<tr><td>squared_error</td><td>▁</td></tr><tr><td>_runtime</td><td>▁</td></tr><tr><td>_timestamp</td><td>▁</td></tr><tr><td>_step</td><td>▁</td></tr></table><br/>"
      ],
      "text/plain": [
       "<IPython.core.display.HTML object>"
      ]
     },
     "metadata": {},
     "output_type": "display_data"
    },
    {
     "data": {
      "text/html": [
       "Synced 5 W&B file(s), 0 media file(s), 0 artifact file(s) and 0 other file(s)"
      ],
      "text/plain": [
       "<IPython.core.display.HTML object>"
      ]
     },
     "metadata": {},
     "output_type": "display_data"
    },
    {
     "data": {
      "text/html": [
       "\n",
       "                    <br/>Synced <strong style=\"color:#cdcd00\">still-sweep-54</strong>: <a href=\"https://wandb.ai/lubomirkurcak/matrix-factorization/runs/fndwjgoz\" target=\"_blank\">https://wandb.ai/lubomirkurcak/matrix-factorization/runs/fndwjgoz</a><br/>\n",
       "                "
      ],
      "text/plain": [
       "<IPython.core.display.HTML object>"
      ]
     },
     "metadata": {},
     "output_type": "display_data"
    },
    {
     "name": "stderr",
     "output_type": "stream",
     "text": [
      "wandb: Agent Starting Run: j0ygdb8g with config:\n",
      "wandb: \tdropout_keep_p: 1\n",
      "wandb: \tepochs: 50000\n",
      "wandb: \tfeatures: 15\n",
      "wandb: \tfp_emax: 29\n",
      "wandb: \tfp_explim: CPFLOAT_EXPRANGE_STOR\n",
      "wandb: \tfp_flip: CPFLOAT_SOFTERR\n",
      "wandb: \tfp_p: 0.43502352357109264\n",
      "wandb: \tfp_precision: 14\n",
      "wandb: \tfp_round: CPFLOAT_RND_TZ\n",
      "wandb: \tfp_subnormal: CPFLOAT_SUBN_RND\n",
      "wandb: \tlearning_rate: 0.001\n",
      "wandb: \tloss: mean_squared_error\n",
      "wandb: \tmomentum_coefficient: 0\n",
      "wandb: \tnon_negative: True\n",
      "wandb: \tweight_decay: 0.0001\n",
      "wandb: wandb version 0.12.11 is available!  To upgrade, please run:\n",
      "wandb:  $ pip install wandb --upgrade\n"
     ]
    },
    {
     "data": {
      "text/html": [
       "\n",
       "                Tracking run with wandb version 0.10.21<br/>\n",
       "                Syncing run <strong style=\"color:#cdcd00\">astral-sweep-55</strong> to <a href=\"https://wandb.ai\" target=\"_blank\">Weights & Biases</a> <a href=\"https://docs.wandb.com/integrations/jupyter.html\" target=\"_blank\">(Documentation)</a>.<br/>\n",
       "                Project page: <a href=\"https://wandb.ai/lubomirkurcak/matrix-factorization\" target=\"_blank\">https://wandb.ai/lubomirkurcak/matrix-factorization</a><br/>\n",
       "                Sweep page: <a href=\"https://wandb.ai/lubomirkurcak/matrix-factorization/sweeps/2q624iuc\" target=\"_blank\">https://wandb.ai/lubomirkurcak/matrix-factorization/sweeps/2q624iuc</a><br/>\n",
       "Run page: <a href=\"https://wandb.ai/lubomirkurcak/matrix-factorization/runs/j0ygdb8g\" target=\"_blank\">https://wandb.ai/lubomirkurcak/matrix-factorization/runs/j0ygdb8g</a><br/>\n",
       "                Run data is saved locally in <code>W:\\rpnn\\python\\wandb\\run-20220305_184127-j0ygdb8g</code><br/><br/>\n",
       "            "
      ],
      "text/plain": [
       "<IPython.core.display.HTML object>"
      ]
     },
     "metadata": {},
     "output_type": "display_data"
    },
    {
     "name": "stdout",
     "output_type": "stream",
     "text": [
      "cpfloat_validate_optstruct returned 0\n"
     ]
    },
    {
     "data": {
      "text/html": [
       "<br/>Waiting for W&B process to finish, PID 21620<br/>Program ended successfully."
      ],
      "text/plain": [
       "<IPython.core.display.HTML object>"
      ]
     },
     "metadata": {},
     "output_type": "display_data"
    },
    {
     "data": {
      "application/vnd.jupyter.widget-view+json": {
       "model_id": "",
       "version_major": 2,
       "version_minor": 0
      },
      "text/plain": [
       "VBox(children=(Label(value=' 0.00MB of 0.00MB uploaded (0.00MB deduped)\\r'), FloatProgress(value=1.0, max=1.0)…"
      ]
     },
     "metadata": {},
     "output_type": "display_data"
    },
    {
     "data": {
      "text/html": [
       "Find user logs for this run at: <code>W:\\rpnn\\python\\wandb\\run-20220305_184127-j0ygdb8g\\logs\\debug.log</code>"
      ],
      "text/plain": [
       "<IPython.core.display.HTML object>"
      ]
     },
     "metadata": {},
     "output_type": "display_data"
    },
    {
     "data": {
      "text/html": [
       "Find internal logs for this run at: <code>W:\\rpnn\\python\\wandb\\run-20220305_184127-j0ygdb8g\\logs\\debug-internal.log</code>"
      ],
      "text/plain": [
       "<IPython.core.display.HTML object>"
      ]
     },
     "metadata": {},
     "output_type": "display_data"
    },
    {
     "data": {
      "text/html": [
       "<h3>Run summary:</h3><br/><style>\n",
       "    table.wandb td:nth-child(1) { padding: 0 10px; text-align: right }\n",
       "    </style><table class=\"wandb\">\n",
       "<tr><td>squared_error</td><td>178.25749</td></tr><tr><td>_runtime</td><td>20</td></tr><tr><td>_timestamp</td><td>1646502107</td></tr><tr><td>_step</td><td>0</td></tr></table>"
      ],
      "text/plain": [
       "<IPython.core.display.HTML object>"
      ]
     },
     "metadata": {},
     "output_type": "display_data"
    },
    {
     "data": {
      "text/html": [
       "<h3>Run history:</h3><br/><style>\n",
       "    table.wandb td:nth-child(1) { padding: 0 10px; text-align: right }\n",
       "    </style><table class=\"wandb\">\n",
       "<tr><td>squared_error</td><td>▁</td></tr><tr><td>_runtime</td><td>▁</td></tr><tr><td>_timestamp</td><td>▁</td></tr><tr><td>_step</td><td>▁</td></tr></table><br/>"
      ],
      "text/plain": [
       "<IPython.core.display.HTML object>"
      ]
     },
     "metadata": {},
     "output_type": "display_data"
    },
    {
     "data": {
      "text/html": [
       "Synced 5 W&B file(s), 0 media file(s), 0 artifact file(s) and 0 other file(s)"
      ],
      "text/plain": [
       "<IPython.core.display.HTML object>"
      ]
     },
     "metadata": {},
     "output_type": "display_data"
    },
    {
     "data": {
      "text/html": [
       "\n",
       "                    <br/>Synced <strong style=\"color:#cdcd00\">astral-sweep-55</strong>: <a href=\"https://wandb.ai/lubomirkurcak/matrix-factorization/runs/j0ygdb8g\" target=\"_blank\">https://wandb.ai/lubomirkurcak/matrix-factorization/runs/j0ygdb8g</a><br/>\n",
       "                "
      ],
      "text/plain": [
       "<IPython.core.display.HTML object>"
      ]
     },
     "metadata": {},
     "output_type": "display_data"
    },
    {
     "name": "stderr",
     "output_type": "stream",
     "text": [
      "wandb: Agent Starting Run: afb4cdzs with config:\n",
      "wandb: \tdropout_keep_p: 1\n",
      "wandb: \tepochs: 50000\n",
      "wandb: \tfeatures: 15\n",
      "wandb: \tfp_emax: 66\n",
      "wandb: \tfp_explim: CPFLOAT_EXPRANGE_TARG\n",
      "wandb: \tfp_flip: CPFLOAT_SOFTERR\n",
      "wandb: \tfp_p: 0.3094412952881664\n",
      "wandb: \tfp_precision: 13\n",
      "wandb: \tfp_round: CPFLOAT_RND_NE\n",
      "wandb: \tfp_subnormal: CPFLOAT_SUBN_RND\n",
      "wandb: \tlearning_rate: 0.001\n",
      "wandb: \tloss: mean_squared_error\n",
      "wandb: \tmomentum_coefficient: 0\n",
      "wandb: \tnon_negative: True\n",
      "wandb: \tweight_decay: 0.0001\n",
      "wandb: wandb version 0.12.11 is available!  To upgrade, please run:\n",
      "wandb:  $ pip install wandb --upgrade\n"
     ]
    },
    {
     "data": {
      "text/html": [
       "\n",
       "                Tracking run with wandb version 0.10.21<br/>\n",
       "                Syncing run <strong style=\"color:#cdcd00\">clean-sweep-56</strong> to <a href=\"https://wandb.ai\" target=\"_blank\">Weights & Biases</a> <a href=\"https://docs.wandb.com/integrations/jupyter.html\" target=\"_blank\">(Documentation)</a>.<br/>\n",
       "                Project page: <a href=\"https://wandb.ai/lubomirkurcak/matrix-factorization\" target=\"_blank\">https://wandb.ai/lubomirkurcak/matrix-factorization</a><br/>\n",
       "                Sweep page: <a href=\"https://wandb.ai/lubomirkurcak/matrix-factorization/sweeps/2q624iuc\" target=\"_blank\">https://wandb.ai/lubomirkurcak/matrix-factorization/sweeps/2q624iuc</a><br/>\n",
       "Run page: <a href=\"https://wandb.ai/lubomirkurcak/matrix-factorization/runs/afb4cdzs\" target=\"_blank\">https://wandb.ai/lubomirkurcak/matrix-factorization/runs/afb4cdzs</a><br/>\n",
       "                Run data is saved locally in <code>W:\\rpnn\\python\\wandb\\run-20220305_184151-afb4cdzs</code><br/><br/>\n",
       "            "
      ],
      "text/plain": [
       "<IPython.core.display.HTML object>"
      ]
     },
     "metadata": {},
     "output_type": "display_data"
    },
    {
     "name": "stdout",
     "output_type": "stream",
     "text": [
      "cpfloat_validate_optstruct returned 0\n"
     ]
    },
    {
     "data": {
      "text/html": [
       "<br/>Waiting for W&B process to finish, PID 11716<br/>Program ended successfully."
      ],
      "text/plain": [
       "<IPython.core.display.HTML object>"
      ]
     },
     "metadata": {},
     "output_type": "display_data"
    },
    {
     "data": {
      "application/vnd.jupyter.widget-view+json": {
       "model_id": "",
       "version_major": 2,
       "version_minor": 0
      },
      "text/plain": [
       "VBox(children=(Label(value=' 0.00MB of 0.00MB uploaded (0.00MB deduped)\\r'), FloatProgress(value=1.0, max=1.0)…"
      ]
     },
     "metadata": {},
     "output_type": "display_data"
    },
    {
     "data": {
      "text/html": [
       "Find user logs for this run at: <code>W:\\rpnn\\python\\wandb\\run-20220305_184151-afb4cdzs\\logs\\debug.log</code>"
      ],
      "text/plain": [
       "<IPython.core.display.HTML object>"
      ]
     },
     "metadata": {},
     "output_type": "display_data"
    },
    {
     "data": {
      "text/html": [
       "Find internal logs for this run at: <code>W:\\rpnn\\python\\wandb\\run-20220305_184151-afb4cdzs\\logs\\debug-internal.log</code>"
      ],
      "text/plain": [
       "<IPython.core.display.HTML object>"
      ]
     },
     "metadata": {},
     "output_type": "display_data"
    },
    {
     "data": {
      "text/html": [
       "<h3>Run summary:</h3><br/><style>\n",
       "    table.wandb td:nth-child(1) { padding: 0 10px; text-align: right }\n",
       "    </style><table class=\"wandb\">\n",
       "<tr><td>squared_error</td><td>195.51534</td></tr><tr><td>_runtime</td><td>21</td></tr><tr><td>_timestamp</td><td>1646502133</td></tr><tr><td>_step</td><td>0</td></tr></table>"
      ],
      "text/plain": [
       "<IPython.core.display.HTML object>"
      ]
     },
     "metadata": {},
     "output_type": "display_data"
    },
    {
     "data": {
      "text/html": [
       "<h3>Run history:</h3><br/><style>\n",
       "    table.wandb td:nth-child(1) { padding: 0 10px; text-align: right }\n",
       "    </style><table class=\"wandb\">\n",
       "<tr><td>squared_error</td><td>▁</td></tr><tr><td>_runtime</td><td>▁</td></tr><tr><td>_timestamp</td><td>▁</td></tr><tr><td>_step</td><td>▁</td></tr></table><br/>"
      ],
      "text/plain": [
       "<IPython.core.display.HTML object>"
      ]
     },
     "metadata": {},
     "output_type": "display_data"
    },
    {
     "data": {
      "text/html": [
       "Synced 5 W&B file(s), 0 media file(s), 0 artifact file(s) and 0 other file(s)"
      ],
      "text/plain": [
       "<IPython.core.display.HTML object>"
      ]
     },
     "metadata": {},
     "output_type": "display_data"
    },
    {
     "data": {
      "text/html": [
       "\n",
       "                    <br/>Synced <strong style=\"color:#cdcd00\">clean-sweep-56</strong>: <a href=\"https://wandb.ai/lubomirkurcak/matrix-factorization/runs/afb4cdzs\" target=\"_blank\">https://wandb.ai/lubomirkurcak/matrix-factorization/runs/afb4cdzs</a><br/>\n",
       "                "
      ],
      "text/plain": [
       "<IPython.core.display.HTML object>"
      ]
     },
     "metadata": {},
     "output_type": "display_data"
    },
    {
     "name": "stderr",
     "output_type": "stream",
     "text": [
      "wandb: Agent Starting Run: 2wts1ti1 with config:\n",
      "wandb: \tdropout_keep_p: 1\n",
      "wandb: \tepochs: 50000\n",
      "wandb: \tfeatures: 15\n",
      "wandb: \tfp_emax: 75\n",
      "wandb: \tfp_explim: CPFLOAT_EXPRANGE_STOR\n",
      "wandb: \tfp_flip: CPFLOAT_NO_SOFTERR\n",
      "wandb: \tfp_p: 0.13421674864584116\n",
      "wandb: \tfp_precision: 8\n",
      "wandb: \tfp_round: CPFLOAT_RND_SP\n",
      "wandb: \tfp_subnormal: CPFLOAT_SUBN_USE\n",
      "wandb: \tlearning_rate: 0.001\n",
      "wandb: \tloss: mean_squared_error\n",
      "wandb: \tmomentum_coefficient: 0\n",
      "wandb: \tnon_negative: True\n",
      "wandb: \tweight_decay: 0.0001\n",
      "wandb: wandb version 0.12.11 is available!  To upgrade, please run:\n",
      "wandb:  $ pip install wandb --upgrade\n"
     ]
    },
    {
     "data": {
      "text/html": [
       "\n",
       "                Tracking run with wandb version 0.10.21<br/>\n",
       "                Syncing run <strong style=\"color:#cdcd00\">vibrant-sweep-57</strong> to <a href=\"https://wandb.ai\" target=\"_blank\">Weights & Biases</a> <a href=\"https://docs.wandb.com/integrations/jupyter.html\" target=\"_blank\">(Documentation)</a>.<br/>\n",
       "                Project page: <a href=\"https://wandb.ai/lubomirkurcak/matrix-factorization\" target=\"_blank\">https://wandb.ai/lubomirkurcak/matrix-factorization</a><br/>\n",
       "                Sweep page: <a href=\"https://wandb.ai/lubomirkurcak/matrix-factorization/sweeps/2q624iuc\" target=\"_blank\">https://wandb.ai/lubomirkurcak/matrix-factorization/sweeps/2q624iuc</a><br/>\n",
       "Run page: <a href=\"https://wandb.ai/lubomirkurcak/matrix-factorization/runs/2wts1ti1\" target=\"_blank\">https://wandb.ai/lubomirkurcak/matrix-factorization/runs/2wts1ti1</a><br/>\n",
       "                Run data is saved locally in <code>W:\\rpnn\\python\\wandb\\run-20220305_184218-2wts1ti1</code><br/><br/>\n",
       "            "
      ],
      "text/plain": [
       "<IPython.core.display.HTML object>"
      ]
     },
     "metadata": {},
     "output_type": "display_data"
    },
    {
     "name": "stdout",
     "output_type": "stream",
     "text": [
      "cpfloat_validate_optstruct returned 0\n"
     ]
    },
    {
     "data": {
      "text/html": [
       "<br/>Waiting for W&B process to finish, PID 15516<br/>Program ended successfully."
      ],
      "text/plain": [
       "<IPython.core.display.HTML object>"
      ]
     },
     "metadata": {},
     "output_type": "display_data"
    },
    {
     "data": {
      "application/vnd.jupyter.widget-view+json": {
       "model_id": "",
       "version_major": 2,
       "version_minor": 0
      },
      "text/plain": [
       "VBox(children=(Label(value=' 0.00MB of 0.00MB uploaded (0.00MB deduped)\\r'), FloatProgress(value=1.0, max=1.0)…"
      ]
     },
     "metadata": {},
     "output_type": "display_data"
    },
    {
     "data": {
      "text/html": [
       "Find user logs for this run at: <code>W:\\rpnn\\python\\wandb\\run-20220305_184218-2wts1ti1\\logs\\debug.log</code>"
      ],
      "text/plain": [
       "<IPython.core.display.HTML object>"
      ]
     },
     "metadata": {},
     "output_type": "display_data"
    },
    {
     "data": {
      "text/html": [
       "Find internal logs for this run at: <code>W:\\rpnn\\python\\wandb\\run-20220305_184218-2wts1ti1\\logs\\debug-internal.log</code>"
      ],
      "text/plain": [
       "<IPython.core.display.HTML object>"
      ]
     },
     "metadata": {},
     "output_type": "display_data"
    },
    {
     "data": {
      "text/html": [
       "<h3>Run summary:</h3><br/><style>\n",
       "    table.wandb td:nth-child(1) { padding: 0 10px; text-align: right }\n",
       "    </style><table class=\"wandb\">\n",
       "<tr><td>squared_error</td><td>169.62227</td></tr><tr><td>_runtime</td><td>43</td></tr><tr><td>_timestamp</td><td>1646502181</td></tr><tr><td>_step</td><td>0</td></tr></table>"
      ],
      "text/plain": [
       "<IPython.core.display.HTML object>"
      ]
     },
     "metadata": {},
     "output_type": "display_data"
    },
    {
     "data": {
      "text/html": [
       "<h3>Run history:</h3><br/><style>\n",
       "    table.wandb td:nth-child(1) { padding: 0 10px; text-align: right }\n",
       "    </style><table class=\"wandb\">\n",
       "<tr><td>squared_error</td><td>▁</td></tr><tr><td>_runtime</td><td>▁</td></tr><tr><td>_timestamp</td><td>▁</td></tr><tr><td>_step</td><td>▁</td></tr></table><br/>"
      ],
      "text/plain": [
       "<IPython.core.display.HTML object>"
      ]
     },
     "metadata": {},
     "output_type": "display_data"
    },
    {
     "data": {
      "text/html": [
       "Synced 5 W&B file(s), 0 media file(s), 0 artifact file(s) and 0 other file(s)"
      ],
      "text/plain": [
       "<IPython.core.display.HTML object>"
      ]
     },
     "metadata": {},
     "output_type": "display_data"
    },
    {
     "data": {
      "text/html": [
       "\n",
       "                    <br/>Synced <strong style=\"color:#cdcd00\">vibrant-sweep-57</strong>: <a href=\"https://wandb.ai/lubomirkurcak/matrix-factorization/runs/2wts1ti1\" target=\"_blank\">https://wandb.ai/lubomirkurcak/matrix-factorization/runs/2wts1ti1</a><br/>\n",
       "                "
      ],
      "text/plain": [
       "<IPython.core.display.HTML object>"
      ]
     },
     "metadata": {},
     "output_type": "display_data"
    },
    {
     "name": "stderr",
     "output_type": "stream",
     "text": [
      "wandb: Agent Starting Run: toh55dy3 with config:\n",
      "wandb: \tdropout_keep_p: 1\n",
      "wandb: \tepochs: 50000\n",
      "wandb: \tfeatures: 15\n",
      "wandb: \tfp_emax: 88\n",
      "wandb: \tfp_explim: CPFLOAT_EXPRANGE_STOR\n",
      "wandb: \tfp_flip: CPFLOAT_NO_SOFTERR\n",
      "wandb: \tfp_p: 0.08346080253324833\n",
      "wandb: \tfp_precision: 4\n",
      "wandb: \tfp_round: CPFLOAT_RND_OD\n",
      "wandb: \tfp_subnormal: CPFLOAT_SUBN_USE\n",
      "wandb: \tlearning_rate: 0.001\n",
      "wandb: \tloss: mean_squared_error\n",
      "wandb: \tmomentum_coefficient: 0\n",
      "wandb: \tnon_negative: True\n",
      "wandb: \tweight_decay: 0.0001\n",
      "wandb: wandb version 0.12.11 is available!  To upgrade, please run:\n",
      "wandb:  $ pip install wandb --upgrade\n"
     ]
    },
    {
     "data": {
      "text/html": [
       "\n",
       "                Tracking run with wandb version 0.10.21<br/>\n",
       "                Syncing run <strong style=\"color:#cdcd00\">legendary-sweep-58</strong> to <a href=\"https://wandb.ai\" target=\"_blank\">Weights & Biases</a> <a href=\"https://docs.wandb.com/integrations/jupyter.html\" target=\"_blank\">(Documentation)</a>.<br/>\n",
       "                Project page: <a href=\"https://wandb.ai/lubomirkurcak/matrix-factorization\" target=\"_blank\">https://wandb.ai/lubomirkurcak/matrix-factorization</a><br/>\n",
       "                Sweep page: <a href=\"https://wandb.ai/lubomirkurcak/matrix-factorization/sweeps/2q624iuc\" target=\"_blank\">https://wandb.ai/lubomirkurcak/matrix-factorization/sweeps/2q624iuc</a><br/>\n",
       "Run page: <a href=\"https://wandb.ai/lubomirkurcak/matrix-factorization/runs/toh55dy3\" target=\"_blank\">https://wandb.ai/lubomirkurcak/matrix-factorization/runs/toh55dy3</a><br/>\n",
       "                Run data is saved locally in <code>W:\\rpnn\\python\\wandb\\run-20220305_184307-toh55dy3</code><br/><br/>\n",
       "            "
      ],
      "text/plain": [
       "<IPython.core.display.HTML object>"
      ]
     },
     "metadata": {},
     "output_type": "display_data"
    },
    {
     "name": "stdout",
     "output_type": "stream",
     "text": [
      "cpfloat_validate_optstruct returned 0\n"
     ]
    },
    {
     "data": {
      "text/html": [
       "<br/>Waiting for W&B process to finish, PID 17332<br/>Program ended successfully."
      ],
      "text/plain": [
       "<IPython.core.display.HTML object>"
      ]
     },
     "metadata": {},
     "output_type": "display_data"
    },
    {
     "data": {
      "application/vnd.jupyter.widget-view+json": {
       "model_id": "",
       "version_major": 2,
       "version_minor": 0
      },
      "text/plain": [
       "VBox(children=(Label(value=' 0.00MB of 0.00MB uploaded (0.00MB deduped)\\r'), FloatProgress(value=1.0, max=1.0)…"
      ]
     },
     "metadata": {},
     "output_type": "display_data"
    },
    {
     "data": {
      "text/html": [
       "Find user logs for this run at: <code>W:\\rpnn\\python\\wandb\\run-20220305_184307-toh55dy3\\logs\\debug.log</code>"
      ],
      "text/plain": [
       "<IPython.core.display.HTML object>"
      ]
     },
     "metadata": {},
     "output_type": "display_data"
    },
    {
     "data": {
      "text/html": [
       "Find internal logs for this run at: <code>W:\\rpnn\\python\\wandb\\run-20220305_184307-toh55dy3\\logs\\debug-internal.log</code>"
      ],
      "text/plain": [
       "<IPython.core.display.HTML object>"
      ]
     },
     "metadata": {},
     "output_type": "display_data"
    },
    {
     "data": {
      "text/html": [
       "<h3>Run summary:</h3><br/><style>\n",
       "    table.wandb td:nth-child(1) { padding: 0 10px; text-align: right }\n",
       "    </style><table class=\"wandb\">\n",
       "<tr><td>squared_error</td><td>5144.51562</td></tr><tr><td>_runtime</td><td>24</td></tr><tr><td>_timestamp</td><td>1646502211</td></tr><tr><td>_step</td><td>0</td></tr></table>"
      ],
      "text/plain": [
       "<IPython.core.display.HTML object>"
      ]
     },
     "metadata": {},
     "output_type": "display_data"
    },
    {
     "data": {
      "text/html": [
       "<h3>Run history:</h3><br/><style>\n",
       "    table.wandb td:nth-child(1) { padding: 0 10px; text-align: right }\n",
       "    </style><table class=\"wandb\">\n",
       "<tr><td>squared_error</td><td>▁</td></tr><tr><td>_runtime</td><td>▁</td></tr><tr><td>_timestamp</td><td>▁</td></tr><tr><td>_step</td><td>▁</td></tr></table><br/>"
      ],
      "text/plain": [
       "<IPython.core.display.HTML object>"
      ]
     },
     "metadata": {},
     "output_type": "display_data"
    },
    {
     "data": {
      "text/html": [
       "Synced 5 W&B file(s), 0 media file(s), 0 artifact file(s) and 0 other file(s)"
      ],
      "text/plain": [
       "<IPython.core.display.HTML object>"
      ]
     },
     "metadata": {},
     "output_type": "display_data"
    },
    {
     "data": {
      "text/html": [
       "\n",
       "                    <br/>Synced <strong style=\"color:#cdcd00\">legendary-sweep-58</strong>: <a href=\"https://wandb.ai/lubomirkurcak/matrix-factorization/runs/toh55dy3\" target=\"_blank\">https://wandb.ai/lubomirkurcak/matrix-factorization/runs/toh55dy3</a><br/>\n",
       "                "
      ],
      "text/plain": [
       "<IPython.core.display.HTML object>"
      ]
     },
     "metadata": {},
     "output_type": "display_data"
    },
    {
     "name": "stderr",
     "output_type": "stream",
     "text": [
      "wandb: Agent Starting Run: r8dsc80z with config:\n",
      "wandb: \tdropout_keep_p: 1\n",
      "wandb: \tepochs: 50000\n",
      "wandb: \tfeatures: 15\n",
      "wandb: \tfp_emax: 52\n",
      "wandb: \tfp_explim: CPFLOAT_EXPRANGE_TARG\n",
      "wandb: \tfp_flip: CPFLOAT_SOFTERR\n",
      "wandb: \tfp_p: 0.3683472220578616\n",
      "wandb: \tfp_precision: 11\n",
      "wandb: \tfp_round: CPFLOAT_RND_SE\n",
      "wandb: \tfp_subnormal: CPFLOAT_SUBN_RND\n",
      "wandb: \tlearning_rate: 0.001\n",
      "wandb: \tloss: mean_squared_error\n",
      "wandb: \tmomentum_coefficient: 0\n",
      "wandb: \tnon_negative: True\n",
      "wandb: \tweight_decay: 0.0001\n",
      "wandb: wandb version 0.12.11 is available!  To upgrade, please run:\n",
      "wandb:  $ pip install wandb --upgrade\n"
     ]
    },
    {
     "data": {
      "text/html": [
       "\n",
       "                Tracking run with wandb version 0.10.21<br/>\n",
       "                Syncing run <strong style=\"color:#cdcd00\">restful-sweep-59</strong> to <a href=\"https://wandb.ai\" target=\"_blank\">Weights & Biases</a> <a href=\"https://docs.wandb.com/integrations/jupyter.html\" target=\"_blank\">(Documentation)</a>.<br/>\n",
       "                Project page: <a href=\"https://wandb.ai/lubomirkurcak/matrix-factorization\" target=\"_blank\">https://wandb.ai/lubomirkurcak/matrix-factorization</a><br/>\n",
       "                Sweep page: <a href=\"https://wandb.ai/lubomirkurcak/matrix-factorization/sweeps/2q624iuc\" target=\"_blank\">https://wandb.ai/lubomirkurcak/matrix-factorization/sweeps/2q624iuc</a><br/>\n",
       "Run page: <a href=\"https://wandb.ai/lubomirkurcak/matrix-factorization/runs/r8dsc80z\" target=\"_blank\">https://wandb.ai/lubomirkurcak/matrix-factorization/runs/r8dsc80z</a><br/>\n",
       "                Run data is saved locally in <code>W:\\rpnn\\python\\wandb\\run-20220305_184336-r8dsc80z</code><br/><br/>\n",
       "            "
      ],
      "text/plain": [
       "<IPython.core.display.HTML object>"
      ]
     },
     "metadata": {},
     "output_type": "display_data"
    },
    {
     "name": "stdout",
     "output_type": "stream",
     "text": [
      "cpfloat_validate_optstruct returned 0\n"
     ]
    },
    {
     "data": {
      "text/html": [
       "<br/>Waiting for W&B process to finish, PID 16976<br/>Program ended successfully."
      ],
      "text/plain": [
       "<IPython.core.display.HTML object>"
      ]
     },
     "metadata": {},
     "output_type": "display_data"
    },
    {
     "data": {
      "application/vnd.jupyter.widget-view+json": {
       "model_id": "",
       "version_major": 2,
       "version_minor": 0
      },
      "text/plain": [
       "VBox(children=(Label(value=' 0.00MB of 0.00MB uploaded (0.00MB deduped)\\r'), FloatProgress(value=1.0, max=1.0)…"
      ]
     },
     "metadata": {},
     "output_type": "display_data"
    },
    {
     "data": {
      "text/html": [
       "Find user logs for this run at: <code>W:\\rpnn\\python\\wandb\\run-20220305_184336-r8dsc80z\\logs\\debug.log</code>"
      ],
      "text/plain": [
       "<IPython.core.display.HTML object>"
      ]
     },
     "metadata": {},
     "output_type": "display_data"
    },
    {
     "data": {
      "text/html": [
       "Find internal logs for this run at: <code>W:\\rpnn\\python\\wandb\\run-20220305_184336-r8dsc80z\\logs\\debug-internal.log</code>"
      ],
      "text/plain": [
       "<IPython.core.display.HTML object>"
      ]
     },
     "metadata": {},
     "output_type": "display_data"
    },
    {
     "data": {
      "text/html": [
       "<h3>Run summary:</h3><br/><style>\n",
       "    table.wandb td:nth-child(1) { padding: 0 10px; text-align: right }\n",
       "    </style><table class=\"wandb\">\n",
       "<tr><td>squared_error</td><td>273.43068</td></tr><tr><td>_runtime</td><td>38</td></tr><tr><td>_timestamp</td><td>1646502254</td></tr><tr><td>_step</td><td>0</td></tr></table>"
      ],
      "text/plain": [
       "<IPython.core.display.HTML object>"
      ]
     },
     "metadata": {},
     "output_type": "display_data"
    },
    {
     "data": {
      "text/html": [
       "<h3>Run history:</h3><br/><style>\n",
       "    table.wandb td:nth-child(1) { padding: 0 10px; text-align: right }\n",
       "    </style><table class=\"wandb\">\n",
       "<tr><td>squared_error</td><td>▁</td></tr><tr><td>_runtime</td><td>▁</td></tr><tr><td>_timestamp</td><td>▁</td></tr><tr><td>_step</td><td>▁</td></tr></table><br/>"
      ],
      "text/plain": [
       "<IPython.core.display.HTML object>"
      ]
     },
     "metadata": {},
     "output_type": "display_data"
    },
    {
     "data": {
      "text/html": [
       "Synced 5 W&B file(s), 0 media file(s), 0 artifact file(s) and 0 other file(s)"
      ],
      "text/plain": [
       "<IPython.core.display.HTML object>"
      ]
     },
     "metadata": {},
     "output_type": "display_data"
    },
    {
     "data": {
      "text/html": [
       "\n",
       "                    <br/>Synced <strong style=\"color:#cdcd00\">restful-sweep-59</strong>: <a href=\"https://wandb.ai/lubomirkurcak/matrix-factorization/runs/r8dsc80z\" target=\"_blank\">https://wandb.ai/lubomirkurcak/matrix-factorization/runs/r8dsc80z</a><br/>\n",
       "                "
      ],
      "text/plain": [
       "<IPython.core.display.HTML object>"
      ]
     },
     "metadata": {},
     "output_type": "display_data"
    },
    {
     "name": "stderr",
     "output_type": "stream",
     "text": [
      "wandb: Agent Starting Run: m1cal2ig with config:\n",
      "wandb: \tdropout_keep_p: 1\n",
      "wandb: \tepochs: 50000\n",
      "wandb: \tfeatures: 15\n",
      "wandb: \tfp_emax: 101\n",
      "wandb: \tfp_explim: CPFLOAT_EXPRANGE_TARG\n",
      "wandb: \tfp_flip: CPFLOAT_SOFTERR\n",
      "wandb: \tfp_p: 0.2809900147269858\n",
      "wandb: \tfp_precision: 19\n",
      "wandb: \tfp_round: CPFLOAT_RND_TN\n",
      "wandb: \tfp_subnormal: CPFLOAT_SUBN_RND\n",
      "wandb: \tlearning_rate: 0.001\n",
      "wandb: \tloss: mean_squared_error\n",
      "wandb: \tmomentum_coefficient: 0\n",
      "wandb: \tnon_negative: True\n",
      "wandb: \tweight_decay: 0.0001\n",
      "wandb: wandb version 0.12.11 is available!  To upgrade, please run:\n",
      "wandb:  $ pip install wandb --upgrade\n"
     ]
    },
    {
     "data": {
      "text/html": [
       "\n",
       "                Tracking run with wandb version 0.10.21<br/>\n",
       "                Syncing run <strong style=\"color:#cdcd00\">confused-sweep-60</strong> to <a href=\"https://wandb.ai\" target=\"_blank\">Weights & Biases</a> <a href=\"https://docs.wandb.com/integrations/jupyter.html\" target=\"_blank\">(Documentation)</a>.<br/>\n",
       "                Project page: <a href=\"https://wandb.ai/lubomirkurcak/matrix-factorization\" target=\"_blank\">https://wandb.ai/lubomirkurcak/matrix-factorization</a><br/>\n",
       "                Sweep page: <a href=\"https://wandb.ai/lubomirkurcak/matrix-factorization/sweeps/2q624iuc\" target=\"_blank\">https://wandb.ai/lubomirkurcak/matrix-factorization/sweeps/2q624iuc</a><br/>\n",
       "Run page: <a href=\"https://wandb.ai/lubomirkurcak/matrix-factorization/runs/m1cal2ig\" target=\"_blank\">https://wandb.ai/lubomirkurcak/matrix-factorization/runs/m1cal2ig</a><br/>\n",
       "                Run data is saved locally in <code>W:\\rpnn\\python\\wandb\\run-20220305_184418-m1cal2ig</code><br/><br/>\n",
       "            "
      ],
      "text/plain": [
       "<IPython.core.display.HTML object>"
      ]
     },
     "metadata": {},
     "output_type": "display_data"
    },
    {
     "name": "stdout",
     "output_type": "stream",
     "text": [
      "cpfloat_validate_optstruct returned 0\n"
     ]
    },
    {
     "data": {
      "text/html": [
       "<br/>Waiting for W&B process to finish, PID 23020<br/>Program ended successfully."
      ],
      "text/plain": [
       "<IPython.core.display.HTML object>"
      ]
     },
     "metadata": {},
     "output_type": "display_data"
    },
    {
     "data": {
      "application/vnd.jupyter.widget-view+json": {
       "model_id": "",
       "version_major": 2,
       "version_minor": 0
      },
      "text/plain": [
       "VBox(children=(Label(value=' 0.00MB of 0.00MB uploaded (0.00MB deduped)\\r'), FloatProgress(value=1.0, max=1.0)…"
      ]
     },
     "metadata": {},
     "output_type": "display_data"
    },
    {
     "data": {
      "text/html": [
       "Find user logs for this run at: <code>W:\\rpnn\\python\\wandb\\run-20220305_184418-m1cal2ig\\logs\\debug.log</code>"
      ],
      "text/plain": [
       "<IPython.core.display.HTML object>"
      ]
     },
     "metadata": {},
     "output_type": "display_data"
    },
    {
     "data": {
      "text/html": [
       "Find internal logs for this run at: <code>W:\\rpnn\\python\\wandb\\run-20220305_184418-m1cal2ig\\logs\\debug-internal.log</code>"
      ],
      "text/plain": [
       "<IPython.core.display.HTML object>"
      ]
     },
     "metadata": {},
     "output_type": "display_data"
    },
    {
     "data": {
      "text/html": [
       "<h3>Run summary:</h3><br/><style>\n",
       "    table.wandb td:nth-child(1) { padding: 0 10px; text-align: right }\n",
       "    </style><table class=\"wandb\">\n",
       "<tr><td>squared_error</td><td>168.93092</td></tr><tr><td>_runtime</td><td>33</td></tr><tr><td>_timestamp</td><td>1646502292</td></tr><tr><td>_step</td><td>0</td></tr></table>"
      ],
      "text/plain": [
       "<IPython.core.display.HTML object>"
      ]
     },
     "metadata": {},
     "output_type": "display_data"
    },
    {
     "data": {
      "text/html": [
       "<h3>Run history:</h3><br/><style>\n",
       "    table.wandb td:nth-child(1) { padding: 0 10px; text-align: right }\n",
       "    </style><table class=\"wandb\">\n",
       "<tr><td>squared_error</td><td>▁</td></tr><tr><td>_runtime</td><td>▁</td></tr><tr><td>_timestamp</td><td>▁</td></tr><tr><td>_step</td><td>▁</td></tr></table><br/>"
      ],
      "text/plain": [
       "<IPython.core.display.HTML object>"
      ]
     },
     "metadata": {},
     "output_type": "display_data"
    },
    {
     "data": {
      "text/html": [
       "Synced 5 W&B file(s), 0 media file(s), 0 artifact file(s) and 0 other file(s)"
      ],
      "text/plain": [
       "<IPython.core.display.HTML object>"
      ]
     },
     "metadata": {},
     "output_type": "display_data"
    },
    {
     "data": {
      "text/html": [
       "\n",
       "                    <br/>Synced <strong style=\"color:#cdcd00\">confused-sweep-60</strong>: <a href=\"https://wandb.ai/lubomirkurcak/matrix-factorization/runs/m1cal2ig\" target=\"_blank\">https://wandb.ai/lubomirkurcak/matrix-factorization/runs/m1cal2ig</a><br/>\n",
       "                "
      ],
      "text/plain": [
       "<IPython.core.display.HTML object>"
      ]
     },
     "metadata": {},
     "output_type": "display_data"
    },
    {
     "name": "stderr",
     "output_type": "stream",
     "text": [
      "wandb: Agent Starting Run: 8m6diokx with config:\n",
      "wandb: \tdropout_keep_p: 1\n",
      "wandb: \tepochs: 50000\n",
      "wandb: \tfeatures: 15\n",
      "wandb: \tfp_emax: 100\n",
      "wandb: \tfp_explim: CPFLOAT_EXPRANGE_STOR\n",
      "wandb: \tfp_flip: CPFLOAT_NO_SOFTERR\n",
      "wandb: \tfp_p: 0.4458446485808176\n",
      "wandb: \tfp_precision: 11\n",
      "wandb: \tfp_round: CPFLOAT_RND_NA\n",
      "wandb: \tfp_subnormal: CPFLOAT_SUBN_RND\n",
      "wandb: \tlearning_rate: 0.001\n",
      "wandb: \tloss: mean_squared_error\n",
      "wandb: \tmomentum_coefficient: 0\n",
      "wandb: \tnon_negative: True\n",
      "wandb: \tweight_decay: 0.0001\n",
      "wandb: wandb version 0.12.11 is available!  To upgrade, please run:\n",
      "wandb:  $ pip install wandb --upgrade\n"
     ]
    },
    {
     "data": {
      "text/html": [
       "\n",
       "                Tracking run with wandb version 0.10.21<br/>\n",
       "                Syncing run <strong style=\"color:#cdcd00\">worldly-sweep-61</strong> to <a href=\"https://wandb.ai\" target=\"_blank\">Weights & Biases</a> <a href=\"https://docs.wandb.com/integrations/jupyter.html\" target=\"_blank\">(Documentation)</a>.<br/>\n",
       "                Project page: <a href=\"https://wandb.ai/lubomirkurcak/matrix-factorization\" target=\"_blank\">https://wandb.ai/lubomirkurcak/matrix-factorization</a><br/>\n",
       "                Sweep page: <a href=\"https://wandb.ai/lubomirkurcak/matrix-factorization/sweeps/2q624iuc\" target=\"_blank\">https://wandb.ai/lubomirkurcak/matrix-factorization/sweeps/2q624iuc</a><br/>\n",
       "Run page: <a href=\"https://wandb.ai/lubomirkurcak/matrix-factorization/runs/8m6diokx\" target=\"_blank\">https://wandb.ai/lubomirkurcak/matrix-factorization/runs/8m6diokx</a><br/>\n",
       "                Run data is saved locally in <code>W:\\rpnn\\python\\wandb\\run-20220305_184459-8m6diokx</code><br/><br/>\n",
       "            "
      ],
      "text/plain": [
       "<IPython.core.display.HTML object>"
      ]
     },
     "metadata": {},
     "output_type": "display_data"
    },
    {
     "name": "stdout",
     "output_type": "stream",
     "text": [
      "cpfloat_validate_optstruct returned 0\n"
     ]
    },
    {
     "data": {
      "text/html": [
       "<br/>Waiting for W&B process to finish, PID 7328<br/>Program ended successfully."
      ],
      "text/plain": [
       "<IPython.core.display.HTML object>"
      ]
     },
     "metadata": {},
     "output_type": "display_data"
    },
    {
     "data": {
      "application/vnd.jupyter.widget-view+json": {
       "model_id": "",
       "version_major": 2,
       "version_minor": 0
      },
      "text/plain": [
       "VBox(children=(Label(value=' 0.00MB of 0.00MB uploaded (0.00MB deduped)\\r'), FloatProgress(value=1.0, max=1.0)…"
      ]
     },
     "metadata": {},
     "output_type": "display_data"
    },
    {
     "data": {
      "text/html": [
       "Find user logs for this run at: <code>W:\\rpnn\\python\\wandb\\run-20220305_184459-8m6diokx\\logs\\debug.log</code>"
      ],
      "text/plain": [
       "<IPython.core.display.HTML object>"
      ]
     },
     "metadata": {},
     "output_type": "display_data"
    },
    {
     "data": {
      "text/html": [
       "Find internal logs for this run at: <code>W:\\rpnn\\python\\wandb\\run-20220305_184459-8m6diokx\\logs\\debug-internal.log</code>"
      ],
      "text/plain": [
       "<IPython.core.display.HTML object>"
      ]
     },
     "metadata": {},
     "output_type": "display_data"
    },
    {
     "data": {
      "text/html": [
       "<h3>Run summary:</h3><br/><style>\n",
       "    table.wandb td:nth-child(1) { padding: 0 10px; text-align: right }\n",
       "    </style><table class=\"wandb\">\n",
       "<tr><td>squared_error</td><td>236.35376</td></tr><tr><td>_runtime</td><td>23</td></tr><tr><td>_timestamp</td><td>1646502322</td></tr><tr><td>_step</td><td>0</td></tr></table>"
      ],
      "text/plain": [
       "<IPython.core.display.HTML object>"
      ]
     },
     "metadata": {},
     "output_type": "display_data"
    },
    {
     "data": {
      "text/html": [
       "<h3>Run history:</h3><br/><style>\n",
       "    table.wandb td:nth-child(1) { padding: 0 10px; text-align: right }\n",
       "    </style><table class=\"wandb\">\n",
       "<tr><td>squared_error</td><td>▁</td></tr><tr><td>_runtime</td><td>▁</td></tr><tr><td>_timestamp</td><td>▁</td></tr><tr><td>_step</td><td>▁</td></tr></table><br/>"
      ],
      "text/plain": [
       "<IPython.core.display.HTML object>"
      ]
     },
     "metadata": {},
     "output_type": "display_data"
    },
    {
     "data": {
      "text/html": [
       "Synced 5 W&B file(s), 0 media file(s), 0 artifact file(s) and 0 other file(s)"
      ],
      "text/plain": [
       "<IPython.core.display.HTML object>"
      ]
     },
     "metadata": {},
     "output_type": "display_data"
    },
    {
     "data": {
      "text/html": [
       "\n",
       "                    <br/>Synced <strong style=\"color:#cdcd00\">worldly-sweep-61</strong>: <a href=\"https://wandb.ai/lubomirkurcak/matrix-factorization/runs/8m6diokx\" target=\"_blank\">https://wandb.ai/lubomirkurcak/matrix-factorization/runs/8m6diokx</a><br/>\n",
       "                "
      ],
      "text/plain": [
       "<IPython.core.display.HTML object>"
      ]
     },
     "metadata": {},
     "output_type": "display_data"
    },
    {
     "name": "stderr",
     "output_type": "stream",
     "text": [
      "wandb: Agent Starting Run: drtlydx6 with config:\n",
      "wandb: \tdropout_keep_p: 1\n",
      "wandb: \tepochs: 50000\n",
      "wandb: \tfeatures: 15\n",
      "wandb: \tfp_emax: 75\n",
      "wandb: \tfp_explim: CPFLOAT_EXPRANGE_STOR\n",
      "wandb: \tfp_flip: CPFLOAT_SOFTERR\n",
      "wandb: \tfp_p: 0.4153761423150078\n",
      "wandb: \tfp_precision: 12\n",
      "wandb: \tfp_round: CPFLOAT_NO_RND\n",
      "wandb: \tfp_subnormal: CPFLOAT_SUBN_USE\n",
      "wandb: \tlearning_rate: 0.001\n",
      "wandb: \tloss: mean_squared_error\n",
      "wandb: \tmomentum_coefficient: 0\n",
      "wandb: \tnon_negative: True\n",
      "wandb: \tweight_decay: 0.0001\n",
      "wandb: wandb version 0.12.11 is available!  To upgrade, please run:\n",
      "wandb:  $ pip install wandb --upgrade\n"
     ]
    },
    {
     "data": {
      "text/html": [
       "\n",
       "                Tracking run with wandb version 0.10.21<br/>\n",
       "                Syncing run <strong style=\"color:#cdcd00\">apricot-sweep-62</strong> to <a href=\"https://wandb.ai\" target=\"_blank\">Weights & Biases</a> <a href=\"https://docs.wandb.com/integrations/jupyter.html\" target=\"_blank\">(Documentation)</a>.<br/>\n",
       "                Project page: <a href=\"https://wandb.ai/lubomirkurcak/matrix-factorization\" target=\"_blank\">https://wandb.ai/lubomirkurcak/matrix-factorization</a><br/>\n",
       "                Sweep page: <a href=\"https://wandb.ai/lubomirkurcak/matrix-factorization/sweeps/2q624iuc\" target=\"_blank\">https://wandb.ai/lubomirkurcak/matrix-factorization/sweeps/2q624iuc</a><br/>\n",
       "Run page: <a href=\"https://wandb.ai/lubomirkurcak/matrix-factorization/runs/drtlydx6\" target=\"_blank\">https://wandb.ai/lubomirkurcak/matrix-factorization/runs/drtlydx6</a><br/>\n",
       "                Run data is saved locally in <code>W:\\rpnn\\python\\wandb\\run-20220305_184526-drtlydx6</code><br/><br/>\n",
       "            "
      ],
      "text/plain": [
       "<IPython.core.display.HTML object>"
      ]
     },
     "metadata": {},
     "output_type": "display_data"
    },
    {
     "name": "stdout",
     "output_type": "stream",
     "text": [
      "cpfloat_validate_optstruct returned -4\n"
     ]
    },
    {
     "data": {
      "text/html": [
       "<br/>Waiting for W&B process to finish, PID 14536<br/>Program ended successfully."
      ],
      "text/plain": [
       "<IPython.core.display.HTML object>"
      ]
     },
     "metadata": {},
     "output_type": "display_data"
    },
    {
     "data": {
      "application/vnd.jupyter.widget-view+json": {
       "model_id": "",
       "version_major": 2,
       "version_minor": 0
      },
      "text/plain": [
       "VBox(children=(Label(value=' 0.00MB of 0.00MB uploaded (0.00MB deduped)\\r'), FloatProgress(value=1.0, max=1.0)…"
      ]
     },
     "metadata": {},
     "output_type": "display_data"
    },
    {
     "data": {
      "text/html": [
       "Find user logs for this run at: <code>W:\\rpnn\\python\\wandb\\run-20220305_184526-drtlydx6\\logs\\debug.log</code>"
      ],
      "text/plain": [
       "<IPython.core.display.HTML object>"
      ]
     },
     "metadata": {},
     "output_type": "display_data"
    },
    {
     "data": {
      "text/html": [
       "Find internal logs for this run at: <code>W:\\rpnn\\python\\wandb\\run-20220305_184526-drtlydx6\\logs\\debug-internal.log</code>"
      ],
      "text/plain": [
       "<IPython.core.display.HTML object>"
      ]
     },
     "metadata": {},
     "output_type": "display_data"
    },
    {
     "data": {
      "text/html": [
       "<h3>Run summary:</h3><br/><style>\n",
       "    table.wandb td:nth-child(1) { padding: 0 10px; text-align: right }\n",
       "    </style><table class=\"wandb\">\n",
       "<tr><td>squared_error</td><td>176.10268</td></tr><tr><td>_runtime</td><td>30</td></tr><tr><td>_timestamp</td><td>1646502357</td></tr><tr><td>_step</td><td>0</td></tr></table>"
      ],
      "text/plain": [
       "<IPython.core.display.HTML object>"
      ]
     },
     "metadata": {},
     "output_type": "display_data"
    },
    {
     "data": {
      "text/html": [
       "<h3>Run history:</h3><br/><style>\n",
       "    table.wandb td:nth-child(1) { padding: 0 10px; text-align: right }\n",
       "    </style><table class=\"wandb\">\n",
       "<tr><td>squared_error</td><td>▁</td></tr><tr><td>_runtime</td><td>▁</td></tr><tr><td>_timestamp</td><td>▁</td></tr><tr><td>_step</td><td>▁</td></tr></table><br/>"
      ],
      "text/plain": [
       "<IPython.core.display.HTML object>"
      ]
     },
     "metadata": {},
     "output_type": "display_data"
    },
    {
     "data": {
      "text/html": [
       "Synced 5 W&B file(s), 0 media file(s), 0 artifact file(s) and 0 other file(s)"
      ],
      "text/plain": [
       "<IPython.core.display.HTML object>"
      ]
     },
     "metadata": {},
     "output_type": "display_data"
    },
    {
     "data": {
      "text/html": [
       "\n",
       "                    <br/>Synced <strong style=\"color:#cdcd00\">apricot-sweep-62</strong>: <a href=\"https://wandb.ai/lubomirkurcak/matrix-factorization/runs/drtlydx6\" target=\"_blank\">https://wandb.ai/lubomirkurcak/matrix-factorization/runs/drtlydx6</a><br/>\n",
       "                "
      ],
      "text/plain": [
       "<IPython.core.display.HTML object>"
      ]
     },
     "metadata": {},
     "output_type": "display_data"
    },
    {
     "name": "stderr",
     "output_type": "stream",
     "text": [
      "wandb: Agent Starting Run: 5iaoyrnp with config:\n",
      "wandb: \tdropout_keep_p: 1\n",
      "wandb: \tepochs: 50000\n",
      "wandb: \tfeatures: 15\n",
      "wandb: \tfp_emax: 48\n",
      "wandb: \tfp_explim: CPFLOAT_EXPRANGE_TARG\n",
      "wandb: \tfp_flip: CPFLOAT_SOFTERR\n",
      "wandb: \tfp_p: 0.4644551049662697\n",
      "wandb: \tfp_precision: 5\n",
      "wandb: \tfp_round: CPFLOAT_RND_SP\n",
      "wandb: \tfp_subnormal: CPFLOAT_SUBN_RND\n",
      "wandb: \tlearning_rate: 0.001\n",
      "wandb: \tloss: mean_squared_error\n",
      "wandb: \tmomentum_coefficient: 0\n",
      "wandb: \tnon_negative: True\n",
      "wandb: \tweight_decay: 0.0001\n",
      "wandb: wandb version 0.12.11 is available!  To upgrade, please run:\n",
      "wandb:  $ pip install wandb --upgrade\n"
     ]
    },
    {
     "data": {
      "text/html": [
       "\n",
       "                Tracking run with wandb version 0.10.21<br/>\n",
       "                Syncing run <strong style=\"color:#cdcd00\">royal-sweep-63</strong> to <a href=\"https://wandb.ai\" target=\"_blank\">Weights & Biases</a> <a href=\"https://docs.wandb.com/integrations/jupyter.html\" target=\"_blank\">(Documentation)</a>.<br/>\n",
       "                Project page: <a href=\"https://wandb.ai/lubomirkurcak/matrix-factorization\" target=\"_blank\">https://wandb.ai/lubomirkurcak/matrix-factorization</a><br/>\n",
       "                Sweep page: <a href=\"https://wandb.ai/lubomirkurcak/matrix-factorization/sweeps/2q624iuc\" target=\"_blank\">https://wandb.ai/lubomirkurcak/matrix-factorization/sweeps/2q624iuc</a><br/>\n",
       "Run page: <a href=\"https://wandb.ai/lubomirkurcak/matrix-factorization/runs/5iaoyrnp\" target=\"_blank\">https://wandb.ai/lubomirkurcak/matrix-factorization/runs/5iaoyrnp</a><br/>\n",
       "                Run data is saved locally in <code>W:\\rpnn\\python\\wandb\\run-20220305_184602-5iaoyrnp</code><br/><br/>\n",
       "            "
      ],
      "text/plain": [
       "<IPython.core.display.HTML object>"
      ]
     },
     "metadata": {},
     "output_type": "display_data"
    },
    {
     "name": "stdout",
     "output_type": "stream",
     "text": [
      "cpfloat_validate_optstruct returned 0\n"
     ]
    },
    {
     "data": {
      "text/html": [
       "<br/>Waiting for W&B process to finish, PID 3524<br/>Program ended successfully."
      ],
      "text/plain": [
       "<IPython.core.display.HTML object>"
      ]
     },
     "metadata": {},
     "output_type": "display_data"
    },
    {
     "data": {
      "application/vnd.jupyter.widget-view+json": {
       "model_id": "",
       "version_major": 2,
       "version_minor": 0
      },
      "text/plain": [
       "VBox(children=(Label(value=' 0.00MB of 0.00MB uploaded (0.00MB deduped)\\r'), FloatProgress(value=1.0, max=1.0)…"
      ]
     },
     "metadata": {},
     "output_type": "display_data"
    },
    {
     "data": {
      "text/html": [
       "Find user logs for this run at: <code>W:\\rpnn\\python\\wandb\\run-20220305_184602-5iaoyrnp\\logs\\debug.log</code>"
      ],
      "text/plain": [
       "<IPython.core.display.HTML object>"
      ]
     },
     "metadata": {},
     "output_type": "display_data"
    },
    {
     "data": {
      "text/html": [
       "Find internal logs for this run at: <code>W:\\rpnn\\python\\wandb\\run-20220305_184602-5iaoyrnp\\logs\\debug-internal.log</code>"
      ],
      "text/plain": [
       "<IPython.core.display.HTML object>"
      ]
     },
     "metadata": {},
     "output_type": "display_data"
    },
    {
     "data": {
      "text/html": [
       "<h3>Run summary:</h3><br/><style>\n",
       "    table.wandb td:nth-child(1) { padding: 0 10px; text-align: right }\n",
       "    </style><table class=\"wandb\">\n",
       "<tr><td>squared_error</td><td>2570.66016</td></tr><tr><td>_runtime</td><td>50</td></tr><tr><td>_timestamp</td><td>1646502412</td></tr><tr><td>_step</td><td>0</td></tr></table>"
      ],
      "text/plain": [
       "<IPython.core.display.HTML object>"
      ]
     },
     "metadata": {},
     "output_type": "display_data"
    },
    {
     "data": {
      "text/html": [
       "<h3>Run history:</h3><br/><style>\n",
       "    table.wandb td:nth-child(1) { padding: 0 10px; text-align: right }\n",
       "    </style><table class=\"wandb\">\n",
       "<tr><td>squared_error</td><td>▁</td></tr><tr><td>_runtime</td><td>▁</td></tr><tr><td>_timestamp</td><td>▁</td></tr><tr><td>_step</td><td>▁</td></tr></table><br/>"
      ],
      "text/plain": [
       "<IPython.core.display.HTML object>"
      ]
     },
     "metadata": {},
     "output_type": "display_data"
    },
    {
     "data": {
      "text/html": [
       "Synced 5 W&B file(s), 0 media file(s), 0 artifact file(s) and 0 other file(s)"
      ],
      "text/plain": [
       "<IPython.core.display.HTML object>"
      ]
     },
     "metadata": {},
     "output_type": "display_data"
    },
    {
     "data": {
      "text/html": [
       "\n",
       "                    <br/>Synced <strong style=\"color:#cdcd00\">royal-sweep-63</strong>: <a href=\"https://wandb.ai/lubomirkurcak/matrix-factorization/runs/5iaoyrnp\" target=\"_blank\">https://wandb.ai/lubomirkurcak/matrix-factorization/runs/5iaoyrnp</a><br/>\n",
       "                "
      ],
      "text/plain": [
       "<IPython.core.display.HTML object>"
      ]
     },
     "metadata": {},
     "output_type": "display_data"
    },
    {
     "name": "stderr",
     "output_type": "stream",
     "text": [
      "wandb: Agent Starting Run: 1en6jxdv with config:\n",
      "wandb: \tdropout_keep_p: 1\n",
      "wandb: \tepochs: 50000\n",
      "wandb: \tfeatures: 15\n",
      "wandb: \tfp_emax: 65\n",
      "wandb: \tfp_explim: CPFLOAT_EXPRANGE_TARG\n",
      "wandb: \tfp_flip: CPFLOAT_NO_SOFTERR\n",
      "wandb: \tfp_p: 0.09413659288336268\n",
      "wandb: \tfp_precision: 19\n",
      "wandb: \tfp_round: CPFLOAT_RND_NE\n",
      "wandb: \tfp_subnormal: CPFLOAT_SUBN_USE\n",
      "wandb: \tlearning_rate: 0.001\n",
      "wandb: \tloss: mean_squared_error\n",
      "wandb: \tmomentum_coefficient: 0\n",
      "wandb: \tnon_negative: True\n",
      "wandb: \tweight_decay: 0.0001\n",
      "wandb: wandb version 0.12.11 is available!  To upgrade, please run:\n",
      "wandb:  $ pip install wandb --upgrade\n"
     ]
    },
    {
     "data": {
      "text/html": [
       "\n",
       "                Tracking run with wandb version 0.10.21<br/>\n",
       "                Syncing run <strong style=\"color:#cdcd00\">distinctive-sweep-64</strong> to <a href=\"https://wandb.ai\" target=\"_blank\">Weights & Biases</a> <a href=\"https://docs.wandb.com/integrations/jupyter.html\" target=\"_blank\">(Documentation)</a>.<br/>\n",
       "                Project page: <a href=\"https://wandb.ai/lubomirkurcak/matrix-factorization\" target=\"_blank\">https://wandb.ai/lubomirkurcak/matrix-factorization</a><br/>\n",
       "                Sweep page: <a href=\"https://wandb.ai/lubomirkurcak/matrix-factorization/sweeps/2q624iuc\" target=\"_blank\">https://wandb.ai/lubomirkurcak/matrix-factorization/sweeps/2q624iuc</a><br/>\n",
       "Run page: <a href=\"https://wandb.ai/lubomirkurcak/matrix-factorization/runs/1en6jxdv\" target=\"_blank\">https://wandb.ai/lubomirkurcak/matrix-factorization/runs/1en6jxdv</a><br/>\n",
       "                Run data is saved locally in <code>W:\\rpnn\\python\\wandb\\run-20220305_184658-1en6jxdv</code><br/><br/>\n",
       "            "
      ],
      "text/plain": [
       "<IPython.core.display.HTML object>"
      ]
     },
     "metadata": {},
     "output_type": "display_data"
    },
    {
     "name": "stdout",
     "output_type": "stream",
     "text": [
      "cpfloat_validate_optstruct returned 0\n"
     ]
    },
    {
     "data": {
      "text/html": [
       "<br/>Waiting for W&B process to finish, PID 7316<br/>Program ended successfully."
      ],
      "text/plain": [
       "<IPython.core.display.HTML object>"
      ]
     },
     "metadata": {},
     "output_type": "display_data"
    },
    {
     "data": {
      "application/vnd.jupyter.widget-view+json": {
       "model_id": "",
       "version_major": 2,
       "version_minor": 0
      },
      "text/plain": [
       "VBox(children=(Label(value=' 0.00MB of 0.00MB uploaded (0.00MB deduped)\\r'), FloatProgress(value=1.0, max=1.0)…"
      ]
     },
     "metadata": {},
     "output_type": "display_data"
    },
    {
     "data": {
      "text/html": [
       "Find user logs for this run at: <code>W:\\rpnn\\python\\wandb\\run-20220305_184658-1en6jxdv\\logs\\debug.log</code>"
      ],
      "text/plain": [
       "<IPython.core.display.HTML object>"
      ]
     },
     "metadata": {},
     "output_type": "display_data"
    },
    {
     "data": {
      "text/html": [
       "Find internal logs for this run at: <code>W:\\rpnn\\python\\wandb\\run-20220305_184658-1en6jxdv\\logs\\debug-internal.log</code>"
      ],
      "text/plain": [
       "<IPython.core.display.HTML object>"
      ]
     },
     "metadata": {},
     "output_type": "display_data"
    },
    {
     "data": {
      "text/html": [
       "<h3>Run summary:</h3><br/><style>\n",
       "    table.wandb td:nth-child(1) { padding: 0 10px; text-align: right }\n",
       "    </style><table class=\"wandb\">\n",
       "<tr><td>squared_error</td><td>171.88643</td></tr><tr><td>_runtime</td><td>26</td></tr><tr><td>_timestamp</td><td>1646502445</td></tr><tr><td>_step</td><td>0</td></tr></table>"
      ],
      "text/plain": [
       "<IPython.core.display.HTML object>"
      ]
     },
     "metadata": {},
     "output_type": "display_data"
    },
    {
     "data": {
      "text/html": [
       "<h3>Run history:</h3><br/><style>\n",
       "    table.wandb td:nth-child(1) { padding: 0 10px; text-align: right }\n",
       "    </style><table class=\"wandb\">\n",
       "<tr><td>squared_error</td><td>▁</td></tr><tr><td>_runtime</td><td>▁</td></tr><tr><td>_timestamp</td><td>▁</td></tr><tr><td>_step</td><td>▁</td></tr></table><br/>"
      ],
      "text/plain": [
       "<IPython.core.display.HTML object>"
      ]
     },
     "metadata": {},
     "output_type": "display_data"
    },
    {
     "data": {
      "text/html": [
       "Synced 5 W&B file(s), 0 media file(s), 0 artifact file(s) and 0 other file(s)"
      ],
      "text/plain": [
       "<IPython.core.display.HTML object>"
      ]
     },
     "metadata": {},
     "output_type": "display_data"
    },
    {
     "data": {
      "text/html": [
       "\n",
       "                    <br/>Synced <strong style=\"color:#cdcd00\">distinctive-sweep-64</strong>: <a href=\"https://wandb.ai/lubomirkurcak/matrix-factorization/runs/1en6jxdv\" target=\"_blank\">https://wandb.ai/lubomirkurcak/matrix-factorization/runs/1en6jxdv</a><br/>\n",
       "                "
      ],
      "text/plain": [
       "<IPython.core.display.HTML object>"
      ]
     },
     "metadata": {},
     "output_type": "display_data"
    },
    {
     "name": "stderr",
     "output_type": "stream",
     "text": [
      "wandb: Agent Starting Run: i2pcnxo3 with config:\n",
      "wandb: \tdropout_keep_p: 1\n",
      "wandb: \tepochs: 50000\n",
      "wandb: \tfeatures: 15\n",
      "wandb: \tfp_emax: 61\n",
      "wandb: \tfp_explim: CPFLOAT_EXPRANGE_TARG\n",
      "wandb: \tfp_flip: CPFLOAT_NO_SOFTERR\n",
      "wandb: \tfp_p: 0.1447258904082246\n",
      "wandb: \tfp_precision: 10\n",
      "wandb: \tfp_round: CPFLOAT_RND_OD\n",
      "wandb: \tfp_subnormal: CPFLOAT_SUBN_RND\n",
      "wandb: \tlearning_rate: 0.001\n",
      "wandb: \tloss: mean_squared_error\n",
      "wandb: \tmomentum_coefficient: 0\n",
      "wandb: \tnon_negative: True\n",
      "wandb: \tweight_decay: 0.0001\n",
      "wandb: wandb version 0.12.11 is available!  To upgrade, please run:\n",
      "wandb:  $ pip install wandb --upgrade\n"
     ]
    },
    {
     "data": {
      "text/html": [
       "\n",
       "                Tracking run with wandb version 0.10.21<br/>\n",
       "                Syncing run <strong style=\"color:#cdcd00\">young-sweep-65</strong> to <a href=\"https://wandb.ai\" target=\"_blank\">Weights & Biases</a> <a href=\"https://docs.wandb.com/integrations/jupyter.html\" target=\"_blank\">(Documentation)</a>.<br/>\n",
       "                Project page: <a href=\"https://wandb.ai/lubomirkurcak/matrix-factorization\" target=\"_blank\">https://wandb.ai/lubomirkurcak/matrix-factorization</a><br/>\n",
       "                Sweep page: <a href=\"https://wandb.ai/lubomirkurcak/matrix-factorization/sweeps/2q624iuc\" target=\"_blank\">https://wandb.ai/lubomirkurcak/matrix-factorization/sweeps/2q624iuc</a><br/>\n",
       "Run page: <a href=\"https://wandb.ai/lubomirkurcak/matrix-factorization/runs/i2pcnxo3\" target=\"_blank\">https://wandb.ai/lubomirkurcak/matrix-factorization/runs/i2pcnxo3</a><br/>\n",
       "                Run data is saved locally in <code>W:\\rpnn\\python\\wandb\\run-20220305_184729-i2pcnxo3</code><br/><br/>\n",
       "            "
      ],
      "text/plain": [
       "<IPython.core.display.HTML object>"
      ]
     },
     "metadata": {},
     "output_type": "display_data"
    },
    {
     "name": "stdout",
     "output_type": "stream",
     "text": [
      "cpfloat_validate_optstruct returned 0\n"
     ]
    },
    {
     "data": {
      "text/html": [
       "<br/>Waiting for W&B process to finish, PID 5276<br/>Program ended successfully."
      ],
      "text/plain": [
       "<IPython.core.display.HTML object>"
      ]
     },
     "metadata": {},
     "output_type": "display_data"
    },
    {
     "data": {
      "application/vnd.jupyter.widget-view+json": {
       "model_id": "",
       "version_major": 2,
       "version_minor": 0
      },
      "text/plain": [
       "VBox(children=(Label(value=' 0.00MB of 0.00MB uploaded (0.00MB deduped)\\r'), FloatProgress(value=1.0, max=1.0)…"
      ]
     },
     "metadata": {},
     "output_type": "display_data"
    },
    {
     "data": {
      "text/html": [
       "Find user logs for this run at: <code>W:\\rpnn\\python\\wandb\\run-20220305_184729-i2pcnxo3\\logs\\debug.log</code>"
      ],
      "text/plain": [
       "<IPython.core.display.HTML object>"
      ]
     },
     "metadata": {},
     "output_type": "display_data"
    },
    {
     "data": {
      "text/html": [
       "Find internal logs for this run at: <code>W:\\rpnn\\python\\wandb\\run-20220305_184729-i2pcnxo3\\logs\\debug-internal.log</code>"
      ],
      "text/plain": [
       "<IPython.core.display.HTML object>"
      ]
     },
     "metadata": {},
     "output_type": "display_data"
    },
    {
     "data": {
      "text/html": [
       "<h3>Run summary:</h3><br/><style>\n",
       "    table.wandb td:nth-child(1) { padding: 0 10px; text-align: right }\n",
       "    </style><table class=\"wandb\">\n",
       "<tr><td>squared_error</td><td>424.40515</td></tr><tr><td>_runtime</td><td>26</td></tr><tr><td>_timestamp</td><td>1646502475</td></tr><tr><td>_step</td><td>0</td></tr></table>"
      ],
      "text/plain": [
       "<IPython.core.display.HTML object>"
      ]
     },
     "metadata": {},
     "output_type": "display_data"
    },
    {
     "data": {
      "text/html": [
       "<h3>Run history:</h3><br/><style>\n",
       "    table.wandb td:nth-child(1) { padding: 0 10px; text-align: right }\n",
       "    </style><table class=\"wandb\">\n",
       "<tr><td>squared_error</td><td>▁</td></tr><tr><td>_runtime</td><td>▁</td></tr><tr><td>_timestamp</td><td>▁</td></tr><tr><td>_step</td><td>▁</td></tr></table><br/>"
      ],
      "text/plain": [
       "<IPython.core.display.HTML object>"
      ]
     },
     "metadata": {},
     "output_type": "display_data"
    },
    {
     "data": {
      "text/html": [
       "Synced 5 W&B file(s), 0 media file(s), 0 artifact file(s) and 0 other file(s)"
      ],
      "text/plain": [
       "<IPython.core.display.HTML object>"
      ]
     },
     "metadata": {},
     "output_type": "display_data"
    },
    {
     "data": {
      "text/html": [
       "\n",
       "                    <br/>Synced <strong style=\"color:#cdcd00\">young-sweep-65</strong>: <a href=\"https://wandb.ai/lubomirkurcak/matrix-factorization/runs/i2pcnxo3\" target=\"_blank\">https://wandb.ai/lubomirkurcak/matrix-factorization/runs/i2pcnxo3</a><br/>\n",
       "                "
      ],
      "text/plain": [
       "<IPython.core.display.HTML object>"
      ]
     },
     "metadata": {},
     "output_type": "display_data"
    },
    {
     "name": "stderr",
     "output_type": "stream",
     "text": [
      "wandb: Agent Starting Run: abunsg5y with config:\n",
      "wandb: \tdropout_keep_p: 1\n",
      "wandb: \tepochs: 50000\n",
      "wandb: \tfeatures: 15\n",
      "wandb: \tfp_emax: 106\n",
      "wandb: \tfp_explim: CPFLOAT_EXPRANGE_TARG\n",
      "wandb: \tfp_flip: CPFLOAT_SOFTERR\n",
      "wandb: \tfp_p: 0.39846227466926015\n",
      "wandb: \tfp_precision: 22\n",
      "wandb: \tfp_round: CPFLOAT_RND_NZ\n",
      "wandb: \tfp_subnormal: CPFLOAT_SUBN_USE\n",
      "wandb: \tlearning_rate: 0.001\n",
      "wandb: \tloss: mean_squared_error\n",
      "wandb: \tmomentum_coefficient: 0\n",
      "wandb: \tnon_negative: True\n",
      "wandb: \tweight_decay: 0.0001\n",
      "wandb: wandb version 0.12.11 is available!  To upgrade, please run:\n",
      "wandb:  $ pip install wandb --upgrade\n"
     ]
    },
    {
     "data": {
      "text/html": [
       "\n",
       "                Tracking run with wandb version 0.10.21<br/>\n",
       "                Syncing run <strong style=\"color:#cdcd00\">vibrant-sweep-66</strong> to <a href=\"https://wandb.ai\" target=\"_blank\">Weights & Biases</a> <a href=\"https://docs.wandb.com/integrations/jupyter.html\" target=\"_blank\">(Documentation)</a>.<br/>\n",
       "                Project page: <a href=\"https://wandb.ai/lubomirkurcak/matrix-factorization\" target=\"_blank\">https://wandb.ai/lubomirkurcak/matrix-factorization</a><br/>\n",
       "                Sweep page: <a href=\"https://wandb.ai/lubomirkurcak/matrix-factorization/sweeps/2q624iuc\" target=\"_blank\">https://wandb.ai/lubomirkurcak/matrix-factorization/sweeps/2q624iuc</a><br/>\n",
       "Run page: <a href=\"https://wandb.ai/lubomirkurcak/matrix-factorization/runs/abunsg5y\" target=\"_blank\">https://wandb.ai/lubomirkurcak/matrix-factorization/runs/abunsg5y</a><br/>\n",
       "                Run data is saved locally in <code>W:\\rpnn\\python\\wandb\\run-20220305_184759-abunsg5y</code><br/><br/>\n",
       "            "
      ],
      "text/plain": [
       "<IPython.core.display.HTML object>"
      ]
     },
     "metadata": {},
     "output_type": "display_data"
    },
    {
     "name": "stdout",
     "output_type": "stream",
     "text": [
      "cpfloat_validate_optstruct returned 0\n"
     ]
    },
    {
     "data": {
      "text/html": [
       "<br/>Waiting for W&B process to finish, PID 19472<br/>Program ended successfully."
      ],
      "text/plain": [
       "<IPython.core.display.HTML object>"
      ]
     },
     "metadata": {},
     "output_type": "display_data"
    },
    {
     "data": {
      "application/vnd.jupyter.widget-view+json": {
       "model_id": "",
       "version_major": 2,
       "version_minor": 0
      },
      "text/plain": [
       "VBox(children=(Label(value=' 0.00MB of 0.00MB uploaded (0.00MB deduped)\\r'), FloatProgress(value=1.0, max=1.0)…"
      ]
     },
     "metadata": {},
     "output_type": "display_data"
    },
    {
     "data": {
      "text/html": [
       "Find user logs for this run at: <code>W:\\rpnn\\python\\wandb\\run-20220305_184759-abunsg5y\\logs\\debug.log</code>"
      ],
      "text/plain": [
       "<IPython.core.display.HTML object>"
      ]
     },
     "metadata": {},
     "output_type": "display_data"
    },
    {
     "data": {
      "text/html": [
       "Find internal logs for this run at: <code>W:\\rpnn\\python\\wandb\\run-20220305_184759-abunsg5y\\logs\\debug-internal.log</code>"
      ],
      "text/plain": [
       "<IPython.core.display.HTML object>"
      ]
     },
     "metadata": {},
     "output_type": "display_data"
    },
    {
     "data": {
      "text/html": [
       "<h3>Run summary:</h3><br/><style>\n",
       "    table.wandb td:nth-child(1) { padding: 0 10px; text-align: right }\n",
       "    </style><table class=\"wandb\">\n",
       "<tr><td>squared_error</td><td>186.13759</td></tr><tr><td>_runtime</td><td>33</td></tr><tr><td>_timestamp</td><td>1646502513</td></tr><tr><td>_step</td><td>0</td></tr></table>"
      ],
      "text/plain": [
       "<IPython.core.display.HTML object>"
      ]
     },
     "metadata": {},
     "output_type": "display_data"
    },
    {
     "data": {
      "text/html": [
       "<h3>Run history:</h3><br/><style>\n",
       "    table.wandb td:nth-child(1) { padding: 0 10px; text-align: right }\n",
       "    </style><table class=\"wandb\">\n",
       "<tr><td>squared_error</td><td>▁</td></tr><tr><td>_runtime</td><td>▁</td></tr><tr><td>_timestamp</td><td>▁</td></tr><tr><td>_step</td><td>▁</td></tr></table><br/>"
      ],
      "text/plain": [
       "<IPython.core.display.HTML object>"
      ]
     },
     "metadata": {},
     "output_type": "display_data"
    },
    {
     "data": {
      "text/html": [
       "Synced 5 W&B file(s), 0 media file(s), 0 artifact file(s) and 0 other file(s)"
      ],
      "text/plain": [
       "<IPython.core.display.HTML object>"
      ]
     },
     "metadata": {},
     "output_type": "display_data"
    },
    {
     "data": {
      "text/html": [
       "\n",
       "                    <br/>Synced <strong style=\"color:#cdcd00\">vibrant-sweep-66</strong>: <a href=\"https://wandb.ai/lubomirkurcak/matrix-factorization/runs/abunsg5y\" target=\"_blank\">https://wandb.ai/lubomirkurcak/matrix-factorization/runs/abunsg5y</a><br/>\n",
       "                "
      ],
      "text/plain": [
       "<IPython.core.display.HTML object>"
      ]
     },
     "metadata": {},
     "output_type": "display_data"
    },
    {
     "name": "stderr",
     "output_type": "stream",
     "text": [
      "wandb: Agent Starting Run: pdyfcsrr with config:\n",
      "wandb: \tdropout_keep_p: 1\n",
      "wandb: \tepochs: 50000\n",
      "wandb: \tfeatures: 15\n",
      "wandb: \tfp_emax: 126\n",
      "wandb: \tfp_explim: CPFLOAT_EXPRANGE_STOR\n",
      "wandb: \tfp_flip: CPFLOAT_SOFTERR\n",
      "wandb: \tfp_p: 0.24912396438933315\n",
      "wandb: \tfp_precision: 14\n",
      "wandb: \tfp_round: CPFLOAT_NO_RND\n",
      "wandb: \tfp_subnormal: CPFLOAT_SUBN_USE\n",
      "wandb: \tlearning_rate: 0.001\n",
      "wandb: \tloss: mean_squared_error\n",
      "wandb: \tmomentum_coefficient: 0\n",
      "wandb: \tnon_negative: True\n",
      "wandb: \tweight_decay: 0.0001\n",
      "wandb: wandb version 0.12.11 is available!  To upgrade, please run:\n",
      "wandb:  $ pip install wandb --upgrade\n"
     ]
    },
    {
     "data": {
      "text/html": [
       "\n",
       "                Tracking run with wandb version 0.10.21<br/>\n",
       "                Syncing run <strong style=\"color:#cdcd00\">valiant-sweep-67</strong> to <a href=\"https://wandb.ai\" target=\"_blank\">Weights & Biases</a> <a href=\"https://docs.wandb.com/integrations/jupyter.html\" target=\"_blank\">(Documentation)</a>.<br/>\n",
       "                Project page: <a href=\"https://wandb.ai/lubomirkurcak/matrix-factorization\" target=\"_blank\">https://wandb.ai/lubomirkurcak/matrix-factorization</a><br/>\n",
       "                Sweep page: <a href=\"https://wandb.ai/lubomirkurcak/matrix-factorization/sweeps/2q624iuc\" target=\"_blank\">https://wandb.ai/lubomirkurcak/matrix-factorization/sweeps/2q624iuc</a><br/>\n",
       "Run page: <a href=\"https://wandb.ai/lubomirkurcak/matrix-factorization/runs/pdyfcsrr\" target=\"_blank\">https://wandb.ai/lubomirkurcak/matrix-factorization/runs/pdyfcsrr</a><br/>\n",
       "                Run data is saved locally in <code>W:\\rpnn\\python\\wandb\\run-20220305_184837-pdyfcsrr</code><br/><br/>\n",
       "            "
      ],
      "text/plain": [
       "<IPython.core.display.HTML object>"
      ]
     },
     "metadata": {},
     "output_type": "display_data"
    },
    {
     "name": "stdout",
     "output_type": "stream",
     "text": [
      "cpfloat_validate_optstruct returned -4\n"
     ]
    },
    {
     "data": {
      "text/html": [
       "<br/>Waiting for W&B process to finish, PID 17612<br/>Program ended successfully."
      ],
      "text/plain": [
       "<IPython.core.display.HTML object>"
      ]
     },
     "metadata": {},
     "output_type": "display_data"
    },
    {
     "data": {
      "application/vnd.jupyter.widget-view+json": {
       "model_id": "",
       "version_major": 2,
       "version_minor": 0
      },
      "text/plain": [
       "VBox(children=(Label(value=' 0.00MB of 0.00MB uploaded (0.00MB deduped)\\r'), FloatProgress(value=1.0, max=1.0)…"
      ]
     },
     "metadata": {},
     "output_type": "display_data"
    },
    {
     "data": {
      "text/html": [
       "Find user logs for this run at: <code>W:\\rpnn\\python\\wandb\\run-20220305_184837-pdyfcsrr\\logs\\debug.log</code>"
      ],
      "text/plain": [
       "<IPython.core.display.HTML object>"
      ]
     },
     "metadata": {},
     "output_type": "display_data"
    },
    {
     "data": {
      "text/html": [
       "Find internal logs for this run at: <code>W:\\rpnn\\python\\wandb\\run-20220305_184837-pdyfcsrr\\logs\\debug-internal.log</code>"
      ],
      "text/plain": [
       "<IPython.core.display.HTML object>"
      ]
     },
     "metadata": {},
     "output_type": "display_data"
    },
    {
     "data": {
      "text/html": [
       "<h3>Run summary:</h3><br/><style>\n",
       "    table.wandb td:nth-child(1) { padding: 0 10px; text-align: right }\n",
       "    </style><table class=\"wandb\">\n",
       "<tr><td>squared_error</td><td>169.82032</td></tr><tr><td>_runtime</td><td>30</td></tr><tr><td>_timestamp</td><td>1646502547</td></tr><tr><td>_step</td><td>0</td></tr></table>"
      ],
      "text/plain": [
       "<IPython.core.display.HTML object>"
      ]
     },
     "metadata": {},
     "output_type": "display_data"
    },
    {
     "data": {
      "text/html": [
       "<h3>Run history:</h3><br/><style>\n",
       "    table.wandb td:nth-child(1) { padding: 0 10px; text-align: right }\n",
       "    </style><table class=\"wandb\">\n",
       "<tr><td>squared_error</td><td>▁</td></tr><tr><td>_runtime</td><td>▁</td></tr><tr><td>_timestamp</td><td>▁</td></tr><tr><td>_step</td><td>▁</td></tr></table><br/>"
      ],
      "text/plain": [
       "<IPython.core.display.HTML object>"
      ]
     },
     "metadata": {},
     "output_type": "display_data"
    },
    {
     "data": {
      "text/html": [
       "Synced 5 W&B file(s), 0 media file(s), 0 artifact file(s) and 0 other file(s)"
      ],
      "text/plain": [
       "<IPython.core.display.HTML object>"
      ]
     },
     "metadata": {},
     "output_type": "display_data"
    },
    {
     "data": {
      "text/html": [
       "\n",
       "                    <br/>Synced <strong style=\"color:#cdcd00\">valiant-sweep-67</strong>: <a href=\"https://wandb.ai/lubomirkurcak/matrix-factorization/runs/pdyfcsrr\" target=\"_blank\">https://wandb.ai/lubomirkurcak/matrix-factorization/runs/pdyfcsrr</a><br/>\n",
       "                "
      ],
      "text/plain": [
       "<IPython.core.display.HTML object>"
      ]
     },
     "metadata": {},
     "output_type": "display_data"
    },
    {
     "name": "stderr",
     "output_type": "stream",
     "text": [
      "wandb: Agent Starting Run: zyjjrm9v with config:\n",
      "wandb: \tdropout_keep_p: 1\n",
      "wandb: \tepochs: 50000\n",
      "wandb: \tfeatures: 15\n",
      "wandb: \tfp_emax: 126\n",
      "wandb: \tfp_explim: CPFLOAT_EXPRANGE_STOR\n",
      "wandb: \tfp_flip: CPFLOAT_NO_SOFTERR\n",
      "wandb: \tfp_p: 0.3602218045811246\n",
      "wandb: \tfp_precision: 18\n",
      "wandb: \tfp_round: CPFLOAT_NO_RND\n",
      "wandb: \tfp_subnormal: CPFLOAT_SUBN_USE\n",
      "wandb: \tlearning_rate: 0.001\n",
      "wandb: \tloss: mean_squared_error\n",
      "wandb: \tmomentum_coefficient: 0\n",
      "wandb: \tnon_negative: True\n",
      "wandb: \tweight_decay: 0.0001\n",
      "wandb: wandb version 0.12.11 is available!  To upgrade, please run:\n",
      "wandb:  $ pip install wandb --upgrade\n"
     ]
    },
    {
     "data": {
      "text/html": [
       "\n",
       "                Tracking run with wandb version 0.10.21<br/>\n",
       "                Syncing run <strong style=\"color:#cdcd00\">summer-sweep-68</strong> to <a href=\"https://wandb.ai\" target=\"_blank\">Weights & Biases</a> <a href=\"https://docs.wandb.com/integrations/jupyter.html\" target=\"_blank\">(Documentation)</a>.<br/>\n",
       "                Project page: <a href=\"https://wandb.ai/lubomirkurcak/matrix-factorization\" target=\"_blank\">https://wandb.ai/lubomirkurcak/matrix-factorization</a><br/>\n",
       "                Sweep page: <a href=\"https://wandb.ai/lubomirkurcak/matrix-factorization/sweeps/2q624iuc\" target=\"_blank\">https://wandb.ai/lubomirkurcak/matrix-factorization/sweeps/2q624iuc</a><br/>\n",
       "Run page: <a href=\"https://wandb.ai/lubomirkurcak/matrix-factorization/runs/zyjjrm9v\" target=\"_blank\">https://wandb.ai/lubomirkurcak/matrix-factorization/runs/zyjjrm9v</a><br/>\n",
       "                Run data is saved locally in <code>W:\\rpnn\\python\\wandb\\run-20220305_184912-zyjjrm9v</code><br/><br/>\n",
       "            "
      ],
      "text/plain": [
       "<IPython.core.display.HTML object>"
      ]
     },
     "metadata": {},
     "output_type": "display_data"
    },
    {
     "name": "stdout",
     "output_type": "stream",
     "text": [
      "cpfloat_validate_optstruct returned -4\n"
     ]
    },
    {
     "data": {
      "text/html": [
       "<br/>Waiting for W&B process to finish, PID 26412<br/>Program ended successfully."
      ],
      "text/plain": [
       "<IPython.core.display.HTML object>"
      ]
     },
     "metadata": {},
     "output_type": "display_data"
    },
    {
     "data": {
      "application/vnd.jupyter.widget-view+json": {
       "model_id": "",
       "version_major": 2,
       "version_minor": 0
      },
      "text/plain": [
       "VBox(children=(Label(value=' 0.00MB of 0.00MB uploaded (0.00MB deduped)\\r'), FloatProgress(value=1.0, max=1.0)…"
      ]
     },
     "metadata": {},
     "output_type": "display_data"
    },
    {
     "data": {
      "text/html": [
       "Find user logs for this run at: <code>W:\\rpnn\\python\\wandb\\run-20220305_184912-zyjjrm9v\\logs\\debug.log</code>"
      ],
      "text/plain": [
       "<IPython.core.display.HTML object>"
      ]
     },
     "metadata": {},
     "output_type": "display_data"
    },
    {
     "data": {
      "text/html": [
       "Find internal logs for this run at: <code>W:\\rpnn\\python\\wandb\\run-20220305_184912-zyjjrm9v\\logs\\debug-internal.log</code>"
      ],
      "text/plain": [
       "<IPython.core.display.HTML object>"
      ]
     },
     "metadata": {},
     "output_type": "display_data"
    },
    {
     "data": {
      "text/html": [
       "<h3>Run summary:</h3><br/><style>\n",
       "    table.wandb td:nth-child(1) { padding: 0 10px; text-align: right }\n",
       "    </style><table class=\"wandb\">\n",
       "<tr><td>squared_error</td><td>174.55092</td></tr><tr><td>_runtime</td><td>22</td></tr><tr><td>_timestamp</td><td>1646502574</td></tr><tr><td>_step</td><td>0</td></tr></table>"
      ],
      "text/plain": [
       "<IPython.core.display.HTML object>"
      ]
     },
     "metadata": {},
     "output_type": "display_data"
    },
    {
     "data": {
      "text/html": [
       "<h3>Run history:</h3><br/><style>\n",
       "    table.wandb td:nth-child(1) { padding: 0 10px; text-align: right }\n",
       "    </style><table class=\"wandb\">\n",
       "<tr><td>squared_error</td><td>▁</td></tr><tr><td>_runtime</td><td>▁</td></tr><tr><td>_timestamp</td><td>▁</td></tr><tr><td>_step</td><td>▁</td></tr></table><br/>"
      ],
      "text/plain": [
       "<IPython.core.display.HTML object>"
      ]
     },
     "metadata": {},
     "output_type": "display_data"
    },
    {
     "data": {
      "text/html": [
       "Synced 5 W&B file(s), 0 media file(s), 0 artifact file(s) and 0 other file(s)"
      ],
      "text/plain": [
       "<IPython.core.display.HTML object>"
      ]
     },
     "metadata": {},
     "output_type": "display_data"
    },
    {
     "data": {
      "text/html": [
       "\n",
       "                    <br/>Synced <strong style=\"color:#cdcd00\">summer-sweep-68</strong>: <a href=\"https://wandb.ai/lubomirkurcak/matrix-factorization/runs/zyjjrm9v\" target=\"_blank\">https://wandb.ai/lubomirkurcak/matrix-factorization/runs/zyjjrm9v</a><br/>\n",
       "                "
      ],
      "text/plain": [
       "<IPython.core.display.HTML object>"
      ]
     },
     "metadata": {},
     "output_type": "display_data"
    },
    {
     "name": "stderr",
     "output_type": "stream",
     "text": [
      "wandb: Agent Starting Run: tidre21s with config:\n",
      "wandb: \tdropout_keep_p: 1\n",
      "wandb: \tepochs: 50000\n",
      "wandb: \tfeatures: 15\n",
      "wandb: \tfp_emax: 97\n",
      "wandb: \tfp_explim: CPFLOAT_EXPRANGE_STOR\n",
      "wandb: \tfp_flip: CPFLOAT_SOFTERR\n",
      "wandb: \tfp_p: 0.4497265790968583\n",
      "wandb: \tfp_precision: 14\n",
      "wandb: \tfp_round: CPFLOAT_RND_TZ\n",
      "wandb: \tfp_subnormal: CPFLOAT_SUBN_USE\n",
      "wandb: \tlearning_rate: 0.001\n",
      "wandb: \tloss: mean_squared_error\n",
      "wandb: \tmomentum_coefficient: 0\n",
      "wandb: \tnon_negative: True\n",
      "wandb: \tweight_decay: 0.0001\n",
      "wandb: wandb version 0.12.11 is available!  To upgrade, please run:\n",
      "wandb:  $ pip install wandb --upgrade\n"
     ]
    },
    {
     "data": {
      "text/html": [
       "\n",
       "                Tracking run with wandb version 0.10.21<br/>\n",
       "                Syncing run <strong style=\"color:#cdcd00\">solar-sweep-69</strong> to <a href=\"https://wandb.ai\" target=\"_blank\">Weights & Biases</a> <a href=\"https://docs.wandb.com/integrations/jupyter.html\" target=\"_blank\">(Documentation)</a>.<br/>\n",
       "                Project page: <a href=\"https://wandb.ai/lubomirkurcak/matrix-factorization\" target=\"_blank\">https://wandb.ai/lubomirkurcak/matrix-factorization</a><br/>\n",
       "                Sweep page: <a href=\"https://wandb.ai/lubomirkurcak/matrix-factorization/sweeps/2q624iuc\" target=\"_blank\">https://wandb.ai/lubomirkurcak/matrix-factorization/sweeps/2q624iuc</a><br/>\n",
       "Run page: <a href=\"https://wandb.ai/lubomirkurcak/matrix-factorization/runs/tidre21s\" target=\"_blank\">https://wandb.ai/lubomirkurcak/matrix-factorization/runs/tidre21s</a><br/>\n",
       "                Run data is saved locally in <code>W:\\rpnn\\python\\wandb\\run-20220305_184939-tidre21s</code><br/><br/>\n",
       "            "
      ],
      "text/plain": [
       "<IPython.core.display.HTML object>"
      ]
     },
     "metadata": {},
     "output_type": "display_data"
    },
    {
     "name": "stdout",
     "output_type": "stream",
     "text": [
      "cpfloat_validate_optstruct returned 0\n"
     ]
    },
    {
     "data": {
      "text/html": [
       "<br/>Waiting for W&B process to finish, PID 21092<br/>Program ended successfully."
      ],
      "text/plain": [
       "<IPython.core.display.HTML object>"
      ]
     },
     "metadata": {},
     "output_type": "display_data"
    },
    {
     "data": {
      "application/vnd.jupyter.widget-view+json": {
       "model_id": "",
       "version_major": 2,
       "version_minor": 0
      },
      "text/plain": [
       "VBox(children=(Label(value=' 0.00MB of 0.00MB uploaded (0.00MB deduped)\\r'), FloatProgress(value=1.0, max=1.0)…"
      ]
     },
     "metadata": {},
     "output_type": "display_data"
    },
    {
     "data": {
      "text/html": [
       "Find user logs for this run at: <code>W:\\rpnn\\python\\wandb\\run-20220305_184939-tidre21s\\logs\\debug.log</code>"
      ],
      "text/plain": [
       "<IPython.core.display.HTML object>"
      ]
     },
     "metadata": {},
     "output_type": "display_data"
    },
    {
     "data": {
      "text/html": [
       "Find internal logs for this run at: <code>W:\\rpnn\\python\\wandb\\run-20220305_184939-tidre21s\\logs\\debug-internal.log</code>"
      ],
      "text/plain": [
       "<IPython.core.display.HTML object>"
      ]
     },
     "metadata": {},
     "output_type": "display_data"
    },
    {
     "data": {
      "text/html": [
       "<h3>Run summary:</h3><br/><style>\n",
       "    table.wandb td:nth-child(1) { padding: 0 10px; text-align: right }\n",
       "    </style><table class=\"wandb\">\n",
       "<tr><td>squared_error</td><td>171.23801</td></tr><tr><td>_runtime</td><td>29</td></tr><tr><td>_timestamp</td><td>1646502608</td></tr><tr><td>_step</td><td>0</td></tr></table>"
      ],
      "text/plain": [
       "<IPython.core.display.HTML object>"
      ]
     },
     "metadata": {},
     "output_type": "display_data"
    },
    {
     "data": {
      "text/html": [
       "<h3>Run history:</h3><br/><style>\n",
       "    table.wandb td:nth-child(1) { padding: 0 10px; text-align: right }\n",
       "    </style><table class=\"wandb\">\n",
       "<tr><td>squared_error</td><td>▁</td></tr><tr><td>_runtime</td><td>▁</td></tr><tr><td>_timestamp</td><td>▁</td></tr><tr><td>_step</td><td>▁</td></tr></table><br/>"
      ],
      "text/plain": [
       "<IPython.core.display.HTML object>"
      ]
     },
     "metadata": {},
     "output_type": "display_data"
    },
    {
     "data": {
      "text/html": [
       "Synced 5 W&B file(s), 0 media file(s), 0 artifact file(s) and 0 other file(s)"
      ],
      "text/plain": [
       "<IPython.core.display.HTML object>"
      ]
     },
     "metadata": {},
     "output_type": "display_data"
    },
    {
     "data": {
      "text/html": [
       "\n",
       "                    <br/>Synced <strong style=\"color:#cdcd00\">solar-sweep-69</strong>: <a href=\"https://wandb.ai/lubomirkurcak/matrix-factorization/runs/tidre21s\" target=\"_blank\">https://wandb.ai/lubomirkurcak/matrix-factorization/runs/tidre21s</a><br/>\n",
       "                "
      ],
      "text/plain": [
       "<IPython.core.display.HTML object>"
      ]
     },
     "metadata": {},
     "output_type": "display_data"
    },
    {
     "name": "stderr",
     "output_type": "stream",
     "text": [
      "wandb: Agent Starting Run: 8a96hzb2 with config:\n",
      "wandb: \tdropout_keep_p: 1\n",
      "wandb: \tepochs: 50000\n",
      "wandb: \tfeatures: 15\n",
      "wandb: \tfp_emax: 107\n",
      "wandb: \tfp_explim: CPFLOAT_EXPRANGE_STOR\n",
      "wandb: \tfp_flip: CPFLOAT_NO_SOFTERR\n",
      "wandb: \tfp_p: 0.1453156525164177\n",
      "wandb: \tfp_precision: 13\n",
      "wandb: \tfp_round: CPFLOAT_RND_OD\n",
      "wandb: \tfp_subnormal: CPFLOAT_SUBN_RND\n",
      "wandb: \tlearning_rate: 0.001\n",
      "wandb: \tloss: mean_squared_error\n",
      "wandb: \tmomentum_coefficient: 0\n",
      "wandb: \tnon_negative: True\n",
      "wandb: \tweight_decay: 0.0001\n",
      "wandb: wandb version 0.12.11 is available!  To upgrade, please run:\n",
      "wandb:  $ pip install wandb --upgrade\n"
     ]
    },
    {
     "data": {
      "text/html": [
       "\n",
       "                Tracking run with wandb version 0.10.21<br/>\n",
       "                Syncing run <strong style=\"color:#cdcd00\">scarlet-sweep-70</strong> to <a href=\"https://wandb.ai\" target=\"_blank\">Weights & Biases</a> <a href=\"https://docs.wandb.com/integrations/jupyter.html\" target=\"_blank\">(Documentation)</a>.<br/>\n",
       "                Project page: <a href=\"https://wandb.ai/lubomirkurcak/matrix-factorization\" target=\"_blank\">https://wandb.ai/lubomirkurcak/matrix-factorization</a><br/>\n",
       "                Sweep page: <a href=\"https://wandb.ai/lubomirkurcak/matrix-factorization/sweeps/2q624iuc\" target=\"_blank\">https://wandb.ai/lubomirkurcak/matrix-factorization/sweeps/2q624iuc</a><br/>\n",
       "Run page: <a href=\"https://wandb.ai/lubomirkurcak/matrix-factorization/runs/8a96hzb2\" target=\"_blank\">https://wandb.ai/lubomirkurcak/matrix-factorization/runs/8a96hzb2</a><br/>\n",
       "                Run data is saved locally in <code>W:\\rpnn\\python\\wandb\\run-20220305_185013-8a96hzb2</code><br/><br/>\n",
       "            "
      ],
      "text/plain": [
       "<IPython.core.display.HTML object>"
      ]
     },
     "metadata": {},
     "output_type": "display_data"
    },
    {
     "name": "stdout",
     "output_type": "stream",
     "text": [
      "cpfloat_validate_optstruct returned 0\n"
     ]
    },
    {
     "data": {
      "text/html": [
       "<br/>Waiting for W&B process to finish, PID 11512<br/>Program ended successfully."
      ],
      "text/plain": [
       "<IPython.core.display.HTML object>"
      ]
     },
     "metadata": {},
     "output_type": "display_data"
    },
    {
     "data": {
      "application/vnd.jupyter.widget-view+json": {
       "model_id": "",
       "version_major": 2,
       "version_minor": 0
      },
      "text/plain": [
       "VBox(children=(Label(value=' 0.00MB of 0.00MB uploaded (0.00MB deduped)\\r'), FloatProgress(value=1.0, max=1.0)…"
      ]
     },
     "metadata": {},
     "output_type": "display_data"
    },
    {
     "data": {
      "text/html": [
       "Find user logs for this run at: <code>W:\\rpnn\\python\\wandb\\run-20220305_185013-8a96hzb2\\logs\\debug.log</code>"
      ],
      "text/plain": [
       "<IPython.core.display.HTML object>"
      ]
     },
     "metadata": {},
     "output_type": "display_data"
    },
    {
     "data": {
      "text/html": [
       "Find internal logs for this run at: <code>W:\\rpnn\\python\\wandb\\run-20220305_185013-8a96hzb2\\logs\\debug-internal.log</code>"
      ],
      "text/plain": [
       "<IPython.core.display.HTML object>"
      ]
     },
     "metadata": {},
     "output_type": "display_data"
    },
    {
     "data": {
      "text/html": [
       "<h3>Run summary:</h3><br/><style>\n",
       "    table.wandb td:nth-child(1) { padding: 0 10px; text-align: right }\n",
       "    </style><table class=\"wandb\">\n",
       "<tr><td>squared_error</td><td>219.61116</td></tr><tr><td>_runtime</td><td>25</td></tr><tr><td>_timestamp</td><td>1646502638</td></tr><tr><td>_step</td><td>0</td></tr></table>"
      ],
      "text/plain": [
       "<IPython.core.display.HTML object>"
      ]
     },
     "metadata": {},
     "output_type": "display_data"
    },
    {
     "data": {
      "text/html": [
       "<h3>Run history:</h3><br/><style>\n",
       "    table.wandb td:nth-child(1) { padding: 0 10px; text-align: right }\n",
       "    </style><table class=\"wandb\">\n",
       "<tr><td>squared_error</td><td>▁</td></tr><tr><td>_runtime</td><td>▁</td></tr><tr><td>_timestamp</td><td>▁</td></tr><tr><td>_step</td><td>▁</td></tr></table><br/>"
      ],
      "text/plain": [
       "<IPython.core.display.HTML object>"
      ]
     },
     "metadata": {},
     "output_type": "display_data"
    },
    {
     "data": {
      "text/html": [
       "Synced 5 W&B file(s), 0 media file(s), 0 artifact file(s) and 0 other file(s)"
      ],
      "text/plain": [
       "<IPython.core.display.HTML object>"
      ]
     },
     "metadata": {},
     "output_type": "display_data"
    },
    {
     "data": {
      "text/html": [
       "\n",
       "                    <br/>Synced <strong style=\"color:#cdcd00\">scarlet-sweep-70</strong>: <a href=\"https://wandb.ai/lubomirkurcak/matrix-factorization/runs/8a96hzb2\" target=\"_blank\">https://wandb.ai/lubomirkurcak/matrix-factorization/runs/8a96hzb2</a><br/>\n",
       "                "
      ],
      "text/plain": [
       "<IPython.core.display.HTML object>"
      ]
     },
     "metadata": {},
     "output_type": "display_data"
    },
    {
     "name": "stderr",
     "output_type": "stream",
     "text": [
      "wandb: Agent Starting Run: bg6dzdq8 with config:\n",
      "wandb: \tdropout_keep_p: 1\n",
      "wandb: \tepochs: 50000\n",
      "wandb: \tfeatures: 15\n",
      "wandb: \tfp_emax: 5\n",
      "wandb: \tfp_explim: CPFLOAT_EXPRANGE_STOR\n",
      "wandb: \tfp_flip: CPFLOAT_SOFTERR\n",
      "wandb: \tfp_p: 0.24215515245545804\n",
      "wandb: \tfp_precision: 12\n",
      "wandb: \tfp_round: CPFLOAT_RND_SE\n",
      "wandb: \tfp_subnormal: CPFLOAT_SUBN_USE\n",
      "wandb: \tlearning_rate: 0.001\n",
      "wandb: \tloss: mean_squared_error\n",
      "wandb: \tmomentum_coefficient: 0\n",
      "wandb: \tnon_negative: True\n",
      "wandb: \tweight_decay: 0.0001\n",
      "wandb: wandb version 0.12.11 is available!  To upgrade, please run:\n",
      "wandb:  $ pip install wandb --upgrade\n"
     ]
    },
    {
     "data": {
      "text/html": [
       "\n",
       "                Tracking run with wandb version 0.10.21<br/>\n",
       "                Syncing run <strong style=\"color:#cdcd00\">trim-sweep-71</strong> to <a href=\"https://wandb.ai\" target=\"_blank\">Weights & Biases</a> <a href=\"https://docs.wandb.com/integrations/jupyter.html\" target=\"_blank\">(Documentation)</a>.<br/>\n",
       "                Project page: <a href=\"https://wandb.ai/lubomirkurcak/matrix-factorization\" target=\"_blank\">https://wandb.ai/lubomirkurcak/matrix-factorization</a><br/>\n",
       "                Sweep page: <a href=\"https://wandb.ai/lubomirkurcak/matrix-factorization/sweeps/2q624iuc\" target=\"_blank\">https://wandb.ai/lubomirkurcak/matrix-factorization/sweeps/2q624iuc</a><br/>\n",
       "Run page: <a href=\"https://wandb.ai/lubomirkurcak/matrix-factorization/runs/bg6dzdq8\" target=\"_blank\">https://wandb.ai/lubomirkurcak/matrix-factorization/runs/bg6dzdq8</a><br/>\n",
       "                Run data is saved locally in <code>W:\\rpnn\\python\\wandb\\run-20220305_185042-bg6dzdq8</code><br/><br/>\n",
       "            "
      ],
      "text/plain": [
       "<IPython.core.display.HTML object>"
      ]
     },
     "metadata": {},
     "output_type": "display_data"
    },
    {
     "name": "stdout",
     "output_type": "stream",
     "text": [
      "cpfloat_validate_optstruct returned 0\n"
     ]
    },
    {
     "data": {
      "text/html": [
       "<br/>Waiting for W&B process to finish, PID 13296<br/>Program ended successfully."
      ],
      "text/plain": [
       "<IPython.core.display.HTML object>"
      ]
     },
     "metadata": {},
     "output_type": "display_data"
    },
    {
     "data": {
      "application/vnd.jupyter.widget-view+json": {
       "model_id": "",
       "version_major": 2,
       "version_minor": 0
      },
      "text/plain": [
       "VBox(children=(Label(value=' 0.00MB of 0.00MB uploaded (0.00MB deduped)\\r'), FloatProgress(value=1.0, max=1.0)…"
      ]
     },
     "metadata": {},
     "output_type": "display_data"
    },
    {
     "data": {
      "text/html": [
       "Find user logs for this run at: <code>W:\\rpnn\\python\\wandb\\run-20220305_185042-bg6dzdq8\\logs\\debug.log</code>"
      ],
      "text/plain": [
       "<IPython.core.display.HTML object>"
      ]
     },
     "metadata": {},
     "output_type": "display_data"
    },
    {
     "data": {
      "text/html": [
       "Find internal logs for this run at: <code>W:\\rpnn\\python\\wandb\\run-20220305_185042-bg6dzdq8\\logs\\debug-internal.log</code>"
      ],
      "text/plain": [
       "<IPython.core.display.HTML object>"
      ]
     },
     "metadata": {},
     "output_type": "display_data"
    },
    {
     "data": {
      "text/html": [
       "<h3>Run summary:</h3><br/><style>\n",
       "    table.wandb td:nth-child(1) { padding: 0 10px; text-align: right }\n",
       "    </style><table class=\"wandb\">\n",
       "<tr><td>squared_error</td><td>216.53831</td></tr><tr><td>_runtime</td><td>39</td></tr><tr><td>_timestamp</td><td>1646502682</td></tr><tr><td>_step</td><td>0</td></tr></table>"
      ],
      "text/plain": [
       "<IPython.core.display.HTML object>"
      ]
     },
     "metadata": {},
     "output_type": "display_data"
    },
    {
     "data": {
      "text/html": [
       "<h3>Run history:</h3><br/><style>\n",
       "    table.wandb td:nth-child(1) { padding: 0 10px; text-align: right }\n",
       "    </style><table class=\"wandb\">\n",
       "<tr><td>squared_error</td><td>▁</td></tr><tr><td>_runtime</td><td>▁</td></tr><tr><td>_timestamp</td><td>▁</td></tr><tr><td>_step</td><td>▁</td></tr></table><br/>"
      ],
      "text/plain": [
       "<IPython.core.display.HTML object>"
      ]
     },
     "metadata": {},
     "output_type": "display_data"
    },
    {
     "data": {
      "text/html": [
       "Synced 5 W&B file(s), 0 media file(s), 0 artifact file(s) and 0 other file(s)"
      ],
      "text/plain": [
       "<IPython.core.display.HTML object>"
      ]
     },
     "metadata": {},
     "output_type": "display_data"
    },
    {
     "data": {
      "text/html": [
       "\n",
       "                    <br/>Synced <strong style=\"color:#cdcd00\">trim-sweep-71</strong>: <a href=\"https://wandb.ai/lubomirkurcak/matrix-factorization/runs/bg6dzdq8\" target=\"_blank\">https://wandb.ai/lubomirkurcak/matrix-factorization/runs/bg6dzdq8</a><br/>\n",
       "                "
      ],
      "text/plain": [
       "<IPython.core.display.HTML object>"
      ]
     },
     "metadata": {},
     "output_type": "display_data"
    },
    {
     "name": "stderr",
     "output_type": "stream",
     "text": [
      "wandb: Agent Starting Run: c4jyqteh with config:\n",
      "wandb: \tdropout_keep_p: 1\n",
      "wandb: \tepochs: 50000\n",
      "wandb: \tfeatures: 15\n",
      "wandb: \tfp_emax: 90\n",
      "wandb: \tfp_explim: CPFLOAT_EXPRANGE_TARG\n",
      "wandb: \tfp_flip: CPFLOAT_NO_SOFTERR\n",
      "wandb: \tfp_p: 0.22925196111942248\n",
      "wandb: \tfp_precision: 18\n",
      "wandb: \tfp_round: CPFLOAT_RND_TP\n",
      "wandb: \tfp_subnormal: CPFLOAT_SUBN_RND\n",
      "wandb: \tlearning_rate: 0.001\n",
      "wandb: \tloss: mean_squared_error\n",
      "wandb: \tmomentum_coefficient: 0\n",
      "wandb: \tnon_negative: True\n",
      "wandb: \tweight_decay: 0.0001\n",
      "wandb: wandb version 0.12.11 is available!  To upgrade, please run:\n",
      "wandb:  $ pip install wandb --upgrade\n"
     ]
    },
    {
     "data": {
      "text/html": [
       "\n",
       "                Tracking run with wandb version 0.10.21<br/>\n",
       "                Syncing run <strong style=\"color:#cdcd00\">dry-sweep-72</strong> to <a href=\"https://wandb.ai\" target=\"_blank\">Weights & Biases</a> <a href=\"https://docs.wandb.com/integrations/jupyter.html\" target=\"_blank\">(Documentation)</a>.<br/>\n",
       "                Project page: <a href=\"https://wandb.ai/lubomirkurcak/matrix-factorization\" target=\"_blank\">https://wandb.ai/lubomirkurcak/matrix-factorization</a><br/>\n",
       "                Sweep page: <a href=\"https://wandb.ai/lubomirkurcak/matrix-factorization/sweeps/2q624iuc\" target=\"_blank\">https://wandb.ai/lubomirkurcak/matrix-factorization/sweeps/2q624iuc</a><br/>\n",
       "Run page: <a href=\"https://wandb.ai/lubomirkurcak/matrix-factorization/runs/c4jyqteh\" target=\"_blank\">https://wandb.ai/lubomirkurcak/matrix-factorization/runs/c4jyqteh</a><br/>\n",
       "                Run data is saved locally in <code>W:\\rpnn\\python\\wandb\\run-20220305_185126-c4jyqteh</code><br/><br/>\n",
       "            "
      ],
      "text/plain": [
       "<IPython.core.display.HTML object>"
      ]
     },
     "metadata": {},
     "output_type": "display_data"
    },
    {
     "name": "stdout",
     "output_type": "stream",
     "text": [
      "cpfloat_validate_optstruct returned 0\n"
     ]
    },
    {
     "data": {
      "text/html": [
       "<br/>Waiting for W&B process to finish, PID 9712<br/>Program ended successfully."
      ],
      "text/plain": [
       "<IPython.core.display.HTML object>"
      ]
     },
     "metadata": {},
     "output_type": "display_data"
    },
    {
     "data": {
      "application/vnd.jupyter.widget-view+json": {
       "model_id": "",
       "version_major": 2,
       "version_minor": 0
      },
      "text/plain": [
       "VBox(children=(Label(value=' 0.00MB of 0.00MB uploaded (0.00MB deduped)\\r'), FloatProgress(value=1.0, max=1.0)…"
      ]
     },
     "metadata": {},
     "output_type": "display_data"
    },
    {
     "data": {
      "text/html": [
       "Find user logs for this run at: <code>W:\\rpnn\\python\\wandb\\run-20220305_185126-c4jyqteh\\logs\\debug.log</code>"
      ],
      "text/plain": [
       "<IPython.core.display.HTML object>"
      ]
     },
     "metadata": {},
     "output_type": "display_data"
    },
    {
     "data": {
      "text/html": [
       "Find internal logs for this run at: <code>W:\\rpnn\\python\\wandb\\run-20220305_185126-c4jyqteh\\logs\\debug-internal.log</code>"
      ],
      "text/plain": [
       "<IPython.core.display.HTML object>"
      ]
     },
     "metadata": {},
     "output_type": "display_data"
    },
    {
     "data": {
      "text/html": [
       "<h3>Run summary:</h3><br/><style>\n",
       "    table.wandb td:nth-child(1) { padding: 0 10px; text-align: right }\n",
       "    </style><table class=\"wandb\">\n",
       "<tr><td>squared_error</td><td>181.00218</td></tr><tr><td>_runtime</td><td>25</td></tr><tr><td>_timestamp</td><td>1646502712</td></tr><tr><td>_step</td><td>0</td></tr></table>"
      ],
      "text/plain": [
       "<IPython.core.display.HTML object>"
      ]
     },
     "metadata": {},
     "output_type": "display_data"
    },
    {
     "data": {
      "text/html": [
       "<h3>Run history:</h3><br/><style>\n",
       "    table.wandb td:nth-child(1) { padding: 0 10px; text-align: right }\n",
       "    </style><table class=\"wandb\">\n",
       "<tr><td>squared_error</td><td>▁</td></tr><tr><td>_runtime</td><td>▁</td></tr><tr><td>_timestamp</td><td>▁</td></tr><tr><td>_step</td><td>▁</td></tr></table><br/>"
      ],
      "text/plain": [
       "<IPython.core.display.HTML object>"
      ]
     },
     "metadata": {},
     "output_type": "display_data"
    },
    {
     "data": {
      "text/html": [
       "Synced 5 W&B file(s), 0 media file(s), 0 artifact file(s) and 0 other file(s)"
      ],
      "text/plain": [
       "<IPython.core.display.HTML object>"
      ]
     },
     "metadata": {},
     "output_type": "display_data"
    },
    {
     "data": {
      "text/html": [
       "\n",
       "                    <br/>Synced <strong style=\"color:#cdcd00\">dry-sweep-72</strong>: <a href=\"https://wandb.ai/lubomirkurcak/matrix-factorization/runs/c4jyqteh\" target=\"_blank\">https://wandb.ai/lubomirkurcak/matrix-factorization/runs/c4jyqteh</a><br/>\n",
       "                "
      ],
      "text/plain": [
       "<IPython.core.display.HTML object>"
      ]
     },
     "metadata": {},
     "output_type": "display_data"
    },
    {
     "name": "stderr",
     "output_type": "stream",
     "text": [
      "wandb: Agent Starting Run: jylhjn15 with config:\n",
      "wandb: \tdropout_keep_p: 1\n",
      "wandb: \tepochs: 50000\n",
      "wandb: \tfeatures: 15\n",
      "wandb: \tfp_emax: 11\n",
      "wandb: \tfp_explim: CPFLOAT_EXPRANGE_STOR\n",
      "wandb: \tfp_flip: CPFLOAT_NO_SOFTERR\n",
      "wandb: \tfp_p: 0.3695727026631631\n",
      "wandb: \tfp_precision: 6\n",
      "wandb: \tfp_round: CPFLOAT_NO_RND\n",
      "wandb: \tfp_subnormal: CPFLOAT_SUBN_RND\n",
      "wandb: \tlearning_rate: 0.001\n",
      "wandb: \tloss: mean_squared_error\n",
      "wandb: \tmomentum_coefficient: 0\n",
      "wandb: \tnon_negative: True\n",
      "wandb: \tweight_decay: 0.0001\n",
      "wandb: wandb version 0.12.11 is available!  To upgrade, please run:\n",
      "wandb:  $ pip install wandb --upgrade\n"
     ]
    },
    {
     "data": {
      "text/html": [
       "\n",
       "                Tracking run with wandb version 0.10.21<br/>\n",
       "                Syncing run <strong style=\"color:#cdcd00\">floral-sweep-73</strong> to <a href=\"https://wandb.ai\" target=\"_blank\">Weights & Biases</a> <a href=\"https://docs.wandb.com/integrations/jupyter.html\" target=\"_blank\">(Documentation)</a>.<br/>\n",
       "                Project page: <a href=\"https://wandb.ai/lubomirkurcak/matrix-factorization\" target=\"_blank\">https://wandb.ai/lubomirkurcak/matrix-factorization</a><br/>\n",
       "                Sweep page: <a href=\"https://wandb.ai/lubomirkurcak/matrix-factorization/sweeps/2q624iuc\" target=\"_blank\">https://wandb.ai/lubomirkurcak/matrix-factorization/sweeps/2q624iuc</a><br/>\n",
       "Run page: <a href=\"https://wandb.ai/lubomirkurcak/matrix-factorization/runs/jylhjn15\" target=\"_blank\">https://wandb.ai/lubomirkurcak/matrix-factorization/runs/jylhjn15</a><br/>\n",
       "                Run data is saved locally in <code>W:\\rpnn\\python\\wandb\\run-20220305_185157-jylhjn15</code><br/><br/>\n",
       "            "
      ],
      "text/plain": [
       "<IPython.core.display.HTML object>"
      ]
     },
     "metadata": {},
     "output_type": "display_data"
    },
    {
     "name": "stdout",
     "output_type": "stream",
     "text": [
      "cpfloat_validate_optstruct returned -4\n"
     ]
    },
    {
     "data": {
      "text/html": [
       "<br/>Waiting for W&B process to finish, PID 2148<br/>Program ended successfully."
      ],
      "text/plain": [
       "<IPython.core.display.HTML object>"
      ]
     },
     "metadata": {},
     "output_type": "display_data"
    },
    {
     "data": {
      "application/vnd.jupyter.widget-view+json": {
       "model_id": "",
       "version_major": 2,
       "version_minor": 0
      },
      "text/plain": [
       "VBox(children=(Label(value=' 0.00MB of 0.00MB uploaded (0.00MB deduped)\\r'), FloatProgress(value=1.0, max=1.0)…"
      ]
     },
     "metadata": {},
     "output_type": "display_data"
    },
    {
     "data": {
      "text/html": [
       "Find user logs for this run at: <code>W:\\rpnn\\python\\wandb\\run-20220305_185157-jylhjn15\\logs\\debug.log</code>"
      ],
      "text/plain": [
       "<IPython.core.display.HTML object>"
      ]
     },
     "metadata": {},
     "output_type": "display_data"
    },
    {
     "data": {
      "text/html": [
       "Find internal logs for this run at: <code>W:\\rpnn\\python\\wandb\\run-20220305_185157-jylhjn15\\logs\\debug-internal.log</code>"
      ],
      "text/plain": [
       "<IPython.core.display.HTML object>"
      ]
     },
     "metadata": {},
     "output_type": "display_data"
    },
    {
     "data": {
      "text/html": [
       "<h3>Run summary:</h3><br/><style>\n",
       "    table.wandb td:nth-child(1) { padding: 0 10px; text-align: right }\n",
       "    </style><table class=\"wandb\">\n",
       "<tr><td>squared_error</td><td>171.36718</td></tr><tr><td>_runtime</td><td>23</td></tr><tr><td>_timestamp</td><td>1646502740</td></tr><tr><td>_step</td><td>0</td></tr></table>"
      ],
      "text/plain": [
       "<IPython.core.display.HTML object>"
      ]
     },
     "metadata": {},
     "output_type": "display_data"
    },
    {
     "data": {
      "text/html": [
       "<h3>Run history:</h3><br/><style>\n",
       "    table.wandb td:nth-child(1) { padding: 0 10px; text-align: right }\n",
       "    </style><table class=\"wandb\">\n",
       "<tr><td>squared_error</td><td>▁</td></tr><tr><td>_runtime</td><td>▁</td></tr><tr><td>_timestamp</td><td>▁</td></tr><tr><td>_step</td><td>▁</td></tr></table><br/>"
      ],
      "text/plain": [
       "<IPython.core.display.HTML object>"
      ]
     },
     "metadata": {},
     "output_type": "display_data"
    },
    {
     "data": {
      "text/html": [
       "Synced 5 W&B file(s), 0 media file(s), 0 artifact file(s) and 0 other file(s)"
      ],
      "text/plain": [
       "<IPython.core.display.HTML object>"
      ]
     },
     "metadata": {},
     "output_type": "display_data"
    },
    {
     "data": {
      "text/html": [
       "\n",
       "                    <br/>Synced <strong style=\"color:#cdcd00\">floral-sweep-73</strong>: <a href=\"https://wandb.ai/lubomirkurcak/matrix-factorization/runs/jylhjn15\" target=\"_blank\">https://wandb.ai/lubomirkurcak/matrix-factorization/runs/jylhjn15</a><br/>\n",
       "                "
      ],
      "text/plain": [
       "<IPython.core.display.HTML object>"
      ]
     },
     "metadata": {},
     "output_type": "display_data"
    },
    {
     "name": "stderr",
     "output_type": "stream",
     "text": [
      "wandb: Agent Starting Run: o4ked5tp with config:\n",
      "wandb: \tdropout_keep_p: 1\n",
      "wandb: \tepochs: 50000\n",
      "wandb: \tfeatures: 15\n",
      "wandb: \tfp_emax: 11\n",
      "wandb: \tfp_explim: CPFLOAT_EXPRANGE_TARG\n",
      "wandb: \tfp_flip: CPFLOAT_SOFTERR\n",
      "wandb: \tfp_p: 0.3335583227532662\n",
      "wandb: \tfp_precision: 7\n",
      "wandb: \tfp_round: CPFLOAT_RND_TZ\n",
      "wandb: \tfp_subnormal: CPFLOAT_SUBN_RND\n",
      "wandb: \tlearning_rate: 0.001\n",
      "wandb: \tloss: mean_squared_error\n",
      "wandb: \tmomentum_coefficient: 0\n",
      "wandb: \tnon_negative: True\n",
      "wandb: \tweight_decay: 0.0001\n",
      "wandb: wandb version 0.12.11 is available!  To upgrade, please run:\n",
      "wandb:  $ pip install wandb --upgrade\n"
     ]
    },
    {
     "data": {
      "text/html": [
       "\n",
       "                Tracking run with wandb version 0.10.21<br/>\n",
       "                Syncing run <strong style=\"color:#cdcd00\">rosy-sweep-74</strong> to <a href=\"https://wandb.ai\" target=\"_blank\">Weights & Biases</a> <a href=\"https://docs.wandb.com/integrations/jupyter.html\" target=\"_blank\">(Documentation)</a>.<br/>\n",
       "                Project page: <a href=\"https://wandb.ai/lubomirkurcak/matrix-factorization\" target=\"_blank\">https://wandb.ai/lubomirkurcak/matrix-factorization</a><br/>\n",
       "                Sweep page: <a href=\"https://wandb.ai/lubomirkurcak/matrix-factorization/sweeps/2q624iuc\" target=\"_blank\">https://wandb.ai/lubomirkurcak/matrix-factorization/sweeps/2q624iuc</a><br/>\n",
       "Run page: <a href=\"https://wandb.ai/lubomirkurcak/matrix-factorization/runs/o4ked5tp\" target=\"_blank\">https://wandb.ai/lubomirkurcak/matrix-factorization/runs/o4ked5tp</a><br/>\n",
       "                Run data is saved locally in <code>W:\\rpnn\\python\\wandb\\run-20220305_185224-o4ked5tp</code><br/><br/>\n",
       "            "
      ],
      "text/plain": [
       "<IPython.core.display.HTML object>"
      ]
     },
     "metadata": {},
     "output_type": "display_data"
    },
    {
     "name": "stdout",
     "output_type": "stream",
     "text": [
      "cpfloat_validate_optstruct returned 0\n"
     ]
    },
    {
     "data": {
      "text/html": [
       "<br/>Waiting for W&B process to finish, PID 19512<br/>Program ended successfully."
      ],
      "text/plain": [
       "<IPython.core.display.HTML object>"
      ]
     },
     "metadata": {},
     "output_type": "display_data"
    },
    {
     "data": {
      "application/vnd.jupyter.widget-view+json": {
       "model_id": "",
       "version_major": 2,
       "version_minor": 0
      },
      "text/plain": [
       "VBox(children=(Label(value=' 0.00MB of 0.00MB uploaded (0.00MB deduped)\\r'), FloatProgress(value=1.0, max=1.0)…"
      ]
     },
     "metadata": {},
     "output_type": "display_data"
    },
    {
     "data": {
      "text/html": [
       "Find user logs for this run at: <code>W:\\rpnn\\python\\wandb\\run-20220305_185224-o4ked5tp\\logs\\debug.log</code>"
      ],
      "text/plain": [
       "<IPython.core.display.HTML object>"
      ]
     },
     "metadata": {},
     "output_type": "display_data"
    },
    {
     "data": {
      "text/html": [
       "Find internal logs for this run at: <code>W:\\rpnn\\python\\wandb\\run-20220305_185224-o4ked5tp\\logs\\debug-internal.log</code>"
      ],
      "text/plain": [
       "<IPython.core.display.HTML object>"
      ]
     },
     "metadata": {},
     "output_type": "display_data"
    },
    {
     "data": {
      "text/html": [
       "<h3>Run summary:</h3><br/><style>\n",
       "    table.wandb td:nth-child(1) { padding: 0 10px; text-align: right }\n",
       "    </style><table class=\"wandb\">\n",
       "<tr><td>squared_error</td><td>1804.18188</td></tr><tr><td>_runtime</td><td>32</td></tr><tr><td>_timestamp</td><td>1646502777</td></tr><tr><td>_step</td><td>0</td></tr></table>"
      ],
      "text/plain": [
       "<IPython.core.display.HTML object>"
      ]
     },
     "metadata": {},
     "output_type": "display_data"
    },
    {
     "data": {
      "text/html": [
       "<h3>Run history:</h3><br/><style>\n",
       "    table.wandb td:nth-child(1) { padding: 0 10px; text-align: right }\n",
       "    </style><table class=\"wandb\">\n",
       "<tr><td>squared_error</td><td>▁</td></tr><tr><td>_runtime</td><td>▁</td></tr><tr><td>_timestamp</td><td>▁</td></tr><tr><td>_step</td><td>▁</td></tr></table><br/>"
      ],
      "text/plain": [
       "<IPython.core.display.HTML object>"
      ]
     },
     "metadata": {},
     "output_type": "display_data"
    },
    {
     "data": {
      "text/html": [
       "Synced 5 W&B file(s), 0 media file(s), 0 artifact file(s) and 0 other file(s)"
      ],
      "text/plain": [
       "<IPython.core.display.HTML object>"
      ]
     },
     "metadata": {},
     "output_type": "display_data"
    },
    {
     "data": {
      "text/html": [
       "\n",
       "                    <br/>Synced <strong style=\"color:#cdcd00\">rosy-sweep-74</strong>: <a href=\"https://wandb.ai/lubomirkurcak/matrix-factorization/runs/o4ked5tp\" target=\"_blank\">https://wandb.ai/lubomirkurcak/matrix-factorization/runs/o4ked5tp</a><br/>\n",
       "                "
      ],
      "text/plain": [
       "<IPython.core.display.HTML object>"
      ]
     },
     "metadata": {},
     "output_type": "display_data"
    },
    {
     "name": "stderr",
     "output_type": "stream",
     "text": [
      "wandb: Agent Starting Run: t84w5lxp with config:\n",
      "wandb: \tdropout_keep_p: 1\n",
      "wandb: \tepochs: 50000\n",
      "wandb: \tfeatures: 15\n",
      "wandb: \tfp_emax: 99\n",
      "wandb: \tfp_explim: CPFLOAT_EXPRANGE_STOR\n",
      "wandb: \tfp_flip: CPFLOAT_NO_SOFTERR\n",
      "wandb: \tfp_p: 0.015584544342073847\n",
      "wandb: \tfp_precision: 10\n",
      "wandb: \tfp_round: CPFLOAT_NO_RND\n",
      "wandb: \tfp_subnormal: CPFLOAT_SUBN_RND\n",
      "wandb: \tlearning_rate: 0.001\n",
      "wandb: \tloss: mean_squared_error\n",
      "wandb: \tmomentum_coefficient: 0\n",
      "wandb: \tnon_negative: True\n",
      "wandb: \tweight_decay: 0.0001\n",
      "wandb: wandb version 0.12.11 is available!  To upgrade, please run:\n",
      "wandb:  $ pip install wandb --upgrade\n"
     ]
    },
    {
     "data": {
      "text/html": [
       "\n",
       "                Tracking run with wandb version 0.10.21<br/>\n",
       "                Syncing run <strong style=\"color:#cdcd00\">iconic-sweep-75</strong> to <a href=\"https://wandb.ai\" target=\"_blank\">Weights & Biases</a> <a href=\"https://docs.wandb.com/integrations/jupyter.html\" target=\"_blank\">(Documentation)</a>.<br/>\n",
       "                Project page: <a href=\"https://wandb.ai/lubomirkurcak/matrix-factorization\" target=\"_blank\">https://wandb.ai/lubomirkurcak/matrix-factorization</a><br/>\n",
       "                Sweep page: <a href=\"https://wandb.ai/lubomirkurcak/matrix-factorization/sweeps/2q624iuc\" target=\"_blank\">https://wandb.ai/lubomirkurcak/matrix-factorization/sweeps/2q624iuc</a><br/>\n",
       "Run page: <a href=\"https://wandb.ai/lubomirkurcak/matrix-factorization/runs/t84w5lxp\" target=\"_blank\">https://wandb.ai/lubomirkurcak/matrix-factorization/runs/t84w5lxp</a><br/>\n",
       "                Run data is saved locally in <code>W:\\rpnn\\python\\wandb\\run-20220305_185302-t84w5lxp</code><br/><br/>\n",
       "            "
      ],
      "text/plain": [
       "<IPython.core.display.HTML object>"
      ]
     },
     "metadata": {},
     "output_type": "display_data"
    },
    {
     "name": "stdout",
     "output_type": "stream",
     "text": [
      "cpfloat_validate_optstruct returned -4\n"
     ]
    },
    {
     "data": {
      "text/html": [
       "<br/>Waiting for W&B process to finish, PID 18156<br/>Program ended successfully."
      ],
      "text/plain": [
       "<IPython.core.display.HTML object>"
      ]
     },
     "metadata": {},
     "output_type": "display_data"
    },
    {
     "data": {
      "application/vnd.jupyter.widget-view+json": {
       "model_id": "",
       "version_major": 2,
       "version_minor": 0
      },
      "text/plain": [
       "VBox(children=(Label(value=' 0.00MB of 0.00MB uploaded (0.00MB deduped)\\r'), FloatProgress(value=1.0, max=1.0)…"
      ]
     },
     "metadata": {},
     "output_type": "display_data"
    },
    {
     "data": {
      "text/html": [
       "Find user logs for this run at: <code>W:\\rpnn\\python\\wandb\\run-20220305_185302-t84w5lxp\\logs\\debug.log</code>"
      ],
      "text/plain": [
       "<IPython.core.display.HTML object>"
      ]
     },
     "metadata": {},
     "output_type": "display_data"
    },
    {
     "data": {
      "text/html": [
       "Find internal logs for this run at: <code>W:\\rpnn\\python\\wandb\\run-20220305_185302-t84w5lxp\\logs\\debug-internal.log</code>"
      ],
      "text/plain": [
       "<IPython.core.display.HTML object>"
      ]
     },
     "metadata": {},
     "output_type": "display_data"
    },
    {
     "data": {
      "text/html": [
       "<h3>Run summary:</h3><br/><style>\n",
       "    table.wandb td:nth-child(1) { padding: 0 10px; text-align: right }\n",
       "    </style><table class=\"wandb\">\n",
       "<tr><td>squared_error</td><td>183.15077</td></tr><tr><td>_runtime</td><td>23</td></tr><tr><td>_timestamp</td><td>1646502805</td></tr><tr><td>_step</td><td>0</td></tr></table>"
      ],
      "text/plain": [
       "<IPython.core.display.HTML object>"
      ]
     },
     "metadata": {},
     "output_type": "display_data"
    },
    {
     "data": {
      "text/html": [
       "<h3>Run history:</h3><br/><style>\n",
       "    table.wandb td:nth-child(1) { padding: 0 10px; text-align: right }\n",
       "    </style><table class=\"wandb\">\n",
       "<tr><td>squared_error</td><td>▁</td></tr><tr><td>_runtime</td><td>▁</td></tr><tr><td>_timestamp</td><td>▁</td></tr><tr><td>_step</td><td>▁</td></tr></table><br/>"
      ],
      "text/plain": [
       "<IPython.core.display.HTML object>"
      ]
     },
     "metadata": {},
     "output_type": "display_data"
    },
    {
     "data": {
      "text/html": [
       "Synced 5 W&B file(s), 0 media file(s), 0 artifact file(s) and 0 other file(s)"
      ],
      "text/plain": [
       "<IPython.core.display.HTML object>"
      ]
     },
     "metadata": {},
     "output_type": "display_data"
    },
    {
     "data": {
      "text/html": [
       "\n",
       "                    <br/>Synced <strong style=\"color:#cdcd00\">iconic-sweep-75</strong>: <a href=\"https://wandb.ai/lubomirkurcak/matrix-factorization/runs/t84w5lxp\" target=\"_blank\">https://wandb.ai/lubomirkurcak/matrix-factorization/runs/t84w5lxp</a><br/>\n",
       "                "
      ],
      "text/plain": [
       "<IPython.core.display.HTML object>"
      ]
     },
     "metadata": {},
     "output_type": "display_data"
    },
    {
     "name": "stderr",
     "output_type": "stream",
     "text": [
      "wandb: Agent Starting Run: chrwg6q8 with config:\n",
      "wandb: \tdropout_keep_p: 1\n",
      "wandb: \tepochs: 50000\n",
      "wandb: \tfeatures: 15\n",
      "wandb: \tfp_emax: 65\n",
      "wandb: \tfp_explim: CPFLOAT_EXPRANGE_TARG\n",
      "wandb: \tfp_flip: CPFLOAT_NO_SOFTERR\n",
      "wandb: \tfp_p: 0.4070045664119219\n",
      "wandb: \tfp_precision: 18\n",
      "wandb: \tfp_round: CPFLOAT_RND_SE\n",
      "wandb: \tfp_subnormal: CPFLOAT_SUBN_RND\n",
      "wandb: \tlearning_rate: 0.001\n",
      "wandb: \tloss: mean_squared_error\n",
      "wandb: \tmomentum_coefficient: 0\n",
      "wandb: \tnon_negative: True\n",
      "wandb: \tweight_decay: 0.0001\n",
      "wandb: wandb version 0.12.11 is available!  To upgrade, please run:\n",
      "wandb:  $ pip install wandb --upgrade\n"
     ]
    },
    {
     "data": {
      "text/html": [
       "\n",
       "                Tracking run with wandb version 0.10.21<br/>\n",
       "                Syncing run <strong style=\"color:#cdcd00\">driven-sweep-76</strong> to <a href=\"https://wandb.ai\" target=\"_blank\">Weights & Biases</a> <a href=\"https://docs.wandb.com/integrations/jupyter.html\" target=\"_blank\">(Documentation)</a>.<br/>\n",
       "                Project page: <a href=\"https://wandb.ai/lubomirkurcak/matrix-factorization\" target=\"_blank\">https://wandb.ai/lubomirkurcak/matrix-factorization</a><br/>\n",
       "                Sweep page: <a href=\"https://wandb.ai/lubomirkurcak/matrix-factorization/sweeps/2q624iuc\" target=\"_blank\">https://wandb.ai/lubomirkurcak/matrix-factorization/sweeps/2q624iuc</a><br/>\n",
       "Run page: <a href=\"https://wandb.ai/lubomirkurcak/matrix-factorization/runs/chrwg6q8\" target=\"_blank\">https://wandb.ai/lubomirkurcak/matrix-factorization/runs/chrwg6q8</a><br/>\n",
       "                Run data is saved locally in <code>W:\\rpnn\\python\\wandb\\run-20220305_185329-chrwg6q8</code><br/><br/>\n",
       "            "
      ],
      "text/plain": [
       "<IPython.core.display.HTML object>"
      ]
     },
     "metadata": {},
     "output_type": "display_data"
    },
    {
     "name": "stdout",
     "output_type": "stream",
     "text": [
      "cpfloat_validate_optstruct returned 0\n"
     ]
    },
    {
     "data": {
      "text/html": [
       "<br/>Waiting for W&B process to finish, PID 21464<br/>Program ended successfully."
      ],
      "text/plain": [
       "<IPython.core.display.HTML object>"
      ]
     },
     "metadata": {},
     "output_type": "display_data"
    },
    {
     "data": {
      "application/vnd.jupyter.widget-view+json": {
       "model_id": "",
       "version_major": 2,
       "version_minor": 0
      },
      "text/plain": [
       "VBox(children=(Label(value=' 0.00MB of 0.00MB uploaded (0.00MB deduped)\\r'), FloatProgress(value=1.0, max=1.0)…"
      ]
     },
     "metadata": {},
     "output_type": "display_data"
    },
    {
     "data": {
      "text/html": [
       "Find user logs for this run at: <code>W:\\rpnn\\python\\wandb\\run-20220305_185329-chrwg6q8\\logs\\debug.log</code>"
      ],
      "text/plain": [
       "<IPython.core.display.HTML object>"
      ]
     },
     "metadata": {},
     "output_type": "display_data"
    },
    {
     "data": {
      "text/html": [
       "Find internal logs for this run at: <code>W:\\rpnn\\python\\wandb\\run-20220305_185329-chrwg6q8\\logs\\debug-internal.log</code>"
      ],
      "text/plain": [
       "<IPython.core.display.HTML object>"
      ]
     },
     "metadata": {},
     "output_type": "display_data"
    },
    {
     "data": {
      "text/html": [
       "<h3>Run summary:</h3><br/><style>\n",
       "    table.wandb td:nth-child(1) { padding: 0 10px; text-align: right }\n",
       "    </style><table class=\"wandb\">\n",
       "<tr><td>squared_error</td><td>185.71232</td></tr><tr><td>_runtime</td><td>30</td></tr><tr><td>_timestamp</td><td>1646502839</td></tr><tr><td>_step</td><td>0</td></tr></table>"
      ],
      "text/plain": [
       "<IPython.core.display.HTML object>"
      ]
     },
     "metadata": {},
     "output_type": "display_data"
    },
    {
     "data": {
      "text/html": [
       "<h3>Run history:</h3><br/><style>\n",
       "    table.wandb td:nth-child(1) { padding: 0 10px; text-align: right }\n",
       "    </style><table class=\"wandb\">\n",
       "<tr><td>squared_error</td><td>▁</td></tr><tr><td>_runtime</td><td>▁</td></tr><tr><td>_timestamp</td><td>▁</td></tr><tr><td>_step</td><td>▁</td></tr></table><br/>"
      ],
      "text/plain": [
       "<IPython.core.display.HTML object>"
      ]
     },
     "metadata": {},
     "output_type": "display_data"
    },
    {
     "data": {
      "text/html": [
       "Synced 5 W&B file(s), 0 media file(s), 0 artifact file(s) and 0 other file(s)"
      ],
      "text/plain": [
       "<IPython.core.display.HTML object>"
      ]
     },
     "metadata": {},
     "output_type": "display_data"
    },
    {
     "data": {
      "text/html": [
       "\n",
       "                    <br/>Synced <strong style=\"color:#cdcd00\">driven-sweep-76</strong>: <a href=\"https://wandb.ai/lubomirkurcak/matrix-factorization/runs/chrwg6q8\" target=\"_blank\">https://wandb.ai/lubomirkurcak/matrix-factorization/runs/chrwg6q8</a><br/>\n",
       "                "
      ],
      "text/plain": [
       "<IPython.core.display.HTML object>"
      ]
     },
     "metadata": {},
     "output_type": "display_data"
    },
    {
     "name": "stderr",
     "output_type": "stream",
     "text": [
      "wandb: Agent Starting Run: fdok46dx with config:\n",
      "wandb: \tdropout_keep_p: 1\n",
      "wandb: \tepochs: 50000\n",
      "wandb: \tfeatures: 15\n",
      "wandb: \tfp_emax: 106\n",
      "wandb: \tfp_explim: CPFLOAT_EXPRANGE_STOR\n",
      "wandb: \tfp_flip: CPFLOAT_SOFTERR\n",
      "wandb: \tfp_p: 0.3632464968558428\n",
      "wandb: \tfp_precision: 16\n",
      "wandb: \tfp_round: CPFLOAT_RND_NE\n",
      "wandb: \tfp_subnormal: CPFLOAT_SUBN_RND\n",
      "wandb: \tlearning_rate: 0.001\n",
      "wandb: \tloss: mean_squared_error\n",
      "wandb: \tmomentum_coefficient: 0\n",
      "wandb: \tnon_negative: True\n",
      "wandb: \tweight_decay: 0.0001\n",
      "wandb: wandb version 0.12.11 is available!  To upgrade, please run:\n",
      "wandb:  $ pip install wandb --upgrade\n"
     ]
    },
    {
     "data": {
      "text/html": [
       "\n",
       "                Tracking run with wandb version 0.10.21<br/>\n",
       "                Syncing run <strong style=\"color:#cdcd00\">fallen-sweep-77</strong> to <a href=\"https://wandb.ai\" target=\"_blank\">Weights & Biases</a> <a href=\"https://docs.wandb.com/integrations/jupyter.html\" target=\"_blank\">(Documentation)</a>.<br/>\n",
       "                Project page: <a href=\"https://wandb.ai/lubomirkurcak/matrix-factorization\" target=\"_blank\">https://wandb.ai/lubomirkurcak/matrix-factorization</a><br/>\n",
       "                Sweep page: <a href=\"https://wandb.ai/lubomirkurcak/matrix-factorization/sweeps/2q624iuc\" target=\"_blank\">https://wandb.ai/lubomirkurcak/matrix-factorization/sweeps/2q624iuc</a><br/>\n",
       "Run page: <a href=\"https://wandb.ai/lubomirkurcak/matrix-factorization/runs/fdok46dx\" target=\"_blank\">https://wandb.ai/lubomirkurcak/matrix-factorization/runs/fdok46dx</a><br/>\n",
       "                Run data is saved locally in <code>W:\\rpnn\\python\\wandb\\run-20220305_185404-fdok46dx</code><br/><br/>\n",
       "            "
      ],
      "text/plain": [
       "<IPython.core.display.HTML object>"
      ]
     },
     "metadata": {},
     "output_type": "display_data"
    },
    {
     "name": "stdout",
     "output_type": "stream",
     "text": [
      "cpfloat_validate_optstruct returned 0\n"
     ]
    },
    {
     "data": {
      "text/html": [
       "<br/>Waiting for W&B process to finish, PID 20116<br/>Program ended successfully."
      ],
      "text/plain": [
       "<IPython.core.display.HTML object>"
      ]
     },
     "metadata": {},
     "output_type": "display_data"
    },
    {
     "data": {
      "application/vnd.jupyter.widget-view+json": {
       "model_id": "",
       "version_major": 2,
       "version_minor": 0
      },
      "text/plain": [
       "VBox(children=(Label(value=' 0.00MB of 0.00MB uploaded (0.00MB deduped)\\r'), FloatProgress(value=1.0, max=1.0)…"
      ]
     },
     "metadata": {},
     "output_type": "display_data"
    },
    {
     "data": {
      "text/html": [
       "Find user logs for this run at: <code>W:\\rpnn\\python\\wandb\\run-20220305_185404-fdok46dx\\logs\\debug.log</code>"
      ],
      "text/plain": [
       "<IPython.core.display.HTML object>"
      ]
     },
     "metadata": {},
     "output_type": "display_data"
    },
    {
     "data": {
      "text/html": [
       "Find internal logs for this run at: <code>W:\\rpnn\\python\\wandb\\run-20220305_185404-fdok46dx\\logs\\debug-internal.log</code>"
      ],
      "text/plain": [
       "<IPython.core.display.HTML object>"
      ]
     },
     "metadata": {},
     "output_type": "display_data"
    },
    {
     "data": {
      "text/html": [
       "<h3>Run summary:</h3><br/><style>\n",
       "    table.wandb td:nth-child(1) { padding: 0 10px; text-align: right }\n",
       "    </style><table class=\"wandb\">\n",
       "<tr><td>squared_error</td><td>175.91117</td></tr><tr><td>_runtime</td><td>31</td></tr><tr><td>_timestamp</td><td>1646502875</td></tr><tr><td>_step</td><td>0</td></tr></table>"
      ],
      "text/plain": [
       "<IPython.core.display.HTML object>"
      ]
     },
     "metadata": {},
     "output_type": "display_data"
    },
    {
     "data": {
      "text/html": [
       "<h3>Run history:</h3><br/><style>\n",
       "    table.wandb td:nth-child(1) { padding: 0 10px; text-align: right }\n",
       "    </style><table class=\"wandb\">\n",
       "<tr><td>squared_error</td><td>▁</td></tr><tr><td>_runtime</td><td>▁</td></tr><tr><td>_timestamp</td><td>▁</td></tr><tr><td>_step</td><td>▁</td></tr></table><br/>"
      ],
      "text/plain": [
       "<IPython.core.display.HTML object>"
      ]
     },
     "metadata": {},
     "output_type": "display_data"
    },
    {
     "data": {
      "text/html": [
       "Synced 5 W&B file(s), 0 media file(s), 0 artifact file(s) and 0 other file(s)"
      ],
      "text/plain": [
       "<IPython.core.display.HTML object>"
      ]
     },
     "metadata": {},
     "output_type": "display_data"
    },
    {
     "data": {
      "text/html": [
       "\n",
       "                    <br/>Synced <strong style=\"color:#cdcd00\">fallen-sweep-77</strong>: <a href=\"https://wandb.ai/lubomirkurcak/matrix-factorization/runs/fdok46dx\" target=\"_blank\">https://wandb.ai/lubomirkurcak/matrix-factorization/runs/fdok46dx</a><br/>\n",
       "                "
      ],
      "text/plain": [
       "<IPython.core.display.HTML object>"
      ]
     },
     "metadata": {},
     "output_type": "display_data"
    },
    {
     "name": "stderr",
     "output_type": "stream",
     "text": [
      "wandb: Agent Starting Run: 8gye3x0p with config:\n",
      "wandb: \tdropout_keep_p: 1\n",
      "wandb: \tepochs: 50000\n",
      "wandb: \tfeatures: 15\n",
      "wandb: \tfp_emax: 5\n",
      "wandb: \tfp_explim: CPFLOAT_EXPRANGE_STOR\n",
      "wandb: \tfp_flip: CPFLOAT_SOFTERR\n",
      "wandb: \tfp_p: 0.1703245858560291\n",
      "wandb: \tfp_precision: 11\n",
      "wandb: \tfp_round: CPFLOAT_RND_NZ\n",
      "wandb: \tfp_subnormal: CPFLOAT_SUBN_USE\n",
      "wandb: \tlearning_rate: 0.001\n",
      "wandb: \tloss: mean_squared_error\n",
      "wandb: \tmomentum_coefficient: 0\n",
      "wandb: \tnon_negative: True\n",
      "wandb: \tweight_decay: 0.0001\n",
      "wandb: wandb version 0.12.11 is available!  To upgrade, please run:\n",
      "wandb:  $ pip install wandb --upgrade\n"
     ]
    },
    {
     "data": {
      "text/html": [
       "\n",
       "                Tracking run with wandb version 0.10.21<br/>\n",
       "                Syncing run <strong style=\"color:#cdcd00\">dark-sweep-78</strong> to <a href=\"https://wandb.ai\" target=\"_blank\">Weights & Biases</a> <a href=\"https://docs.wandb.com/integrations/jupyter.html\" target=\"_blank\">(Documentation)</a>.<br/>\n",
       "                Project page: <a href=\"https://wandb.ai/lubomirkurcak/matrix-factorization\" target=\"_blank\">https://wandb.ai/lubomirkurcak/matrix-factorization</a><br/>\n",
       "                Sweep page: <a href=\"https://wandb.ai/lubomirkurcak/matrix-factorization/sweeps/2q624iuc\" target=\"_blank\">https://wandb.ai/lubomirkurcak/matrix-factorization/sweeps/2q624iuc</a><br/>\n",
       "Run page: <a href=\"https://wandb.ai/lubomirkurcak/matrix-factorization/runs/8gye3x0p\" target=\"_blank\">https://wandb.ai/lubomirkurcak/matrix-factorization/runs/8gye3x0p</a><br/>\n",
       "                Run data is saved locally in <code>W:\\rpnn\\python\\wandb\\run-20220305_185440-8gye3x0p</code><br/><br/>\n",
       "            "
      ],
      "text/plain": [
       "<IPython.core.display.HTML object>"
      ]
     },
     "metadata": {},
     "output_type": "display_data"
    },
    {
     "name": "stdout",
     "output_type": "stream",
     "text": [
      "cpfloat_validate_optstruct returned 0\n"
     ]
    },
    {
     "data": {
      "text/html": [
       "<br/>Waiting for W&B process to finish, PID 996<br/>Program ended successfully."
      ],
      "text/plain": [
       "<IPython.core.display.HTML object>"
      ]
     },
     "metadata": {},
     "output_type": "display_data"
    },
    {
     "data": {
      "application/vnd.jupyter.widget-view+json": {
       "model_id": "",
       "version_major": 2,
       "version_minor": 0
      },
      "text/plain": [
       "VBox(children=(Label(value=' 0.00MB of 0.00MB uploaded (0.00MB deduped)\\r'), FloatProgress(value=1.0, max=1.0)…"
      ]
     },
     "metadata": {},
     "output_type": "display_data"
    },
    {
     "data": {
      "text/html": [
       "Find user logs for this run at: <code>W:\\rpnn\\python\\wandb\\run-20220305_185440-8gye3x0p\\logs\\debug.log</code>"
      ],
      "text/plain": [
       "<IPython.core.display.HTML object>"
      ]
     },
     "metadata": {},
     "output_type": "display_data"
    },
    {
     "data": {
      "text/html": [
       "Find internal logs for this run at: <code>W:\\rpnn\\python\\wandb\\run-20220305_185440-8gye3x0p\\logs\\debug-internal.log</code>"
      ],
      "text/plain": [
       "<IPython.core.display.HTML object>"
      ]
     },
     "metadata": {},
     "output_type": "display_data"
    },
    {
     "data": {
      "text/html": [
       "<h3>Run summary:</h3><br/><style>\n",
       "    table.wandb td:nth-child(1) { padding: 0 10px; text-align: right }\n",
       "    </style><table class=\"wandb\">\n",
       "<tr><td>squared_error</td><td>248.01743</td></tr><tr><td>_runtime</td><td>28</td></tr><tr><td>_timestamp</td><td>1646502909</td></tr><tr><td>_step</td><td>0</td></tr></table>"
      ],
      "text/plain": [
       "<IPython.core.display.HTML object>"
      ]
     },
     "metadata": {},
     "output_type": "display_data"
    },
    {
     "data": {
      "text/html": [
       "<h3>Run history:</h3><br/><style>\n",
       "    table.wandb td:nth-child(1) { padding: 0 10px; text-align: right }\n",
       "    </style><table class=\"wandb\">\n",
       "<tr><td>squared_error</td><td>▁</td></tr><tr><td>_runtime</td><td>▁</td></tr><tr><td>_timestamp</td><td>▁</td></tr><tr><td>_step</td><td>▁</td></tr></table><br/>"
      ],
      "text/plain": [
       "<IPython.core.display.HTML object>"
      ]
     },
     "metadata": {},
     "output_type": "display_data"
    },
    {
     "data": {
      "text/html": [
       "Synced 5 W&B file(s), 0 media file(s), 0 artifact file(s) and 0 other file(s)"
      ],
      "text/plain": [
       "<IPython.core.display.HTML object>"
      ]
     },
     "metadata": {},
     "output_type": "display_data"
    },
    {
     "data": {
      "text/html": [
       "\n",
       "                    <br/>Synced <strong style=\"color:#cdcd00\">dark-sweep-78</strong>: <a href=\"https://wandb.ai/lubomirkurcak/matrix-factorization/runs/8gye3x0p\" target=\"_blank\">https://wandb.ai/lubomirkurcak/matrix-factorization/runs/8gye3x0p</a><br/>\n",
       "                "
      ],
      "text/plain": [
       "<IPython.core.display.HTML object>"
      ]
     },
     "metadata": {},
     "output_type": "display_data"
    },
    {
     "name": "stderr",
     "output_type": "stream",
     "text": [
      "wandb: Agent Starting Run: pt7ecf3g with config:\n",
      "wandb: \tdropout_keep_p: 1\n",
      "wandb: \tepochs: 50000\n",
      "wandb: \tfeatures: 15\n",
      "wandb: \tfp_emax: 46\n",
      "wandb: \tfp_explim: CPFLOAT_EXPRANGE_STOR\n",
      "wandb: \tfp_flip: CPFLOAT_NO_SOFTERR\n",
      "wandb: \tfp_p: 0.17578748328604243\n",
      "wandb: \tfp_precision: 22\n",
      "wandb: \tfp_round: CPFLOAT_RND_NZ\n",
      "wandb: \tfp_subnormal: CPFLOAT_SUBN_RND\n",
      "wandb: \tlearning_rate: 0.001\n",
      "wandb: \tloss: mean_squared_error\n",
      "wandb: \tmomentum_coefficient: 0\n",
      "wandb: \tnon_negative: True\n",
      "wandb: \tweight_decay: 0.0001\n",
      "wandb: wandb version 0.12.11 is available!  To upgrade, please run:\n",
      "wandb:  $ pip install wandb --upgrade\n"
     ]
    },
    {
     "data": {
      "text/html": [
       "\n",
       "                Tracking run with wandb version 0.10.21<br/>\n",
       "                Syncing run <strong style=\"color:#cdcd00\">polar-sweep-79</strong> to <a href=\"https://wandb.ai\" target=\"_blank\">Weights & Biases</a> <a href=\"https://docs.wandb.com/integrations/jupyter.html\" target=\"_blank\">(Documentation)</a>.<br/>\n",
       "                Project page: <a href=\"https://wandb.ai/lubomirkurcak/matrix-factorization\" target=\"_blank\">https://wandb.ai/lubomirkurcak/matrix-factorization</a><br/>\n",
       "                Sweep page: <a href=\"https://wandb.ai/lubomirkurcak/matrix-factorization/sweeps/2q624iuc\" target=\"_blank\">https://wandb.ai/lubomirkurcak/matrix-factorization/sweeps/2q624iuc</a><br/>\n",
       "Run page: <a href=\"https://wandb.ai/lubomirkurcak/matrix-factorization/runs/pt7ecf3g\" target=\"_blank\">https://wandb.ai/lubomirkurcak/matrix-factorization/runs/pt7ecf3g</a><br/>\n",
       "                Run data is saved locally in <code>W:\\rpnn\\python\\wandb\\run-20220305_185514-pt7ecf3g</code><br/><br/>\n",
       "            "
      ],
      "text/plain": [
       "<IPython.core.display.HTML object>"
      ]
     },
     "metadata": {},
     "output_type": "display_data"
    },
    {
     "name": "stdout",
     "output_type": "stream",
     "text": [
      "cpfloat_validate_optstruct returned 0\n"
     ]
    },
    {
     "data": {
      "text/html": [
       "<br/>Waiting for W&B process to finish, PID 796<br/>Program ended successfully."
      ],
      "text/plain": [
       "<IPython.core.display.HTML object>"
      ]
     },
     "metadata": {},
     "output_type": "display_data"
    },
    {
     "data": {
      "application/vnd.jupyter.widget-view+json": {
       "model_id": "",
       "version_major": 2,
       "version_minor": 0
      },
      "text/plain": [
       "VBox(children=(Label(value=' 0.00MB of 0.00MB uploaded (0.00MB deduped)\\r'), FloatProgress(value=1.0, max=1.0)…"
      ]
     },
     "metadata": {},
     "output_type": "display_data"
    },
    {
     "data": {
      "text/html": [
       "Find user logs for this run at: <code>W:\\rpnn\\python\\wandb\\run-20220305_185514-pt7ecf3g\\logs\\debug.log</code>"
      ],
      "text/plain": [
       "<IPython.core.display.HTML object>"
      ]
     },
     "metadata": {},
     "output_type": "display_data"
    },
    {
     "data": {
      "text/html": [
       "Find internal logs for this run at: <code>W:\\rpnn\\python\\wandb\\run-20220305_185514-pt7ecf3g\\logs\\debug-internal.log</code>"
      ],
      "text/plain": [
       "<IPython.core.display.HTML object>"
      ]
     },
     "metadata": {},
     "output_type": "display_data"
    },
    {
     "data": {
      "text/html": [
       "<h3>Run summary:</h3><br/><style>\n",
       "    table.wandb td:nth-child(1) { padding: 0 10px; text-align: right }\n",
       "    </style><table class=\"wandb\">\n",
       "<tr><td>squared_error</td><td>168.71832</td></tr><tr><td>_runtime</td><td>24</td></tr><tr><td>_timestamp</td><td>1646502938</td></tr><tr><td>_step</td><td>0</td></tr></table>"
      ],
      "text/plain": [
       "<IPython.core.display.HTML object>"
      ]
     },
     "metadata": {},
     "output_type": "display_data"
    },
    {
     "data": {
      "text/html": [
       "<h3>Run history:</h3><br/><style>\n",
       "    table.wandb td:nth-child(1) { padding: 0 10px; text-align: right }\n",
       "    </style><table class=\"wandb\">\n",
       "<tr><td>squared_error</td><td>▁</td></tr><tr><td>_runtime</td><td>▁</td></tr><tr><td>_timestamp</td><td>▁</td></tr><tr><td>_step</td><td>▁</td></tr></table><br/>"
      ],
      "text/plain": [
       "<IPython.core.display.HTML object>"
      ]
     },
     "metadata": {},
     "output_type": "display_data"
    },
    {
     "data": {
      "text/html": [
       "Synced 5 W&B file(s), 0 media file(s), 0 artifact file(s) and 0 other file(s)"
      ],
      "text/plain": [
       "<IPython.core.display.HTML object>"
      ]
     },
     "metadata": {},
     "output_type": "display_data"
    },
    {
     "data": {
      "text/html": [
       "\n",
       "                    <br/>Synced <strong style=\"color:#cdcd00\">polar-sweep-79</strong>: <a href=\"https://wandb.ai/lubomirkurcak/matrix-factorization/runs/pt7ecf3g\" target=\"_blank\">https://wandb.ai/lubomirkurcak/matrix-factorization/runs/pt7ecf3g</a><br/>\n",
       "                "
      ],
      "text/plain": [
       "<IPython.core.display.HTML object>"
      ]
     },
     "metadata": {},
     "output_type": "display_data"
    },
    {
     "name": "stderr",
     "output_type": "stream",
     "text": [
      "wandb: Agent Starting Run: s8s71buy with config:\n",
      "wandb: \tdropout_keep_p: 1\n",
      "wandb: \tepochs: 50000\n",
      "wandb: \tfeatures: 15\n",
      "wandb: \tfp_emax: 105\n",
      "wandb: \tfp_explim: CPFLOAT_EXPRANGE_TARG\n",
      "wandb: \tfp_flip: CPFLOAT_NO_SOFTERR\n",
      "wandb: \tfp_p: 0.2729199218191694\n",
      "wandb: \tfp_precision: 5\n",
      "wandb: \tfp_round: CPFLOAT_RND_NZ\n",
      "wandb: \tfp_subnormal: CPFLOAT_SUBN_USE\n",
      "wandb: \tlearning_rate: 0.001\n",
      "wandb: \tloss: mean_squared_error\n",
      "wandb: \tmomentum_coefficient: 0\n",
      "wandb: \tnon_negative: True\n",
      "wandb: \tweight_decay: 0.0001\n",
      "wandb: wandb version 0.12.11 is available!  To upgrade, please run:\n",
      "wandb:  $ pip install wandb --upgrade\n"
     ]
    },
    {
     "data": {
      "text/html": [
       "\n",
       "                Tracking run with wandb version 0.10.21<br/>\n",
       "                Syncing run <strong style=\"color:#cdcd00\">absurd-sweep-80</strong> to <a href=\"https://wandb.ai\" target=\"_blank\">Weights & Biases</a> <a href=\"https://docs.wandb.com/integrations/jupyter.html\" target=\"_blank\">(Documentation)</a>.<br/>\n",
       "                Project page: <a href=\"https://wandb.ai/lubomirkurcak/matrix-factorization\" target=\"_blank\">https://wandb.ai/lubomirkurcak/matrix-factorization</a><br/>\n",
       "                Sweep page: <a href=\"https://wandb.ai/lubomirkurcak/matrix-factorization/sweeps/2q624iuc\" target=\"_blank\">https://wandb.ai/lubomirkurcak/matrix-factorization/sweeps/2q624iuc</a><br/>\n",
       "Run page: <a href=\"https://wandb.ai/lubomirkurcak/matrix-factorization/runs/s8s71buy\" target=\"_blank\">https://wandb.ai/lubomirkurcak/matrix-factorization/runs/s8s71buy</a><br/>\n",
       "                Run data is saved locally in <code>W:\\rpnn\\python\\wandb\\run-20220305_185542-s8s71buy</code><br/><br/>\n",
       "            "
      ],
      "text/plain": [
       "<IPython.core.display.HTML object>"
      ]
     },
     "metadata": {},
     "output_type": "display_data"
    },
    {
     "name": "stdout",
     "output_type": "stream",
     "text": [
      "cpfloat_validate_optstruct returned 0\n"
     ]
    },
    {
     "data": {
      "text/html": [
       "<br/>Waiting for W&B process to finish, PID 11728<br/>Program ended successfully."
      ],
      "text/plain": [
       "<IPython.core.display.HTML object>"
      ]
     },
     "metadata": {},
     "output_type": "display_data"
    },
    {
     "data": {
      "application/vnd.jupyter.widget-view+json": {
       "model_id": "",
       "version_major": 2,
       "version_minor": 0
      },
      "text/plain": [
       "VBox(children=(Label(value=' 0.00MB of 0.00MB uploaded (0.00MB deduped)\\r'), FloatProgress(value=1.0, max=1.0)…"
      ]
     },
     "metadata": {},
     "output_type": "display_data"
    },
    {
     "data": {
      "text/html": [
       "Find user logs for this run at: <code>W:\\rpnn\\python\\wandb\\run-20220305_185542-s8s71buy\\logs\\debug.log</code>"
      ],
      "text/plain": [
       "<IPython.core.display.HTML object>"
      ]
     },
     "metadata": {},
     "output_type": "display_data"
    },
    {
     "data": {
      "text/html": [
       "Find internal logs for this run at: <code>W:\\rpnn\\python\\wandb\\run-20220305_185542-s8s71buy\\logs\\debug-internal.log</code>"
      ],
      "text/plain": [
       "<IPython.core.display.HTML object>"
      ]
     },
     "metadata": {},
     "output_type": "display_data"
    },
    {
     "data": {
      "text/html": [
       "<h3>Run summary:</h3><br/><style>\n",
       "    table.wandb td:nth-child(1) { padding: 0 10px; text-align: right }\n",
       "    </style><table class=\"wandb\">\n",
       "<tr><td>squared_error</td><td>2044.04297</td></tr><tr><td>_runtime</td><td>25</td></tr><tr><td>_timestamp</td><td>1646502967</td></tr><tr><td>_step</td><td>0</td></tr></table>"
      ],
      "text/plain": [
       "<IPython.core.display.HTML object>"
      ]
     },
     "metadata": {},
     "output_type": "display_data"
    },
    {
     "data": {
      "text/html": [
       "<h3>Run history:</h3><br/><style>\n",
       "    table.wandb td:nth-child(1) { padding: 0 10px; text-align: right }\n",
       "    </style><table class=\"wandb\">\n",
       "<tr><td>squared_error</td><td>▁</td></tr><tr><td>_runtime</td><td>▁</td></tr><tr><td>_timestamp</td><td>▁</td></tr><tr><td>_step</td><td>▁</td></tr></table><br/>"
      ],
      "text/plain": [
       "<IPython.core.display.HTML object>"
      ]
     },
     "metadata": {},
     "output_type": "display_data"
    },
    {
     "data": {
      "text/html": [
       "Synced 5 W&B file(s), 0 media file(s), 0 artifact file(s) and 0 other file(s)"
      ],
      "text/plain": [
       "<IPython.core.display.HTML object>"
      ]
     },
     "metadata": {},
     "output_type": "display_data"
    },
    {
     "data": {
      "text/html": [
       "\n",
       "                    <br/>Synced <strong style=\"color:#cdcd00\">absurd-sweep-80</strong>: <a href=\"https://wandb.ai/lubomirkurcak/matrix-factorization/runs/s8s71buy\" target=\"_blank\">https://wandb.ai/lubomirkurcak/matrix-factorization/runs/s8s71buy</a><br/>\n",
       "                "
      ],
      "text/plain": [
       "<IPython.core.display.HTML object>"
      ]
     },
     "metadata": {},
     "output_type": "display_data"
    },
    {
     "name": "stderr",
     "output_type": "stream",
     "text": [
      "wandb: Agent Starting Run: qqjmgok0 with config:\n",
      "wandb: \tdropout_keep_p: 1\n",
      "wandb: \tepochs: 50000\n",
      "wandb: \tfeatures: 15\n",
      "wandb: \tfp_emax: 7\n",
      "wandb: \tfp_explim: CPFLOAT_EXPRANGE_TARG\n",
      "wandb: \tfp_flip: CPFLOAT_NO_SOFTERR\n",
      "wandb: \tfp_p: 0.2410578854756275\n",
      "wandb: \tfp_precision: 14\n",
      "wandb: \tfp_round: CPFLOAT_RND_NZ\n",
      "wandb: \tfp_subnormal: CPFLOAT_SUBN_RND\n",
      "wandb: \tlearning_rate: 0.001\n",
      "wandb: \tloss: mean_squared_error\n",
      "wandb: \tmomentum_coefficient: 0\n",
      "wandb: \tnon_negative: True\n",
      "wandb: \tweight_decay: 0.0001\n",
      "wandb: wandb version 0.12.11 is available!  To upgrade, please run:\n",
      "wandb:  $ pip install wandb --upgrade\n"
     ]
    },
    {
     "data": {
      "text/html": [
       "\n",
       "                Tracking run with wandb version 0.10.21<br/>\n",
       "                Syncing run <strong style=\"color:#cdcd00\">smooth-sweep-81</strong> to <a href=\"https://wandb.ai\" target=\"_blank\">Weights & Biases</a> <a href=\"https://docs.wandb.com/integrations/jupyter.html\" target=\"_blank\">(Documentation)</a>.<br/>\n",
       "                Project page: <a href=\"https://wandb.ai/lubomirkurcak/matrix-factorization\" target=\"_blank\">https://wandb.ai/lubomirkurcak/matrix-factorization</a><br/>\n",
       "                Sweep page: <a href=\"https://wandb.ai/lubomirkurcak/matrix-factorization/sweeps/2q624iuc\" target=\"_blank\">https://wandb.ai/lubomirkurcak/matrix-factorization/sweeps/2q624iuc</a><br/>\n",
       "Run page: <a href=\"https://wandb.ai/lubomirkurcak/matrix-factorization/runs/qqjmgok0\" target=\"_blank\">https://wandb.ai/lubomirkurcak/matrix-factorization/runs/qqjmgok0</a><br/>\n",
       "                Run data is saved locally in <code>W:\\rpnn\\python\\wandb\\run-20220305_185612-qqjmgok0</code><br/><br/>\n",
       "            "
      ],
      "text/plain": [
       "<IPython.core.display.HTML object>"
      ]
     },
     "metadata": {},
     "output_type": "display_data"
    },
    {
     "name": "stdout",
     "output_type": "stream",
     "text": [
      "cpfloat_validate_optstruct returned 0\n"
     ]
    },
    {
     "data": {
      "text/html": [
       "<br/>Waiting for W&B process to finish, PID 20204<br/>Program ended successfully."
      ],
      "text/plain": [
       "<IPython.core.display.HTML object>"
      ]
     },
     "metadata": {},
     "output_type": "display_data"
    },
    {
     "data": {
      "application/vnd.jupyter.widget-view+json": {
       "model_id": "",
       "version_major": 2,
       "version_minor": 0
      },
      "text/plain": [
       "VBox(children=(Label(value=' 0.00MB of 0.00MB uploaded (0.00MB deduped)\\r'), FloatProgress(value=1.0, max=1.0)…"
      ]
     },
     "metadata": {},
     "output_type": "display_data"
    },
    {
     "data": {
      "text/html": [
       "Find user logs for this run at: <code>W:\\rpnn\\python\\wandb\\run-20220305_185612-qqjmgok0\\logs\\debug.log</code>"
      ],
      "text/plain": [
       "<IPython.core.display.HTML object>"
      ]
     },
     "metadata": {},
     "output_type": "display_data"
    },
    {
     "data": {
      "text/html": [
       "Find internal logs for this run at: <code>W:\\rpnn\\python\\wandb\\run-20220305_185612-qqjmgok0\\logs\\debug-internal.log</code>"
      ],
      "text/plain": [
       "<IPython.core.display.HTML object>"
      ]
     },
     "metadata": {},
     "output_type": "display_data"
    },
    {
     "data": {
      "text/html": [
       "<h3>Run summary:</h3><br/><style>\n",
       "    table.wandb td:nth-child(1) { padding: 0 10px; text-align: right }\n",
       "    </style><table class=\"wandb\">\n",
       "<tr><td>squared_error</td><td>1942.94471</td></tr><tr><td>_runtime</td><td>24</td></tr><tr><td>_timestamp</td><td>1646502996</td></tr><tr><td>_step</td><td>0</td></tr></table>"
      ],
      "text/plain": [
       "<IPython.core.display.HTML object>"
      ]
     },
     "metadata": {},
     "output_type": "display_data"
    },
    {
     "data": {
      "text/html": [
       "<h3>Run history:</h3><br/><style>\n",
       "    table.wandb td:nth-child(1) { padding: 0 10px; text-align: right }\n",
       "    </style><table class=\"wandb\">\n",
       "<tr><td>squared_error</td><td>▁</td></tr><tr><td>_runtime</td><td>▁</td></tr><tr><td>_timestamp</td><td>▁</td></tr><tr><td>_step</td><td>▁</td></tr></table><br/>"
      ],
      "text/plain": [
       "<IPython.core.display.HTML object>"
      ]
     },
     "metadata": {},
     "output_type": "display_data"
    },
    {
     "data": {
      "text/html": [
       "Synced 5 W&B file(s), 0 media file(s), 0 artifact file(s) and 0 other file(s)"
      ],
      "text/plain": [
       "<IPython.core.display.HTML object>"
      ]
     },
     "metadata": {},
     "output_type": "display_data"
    },
    {
     "data": {
      "text/html": [
       "\n",
       "                    <br/>Synced <strong style=\"color:#cdcd00\">smooth-sweep-81</strong>: <a href=\"https://wandb.ai/lubomirkurcak/matrix-factorization/runs/qqjmgok0\" target=\"_blank\">https://wandb.ai/lubomirkurcak/matrix-factorization/runs/qqjmgok0</a><br/>\n",
       "                "
      ],
      "text/plain": [
       "<IPython.core.display.HTML object>"
      ]
     },
     "metadata": {},
     "output_type": "display_data"
    },
    {
     "name": "stderr",
     "output_type": "stream",
     "text": [
      "wandb: Agent Starting Run: 7utwv4mk with config:\n",
      "wandb: \tdropout_keep_p: 1\n",
      "wandb: \tepochs: 50000\n",
      "wandb: \tfeatures: 15\n",
      "wandb: \tfp_emax: 100\n",
      "wandb: \tfp_explim: CPFLOAT_EXPRANGE_TARG\n",
      "wandb: \tfp_flip: CPFLOAT_NO_SOFTERR\n",
      "wandb: \tfp_p: 0.3306562694810292\n",
      "wandb: \tfp_precision: 20\n",
      "wandb: \tfp_round: CPFLOAT_NO_RND\n",
      "wandb: \tfp_subnormal: CPFLOAT_SUBN_USE\n",
      "wandb: \tlearning_rate: 0.001\n",
      "wandb: \tloss: mean_squared_error\n",
      "wandb: \tmomentum_coefficient: 0\n",
      "wandb: \tnon_negative: True\n",
      "wandb: \tweight_decay: 0.0001\n",
      "wandb: wandb version 0.12.11 is available!  To upgrade, please run:\n",
      "wandb:  $ pip install wandb --upgrade\n"
     ]
    },
    {
     "data": {
      "text/html": [
       "\n",
       "                Tracking run with wandb version 0.10.21<br/>\n",
       "                Syncing run <strong style=\"color:#cdcd00\">major-sweep-82</strong> to <a href=\"https://wandb.ai\" target=\"_blank\">Weights & Biases</a> <a href=\"https://docs.wandb.com/integrations/jupyter.html\" target=\"_blank\">(Documentation)</a>.<br/>\n",
       "                Project page: <a href=\"https://wandb.ai/lubomirkurcak/matrix-factorization\" target=\"_blank\">https://wandb.ai/lubomirkurcak/matrix-factorization</a><br/>\n",
       "                Sweep page: <a href=\"https://wandb.ai/lubomirkurcak/matrix-factorization/sweeps/2q624iuc\" target=\"_blank\">https://wandb.ai/lubomirkurcak/matrix-factorization/sweeps/2q624iuc</a><br/>\n",
       "Run page: <a href=\"https://wandb.ai/lubomirkurcak/matrix-factorization/runs/7utwv4mk\" target=\"_blank\">https://wandb.ai/lubomirkurcak/matrix-factorization/runs/7utwv4mk</a><br/>\n",
       "                Run data is saved locally in <code>W:\\rpnn\\python\\wandb\\run-20220305_185643-7utwv4mk</code><br/><br/>\n",
       "            "
      ],
      "text/plain": [
       "<IPython.core.display.HTML object>"
      ]
     },
     "metadata": {},
     "output_type": "display_data"
    },
    {
     "name": "stdout",
     "output_type": "stream",
     "text": [
      "cpfloat_validate_optstruct returned -4\n"
     ]
    },
    {
     "data": {
      "text/html": [
       "<br/>Waiting for W&B process to finish, PID 24060<br/>Program ended successfully."
      ],
      "text/plain": [
       "<IPython.core.display.HTML object>"
      ]
     },
     "metadata": {},
     "output_type": "display_data"
    },
    {
     "data": {
      "application/vnd.jupyter.widget-view+json": {
       "model_id": "",
       "version_major": 2,
       "version_minor": 0
      },
      "text/plain": [
       "VBox(children=(Label(value=' 0.00MB of 0.00MB uploaded (0.00MB deduped)\\r'), FloatProgress(value=1.0, max=1.0)…"
      ]
     },
     "metadata": {},
     "output_type": "display_data"
    },
    {
     "data": {
      "text/html": [
       "Find user logs for this run at: <code>W:\\rpnn\\python\\wandb\\run-20220305_185643-7utwv4mk\\logs\\debug.log</code>"
      ],
      "text/plain": [
       "<IPython.core.display.HTML object>"
      ]
     },
     "metadata": {},
     "output_type": "display_data"
    },
    {
     "data": {
      "text/html": [
       "Find internal logs for this run at: <code>W:\\rpnn\\python\\wandb\\run-20220305_185643-7utwv4mk\\logs\\debug-internal.log</code>"
      ],
      "text/plain": [
       "<IPython.core.display.HTML object>"
      ]
     },
     "metadata": {},
     "output_type": "display_data"
    },
    {
     "data": {
      "text/html": [
       "<h3>Run summary:</h3><br/><style>\n",
       "    table.wandb td:nth-child(1) { padding: 0 10px; text-align: right }\n",
       "    </style><table class=\"wandb\">\n",
       "<tr><td>squared_error</td><td>177.06123</td></tr><tr><td>_runtime</td><td>22</td></tr><tr><td>_timestamp</td><td>1646503025</td></tr><tr><td>_step</td><td>0</td></tr></table>"
      ],
      "text/plain": [
       "<IPython.core.display.HTML object>"
      ]
     },
     "metadata": {},
     "output_type": "display_data"
    },
    {
     "data": {
      "text/html": [
       "<h3>Run history:</h3><br/><style>\n",
       "    table.wandb td:nth-child(1) { padding: 0 10px; text-align: right }\n",
       "    </style><table class=\"wandb\">\n",
       "<tr><td>squared_error</td><td>▁</td></tr><tr><td>_runtime</td><td>▁</td></tr><tr><td>_timestamp</td><td>▁</td></tr><tr><td>_step</td><td>▁</td></tr></table><br/>"
      ],
      "text/plain": [
       "<IPython.core.display.HTML object>"
      ]
     },
     "metadata": {},
     "output_type": "display_data"
    },
    {
     "data": {
      "text/html": [
       "Synced 5 W&B file(s), 0 media file(s), 0 artifact file(s) and 0 other file(s)"
      ],
      "text/plain": [
       "<IPython.core.display.HTML object>"
      ]
     },
     "metadata": {},
     "output_type": "display_data"
    },
    {
     "data": {
      "text/html": [
       "\n",
       "                    <br/>Synced <strong style=\"color:#cdcd00\">major-sweep-82</strong>: <a href=\"https://wandb.ai/lubomirkurcak/matrix-factorization/runs/7utwv4mk\" target=\"_blank\">https://wandb.ai/lubomirkurcak/matrix-factorization/runs/7utwv4mk</a><br/>\n",
       "                "
      ],
      "text/plain": [
       "<IPython.core.display.HTML object>"
      ]
     },
     "metadata": {},
     "output_type": "display_data"
    },
    {
     "name": "stderr",
     "output_type": "stream",
     "text": [
      "wandb: Agent Starting Run: 7pcuymmu with config:\n",
      "wandb: \tdropout_keep_p: 1\n",
      "wandb: \tepochs: 50000\n",
      "wandb: \tfeatures: 15\n",
      "wandb: \tfp_emax: 41\n",
      "wandb: \tfp_explim: CPFLOAT_EXPRANGE_STOR\n",
      "wandb: \tfp_flip: CPFLOAT_SOFTERR\n",
      "wandb: \tfp_p: 0.463903868651626\n",
      "wandb: \tfp_precision: 16\n",
      "wandb: \tfp_round: CPFLOAT_RND_NA\n",
      "wandb: \tfp_subnormal: CPFLOAT_SUBN_RND\n",
      "wandb: \tlearning_rate: 0.001\n",
      "wandb: \tloss: mean_squared_error\n",
      "wandb: \tmomentum_coefficient: 0\n",
      "wandb: \tnon_negative: True\n",
      "wandb: \tweight_decay: 0.0001\n",
      "wandb: wandb version 0.12.11 is available!  To upgrade, please run:\n",
      "wandb:  $ pip install wandb --upgrade\n"
     ]
    },
    {
     "data": {
      "text/html": [
       "\n",
       "                Tracking run with wandb version 0.10.21<br/>\n",
       "                Syncing run <strong style=\"color:#cdcd00\">vivid-sweep-83</strong> to <a href=\"https://wandb.ai\" target=\"_blank\">Weights & Biases</a> <a href=\"https://docs.wandb.com/integrations/jupyter.html\" target=\"_blank\">(Documentation)</a>.<br/>\n",
       "                Project page: <a href=\"https://wandb.ai/lubomirkurcak/matrix-factorization\" target=\"_blank\">https://wandb.ai/lubomirkurcak/matrix-factorization</a><br/>\n",
       "                Sweep page: <a href=\"https://wandb.ai/lubomirkurcak/matrix-factorization/sweeps/2q624iuc\" target=\"_blank\">https://wandb.ai/lubomirkurcak/matrix-factorization/sweeps/2q624iuc</a><br/>\n",
       "Run page: <a href=\"https://wandb.ai/lubomirkurcak/matrix-factorization/runs/7pcuymmu\" target=\"_blank\">https://wandb.ai/lubomirkurcak/matrix-factorization/runs/7pcuymmu</a><br/>\n",
       "                Run data is saved locally in <code>W:\\rpnn\\python\\wandb\\run-20220305_185709-7pcuymmu</code><br/><br/>\n",
       "            "
      ],
      "text/plain": [
       "<IPython.core.display.HTML object>"
      ]
     },
     "metadata": {},
     "output_type": "display_data"
    },
    {
     "name": "stdout",
     "output_type": "stream",
     "text": [
      "cpfloat_validate_optstruct returned 0\n"
     ]
    },
    {
     "data": {
      "text/html": [
       "<br/>Waiting for W&B process to finish, PID 1232<br/>Program ended successfully."
      ],
      "text/plain": [
       "<IPython.core.display.HTML object>"
      ]
     },
     "metadata": {},
     "output_type": "display_data"
    },
    {
     "data": {
      "application/vnd.jupyter.widget-view+json": {
       "model_id": "",
       "version_major": 2,
       "version_minor": 0
      },
      "text/plain": [
       "VBox(children=(Label(value=' 0.00MB of 0.00MB uploaded (0.00MB deduped)\\r'), FloatProgress(value=1.0, max=1.0)…"
      ]
     },
     "metadata": {},
     "output_type": "display_data"
    },
    {
     "data": {
      "text/html": [
       "Find user logs for this run at: <code>W:\\rpnn\\python\\wandb\\run-20220305_185709-7pcuymmu\\logs\\debug.log</code>"
      ],
      "text/plain": [
       "<IPython.core.display.HTML object>"
      ]
     },
     "metadata": {},
     "output_type": "display_data"
    },
    {
     "data": {
      "text/html": [
       "Find internal logs for this run at: <code>W:\\rpnn\\python\\wandb\\run-20220305_185709-7pcuymmu\\logs\\debug-internal.log</code>"
      ],
      "text/plain": [
       "<IPython.core.display.HTML object>"
      ]
     },
     "metadata": {},
     "output_type": "display_data"
    },
    {
     "data": {
      "text/html": [
       "<h3>Run summary:</h3><br/><style>\n",
       "    table.wandb td:nth-child(1) { padding: 0 10px; text-align: right }\n",
       "    </style><table class=\"wandb\">\n",
       "<tr><td>squared_error</td><td>174.77077</td></tr><tr><td>_runtime</td><td>30</td></tr><tr><td>_timestamp</td><td>1646503060</td></tr><tr><td>_step</td><td>0</td></tr></table>"
      ],
      "text/plain": [
       "<IPython.core.display.HTML object>"
      ]
     },
     "metadata": {},
     "output_type": "display_data"
    },
    {
     "data": {
      "text/html": [
       "<h3>Run history:</h3><br/><style>\n",
       "    table.wandb td:nth-child(1) { padding: 0 10px; text-align: right }\n",
       "    </style><table class=\"wandb\">\n",
       "<tr><td>squared_error</td><td>▁</td></tr><tr><td>_runtime</td><td>▁</td></tr><tr><td>_timestamp</td><td>▁</td></tr><tr><td>_step</td><td>▁</td></tr></table><br/>"
      ],
      "text/plain": [
       "<IPython.core.display.HTML object>"
      ]
     },
     "metadata": {},
     "output_type": "display_data"
    },
    {
     "data": {
      "text/html": [
       "Synced 5 W&B file(s), 0 media file(s), 0 artifact file(s) and 0 other file(s)"
      ],
      "text/plain": [
       "<IPython.core.display.HTML object>"
      ]
     },
     "metadata": {},
     "output_type": "display_data"
    },
    {
     "data": {
      "text/html": [
       "\n",
       "                    <br/>Synced <strong style=\"color:#cdcd00\">vivid-sweep-83</strong>: <a href=\"https://wandb.ai/lubomirkurcak/matrix-factorization/runs/7pcuymmu\" target=\"_blank\">https://wandb.ai/lubomirkurcak/matrix-factorization/runs/7pcuymmu</a><br/>\n",
       "                "
      ],
      "text/plain": [
       "<IPython.core.display.HTML object>"
      ]
     },
     "metadata": {},
     "output_type": "display_data"
    },
    {
     "name": "stderr",
     "output_type": "stream",
     "text": [
      "wandb: Agent Starting Run: 6omqo5yv with config:\n",
      "wandb: \tdropout_keep_p: 1\n",
      "wandb: \tepochs: 50000\n",
      "wandb: \tfeatures: 15\n",
      "wandb: \tfp_emax: 122\n",
      "wandb: \tfp_explim: CPFLOAT_EXPRANGE_STOR\n",
      "wandb: \tfp_flip: CPFLOAT_NO_SOFTERR\n",
      "wandb: \tfp_p: 0.26217299099121877\n",
      "wandb: \tfp_precision: 12\n",
      "wandb: \tfp_round: CPFLOAT_RND_TN\n",
      "wandb: \tfp_subnormal: CPFLOAT_SUBN_USE\n",
      "wandb: \tlearning_rate: 0.001\n",
      "wandb: \tloss: mean_squared_error\n",
      "wandb: \tmomentum_coefficient: 0\n",
      "wandb: \tnon_negative: True\n",
      "wandb: \tweight_decay: 0.0001\n",
      "wandb: wandb version 0.12.11 is available!  To upgrade, please run:\n",
      "wandb:  $ pip install wandb --upgrade\n"
     ]
    },
    {
     "data": {
      "text/html": [
       "\n",
       "                Tracking run with wandb version 0.10.21<br/>\n",
       "                Syncing run <strong style=\"color:#cdcd00\">trim-sweep-84</strong> to <a href=\"https://wandb.ai\" target=\"_blank\">Weights & Biases</a> <a href=\"https://docs.wandb.com/integrations/jupyter.html\" target=\"_blank\">(Documentation)</a>.<br/>\n",
       "                Project page: <a href=\"https://wandb.ai/lubomirkurcak/matrix-factorization\" target=\"_blank\">https://wandb.ai/lubomirkurcak/matrix-factorization</a><br/>\n",
       "                Sweep page: <a href=\"https://wandb.ai/lubomirkurcak/matrix-factorization/sweeps/2q624iuc\" target=\"_blank\">https://wandb.ai/lubomirkurcak/matrix-factorization/sweeps/2q624iuc</a><br/>\n",
       "Run page: <a href=\"https://wandb.ai/lubomirkurcak/matrix-factorization/runs/6omqo5yv\" target=\"_blank\">https://wandb.ai/lubomirkurcak/matrix-factorization/runs/6omqo5yv</a><br/>\n",
       "                Run data is saved locally in <code>W:\\rpnn\\python\\wandb\\run-20220305_185745-6omqo5yv</code><br/><br/>\n",
       "            "
      ],
      "text/plain": [
       "<IPython.core.display.HTML object>"
      ]
     },
     "metadata": {},
     "output_type": "display_data"
    },
    {
     "name": "stdout",
     "output_type": "stream",
     "text": [
      "cpfloat_validate_optstruct returned 0\n"
     ]
    },
    {
     "data": {
      "text/html": [
       "<br/>Waiting for W&B process to finish, PID 20944<br/>Program ended successfully."
      ],
      "text/plain": [
       "<IPython.core.display.HTML object>"
      ]
     },
     "metadata": {},
     "output_type": "display_data"
    },
    {
     "data": {
      "application/vnd.jupyter.widget-view+json": {
       "model_id": "",
       "version_major": 2,
       "version_minor": 0
      },
      "text/plain": [
       "VBox(children=(Label(value=' 0.00MB of 0.00MB uploaded (0.00MB deduped)\\r'), FloatProgress(value=1.0, max=1.0)…"
      ]
     },
     "metadata": {},
     "output_type": "display_data"
    },
    {
     "data": {
      "text/html": [
       "Find user logs for this run at: <code>W:\\rpnn\\python\\wandb\\run-20220305_185745-6omqo5yv\\logs\\debug.log</code>"
      ],
      "text/plain": [
       "<IPython.core.display.HTML object>"
      ]
     },
     "metadata": {},
     "output_type": "display_data"
    },
    {
     "data": {
      "text/html": [
       "Find internal logs for this run at: <code>W:\\rpnn\\python\\wandb\\run-20220305_185745-6omqo5yv\\logs\\debug-internal.log</code>"
      ],
      "text/plain": [
       "<IPython.core.display.HTML object>"
      ]
     },
     "metadata": {},
     "output_type": "display_data"
    },
    {
     "data": {
      "text/html": [
       "<h3>Run summary:</h3><br/><style>\n",
       "    table.wandb td:nth-child(1) { padding: 0 10px; text-align: right }\n",
       "    </style><table class=\"wandb\">\n",
       "<tr><td>squared_error</td><td>216.51321</td></tr><tr><td>_runtime</td><td>24</td></tr><tr><td>_timestamp</td><td>1646503089</td></tr><tr><td>_step</td><td>0</td></tr></table>"
      ],
      "text/plain": [
       "<IPython.core.display.HTML object>"
      ]
     },
     "metadata": {},
     "output_type": "display_data"
    },
    {
     "data": {
      "text/html": [
       "<h3>Run history:</h3><br/><style>\n",
       "    table.wandb td:nth-child(1) { padding: 0 10px; text-align: right }\n",
       "    </style><table class=\"wandb\">\n",
       "<tr><td>squared_error</td><td>▁</td></tr><tr><td>_runtime</td><td>▁</td></tr><tr><td>_timestamp</td><td>▁</td></tr><tr><td>_step</td><td>▁</td></tr></table><br/>"
      ],
      "text/plain": [
       "<IPython.core.display.HTML object>"
      ]
     },
     "metadata": {},
     "output_type": "display_data"
    },
    {
     "data": {
      "text/html": [
       "Synced 5 W&B file(s), 0 media file(s), 0 artifact file(s) and 0 other file(s)"
      ],
      "text/plain": [
       "<IPython.core.display.HTML object>"
      ]
     },
     "metadata": {},
     "output_type": "display_data"
    },
    {
     "data": {
      "text/html": [
       "\n",
       "                    <br/>Synced <strong style=\"color:#cdcd00\">trim-sweep-84</strong>: <a href=\"https://wandb.ai/lubomirkurcak/matrix-factorization/runs/6omqo5yv\" target=\"_blank\">https://wandb.ai/lubomirkurcak/matrix-factorization/runs/6omqo5yv</a><br/>\n",
       "                "
      ],
      "text/plain": [
       "<IPython.core.display.HTML object>"
      ]
     },
     "metadata": {},
     "output_type": "display_data"
    },
    {
     "name": "stderr",
     "output_type": "stream",
     "text": [
      "wandb: Agent Starting Run: 9mo35nxb with config:\n",
      "wandb: \tdropout_keep_p: 1\n",
      "wandb: \tepochs: 50000\n",
      "wandb: \tfeatures: 15\n",
      "wandb: \tfp_emax: 107\n",
      "wandb: \tfp_explim: CPFLOAT_EXPRANGE_TARG\n",
      "wandb: \tfp_flip: CPFLOAT_SOFTERR\n",
      "wandb: \tfp_p: 0.0998145632469834\n",
      "wandb: \tfp_precision: 17\n",
      "wandb: \tfp_round: CPFLOAT_RND_SP\n",
      "wandb: \tfp_subnormal: CPFLOAT_SUBN_USE\n",
      "wandb: \tlearning_rate: 0.001\n",
      "wandb: \tloss: mean_squared_error\n",
      "wandb: \tmomentum_coefficient: 0\n",
      "wandb: \tnon_negative: True\n",
      "wandb: \tweight_decay: 0.0001\n",
      "wandb: wandb version 0.12.11 is available!  To upgrade, please run:\n",
      "wandb:  $ pip install wandb --upgrade\n"
     ]
    },
    {
     "data": {
      "text/html": [
       "\n",
       "                Tracking run with wandb version 0.10.21<br/>\n",
       "                Syncing run <strong style=\"color:#cdcd00\">lilac-sweep-85</strong> to <a href=\"https://wandb.ai\" target=\"_blank\">Weights & Biases</a> <a href=\"https://docs.wandb.com/integrations/jupyter.html\" target=\"_blank\">(Documentation)</a>.<br/>\n",
       "                Project page: <a href=\"https://wandb.ai/lubomirkurcak/matrix-factorization\" target=\"_blank\">https://wandb.ai/lubomirkurcak/matrix-factorization</a><br/>\n",
       "                Sweep page: <a href=\"https://wandb.ai/lubomirkurcak/matrix-factorization/sweeps/2q624iuc\" target=\"_blank\">https://wandb.ai/lubomirkurcak/matrix-factorization/sweeps/2q624iuc</a><br/>\n",
       "Run page: <a href=\"https://wandb.ai/lubomirkurcak/matrix-factorization/runs/9mo35nxb\" target=\"_blank\">https://wandb.ai/lubomirkurcak/matrix-factorization/runs/9mo35nxb</a><br/>\n",
       "                Run data is saved locally in <code>W:\\rpnn\\python\\wandb\\run-20220305_185814-9mo35nxb</code><br/><br/>\n",
       "            "
      ],
      "text/plain": [
       "<IPython.core.display.HTML object>"
      ]
     },
     "metadata": {},
     "output_type": "display_data"
    },
    {
     "name": "stdout",
     "output_type": "stream",
     "text": [
      "cpfloat_validate_optstruct returned 0\n"
     ]
    },
    {
     "data": {
      "text/html": [
       "<br/>Waiting for W&B process to finish, PID 6588<br/>Program ended successfully."
      ],
      "text/plain": [
       "<IPython.core.display.HTML object>"
      ]
     },
     "metadata": {},
     "output_type": "display_data"
    },
    {
     "data": {
      "application/vnd.jupyter.widget-view+json": {
       "model_id": "",
       "version_major": 2,
       "version_minor": 0
      },
      "text/plain": [
       "VBox(children=(Label(value=' 0.00MB of 0.00MB uploaded (0.00MB deduped)\\r'), FloatProgress(value=1.0, max=1.0)…"
      ]
     },
     "metadata": {},
     "output_type": "display_data"
    },
    {
     "data": {
      "text/html": [
       "Find user logs for this run at: <code>W:\\rpnn\\python\\wandb\\run-20220305_185814-9mo35nxb\\logs\\debug.log</code>"
      ],
      "text/plain": [
       "<IPython.core.display.HTML object>"
      ]
     },
     "metadata": {},
     "output_type": "display_data"
    },
    {
     "data": {
      "text/html": [
       "Find internal logs for this run at: <code>W:\\rpnn\\python\\wandb\\run-20220305_185814-9mo35nxb\\logs\\debug-internal.log</code>"
      ],
      "text/plain": [
       "<IPython.core.display.HTML object>"
      ]
     },
     "metadata": {},
     "output_type": "display_data"
    },
    {
     "data": {
      "text/html": [
       "<h3>Run summary:</h3><br/><style>\n",
       "    table.wandb td:nth-child(1) { padding: 0 10px; text-align: right }\n",
       "    </style><table class=\"wandb\">\n",
       "<tr><td>squared_error</td><td>172.9288</td></tr><tr><td>_runtime</td><td>47</td></tr><tr><td>_timestamp</td><td>1646503141</td></tr><tr><td>_step</td><td>0</td></tr></table>"
      ],
      "text/plain": [
       "<IPython.core.display.HTML object>"
      ]
     },
     "metadata": {},
     "output_type": "display_data"
    },
    {
     "data": {
      "text/html": [
       "<h3>Run history:</h3><br/><style>\n",
       "    table.wandb td:nth-child(1) { padding: 0 10px; text-align: right }\n",
       "    </style><table class=\"wandb\">\n",
       "<tr><td>squared_error</td><td>▁</td></tr><tr><td>_runtime</td><td>▁</td></tr><tr><td>_timestamp</td><td>▁</td></tr><tr><td>_step</td><td>▁</td></tr></table><br/>"
      ],
      "text/plain": [
       "<IPython.core.display.HTML object>"
      ]
     },
     "metadata": {},
     "output_type": "display_data"
    },
    {
     "data": {
      "text/html": [
       "Synced 5 W&B file(s), 0 media file(s), 0 artifact file(s) and 0 other file(s)"
      ],
      "text/plain": [
       "<IPython.core.display.HTML object>"
      ]
     },
     "metadata": {},
     "output_type": "display_data"
    },
    {
     "data": {
      "text/html": [
       "\n",
       "                    <br/>Synced <strong style=\"color:#cdcd00\">lilac-sweep-85</strong>: <a href=\"https://wandb.ai/lubomirkurcak/matrix-factorization/runs/9mo35nxb\" target=\"_blank\">https://wandb.ai/lubomirkurcak/matrix-factorization/runs/9mo35nxb</a><br/>\n",
       "                "
      ],
      "text/plain": [
       "<IPython.core.display.HTML object>"
      ]
     },
     "metadata": {},
     "output_type": "display_data"
    },
    {
     "name": "stderr",
     "output_type": "stream",
     "text": [
      "wandb: Agent Starting Run: ny6xo8zo with config:\n",
      "wandb: \tdropout_keep_p: 1\n",
      "wandb: \tepochs: 50000\n",
      "wandb: \tfeatures: 15\n",
      "wandb: \tfp_emax: 99\n",
      "wandb: \tfp_explim: CPFLOAT_EXPRANGE_TARG\n",
      "wandb: \tfp_flip: CPFLOAT_SOFTERR\n",
      "wandb: \tfp_p: 0.36933709087226835\n",
      "wandb: \tfp_precision: 10\n",
      "wandb: \tfp_round: CPFLOAT_RND_NE\n",
      "wandb: \tfp_subnormal: CPFLOAT_SUBN_RND\n",
      "wandb: \tlearning_rate: 0.001\n",
      "wandb: \tloss: mean_squared_error\n",
      "wandb: \tmomentum_coefficient: 0\n",
      "wandb: \tnon_negative: True\n",
      "wandb: \tweight_decay: 0.0001\n",
      "wandb: wandb version 0.12.11 is available!  To upgrade, please run:\n",
      "wandb:  $ pip install wandb --upgrade\n"
     ]
    },
    {
     "data": {
      "text/html": [
       "\n",
       "                Tracking run with wandb version 0.10.21<br/>\n",
       "                Syncing run <strong style=\"color:#cdcd00\">easy-sweep-86</strong> to <a href=\"https://wandb.ai\" target=\"_blank\">Weights & Biases</a> <a href=\"https://docs.wandb.com/integrations/jupyter.html\" target=\"_blank\">(Documentation)</a>.<br/>\n",
       "                Project page: <a href=\"https://wandb.ai/lubomirkurcak/matrix-factorization\" target=\"_blank\">https://wandb.ai/lubomirkurcak/matrix-factorization</a><br/>\n",
       "                Sweep page: <a href=\"https://wandb.ai/lubomirkurcak/matrix-factorization/sweeps/2q624iuc\" target=\"_blank\">https://wandb.ai/lubomirkurcak/matrix-factorization/sweeps/2q624iuc</a><br/>\n",
       "Run page: <a href=\"https://wandb.ai/lubomirkurcak/matrix-factorization/runs/ny6xo8zo\" target=\"_blank\">https://wandb.ai/lubomirkurcak/matrix-factorization/runs/ny6xo8zo</a><br/>\n",
       "                Run data is saved locally in <code>W:\\rpnn\\python\\wandb\\run-20220305_185906-ny6xo8zo</code><br/><br/>\n",
       "            "
      ],
      "text/plain": [
       "<IPython.core.display.HTML object>"
      ]
     },
     "metadata": {},
     "output_type": "display_data"
    },
    {
     "name": "stdout",
     "output_type": "stream",
     "text": [
      "cpfloat_validate_optstruct returned 0\n"
     ]
    },
    {
     "data": {
      "text/html": [
       "<br/>Waiting for W&B process to finish, PID 16620<br/>Program ended successfully."
      ],
      "text/plain": [
       "<IPython.core.display.HTML object>"
      ]
     },
     "metadata": {},
     "output_type": "display_data"
    },
    {
     "data": {
      "application/vnd.jupyter.widget-view+json": {
       "model_id": "",
       "version_major": 2,
       "version_minor": 0
      },
      "text/plain": [
       "VBox(children=(Label(value=' 0.00MB of 0.00MB uploaded (0.00MB deduped)\\r'), FloatProgress(value=1.0, max=1.0)…"
      ]
     },
     "metadata": {},
     "output_type": "display_data"
    },
    {
     "data": {
      "text/html": [
       "Find user logs for this run at: <code>W:\\rpnn\\python\\wandb\\run-20220305_185906-ny6xo8zo\\logs\\debug.log</code>"
      ],
      "text/plain": [
       "<IPython.core.display.HTML object>"
      ]
     },
     "metadata": {},
     "output_type": "display_data"
    },
    {
     "data": {
      "text/html": [
       "Find internal logs for this run at: <code>W:\\rpnn\\python\\wandb\\run-20220305_185906-ny6xo8zo\\logs\\debug-internal.log</code>"
      ],
      "text/plain": [
       "<IPython.core.display.HTML object>"
      ]
     },
     "metadata": {},
     "output_type": "display_data"
    },
    {
     "data": {
      "text/html": [
       "<h3>Run summary:</h3><br/><style>\n",
       "    table.wandb td:nth-child(1) { padding: 0 10px; text-align: right }\n",
       "    </style><table class=\"wandb\">\n",
       "<tr><td>squared_error</td><td>290.60154</td></tr><tr><td>_runtime</td><td>34</td></tr><tr><td>_timestamp</td><td>1646503180</td></tr><tr><td>_step</td><td>0</td></tr></table>"
      ],
      "text/plain": [
       "<IPython.core.display.HTML object>"
      ]
     },
     "metadata": {},
     "output_type": "display_data"
    },
    {
     "data": {
      "text/html": [
       "<h3>Run history:</h3><br/><style>\n",
       "    table.wandb td:nth-child(1) { padding: 0 10px; text-align: right }\n",
       "    </style><table class=\"wandb\">\n",
       "<tr><td>squared_error</td><td>▁</td></tr><tr><td>_runtime</td><td>▁</td></tr><tr><td>_timestamp</td><td>▁</td></tr><tr><td>_step</td><td>▁</td></tr></table><br/>"
      ],
      "text/plain": [
       "<IPython.core.display.HTML object>"
      ]
     },
     "metadata": {},
     "output_type": "display_data"
    },
    {
     "data": {
      "text/html": [
       "Synced 5 W&B file(s), 0 media file(s), 0 artifact file(s) and 0 other file(s)"
      ],
      "text/plain": [
       "<IPython.core.display.HTML object>"
      ]
     },
     "metadata": {},
     "output_type": "display_data"
    },
    {
     "data": {
      "text/html": [
       "\n",
       "                    <br/>Synced <strong style=\"color:#cdcd00\">easy-sweep-86</strong>: <a href=\"https://wandb.ai/lubomirkurcak/matrix-factorization/runs/ny6xo8zo\" target=\"_blank\">https://wandb.ai/lubomirkurcak/matrix-factorization/runs/ny6xo8zo</a><br/>\n",
       "                "
      ],
      "text/plain": [
       "<IPython.core.display.HTML object>"
      ]
     },
     "metadata": {},
     "output_type": "display_data"
    },
    {
     "name": "stderr",
     "output_type": "stream",
     "text": [
      "wandb: Agent Starting Run: w5enca6f with config:\n",
      "wandb: \tdropout_keep_p: 1\n",
      "wandb: \tepochs: 50000\n",
      "wandb: \tfeatures: 15\n",
      "wandb: \tfp_emax: 44\n",
      "wandb: \tfp_explim: CPFLOAT_EXPRANGE_STOR\n",
      "wandb: \tfp_flip: CPFLOAT_SOFTERR\n",
      "wandb: \tfp_p: 0.3810989496825536\n",
      "wandb: \tfp_precision: 19\n",
      "wandb: \tfp_round: CPFLOAT_RND_SE\n",
      "wandb: \tfp_subnormal: CPFLOAT_SUBN_USE\n",
      "wandb: \tlearning_rate: 0.001\n",
      "wandb: \tloss: mean_squared_error\n",
      "wandb: \tmomentum_coefficient: 0\n",
      "wandb: \tnon_negative: True\n",
      "wandb: \tweight_decay: 0.0001\n",
      "wandb: wandb version 0.12.11 is available!  To upgrade, please run:\n",
      "wandb:  $ pip install wandb --upgrade\n"
     ]
    },
    {
     "data": {
      "text/html": [
       "\n",
       "                Tracking run with wandb version 0.10.21<br/>\n",
       "                Syncing run <strong style=\"color:#cdcd00\">firm-sweep-87</strong> to <a href=\"https://wandb.ai\" target=\"_blank\">Weights & Biases</a> <a href=\"https://docs.wandb.com/integrations/jupyter.html\" target=\"_blank\">(Documentation)</a>.<br/>\n",
       "                Project page: <a href=\"https://wandb.ai/lubomirkurcak/matrix-factorization\" target=\"_blank\">https://wandb.ai/lubomirkurcak/matrix-factorization</a><br/>\n",
       "                Sweep page: <a href=\"https://wandb.ai/lubomirkurcak/matrix-factorization/sweeps/2q624iuc\" target=\"_blank\">https://wandb.ai/lubomirkurcak/matrix-factorization/sweeps/2q624iuc</a><br/>\n",
       "Run page: <a href=\"https://wandb.ai/lubomirkurcak/matrix-factorization/runs/w5enca6f\" target=\"_blank\">https://wandb.ai/lubomirkurcak/matrix-factorization/runs/w5enca6f</a><br/>\n",
       "                Run data is saved locally in <code>W:\\rpnn\\python\\wandb\\run-20220305_185944-w5enca6f</code><br/><br/>\n",
       "            "
      ],
      "text/plain": [
       "<IPython.core.display.HTML object>"
      ]
     },
     "metadata": {},
     "output_type": "display_data"
    },
    {
     "name": "stdout",
     "output_type": "stream",
     "text": [
      "cpfloat_validate_optstruct returned 0\n"
     ]
    },
    {
     "data": {
      "text/html": [
       "<br/>Waiting for W&B process to finish, PID 15772<br/>Program ended successfully."
      ],
      "text/plain": [
       "<IPython.core.display.HTML object>"
      ]
     },
     "metadata": {},
     "output_type": "display_data"
    },
    {
     "data": {
      "application/vnd.jupyter.widget-view+json": {
       "model_id": "",
       "version_major": 2,
       "version_minor": 0
      },
      "text/plain": [
       "VBox(children=(Label(value=' 0.00MB of 0.00MB uploaded (0.00MB deduped)\\r'), FloatProgress(value=1.0, max=1.0)…"
      ]
     },
     "metadata": {},
     "output_type": "display_data"
    },
    {
     "data": {
      "text/html": [
       "Find user logs for this run at: <code>W:\\rpnn\\python\\wandb\\run-20220305_185944-w5enca6f\\logs\\debug.log</code>"
      ],
      "text/plain": [
       "<IPython.core.display.HTML object>"
      ]
     },
     "metadata": {},
     "output_type": "display_data"
    },
    {
     "data": {
      "text/html": [
       "Find internal logs for this run at: <code>W:\\rpnn\\python\\wandb\\run-20220305_185944-w5enca6f\\logs\\debug-internal.log</code>"
      ],
      "text/plain": [
       "<IPython.core.display.HTML object>"
      ]
     },
     "metadata": {},
     "output_type": "display_data"
    },
    {
     "data": {
      "text/html": [
       "<h3>Run summary:</h3><br/><style>\n",
       "    table.wandb td:nth-child(1) { padding: 0 10px; text-align: right }\n",
       "    </style><table class=\"wandb\">\n",
       "<tr><td>squared_error</td><td>174.59157</td></tr><tr><td>_runtime</td><td>39</td></tr><tr><td>_timestamp</td><td>1646503223</td></tr><tr><td>_step</td><td>0</td></tr></table>"
      ],
      "text/plain": [
       "<IPython.core.display.HTML object>"
      ]
     },
     "metadata": {},
     "output_type": "display_data"
    },
    {
     "data": {
      "text/html": [
       "<h3>Run history:</h3><br/><style>\n",
       "    table.wandb td:nth-child(1) { padding: 0 10px; text-align: right }\n",
       "    </style><table class=\"wandb\">\n",
       "<tr><td>squared_error</td><td>▁</td></tr><tr><td>_runtime</td><td>▁</td></tr><tr><td>_timestamp</td><td>▁</td></tr><tr><td>_step</td><td>▁</td></tr></table><br/>"
      ],
      "text/plain": [
       "<IPython.core.display.HTML object>"
      ]
     },
     "metadata": {},
     "output_type": "display_data"
    },
    {
     "data": {
      "text/html": [
       "Synced 5 W&B file(s), 0 media file(s), 0 artifact file(s) and 0 other file(s)"
      ],
      "text/plain": [
       "<IPython.core.display.HTML object>"
      ]
     },
     "metadata": {},
     "output_type": "display_data"
    },
    {
     "data": {
      "text/html": [
       "\n",
       "                    <br/>Synced <strong style=\"color:#cdcd00\">firm-sweep-87</strong>: <a href=\"https://wandb.ai/lubomirkurcak/matrix-factorization/runs/w5enca6f\" target=\"_blank\">https://wandb.ai/lubomirkurcak/matrix-factorization/runs/w5enca6f</a><br/>\n",
       "                "
      ],
      "text/plain": [
       "<IPython.core.display.HTML object>"
      ]
     },
     "metadata": {},
     "output_type": "display_data"
    },
    {
     "name": "stderr",
     "output_type": "stream",
     "text": [
      "wandb: Agent Starting Run: ds18q8g3 with config:\n",
      "wandb: \tdropout_keep_p: 1\n",
      "wandb: \tepochs: 50000\n",
      "wandb: \tfeatures: 15\n",
      "wandb: \tfp_emax: 28\n",
      "wandb: \tfp_explim: CPFLOAT_EXPRANGE_STOR\n",
      "wandb: \tfp_flip: CPFLOAT_SOFTERR\n",
      "wandb: \tfp_p: 0.006933665464228578\n",
      "wandb: \tfp_precision: 11\n",
      "wandb: \tfp_round: CPFLOAT_RND_TP\n",
      "wandb: \tfp_subnormal: CPFLOAT_SUBN_RND\n",
      "wandb: \tlearning_rate: 0.001\n",
      "wandb: \tloss: mean_squared_error\n",
      "wandb: \tmomentum_coefficient: 0\n",
      "wandb: \tnon_negative: True\n",
      "wandb: \tweight_decay: 0.0001\n",
      "wandb: wandb version 0.12.11 is available!  To upgrade, please run:\n",
      "wandb:  $ pip install wandb --upgrade\n"
     ]
    },
    {
     "data": {
      "text/html": [
       "\n",
       "                Tracking run with wandb version 0.10.21<br/>\n",
       "                Syncing run <strong style=\"color:#cdcd00\">rich-sweep-88</strong> to <a href=\"https://wandb.ai\" target=\"_blank\">Weights & Biases</a> <a href=\"https://docs.wandb.com/integrations/jupyter.html\" target=\"_blank\">(Documentation)</a>.<br/>\n",
       "                Project page: <a href=\"https://wandb.ai/lubomirkurcak/matrix-factorization\" target=\"_blank\">https://wandb.ai/lubomirkurcak/matrix-factorization</a><br/>\n",
       "                Sweep page: <a href=\"https://wandb.ai/lubomirkurcak/matrix-factorization/sweeps/2q624iuc\" target=\"_blank\">https://wandb.ai/lubomirkurcak/matrix-factorization/sweeps/2q624iuc</a><br/>\n",
       "Run page: <a href=\"https://wandb.ai/lubomirkurcak/matrix-factorization/runs/ds18q8g3\" target=\"_blank\">https://wandb.ai/lubomirkurcak/matrix-factorization/runs/ds18q8g3</a><br/>\n",
       "                Run data is saved locally in <code>W:\\rpnn\\python\\wandb\\run-20220305_190027-ds18q8g3</code><br/><br/>\n",
       "            "
      ],
      "text/plain": [
       "<IPython.core.display.HTML object>"
      ]
     },
     "metadata": {},
     "output_type": "display_data"
    },
    {
     "name": "stdout",
     "output_type": "stream",
     "text": [
      "cpfloat_validate_optstruct returned 0\n"
     ]
    },
    {
     "data": {
      "text/html": [
       "<br/>Waiting for W&B process to finish, PID 15496<br/>Program ended successfully."
      ],
      "text/plain": [
       "<IPython.core.display.HTML object>"
      ]
     },
     "metadata": {},
     "output_type": "display_data"
    },
    {
     "data": {
      "application/vnd.jupyter.widget-view+json": {
       "model_id": "",
       "version_major": 2,
       "version_minor": 0
      },
      "text/plain": [
       "VBox(children=(Label(value=' 0.00MB of 0.00MB uploaded (0.00MB deduped)\\r'), FloatProgress(value=1.0, max=1.0)…"
      ]
     },
     "metadata": {},
     "output_type": "display_data"
    },
    {
     "data": {
      "text/html": [
       "Find user logs for this run at: <code>W:\\rpnn\\python\\wandb\\run-20220305_190027-ds18q8g3\\logs\\debug.log</code>"
      ],
      "text/plain": [
       "<IPython.core.display.HTML object>"
      ]
     },
     "metadata": {},
     "output_type": "display_data"
    },
    {
     "data": {
      "text/html": [
       "Find internal logs for this run at: <code>W:\\rpnn\\python\\wandb\\run-20220305_190027-ds18q8g3\\logs\\debug-internal.log</code>"
      ],
      "text/plain": [
       "<IPython.core.display.HTML object>"
      ]
     },
     "metadata": {},
     "output_type": "display_data"
    },
    {
     "data": {
      "text/html": [
       "<h3>Run summary:</h3><br/><style>\n",
       "    table.wandb td:nth-child(1) { padding: 0 10px; text-align: right }\n",
       "    </style><table class=\"wandb\">\n",
       "<tr><td>squared_error</td><td>262.48216</td></tr><tr><td>_runtime</td><td>31</td></tr><tr><td>_timestamp</td><td>1646503258</td></tr><tr><td>_step</td><td>0</td></tr></table>"
      ],
      "text/plain": [
       "<IPython.core.display.HTML object>"
      ]
     },
     "metadata": {},
     "output_type": "display_data"
    },
    {
     "data": {
      "text/html": [
       "<h3>Run history:</h3><br/><style>\n",
       "    table.wandb td:nth-child(1) { padding: 0 10px; text-align: right }\n",
       "    </style><table class=\"wandb\">\n",
       "<tr><td>squared_error</td><td>▁</td></tr><tr><td>_runtime</td><td>▁</td></tr><tr><td>_timestamp</td><td>▁</td></tr><tr><td>_step</td><td>▁</td></tr></table><br/>"
      ],
      "text/plain": [
       "<IPython.core.display.HTML object>"
      ]
     },
     "metadata": {},
     "output_type": "display_data"
    },
    {
     "data": {
      "text/html": [
       "Synced 5 W&B file(s), 0 media file(s), 0 artifact file(s) and 0 other file(s)"
      ],
      "text/plain": [
       "<IPython.core.display.HTML object>"
      ]
     },
     "metadata": {},
     "output_type": "display_data"
    },
    {
     "data": {
      "text/html": [
       "\n",
       "                    <br/>Synced <strong style=\"color:#cdcd00\">rich-sweep-88</strong>: <a href=\"https://wandb.ai/lubomirkurcak/matrix-factorization/runs/ds18q8g3\" target=\"_blank\">https://wandb.ai/lubomirkurcak/matrix-factorization/runs/ds18q8g3</a><br/>\n",
       "                "
      ],
      "text/plain": [
       "<IPython.core.display.HTML object>"
      ]
     },
     "metadata": {},
     "output_type": "display_data"
    },
    {
     "name": "stderr",
     "output_type": "stream",
     "text": [
      "wandb: Agent Starting Run: wrlu2mot with config:\n",
      "wandb: \tdropout_keep_p: 1\n",
      "wandb: \tepochs: 50000\n",
      "wandb: \tfeatures: 15\n",
      "wandb: \tfp_emax: 54\n",
      "wandb: \tfp_explim: CPFLOAT_EXPRANGE_STOR\n",
      "wandb: \tfp_flip: CPFLOAT_SOFTERR\n",
      "wandb: \tfp_p: 0.34208920734231035\n",
      "wandb: \tfp_precision: 6\n",
      "wandb: \tfp_round: CPFLOAT_RND_SE\n",
      "wandb: \tfp_subnormal: CPFLOAT_SUBN_USE\n",
      "wandb: \tlearning_rate: 0.001\n",
      "wandb: \tloss: mean_squared_error\n",
      "wandb: \tmomentum_coefficient: 0\n",
      "wandb: \tnon_negative: True\n",
      "wandb: \tweight_decay: 0.0001\n",
      "wandb: wandb version 0.12.11 is available!  To upgrade, please run:\n",
      "wandb:  $ pip install wandb --upgrade\n"
     ]
    },
    {
     "data": {
      "text/html": [
       "\n",
       "                Tracking run with wandb version 0.10.21<br/>\n",
       "                Syncing run <strong style=\"color:#cdcd00\">efficient-sweep-89</strong> to <a href=\"https://wandb.ai\" target=\"_blank\">Weights & Biases</a> <a href=\"https://docs.wandb.com/integrations/jupyter.html\" target=\"_blank\">(Documentation)</a>.<br/>\n",
       "                Project page: <a href=\"https://wandb.ai/lubomirkurcak/matrix-factorization\" target=\"_blank\">https://wandb.ai/lubomirkurcak/matrix-factorization</a><br/>\n",
       "                Sweep page: <a href=\"https://wandb.ai/lubomirkurcak/matrix-factorization/sweeps/2q624iuc\" target=\"_blank\">https://wandb.ai/lubomirkurcak/matrix-factorization/sweeps/2q624iuc</a><br/>\n",
       "Run page: <a href=\"https://wandb.ai/lubomirkurcak/matrix-factorization/runs/wrlu2mot\" target=\"_blank\">https://wandb.ai/lubomirkurcak/matrix-factorization/runs/wrlu2mot</a><br/>\n",
       "                Run data is saved locally in <code>W:\\rpnn\\python\\wandb\\run-20220305_190102-wrlu2mot</code><br/><br/>\n",
       "            "
      ],
      "text/plain": [
       "<IPython.core.display.HTML object>"
      ]
     },
     "metadata": {},
     "output_type": "display_data"
    },
    {
     "name": "stdout",
     "output_type": "stream",
     "text": [
      "cpfloat_validate_optstruct returned 0\n"
     ]
    },
    {
     "data": {
      "text/html": [
       "<br/>Waiting for W&B process to finish, PID 26060<br/>Program ended successfully."
      ],
      "text/plain": [
       "<IPython.core.display.HTML object>"
      ]
     },
     "metadata": {},
     "output_type": "display_data"
    },
    {
     "data": {
      "application/vnd.jupyter.widget-view+json": {
       "model_id": "",
       "version_major": 2,
       "version_minor": 0
      },
      "text/plain": [
       "VBox(children=(Label(value=' 0.00MB of 0.00MB uploaded (0.00MB deduped)\\r'), FloatProgress(value=1.0, max=1.0)…"
      ]
     },
     "metadata": {},
     "output_type": "display_data"
    },
    {
     "data": {
      "text/html": [
       "Find user logs for this run at: <code>W:\\rpnn\\python\\wandb\\run-20220305_190102-wrlu2mot\\logs\\debug.log</code>"
      ],
      "text/plain": [
       "<IPython.core.display.HTML object>"
      ]
     },
     "metadata": {},
     "output_type": "display_data"
    },
    {
     "data": {
      "text/html": [
       "Find internal logs for this run at: <code>W:\\rpnn\\python\\wandb\\run-20220305_190102-wrlu2mot\\logs\\debug-internal.log</code>"
      ],
      "text/plain": [
       "<IPython.core.display.HTML object>"
      ]
     },
     "metadata": {},
     "output_type": "display_data"
    },
    {
     "data": {
      "text/html": [
       "<h3>Run summary:</h3><br/><style>\n",
       "    table.wandb td:nth-child(1) { padding: 0 10px; text-align: right }\n",
       "    </style><table class=\"wandb\">\n",
       "<tr><td>squared_error</td><td>2008.58887</td></tr><tr><td>_runtime</td><td>40</td></tr><tr><td>_timestamp</td><td>1646503302</td></tr><tr><td>_step</td><td>0</td></tr></table>"
      ],
      "text/plain": [
       "<IPython.core.display.HTML object>"
      ]
     },
     "metadata": {},
     "output_type": "display_data"
    },
    {
     "data": {
      "text/html": [
       "<h3>Run history:</h3><br/><style>\n",
       "    table.wandb td:nth-child(1) { padding: 0 10px; text-align: right }\n",
       "    </style><table class=\"wandb\">\n",
       "<tr><td>squared_error</td><td>▁</td></tr><tr><td>_runtime</td><td>▁</td></tr><tr><td>_timestamp</td><td>▁</td></tr><tr><td>_step</td><td>▁</td></tr></table><br/>"
      ],
      "text/plain": [
       "<IPython.core.display.HTML object>"
      ]
     },
     "metadata": {},
     "output_type": "display_data"
    },
    {
     "data": {
      "text/html": [
       "Synced 5 W&B file(s), 0 media file(s), 0 artifact file(s) and 0 other file(s)"
      ],
      "text/plain": [
       "<IPython.core.display.HTML object>"
      ]
     },
     "metadata": {},
     "output_type": "display_data"
    },
    {
     "data": {
      "text/html": [
       "\n",
       "                    <br/>Synced <strong style=\"color:#cdcd00\">efficient-sweep-89</strong>: <a href=\"https://wandb.ai/lubomirkurcak/matrix-factorization/runs/wrlu2mot\" target=\"_blank\">https://wandb.ai/lubomirkurcak/matrix-factorization/runs/wrlu2mot</a><br/>\n",
       "                "
      ],
      "text/plain": [
       "<IPython.core.display.HTML object>"
      ]
     },
     "metadata": {},
     "output_type": "display_data"
    },
    {
     "name": "stderr",
     "output_type": "stream",
     "text": [
      "wandb: Agent Starting Run: lcptooes with config:\n",
      "wandb: \tdropout_keep_p: 1\n",
      "wandb: \tepochs: 50000\n",
      "wandb: \tfeatures: 15\n",
      "wandb: \tfp_emax: 42\n",
      "wandb: \tfp_explim: CPFLOAT_EXPRANGE_TARG\n",
      "wandb: \tfp_flip: CPFLOAT_NO_SOFTERR\n",
      "wandb: \tfp_p: 0.4764873576788504\n",
      "wandb: \tfp_precision: 20\n",
      "wandb: \tfp_round: CPFLOAT_RND_SP\n",
      "wandb: \tfp_subnormal: CPFLOAT_SUBN_USE\n",
      "wandb: \tlearning_rate: 0.001\n",
      "wandb: \tloss: mean_squared_error\n",
      "wandb: \tmomentum_coefficient: 0\n",
      "wandb: \tnon_negative: True\n",
      "wandb: \tweight_decay: 0.0001\n",
      "wandb: wandb version 0.12.11 is available!  To upgrade, please run:\n",
      "wandb:  $ pip install wandb --upgrade\n"
     ]
    },
    {
     "data": {
      "text/html": [
       "\n",
       "                Tracking run with wandb version 0.10.21<br/>\n",
       "                Syncing run <strong style=\"color:#cdcd00\">charmed-sweep-90</strong> to <a href=\"https://wandb.ai\" target=\"_blank\">Weights & Biases</a> <a href=\"https://docs.wandb.com/integrations/jupyter.html\" target=\"_blank\">(Documentation)</a>.<br/>\n",
       "                Project page: <a href=\"https://wandb.ai/lubomirkurcak/matrix-factorization\" target=\"_blank\">https://wandb.ai/lubomirkurcak/matrix-factorization</a><br/>\n",
       "                Sweep page: <a href=\"https://wandb.ai/lubomirkurcak/matrix-factorization/sweeps/2q624iuc\" target=\"_blank\">https://wandb.ai/lubomirkurcak/matrix-factorization/sweeps/2q624iuc</a><br/>\n",
       "Run page: <a href=\"https://wandb.ai/lubomirkurcak/matrix-factorization/runs/lcptooes\" target=\"_blank\">https://wandb.ai/lubomirkurcak/matrix-factorization/runs/lcptooes</a><br/>\n",
       "                Run data is saved locally in <code>W:\\rpnn\\python\\wandb\\run-20220305_190146-lcptooes</code><br/><br/>\n",
       "            "
      ],
      "text/plain": [
       "<IPython.core.display.HTML object>"
      ]
     },
     "metadata": {},
     "output_type": "display_data"
    },
    {
     "name": "stdout",
     "output_type": "stream",
     "text": [
      "cpfloat_validate_optstruct returned 0\n"
     ]
    },
    {
     "data": {
      "text/html": [
       "<br/>Waiting for W&B process to finish, PID 16840<br/>Program ended successfully."
      ],
      "text/plain": [
       "<IPython.core.display.HTML object>"
      ]
     },
     "metadata": {},
     "output_type": "display_data"
    },
    {
     "data": {
      "application/vnd.jupyter.widget-view+json": {
       "model_id": "",
       "version_major": 2,
       "version_minor": 0
      },
      "text/plain": [
       "VBox(children=(Label(value=' 0.00MB of 0.00MB uploaded (0.00MB deduped)\\r'), FloatProgress(value=1.0, max=1.0)…"
      ]
     },
     "metadata": {},
     "output_type": "display_data"
    },
    {
     "data": {
      "text/html": [
       "Find user logs for this run at: <code>W:\\rpnn\\python\\wandb\\run-20220305_190146-lcptooes\\logs\\debug.log</code>"
      ],
      "text/plain": [
       "<IPython.core.display.HTML object>"
      ]
     },
     "metadata": {},
     "output_type": "display_data"
    },
    {
     "data": {
      "text/html": [
       "Find internal logs for this run at: <code>W:\\rpnn\\python\\wandb\\run-20220305_190146-lcptooes\\logs\\debug-internal.log</code>"
      ],
      "text/plain": [
       "<IPython.core.display.HTML object>"
      ]
     },
     "metadata": {},
     "output_type": "display_data"
    },
    {
     "data": {
      "text/html": [
       "<h3>Run summary:</h3><br/><style>\n",
       "    table.wandb td:nth-child(1) { padding: 0 10px; text-align: right }\n",
       "    </style><table class=\"wandb\">\n",
       "<tr><td>squared_error</td><td>178.58448</td></tr><tr><td>_runtime</td><td>42</td></tr><tr><td>_timestamp</td><td>1646503349</td></tr><tr><td>_step</td><td>0</td></tr></table>"
      ],
      "text/plain": [
       "<IPython.core.display.HTML object>"
      ]
     },
     "metadata": {},
     "output_type": "display_data"
    },
    {
     "data": {
      "text/html": [
       "<h3>Run history:</h3><br/><style>\n",
       "    table.wandb td:nth-child(1) { padding: 0 10px; text-align: right }\n",
       "    </style><table class=\"wandb\">\n",
       "<tr><td>squared_error</td><td>▁</td></tr><tr><td>_runtime</td><td>▁</td></tr><tr><td>_timestamp</td><td>▁</td></tr><tr><td>_step</td><td>▁</td></tr></table><br/>"
      ],
      "text/plain": [
       "<IPython.core.display.HTML object>"
      ]
     },
     "metadata": {},
     "output_type": "display_data"
    },
    {
     "data": {
      "text/html": [
       "Synced 5 W&B file(s), 0 media file(s), 0 artifact file(s) and 0 other file(s)"
      ],
      "text/plain": [
       "<IPython.core.display.HTML object>"
      ]
     },
     "metadata": {},
     "output_type": "display_data"
    },
    {
     "data": {
      "text/html": [
       "\n",
       "                    <br/>Synced <strong style=\"color:#cdcd00\">charmed-sweep-90</strong>: <a href=\"https://wandb.ai/lubomirkurcak/matrix-factorization/runs/lcptooes\" target=\"_blank\">https://wandb.ai/lubomirkurcak/matrix-factorization/runs/lcptooes</a><br/>\n",
       "                "
      ],
      "text/plain": [
       "<IPython.core.display.HTML object>"
      ]
     },
     "metadata": {},
     "output_type": "display_data"
    },
    {
     "name": "stderr",
     "output_type": "stream",
     "text": [
      "wandb: Agent Starting Run: 6tdkuiyu with config:\n",
      "wandb: \tdropout_keep_p: 1\n",
      "wandb: \tepochs: 50000\n",
      "wandb: \tfeatures: 15\n",
      "wandb: \tfp_emax: 124\n",
      "wandb: \tfp_explim: CPFLOAT_EXPRANGE_TARG\n",
      "wandb: \tfp_flip: CPFLOAT_SOFTERR\n",
      "wandb: \tfp_p: 0.43550464973195446\n",
      "wandb: \tfp_precision: 7\n",
      "wandb: \tfp_round: CPFLOAT_RND_SE\n",
      "wandb: \tfp_subnormal: CPFLOAT_SUBN_RND\n",
      "wandb: \tlearning_rate: 0.001\n",
      "wandb: \tloss: mean_squared_error\n",
      "wandb: \tmomentum_coefficient: 0\n",
      "wandb: \tnon_negative: True\n",
      "wandb: \tweight_decay: 0.0001\n",
      "wandb: wandb version 0.12.11 is available!  To upgrade, please run:\n",
      "wandb:  $ pip install wandb --upgrade\n"
     ]
    },
    {
     "data": {
      "text/html": [
       "\n",
       "                Tracking run with wandb version 0.10.21<br/>\n",
       "                Syncing run <strong style=\"color:#cdcd00\">electric-sweep-91</strong> to <a href=\"https://wandb.ai\" target=\"_blank\">Weights & Biases</a> <a href=\"https://docs.wandb.com/integrations/jupyter.html\" target=\"_blank\">(Documentation)</a>.<br/>\n",
       "                Project page: <a href=\"https://wandb.ai/lubomirkurcak/matrix-factorization\" target=\"_blank\">https://wandb.ai/lubomirkurcak/matrix-factorization</a><br/>\n",
       "                Sweep page: <a href=\"https://wandb.ai/lubomirkurcak/matrix-factorization/sweeps/2q624iuc\" target=\"_blank\">https://wandb.ai/lubomirkurcak/matrix-factorization/sweeps/2q624iuc</a><br/>\n",
       "Run page: <a href=\"https://wandb.ai/lubomirkurcak/matrix-factorization/runs/6tdkuiyu\" target=\"_blank\">https://wandb.ai/lubomirkurcak/matrix-factorization/runs/6tdkuiyu</a><br/>\n",
       "                Run data is saved locally in <code>W:\\rpnn\\python\\wandb\\run-20220305_190233-6tdkuiyu</code><br/><br/>\n",
       "            "
      ],
      "text/plain": [
       "<IPython.core.display.HTML object>"
      ]
     },
     "metadata": {},
     "output_type": "display_data"
    },
    {
     "name": "stdout",
     "output_type": "stream",
     "text": [
      "cpfloat_validate_optstruct returned 0\n"
     ]
    },
    {
     "data": {
      "text/html": [
       "<br/>Waiting for W&B process to finish, PID 14372<br/>Program ended successfully."
      ],
      "text/plain": [
       "<IPython.core.display.HTML object>"
      ]
     },
     "metadata": {},
     "output_type": "display_data"
    },
    {
     "data": {
      "application/vnd.jupyter.widget-view+json": {
       "model_id": "",
       "version_major": 2,
       "version_minor": 0
      },
      "text/plain": [
       "VBox(children=(Label(value=' 0.00MB of 0.00MB uploaded (0.00MB deduped)\\r'), FloatProgress(value=1.0, max=1.0)…"
      ]
     },
     "metadata": {},
     "output_type": "display_data"
    },
    {
     "data": {
      "text/html": [
       "Find user logs for this run at: <code>W:\\rpnn\\python\\wandb\\run-20220305_190233-6tdkuiyu\\logs\\debug.log</code>"
      ],
      "text/plain": [
       "<IPython.core.display.HTML object>"
      ]
     },
     "metadata": {},
     "output_type": "display_data"
    },
    {
     "data": {
      "text/html": [
       "Find internal logs for this run at: <code>W:\\rpnn\\python\\wandb\\run-20220305_190233-6tdkuiyu\\logs\\debug-internal.log</code>"
      ],
      "text/plain": [
       "<IPython.core.display.HTML object>"
      ]
     },
     "metadata": {},
     "output_type": "display_data"
    },
    {
     "data": {
      "text/html": [
       "<h3>Run summary:</h3><br/><style>\n",
       "    table.wandb td:nth-child(1) { padding: 0 10px; text-align: right }\n",
       "    </style><table class=\"wandb\">\n",
       "<tr><td>squared_error</td><td>1722.04663</td></tr><tr><td>_runtime</td><td>38</td></tr><tr><td>_timestamp</td><td>1646503391</td></tr><tr><td>_step</td><td>0</td></tr></table>"
      ],
      "text/plain": [
       "<IPython.core.display.HTML object>"
      ]
     },
     "metadata": {},
     "output_type": "display_data"
    },
    {
     "data": {
      "text/html": [
       "<h3>Run history:</h3><br/><style>\n",
       "    table.wandb td:nth-child(1) { padding: 0 10px; text-align: right }\n",
       "    </style><table class=\"wandb\">\n",
       "<tr><td>squared_error</td><td>▁</td></tr><tr><td>_runtime</td><td>▁</td></tr><tr><td>_timestamp</td><td>▁</td></tr><tr><td>_step</td><td>▁</td></tr></table><br/>"
      ],
      "text/plain": [
       "<IPython.core.display.HTML object>"
      ]
     },
     "metadata": {},
     "output_type": "display_data"
    },
    {
     "data": {
      "text/html": [
       "Synced 5 W&B file(s), 0 media file(s), 0 artifact file(s) and 0 other file(s)"
      ],
      "text/plain": [
       "<IPython.core.display.HTML object>"
      ]
     },
     "metadata": {},
     "output_type": "display_data"
    },
    {
     "data": {
      "text/html": [
       "\n",
       "                    <br/>Synced <strong style=\"color:#cdcd00\">electric-sweep-91</strong>: <a href=\"https://wandb.ai/lubomirkurcak/matrix-factorization/runs/6tdkuiyu\" target=\"_blank\">https://wandb.ai/lubomirkurcak/matrix-factorization/runs/6tdkuiyu</a><br/>\n",
       "                "
      ],
      "text/plain": [
       "<IPython.core.display.HTML object>"
      ]
     },
     "metadata": {},
     "output_type": "display_data"
    },
    {
     "name": "stderr",
     "output_type": "stream",
     "text": [
      "wandb: Agent Starting Run: 7ngwy77v with config:\n",
      "wandb: \tdropout_keep_p: 1\n",
      "wandb: \tepochs: 50000\n",
      "wandb: \tfeatures: 15\n",
      "wandb: \tfp_emax: 85\n",
      "wandb: \tfp_explim: CPFLOAT_EXPRANGE_STOR\n",
      "wandb: \tfp_flip: CPFLOAT_NO_SOFTERR\n",
      "wandb: \tfp_p: 0.0009845567833935975\n",
      "wandb: \tfp_precision: 5\n",
      "wandb: \tfp_round: CPFLOAT_RND_NA\n",
      "wandb: \tfp_subnormal: CPFLOAT_SUBN_RND\n",
      "wandb: \tlearning_rate: 0.001\n",
      "wandb: \tloss: mean_squared_error\n",
      "wandb: \tmomentum_coefficient: 0\n",
      "wandb: \tnon_negative: True\n",
      "wandb: \tweight_decay: 0.0001\n",
      "wandb: wandb version 0.12.11 is available!  To upgrade, please run:\n",
      "wandb:  $ pip install wandb --upgrade\n"
     ]
    },
    {
     "data": {
      "text/html": [
       "\n",
       "                Tracking run with wandb version 0.10.21<br/>\n",
       "                Syncing run <strong style=\"color:#cdcd00\">clear-sweep-92</strong> to <a href=\"https://wandb.ai\" target=\"_blank\">Weights & Biases</a> <a href=\"https://docs.wandb.com/integrations/jupyter.html\" target=\"_blank\">(Documentation)</a>.<br/>\n",
       "                Project page: <a href=\"https://wandb.ai/lubomirkurcak/matrix-factorization\" target=\"_blank\">https://wandb.ai/lubomirkurcak/matrix-factorization</a><br/>\n",
       "                Sweep page: <a href=\"https://wandb.ai/lubomirkurcak/matrix-factorization/sweeps/2q624iuc\" target=\"_blank\">https://wandb.ai/lubomirkurcak/matrix-factorization/sweeps/2q624iuc</a><br/>\n",
       "Run page: <a href=\"https://wandb.ai/lubomirkurcak/matrix-factorization/runs/7ngwy77v\" target=\"_blank\">https://wandb.ai/lubomirkurcak/matrix-factorization/runs/7ngwy77v</a><br/>\n",
       "                Run data is saved locally in <code>W:\\rpnn\\python\\wandb\\run-20220305_190317-7ngwy77v</code><br/><br/>\n",
       "            "
      ],
      "text/plain": [
       "<IPython.core.display.HTML object>"
      ]
     },
     "metadata": {},
     "output_type": "display_data"
    },
    {
     "name": "stdout",
     "output_type": "stream",
     "text": [
      "cpfloat_validate_optstruct returned 0\n"
     ]
    },
    {
     "data": {
      "text/html": [
       "<br/>Waiting for W&B process to finish, PID 10284<br/>Program ended successfully."
      ],
      "text/plain": [
       "<IPython.core.display.HTML object>"
      ]
     },
     "metadata": {},
     "output_type": "display_data"
    },
    {
     "data": {
      "application/vnd.jupyter.widget-view+json": {
       "model_id": "",
       "version_major": 2,
       "version_minor": 0
      },
      "text/plain": [
       "VBox(children=(Label(value=' 0.00MB of 0.00MB uploaded (0.00MB deduped)\\r'), FloatProgress(value=1.0, max=1.0)…"
      ]
     },
     "metadata": {},
     "output_type": "display_data"
    },
    {
     "data": {
      "text/html": [
       "Find user logs for this run at: <code>W:\\rpnn\\python\\wandb\\run-20220305_190317-7ngwy77v\\logs\\debug.log</code>"
      ],
      "text/plain": [
       "<IPython.core.display.HTML object>"
      ]
     },
     "metadata": {},
     "output_type": "display_data"
    },
    {
     "data": {
      "text/html": [
       "Find internal logs for this run at: <code>W:\\rpnn\\python\\wandb\\run-20220305_190317-7ngwy77v\\logs\\debug-internal.log</code>"
      ],
      "text/plain": [
       "<IPython.core.display.HTML object>"
      ]
     },
     "metadata": {},
     "output_type": "display_data"
    },
    {
     "data": {
      "text/html": [
       "<h3>Run summary:</h3><br/><style>\n",
       "    table.wandb td:nth-child(1) { padding: 0 10px; text-align: right }\n",
       "    </style><table class=\"wandb\">\n",
       "<tr><td>squared_error</td><td>1994.58203</td></tr><tr><td>_runtime</td><td>22</td></tr><tr><td>_timestamp</td><td>1646503419</td></tr><tr><td>_step</td><td>0</td></tr></table>"
      ],
      "text/plain": [
       "<IPython.core.display.HTML object>"
      ]
     },
     "metadata": {},
     "output_type": "display_data"
    },
    {
     "data": {
      "text/html": [
       "<h3>Run history:</h3><br/><style>\n",
       "    table.wandb td:nth-child(1) { padding: 0 10px; text-align: right }\n",
       "    </style><table class=\"wandb\">\n",
       "<tr><td>squared_error</td><td>▁</td></tr><tr><td>_runtime</td><td>▁</td></tr><tr><td>_timestamp</td><td>▁</td></tr><tr><td>_step</td><td>▁</td></tr></table><br/>"
      ],
      "text/plain": [
       "<IPython.core.display.HTML object>"
      ]
     },
     "metadata": {},
     "output_type": "display_data"
    },
    {
     "data": {
      "text/html": [
       "Synced 5 W&B file(s), 0 media file(s), 0 artifact file(s) and 0 other file(s)"
      ],
      "text/plain": [
       "<IPython.core.display.HTML object>"
      ]
     },
     "metadata": {},
     "output_type": "display_data"
    },
    {
     "data": {
      "text/html": [
       "\n",
       "                    <br/>Synced <strong style=\"color:#cdcd00\">clear-sweep-92</strong>: <a href=\"https://wandb.ai/lubomirkurcak/matrix-factorization/runs/7ngwy77v\" target=\"_blank\">https://wandb.ai/lubomirkurcak/matrix-factorization/runs/7ngwy77v</a><br/>\n",
       "                "
      ],
      "text/plain": [
       "<IPython.core.display.HTML object>"
      ]
     },
     "metadata": {},
     "output_type": "display_data"
    },
    {
     "name": "stderr",
     "output_type": "stream",
     "text": [
      "wandb: Agent Starting Run: 5x959nye with config:\n",
      "wandb: \tdropout_keep_p: 1\n",
      "wandb: \tepochs: 50000\n",
      "wandb: \tfeatures: 15\n",
      "wandb: \tfp_emax: 114\n",
      "wandb: \tfp_explim: CPFLOAT_EXPRANGE_STOR\n",
      "wandb: \tfp_flip: CPFLOAT_SOFTERR\n",
      "wandb: \tfp_p: 0.33820419643147365\n",
      "wandb: \tfp_precision: 11\n",
      "wandb: \tfp_round: CPFLOAT_RND_OD\n",
      "wandb: \tfp_subnormal: CPFLOAT_SUBN_RND\n",
      "wandb: \tlearning_rate: 0.001\n",
      "wandb: \tloss: mean_squared_error\n",
      "wandb: \tmomentum_coefficient: 0\n",
      "wandb: \tnon_negative: True\n",
      "wandb: \tweight_decay: 0.0001\n",
      "wandb: wandb version 0.12.11 is available!  To upgrade, please run:\n",
      "wandb:  $ pip install wandb --upgrade\n"
     ]
    },
    {
     "data": {
      "text/html": [
       "\n",
       "                Tracking run with wandb version 0.10.21<br/>\n",
       "                Syncing run <strong style=\"color:#cdcd00\">lyric-sweep-93</strong> to <a href=\"https://wandb.ai\" target=\"_blank\">Weights & Biases</a> <a href=\"https://docs.wandb.com/integrations/jupyter.html\" target=\"_blank\">(Documentation)</a>.<br/>\n",
       "                Project page: <a href=\"https://wandb.ai/lubomirkurcak/matrix-factorization\" target=\"_blank\">https://wandb.ai/lubomirkurcak/matrix-factorization</a><br/>\n",
       "                Sweep page: <a href=\"https://wandb.ai/lubomirkurcak/matrix-factorization/sweeps/2q624iuc\" target=\"_blank\">https://wandb.ai/lubomirkurcak/matrix-factorization/sweeps/2q624iuc</a><br/>\n",
       "Run page: <a href=\"https://wandb.ai/lubomirkurcak/matrix-factorization/runs/5x959nye\" target=\"_blank\">https://wandb.ai/lubomirkurcak/matrix-factorization/runs/5x959nye</a><br/>\n",
       "                Run data is saved locally in <code>W:\\rpnn\\python\\wandb\\run-20220305_190344-5x959nye</code><br/><br/>\n",
       "            "
      ],
      "text/plain": [
       "<IPython.core.display.HTML object>"
      ]
     },
     "metadata": {},
     "output_type": "display_data"
    },
    {
     "name": "stdout",
     "output_type": "stream",
     "text": [
      "cpfloat_validate_optstruct returned 0\n"
     ]
    },
    {
     "data": {
      "text/html": [
       "<br/>Waiting for W&B process to finish, PID 24196<br/>Program ended successfully."
      ],
      "text/plain": [
       "<IPython.core.display.HTML object>"
      ]
     },
     "metadata": {},
     "output_type": "display_data"
    },
    {
     "data": {
      "application/vnd.jupyter.widget-view+json": {
       "model_id": "",
       "version_major": 2,
       "version_minor": 0
      },
      "text/plain": [
       "VBox(children=(Label(value=' 0.00MB of 0.00MB uploaded (0.00MB deduped)\\r'), FloatProgress(value=1.0, max=1.0)…"
      ]
     },
     "metadata": {},
     "output_type": "display_data"
    },
    {
     "data": {
      "text/html": [
       "Find user logs for this run at: <code>W:\\rpnn\\python\\wandb\\run-20220305_190344-5x959nye\\logs\\debug.log</code>"
      ],
      "text/plain": [
       "<IPython.core.display.HTML object>"
      ]
     },
     "metadata": {},
     "output_type": "display_data"
    },
    {
     "data": {
      "text/html": [
       "Find internal logs for this run at: <code>W:\\rpnn\\python\\wandb\\run-20220305_190344-5x959nye\\logs\\debug-internal.log</code>"
      ],
      "text/plain": [
       "<IPython.core.display.HTML object>"
      ]
     },
     "metadata": {},
     "output_type": "display_data"
    },
    {
     "data": {
      "text/html": [
       "<h3>Run summary:</h3><br/><style>\n",
       "    table.wandb td:nth-child(1) { padding: 0 10px; text-align: right }\n",
       "    </style><table class=\"wandb\">\n",
       "<tr><td>squared_error</td><td>286.16472</td></tr><tr><td>_runtime</td><td>34</td></tr><tr><td>_timestamp</td><td>1646503458</td></tr><tr><td>_step</td><td>0</td></tr></table>"
      ],
      "text/plain": [
       "<IPython.core.display.HTML object>"
      ]
     },
     "metadata": {},
     "output_type": "display_data"
    },
    {
     "data": {
      "text/html": [
       "<h3>Run history:</h3><br/><style>\n",
       "    table.wandb td:nth-child(1) { padding: 0 10px; text-align: right }\n",
       "    </style><table class=\"wandb\">\n",
       "<tr><td>squared_error</td><td>▁</td></tr><tr><td>_runtime</td><td>▁</td></tr><tr><td>_timestamp</td><td>▁</td></tr><tr><td>_step</td><td>▁</td></tr></table><br/>"
      ],
      "text/plain": [
       "<IPython.core.display.HTML object>"
      ]
     },
     "metadata": {},
     "output_type": "display_data"
    },
    {
     "data": {
      "text/html": [
       "Synced 5 W&B file(s), 0 media file(s), 0 artifact file(s) and 0 other file(s)"
      ],
      "text/plain": [
       "<IPython.core.display.HTML object>"
      ]
     },
     "metadata": {},
     "output_type": "display_data"
    },
    {
     "data": {
      "text/html": [
       "\n",
       "                    <br/>Synced <strong style=\"color:#cdcd00\">lyric-sweep-93</strong>: <a href=\"https://wandb.ai/lubomirkurcak/matrix-factorization/runs/5x959nye\" target=\"_blank\">https://wandb.ai/lubomirkurcak/matrix-factorization/runs/5x959nye</a><br/>\n",
       "                "
      ],
      "text/plain": [
       "<IPython.core.display.HTML object>"
      ]
     },
     "metadata": {},
     "output_type": "display_data"
    },
    {
     "name": "stderr",
     "output_type": "stream",
     "text": [
      "wandb: Agent Starting Run: e5a79x1t with config:\n",
      "wandb: \tdropout_keep_p: 1\n",
      "wandb: \tepochs: 50000\n",
      "wandb: \tfeatures: 15\n",
      "wandb: \tfp_emax: 102\n",
      "wandb: \tfp_explim: CPFLOAT_EXPRANGE_TARG\n",
      "wandb: \tfp_flip: CPFLOAT_SOFTERR\n",
      "wandb: \tfp_p: 0.3597673094448023\n",
      "wandb: \tfp_precision: 21\n",
      "wandb: \tfp_round: CPFLOAT_RND_SP\n",
      "wandb: \tfp_subnormal: CPFLOAT_SUBN_RND\n",
      "wandb: \tlearning_rate: 0.001\n",
      "wandb: \tloss: mean_squared_error\n",
      "wandb: \tmomentum_coefficient: 0\n",
      "wandb: \tnon_negative: True\n",
      "wandb: \tweight_decay: 0.0001\n",
      "wandb: wandb version 0.12.11 is available!  To upgrade, please run:\n",
      "wandb:  $ pip install wandb --upgrade\n"
     ]
    },
    {
     "data": {
      "text/html": [
       "\n",
       "                Tracking run with wandb version 0.10.21<br/>\n",
       "                Syncing run <strong style=\"color:#cdcd00\">fanciful-sweep-94</strong> to <a href=\"https://wandb.ai\" target=\"_blank\">Weights & Biases</a> <a href=\"https://docs.wandb.com/integrations/jupyter.html\" target=\"_blank\">(Documentation)</a>.<br/>\n",
       "                Project page: <a href=\"https://wandb.ai/lubomirkurcak/matrix-factorization\" target=\"_blank\">https://wandb.ai/lubomirkurcak/matrix-factorization</a><br/>\n",
       "                Sweep page: <a href=\"https://wandb.ai/lubomirkurcak/matrix-factorization/sweeps/2q624iuc\" target=\"_blank\">https://wandb.ai/lubomirkurcak/matrix-factorization/sweeps/2q624iuc</a><br/>\n",
       "Run page: <a href=\"https://wandb.ai/lubomirkurcak/matrix-factorization/runs/e5a79x1t\" target=\"_blank\">https://wandb.ai/lubomirkurcak/matrix-factorization/runs/e5a79x1t</a><br/>\n",
       "                Run data is saved locally in <code>W:\\rpnn\\python\\wandb\\run-20220305_190422-e5a79x1t</code><br/><br/>\n",
       "            "
      ],
      "text/plain": [
       "<IPython.core.display.HTML object>"
      ]
     },
     "metadata": {},
     "output_type": "display_data"
    },
    {
     "name": "stdout",
     "output_type": "stream",
     "text": [
      "cpfloat_validate_optstruct returned 0\n"
     ]
    },
    {
     "data": {
      "text/html": [
       "<br/>Waiting for W&B process to finish, PID 14776<br/>Program ended successfully."
      ],
      "text/plain": [
       "<IPython.core.display.HTML object>"
      ]
     },
     "metadata": {},
     "output_type": "display_data"
    },
    {
     "data": {
      "application/vnd.jupyter.widget-view+json": {
       "model_id": "",
       "version_major": 2,
       "version_minor": 0
      },
      "text/plain": [
       "VBox(children=(Label(value=' 0.00MB of 0.00MB uploaded (0.00MB deduped)\\r'), FloatProgress(value=1.0, max=1.0)…"
      ]
     },
     "metadata": {},
     "output_type": "display_data"
    },
    {
     "data": {
      "text/html": [
       "Find user logs for this run at: <code>W:\\rpnn\\python\\wandb\\run-20220305_190422-e5a79x1t\\logs\\debug.log</code>"
      ],
      "text/plain": [
       "<IPython.core.display.HTML object>"
      ]
     },
     "metadata": {},
     "output_type": "display_data"
    },
    {
     "data": {
      "text/html": [
       "Find internal logs for this run at: <code>W:\\rpnn\\python\\wandb\\run-20220305_190422-e5a79x1t\\logs\\debug-internal.log</code>"
      ],
      "text/plain": [
       "<IPython.core.display.HTML object>"
      ]
     },
     "metadata": {},
     "output_type": "display_data"
    },
    {
     "data": {
      "text/html": [
       "<h3>Run summary:</h3><br/><style>\n",
       "    table.wandb td:nth-child(1) { padding: 0 10px; text-align: right }\n",
       "    </style><table class=\"wandb\">\n",
       "<tr><td>squared_error</td><td>175.7826</td></tr><tr><td>_runtime</td><td>47</td></tr><tr><td>_timestamp</td><td>1646503509</td></tr><tr><td>_step</td><td>0</td></tr></table>"
      ],
      "text/plain": [
       "<IPython.core.display.HTML object>"
      ]
     },
     "metadata": {},
     "output_type": "display_data"
    },
    {
     "data": {
      "text/html": [
       "<h3>Run history:</h3><br/><style>\n",
       "    table.wandb td:nth-child(1) { padding: 0 10px; text-align: right }\n",
       "    </style><table class=\"wandb\">\n",
       "<tr><td>squared_error</td><td>▁</td></tr><tr><td>_runtime</td><td>▁</td></tr><tr><td>_timestamp</td><td>▁</td></tr><tr><td>_step</td><td>▁</td></tr></table><br/>"
      ],
      "text/plain": [
       "<IPython.core.display.HTML object>"
      ]
     },
     "metadata": {},
     "output_type": "display_data"
    },
    {
     "data": {
      "text/html": [
       "Synced 5 W&B file(s), 0 media file(s), 0 artifact file(s) and 0 other file(s)"
      ],
      "text/plain": [
       "<IPython.core.display.HTML object>"
      ]
     },
     "metadata": {},
     "output_type": "display_data"
    },
    {
     "data": {
      "text/html": [
       "\n",
       "                    <br/>Synced <strong style=\"color:#cdcd00\">fanciful-sweep-94</strong>: <a href=\"https://wandb.ai/lubomirkurcak/matrix-factorization/runs/e5a79x1t\" target=\"_blank\">https://wandb.ai/lubomirkurcak/matrix-factorization/runs/e5a79x1t</a><br/>\n",
       "                "
      ],
      "text/plain": [
       "<IPython.core.display.HTML object>"
      ]
     },
     "metadata": {},
     "output_type": "display_data"
    },
    {
     "name": "stderr",
     "output_type": "stream",
     "text": [
      "wandb: Agent Starting Run: cuq6ebv7 with config:\n",
      "wandb: \tdropout_keep_p: 1\n",
      "wandb: \tepochs: 50000\n",
      "wandb: \tfeatures: 15\n",
      "wandb: \tfp_emax: 117\n",
      "wandb: \tfp_explim: CPFLOAT_EXPRANGE_TARG\n",
      "wandb: \tfp_flip: CPFLOAT_NO_SOFTERR\n",
      "wandb: \tfp_p: 0.13355687125111815\n",
      "wandb: \tfp_precision: 18\n",
      "wandb: \tfp_round: CPFLOAT_RND_TZ\n",
      "wandb: \tfp_subnormal: CPFLOAT_SUBN_USE\n",
      "wandb: \tlearning_rate: 0.001\n",
      "wandb: \tloss: mean_squared_error\n",
      "wandb: \tmomentum_coefficient: 0\n",
      "wandb: \tnon_negative: True\n",
      "wandb: \tweight_decay: 0.0001\n",
      "wandb: wandb version 0.12.11 is available!  To upgrade, please run:\n",
      "wandb:  $ pip install wandb --upgrade\n"
     ]
    },
    {
     "data": {
      "text/html": [
       "\n",
       "                Tracking run with wandb version 0.10.21<br/>\n",
       "                Syncing run <strong style=\"color:#cdcd00\">cerulean-sweep-95</strong> to <a href=\"https://wandb.ai\" target=\"_blank\">Weights & Biases</a> <a href=\"https://docs.wandb.com/integrations/jupyter.html\" target=\"_blank\">(Documentation)</a>.<br/>\n",
       "                Project page: <a href=\"https://wandb.ai/lubomirkurcak/matrix-factorization\" target=\"_blank\">https://wandb.ai/lubomirkurcak/matrix-factorization</a><br/>\n",
       "                Sweep page: <a href=\"https://wandb.ai/lubomirkurcak/matrix-factorization/sweeps/2q624iuc\" target=\"_blank\">https://wandb.ai/lubomirkurcak/matrix-factorization/sweeps/2q624iuc</a><br/>\n",
       "Run page: <a href=\"https://wandb.ai/lubomirkurcak/matrix-factorization/runs/cuq6ebv7\" target=\"_blank\">https://wandb.ai/lubomirkurcak/matrix-factorization/runs/cuq6ebv7</a><br/>\n",
       "                Run data is saved locally in <code>W:\\rpnn\\python\\wandb\\run-20220305_190515-cuq6ebv7</code><br/><br/>\n",
       "            "
      ],
      "text/plain": [
       "<IPython.core.display.HTML object>"
      ]
     },
     "metadata": {},
     "output_type": "display_data"
    },
    {
     "name": "stdout",
     "output_type": "stream",
     "text": [
      "cpfloat_validate_optstruct returned 0\n"
     ]
    },
    {
     "data": {
      "text/html": [
       "<br/>Waiting for W&B process to finish, PID 18104<br/>Program ended successfully."
      ],
      "text/plain": [
       "<IPython.core.display.HTML object>"
      ]
     },
     "metadata": {},
     "output_type": "display_data"
    },
    {
     "data": {
      "application/vnd.jupyter.widget-view+json": {
       "model_id": "",
       "version_major": 2,
       "version_minor": 0
      },
      "text/plain": [
       "VBox(children=(Label(value=' 0.00MB of 0.00MB uploaded (0.00MB deduped)\\r'), FloatProgress(value=1.0, max=1.0)…"
      ]
     },
     "metadata": {},
     "output_type": "display_data"
    },
    {
     "data": {
      "text/html": [
       "Find user logs for this run at: <code>W:\\rpnn\\python\\wandb\\run-20220305_190515-cuq6ebv7\\logs\\debug.log</code>"
      ],
      "text/plain": [
       "<IPython.core.display.HTML object>"
      ]
     },
     "metadata": {},
     "output_type": "display_data"
    },
    {
     "data": {
      "text/html": [
       "Find internal logs for this run at: <code>W:\\rpnn\\python\\wandb\\run-20220305_190515-cuq6ebv7\\logs\\debug-internal.log</code>"
      ],
      "text/plain": [
       "<IPython.core.display.HTML object>"
      ]
     },
     "metadata": {},
     "output_type": "display_data"
    },
    {
     "data": {
      "text/html": [
       "<h3>Run summary:</h3><br/><style>\n",
       "    table.wandb td:nth-child(1) { padding: 0 10px; text-align: right }\n",
       "    </style><table class=\"wandb\">\n",
       "<tr><td>squared_error</td><td>171.21195</td></tr><tr><td>_runtime</td><td>27</td></tr><tr><td>_timestamp</td><td>1646503542</td></tr><tr><td>_step</td><td>0</td></tr></table>"
      ],
      "text/plain": [
       "<IPython.core.display.HTML object>"
      ]
     },
     "metadata": {},
     "output_type": "display_data"
    },
    {
     "data": {
      "text/html": [
       "<h3>Run history:</h3><br/><style>\n",
       "    table.wandb td:nth-child(1) { padding: 0 10px; text-align: right }\n",
       "    </style><table class=\"wandb\">\n",
       "<tr><td>squared_error</td><td>▁</td></tr><tr><td>_runtime</td><td>▁</td></tr><tr><td>_timestamp</td><td>▁</td></tr><tr><td>_step</td><td>▁</td></tr></table><br/>"
      ],
      "text/plain": [
       "<IPython.core.display.HTML object>"
      ]
     },
     "metadata": {},
     "output_type": "display_data"
    },
    {
     "data": {
      "text/html": [
       "Synced 5 W&B file(s), 0 media file(s), 0 artifact file(s) and 0 other file(s)"
      ],
      "text/plain": [
       "<IPython.core.display.HTML object>"
      ]
     },
     "metadata": {},
     "output_type": "display_data"
    },
    {
     "data": {
      "text/html": [
       "\n",
       "                    <br/>Synced <strong style=\"color:#cdcd00\">cerulean-sweep-95</strong>: <a href=\"https://wandb.ai/lubomirkurcak/matrix-factorization/runs/cuq6ebv7\" target=\"_blank\">https://wandb.ai/lubomirkurcak/matrix-factorization/runs/cuq6ebv7</a><br/>\n",
       "                "
      ],
      "text/plain": [
       "<IPython.core.display.HTML object>"
      ]
     },
     "metadata": {},
     "output_type": "display_data"
    },
    {
     "name": "stderr",
     "output_type": "stream",
     "text": [
      "wandb: Agent Starting Run: 4uj415ra with config:\n",
      "wandb: \tdropout_keep_p: 1\n",
      "wandb: \tepochs: 50000\n",
      "wandb: \tfeatures: 15\n",
      "wandb: \tfp_emax: 91\n",
      "wandb: \tfp_explim: CPFLOAT_EXPRANGE_TARG\n",
      "wandb: \tfp_flip: CPFLOAT_SOFTERR\n",
      "wandb: \tfp_p: 0.1924459067916106\n",
      "wandb: \tfp_precision: 15\n",
      "wandb: \tfp_round: CPFLOAT_RND_SE\n",
      "wandb: \tfp_subnormal: CPFLOAT_SUBN_RND\n",
      "wandb: \tlearning_rate: 0.001\n",
      "wandb: \tloss: mean_squared_error\n",
      "wandb: \tmomentum_coefficient: 0\n",
      "wandb: \tnon_negative: True\n",
      "wandb: \tweight_decay: 0.0001\n",
      "wandb: wandb version 0.12.11 is available!  To upgrade, please run:\n",
      "wandb:  $ pip install wandb --upgrade\n"
     ]
    },
    {
     "data": {
      "text/html": [
       "\n",
       "                Tracking run with wandb version 0.10.21<br/>\n",
       "                Syncing run <strong style=\"color:#cdcd00\">eager-sweep-96</strong> to <a href=\"https://wandb.ai\" target=\"_blank\">Weights & Biases</a> <a href=\"https://docs.wandb.com/integrations/jupyter.html\" target=\"_blank\">(Documentation)</a>.<br/>\n",
       "                Project page: <a href=\"https://wandb.ai/lubomirkurcak/matrix-factorization\" target=\"_blank\">https://wandb.ai/lubomirkurcak/matrix-factorization</a><br/>\n",
       "                Sweep page: <a href=\"https://wandb.ai/lubomirkurcak/matrix-factorization/sweeps/2q624iuc\" target=\"_blank\">https://wandb.ai/lubomirkurcak/matrix-factorization/sweeps/2q624iuc</a><br/>\n",
       "Run page: <a href=\"https://wandb.ai/lubomirkurcak/matrix-factorization/runs/4uj415ra\" target=\"_blank\">https://wandb.ai/lubomirkurcak/matrix-factorization/runs/4uj415ra</a><br/>\n",
       "                Run data is saved locally in <code>W:\\rpnn\\python\\wandb\\run-20220305_190546-4uj415ra</code><br/><br/>\n",
       "            "
      ],
      "text/plain": [
       "<IPython.core.display.HTML object>"
      ]
     },
     "metadata": {},
     "output_type": "display_data"
    },
    {
     "name": "stdout",
     "output_type": "stream",
     "text": [
      "cpfloat_validate_optstruct returned 0\n"
     ]
    },
    {
     "data": {
      "text/html": [
       "<br/>Waiting for W&B process to finish, PID 15736<br/>Program ended successfully."
      ],
      "text/plain": [
       "<IPython.core.display.HTML object>"
      ]
     },
     "metadata": {},
     "output_type": "display_data"
    },
    {
     "data": {
      "application/vnd.jupyter.widget-view+json": {
       "model_id": "",
       "version_major": 2,
       "version_minor": 0
      },
      "text/plain": [
       "VBox(children=(Label(value=' 0.00MB of 0.00MB uploaded (0.00MB deduped)\\r'), FloatProgress(value=1.0, max=1.0)…"
      ]
     },
     "metadata": {},
     "output_type": "display_data"
    },
    {
     "data": {
      "text/html": [
       "Find user logs for this run at: <code>W:\\rpnn\\python\\wandb\\run-20220305_190546-4uj415ra\\logs\\debug.log</code>"
      ],
      "text/plain": [
       "<IPython.core.display.HTML object>"
      ]
     },
     "metadata": {},
     "output_type": "display_data"
    },
    {
     "data": {
      "text/html": [
       "Find internal logs for this run at: <code>W:\\rpnn\\python\\wandb\\run-20220305_190546-4uj415ra\\logs\\debug-internal.log</code>"
      ],
      "text/plain": [
       "<IPython.core.display.HTML object>"
      ]
     },
     "metadata": {},
     "output_type": "display_data"
    },
    {
     "data": {
      "text/html": [
       "<h3>Run summary:</h3><br/><style>\n",
       "    table.wandb td:nth-child(1) { padding: 0 10px; text-align: right }\n",
       "    </style><table class=\"wandb\">\n",
       "<tr><td>squared_error</td><td>190.28184</td></tr><tr><td>_runtime</td><td>39</td></tr><tr><td>_timestamp</td><td>1646503585</td></tr><tr><td>_step</td><td>0</td></tr></table>"
      ],
      "text/plain": [
       "<IPython.core.display.HTML object>"
      ]
     },
     "metadata": {},
     "output_type": "display_data"
    },
    {
     "data": {
      "text/html": [
       "<h3>Run history:</h3><br/><style>\n",
       "    table.wandb td:nth-child(1) { padding: 0 10px; text-align: right }\n",
       "    </style><table class=\"wandb\">\n",
       "<tr><td>squared_error</td><td>▁</td></tr><tr><td>_runtime</td><td>▁</td></tr><tr><td>_timestamp</td><td>▁</td></tr><tr><td>_step</td><td>▁</td></tr></table><br/>"
      ],
      "text/plain": [
       "<IPython.core.display.HTML object>"
      ]
     },
     "metadata": {},
     "output_type": "display_data"
    },
    {
     "data": {
      "text/html": [
       "Synced 5 W&B file(s), 0 media file(s), 0 artifact file(s) and 0 other file(s)"
      ],
      "text/plain": [
       "<IPython.core.display.HTML object>"
      ]
     },
     "metadata": {},
     "output_type": "display_data"
    },
    {
     "data": {
      "text/html": [
       "\n",
       "                    <br/>Synced <strong style=\"color:#cdcd00\">eager-sweep-96</strong>: <a href=\"https://wandb.ai/lubomirkurcak/matrix-factorization/runs/4uj415ra\" target=\"_blank\">https://wandb.ai/lubomirkurcak/matrix-factorization/runs/4uj415ra</a><br/>\n",
       "                "
      ],
      "text/plain": [
       "<IPython.core.display.HTML object>"
      ]
     },
     "metadata": {},
     "output_type": "display_data"
    },
    {
     "name": "stderr",
     "output_type": "stream",
     "text": [
      "wandb: Agent Starting Run: aoupfxd1 with config:\n",
      "wandb: \tdropout_keep_p: 1\n",
      "wandb: \tepochs: 50000\n",
      "wandb: \tfeatures: 15\n",
      "wandb: \tfp_emax: 97\n",
      "wandb: \tfp_explim: CPFLOAT_EXPRANGE_TARG\n",
      "wandb: \tfp_flip: CPFLOAT_NO_SOFTERR\n",
      "wandb: \tfp_p: 0.20475032097685725\n",
      "wandb: \tfp_precision: 13\n",
      "wandb: \tfp_round: CPFLOAT_RND_TN\n",
      "wandb: \tfp_subnormal: CPFLOAT_SUBN_USE\n",
      "wandb: \tlearning_rate: 0.001\n",
      "wandb: \tloss: mean_squared_error\n",
      "wandb: \tmomentum_coefficient: 0\n",
      "wandb: \tnon_negative: True\n",
      "wandb: \tweight_decay: 0.0001\n",
      "wandb: wandb version 0.12.11 is available!  To upgrade, please run:\n",
      "wandb:  $ pip install wandb --upgrade\n"
     ]
    },
    {
     "data": {
      "text/html": [
       "\n",
       "                Tracking run with wandb version 0.10.21<br/>\n",
       "                Syncing run <strong style=\"color:#cdcd00\">scarlet-sweep-97</strong> to <a href=\"https://wandb.ai\" target=\"_blank\">Weights & Biases</a> <a href=\"https://docs.wandb.com/integrations/jupyter.html\" target=\"_blank\">(Documentation)</a>.<br/>\n",
       "                Project page: <a href=\"https://wandb.ai/lubomirkurcak/matrix-factorization\" target=\"_blank\">https://wandb.ai/lubomirkurcak/matrix-factorization</a><br/>\n",
       "                Sweep page: <a href=\"https://wandb.ai/lubomirkurcak/matrix-factorization/sweeps/2q624iuc\" target=\"_blank\">https://wandb.ai/lubomirkurcak/matrix-factorization/sweeps/2q624iuc</a><br/>\n",
       "Run page: <a href=\"https://wandb.ai/lubomirkurcak/matrix-factorization/runs/aoupfxd1\" target=\"_blank\">https://wandb.ai/lubomirkurcak/matrix-factorization/runs/aoupfxd1</a><br/>\n",
       "                Run data is saved locally in <code>W:\\rpnn\\python\\wandb\\run-20220305_190629-aoupfxd1</code><br/><br/>\n",
       "            "
      ],
      "text/plain": [
       "<IPython.core.display.HTML object>"
      ]
     },
     "metadata": {},
     "output_type": "display_data"
    },
    {
     "name": "stdout",
     "output_type": "stream",
     "text": [
      "cpfloat_validate_optstruct returned 0\n"
     ]
    },
    {
     "data": {
      "text/html": [
       "<br/>Waiting for W&B process to finish, PID 4644<br/>Program ended successfully."
      ],
      "text/plain": [
       "<IPython.core.display.HTML object>"
      ]
     },
     "metadata": {},
     "output_type": "display_data"
    },
    {
     "data": {
      "application/vnd.jupyter.widget-view+json": {
       "model_id": "",
       "version_major": 2,
       "version_minor": 0
      },
      "text/plain": [
       "VBox(children=(Label(value=' 0.00MB of 0.00MB uploaded (0.00MB deduped)\\r'), FloatProgress(value=1.0, max=1.0)…"
      ]
     },
     "metadata": {},
     "output_type": "display_data"
    },
    {
     "data": {
      "text/html": [
       "Find user logs for this run at: <code>W:\\rpnn\\python\\wandb\\run-20220305_190629-aoupfxd1\\logs\\debug.log</code>"
      ],
      "text/plain": [
       "<IPython.core.display.HTML object>"
      ]
     },
     "metadata": {},
     "output_type": "display_data"
    },
    {
     "data": {
      "text/html": [
       "Find internal logs for this run at: <code>W:\\rpnn\\python\\wandb\\run-20220305_190629-aoupfxd1\\logs\\debug-internal.log</code>"
      ],
      "text/plain": [
       "<IPython.core.display.HTML object>"
      ]
     },
     "metadata": {},
     "output_type": "display_data"
    },
    {
     "data": {
      "text/html": [
       "<h3>Run summary:</h3><br/><style>\n",
       "    table.wandb td:nth-child(1) { padding: 0 10px; text-align: right }\n",
       "    </style><table class=\"wandb\">\n",
       "<tr><td>squared_error</td><td>190.13381</td></tr><tr><td>_runtime</td><td>25</td></tr><tr><td>_timestamp</td><td>1646503615</td></tr><tr><td>_step</td><td>0</td></tr></table>"
      ],
      "text/plain": [
       "<IPython.core.display.HTML object>"
      ]
     },
     "metadata": {},
     "output_type": "display_data"
    },
    {
     "data": {
      "text/html": [
       "<h3>Run history:</h3><br/><style>\n",
       "    table.wandb td:nth-child(1) { padding: 0 10px; text-align: right }\n",
       "    </style><table class=\"wandb\">\n",
       "<tr><td>squared_error</td><td>▁</td></tr><tr><td>_runtime</td><td>▁</td></tr><tr><td>_timestamp</td><td>▁</td></tr><tr><td>_step</td><td>▁</td></tr></table><br/>"
      ],
      "text/plain": [
       "<IPython.core.display.HTML object>"
      ]
     },
     "metadata": {},
     "output_type": "display_data"
    },
    {
     "data": {
      "text/html": [
       "Synced 5 W&B file(s), 0 media file(s), 0 artifact file(s) and 0 other file(s)"
      ],
      "text/plain": [
       "<IPython.core.display.HTML object>"
      ]
     },
     "metadata": {},
     "output_type": "display_data"
    },
    {
     "data": {
      "text/html": [
       "\n",
       "                    <br/>Synced <strong style=\"color:#cdcd00\">scarlet-sweep-97</strong>: <a href=\"https://wandb.ai/lubomirkurcak/matrix-factorization/runs/aoupfxd1\" target=\"_blank\">https://wandb.ai/lubomirkurcak/matrix-factorization/runs/aoupfxd1</a><br/>\n",
       "                "
      ],
      "text/plain": [
       "<IPython.core.display.HTML object>"
      ]
     },
     "metadata": {},
     "output_type": "display_data"
    },
    {
     "name": "stderr",
     "output_type": "stream",
     "text": [
      "wandb: Agent Starting Run: 9yx9gw1e with config:\n",
      "wandb: \tdropout_keep_p: 1\n",
      "wandb: \tepochs: 50000\n",
      "wandb: \tfeatures: 15\n",
      "wandb: \tfp_emax: 89\n",
      "wandb: \tfp_explim: CPFLOAT_EXPRANGE_STOR\n",
      "wandb: \tfp_flip: CPFLOAT_SOFTERR\n",
      "wandb: \tfp_p: 0.2788739427597113\n",
      "wandb: \tfp_precision: 9\n",
      "wandb: \tfp_round: CPFLOAT_RND_SP\n",
      "wandb: \tfp_subnormal: CPFLOAT_SUBN_RND\n",
      "wandb: \tlearning_rate: 0.001\n",
      "wandb: \tloss: mean_squared_error\n",
      "wandb: \tmomentum_coefficient: 0\n",
      "wandb: \tnon_negative: True\n",
      "wandb: \tweight_decay: 0.0001\n",
      "wandb: wandb version 0.12.11 is available!  To upgrade, please run:\n",
      "wandb:  $ pip install wandb --upgrade\n"
     ]
    },
    {
     "data": {
      "text/html": [
       "\n",
       "                Tracking run with wandb version 0.10.21<br/>\n",
       "                Syncing run <strong style=\"color:#cdcd00\">dandy-sweep-98</strong> to <a href=\"https://wandb.ai\" target=\"_blank\">Weights & Biases</a> <a href=\"https://docs.wandb.com/integrations/jupyter.html\" target=\"_blank\">(Documentation)</a>.<br/>\n",
       "                Project page: <a href=\"https://wandb.ai/lubomirkurcak/matrix-factorization\" target=\"_blank\">https://wandb.ai/lubomirkurcak/matrix-factorization</a><br/>\n",
       "                Sweep page: <a href=\"https://wandb.ai/lubomirkurcak/matrix-factorization/sweeps/2q624iuc\" target=\"_blank\">https://wandb.ai/lubomirkurcak/matrix-factorization/sweeps/2q624iuc</a><br/>\n",
       "Run page: <a href=\"https://wandb.ai/lubomirkurcak/matrix-factorization/runs/9yx9gw1e\" target=\"_blank\">https://wandb.ai/lubomirkurcak/matrix-factorization/runs/9yx9gw1e</a><br/>\n",
       "                Run data is saved locally in <code>W:\\rpnn\\python\\wandb\\run-20220305_190700-9yx9gw1e</code><br/><br/>\n",
       "            "
      ],
      "text/plain": [
       "<IPython.core.display.HTML object>"
      ]
     },
     "metadata": {},
     "output_type": "display_data"
    },
    {
     "name": "stdout",
     "output_type": "stream",
     "text": [
      "cpfloat_validate_optstruct returned 0\n"
     ]
    },
    {
     "data": {
      "text/html": [
       "<br/>Waiting for W&B process to finish, PID 20092<br/>Program ended successfully."
      ],
      "text/plain": [
       "<IPython.core.display.HTML object>"
      ]
     },
     "metadata": {},
     "output_type": "display_data"
    },
    {
     "data": {
      "application/vnd.jupyter.widget-view+json": {
       "model_id": "",
       "version_major": 2,
       "version_minor": 0
      },
      "text/plain": [
       "VBox(children=(Label(value=' 0.00MB of 0.00MB uploaded (0.00MB deduped)\\r'), FloatProgress(value=1.0, max=1.0)…"
      ]
     },
     "metadata": {},
     "output_type": "display_data"
    },
    {
     "data": {
      "text/html": [
       "Find user logs for this run at: <code>W:\\rpnn\\python\\wandb\\run-20220305_190700-9yx9gw1e\\logs\\debug.log</code>"
      ],
      "text/plain": [
       "<IPython.core.display.HTML object>"
      ]
     },
     "metadata": {},
     "output_type": "display_data"
    },
    {
     "data": {
      "text/html": [
       "Find internal logs for this run at: <code>W:\\rpnn\\python\\wandb\\run-20220305_190700-9yx9gw1e\\logs\\debug-internal.log</code>"
      ],
      "text/plain": [
       "<IPython.core.display.HTML object>"
      ]
     },
     "metadata": {},
     "output_type": "display_data"
    },
    {
     "data": {
      "text/html": [
       "<h3>Run summary:</h3><br/><style>\n",
       "    table.wandb td:nth-child(1) { padding: 0 10px; text-align: right }\n",
       "    </style><table class=\"wandb\">\n",
       "<tr><td>squared_error</td><td>174.85843</td></tr><tr><td>_runtime</td><td>47</td></tr><tr><td>_timestamp</td><td>1646503667</td></tr><tr><td>_step</td><td>0</td></tr></table>"
      ],
      "text/plain": [
       "<IPython.core.display.HTML object>"
      ]
     },
     "metadata": {},
     "output_type": "display_data"
    },
    {
     "data": {
      "text/html": [
       "<h3>Run history:</h3><br/><style>\n",
       "    table.wandb td:nth-child(1) { padding: 0 10px; text-align: right }\n",
       "    </style><table class=\"wandb\">\n",
       "<tr><td>squared_error</td><td>▁</td></tr><tr><td>_runtime</td><td>▁</td></tr><tr><td>_timestamp</td><td>▁</td></tr><tr><td>_step</td><td>▁</td></tr></table><br/>"
      ],
      "text/plain": [
       "<IPython.core.display.HTML object>"
      ]
     },
     "metadata": {},
     "output_type": "display_data"
    },
    {
     "data": {
      "text/html": [
       "Synced 5 W&B file(s), 0 media file(s), 0 artifact file(s) and 0 other file(s)"
      ],
      "text/plain": [
       "<IPython.core.display.HTML object>"
      ]
     },
     "metadata": {},
     "output_type": "display_data"
    },
    {
     "data": {
      "text/html": [
       "\n",
       "                    <br/>Synced <strong style=\"color:#cdcd00\">dandy-sweep-98</strong>: <a href=\"https://wandb.ai/lubomirkurcak/matrix-factorization/runs/9yx9gw1e\" target=\"_blank\">https://wandb.ai/lubomirkurcak/matrix-factorization/runs/9yx9gw1e</a><br/>\n",
       "                "
      ],
      "text/plain": [
       "<IPython.core.display.HTML object>"
      ]
     },
     "metadata": {},
     "output_type": "display_data"
    },
    {
     "name": "stderr",
     "output_type": "stream",
     "text": [
      "wandb: Agent Starting Run: d9uduebo with config:\n",
      "wandb: \tdropout_keep_p: 1\n",
      "wandb: \tepochs: 50000\n",
      "wandb: \tfeatures: 15\n",
      "wandb: \tfp_emax: 119\n",
      "wandb: \tfp_explim: CPFLOAT_EXPRANGE_TARG\n",
      "wandb: \tfp_flip: CPFLOAT_NO_SOFTERR\n",
      "wandb: \tfp_p: 0.16674469125378155\n",
      "wandb: \tfp_precision: 6\n",
      "wandb: \tfp_round: CPFLOAT_RND_SE\n",
      "wandb: \tfp_subnormal: CPFLOAT_SUBN_RND\n",
      "wandb: \tlearning_rate: 0.001\n",
      "wandb: \tloss: mean_squared_error\n",
      "wandb: \tmomentum_coefficient: 0\n",
      "wandb: \tnon_negative: True\n",
      "wandb: \tweight_decay: 0.0001\n",
      "wandb: wandb version 0.12.11 is available!  To upgrade, please run:\n",
      "wandb:  $ pip install wandb --upgrade\n"
     ]
    },
    {
     "data": {
      "text/html": [
       "\n",
       "                Tracking run with wandb version 0.10.21<br/>\n",
       "                Syncing run <strong style=\"color:#cdcd00\">deft-sweep-99</strong> to <a href=\"https://wandb.ai\" target=\"_blank\">Weights & Biases</a> <a href=\"https://docs.wandb.com/integrations/jupyter.html\" target=\"_blank\">(Documentation)</a>.<br/>\n",
       "                Project page: <a href=\"https://wandb.ai/lubomirkurcak/matrix-factorization\" target=\"_blank\">https://wandb.ai/lubomirkurcak/matrix-factorization</a><br/>\n",
       "                Sweep page: <a href=\"https://wandb.ai/lubomirkurcak/matrix-factorization/sweeps/2q624iuc\" target=\"_blank\">https://wandb.ai/lubomirkurcak/matrix-factorization/sweeps/2q624iuc</a><br/>\n",
       "Run page: <a href=\"https://wandb.ai/lubomirkurcak/matrix-factorization/runs/d9uduebo\" target=\"_blank\">https://wandb.ai/lubomirkurcak/matrix-factorization/runs/d9uduebo</a><br/>\n",
       "                Run data is saved locally in <code>W:\\rpnn\\python\\wandb\\run-20220305_190752-d9uduebo</code><br/><br/>\n",
       "            "
      ],
      "text/plain": [
       "<IPython.core.display.HTML object>"
      ]
     },
     "metadata": {},
     "output_type": "display_data"
    },
    {
     "name": "stdout",
     "output_type": "stream",
     "text": [
      "cpfloat_validate_optstruct returned 0\n"
     ]
    },
    {
     "data": {
      "text/html": [
       "<br/>Waiting for W&B process to finish, PID 11964<br/>Program ended successfully."
      ],
      "text/plain": [
       "<IPython.core.display.HTML object>"
      ]
     },
     "metadata": {},
     "output_type": "display_data"
    },
    {
     "data": {
      "application/vnd.jupyter.widget-view+json": {
       "model_id": "",
       "version_major": 2,
       "version_minor": 0
      },
      "text/plain": [
       "VBox(children=(Label(value=' 0.00MB of 0.00MB uploaded (0.00MB deduped)\\r'), FloatProgress(value=1.0, max=1.0)…"
      ]
     },
     "metadata": {},
     "output_type": "display_data"
    },
    {
     "data": {
      "text/html": [
       "Find user logs for this run at: <code>W:\\rpnn\\python\\wandb\\run-20220305_190752-d9uduebo\\logs\\debug.log</code>"
      ],
      "text/plain": [
       "<IPython.core.display.HTML object>"
      ]
     },
     "metadata": {},
     "output_type": "display_data"
    },
    {
     "data": {
      "text/html": [
       "Find internal logs for this run at: <code>W:\\rpnn\\python\\wandb\\run-20220305_190752-d9uduebo\\logs\\debug-internal.log</code>"
      ],
      "text/plain": [
       "<IPython.core.display.HTML object>"
      ]
     },
     "metadata": {},
     "output_type": "display_data"
    },
    {
     "data": {
      "text/html": [
       "<h3>Run summary:</h3><br/><style>\n",
       "    table.wandb td:nth-child(1) { padding: 0 10px; text-align: right }\n",
       "    </style><table class=\"wandb\">\n",
       "<tr><td>squared_error</td><td>2088.43164</td></tr><tr><td>_runtime</td><td>32</td></tr><tr><td>_timestamp</td><td>1646503704</td></tr><tr><td>_step</td><td>0</td></tr></table>"
      ],
      "text/plain": [
       "<IPython.core.display.HTML object>"
      ]
     },
     "metadata": {},
     "output_type": "display_data"
    },
    {
     "data": {
      "text/html": [
       "<h3>Run history:</h3><br/><style>\n",
       "    table.wandb td:nth-child(1) { padding: 0 10px; text-align: right }\n",
       "    </style><table class=\"wandb\">\n",
       "<tr><td>squared_error</td><td>▁</td></tr><tr><td>_runtime</td><td>▁</td></tr><tr><td>_timestamp</td><td>▁</td></tr><tr><td>_step</td><td>▁</td></tr></table><br/>"
      ],
      "text/plain": [
       "<IPython.core.display.HTML object>"
      ]
     },
     "metadata": {},
     "output_type": "display_data"
    },
    {
     "data": {
      "text/html": [
       "Synced 5 W&B file(s), 0 media file(s), 0 artifact file(s) and 0 other file(s)"
      ],
      "text/plain": [
       "<IPython.core.display.HTML object>"
      ]
     },
     "metadata": {},
     "output_type": "display_data"
    },
    {
     "data": {
      "text/html": [
       "\n",
       "                    <br/>Synced <strong style=\"color:#cdcd00\">deft-sweep-99</strong>: <a href=\"https://wandb.ai/lubomirkurcak/matrix-factorization/runs/d9uduebo\" target=\"_blank\">https://wandb.ai/lubomirkurcak/matrix-factorization/runs/d9uduebo</a><br/>\n",
       "                "
      ],
      "text/plain": [
       "<IPython.core.display.HTML object>"
      ]
     },
     "metadata": {},
     "output_type": "display_data"
    },
    {
     "name": "stderr",
     "output_type": "stream",
     "text": [
      "wandb: Agent Starting Run: kulejhqr with config:\n",
      "wandb: \tdropout_keep_p: 1\n",
      "wandb: \tepochs: 50000\n",
      "wandb: \tfeatures: 15\n",
      "wandb: \tfp_emax: 34\n",
      "wandb: \tfp_explim: CPFLOAT_EXPRANGE_TARG\n",
      "wandb: \tfp_flip: CPFLOAT_NO_SOFTERR\n",
      "wandb: \tfp_p: 0.0015573478708915125\n",
      "wandb: \tfp_precision: 19\n",
      "wandb: \tfp_round: CPFLOAT_RND_TP\n",
      "wandb: \tfp_subnormal: CPFLOAT_SUBN_USE\n",
      "wandb: \tlearning_rate: 0.001\n",
      "wandb: \tloss: mean_squared_error\n",
      "wandb: \tmomentum_coefficient: 0\n",
      "wandb: \tnon_negative: True\n",
      "wandb: \tweight_decay: 0.0001\n",
      "wandb: wandb version 0.12.11 is available!  To upgrade, please run:\n",
      "wandb:  $ pip install wandb --upgrade\n"
     ]
    },
    {
     "data": {
      "text/html": [
       "\n",
       "                Tracking run with wandb version 0.10.21<br/>\n",
       "                Syncing run <strong style=\"color:#cdcd00\">restful-sweep-100</strong> to <a href=\"https://wandb.ai\" target=\"_blank\">Weights & Biases</a> <a href=\"https://docs.wandb.com/integrations/jupyter.html\" target=\"_blank\">(Documentation)</a>.<br/>\n",
       "                Project page: <a href=\"https://wandb.ai/lubomirkurcak/matrix-factorization\" target=\"_blank\">https://wandb.ai/lubomirkurcak/matrix-factorization</a><br/>\n",
       "                Sweep page: <a href=\"https://wandb.ai/lubomirkurcak/matrix-factorization/sweeps/2q624iuc\" target=\"_blank\">https://wandb.ai/lubomirkurcak/matrix-factorization/sweeps/2q624iuc</a><br/>\n",
       "Run page: <a href=\"https://wandb.ai/lubomirkurcak/matrix-factorization/runs/kulejhqr\" target=\"_blank\">https://wandb.ai/lubomirkurcak/matrix-factorization/runs/kulejhqr</a><br/>\n",
       "                Run data is saved locally in <code>W:\\rpnn\\python\\wandb\\run-20220305_190830-kulejhqr</code><br/><br/>\n",
       "            "
      ],
      "text/plain": [
       "<IPython.core.display.HTML object>"
      ]
     },
     "metadata": {},
     "output_type": "display_data"
    },
    {
     "name": "stdout",
     "output_type": "stream",
     "text": [
      "cpfloat_validate_optstruct returned 0\n"
     ]
    },
    {
     "data": {
      "text/html": [
       "<br/>Waiting for W&B process to finish, PID 3028<br/>Program ended successfully."
      ],
      "text/plain": [
       "<IPython.core.display.HTML object>"
      ]
     },
     "metadata": {},
     "output_type": "display_data"
    },
    {
     "data": {
      "application/vnd.jupyter.widget-view+json": {
       "model_id": "",
       "version_major": 2,
       "version_minor": 0
      },
      "text/plain": [
       "VBox(children=(Label(value=' 0.00MB of 0.00MB uploaded (0.00MB deduped)\\r'), FloatProgress(value=1.0, max=1.0)…"
      ]
     },
     "metadata": {},
     "output_type": "display_data"
    },
    {
     "data": {
      "text/html": [
       "Find user logs for this run at: <code>W:\\rpnn\\python\\wandb\\run-20220305_190830-kulejhqr\\logs\\debug.log</code>"
      ],
      "text/plain": [
       "<IPython.core.display.HTML object>"
      ]
     },
     "metadata": {},
     "output_type": "display_data"
    },
    {
     "data": {
      "text/html": [
       "Find internal logs for this run at: <code>W:\\rpnn\\python\\wandb\\run-20220305_190830-kulejhqr\\logs\\debug-internal.log</code>"
      ],
      "text/plain": [
       "<IPython.core.display.HTML object>"
      ]
     },
     "metadata": {},
     "output_type": "display_data"
    },
    {
     "data": {
      "text/html": [
       "<h3>Run summary:</h3><br/><style>\n",
       "    table.wandb td:nth-child(1) { padding: 0 10px; text-align: right }\n",
       "    </style><table class=\"wandb\">\n",
       "<tr><td>squared_error</td><td>180.19901</td></tr><tr><td>_runtime</td><td>26</td></tr><tr><td>_timestamp</td><td>1646503736</td></tr><tr><td>_step</td><td>0</td></tr></table>"
      ],
      "text/plain": [
       "<IPython.core.display.HTML object>"
      ]
     },
     "metadata": {},
     "output_type": "display_data"
    },
    {
     "data": {
      "text/html": [
       "<h3>Run history:</h3><br/><style>\n",
       "    table.wandb td:nth-child(1) { padding: 0 10px; text-align: right }\n",
       "    </style><table class=\"wandb\">\n",
       "<tr><td>squared_error</td><td>▁</td></tr><tr><td>_runtime</td><td>▁</td></tr><tr><td>_timestamp</td><td>▁</td></tr><tr><td>_step</td><td>▁</td></tr></table><br/>"
      ],
      "text/plain": [
       "<IPython.core.display.HTML object>"
      ]
     },
     "metadata": {},
     "output_type": "display_data"
    },
    {
     "data": {
      "text/html": [
       "Synced 5 W&B file(s), 0 media file(s), 0 artifact file(s) and 0 other file(s)"
      ],
      "text/plain": [
       "<IPython.core.display.HTML object>"
      ]
     },
     "metadata": {},
     "output_type": "display_data"
    },
    {
     "data": {
      "text/html": [
       "\n",
       "                    <br/>Synced <strong style=\"color:#cdcd00\">restful-sweep-100</strong>: <a href=\"https://wandb.ai/lubomirkurcak/matrix-factorization/runs/kulejhqr\" target=\"_blank\">https://wandb.ai/lubomirkurcak/matrix-factorization/runs/kulejhqr</a><br/>\n",
       "                "
      ],
      "text/plain": [
       "<IPython.core.display.HTML object>"
      ]
     },
     "metadata": {},
     "output_type": "display_data"
    }
   ],
   "source": [
    "sweep_id = wandb.sweep(sweep_config, project=WANDB_PROJECT)\n",
    "#sweep_id = \"jneupcgr\"\n",
    "\n",
    "wandb.agent(sweep_id=sweep_id, project=WANDB_PROJECT, function=train, count=100)"
   ]
  },
  {
   "cell_type": "code",
   "execution_count": null,
   "metadata": {},
   "outputs": [],
   "source": []
  }
 ],
 "metadata": {
  "kernelspec": {
   "display_name": "Python 3",
   "language": "python",
   "name": "python3"
  },
  "language_info": {
   "codemirror_mode": {
    "name": "ipython",
    "version": 3
   },
   "file_extension": ".py",
   "mimetype": "text/x-python",
   "name": "python",
   "nbconvert_exporter": "python",
   "pygments_lexer": "ipython3",
   "version": "3.9.2"
  }
 },
 "nbformat": 4,
 "nbformat_minor": 4
}

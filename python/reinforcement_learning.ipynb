{
 "cells": [
  {
   "cell_type": "code",
   "execution_count": 1,
   "metadata": {},
   "outputs": [],
   "source": [
    "import math\n",
    "import time\n",
    "import wandb\n",
    "import rpnn\n",
    "import pprint\n",
    "#import sys\n",
    "#!{sys.executable} -m pip install rpnn"
   ]
  },
  {
   "cell_type": "code",
   "execution_count": 2,
   "metadata": {},
   "outputs": [],
   "source": [
    "from IPython.display import display, clear_output\n",
    "\n",
    "import gym\n",
    "env = gym.make('CartPole-v1')\n",
    "\n",
    "ts = []\n",
    "worst_average_timesteps = 1000\n",
    "best_average_timesteps = 0"
   ]
  },
  {
   "cell_type": "code",
   "execution_count": 3,
   "metadata": {},
   "outputs": [],
   "source": [
    "def log_run(t):\n",
    "    global ts\n",
    "    global worst_average_timesteps\n",
    "    global best_average_timesteps\n",
    "    \n",
    "    random_policy_average_timesteps = 24\n",
    "    oppose_tilt_policy_average_timesteps = 40\n",
    "    good_average_timesteps = 160\n",
    "    \n",
    "    ts.append(t+1)\n",
    "    if(len(ts) >= 50):\n",
    "        clear_output(wait=True)\n",
    "        perf = sum(ts)/len(ts)\n",
    "\n",
    "        new_best = perf > best_average_timesteps\n",
    "        if(new_best):\n",
    "            best_average_timesteps = perf\n",
    "\n",
    "        new_worst = perf < worst_average_timesteps\n",
    "        if(new_worst):\n",
    "            worst_average_timesteps = perf\n",
    "\n",
    "        success_now = perf > random_policy_average_timesteps\n",
    "        big_success = perf > oppose_tilt_policy_average_timesteps\n",
    "        huge_success = perf > good_average_timesteps\n",
    "\n",
    "        RED='\\033[91m'\n",
    "        GREEN='\\033[92m'\n",
    "        DEFAULT='\\033[0m'\n",
    "        BLUE='\\033[94m'\n",
    "        BOLD='\\033[1m'\n",
    "        ORANGE='\\033[93m'\n",
    "\n",
    "        print(\"Average timesteps: {}{}{} {}Best {}{} {}Worst {}{}\".format(\n",
    "            BLUE+BOLD if huge_success else GREEN+BOLD if big_success else GREEN if success_now else RED, perf, DEFAULT,\n",
    "            GREEN if new_best else DEFAULT, best_average_timesteps, DEFAULT,\n",
    "            RED if new_worst else DEFAULT, worst_average_timesteps, DEFAULT))\n",
    "\n",
    "        ts = []"
   ]
  },
  {
   "cell_type": "code",
   "execution_count": 4,
   "metadata": {},
   "outputs": [],
   "source": [
    "def reset_environment():\n",
    "    observation = env.reset()\n",
    "    reward = 0\n",
    "    done = False\n",
    "    return (observation, reward, done)\n",
    "\n",
    "observation, reward, done = reset_environment()"
   ]
  },
  {
   "cell_type": "code",
   "execution_count": null,
   "metadata": {},
   "outputs": [
    {
     "name": "stdout",
     "output_type": "stream",
     "text": [
      "Average timesteps: \u001b[92m\u001b[1m128.18\u001b[0m \u001b[0mBest 306.82\u001b[0m \u001b[0mWorst 17.96\u001b[0m\n"
     ]
    }
   ],
   "source": [
    "enable_rendering = True\n",
    "\n",
    "while True:\n",
    "    for t in range(1000):\n",
    "        if enable_rendering: env.render()\n",
    "        \n",
    "        action = rpnn.cartpole(observation.tolist(), reward, done, False)\n",
    "\n",
    "        observation, reward, done, info = env.step(action)\n",
    "\n",
    "        if done:\n",
    "            log_run(t)\n",
    "            observation, reward, done = reset_environment()\n",
    "            break"
   ]
  },
  {
   "cell_type": "code",
   "execution_count": null,
   "metadata": {
    "scrolled": true
   },
   "outputs": [],
   "source": [
    "env.close()"
   ]
  },
  {
   "cell_type": "code",
   "execution_count": null,
   "metadata": {},
   "outputs": [],
   "source": []
  }
 ],
 "metadata": {
  "kernelspec": {
   "display_name": "Python 3",
   "language": "python",
   "name": "python3"
  },
  "language_info": {
   "codemirror_mode": {
    "name": "ipython",
    "version": 3
   },
   "file_extension": ".py",
   "mimetype": "text/x-python",
   "name": "python",
   "nbconvert_exporter": "python",
   "pygments_lexer": "ipython3",
   "version": "3.9.2"
  }
 },
 "nbformat": 4,
 "nbformat_minor": 4
}

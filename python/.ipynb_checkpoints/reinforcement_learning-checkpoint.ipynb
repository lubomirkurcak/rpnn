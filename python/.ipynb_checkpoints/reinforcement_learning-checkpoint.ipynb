{
 "cells": [
  {
   "cell_type": "code",
   "execution_count": 1,
   "metadata": {},
   "outputs": [],
   "source": [
    "import math\n",
    "import time\n",
    "import wandb\n",
    "import rpnn\n",
    "import pprint\n",
    "#import sys\n",
    "#!{sys.executable} -m pip install rpnn"
   ]
  },
  {
   "cell_type": "code",
   "execution_count": 2,
   "metadata": {},
   "outputs": [],
   "source": [
    "from IPython.display import display, clear_output\n",
    "\n",
    "import gym\n",
    "env = gym.make('CartPole-v1')\n",
    "\n",
    "ts = []\n",
    "\n",
    "random_policy_average_timesteps = 24.96\n",
    "oppose_tilt_policy_average_timesteps = 40.82\n",
    "good_average_timesteps = 150\n",
    "\n",
    "worst_average_timesteps = 1000\n",
    "best_average_timesteps = 0\n",
    "success_score = 0\n",
    "reinitialize_weights = False\n",
    "reinitialize_count = 0\n",
    "score_to_kill = -1000000\n",
    "max_score = 100\n",
    "better_than_random_score_limit = 0\n",
    "better_than_oppose_score_limit = 20"
   ]
  },
  {
   "cell_type": "code",
   "execution_count": null,
   "metadata": {},
   "outputs": [
    {
     "name": "stdout",
     "output_type": "stream",
     "text": [
      "Average timesteps: \u001b[94m\u001b[1m74.32\u001b[0m \u001b[0mBest 154.18\u001b[0m \u001b[0mWorst 30.92\u001b[0m Score \u001b[92m20\u001b[0m (Run 0) \n"
     ]
    }
   ],
   "source": [
    "enable_rendering = False\n",
    "\n",
    "while True:\n",
    "    observation = env.reset()\n",
    "    reward = 0\n",
    "    done = False\n",
    "    \n",
    "    for t in range(1000):\n",
    "        if enable_rendering: env.render()\n",
    "        \n",
    "        action = rpnn.cartpole(observation.tolist(), reward, done, reinitialize_weights)\n",
    "        reinitialize_weights = False\n",
    "\n",
    "        observation, reward, done, info = env.step(action)\n",
    "\n",
    "        if done:\n",
    "            ts.append(t+1)\n",
    "            if(len(ts) >= 50):\n",
    "                clear_output(wait=True)\n",
    "                perf = sum(ts)/len(ts)\n",
    "                \n",
    "                new_best = perf > best_average_timesteps\n",
    "                if(new_best):\n",
    "                    best_average_timesteps = perf\n",
    "                \n",
    "                new_worst = perf < worst_average_timesteps\n",
    "                if(new_worst):\n",
    "                    worst_average_timesteps = perf\n",
    "                    \n",
    "                success_now = perf > random_policy_average_timesteps\n",
    "                big_success = perf > oppose_tilt_policy_average_timesteps\n",
    "                huge_success = perf > good_average_timesteps\n",
    "                \n",
    "                if(success_now):\n",
    "                    if(huge_success):\n",
    "                        success_score = min(max_score, success_score + 1)\n",
    "                    elif(big_success):\n",
    "                        success_score = min(better_than_oppose_score_limit, success_score + 1)\n",
    "                    else:\n",
    "                        success_score = min(better_than_random_score_limit, success_score + 1)\n",
    "                else:\n",
    "                    success_score -= 1\n",
    "                \n",
    "                RED='\\033[91m'\n",
    "                GREEN='\\033[92m'\n",
    "                DEFAULT='\\033[0m'\n",
    "                BLUE='\\033[94m'\n",
    "                BOLD='\\033[1m'\n",
    "                ORANGE='\\033[93m'\n",
    "                \n",
    "                print(\"Average timesteps: {}{}{} {}Best {}{} {}Worst {}{} Score {}{}{} (Run {}) \".format(\n",
    "                    ORANGE+BOLD if huge_success else BLUE+BOLD if big_success else GREEN if success_now else RED, perf, DEFAULT,\n",
    "                    GREEN if new_best else DEFAULT, best_average_timesteps, DEFAULT,\n",
    "                    RED if new_worst else DEFAULT, worst_average_timesteps, DEFAULT,\n",
    "                    GREEN if success_score >= 0 else RED, success_score, DEFAULT,\n",
    "                    reinitialize_count))\n",
    "                \n",
    "                ts = []\n",
    "                \n",
    "                if(success_score < score_to_kill):\n",
    "                    \n",
    "                    worst_average_timesteps = 1000\n",
    "                    best_average_timesteps = 0\n",
    "                    success_score = 0\n",
    "\n",
    "                    reinitialize_weights = True\n",
    "                    reinitialize_count += 1\n",
    "                    print(\"\\033[94m\\033[1mReinitializing weights\\033[0m\")\n",
    "                    \n",
    "            break"
   ]
  },
  {
   "cell_type": "code",
   "execution_count": null,
   "metadata": {
    "scrolled": true
   },
   "outputs": [],
   "source": [
    "env.close()"
   ]
  },
  {
   "cell_type": "code",
   "execution_count": null,
   "metadata": {},
   "outputs": [],
   "source": []
  }
 ],
 "metadata": {
  "kernelspec": {
   "display_name": "Python 3",
   "language": "python",
   "name": "python3"
  },
  "language_info": {
   "codemirror_mode": {
    "name": "ipython",
    "version": 3
   },
   "file_extension": ".py",
   "mimetype": "text/x-python",
   "name": "python",
   "nbconvert_exporter": "python",
   "pygments_lexer": "ipython3",
   "version": "3.9.2"
  }
 },
 "nbformat": 4,
 "nbformat_minor": 4
}

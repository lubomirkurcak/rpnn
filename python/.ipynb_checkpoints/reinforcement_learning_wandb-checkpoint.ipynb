{
 "cells": [
  {
   "cell_type": "code",
   "execution_count": 1,
   "metadata": {},
   "outputs": [],
   "source": [
    "import math\n",
    "import time\n",
    "import wandb\n",
    "import rpnn\n",
    "import pprint\n",
    "import gym"
   ]
  },
  {
   "cell_type": "code",
   "execution_count": 2,
   "metadata": {},
   "outputs": [
    {
     "name": "stderr",
     "output_type": "stream",
     "text": [
      "wandb: Currently logged in as: lubomirkurcak (use `wandb login --relogin` to force relogin)\n"
     ]
    },
    {
     "data": {
      "text/plain": [
       "True"
      ]
     },
     "execution_count": 2,
     "metadata": {},
     "output_type": "execute_result"
    }
   ],
   "source": [
    "WANDB_PROJECT = 'cartpole'\n",
    "wandb.login()"
   ]
  },
  {
   "cell_type": "code",
   "execution_count": 3,
   "metadata": {},
   "outputs": [],
   "source": [
    "sweep_config = {\n",
    "    'method': 'random'\n",
    "}"
   ]
  },
  {
   "cell_type": "code",
   "execution_count": 4,
   "metadata": {},
   "outputs": [],
   "source": [
    "metric = {\n",
    "    'name': 'averaged_timesteps',\n",
    "    'goal': 'maximize'\n",
    "}\n",
    "\n",
    "sweep_config['metric'] = metric\n",
    "parameters_dict = {}"
   ]
  },
  {
   "cell_type": "code",
   "execution_count": 5,
   "metadata": {},
   "outputs": [],
   "source": [
    "# numerical precision params\n",
    "parameters_dict.update({\n",
    "    'fp_precision': {\n",
    "        'distribution': 'q_uniform',\n",
    "        'q': 1,\n",
    "        'min': 4,\n",
    "        'max': 24,\n",
    "    },\n",
    "    \n",
    "    'fp_emax': {\n",
    "        'distribution': 'q_uniform',\n",
    "        'q': 1,\n",
    "        'min': 4,\n",
    "        'max': 127,\n",
    "    },\n",
    "    \n",
    "    'fp_subnormal': {\n",
    "        'value': 'CPFLOAT_SUBN_USE'\n",
    "    },\n",
    "    \n",
    "    'fp_round': {\n",
    "        'values': ['CPFLOAT_RND_SP',\n",
    "                   'CPFLOAT_RND_SE']\n",
    "    },\n",
    "    \n",
    "    'fp_flip': {\n",
    "        'value': 'CPFLOAT_NO_SOFTERR'\n",
    "    },\n",
    "    \n",
    "    'fp_explim': {\n",
    "        'value': 'CPFLOAT_EXPRANGE_TARG'\n",
    "    },\n",
    "    \n",
    "    'fp_p': {\n",
    "        'value': 0.0\n",
    "    },\n",
    "})"
   ]
  },
  {
   "cell_type": "code",
   "execution_count": 6,
   "metadata": {},
   "outputs": [],
   "source": [
    "# reinforcement learning (RL) params\n",
    "parameters_dict.update({\n",
    "    'epsilon0' : {\n",
    "        'value': 1.0\n",
    "    },\n",
    "    'epsilon1' : {\n",
    "        'value': 0.1\n",
    "    },\n",
    "    'exploration_steps' : {\n",
    "        'value': 1000000\n",
    "    },\n",
    "    'epsilon' : {\n",
    "        'value': 1.0\n",
    "    },\n",
    "    \n",
    "    'gamma' : {\n",
    "        'value': 0.99\n",
    "    },\n",
    "    'alpha' : {\n",
    "        'value': 1.0\n",
    "    },\n",
    "    \n",
    "    'target_update_frequency' : {\n",
    "        'value': 10000\n",
    "    },\n",
    "    'replay_start_size' : {\n",
    "        'value': 50000\n",
    "    },\n",
    "    \n",
    "    'action_repeat' : {\n",
    "        'value': 1\n",
    "    }\n",
    "})"
   ]
  },
  {
   "cell_type": "code",
   "execution_count": 7,
   "metadata": {},
   "outputs": [],
   "source": [
    "# neural network params\n",
    "parameters_dict.update({\n",
    "    'layer_sizes': {\n",
    "        'value': (4, 16, 16, 16, 2)\n",
    "    },\n",
    "    'epochs': {\n",
    "        'value': 50000\n",
    "    },\n",
    "    'minibatch_size': {\n",
    "        'value': 32\n",
    "    },\n",
    "    'learning_rate': {\n",
    "        'value': 0.1\n",
    "    },\n",
    "    'weight_decay': {\n",
    "        'value': 0.001\n",
    "    },\n",
    "    'dropout_keep_p': {\n",
    "        'value': 1\n",
    "    },\n",
    "    'momentum_coefficient': {\n",
    "        'value': 0\n",
    "    },\n",
    "})"
   ]
  },
  {
   "cell_type": "code",
   "execution_count": 8,
   "metadata": {},
   "outputs": [],
   "source": [
    "sweep_config['parameters'] = parameters_dict"
   ]
  },
  {
   "cell_type": "code",
   "execution_count": 9,
   "metadata": {},
   "outputs": [],
   "source": [
    "def train():\n",
    "    run = wandb.init()\n",
    "    config = run.config\n",
    "    \n",
    "    rpnn.set_precision(\n",
    "        fp_precision=config[\"fp_precision\"],\n",
    "        fp_emax=config[\"fp_emax\"],\n",
    "        fp_subnormal=config[\"fp_subnormal\"],\n",
    "        fp_round=config[\"fp_round\"],\n",
    "        fp_flip=config[\"fp_flip\"],\n",
    "        fp_p=config[\"fp_p\"],\n",
    "        fp_explim=config[\"fp_explim\"])\n",
    "    \n",
    "    rpnn.set_reinforcement_params(\n",
    "        epsilon0=config[\"epsilon0\"],\n",
    "        epsilon1=config[\"epsilon1\"],\n",
    "        exploration_steps=config[\"exploration_steps\"],\n",
    "        epsilon=config[\"epsilon\"],\n",
    "        gamma=config[\"gamma\"],\n",
    "        alpha=config[\"alpha\"],\n",
    "        target_update_frequency=config[\"target_update_frequency\"],\n",
    "        replay_start_size=config[\"replay_start_size\"],\n",
    "        action_repeat=config[\"action_repeat\"])\n",
    "    \n",
    "    rpnn.set_neuralnet_params(\n",
    "        layer_sizes=tuple(config[\"layer_sizes\"]),\n",
    "        epochs=config[\"epochs\"],\n",
    "        minibatch_size=config[\"minibatch_size\"],\n",
    "        learning_rate=config[\"learning_rate\"],\n",
    "        weight_decay=config[\"weight_decay\"],\n",
    "        dropout_keep_p=config[\"dropout_keep_p\"],\n",
    "        momentum_coefficient=config[\"momentum_coefficient\"])\n",
    "    \n",
    "    rpnn.cartpole_init()\n",
    "    \n",
    "    timesteps_left = 100000\n",
    "    running_average = 0\n",
    "    \n",
    "    env = gym.make('CartPole-v1')\n",
    "    \n",
    "    while timesteps_left > 0:\n",
    "        observation = env.reset()\n",
    "        reward = 0\n",
    "        done = False\n",
    "        for t in range(100000):\n",
    "            action = rpnn.cartpole(observation.tolist(), reward, done, False)\n",
    "            observation, reward, done, info = env.step(action)\n",
    "\n",
    "            if done:\n",
    "                run_score = t+1\n",
    "                running_average = 0.95*running_average + 0.05*run_score\n",
    "                wandb.log({'timesteps': run_score, 'averaged_timesteps': running_average})\n",
    "                timesteps_left -= run_score\n",
    "                break\n",
    "    \n",
    "    env.close()\n",
    "    run.finish()"
   ]
  },
  {
   "cell_type": "code",
   "execution_count": null,
   "metadata": {
    "scrolled": true
   },
   "outputs": [
    {
     "name": "stdout",
     "output_type": "stream",
     "text": [
      "Create sweep with ID: g1i7wgy6\n",
      "Sweep URL: https://wandb.ai/lubomirkurcak/cartpole/sweeps/g1i7wgy6\n"
     ]
    },
    {
     "name": "stderr",
     "output_type": "stream",
     "text": [
      "wandb: Agent Starting Run: 6c1t6k8h with config:\n",
      "wandb: \taction_repeat: 1\n",
      "wandb: \talpha: 1\n",
      "wandb: \tdropout_keep_p: 1\n",
      "wandb: \tepochs: 50000\n",
      "wandb: \tepsilon: 1\n",
      "wandb: \tepsilon0: 1\n",
      "wandb: \tepsilon1: 0.1\n",
      "wandb: \texploration_steps: 1000000\n",
      "wandb: \tfp_emax: 109\n",
      "wandb: \tfp_explim: CPFLOAT_EXPRANGE_TARG\n",
      "wandb: \tfp_flip: CPFLOAT_NO_SOFTERR\n",
      "wandb: \tfp_p: 0\n",
      "wandb: \tfp_precision: 21\n",
      "wandb: \tfp_round: CPFLOAT_RND_SP\n",
      "wandb: \tfp_subnormal: CPFLOAT_SUBN_USE\n",
      "wandb: \tgamma: 0.99\n",
      "wandb: \tlayer_sizes: [4, 16, 16, 16, 2]\n",
      "wandb: \tlearning_rate: 0.1\n",
      "wandb: \tminibatch_size: 32\n",
      "wandb: \tmomentum_coefficient: 0\n",
      "wandb: \treplay_start_size: 50000\n",
      "wandb: \ttarget_update_frequency: 10000\n",
      "wandb: \tweight_decay: 0.001\n",
      "wandb: wandb version 0.12.11 is available!  To upgrade, please run:\n",
      "wandb:  $ pip install wandb --upgrade\n"
     ]
    },
    {
     "data": {
      "text/html": [
       "\n",
       "                Tracking run with wandb version 0.10.21<br/>\n",
       "                Syncing run <strong style=\"color:#cdcd00\">balmy-sweep-1</strong> to <a href=\"https://wandb.ai\" target=\"_blank\">Weights & Biases</a> <a href=\"https://docs.wandb.com/integrations/jupyter.html\" target=\"_blank\">(Documentation)</a>.<br/>\n",
       "                Project page: <a href=\"https://wandb.ai/lubomirkurcak/cartpole\" target=\"_blank\">https://wandb.ai/lubomirkurcak/cartpole</a><br/>\n",
       "                Sweep page: <a href=\"https://wandb.ai/lubomirkurcak/cartpole/sweeps/g1i7wgy6\" target=\"_blank\">https://wandb.ai/lubomirkurcak/cartpole/sweeps/g1i7wgy6</a><br/>\n",
       "Run page: <a href=\"https://wandb.ai/lubomirkurcak/cartpole/runs/6c1t6k8h\" target=\"_blank\">https://wandb.ai/lubomirkurcak/cartpole/runs/6c1t6k8h</a><br/>\n",
       "                Run data is saved locally in <code>W:\\rpnn\\python\\wandb\\run-20220308_230119-6c1t6k8h</code><br/><br/>\n",
       "            "
      ],
      "text/plain": [
       "<IPython.core.display.HTML object>"
      ]
     },
     "metadata": {},
     "output_type": "display_data"
    },
    {
     "data": {
      "text/html": [
       "<br/>Waiting for W&B process to finish, PID 21096<br/>Program ended successfully."
      ],
      "text/plain": [
       "<IPython.core.display.HTML object>"
      ]
     },
     "metadata": {},
     "output_type": "display_data"
    },
    {
     "data": {
      "application/vnd.jupyter.widget-view+json": {
       "model_id": "",
       "version_major": 2,
       "version_minor": 0
      },
      "text/plain": [
       "VBox(children=(Label(value=' 0.00MB of 0.00MB uploaded (0.00MB deduped)\\r'), FloatProgress(value=1.0, max=1.0)…"
      ]
     },
     "metadata": {},
     "output_type": "display_data"
    },
    {
     "data": {
      "text/html": [
       "Find user logs for this run at: <code>W:\\rpnn\\python\\wandb\\run-20220308_230119-6c1t6k8h\\logs\\debug.log</code>"
      ],
      "text/plain": [
       "<IPython.core.display.HTML object>"
      ]
     },
     "metadata": {},
     "output_type": "display_data"
    },
    {
     "data": {
      "text/html": [
       "Find internal logs for this run at: <code>W:\\rpnn\\python\\wandb\\run-20220308_230119-6c1t6k8h\\logs\\debug-internal.log</code>"
      ],
      "text/plain": [
       "<IPython.core.display.HTML object>"
      ]
     },
     "metadata": {},
     "output_type": "display_data"
    },
    {
     "data": {
      "text/html": [
       "<h3>Run summary:</h3><br/><style>\n",
       "    table.wandb td:nth-child(1) { padding: 0 10px; text-align: right }\n",
       "    </style><table class=\"wandb\">\n",
       "<tr><td>timesteps</td><td>18</td></tr><tr><td>averaged_timesteps</td><td>19.72271</td></tr><tr><td>_runtime</td><td>169</td></tr><tr><td>_timestamp</td><td>1646777048</td></tr><tr><td>_step</td><td>4488</td></tr></table>"
      ],
      "text/plain": [
       "<IPython.core.display.HTML object>"
      ]
     },
     "metadata": {},
     "output_type": "display_data"
    },
    {
     "data": {
      "text/html": [
       "<h3>Run history:</h3><br/><style>\n",
       "    table.wandb td:nth-child(1) { padding: 0 10px; text-align: right }\n",
       "    </style><table class=\"wandb\">\n",
       "<tr><td>timesteps</td><td>▃█▂▁▂▁▂▄▂▇▁▂▂▁▃▂▂▂▁▂▃▄▂▄▁▁▄▁▃▂▁▃▃▂▂▃▂▂▂▄</td></tr><tr><td>averaged_timesteps</td><td>▃▆▃▄▅▅▄▅▄▆▃▂▃▅▄▄▅▆▃▄▅▅▆█▁▅▄▂▄▃▅█▄▇▅▆▅▃▃▄</td></tr><tr><td>_runtime</td><td>▁▁▁▁▁▁▁▁▁▁▁▁▁▁▁▁▁▁▁▁▁▂▂▂▃▃▃▄▄▄▅▅▅▆▆▆▇▇██</td></tr><tr><td>_timestamp</td><td>▁▁▁▁▁▁▁▁▁▁▁▁▁▁▁▁▁▁▁▁▁▂▂▂▃▃▃▄▄▄▅▅▅▆▆▆▇▇██</td></tr><tr><td>_step</td><td>▁▁▁▂▂▂▂▂▂▃▃▃▃▃▃▄▄▄▄▄▅▅▅▅▅▅▆▆▆▆▆▆▇▇▇▇▇███</td></tr></table><br/>"
      ],
      "text/plain": [
       "<IPython.core.display.HTML object>"
      ]
     },
     "metadata": {},
     "output_type": "display_data"
    },
    {
     "data": {
      "text/html": [
       "Synced 4 W&B file(s), 0 media file(s), 0 artifact file(s) and 0 other file(s)"
      ],
      "text/plain": [
       "<IPython.core.display.HTML object>"
      ]
     },
     "metadata": {},
     "output_type": "display_data"
    },
    {
     "data": {
      "text/html": [
       "\n",
       "                    <br/>Synced <strong style=\"color:#cdcd00\">balmy-sweep-1</strong>: <a href=\"https://wandb.ai/lubomirkurcak/cartpole/runs/6c1t6k8h\" target=\"_blank\">https://wandb.ai/lubomirkurcak/cartpole/runs/6c1t6k8h</a><br/>\n",
       "                "
      ],
      "text/plain": [
       "<IPython.core.display.HTML object>"
      ]
     },
     "metadata": {},
     "output_type": "display_data"
    },
    {
     "name": "stderr",
     "output_type": "stream",
     "text": [
      "wandb: Agent Starting Run: z4vbek90 with config:\n",
      "wandb: \taction_repeat: 1\n",
      "wandb: \talpha: 1\n",
      "wandb: \tdropout_keep_p: 1\n",
      "wandb: \tepochs: 50000\n",
      "wandb: \tepsilon: 1\n",
      "wandb: \tepsilon0: 1\n",
      "wandb: \tepsilon1: 0.1\n",
      "wandb: \texploration_steps: 1000000\n",
      "wandb: \tfp_emax: 116\n",
      "wandb: \tfp_explim: CPFLOAT_EXPRANGE_TARG\n",
      "wandb: \tfp_flip: CPFLOAT_NO_SOFTERR\n",
      "wandb: \tfp_p: 0\n",
      "wandb: \tfp_precision: 17\n",
      "wandb: \tfp_round: CPFLOAT_RND_SP\n",
      "wandb: \tfp_subnormal: CPFLOAT_SUBN_USE\n",
      "wandb: \tgamma: 0.99\n",
      "wandb: \tlayer_sizes: [4, 16, 16, 16, 2]\n",
      "wandb: \tlearning_rate: 0.1\n",
      "wandb: \tminibatch_size: 32\n",
      "wandb: \tmomentum_coefficient: 0\n",
      "wandb: \treplay_start_size: 50000\n",
      "wandb: \ttarget_update_frequency: 10000\n",
      "wandb: \tweight_decay: 0.001\n",
      "wandb: wandb version 0.12.11 is available!  To upgrade, please run:\n",
      "wandb:  $ pip install wandb --upgrade\n"
     ]
    },
    {
     "data": {
      "text/html": [
       "\n",
       "                Tracking run with wandb version 0.10.21<br/>\n",
       "                Syncing run <strong style=\"color:#cdcd00\">soft-sweep-2</strong> to <a href=\"https://wandb.ai\" target=\"_blank\">Weights & Biases</a> <a href=\"https://docs.wandb.com/integrations/jupyter.html\" target=\"_blank\">(Documentation)</a>.<br/>\n",
       "                Project page: <a href=\"https://wandb.ai/lubomirkurcak/cartpole\" target=\"_blank\">https://wandb.ai/lubomirkurcak/cartpole</a><br/>\n",
       "                Sweep page: <a href=\"https://wandb.ai/lubomirkurcak/cartpole/sweeps/g1i7wgy6\" target=\"_blank\">https://wandb.ai/lubomirkurcak/cartpole/sweeps/g1i7wgy6</a><br/>\n",
       "Run page: <a href=\"https://wandb.ai/lubomirkurcak/cartpole/runs/z4vbek90\" target=\"_blank\">https://wandb.ai/lubomirkurcak/cartpole/runs/z4vbek90</a><br/>\n",
       "                Run data is saved locally in <code>W:\\rpnn\\python\\wandb\\run-20220308_230412-z4vbek90</code><br/><br/>\n",
       "            "
      ],
      "text/plain": [
       "<IPython.core.display.HTML object>"
      ]
     },
     "metadata": {},
     "output_type": "display_data"
    },
    {
     "data": {
      "text/html": [
       "<br/>Waiting for W&B process to finish, PID 16104<br/>Program ended successfully."
      ],
      "text/plain": [
       "<IPython.core.display.HTML object>"
      ]
     },
     "metadata": {},
     "output_type": "display_data"
    },
    {
     "data": {
      "application/vnd.jupyter.widget-view+json": {
       "model_id": "",
       "version_major": 2,
       "version_minor": 0
      },
      "text/plain": [
       "VBox(children=(Label(value=' 0.00MB of 0.00MB uploaded (0.00MB deduped)\\r'), FloatProgress(value=1.0, max=1.0)…"
      ]
     },
     "metadata": {},
     "output_type": "display_data"
    },
    {
     "data": {
      "text/html": [
       "Find user logs for this run at: <code>W:\\rpnn\\python\\wandb\\run-20220308_230412-z4vbek90\\logs\\debug.log</code>"
      ],
      "text/plain": [
       "<IPython.core.display.HTML object>"
      ]
     },
     "metadata": {},
     "output_type": "display_data"
    },
    {
     "data": {
      "text/html": [
       "Find internal logs for this run at: <code>W:\\rpnn\\python\\wandb\\run-20220308_230412-z4vbek90\\logs\\debug-internal.log</code>"
      ],
      "text/plain": [
       "<IPython.core.display.HTML object>"
      ]
     },
     "metadata": {},
     "output_type": "display_data"
    },
    {
     "data": {
      "text/html": [
       "<h3>Run summary:</h3><br/><style>\n",
       "    table.wandb td:nth-child(1) { padding: 0 10px; text-align: right }\n",
       "    </style><table class=\"wandb\">\n",
       "<tr><td>timesteps</td><td>34</td></tr><tr><td>averaged_timesteps</td><td>21.83702</td></tr><tr><td>_runtime</td><td>343</td></tr><tr><td>_timestamp</td><td>1646777396</td></tr><tr><td>_step</td><td>4522</td></tr></table>"
      ],
      "text/plain": [
       "<IPython.core.display.HTML object>"
      ]
     },
     "metadata": {},
     "output_type": "display_data"
    },
    {
     "data": {
      "text/html": [
       "<h3>Run history:</h3><br/><style>\n",
       "    table.wandb td:nth-child(1) { padding: 0 10px; text-align: right }\n",
       "    </style><table class=\"wandb\">\n",
       "<tr><td>timesteps</td><td>▁▃▂▂▂▂▂▂▃▂▂▂▂▂▁▂▂▃▂▂▁▂▁▇▁▁▂▁▂█▃▁▂▂▂▂▃▂▅▃</td></tr><tr><td>averaged_timesteps</td><td>▂▅▇▃▄▅▅▄▄█▅▅▂▂▃▅▅▄▄▃▂▆▂▅▄▃▆▆▃▆▅▅▃▃▁▄▇▄▄▆</td></tr><tr><td>_runtime</td><td>▁▁▁▂▂▂▂▂▂▃▃▃▃▃▃▄▄▄▄▄▅▅▅▅▅▆▆▆▆▆▆▇▇▇▇▇▇███</td></tr><tr><td>_timestamp</td><td>▁▁▁▂▂▂▂▂▂▃▃▃▃▃▃▄▄▄▄▄▅▅▅▅▅▆▆▆▆▆▆▇▇▇▇▇▇███</td></tr><tr><td>_step</td><td>▁▁▁▂▂▂▂▂▂▃▃▃▃▃▃▄▄▄▄▄▅▅▅▅▅▅▆▆▆▆▆▆▇▇▇▇▇███</td></tr></table><br/>"
      ],
      "text/plain": [
       "<IPython.core.display.HTML object>"
      ]
     },
     "metadata": {},
     "output_type": "display_data"
    },
    {
     "data": {
      "text/html": [
       "Synced 4 W&B file(s), 0 media file(s), 0 artifact file(s) and 0 other file(s)"
      ],
      "text/plain": [
       "<IPython.core.display.HTML object>"
      ]
     },
     "metadata": {},
     "output_type": "display_data"
    },
    {
     "data": {
      "text/html": [
       "\n",
       "                    <br/>Synced <strong style=\"color:#cdcd00\">soft-sweep-2</strong>: <a href=\"https://wandb.ai/lubomirkurcak/cartpole/runs/z4vbek90\" target=\"_blank\">https://wandb.ai/lubomirkurcak/cartpole/runs/z4vbek90</a><br/>\n",
       "                "
      ],
      "text/plain": [
       "<IPython.core.display.HTML object>"
      ]
     },
     "metadata": {},
     "output_type": "display_data"
    },
    {
     "name": "stderr",
     "output_type": "stream",
     "text": [
      "wandb: Agent Starting Run: d9lnbuxs with config:\n",
      "wandb: \taction_repeat: 1\n",
      "wandb: \talpha: 1\n",
      "wandb: \tdropout_keep_p: 1\n",
      "wandb: \tepochs: 50000\n",
      "wandb: \tepsilon: 1\n",
      "wandb: \tepsilon0: 1\n",
      "wandb: \tepsilon1: 0.1\n",
      "wandb: \texploration_steps: 1000000\n",
      "wandb: \tfp_emax: 85\n",
      "wandb: \tfp_explim: CPFLOAT_EXPRANGE_TARG\n",
      "wandb: \tfp_flip: CPFLOAT_NO_SOFTERR\n",
      "wandb: \tfp_p: 0\n",
      "wandb: \tfp_precision: 20\n",
      "wandb: \tfp_round: CPFLOAT_RND_SE\n",
      "wandb: \tfp_subnormal: CPFLOAT_SUBN_USE\n",
      "wandb: \tgamma: 0.99\n",
      "wandb: \tlayer_sizes: [4, 16, 16, 16, 2]\n",
      "wandb: \tlearning_rate: 0.1\n",
      "wandb: \tminibatch_size: 32\n",
      "wandb: \tmomentum_coefficient: 0\n",
      "wandb: \treplay_start_size: 50000\n",
      "wandb: \ttarget_update_frequency: 10000\n",
      "wandb: \tweight_decay: 0.001\n",
      "wandb: wandb version 0.12.11 is available!  To upgrade, please run:\n",
      "wandb:  $ pip install wandb --upgrade\n"
     ]
    },
    {
     "data": {
      "text/html": [
       "\n",
       "                Tracking run with wandb version 0.10.21<br/>\n",
       "                Syncing run <strong style=\"color:#cdcd00\">splendid-sweep-3</strong> to <a href=\"https://wandb.ai\" target=\"_blank\">Weights & Biases</a> <a href=\"https://docs.wandb.com/integrations/jupyter.html\" target=\"_blank\">(Documentation)</a>.<br/>\n",
       "                Project page: <a href=\"https://wandb.ai/lubomirkurcak/cartpole\" target=\"_blank\">https://wandb.ai/lubomirkurcak/cartpole</a><br/>\n",
       "                Sweep page: <a href=\"https://wandb.ai/lubomirkurcak/cartpole/sweeps/g1i7wgy6\" target=\"_blank\">https://wandb.ai/lubomirkurcak/cartpole/sweeps/g1i7wgy6</a><br/>\n",
       "Run page: <a href=\"https://wandb.ai/lubomirkurcak/cartpole/runs/d9lnbuxs\" target=\"_blank\">https://wandb.ai/lubomirkurcak/cartpole/runs/d9lnbuxs</a><br/>\n",
       "                Run data is saved locally in <code>W:\\rpnn\\python\\wandb\\run-20220308_231001-d9lnbuxs</code><br/><br/>\n",
       "            "
      ],
      "text/plain": [
       "<IPython.core.display.HTML object>"
      ]
     },
     "metadata": {},
     "output_type": "display_data"
    }
   ],
   "source": [
    "sweep_id = wandb.sweep(sweep_config, project=WANDB_PROJECT)\n",
    "wandb.agent(sweep_id=sweep_id, project=WANDB_PROJECT, function=train, count=100)"
   ]
  },
  {
   "cell_type": "code",
   "execution_count": null,
   "metadata": {},
   "outputs": [],
   "source": []
  }
 ],
 "metadata": {
  "kernelspec": {
   "display_name": "Python 3",
   "language": "python",
   "name": "python3"
  },
  "language_info": {
   "codemirror_mode": {
    "name": "ipython",
    "version": 3
   },
   "file_extension": ".py",
   "mimetype": "text/x-python",
   "name": "python",
   "nbconvert_exporter": "python",
   "pygments_lexer": "ipython3",
   "version": "3.9.2"
  }
 },
 "nbformat": 4,
 "nbformat_minor": 4
}

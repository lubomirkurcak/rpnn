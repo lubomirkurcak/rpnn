{
 "cells": [
  {
   "cell_type": "code",
   "execution_count": 1,
   "metadata": {},
   "outputs": [],
   "source": [
    "import math\n",
    "import time\n",
    "import wandb\n",
    "import rpnn\n",
    "import pprint"
   ]
  },
  {
   "cell_type": "code",
   "execution_count": 2,
   "metadata": {},
   "outputs": [
    {
     "name": "stderr",
     "output_type": "stream",
     "text": [
      "wandb: Currently logged in as: lubomirkurcak (use `wandb login --relogin` to force relogin)\n"
     ]
    },
    {
     "data": {
      "text/plain": [
       "True"
      ]
     },
     "execution_count": 2,
     "metadata": {},
     "output_type": "execute_result"
    }
   ],
   "source": [
    "WANDB_PROJECT = 'matrix-factorization'\n",
    "wandb.login()"
   ]
  },
  {
   "cell_type": "code",
   "execution_count": 3,
   "metadata": {},
   "outputs": [],
   "source": [
    "# vytvorenie sweep configu (pouzivame nahodne zvolenie parametrov)\n",
    "sweep_config = {\n",
    "    'method': 'random'\n",
    "}"
   ]
  },
  {
   "cell_type": "code",
   "execution_count": 4,
   "metadata": {},
   "outputs": [],
   "source": [
    "#metric = {\n",
    "#    'name': 'loss',\n",
    "#    'goal': 'minimize'\n",
    "#}\n",
    "\n",
    "metric = {\n",
    "    'name': 'squared_error',\n",
    "    'goal': 'minimize'\n",
    "}\n",
    "\n",
    "sweep_config['metric'] = metric"
   ]
  },
  {
   "cell_type": "code",
   "execution_count": 5,
   "metadata": {},
   "outputs": [],
   "source": [
    "# diskretne parametre\n",
    "parameters_dict = {\n",
    "    'fp_subnormal': {\n",
    "        'values': ['CPFLOAT_SUBN_RND',\n",
    "                   'CPFLOAT_SUBN_USE']\n",
    "    },\n",
    "    \n",
    "    'fp_round': {\n",
    "        'values': ['CPFLOAT_RND_NA',\n",
    "                   'CPFLOAT_RND_NZ',\n",
    "                   'CPFLOAT_RND_NE',\n",
    "                   'CPFLOAT_RND_TP',\n",
    "                   'CPFLOAT_RND_TN',\n",
    "                   'CPFLOAT_RND_TZ',\n",
    "                   'CPFLOAT_RND_SP',\n",
    "                   'CPFLOAT_RND_SE',\n",
    "                   'CPFLOAT_RND_OD',\n",
    "                   'CPFLOAT_NO_RND']\n",
    "    },\n",
    "    \n",
    "    'fp_flip': {\n",
    "        'values': ['CPFLOAT_NO_SOFTERR',\n",
    "                   'CPFLOAT_SOFTERR']\n",
    "    },\n",
    "    \n",
    "    'fp_explim': {\n",
    "        'values': ['CPFLOAT_EXPRANGE_STOR',\n",
    "                   'CPFLOAT_EXPRANGE_TARG']\n",
    "    },\n",
    "}\n",
    "\n",
    "sweep_config['parameters'] = parameters_dict"
   ]
  },
  {
   "cell_type": "code",
   "execution_count": 6,
   "metadata": {},
   "outputs": [],
   "source": [
    "# konstantne parametre\n",
    "parameters_dict.update({\n",
    "    'features': {\n",
    "        'value': 15\n",
    "    },\n",
    "    'epochs': {\n",
    "        'value': 50000\n",
    "    },\n",
    "    'non_negative': {\n",
    "        'value': True\n",
    "    },\n",
    "    'learning_rate': {\n",
    "        'value': 0.001\n",
    "    },\n",
    "    'weight_decay': {\n",
    "        'value': 0.0001\n",
    "    },\n",
    "    'dropout_keep_p': {\n",
    "        'value': 1\n",
    "    },\n",
    "    'momentum_coefficient': {\n",
    "        'value': 0\n",
    "    },\n",
    "    'loss': {\n",
    "        'value': 'mean_squared_error'\n",
    "    }\n",
    "})"
   ]
  },
  {
   "cell_type": "code",
   "execution_count": 7,
   "metadata": {},
   "outputs": [
    {
     "data": {
      "text/plain": [
       "\"\\n'fp_precision': {\\n    'distribution': 'q_log_uniform',\\n    'q': 1,\\n    'min': math.log(4),\\n    'max': math.log(24),\\n},\\n\\n'fp_emax': {\\n    'distribution': 'q_log_uniform',\\n    'q': 1,\\n    'min': math.log(4),\\n    'max': math.log(127),\\n},\\n\""
      ]
     },
     "execution_count": 7,
     "metadata": {},
     "output_type": "execute_result"
    }
   ],
   "source": [
    "# spojite parametre\n",
    "parameters_dict.update({\n",
    "    'fp_p': {\n",
    "        'distribution': 'uniform',\n",
    "        'min': 0,\n",
    "        'max': 0.5\n",
    "    },\n",
    "    \n",
    "    'fp_precision': {\n",
    "        'distribution': 'q_uniform',\n",
    "        'q': 1,\n",
    "        'min': 4,\n",
    "        'max': 24,\n",
    "    },\n",
    "    \n",
    "    'fp_emax': {\n",
    "        'distribution': 'q_uniform',\n",
    "        'q': 1,\n",
    "        'min': 4,\n",
    "        'max': 127,\n",
    "    },\n",
    "})\n",
    "\n",
    "\n",
    "'''\n",
    "'fp_precision': {\n",
    "    'distribution': 'q_log_uniform',\n",
    "    'q': 1,\n",
    "    'min': math.log(4),\n",
    "    'max': math.log(24),\n",
    "},\n",
    "\n",
    "'fp_emax': {\n",
    "    'distribution': 'q_log_uniform',\n",
    "    'q': 1,\n",
    "    'min': math.log(4),\n",
    "    'max': math.log(127),\n",
    "},\n",
    "'''"
   ]
  },
  {
   "cell_type": "code",
   "execution_count": 8,
   "metadata": {},
   "outputs": [
    {
     "data": {
      "text/plain": [
       "0"
      ]
     },
     "execution_count": 8,
     "metadata": {},
     "output_type": "execute_result"
    }
   ],
   "source": [
    "rpnn.system('echo %TIME%')"
   ]
  },
  {
   "cell_type": "code",
   "execution_count": 9,
   "metadata": {},
   "outputs": [],
   "source": [
    "# trenovacia funkcia, pouzita pri volani trenovacich agentov\n",
    "def train():\n",
    "    \n",
    "    # inicialuzuj wandb a vyber config s nastavenymi hodnotami podla sweep configu\n",
    "    run = wandb.init()\n",
    "    config = run.config\n",
    "    \n",
    "    squared_error = rpnn.matrix_factorization(features=config[\"features\"],\n",
    "        epochs=config[\"epochs\"],\n",
    "        non_negative=config[\"non_negative\"],\n",
    "        learning_rate=config[\"learning_rate\"],\n",
    "        weight_decay=config[\"weight_decay\"],\n",
    "        dropout_keep_p=config[\"dropout_keep_p\"],\n",
    "        momentum_coefficient=config[\"momentum_coefficient\"],\n",
    "        fp_precision=config[\"fp_precision\"],\n",
    "        fp_emax=config[\"fp_emax\"],\n",
    "        fp_subnormal=config[\"fp_subnormal\"],\n",
    "        fp_round=config[\"fp_round\"],\n",
    "        fp_flip=config[\"fp_flip\"],\n",
    "        fp_p=config[\"fp_p\"],\n",
    "        fp_explim=config[\"fp_explim\"]\n",
    "    )\n",
    "    \n",
    "    wandb.log({'squared_error': squared_error}, commit=False, step=0)\n",
    "        \n",
    "    run.finish()\n",
    "    "
   ]
  },
  {
   "cell_type": "code",
   "execution_count": 10,
   "metadata": {
    "scrolled": true
   },
   "outputs": [
    {
     "name": "stderr",
     "output_type": "stream",
     "text": [
      "wandb: Agent Starting Run: ukha83nc with config:\n",
      "wandb: \tdropout: 0\n",
      "wandb: \tepochs: 50000\n",
      "wandb: \tfeatures: 15\n",
      "wandb: \tfp_emax: 19\n",
      "wandb: \tfp_explim: CPFLOAT_EXPRANGE_TARG\n",
      "wandb: \tfp_flip: CPFLOAT_NO_SOFTERR\n",
      "wandb: \tfp_p: 0.2451039278939232\n",
      "wandb: \tfp_precision: 14\n",
      "wandb: \tfp_round: CPFLOAT_RND_TP\n",
      "wandb: \tfp_subnormal: CPFLOAT_SUBN_USE\n",
      "wandb: \tlearning_rate: 0.001\n",
      "wandb: \tloss: mean_squared_error\n",
      "wandb: \tmomentum_coefficient: 0\n",
      "wandb: \tnon_negative: 1\n",
      "wandb: \tweight_decay: 0.0001\n",
      "wandb: wandb version 0.12.11 is available!  To upgrade, please run:\n",
      "wandb:  $ pip install wandb --upgrade\n"
     ]
    },
    {
     "data": {
      "text/html": [
       "\n",
       "                Tracking run with wandb version 0.10.21<br/>\n",
       "                Syncing run <strong style=\"color:#cdcd00\">serene-sweep-216</strong> to <a href=\"https://wandb.ai\" target=\"_blank\">Weights & Biases</a> <a href=\"https://docs.wandb.com/integrations/jupyter.html\" target=\"_blank\">(Documentation)</a>.<br/>\n",
       "                Project page: <a href=\"https://wandb.ai/lubomirkurcak/matrix-factorization\" target=\"_blank\">https://wandb.ai/lubomirkurcak/matrix-factorization</a><br/>\n",
       "                Sweep page: <a href=\"https://wandb.ai/lubomirkurcak/matrix-factorization/sweeps/jneupcgr\" target=\"_blank\">https://wandb.ai/lubomirkurcak/matrix-factorization/sweeps/jneupcgr</a><br/>\n",
       "Run page: <a href=\"https://wandb.ai/lubomirkurcak/matrix-factorization/runs/ukha83nc\" target=\"_blank\">https://wandb.ai/lubomirkurcak/matrix-factorization/runs/ukha83nc</a><br/>\n",
       "                Run data is saved locally in <code>W:\\rpnn\\python\\wandb\\run-20220305_173226-ukha83nc</code><br/><br/>\n",
       "            "
      ],
      "text/plain": [
       "<IPython.core.display.HTML object>"
      ]
     },
     "metadata": {},
     "output_type": "display_data"
    },
    {
     "data": {
      "text/html": [
       "<br/>Waiting for W&B process to finish, PID 23508<br/>Program failed with code 1.  Press ctrl-c to abort syncing."
      ],
      "text/plain": [
       "<IPython.core.display.HTML object>"
      ]
     },
     "metadata": {},
     "output_type": "display_data"
    },
    {
     "data": {
      "application/vnd.jupyter.widget-view+json": {
       "model_id": "",
       "version_major": 2,
       "version_minor": 0
      },
      "text/plain": [
       "VBox(children=(Label(value=' 0.00MB of 0.00MB uploaded (0.00MB deduped)\\r'), FloatProgress(value=1.0, max=1.0)…"
      ]
     },
     "metadata": {},
     "output_type": "display_data"
    },
    {
     "data": {
      "text/html": [
       "Find user logs for this run at: <code>W:\\rpnn\\python\\wandb\\run-20220305_173226-ukha83nc\\logs\\debug.log</code>"
      ],
      "text/plain": [
       "<IPython.core.display.HTML object>"
      ]
     },
     "metadata": {},
     "output_type": "display_data"
    },
    {
     "data": {
      "text/html": [
       "Find internal logs for this run at: <code>W:\\rpnn\\python\\wandb\\run-20220305_173226-ukha83nc\\logs\\debug-internal.log</code>"
      ],
      "text/plain": [
       "<IPython.core.display.HTML object>"
      ]
     },
     "metadata": {},
     "output_type": "display_data"
    },
    {
     "data": {
      "text/html": [
       "Synced 4 W&B file(s), 0 media file(s), 0 artifact file(s) and 0 other file(s)"
      ],
      "text/plain": [
       "<IPython.core.display.HTML object>"
      ]
     },
     "metadata": {},
     "output_type": "display_data"
    },
    {
     "data": {
      "text/html": [
       "\n",
       "                    <br/>Synced <strong style=\"color:#cdcd00\">serene-sweep-216</strong>: <a href=\"https://wandb.ai/lubomirkurcak/matrix-factorization/runs/ukha83nc\" target=\"_blank\">https://wandb.ai/lubomirkurcak/matrix-factorization/runs/ukha83nc</a><br/>\n",
       "                "
      ],
      "text/plain": [
       "<IPython.core.display.HTML object>"
      ]
     },
     "metadata": {},
     "output_type": "display_data"
    },
    {
     "name": "stderr",
     "output_type": "stream",
     "text": [
      "Run ukha83nc errored: KeyError('dropout_keep_p')\n",
      "wandb: ERROR Run ukha83nc errored: KeyError('dropout_keep_p')\n"
     ]
    }
   ],
   "source": [
    "sweep_id = wandb.sweep(sweep_config, project=WANDB_PROJECT)\n",
    "#sweep_id = \"jneupcgr\"\n",
    "\n",
    "wandb.agent(sweep_id=sweep_id, project=WANDB_PROJECT, function=train, count=1)"
   ]
  },
  {
   "cell_type": "code",
   "execution_count": null,
   "metadata": {},
   "outputs": [],
   "source": []
  }
 ],
 "metadata": {
  "kernelspec": {
   "display_name": "Python 3",
   "language": "python",
   "name": "python3"
  },
  "language_info": {
   "codemirror_mode": {
    "name": "ipython",
    "version": 3
   },
   "file_extension": ".py",
   "mimetype": "text/x-python",
   "name": "python",
   "nbconvert_exporter": "python",
   "pygments_lexer": "ipython3",
   "version": "3.9.2"
  }
 },
 "nbformat": 4,
 "nbformat_minor": 4
}

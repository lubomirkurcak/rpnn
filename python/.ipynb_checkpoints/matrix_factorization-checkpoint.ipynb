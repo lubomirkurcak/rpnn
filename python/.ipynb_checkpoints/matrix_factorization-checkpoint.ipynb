{
 "cells": [
  {
   "cell_type": "code",
   "execution_count": 1,
   "metadata": {},
   "outputs": [],
   "source": [
    "import math\n",
    "import time\n",
    "import wandb\n",
    "import spam\n",
    "import pprint"
   ]
  },
  {
   "cell_type": "code",
   "execution_count": 2,
   "metadata": {},
   "outputs": [
    {
     "name": "stderr",
     "output_type": "stream",
     "text": [
      "wandb: Currently logged in as: lubomirkurcak (use `wandb login --relogin` to force relogin)\n"
     ]
    },
    {
     "data": {
      "text/plain": [
       "True"
      ]
     },
     "execution_count": 2,
     "metadata": {},
     "output_type": "execute_result"
    }
   ],
   "source": [
    "WANDB_PROJECT = 'matrix-factorization'\n",
    "wandb.login()"
   ]
  },
  {
   "cell_type": "code",
   "execution_count": 3,
   "metadata": {},
   "outputs": [],
   "source": [
    "# vytvorenie sweep configu (pouzivame nahodne zvolenie parametrov)\n",
    "sweep_config = {\n",
    "    'method': 'random'\n",
    "}"
   ]
  },
  {
   "cell_type": "code",
   "execution_count": 4,
   "metadata": {},
   "outputs": [],
   "source": [
    "#metric = {\n",
    "#    'name': 'loss',\n",
    "#    'goal': 'minimize'\n",
    "#}\n",
    "\n",
    "metric = {\n",
    "    'name': 'squared_error',\n",
    "    'goal': 'minimize'\n",
    "}\n",
    "\n",
    "sweep_config['metric'] = metric"
   ]
  },
  {
   "cell_type": "code",
   "execution_count": 5,
   "metadata": {},
   "outputs": [],
   "source": [
    "# diskretne parametre\n",
    "parameters_dict = {\n",
    "    'fp_subnormal': {\n",
    "        'values': ['CPFLOAT_SUBN_RND',\n",
    "                   'CPFLOAT_SUBN_USE']\n",
    "    },\n",
    "    \n",
    "    'fp_round': {\n",
    "        'values': ['CPFLOAT_RND_NA',\n",
    "                   'CPFLOAT_RND_NZ',\n",
    "                   'CPFLOAT_RND_NE',\n",
    "                   'CPFLOAT_RND_TP',\n",
    "                   'CPFLOAT_RND_TN',\n",
    "                   'CPFLOAT_RND_TZ',\n",
    "                   'CPFLOAT_RND_SP',\n",
    "                   'CPFLOAT_RND_SE',\n",
    "                   'CPFLOAT_RND_OD',\n",
    "                   'CPFLOAT_NO_RND']\n",
    "    },\n",
    "    \n",
    "    'fp_flip': {\n",
    "        'values': ['CPFLOAT_NO_SOFTERR',\n",
    "                   'CPFLOAT_SOFTERR']\n",
    "    },\n",
    "    \n",
    "    'fp_explim': {\n",
    "        'values': ['CPFLOAT_EXPRANGE_STOR',\n",
    "                   'CPFLOAT_EXPRANGE_TARG']\n",
    "    },\n",
    "}\n",
    "\n",
    "sweep_config['parameters'] = parameters_dict"
   ]
  },
  {
   "cell_type": "code",
   "execution_count": 6,
   "metadata": {},
   "outputs": [],
   "source": [
    "# konstantne parametre\n",
    "parameters_dict.update({\n",
    "    'features': {\n",
    "        'value': 15\n",
    "    },\n",
    "    'epochs': {\n",
    "        'value': 50000\n",
    "    },\n",
    "    'non_negative': {\n",
    "        'value': 1\n",
    "    },\n",
    "    'learning_rate': {\n",
    "        'value': 0.001\n",
    "    },\n",
    "    'weight_decay': {\n",
    "        'value': 0.0001\n",
    "    },\n",
    "    'dropout': {\n",
    "        'value': 0\n",
    "    },\n",
    "    'momentum_coefficient': {\n",
    "        'value': 0\n",
    "    },\n",
    "    'loss': {\n",
    "        'value': 'mean_squared_error'\n",
    "    }\n",
    "})"
   ]
  },
  {
   "cell_type": "code",
   "execution_count": 7,
   "metadata": {},
   "outputs": [
    {
     "data": {
      "text/plain": [
       "\"\\n'fp_precision': {\\n    'distribution': 'q_log_uniform',\\n    'q': 1,\\n    'min': math.log(4),\\n    'max': math.log(24),\\n},\\n\\n'fp_emax': {\\n    'distribution': 'q_log_uniform',\\n    'q': 1,\\n    'min': math.log(4),\\n    'max': math.log(127),\\n},\\n\""
      ]
     },
     "execution_count": 7,
     "metadata": {},
     "output_type": "execute_result"
    }
   ],
   "source": [
    "'''\n",
    "precision\n",
    "   * @brief Bits of precision of target format.\n",
    "   *\n",
    "   * @details The maximum values allowed are 24 and 53 if the storage format is\n",
    "   * `float` or `double`, respectively.\n",
    "'''\n",
    "\n",
    "'''\n",
    "maximum exponent\n",
    "   * @brief Maximum exponent of target format.\n",
    "   *\n",
    "   * @details The maximum values allowed are 127 and 1023 if the storage format\n",
    "   * is `float` or `double`, respectively. Larger values are reduced to the\n",
    "   * maximum allowed value without warning. This field is ignored unless\n",
    "   * `explim` is set to `CPFLOAT_EXPRANGE_TARG`.   \n",
    "'''\n",
    "\n",
    "# spojite parametre\n",
    "parameters_dict.update({\n",
    "    'fp_p': {\n",
    "        'distribution': 'uniform',\n",
    "        'min': 0,\n",
    "        'max': 0.5\n",
    "    },\n",
    "    \n",
    "    'fp_precision': {\n",
    "        'distribution': 'q_uniform',\n",
    "        'q': 1,\n",
    "        'min': 4,\n",
    "        'max': 24,\n",
    "    },\n",
    "    \n",
    "    'fp_emax': {\n",
    "        'distribution': 'q_uniform',\n",
    "        'q': 1,\n",
    "        'min': 4,\n",
    "        'max': 127,\n",
    "    },\n",
    "})\n",
    "\n",
    "\n",
    "'''\n",
    "'fp_precision': {\n",
    "    'distribution': 'q_log_uniform',\n",
    "    'q': 1,\n",
    "    'min': math.log(4),\n",
    "    'max': math.log(24),\n",
    "},\n",
    "\n",
    "'fp_emax': {\n",
    "    'distribution': 'q_log_uniform',\n",
    "    'q': 1,\n",
    "    'min': math.log(4),\n",
    "    'max': math.log(127),\n",
    "},\n",
    "'''"
   ]
  },
  {
   "cell_type": "code",
   "execution_count": 8,
   "metadata": {},
   "outputs": [
    {
     "name": "stdout",
     "output_type": "stream",
     "text": [
      "{'method': 'random',\n",
      " 'metric': {'goal': 'minimize', 'name': 'squared_error'},\n",
      " 'parameters': {'dropout': {'value': 0},\n",
      "                'epochs': {'value': 50000},\n",
      "                'features': {'value': 25},\n",
      "                'fp_emax': {'distribution': 'q_uniform',\n",
      "                            'max': 127,\n",
      "                            'min': 4,\n",
      "                            'q': 1},\n",
      "                'fp_explim': {'values': ['CPFLOAT_EXPRANGE_STOR',\n",
      "                                         'CPFLOAT_EXPRANGE_TARG']},\n",
      "                'fp_flip': {'values': ['CPFLOAT_NO_SOFTERR',\n",
      "                                       'CPFLOAT_SOFTERR']},\n",
      "                'fp_p': {'distribution': 'uniform', 'max': 0.5, 'min': 0},\n",
      "                'fp_precision': {'distribution': 'q_uniform',\n",
      "                                 'max': 24,\n",
      "                                 'min': 4,\n",
      "                                 'q': 1},\n",
      "                'fp_round': {'values': ['CPFLOAT_RND_NA',\n",
      "                                        'CPFLOAT_RND_NZ',\n",
      "                                        'CPFLOAT_RND_NE',\n",
      "                                        'CPFLOAT_RND_TP',\n",
      "                                        'CPFLOAT_RND_TN',\n",
      "                                        'CPFLOAT_RND_TZ',\n",
      "                                        'CPFLOAT_RND_SP',\n",
      "                                        'CPFLOAT_RND_SE',\n",
      "                                        'CPFLOAT_RND_OD',\n",
      "                                        'CPFLOAT_NO_RND']},\n",
      "                'fp_subnormal': {'values': ['CPFLOAT_SUBN_RND',\n",
      "                                            'CPFLOAT_SUBN_USE']},\n",
      "                'learning_rate': {'value': 0.001},\n",
      "                'loss': {'value': 'mean_squared_error'},\n",
      "                'momentum_coefficient': {'value': 0},\n",
      "                'non_negative': {'value': 1},\n",
      "                'weight_decay': {'value': 0.0001}}}\n"
     ]
    }
   ],
   "source": [
    "pprint.pprint(sweep_config)"
   ]
  },
  {
   "cell_type": "code",
   "execution_count": 9,
   "metadata": {},
   "outputs": [
    {
     "data": {
      "text/plain": [
       "0"
      ]
     },
     "execution_count": 9,
     "metadata": {},
     "output_type": "execute_result"
    }
   ],
   "source": [
    "spam.system('echo %TIME%')"
   ]
  },
  {
   "cell_type": "code",
   "execution_count": 11,
   "metadata": {},
   "outputs": [],
   "source": [
    "# trenovacia funkcia, pouzita pri volani trenovacich agentov\n",
    "def train():\n",
    "    \n",
    "    # inicialuzuj wandb a vyber config s nastavenymi hodnotami podla sweep configu\n",
    "    run = wandb.init()\n",
    "    config = run.config\n",
    "    \n",
    "    squared_error = spam.matrix_factorization(features=config[\"features\"],\n",
    "        epochs=config[\"epochs\"],\n",
    "        non_negative=config[\"non_negative\"],\n",
    "        learning_rate=config[\"learning_rate\"],\n",
    "        weight_decay=config[\"weight_decay\"],\n",
    "        dropout=config[\"dropout\"],\n",
    "        momentum_coefficient=config[\"momentum_coefficient\"],\n",
    "        fp_precision=config[\"fp_precision\"],\n",
    "        fp_emax=config[\"fp_emax\"],\n",
    "        fp_subnormal=config[\"fp_subnormal\"],\n",
    "        fp_round=config[\"fp_round\"],\n",
    "        fp_flip=config[\"fp_flip\"],\n",
    "        fp_p=config[\"fp_p\"],\n",
    "        fp_explim=config[\"fp_explim\"]\n",
    "    )\n",
    "    \n",
    "    wandb.log({'squared_error': squared_error}, commit=False, step=0)\n",
    "        \n",
    "    run.finish()\n",
    "    "
   ]
  },
  {
   "cell_type": "code",
   "execution_count": 10,
   "metadata": {
    "scrolled": true
   },
   "outputs": [
    {
     "name": "stdout",
     "output_type": "stream",
     "text": [
      "Create sweep with ID: jul1kwsy\n",
      "Sweep URL: https://wandb.ai/lubomirkurcak/matrix-factorization/sweeps/jul1kwsy\n"
     ]
    }
   ],
   "source": [
    "sweep_id = wandb.sweep(sweep_config, project=WANDB_PROJECT)\n",
    "#sweep_id = \"jul1kwsy\"\n",
    "\n",
    "wandb.agent(sweep_id=sweep_id, project=WANDB_PROJECT, function=train, count=400)"
   ]
  },
  {
   "cell_type": "code",
   "execution_count": null,
   "metadata": {},
   "outputs": [],
   "source": []
  }
 ],
 "metadata": {
  "kernelspec": {
   "display_name": "Python 3",
   "language": "python",
   "name": "python3"
  },
  "language_info": {
   "codemirror_mode": {
    "name": "ipython",
    "version": 3
   },
   "file_extension": ".py",
   "mimetype": "text/x-python",
   "name": "python",
   "nbconvert_exporter": "python",
   "pygments_lexer": "ipython3",
   "version": "3.9.2"
  }
 },
 "nbformat": 4,
 "nbformat_minor": 4
}

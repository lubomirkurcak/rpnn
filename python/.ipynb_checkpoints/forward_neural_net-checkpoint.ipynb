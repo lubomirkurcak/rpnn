{
 "cells": [
  {
   "cell_type": "code",
   "execution_count": 1,
   "metadata": {},
   "outputs": [],
   "source": [
    "import math\n",
    "import time\n",
    "import wandb\n",
    "import rpnn\n",
    "import pprint"
   ]
  },
  {
   "cell_type": "code",
   "execution_count": 2,
   "metadata": {},
   "outputs": [
    {
     "data": {
      "text/plain": [
       "['__doc__',\n",
       " '__file__',\n",
       " '__loader__',\n",
       " '__name__',\n",
       " '__package__',\n",
       " '__spec__',\n",
       " 'cartpole_v0',\n",
       " 'error',\n",
       " 'matrix_factorization',\n",
       " 'mlp_classifier',\n",
       " 'reduce_precision',\n",
       " 'system']"
      ]
     },
     "execution_count": 2,
     "metadata": {},
     "output_type": "execute_result"
    }
   ],
   "source": [
    "#rpnn.reduce_precision(1.3, 8)\n",
    "dir(rpnn)"
   ]
  },
  {
   "cell_type": "code",
   "execution_count": 3,
   "metadata": {},
   "outputs": [
    {
     "name": "stdout",
     "output_type": "stream",
     "text": [
      "c:\\users\\lubko\\appdata\\local\\programs\\python\\python39\\Lib\\site-packages\n"
     ]
    }
   ],
   "source": [
    "from distutils.sysconfig import get_python_lib\n",
    "print(get_python_lib())"
   ]
  },
  {
   "cell_type": "code",
   "execution_count": 4,
   "metadata": {},
   "outputs": [
    {
     "name": "stderr",
     "output_type": "stream",
     "text": [
      "wandb: Currently logged in as: lubomirkurcak (use `wandb login --relogin` to force relogin)\n"
     ]
    },
    {
     "data": {
      "text/plain": [
       "True"
      ]
     },
     "execution_count": 4,
     "metadata": {},
     "output_type": "execute_result"
    }
   ],
   "source": [
    "WANDB_PROJECT = 'forward-neural-net'\n",
    "wandb.login()"
   ]
  },
  {
   "cell_type": "code",
   "execution_count": 5,
   "metadata": {},
   "outputs": [],
   "source": [
    "# vytvorenie sweep configu (pouzivame nahodne zvolenie parametrov)\n",
    "sweep_config = {\n",
    "    'method': 'random'\n",
    "}"
   ]
  },
  {
   "cell_type": "code",
   "execution_count": 6,
   "metadata": {},
   "outputs": [],
   "source": [
    "# metrika, chceme maximalizovat spravne klasifikacie\n",
    "metric = {\n",
    "    'name': 'correct_classifications',\n",
    "    'goal': 'maximize'\n",
    "}\n",
    "\n",
    "sweep_config['metric'] = metric"
   ]
  },
  {
   "cell_type": "code",
   "execution_count": 7,
   "metadata": {},
   "outputs": [],
   "source": [
    "# diskretne parametre\n",
    "parameters_dict = {\n",
    "    'fp_subnormal': {\n",
    "        'values': ['CPFLOAT_SUBN_RND',\n",
    "                   'CPFLOAT_SUBN_USE']\n",
    "    },\n",
    "    \n",
    "    'fp_round': {\n",
    "        'values': ['CPFLOAT_RND_NA',\n",
    "                   'CPFLOAT_RND_NZ',\n",
    "                   'CPFLOAT_RND_NE',\n",
    "                   'CPFLOAT_RND_TP',\n",
    "                   'CPFLOAT_RND_TN',\n",
    "                   'CPFLOAT_RND_TZ',\n",
    "                   'CPFLOAT_RND_SP',\n",
    "                   'CPFLOAT_RND_SE',\n",
    "                   'CPFLOAT_RND_OD',\n",
    "                   'CPFLOAT_NO_RND']\n",
    "    },\n",
    "    \n",
    "    'fp_flip': {\n",
    "        'values': ['CPFLOAT_NO_SOFTERR',\n",
    "                   'CPFLOAT_SOFTERR']\n",
    "    },\n",
    "    \n",
    "    'fp_explim': {\n",
    "        'values': ['CPFLOAT_EXPRANGE_STOR',\n",
    "                   'CPFLOAT_EXPRANGE_TARG']\n",
    "    },\n",
    "}\n",
    "\n",
    "sweep_config['parameters'] = parameters_dict"
   ]
  },
  {
   "cell_type": "code",
   "execution_count": 8,
   "metadata": {},
   "outputs": [],
   "source": [
    "# konstantne parametre\n",
    "parameters_dict.update({\n",
    "    'layer_sizes': {\n",
    "        'value': (784, 30, 10)\n",
    "    },\n",
    "    'epochs': {\n",
    "        'value': 5\n",
    "    },\n",
    "    'minibatch_size': {\n",
    "        'value': 10\n",
    "    },\n",
    "    'learning_rate': {\n",
    "        'value': 0.1\n",
    "    },\n",
    "    'weight_decay': {\n",
    "        'value': 0.0001\n",
    "    },\n",
    "    'dropout_keep_p': {\n",
    "        'value': 1\n",
    "    },\n",
    "    'momentum_coefficient': {\n",
    "        'value': 0\n",
    "    },\n",
    "    'loss': {\n",
    "        'value': 'mean_squared_error'\n",
    "    }\n",
    "})"
   ]
  },
  {
   "cell_type": "code",
   "execution_count": 9,
   "metadata": {},
   "outputs": [
    {
     "data": {
      "text/plain": [
       "\"\\n'fp_precision': {\\n    'distribution': 'q_log_uniform',\\n    'q': 1,\\n    'min': math.log(4),\\n    'max': math.log(24),\\n},\\n\\n'fp_emax': {\\n    'distribution': 'q_log_uniform',\\n    'q': 1,\\n    'min': math.log(4),\\n    'max': math.log(127),\\n},\\n\""
      ]
     },
     "execution_count": 9,
     "metadata": {},
     "output_type": "execute_result"
    }
   ],
   "source": [
    "'''\n",
    "precision\n",
    "   * @brief Bits of precision of target format.\n",
    "   *\n",
    "   * @details The maximum values allowed are 24 and 53 if the storage format is\n",
    "   * `float` or `double`, respectively.\n",
    "'''\n",
    "\n",
    "'''\n",
    "maximum exponent\n",
    "   * @brief Maximum exponent of target format.\n",
    "   *\n",
    "   * @details The maximum values allowed are 127 and 1023 if the storage format\n",
    "   * is `float` or `double`, respectively. Larger values are reduced to the\n",
    "   * maximum allowed value without warning. This field is ignored unless\n",
    "   * `explim` is set to `CPFLOAT_EXPRANGE_TARG`.   \n",
    "'''\n",
    "\n",
    "# spojite parametre\n",
    "parameters_dict.update({\n",
    "    'fp_p': {\n",
    "        'distribution': 'uniform',\n",
    "        'min': 0,\n",
    "        'max': 0.5\n",
    "    },\n",
    "    \n",
    "    'fp_precision': {\n",
    "        'distribution': 'q_uniform',\n",
    "        'q': 1,\n",
    "        'min': 4,\n",
    "        'max': 24,\n",
    "    },\n",
    "    \n",
    "    'fp_emax': {\n",
    "        'distribution': 'q_uniform',\n",
    "        'q': 1,\n",
    "        'min': 4,\n",
    "        'max': 127,\n",
    "    },\n",
    "})\n",
    "\n",
    "\n",
    "'''\n",
    "'fp_precision': {\n",
    "    'distribution': 'q_log_uniform',\n",
    "    'q': 1,\n",
    "    'min': math.log(4),\n",
    "    'max': math.log(24),\n",
    "},\n",
    "\n",
    "'fp_emax': {\n",
    "    'distribution': 'q_log_uniform',\n",
    "    'q': 1,\n",
    "    'min': math.log(4),\n",
    "    'max': math.log(127),\n",
    "},\n",
    "'''"
   ]
  },
  {
   "cell_type": "code",
   "execution_count": 10,
   "metadata": {},
   "outputs": [
    {
     "data": {
      "text/plain": [
       "0"
      ]
     },
     "execution_count": 10,
     "metadata": {},
     "output_type": "execute_result"
    }
   ],
   "source": [
    "rpnn.system('echo %TIME%')"
   ]
  },
  {
   "cell_type": "code",
   "execution_count": 11,
   "metadata": {},
   "outputs": [],
   "source": [
    "# trenovacia funkcia, pouzita pri volani trenovacich agentov\n",
    "def train():\n",
    "    \n",
    "    # inicialuzuj wandb a vyber config s nastavenymi hodnotami podla sweep configu\n",
    "    run = wandb.init()\n",
    "    config = run.config\n",
    "    \n",
    "    correct_classifications = rpnn.mlp_classifier(tuple(config[\"layer_sizes\"]),\n",
    "        epochs=config[\"epochs\"],\n",
    "        minibatch_size=config[\"minibatch_size\"],\n",
    "        learning_rate=config[\"learning_rate\"],\n",
    "        weight_decay=config[\"weight_decay\"],\n",
    "        dropout_keep_p=config[\"dropout_keep_p\"],\n",
    "        momentum_coefficient=config[\"momentum_coefficient\"],\n",
    "        fp_precision=config[\"fp_precision\"],\n",
    "        fp_emax=config[\"fp_emax\"],\n",
    "        fp_subnormal=config[\"fp_subnormal\"],\n",
    "        fp_round=config[\"fp_round\"],\n",
    "        fp_flip=config[\"fp_flip\"],\n",
    "        fp_p=config[\"fp_p\"],\n",
    "        fp_explim=config[\"fp_explim\"]\n",
    "    )\n",
    "    \n",
    "    wandb.log({'correct_classifications': correct_classifications}, commit=False, step=0)\n",
    "    \n",
    "    run.finish()\n",
    "    "
   ]
  },
  {
   "cell_type": "code",
   "execution_count": null,
   "metadata": {},
   "outputs": [
    {
     "name": "stdout",
     "output_type": "stream",
     "text": [
      "Create sweep with ID: 6dnwqm82\n",
      "Sweep URL: https://wandb.ai/lubomirkurcak/forward-neural-net/sweeps/6dnwqm82\n"
     ]
    },
    {
     "name": "stderr",
     "output_type": "stream",
     "text": [
      "wandb: Agent Starting Run: ey7ekn0u with config:\n",
      "wandb: \tdropout_keep_p: 0\n",
      "wandb: \tepochs: 5\n",
      "wandb: \tfp_emax: 88\n",
      "wandb: \tfp_explim: CPFLOAT_EXPRANGE_TARG\n",
      "wandb: \tfp_flip: CPFLOAT_NO_SOFTERR\n",
      "wandb: \tfp_p: 0.3555990891807731\n",
      "wandb: \tfp_precision: 7\n",
      "wandb: \tfp_round: CPFLOAT_RND_TP\n",
      "wandb: \tfp_subnormal: CPFLOAT_SUBN_USE\n",
      "wandb: \tlayer_sizes: [784, 30, 10]\n",
      "wandb: \tlearning_rate: 0.1\n",
      "wandb: \tloss: mean_squared_error\n",
      "wandb: \tminibatch_size: 10\n",
      "wandb: \tmomentum_coefficient: 0\n",
      "wandb: \tweight_decay: 0.0001\n",
      "wandb: wandb version 0.12.11 is available!  To upgrade, please run:\n",
      "wandb:  $ pip install wandb --upgrade\n"
     ]
    },
    {
     "data": {
      "text/html": [
       "\n",
       "                Tracking run with wandb version 0.10.21<br/>\n",
       "                Syncing run <strong style=\"color:#cdcd00\">bright-sweep-1</strong> to <a href=\"https://wandb.ai\" target=\"_blank\">Weights & Biases</a> <a href=\"https://docs.wandb.com/integrations/jupyter.html\" target=\"_blank\">(Documentation)</a>.<br/>\n",
       "                Project page: <a href=\"https://wandb.ai/lubomirkurcak/forward-neural-net\" target=\"_blank\">https://wandb.ai/lubomirkurcak/forward-neural-net</a><br/>\n",
       "                Sweep page: <a href=\"https://wandb.ai/lubomirkurcak/forward-neural-net/sweeps/6dnwqm82\" target=\"_blank\">https://wandb.ai/lubomirkurcak/forward-neural-net/sweeps/6dnwqm82</a><br/>\n",
       "Run page: <a href=\"https://wandb.ai/lubomirkurcak/forward-neural-net/runs/ey7ekn0u\" target=\"_blank\">https://wandb.ai/lubomirkurcak/forward-neural-net/runs/ey7ekn0u</a><br/>\n",
       "                Run data is saved locally in <code>W:\\rpnn\\python\\wandb\\run-20220305_173547-ey7ekn0u</code><br/><br/>\n",
       "            "
      ],
      "text/plain": [
       "<IPython.core.display.HTML object>"
      ]
     },
     "metadata": {},
     "output_type": "display_data"
    }
   ],
   "source": [
    "# inicializuj sweep pomocou konfigu (vytvori sa stranka sweepu, kde je mozne monitorovat behy a analyzovat parametre)\n",
    "sweep_id = wandb.sweep(sweep_config, project=WANDB_PROJECT)\n",
    "\n",
    "# pokracuj v existujucom sweep konfigu\n",
    "#sweep_id = \"ougquujp\"\n",
    "\n",
    "wandb.agent(sweep_id=sweep_id, project=WANDB_PROJECT, function=train, count=1)"
   ]
  }
 ],
 "metadata": {
  "kernelspec": {
   "display_name": "Python 3",
   "language": "python",
   "name": "python3"
  },
  "language_info": {
   "codemirror_mode": {
    "name": "ipython",
    "version": 3
   },
   "file_extension": ".py",
   "mimetype": "text/x-python",
   "name": "python",
   "nbconvert_exporter": "python",
   "pygments_lexer": "ipython3",
   "version": "3.9.2"
  }
 },
 "nbformat": 4,
 "nbformat_minor": 4
}

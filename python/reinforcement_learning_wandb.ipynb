{
 "cells": [
  {
   "cell_type": "code",
   "execution_count": 1,
   "metadata": {},
   "outputs": [],
   "source": [
    "import math\n",
    "import time\n",
    "import wandb\n",
    "import rpnn\n",
    "import pprint\n",
    "import gym"
   ]
  },
  {
   "cell_type": "code",
   "execution_count": 2,
   "metadata": {},
   "outputs": [
    {
     "name": "stderr",
     "output_type": "stream",
     "text": [
      "wandb: Currently logged in as: lubomirkurcak (use `wandb login --relogin` to force relogin)\n"
     ]
    },
    {
     "data": {
      "text/plain": [
       "True"
      ]
     },
     "execution_count": 2,
     "metadata": {},
     "output_type": "execute_result"
    }
   ],
   "source": [
    "WANDB_PROJECT = 'cartpole'\n",
    "wandb.login()"
   ]
  },
  {
   "cell_type": "code",
   "execution_count": 3,
   "metadata": {},
   "outputs": [],
   "source": [
    "sweep_config = {\n",
    "    'method': 'random'\n",
    "}"
   ]
  },
  {
   "cell_type": "code",
   "execution_count": 4,
   "metadata": {},
   "outputs": [],
   "source": [
    "metric = {\n",
    "    'name': 'averaged_timesteps',\n",
    "    'goal': 'maximize'\n",
    "}\n",
    "\n",
    "sweep_config['metric'] = metric\n",
    "parameters_dict = {}"
   ]
  },
  {
   "cell_type": "code",
   "execution_count": 5,
   "metadata": {},
   "outputs": [],
   "source": [
    "# numerical precision params\n",
    "parameters_dict.update({\n",
    "    'fp_precision': {\n",
    "        'distribution': 'q_uniform',\n",
    "        'q': 1,\n",
    "        'min': 4,\n",
    "        'max': 24,\n",
    "    },\n",
    "    \n",
    "    'fp_emax': {\n",
    "        'distribution': 'q_uniform',\n",
    "        'q': 1,\n",
    "        'min': 4,\n",
    "        'max': 127,\n",
    "    },\n",
    "    \n",
    "    'fp_subnormal': {\n",
    "        'value': 'CPFLOAT_SUBN_USE'\n",
    "    },\n",
    "    \n",
    "    'fp_round': {\n",
    "        'values': ['CPFLOAT_RND_SP',\n",
    "                   'CPFLOAT_RND_SE']\n",
    "    },\n",
    "    \n",
    "    'fp_flip': {\n",
    "        'value': 'CPFLOAT_NO_SOFTERR'\n",
    "    },\n",
    "    \n",
    "    'fp_explim': {\n",
    "        'value': 'CPFLOAT_EXPRANGE_TARG'\n",
    "    },\n",
    "    \n",
    "    'fp_p': {\n",
    "        'value': 0.0\n",
    "    },\n",
    "})"
   ]
  },
  {
   "cell_type": "code",
   "execution_count": 6,
   "metadata": {},
   "outputs": [],
   "source": [
    "# reinforcement learning (RL) params\n",
    "parameters_dict.update({\n",
    "    'epsilon0' : {\n",
    "        'value': 1.0\n",
    "    },\n",
    "    'epsilon1' : {\n",
    "        'value': 0.1\n",
    "    },\n",
    "    'exploration_steps' : {\n",
    "        'value': 1000000\n",
    "    },\n",
    "    'epsilon' : {\n",
    "        'value': 1.0\n",
    "    },\n",
    "    \n",
    "    'gamma' : {\n",
    "        'value': 0.99\n",
    "    },\n",
    "    'alpha' : {\n",
    "        'value': 1.0\n",
    "    },\n",
    "    \n",
    "    'target_update_frequency' : {\n",
    "        'value': 10000\n",
    "    },\n",
    "    'replay_start_size' : {\n",
    "        'value': 50000\n",
    "    },\n",
    "    \n",
    "    'action_repeat' : {\n",
    "        'value': 1\n",
    "    }\n",
    "})"
   ]
  },
  {
   "cell_type": "code",
   "execution_count": 7,
   "metadata": {},
   "outputs": [],
   "source": [
    "# neural network params\n",
    "parameters_dict.update({\n",
    "    'layer_sizes': {\n",
    "        'value': (4, 16, 16, 16, 2)\n",
    "    },\n",
    "    'epochs': {\n",
    "        'value': 50000\n",
    "    },\n",
    "    'minibatch_size': {\n",
    "        'value': 32\n",
    "    },\n",
    "    'learning_rate': {\n",
    "        'value': 0.1\n",
    "    },\n",
    "    'weight_decay': {\n",
    "        'value': 0.001\n",
    "    },\n",
    "    'dropout_keep_p': {\n",
    "        'value': 1\n",
    "    },\n",
    "    'momentum_coefficient': {\n",
    "        'value': 0\n",
    "    },\n",
    "})"
   ]
  },
  {
   "cell_type": "code",
   "execution_count": 8,
   "metadata": {},
   "outputs": [],
   "source": [
    "sweep_config['parameters'] = parameters_dict"
   ]
  },
  {
   "cell_type": "code",
   "execution_count": 9,
   "metadata": {},
   "outputs": [],
   "source": [
    "def train():\n",
    "    run = wandb.init()\n",
    "    config = run.config\n",
    "    \n",
    "    rpnn.set_precision(\n",
    "        fp_precision=config[\"fp_precision\"],\n",
    "        fp_emax=config[\"fp_emax\"],\n",
    "        fp_subnormal=config[\"fp_subnormal\"],\n",
    "        fp_round=config[\"fp_round\"],\n",
    "        fp_flip=config[\"fp_flip\"],\n",
    "        fp_p=config[\"fp_p\"],\n",
    "        fp_explim=config[\"fp_explim\"])\n",
    "    \n",
    "    rpnn.set_reinforcement_params(\n",
    "        epsilon0=config[\"epsilon0\"],\n",
    "        epsilon1=config[\"epsilon1\"],\n",
    "        exploration_steps=config[\"exploration_steps\"],\n",
    "        epsilon=config[\"epsilon\"],\n",
    "        gamma=config[\"gamma\"],\n",
    "        alpha=config[\"alpha\"],\n",
    "        target_update_frequency=config[\"target_update_frequency\"],\n",
    "        replay_start_size=config[\"replay_start_size\"],\n",
    "        action_repeat=config[\"action_repeat\"])\n",
    "    \n",
    "    rpnn.set_neuralnet_params(\n",
    "        layer_sizes=tuple(config[\"layer_sizes\"]),\n",
    "        epochs=config[\"epochs\"],\n",
    "        minibatch_size=config[\"minibatch_size\"],\n",
    "        learning_rate=config[\"learning_rate\"],\n",
    "        weight_decay=config[\"weight_decay\"],\n",
    "        dropout_keep_p=config[\"dropout_keep_p\"],\n",
    "        momentum_coefficient=config[\"momentum_coefficient\"])\n",
    "    \n",
    "    rpnn.cartpole_init()\n",
    "    \n",
    "    timesteps_left = 1000000\n",
    "    running_average = 0\n",
    "    \n",
    "    env = gym.make('CartPole-v1')\n",
    "    \n",
    "    while timesteps_left > 0:\n",
    "        observation = env.reset()\n",
    "        reward = 0\n",
    "        done = False\n",
    "        for t in range(100000):\n",
    "            action = rpnn.cartpole(observation.tolist(), reward, done, False)\n",
    "            observation, reward, done, info = env.step(action)\n",
    "\n",
    "            if done:\n",
    "                run_score = t+1\n",
    "                running_average = 0.95*running_average + 0.05*run_score\n",
    "                wandb.log({'timesteps': run_score, 'averaged_timesteps': running_average})\n",
    "                timesteps_left -= run_score\n",
    "                break\n",
    "    \n",
    "    env.close()\n",
    "    run.finish()"
   ]
  },
  {
   "cell_type": "code",
   "execution_count": null,
   "metadata": {
    "scrolled": true
   },
   "outputs": [
    {
     "name": "stdout",
     "output_type": "stream",
     "text": [
      "Create sweep with ID: yn5zfn90\n",
      "Sweep URL: https://wandb.ai/lubomirkurcak/cartpole/sweeps/yn5zfn90\n"
     ]
    },
    {
     "name": "stderr",
     "output_type": "stream",
     "text": [
      "wandb: Agent Starting Run: acnk68dt with config:\n",
      "wandb: \taction_repeat: 1\n",
      "wandb: \talpha: 1\n",
      "wandb: \tdropout_keep_p: 1\n",
      "wandb: \tepochs: 50000\n",
      "wandb: \tepsilon: 1\n",
      "wandb: \tepsilon0: 1\n",
      "wandb: \tepsilon1: 0.1\n",
      "wandb: \texploration_steps: 1000000\n",
      "wandb: \tfp_emax: 48\n",
      "wandb: \tfp_explim: CPFLOAT_EXPRANGE_TARG\n",
      "wandb: \tfp_flip: CPFLOAT_NO_SOFTERR\n",
      "wandb: \tfp_p: 0\n",
      "wandb: \tfp_precision: 11\n",
      "wandb: \tfp_round: CPFLOAT_RND_SP\n",
      "wandb: \tfp_subnormal: CPFLOAT_SUBN_USE\n",
      "wandb: \tgamma: 0.99\n",
      "wandb: \tlayer_sizes: [4, 16, 16, 16, 2]\n",
      "wandb: \tlearning_rate: 0.1\n",
      "wandb: \tminibatch_size: 32\n",
      "wandb: \tmomentum_coefficient: 0\n",
      "wandb: \treplay_start_size: 50000\n",
      "wandb: \ttarget_update_frequency: 10000\n",
      "wandb: \tweight_decay: 0.001\n",
      "wandb: wandb version 0.12.11 is available!  To upgrade, please run:\n",
      "wandb:  $ pip install wandb --upgrade\n"
     ]
    },
    {
     "data": {
      "text/html": [
       "\n",
       "                Tracking run with wandb version 0.10.21<br/>\n",
       "                Syncing run <strong style=\"color:#cdcd00\">absurd-sweep-1</strong> to <a href=\"https://wandb.ai\" target=\"_blank\">Weights & Biases</a> <a href=\"https://docs.wandb.com/integrations/jupyter.html\" target=\"_blank\">(Documentation)</a>.<br/>\n",
       "                Project page: <a href=\"https://wandb.ai/lubomirkurcak/cartpole\" target=\"_blank\">https://wandb.ai/lubomirkurcak/cartpole</a><br/>\n",
       "                Sweep page: <a href=\"https://wandb.ai/lubomirkurcak/cartpole/sweeps/yn5zfn90\" target=\"_blank\">https://wandb.ai/lubomirkurcak/cartpole/sweeps/yn5zfn90</a><br/>\n",
       "Run page: <a href=\"https://wandb.ai/lubomirkurcak/cartpole/runs/acnk68dt\" target=\"_blank\">https://wandb.ai/lubomirkurcak/cartpole/runs/acnk68dt</a><br/>\n",
       "                Run data is saved locally in <code>W:\\rpnn\\python\\wandb\\run-20220308_233111-acnk68dt</code><br/><br/>\n",
       "            "
      ],
      "text/plain": [
       "<IPython.core.display.HTML object>"
      ]
     },
     "metadata": {},
     "output_type": "display_data"
    }
   ],
   "source": [
    "sweep_id = wandb.sweep(sweep_config, project=WANDB_PROJECT)\n",
    "wandb.agent(sweep_id=sweep_id, project=WANDB_PROJECT, function=train, count=100)"
   ]
  },
  {
   "cell_type": "code",
   "execution_count": null,
   "metadata": {},
   "outputs": [],
   "source": []
  }
 ],
 "metadata": {
  "kernelspec": {
   "display_name": "Python 3",
   "language": "python",
   "name": "python3"
  },
  "language_info": {
   "codemirror_mode": {
    "name": "ipython",
    "version": 3
   },
   "file_extension": ".py",
   "mimetype": "text/x-python",
   "name": "python",
   "nbconvert_exporter": "python",
   "pygments_lexer": "ipython3",
   "version": "3.9.2"
  }
 },
 "nbformat": 4,
 "nbformat_minor": 4
}

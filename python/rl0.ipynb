{
 "cells": [
  {
   "cell_type": "code",
   "execution_count": 1,
   "metadata": {},
   "outputs": [],
   "source": [
    "import math\n",
    "import time\n",
    "import wandb\n",
    "import spam\n",
    "import pprint"
   ]
  },
  {
   "cell_type": "code",
   "execution_count": 2,
   "metadata": {},
   "outputs": [],
   "source": [
    "#spam.mlp_classifier((784, 30, 10), epochs=1)"
   ]
  },
  {
   "cell_type": "code",
   "execution_count": 3,
   "metadata": {},
   "outputs": [
    {
     "data": {
      "text/plain": [
       "['__doc__',\n",
       " '__file__',\n",
       " '__loader__',\n",
       " '__name__',\n",
       " '__package__',\n",
       " '__spec__',\n",
       " 'error',\n",
       " 'mlp_classifier',\n",
       " 'reduce_precision',\n",
       " 'system']"
      ]
     },
     "execution_count": 3,
     "metadata": {},
     "output_type": "execute_result"
    }
   ],
   "source": [
    "#spam.reduce_precision(1.3, 8)\n",
    "dir(spam)"
   ]
  },
  {
   "cell_type": "code",
   "execution_count": 4,
   "metadata": {},
   "outputs": [
    {
     "name": "stdout",
     "output_type": "stream",
     "text": [
      "c:\\users\\lubko\\appdata\\local\\programs\\python\\python39\\Lib\\site-packages\n"
     ]
    }
   ],
   "source": [
    "from distutils.sysconfig import get_python_lib\n",
    "print(get_python_lib())"
   ]
  },
  {
   "cell_type": "code",
   "execution_count": 5,
   "metadata": {},
   "outputs": [],
   "source": [
    "#import importlib\n",
    "#importlib.reload(spam)"
   ]
  },
  {
   "cell_type": "code",
   "execution_count": 6,
   "metadata": {},
   "outputs": [
    {
     "name": "stderr",
     "output_type": "stream",
     "text": [
      "wandb: Currently logged in as: lubomirkurcak (use `wandb login --relogin` to force relogin)\n"
     ]
    },
    {
     "data": {
      "text/plain": [
       "True"
      ]
     },
     "execution_count": 6,
     "metadata": {},
     "output_type": "execute_result"
    }
   ],
   "source": [
    "wandb.login()\n",
    "#wandb.init(project=\"my-test-project\")"
   ]
  },
  {
   "cell_type": "code",
   "execution_count": 7,
   "metadata": {},
   "outputs": [],
   "source": [
    "# vytvorenie sweep configu (pouzivame nahodne zvolenie parametrov)\n",
    "sweep_config = {\n",
    "    'method': 'random'\n",
    "}"
   ]
  },
  {
   "cell_type": "code",
   "execution_count": 8,
   "metadata": {},
   "outputs": [],
   "source": [
    "#metric = {\n",
    "#    'name': 'loss',\n",
    "#    'goal': 'minimize'\n",
    "#}\n",
    "\n",
    "metric = {\n",
    "    'name': 'correct_classifications',\n",
    "    'goal': 'maximize'\n",
    "}\n",
    "\n",
    "sweep_config['metric'] = metric"
   ]
  },
  {
   "cell_type": "code",
   "execution_count": 9,
   "metadata": {},
   "outputs": [],
   "source": [
    "# diskretne parametre\n",
    "parameters_dict = {\n",
    "    'fp_subnormal': {\n",
    "        'values': ['CPFLOAT_SUBN_RND',\n",
    "                   'CPFLOAT_SUBN_USE']\n",
    "    },\n",
    "    \n",
    "    'fp_round': {\n",
    "        'values': ['CPFLOAT_RND_NA',\n",
    "                   'CPFLOAT_RND_NZ',\n",
    "                   'CPFLOAT_RND_NE',\n",
    "                   'CPFLOAT_RND_TP',\n",
    "                   'CPFLOAT_RND_TN',\n",
    "                   'CPFLOAT_RND_TZ',\n",
    "                   'CPFLOAT_RND_SP',\n",
    "                   'CPFLOAT_RND_SE',\n",
    "                   'CPFLOAT_RND_OD',\n",
    "                   'CPFLOAT_NO_RND']\n",
    "    },\n",
    "    \n",
    "    'fp_flip': {\n",
    "        'values': ['CPFLOAT_NO_SOFTERR',\n",
    "                   'CPFLOAT_SOFTERR']\n",
    "    },\n",
    "    \n",
    "    'fp_explim': {\n",
    "        'values': ['CPFLOAT_EXPRANGE_STOR',\n",
    "                   'CPFLOAT_EXPRANGE_TARG']\n",
    "    },\n",
    "}\n",
    "\n",
    "sweep_config['parameters'] = parameters_dict"
   ]
  },
  {
   "cell_type": "code",
   "execution_count": 10,
   "metadata": {},
   "outputs": [],
   "source": [
    "# konstantne parametre\n",
    "parameters_dict.update({\n",
    "    'layer_sizes': {\n",
    "        'value': (784, 30, 10)\n",
    "    },\n",
    "    'epochs': {\n",
    "        'value': 5\n",
    "    },\n",
    "    'minibatch_size': {\n",
    "        'value': 10\n",
    "    },\n",
    "    'learning_rate': {\n",
    "        'value': 0.1\n",
    "    },\n",
    "    'weight_decay': {\n",
    "        'value': 0.0001\n",
    "    },\n",
    "    'dropout': {\n",
    "        'value': 0\n",
    "    },\n",
    "    'momentum_coefficient': {\n",
    "        'value': 0\n",
    "    },\n",
    "    'loss': {\n",
    "        'value': 'mean_squared_error'\n",
    "    }\n",
    "})"
   ]
  },
  {
   "cell_type": "code",
   "execution_count": 11,
   "metadata": {},
   "outputs": [
    {
     "data": {
      "text/plain": [
       "\"\\n'fp_precision': {\\n    'distribution': 'q_log_uniform',\\n    'q': 1,\\n    'min': math.log(4),\\n    'max': math.log(24),\\n},\\n\\n'fp_emax': {\\n    'distribution': 'q_log_uniform',\\n    'q': 1,\\n    'min': math.log(4),\\n    'max': math.log(127),\\n},\\n\""
      ]
     },
     "execution_count": 11,
     "metadata": {},
     "output_type": "execute_result"
    }
   ],
   "source": [
    "'''\n",
    "precision\n",
    "   * @brief Bits of precision of target format.\n",
    "   *\n",
    "   * @details The maximum values allowed are 24 and 53 if the storage format is\n",
    "   * `float` or `double`, respectively.\n",
    "'''\n",
    "\n",
    "'''\n",
    "maximum exponent\n",
    "   * @brief Maximum exponent of target format.\n",
    "   *\n",
    "   * @details The maximum values allowed are 127 and 1023 if the storage format\n",
    "   * is `float` or `double`, respectively. Larger values are reduced to the\n",
    "   * maximum allowed value without warning. This field is ignored unless\n",
    "   * `explim` is set to `CPFLOAT_EXPRANGE_TARG`.   \n",
    "'''\n",
    "\n",
    "# spojite parametre\n",
    "parameters_dict.update({\n",
    "    'fp_p': {\n",
    "        'distribution': 'uniform',\n",
    "        'min': 0,\n",
    "        'max': 0.5\n",
    "    },\n",
    "    \n",
    "    'fp_precision': {\n",
    "        'distribution': 'q_uniform',\n",
    "        'q': 1,\n",
    "        'min': 4,\n",
    "        'max': 24,\n",
    "    },\n",
    "    \n",
    "    'fp_emax': {\n",
    "        'distribution': 'q_uniform',\n",
    "        'q': 1,\n",
    "        'min': 4,\n",
    "        'max': 127,\n",
    "    },\n",
    "})\n",
    "\n",
    "\n",
    "'''\n",
    "'fp_precision': {\n",
    "    'distribution': 'q_log_uniform',\n",
    "    'q': 1,\n",
    "    'min': math.log(4),\n",
    "    'max': math.log(24),\n",
    "},\n",
    "\n",
    "'fp_emax': {\n",
    "    'distribution': 'q_log_uniform',\n",
    "    'q': 1,\n",
    "    'min': math.log(4),\n",
    "    'max': math.log(127),\n",
    "},\n",
    "'''"
   ]
  },
  {
   "cell_type": "code",
   "execution_count": 12,
   "metadata": {},
   "outputs": [
    {
     "name": "stdout",
     "output_type": "stream",
     "text": [
      "{'method': 'random',\n",
      " 'metric': {'goal': 'maximize', 'name': 'correct_classifications'},\n",
      " 'parameters': {'dropout': {'value': 0},\n",
      "                'epochs': {'value': 5},\n",
      "                'fp_emax': {'distribution': 'q_uniform',\n",
      "                            'max': 127,\n",
      "                            'min': 4,\n",
      "                            'q': 1},\n",
      "                'fp_explim': {'values': ['CPFLOAT_EXPRANGE_STOR',\n",
      "                                         'CPFLOAT_EXPRANGE_TARG']},\n",
      "                'fp_flip': {'values': ['CPFLOAT_NO_SOFTERR',\n",
      "                                       'CPFLOAT_SOFTERR']},\n",
      "                'fp_p': {'distribution': 'uniform', 'max': 0.5, 'min': 0},\n",
      "                'fp_precision': {'distribution': 'q_uniform',\n",
      "                                 'max': 24,\n",
      "                                 'min': 4,\n",
      "                                 'q': 1},\n",
      "                'fp_round': {'values': ['CPFLOAT_RND_NA',\n",
      "                                        'CPFLOAT_RND_NZ',\n",
      "                                        'CPFLOAT_RND_NE',\n",
      "                                        'CPFLOAT_RND_TP',\n",
      "                                        'CPFLOAT_RND_TN',\n",
      "                                        'CPFLOAT_RND_TZ',\n",
      "                                        'CPFLOAT_RND_SP',\n",
      "                                        'CPFLOAT_RND_SE',\n",
      "                                        'CPFLOAT_RND_OD',\n",
      "                                        'CPFLOAT_NO_RND']},\n",
      "                'fp_subnormal': {'values': ['CPFLOAT_SUBN_RND',\n",
      "                                            'CPFLOAT_SUBN_USE']},\n",
      "                'layer_sizes': {'value': (784, 30, 10)},\n",
      "                'learning_rate': {'value': 0.1},\n",
      "                'loss': {'value': 'mean_squared_error'},\n",
      "                'minibatch_size': {'value': 10},\n",
      "                'momentum_coefficient': {'value': 0},\n",
      "                'weight_decay': {'value': 0.0001}}}\n"
     ]
    }
   ],
   "source": [
    "pprint.pprint(sweep_config)"
   ]
  },
  {
   "cell_type": "code",
   "execution_count": 13,
   "metadata": {},
   "outputs": [
    {
     "data": {
      "text/plain": [
       "0"
      ]
     },
     "execution_count": 13,
     "metadata": {},
     "output_type": "execute_result"
    }
   ],
   "source": [
    "spam.system('echo %TIME%')"
   ]
  },
  {
   "cell_type": "code",
   "execution_count": 14,
   "metadata": {},
   "outputs": [
    {
     "name": "stdout",
     "output_type": "stream",
     "text": [
      "Create sweep with ID: 9zf00zig\n",
      "Sweep URL: https://wandb.ai/lubomirkurcak/my-test-project/sweeps/9zf00zig\n"
     ]
    }
   ],
   "source": [
    "# inicializuj sweep pomocou konfigu (vytvori sa stranka sweepu, kde je mozne monitorovat behy a analyzovat parametre)\n",
    "sweep_id = wandb.sweep(sweep_config, project=\"my-test-project\")"
   ]
  },
  {
   "cell_type": "code",
   "execution_count": 15,
   "metadata": {},
   "outputs": [],
   "source": [
    "# trenovacia funkcia, pouzita pri volani trenovacich agentov\n",
    "def train():\n",
    "    \n",
    "    # inicialuzuj wandb a vyber config s nastavenymi hodnotami podla sweep configu\n",
    "    run = wandb.init()\n",
    "    config = run.config\n",
    "    \n",
    "    '''\n",
    "    for dummy_epoch in range(30):\n",
    "        wandb.log({\"loss\": 0.9 ** dummy_epoch,\n",
    "                   \"accuracy\": 1 - 0.97 ** dummy_epoch}, commit=False, step=dummy_epoch)\n",
    "    '''\n",
    "    \n",
    "    correct_classifications = spam.mlp_classifier(tuple(config[\"layer_sizes\"]),\n",
    "        epochs=config[\"epochs\"],\n",
    "        minibatch_size=config[\"minibatch_size\"],\n",
    "        learning_rate=config[\"learning_rate\"],\n",
    "        weight_decay=config[\"weight_decay\"],\n",
    "        dropout=config[\"dropout\"],\n",
    "        momentum_coefficient=config[\"momentum_coefficient\"],\n",
    "        fp_precision=config[\"fp_precision\"],\n",
    "        fp_emax=config[\"fp_emax\"],\n",
    "        fp_subnormal=config[\"fp_subnormal\"],\n",
    "        fp_round=config[\"fp_round\"],\n",
    "        fp_flip=config[\"fp_flip\"],\n",
    "        fp_p=config[\"fp_p\"],\n",
    "        fp_explim=config[\"fp_explim\"]\n",
    "    )\n",
    "    \n",
    "    \n",
    "    wandb.log({'correct_classifications': correct_classifications}, commit=False, step=0)\n",
    "    \n",
    "    '''\n",
    "    print('Early accuracy stop!')\n",
    "    wandb.alert(\n",
    "        title='Early accuracy stop!', \n",
    "        text=f'Accuracy {correct/total} is above 0.7',\n",
    "        level=AlertLevel.INFO, # INFO, WARN, or ERROR \n",
    "        wait_duration=timedelta(minutes=1)\n",
    "    )\n",
    "    '''\n",
    "        \n",
    "    run.finish()\n",
    "    "
   ]
  },
  {
   "cell_type": "code",
   "execution_count": 16,
   "metadata": {},
   "outputs": [],
   "source": [
    "#spam.create_forward_net([784, 30, 10])\n",
    "#spam.create_forward_net((784, 30, 10))"
   ]
  },
  {
   "cell_type": "code",
   "execution_count": 17,
   "metadata": {},
   "outputs": [],
   "source": [
    "#wandb.agent(\"i91zir54\", project=\"my-test-project\", function=train, count=400)"
   ]
  },
  {
   "cell_type": "code",
   "execution_count": 18,
   "metadata": {
    "scrolled": true
   },
   "outputs": [
    {
     "name": "stderr",
     "output_type": "stream",
     "text": [
      "wandb: Agent Starting Run: rawcnorw with config:\n",
      "wandb: \tdropout: 0\n",
      "wandb: \tepochs: 5\n",
      "wandb: \tfp_emax: 13\n",
      "wandb: \tfp_explim: CPFLOAT_EXPRANGE_STOR\n",
      "wandb: \tfp_flip: CPFLOAT_NO_SOFTERR\n",
      "wandb: \tfp_p: 0.17930676012392943\n",
      "wandb: \tfp_precision: 20\n",
      "wandb: \tfp_round: CPFLOAT_RND_TZ\n",
      "wandb: \tfp_subnormal: CPFLOAT_SUBN_USE\n",
      "wandb: \tlayer_sizes: [784, 30, 10]\n",
      "wandb: \tlearning_rate: 0.1\n",
      "wandb: \tloss: mean_squared_error\n",
      "wandb: \tminibatch_size: 10\n",
      "wandb: \tmomentum_coefficient: 0\n",
      "wandb: \tweight_decay: 0.0001\n",
      "wandb: wandb version 0.12.10 is available!  To upgrade, please run:\n",
      "wandb:  $ pip install wandb --upgrade\n"
     ]
    },
    {
     "data": {
      "text/html": [
       "\n",
       "                Tracking run with wandb version 0.10.21<br/>\n",
       "                Syncing run <strong style=\"color:#cdcd00\">flowing-sweep-1</strong> to <a href=\"https://wandb.ai\" target=\"_blank\">Weights & Biases</a> <a href=\"https://docs.wandb.com/integrations/jupyter.html\" target=\"_blank\">(Documentation)</a>.<br/>\n",
       "                Project page: <a href=\"https://wandb.ai/lubomirkurcak/my-test-project\" target=\"_blank\">https://wandb.ai/lubomirkurcak/my-test-project</a><br/>\n",
       "                Sweep page: <a href=\"https://wandb.ai/lubomirkurcak/my-test-project/sweeps/9zf00zig\" target=\"_blank\">https://wandb.ai/lubomirkurcak/my-test-project/sweeps/9zf00zig</a><br/>\n",
       "Run page: <a href=\"https://wandb.ai/lubomirkurcak/my-test-project/runs/rawcnorw\" target=\"_blank\">https://wandb.ai/lubomirkurcak/my-test-project/runs/rawcnorw</a><br/>\n",
       "                Run data is saved locally in <code>W:\\rpnn\\python\\wandb\\run-20220228_230338-rawcnorw</code><br/><br/>\n",
       "            "
      ],
      "text/plain": [
       "<IPython.core.display.HTML object>"
      ]
     },
     "metadata": {},
     "output_type": "display_data"
    },
    {
     "name": "stdout",
     "output_type": "stream",
     "text": [
      "cpfloat_validate_optstruct returned 0\n",
      "Epoch 0/5 Batch 0/6000 Cost 2.962585 LR 0.100000\n",
      "Epoch 0/5 Batch 1024/6000 Cost 0.440806 LR 0.100000\n",
      "Epoch 0/5 Batch 2048/6000 Cost 0.144906 LR 0.100000\n",
      "Epoch 0/5 Batch 3072/6000 Cost 0.339243 LR 0.100000\n",
      "Epoch 0/5 Batch 4096/6000 Cost 0.311939 LR 0.100000\n",
      "Epoch 0/5 Batch 5120/6000 Cost 0.230707 LR 0.100000\n",
      "Epoch 0/5 Correct 8911/10000 Best 8911(0)Epoch 1/5 Batch 0/6000 Cost 0.091082 LR 0.100000\n",
      "Epoch 1/5 Batch 1024/6000 Cost 0.410295 LR 0.100000\n",
      "Epoch 1/5 Batch 2048/6000 Cost 0.089125 LR 0.100000\n",
      "Epoch 1/5 Batch 3072/6000 Cost 0.320241 LR 0.100000\n",
      "Epoch 1/5 Batch 4096/6000 Cost 0.239251 LR 0.100000\n",
      "Epoch 1/5 Batch 5120/6000 Cost 0.235762 LR 0.100000\n",
      "Epoch 1/5 Correct 9035/10000 Best 9035(0)Epoch 2/5 Batch 0/6000 Cost 0.080951 LR 0.100000\n",
      "Epoch 2/5 Batch 1024/6000 Cost 0.423651 LR 0.100000\n",
      "Epoch 2/5 Batch 2048/6000 Cost 0.076016 LR 0.100000\n",
      "Epoch 2/5 Batch 3072/6000 Cost 0.280879 LR 0.100000\n",
      "Epoch 2/5 Batch 4096/6000 Cost 0.215585 LR 0.100000\n",
      "Epoch 2/5 Batch 5120/6000 Cost 0.206798 LR 0.100000\n",
      "Epoch 2/5 Correct 9110/10000 Best 9110(0)Epoch 3/5 Batch 0/6000 Cost 0.072436 LR 0.100000\n",
      "Epoch 3/5 Batch 1024/6000 Cost 0.396742 LR 0.100000\n",
      "Epoch 3/5 Batch 2048/6000 Cost 0.053346 LR 0.100000\n",
      "Epoch 3/5 Batch 3072/6000 Cost 0.271064 LR 0.100000\n",
      "Epoch 3/5 Batch 4096/6000 Cost 0.202627 LR 0.100000\n",
      "Epoch 3/5 Batch 5120/6000 Cost 0.207593 LR 0.100000\n",
      "Epoch 3/5 Correct 9178/10000 Best 9178(0)Epoch 4/5 Batch 0/6000 Cost 0.060338 LR 0.100000\n",
      "Epoch 4/5 Batch 1024/6000 Cost 0.434007 LR 0.100000\n",
      "Epoch 4/5 Batch 2048/6000 Cost 0.044152 LR 0.100000\n",
      "Epoch 4/5 Batch 3072/6000 Cost 0.273192 LR 0.100000\n",
      "Epoch 4/5 Batch 4096/6000 Cost 0.165027 LR 0.100000\n",
      "Epoch 4/5 Batch 5120/6000 Cost 0.202572 LR 0.100000\n"
     ]
    },
    {
     "name": "stderr",
     "output_type": "stream",
     "text": [
      "wandb: Network error (SSLError), entering retry loop. See W:\\rpnn\\python\\wandb\\run-20220228_230338-rawcnorw\\logs\\debug-internal.log for full traceback.\n"
     ]
    },
    {
     "name": "stdout",
     "output_type": "stream",
     "text": [
      "Epoch 4/5 Correct 9199/10000 Best 9199(0)"
     ]
    },
    {
     "data": {
      "text/html": [
       "<br/>Waiting for W&B process to finish, PID 1124<br/>Program ended successfully."
      ],
      "text/plain": [
       "<IPython.core.display.HTML object>"
      ]
     },
     "metadata": {},
     "output_type": "display_data"
    },
    {
     "data": {
      "application/vnd.jupyter.widget-view+json": {
       "model_id": "",
       "version_major": 2,
       "version_minor": 0
      },
      "text/plain": [
       "VBox(children=(Label(value=' 0.00MB of 0.00MB uploaded (0.00MB deduped)\\r'), FloatProgress(value=1.0, max=1.0)…"
      ]
     },
     "metadata": {},
     "output_type": "display_data"
    },
    {
     "data": {
      "text/html": [
       "Find user logs for this run at: <code>W:\\rpnn\\python\\wandb\\run-20220228_230338-rawcnorw\\logs\\debug.log</code>"
      ],
      "text/plain": [
       "<IPython.core.display.HTML object>"
      ]
     },
     "metadata": {},
     "output_type": "display_data"
    },
    {
     "data": {
      "text/html": [
       "Find internal logs for this run at: <code>W:\\rpnn\\python\\wandb\\run-20220228_230338-rawcnorw\\logs\\debug-internal.log</code>"
      ],
      "text/plain": [
       "<IPython.core.display.HTML object>"
      ]
     },
     "metadata": {},
     "output_type": "display_data"
    },
    {
     "data": {
      "text/html": [
       "<h3>Run summary:</h3><br/><style>\n",
       "    table.wandb td:nth-child(1) { padding: 0 10px; text-align: right }\n",
       "    </style><table class=\"wandb\">\n",
       "<tr><td>correct_classifications</td><td>9199</td></tr><tr><td>_runtime</td><td>244</td></tr><tr><td>_timestamp</td><td>1646086062</td></tr><tr><td>_step</td><td>0</td></tr></table>"
      ],
      "text/plain": [
       "<IPython.core.display.HTML object>"
      ]
     },
     "metadata": {},
     "output_type": "display_data"
    },
    {
     "data": {
      "text/html": [
       "<h3>Run history:</h3><br/><style>\n",
       "    table.wandb td:nth-child(1) { padding: 0 10px; text-align: right }\n",
       "    </style><table class=\"wandb\">\n",
       "<tr><td>correct_classifications</td><td>▁</td></tr><tr><td>_runtime</td><td>▁</td></tr><tr><td>_timestamp</td><td>▁</td></tr><tr><td>_step</td><td>▁</td></tr></table><br/>"
      ],
      "text/plain": [
       "<IPython.core.display.HTML object>"
      ]
     },
     "metadata": {},
     "output_type": "display_data"
    },
    {
     "data": {
      "text/html": [
       "Synced 5 W&B file(s), 0 media file(s), 0 artifact file(s) and 0 other file(s)"
      ],
      "text/plain": [
       "<IPython.core.display.HTML object>"
      ]
     },
     "metadata": {},
     "output_type": "display_data"
    },
    {
     "data": {
      "text/html": [
       "\n",
       "                    <br/>Synced <strong style=\"color:#cdcd00\">flowing-sweep-1</strong>: <a href=\"https://wandb.ai/lubomirkurcak/my-test-project/runs/rawcnorw\" target=\"_blank\">https://wandb.ai/lubomirkurcak/my-test-project/runs/rawcnorw</a><br/>\n",
       "                "
      ],
      "text/plain": [
       "<IPython.core.display.HTML object>"
      ]
     },
     "metadata": {},
     "output_type": "display_data"
    },
    {
     "name": "stderr",
     "output_type": "stream",
     "text": [
      "wandb: Network error resolved after 0:03:58.269146, resuming normal operation.\n",
      "wandb: Agent Starting Run: ijsjdn0a with config:\n",
      "wandb: \tdropout: 0\n",
      "wandb: \tepochs: 5\n",
      "wandb: \tfp_emax: 106\n",
      "wandb: \tfp_explim: CPFLOAT_EXPRANGE_TARG\n",
      "wandb: \tfp_flip: CPFLOAT_SOFTERR\n",
      "wandb: \tfp_p: 0.4232608404034026\n",
      "wandb: \tfp_precision: 11\n",
      "wandb: \tfp_round: CPFLOAT_RND_TZ\n",
      "wandb: \tfp_subnormal: CPFLOAT_SUBN_USE\n",
      "wandb: \tlayer_sizes: [784, 30, 10]\n",
      "wandb: \tlearning_rate: 0.1\n",
      "wandb: \tloss: mean_squared_error\n",
      "wandb: \tminibatch_size: 10\n",
      "wandb: \tmomentum_coefficient: 0\n",
      "wandb: \tweight_decay: 0.0001\n",
      "wandb: wandb version 0.12.10 is available!  To upgrade, please run:\n",
      "wandb:  $ pip install wandb --upgrade\n"
     ]
    },
    {
     "data": {
      "text/html": [
       "\n",
       "                Tracking run with wandb version 0.10.21<br/>\n",
       "                Syncing run <strong style=\"color:#cdcd00\">rose-sweep-2</strong> to <a href=\"https://wandb.ai\" target=\"_blank\">Weights & Biases</a> <a href=\"https://docs.wandb.com/integrations/jupyter.html\" target=\"_blank\">(Documentation)</a>.<br/>\n",
       "                Project page: <a href=\"https://wandb.ai/lubomirkurcak/my-test-project\" target=\"_blank\">https://wandb.ai/lubomirkurcak/my-test-project</a><br/>\n",
       "                Sweep page: <a href=\"https://wandb.ai/lubomirkurcak/my-test-project/sweeps/9zf00zig\" target=\"_blank\">https://wandb.ai/lubomirkurcak/my-test-project/sweeps/9zf00zig</a><br/>\n",
       "Run page: <a href=\"https://wandb.ai/lubomirkurcak/my-test-project/runs/ijsjdn0a\" target=\"_blank\">https://wandb.ai/lubomirkurcak/my-test-project/runs/ijsjdn0a</a><br/>\n",
       "                Run data is saved locally in <code>W:\\rpnn\\python\\wandb\\run-20220228_230747-ijsjdn0a</code><br/><br/>\n",
       "            "
      ],
      "text/plain": [
       "<IPython.core.display.HTML object>"
      ]
     },
     "metadata": {},
     "output_type": "display_data"
    },
    {
     "name": "stdout",
     "output_type": "stream",
     "text": [
      "cpfloat_validate_optstruct returned 0\n",
      "Epoch 0/5 Batch 0/6000 Cost 3.352559 LR 0.100000\n",
      "Epoch 0/5 Batch 1024/6000 Cost 0.354798 LR 0.100000\n",
      "Epoch 0/5 Batch 2048/6000 Cost 0.156883 LR 0.100000\n",
      "Epoch 0/5 Batch 3072/6000 Cost 0.382306 LR 0.100000\n",
      "Epoch 0/5 Batch 4096/6000 Cost 0.275959 LR 0.100000\n",
      "Epoch 0/5 Batch 5120/6000 Cost 0.316326 LR 0.100000\n",
      "Epoch 0/5 Correct 8607/10000 Best 8607(0)Epoch 1/5 Batch 0/6000 Cost 0.149037 LR 0.100000\n",
      "Epoch 1/5 Batch 1024/6000 Cost 0.296515 LR 0.100000\n",
      "Epoch 1/5 Batch 2048/6000 Cost 0.140518 LR 0.100000\n",
      "Epoch 1/5 Batch 3072/6000 Cost 0.365844 LR 0.100000\n",
      "Epoch 1/5 Batch 4096/6000 Cost 0.284159 LR 0.100000\n",
      "Epoch 1/5 Batch 5120/6000 Cost 0.320088 LR 0.100000\n",
      "Epoch 1/5 Correct 8616/10000 Best 8616(0)Epoch 2/5 Batch 0/6000 Cost 0.148936 LR 0.100000\n",
      "Epoch 2/5 Batch 1024/6000 Cost 0.302968 LR 0.100000\n",
      "Epoch 2/5 Batch 2048/6000 Cost 0.141113 LR 0.100000\n",
      "Epoch 2/5 Batch 3072/6000 Cost 0.365654 LR 0.100000\n",
      "Epoch 2/5 Batch 4096/6000 Cost 0.285698 LR 0.100000\n",
      "Epoch 2/5 Batch 5120/6000 Cost 0.322041 LR 0.100000\n",
      "Epoch 2/5 Correct 8621/10000 Best 8621(0)Epoch 3/5 Batch 0/6000 Cost 0.147758 LR 0.100000\n",
      "Epoch 3/5 Batch 1024/6000 Cost 0.306055 LR 0.100000\n",
      "Epoch 3/5 Batch 2048/6000 Cost 0.143205 LR 0.100000\n"
     ]
    },
    {
     "name": "stderr",
     "output_type": "stream",
     "text": [
      "wandb: Network error (SSLError), entering retry loop. See W:\\rpnn\\python\\wandb\\run-20220228_230747-ijsjdn0a\\logs\\debug-internal.log for full traceback.\n"
     ]
    },
    {
     "name": "stdout",
     "output_type": "stream",
     "text": [
      "Epoch 3/5 Batch 3072/6000 Cost 0.360361 LR 0.100000\n",
      "Epoch 3/5 Batch 4096/6000 Cost 0.285522 LR 0.100000\n",
      "Epoch 3/5 Batch 5120/6000 Cost 0.305485 LR 0.100000\n",
      "Epoch 3/5 Correct 8612/10000 Best 8621(1)Epoch 4/5 Batch 0/6000 Cost 0.146110 LR 0.100000\n",
      "Epoch 4/5 Batch 1024/6000 Cost 0.301175 LR 0.100000\n",
      "Epoch 4/5 Batch 2048/6000 Cost 0.141607 LR 0.100000\n",
      "Epoch 4/5 Batch 3072/6000 Cost 0.362563 LR 0.100000\n",
      "Epoch 4/5 Batch 4096/6000 Cost 0.282871 LR 0.100000\n",
      "Epoch 4/5 Batch 5120/6000 Cost 0.303081 LR 0.100000\n",
      "Epoch 4/5 Correct 8615/10000 Best 8621(2)"
     ]
    },
    {
     "data": {
      "text/html": [
       "<br/>Waiting for W&B process to finish, PID 23676<br/>Program ended successfully."
      ],
      "text/plain": [
       "<IPython.core.display.HTML object>"
      ]
     },
     "metadata": {},
     "output_type": "display_data"
    },
    {
     "data": {
      "application/vnd.jupyter.widget-view+json": {
       "model_id": "",
       "version_major": 2,
       "version_minor": 0
      },
      "text/plain": [
       "VBox(children=(Label(value=' 0.00MB of 0.00MB uploaded (0.00MB deduped)\\r'), FloatProgress(value=1.0, max=1.0)…"
      ]
     },
     "metadata": {},
     "output_type": "display_data"
    },
    {
     "data": {
      "text/html": [
       "Find user logs for this run at: <code>W:\\rpnn\\python\\wandb\\run-20220228_230747-ijsjdn0a\\logs\\debug.log</code>"
      ],
      "text/plain": [
       "<IPython.core.display.HTML object>"
      ]
     },
     "metadata": {},
     "output_type": "display_data"
    },
    {
     "data": {
      "text/html": [
       "Find internal logs for this run at: <code>W:\\rpnn\\python\\wandb\\run-20220228_230747-ijsjdn0a\\logs\\debug-internal.log</code>"
      ],
      "text/plain": [
       "<IPython.core.display.HTML object>"
      ]
     },
     "metadata": {},
     "output_type": "display_data"
    },
    {
     "data": {
      "text/html": [
       "<h3>Run summary:</h3><br/><style>\n",
       "    table.wandb td:nth-child(1) { padding: 0 10px; text-align: right }\n",
       "    </style><table class=\"wandb\">\n",
       "<tr><td>correct_classifications</td><td>8615</td></tr><tr><td>_runtime</td><td>720</td></tr><tr><td>_timestamp</td><td>1646086787</td></tr><tr><td>_step</td><td>0</td></tr></table>"
      ],
      "text/plain": [
       "<IPython.core.display.HTML object>"
      ]
     },
     "metadata": {},
     "output_type": "display_data"
    },
    {
     "data": {
      "text/html": [
       "<h3>Run history:</h3><br/><style>\n",
       "    table.wandb td:nth-child(1) { padding: 0 10px; text-align: right }\n",
       "    </style><table class=\"wandb\">\n",
       "<tr><td>correct_classifications</td><td>▁</td></tr><tr><td>_runtime</td><td>▁</td></tr><tr><td>_timestamp</td><td>▁</td></tr><tr><td>_step</td><td>▁</td></tr></table><br/>"
      ],
      "text/plain": [
       "<IPython.core.display.HTML object>"
      ]
     },
     "metadata": {},
     "output_type": "display_data"
    },
    {
     "data": {
      "text/html": [
       "Synced 5 W&B file(s), 0 media file(s), 0 artifact file(s) and 0 other file(s)"
      ],
      "text/plain": [
       "<IPython.core.display.HTML object>"
      ]
     },
     "metadata": {},
     "output_type": "display_data"
    },
    {
     "data": {
      "text/html": [
       "\n",
       "                    <br/>Synced <strong style=\"color:#cdcd00\">rose-sweep-2</strong>: <a href=\"https://wandb.ai/lubomirkurcak/my-test-project/runs/ijsjdn0a\" target=\"_blank\">https://wandb.ai/lubomirkurcak/my-test-project/runs/ijsjdn0a</a><br/>\n",
       "                "
      ],
      "text/plain": [
       "<IPython.core.display.HTML object>"
      ]
     },
     "metadata": {},
     "output_type": "display_data"
    },
    {
     "name": "stderr",
     "output_type": "stream",
     "text": [
      "wandb: Sweep Agent: Waiting for job.\n",
      "wandb: Network error resolved after 0:11:42.664132, resuming normal operation.\n",
      "wandb: Job received.\n",
      "wandb: Agent Starting Run: or9qa8gu with config:\n",
      "wandb: \tdropout: 0\n",
      "wandb: \tepochs: 5\n",
      "wandb: \tfp_emax: 72\n",
      "wandb: \tfp_explim: CPFLOAT_EXPRANGE_TARG\n",
      "wandb: \tfp_flip: CPFLOAT_SOFTERR\n",
      "wandb: \tfp_p: 0.27952264023790857\n",
      "wandb: \tfp_precision: 23\n",
      "wandb: \tfp_round: CPFLOAT_NO_RND\n",
      "wandb: \tfp_subnormal: CPFLOAT_SUBN_RND\n",
      "wandb: \tlayer_sizes: [784, 30, 10]\n",
      "wandb: \tlearning_rate: 0.1\n",
      "wandb: \tloss: mean_squared_error\n",
      "wandb: \tminibatch_size: 10\n",
      "wandb: \tmomentum_coefficient: 0\n",
      "wandb: \tweight_decay: 0.0001\n",
      "wandb: wandb version 0.12.10 is available!  To upgrade, please run:\n",
      "wandb:  $ pip install wandb --upgrade\n"
     ]
    },
    {
     "data": {
      "text/html": [
       "\n",
       "                Tracking run with wandb version 0.10.21<br/>\n",
       "                Syncing run <strong style=\"color:#cdcd00\">dazzling-sweep-3</strong> to <a href=\"https://wandb.ai\" target=\"_blank\">Weights & Biases</a> <a href=\"https://docs.wandb.com/integrations/jupyter.html\" target=\"_blank\">(Documentation)</a>.<br/>\n",
       "                Project page: <a href=\"https://wandb.ai/lubomirkurcak/my-test-project\" target=\"_blank\">https://wandb.ai/lubomirkurcak/my-test-project</a><br/>\n",
       "                Sweep page: <a href=\"https://wandb.ai/lubomirkurcak/my-test-project/sweeps/9zf00zig\" target=\"_blank\">https://wandb.ai/lubomirkurcak/my-test-project/sweeps/9zf00zig</a><br/>\n",
       "Run page: <a href=\"https://wandb.ai/lubomirkurcak/my-test-project/runs/or9qa8gu\" target=\"_blank\">https://wandb.ai/lubomirkurcak/my-test-project/runs/or9qa8gu</a><br/>\n",
       "                Run data is saved locally in <code>W:\\rpnn\\python\\wandb\\run-20220228_232001-or9qa8gu</code><br/><br/>\n",
       "            "
      ],
      "text/plain": [
       "<IPython.core.display.HTML object>"
      ]
     },
     "metadata": {},
     "output_type": "display_data"
    },
    {
     "name": "stdout",
     "output_type": "stream",
     "text": [
      "cpfloat_validate_optstruct returned -4\n",
      "Epoch 0/5 Batch 0/6000 Cost 2.261329 LR 0.100000\n",
      "Epoch 0/5 Batch 1024/6000 Cost 0.382427 LR 0.100000\n",
      "Epoch 0/5 Batch 2048/6000 Cost 0.131179 LR 0.100000\n",
      "Epoch 0/5 Batch 3072/6000 Cost 0.343337 LR 0.100000\n",
      "Epoch 0/5 Batch 4096/6000 Cost 0.343439 LR 0.100000\n",
      "Epoch 0/5 Batch 5120/6000 Cost 0.218943 LR 0.100000\n",
      "Epoch 0/5 Correct 8959/10000 Best 8959(0)Epoch 1/5 Batch 0/6000 Cost 0.103607 LR 0.100000\n",
      "Epoch 1/5 Batch 1024/6000 Cost 0.340097 LR 0.100000\n",
      "Epoch 1/5 Batch 2048/6000 Cost 0.110210 LR 0.100000\n",
      "Epoch 1/5 Batch 3072/6000 Cost 0.320216 LR 0.100000\n",
      "Epoch 1/5 Batch 4096/6000 Cost 0.281694 LR 0.100000\n",
      "Epoch 1/5 Batch 5120/6000 Cost 0.166819 LR 0.100000\n",
      "Epoch 1/5 Correct 9082/10000 Best 9082(0)Epoch 2/5 Batch 0/6000 Cost 0.090710 LR 0.100000\n",
      "Epoch 2/5 Batch 1024/6000 Cost 0.363330 LR 0.100000\n",
      "Epoch 2/5 Batch 2048/6000 Cost 0.102027 LR 0.100000\n",
      "Epoch 2/5 Batch 3072/6000 Cost 0.275790 LR 0.100000\n",
      "Epoch 2/5 Batch 4096/6000 Cost 0.233295 LR 0.100000\n",
      "Epoch 2/5 Batch 5120/6000 Cost 0.174896 LR 0.100000\n",
      "Epoch 2/5 Correct 9193/10000 Best 9193(0)Epoch 3/5 Batch 0/6000 Cost 0.075383 LR 0.100000\n",
      "Epoch 3/5 Batch 1024/6000 Cost 0.376172 LR 0.100000\n",
      "Epoch 3/5 Batch 2048/6000 Cost 0.091835 LR 0.100000\n",
      "Epoch 3/5 Batch 3072/6000 Cost 0.242569 LR 0.100000\n",
      "Epoch 3/5 Batch 4096/6000 Cost 0.226200 LR 0.100000\n",
      "Epoch 3/5 Batch 5120/6000 Cost 0.149065 LR 0.100000\n"
     ]
    },
    {
     "name": "stderr",
     "output_type": "stream",
     "text": [
      "wandb: Network error (SSLError), entering retry loop. See W:\\rpnn\\python\\wandb\\run-20220228_232001-or9qa8gu\\logs\\debug-internal.log for full traceback.\n"
     ]
    },
    {
     "name": "stdout",
     "output_type": "stream",
     "text": [
      "Epoch 3/5 Correct 9226/10000 Best 9226(0)Epoch 4/5 Batch 0/6000 Cost 0.062798 LR 0.100000\n",
      "Epoch 4/5 Batch 1024/6000 Cost 0.375086 LR 0.100000\n",
      "Epoch 4/5 Batch 2048/6000 Cost 0.091248 LR 0.100000\n",
      "Epoch 4/5 Batch 3072/6000 Cost 0.245114 LR 0.100000\n",
      "Epoch 4/5 Batch 4096/6000 Cost 0.212992 LR 0.100000\n",
      "Epoch 4/5 Batch 5120/6000 Cost 0.142316 LR 0.100000\n",
      "Epoch 4/5 Correct 9239/10000 Best 9239(0)"
     ]
    },
    {
     "data": {
      "text/html": [
       "<br/>Waiting for W&B process to finish, PID 8024<br/>Program ended successfully."
      ],
      "text/plain": [
       "<IPython.core.display.HTML object>"
      ]
     },
     "metadata": {},
     "output_type": "display_data"
    },
    {
     "name": "stderr",
     "output_type": "stream",
     "text": [
      "wandb: Network error resolved after 0:10:25.761949, resuming normal operation.\n"
     ]
    },
    {
     "data": {
      "application/vnd.jupyter.widget-view+json": {
       "model_id": "",
       "version_major": 2,
       "version_minor": 0
      },
      "text/plain": [
       "VBox(children=(Label(value=' 0.00MB of 0.00MB uploaded (0.00MB deduped)\\r'), FloatProgress(value=1.0, max=1.0)…"
      ]
     },
     "metadata": {},
     "output_type": "display_data"
    },
    {
     "data": {
      "text/html": [
       "Find user logs for this run at: <code>W:\\rpnn\\python\\wandb\\run-20220228_232001-or9qa8gu\\logs\\debug.log</code>"
      ],
      "text/plain": [
       "<IPython.core.display.HTML object>"
      ]
     },
     "metadata": {},
     "output_type": "display_data"
    },
    {
     "data": {
      "text/html": [
       "Find internal logs for this run at: <code>W:\\rpnn\\python\\wandb\\run-20220228_232001-or9qa8gu\\logs\\debug-internal.log</code>"
      ],
      "text/plain": [
       "<IPython.core.display.HTML object>"
      ]
     },
     "metadata": {},
     "output_type": "display_data"
    },
    {
     "data": {
      "text/html": [
       "<h3>Run summary:</h3><br/><style>\n",
       "    table.wandb td:nth-child(1) { padding: 0 10px; text-align: right }\n",
       "    </style><table class=\"wandb\">\n",
       "<tr><td>correct_classifications</td><td>9239</td></tr><tr><td>_runtime</td><td>649</td></tr><tr><td>_timestamp</td><td>1646087450</td></tr><tr><td>_step</td><td>0</td></tr></table>"
      ],
      "text/plain": [
       "<IPython.core.display.HTML object>"
      ]
     },
     "metadata": {},
     "output_type": "display_data"
    },
    {
     "data": {
      "text/html": [
       "<h3>Run history:</h3><br/><style>\n",
       "    table.wandb td:nth-child(1) { padding: 0 10px; text-align: right }\n",
       "    </style><table class=\"wandb\">\n",
       "<tr><td>correct_classifications</td><td>▁</td></tr><tr><td>_runtime</td><td>▁</td></tr><tr><td>_timestamp</td><td>▁</td></tr><tr><td>_step</td><td>▁</td></tr></table><br/>"
      ],
      "text/plain": [
       "<IPython.core.display.HTML object>"
      ]
     },
     "metadata": {},
     "output_type": "display_data"
    },
    {
     "data": {
      "text/html": [
       "Synced 5 W&B file(s), 0 media file(s), 0 artifact file(s) and 0 other file(s)"
      ],
      "text/plain": [
       "<IPython.core.display.HTML object>"
      ]
     },
     "metadata": {},
     "output_type": "display_data"
    },
    {
     "data": {
      "text/html": [
       "\n",
       "                    <br/>Synced <strong style=\"color:#cdcd00\">dazzling-sweep-3</strong>: <a href=\"https://wandb.ai/lubomirkurcak/my-test-project/runs/or9qa8gu\" target=\"_blank\">https://wandb.ai/lubomirkurcak/my-test-project/runs/or9qa8gu</a><br/>\n",
       "                "
      ],
      "text/plain": [
       "<IPython.core.display.HTML object>"
      ]
     },
     "metadata": {},
     "output_type": "display_data"
    },
    {
     "name": "stderr",
     "output_type": "stream",
     "text": [
      "wandb: Agent Starting Run: o0spfflw with config:\n",
      "wandb: \tdropout: 0\n",
      "wandb: \tepochs: 5\n",
      "wandb: \tfp_emax: 13\n",
      "wandb: \tfp_explim: CPFLOAT_EXPRANGE_STOR\n",
      "wandb: \tfp_flip: CPFLOAT_SOFTERR\n",
      "wandb: \tfp_p: 0.02068955972933062\n",
      "wandb: \tfp_precision: 18\n",
      "wandb: \tfp_round: CPFLOAT_RND_TZ\n",
      "wandb: \tfp_subnormal: CPFLOAT_SUBN_USE\n",
      "wandb: \tlayer_sizes: [784, 30, 10]\n",
      "wandb: \tlearning_rate: 0.1\n",
      "wandb: \tloss: mean_squared_error\n",
      "wandb: \tminibatch_size: 10\n",
      "wandb: \tmomentum_coefficient: 0\n",
      "wandb: \tweight_decay: 0.0001\n",
      "wandb: wandb version 0.12.10 is available!  To upgrade, please run:\n",
      "wandb:  $ pip install wandb --upgrade\n"
     ]
    },
    {
     "data": {
      "text/html": [
       "\n",
       "                Tracking run with wandb version 0.10.21<br/>\n",
       "                Syncing run <strong style=\"color:#cdcd00\">usual-sweep-4</strong> to <a href=\"https://wandb.ai\" target=\"_blank\">Weights & Biases</a> <a href=\"https://docs.wandb.com/integrations/jupyter.html\" target=\"_blank\">(Documentation)</a>.<br/>\n",
       "                Project page: <a href=\"https://wandb.ai/lubomirkurcak/my-test-project\" target=\"_blank\">https://wandb.ai/lubomirkurcak/my-test-project</a><br/>\n",
       "                Sweep page: <a href=\"https://wandb.ai/lubomirkurcak/my-test-project/sweeps/9zf00zig\" target=\"_blank\">https://wandb.ai/lubomirkurcak/my-test-project/sweeps/9zf00zig</a><br/>\n",
       "Run page: <a href=\"https://wandb.ai/lubomirkurcak/my-test-project/runs/o0spfflw\" target=\"_blank\">https://wandb.ai/lubomirkurcak/my-test-project/runs/o0spfflw</a><br/>\n",
       "                Run data is saved locally in <code>W:\\rpnn\\python\\wandb\\run-20220228_233055-o0spfflw</code><br/><br/>\n",
       "            "
      ],
      "text/plain": [
       "<IPython.core.display.HTML object>"
      ]
     },
     "metadata": {},
     "output_type": "display_data"
    },
    {
     "name": "stdout",
     "output_type": "stream",
     "text": [
      "cpfloat_validate_optstruct returned 0\n",
      "Epoch 0/5 Batch 0/6000 Cost 3.573412 LR 0.100000\n",
      "Epoch 0/5 Batch 1024/6000 Cost 0.474264 LR 0.100000\n",
      "Epoch 0/5 Batch 2048/6000 Cost 0.131969 LR 0.100000\n",
      "Epoch 0/5 Batch 3072/6000 Cost 0.399202 LR 0.100000\n",
      "Epoch 0/5 Batch 4096/6000 Cost 0.418867 LR 0.100000\n",
      "Epoch 0/5 Batch 5120/6000 Cost 0.345642 LR 0.100000\n",
      "Epoch 0/5 Correct 8237/10000 Best 8237(0)Epoch 1/5 Batch 0/6000 Cost 0.190224 LR 0.100000\n",
      "Epoch 1/5 Batch 1024/6000 Cost 0.411175 LR 0.100000\n",
      "Epoch 1/5 Batch 2048/6000 Cost 0.095686 LR 0.100000\n",
      "Epoch 1/5 Batch 3072/6000 Cost 0.332063 LR 0.100000\n",
      "Epoch 1/5 Batch 4096/6000 Cost 0.311516 LR 0.100000\n",
      "Epoch 1/5 Batch 5120/6000 Cost 0.284581 LR 0.100000\n",
      "Epoch 1/5 Correct 8798/10000 Best 8798(0)Epoch 2/5 Batch 0/6000 Cost 0.116325 LR 0.100000\n",
      "Epoch 2/5 Batch 1024/6000 Cost 0.383890 LR 0.100000\n",
      "Epoch 2/5 Batch 2048/6000 Cost 0.082288 LR 0.100000\n",
      "Epoch 2/5 Batch 3072/6000 Cost 0.318543 LR 0.100000\n",
      "Epoch 2/5 Batch 4096/6000 Cost 0.267060 LR 0.100000\n",
      "Epoch 2/5 Batch 5120/6000 Cost 0.244875 LR 0.100000\n",
      "Epoch 2/5 Correct 9031/10000 Best 9031(0)Epoch 3/5 Batch 0/6000 Cost 0.072465 LR 0.100000\n",
      "Epoch 3/5 Batch 1024/6000 Cost 0.314496 LR 0.100000\n",
      "Epoch 3/5 Batch 2048/6000 Cost 0.080427 LR 0.100000\n",
      "Epoch 3/5 Batch 3072/6000 Cost 0.317382 LR 0.100000\n",
      "Epoch 3/5 Batch 4096/6000 Cost 0.262659 LR 0.100000\n",
      "Epoch 3/5 Batch 5120/6000 Cost 0.211801 LR 0.100000\n",
      "Epoch 3/5 Correct 9073/10000 Best 9073(0)Epoch 4/5 Batch 0/6000 Cost 0.070682 LR 0.100000\n"
     ]
    },
    {
     "name": "stderr",
     "output_type": "stream",
     "text": [
      "wandb: Network error (SSLError), entering retry loop. See W:\\rpnn\\python\\wandb\\run-20220228_233055-o0spfflw\\logs\\debug-internal.log for full traceback.\n"
     ]
    },
    {
     "name": "stdout",
     "output_type": "stream",
     "text": [
      "Epoch 4/5 Batch 1024/6000 Cost 0.315740 LR 0.100000\n",
      "Epoch 4/5 Batch 2048/6000 Cost 0.079891 LR 0.100000\n",
      "Epoch 4/5 Batch 3072/6000 Cost 0.306751 LR 0.100000\n",
      "Epoch 4/5 Batch 4096/6000 Cost 0.251749 LR 0.100000\n",
      "Epoch 4/5 Batch 5120/6000 Cost 0.179256 LR 0.100000\n",
      "Epoch 4/5 Correct 9107/10000 Best 9107(0)"
     ]
    },
    {
     "data": {
      "text/html": [
       "<br/>Waiting for W&B process to finish, PID 23152<br/>Program ended successfully."
      ],
      "text/plain": [
       "<IPython.core.display.HTML object>"
      ]
     },
     "metadata": {},
     "output_type": "display_data"
    },
    {
     "data": {
      "application/vnd.jupyter.widget-view+json": {
       "model_id": "",
       "version_major": 2,
       "version_minor": 0
      },
      "text/plain": [
       "VBox(children=(Label(value=' 0.00MB of 0.00MB uploaded (0.00MB deduped)\\r'), FloatProgress(value=1.0, max=1.0)…"
      ]
     },
     "metadata": {},
     "output_type": "display_data"
    },
    {
     "data": {
      "text/html": [
       "Find user logs for this run at: <code>W:\\rpnn\\python\\wandb\\run-20220228_233055-o0spfflw\\logs\\debug.log</code>"
      ],
      "text/plain": [
       "<IPython.core.display.HTML object>"
      ]
     },
     "metadata": {},
     "output_type": "display_data"
    },
    {
     "data": {
      "text/html": [
       "Find internal logs for this run at: <code>W:\\rpnn\\python\\wandb\\run-20220228_233055-o0spfflw\\logs\\debug-internal.log</code>"
      ],
      "text/plain": [
       "<IPython.core.display.HTML object>"
      ]
     },
     "metadata": {},
     "output_type": "display_data"
    },
    {
     "data": {
      "text/html": [
       "<h3>Run summary:</h3><br/><style>\n",
       "    table.wandb td:nth-child(1) { padding: 0 10px; text-align: right }\n",
       "    </style><table class=\"wandb\">\n",
       "<tr><td>correct_classifications</td><td>9107</td></tr><tr><td>_runtime</td><td>647</td></tr><tr><td>_timestamp</td><td>1646088102</td></tr><tr><td>_step</td><td>0</td></tr></table>"
      ],
      "text/plain": [
       "<IPython.core.display.HTML object>"
      ]
     },
     "metadata": {},
     "output_type": "display_data"
    },
    {
     "data": {
      "text/html": [
       "<h3>Run history:</h3><br/><style>\n",
       "    table.wandb td:nth-child(1) { padding: 0 10px; text-align: right }\n",
       "    </style><table class=\"wandb\">\n",
       "<tr><td>correct_classifications</td><td>▁</td></tr><tr><td>_runtime</td><td>▁</td></tr><tr><td>_timestamp</td><td>▁</td></tr><tr><td>_step</td><td>▁</td></tr></table><br/>"
      ],
      "text/plain": [
       "<IPython.core.display.HTML object>"
      ]
     },
     "metadata": {},
     "output_type": "display_data"
    },
    {
     "data": {
      "text/html": [
       "Synced 5 W&B file(s), 0 media file(s), 0 artifact file(s) and 0 other file(s)"
      ],
      "text/plain": [
       "<IPython.core.display.HTML object>"
      ]
     },
     "metadata": {},
     "output_type": "display_data"
    },
    {
     "data": {
      "text/html": [
       "\n",
       "                    <br/>Synced <strong style=\"color:#cdcd00\">usual-sweep-4</strong>: <a href=\"https://wandb.ai/lubomirkurcak/my-test-project/runs/o0spfflw\" target=\"_blank\">https://wandb.ai/lubomirkurcak/my-test-project/runs/o0spfflw</a><br/>\n",
       "                "
      ],
      "text/plain": [
       "<IPython.core.display.HTML object>"
      ]
     },
     "metadata": {},
     "output_type": "display_data"
    }
   ],
   "source": [
    "wandb.agent(sweep_id, train, count=4)"
   ]
  },
  {
   "cell_type": "code",
   "execution_count": null,
   "metadata": {},
   "outputs": [],
   "source": []
  },
  {
   "cell_type": "code",
   "execution_count": 19,
   "metadata": {},
   "outputs": [
    {
     "data": {
      "text/plain": [
       "'\\nimport gym\\nenv = gym.make(\\'CartPole-v0\\')\\n\\nfor i_episode in range(20):\\n    observation = env.reset()\\n    for t in range(100):\\n        env.render()\\n        #print(observation)\\n        #action = env.action_space.sample()\\n        #action = (t+1)//2%2\\n        action = 1 if observation[2] > 0 else 0\\n\\n        observation, reward, done, info = env.step(action)\\n        if done:\\n            print(\"Episode finished after {} timesteps\".format(t+1))\\n            break\\nenv.close()\\n'"
      ]
     },
     "execution_count": 19,
     "metadata": {},
     "output_type": "execute_result"
    },
    {
     "name": "stderr",
     "output_type": "stream",
     "text": [
      "wandb: Network error resolved after 0:10:33.677092, resuming normal operation.\n"
     ]
    }
   ],
   "source": [
    "'''\n",
    "import gym\n",
    "env = gym.make('CartPole-v0')\n",
    "\n",
    "for i_episode in range(20):\n",
    "    observation = env.reset()\n",
    "    for t in range(100):\n",
    "        env.render()\n",
    "        #print(observation)\n",
    "        #action = env.action_space.sample()\n",
    "        #action = (t+1)//2%2\n",
    "        action = 1 if observation[2] > 0 else 0\n",
    "\n",
    "        observation, reward, done, info = env.step(action)\n",
    "        if done:\n",
    "            print(\"Episode finished after {} timesteps\".format(t+1))\n",
    "            break\n",
    "env.close()\n",
    "'''"
   ]
  }
 ],
 "metadata": {
  "kernelspec": {
   "display_name": "Python 3",
   "language": "python",
   "name": "python3"
  },
  "language_info": {
   "codemirror_mode": {
    "name": "ipython",
    "version": 3
   },
   "file_extension": ".py",
   "mimetype": "text/x-python",
   "name": "python",
   "nbconvert_exporter": "python",
   "pygments_lexer": "ipython3",
   "version": "3.9.2"
  }
 },
 "nbformat": 4,
 "nbformat_minor": 4
}

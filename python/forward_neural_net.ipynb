{
 "cells": [
  {
   "cell_type": "code",
   "execution_count": 1,
   "metadata": {},
   "outputs": [],
   "source": [
    "import math\n",
    "import time\n",
    "import wandb\n",
    "import spam\n",
    "import pprint"
   ]
  },
  {
   "cell_type": "code",
   "execution_count": 2,
   "metadata": {},
   "outputs": [],
   "source": [
    "#spam.mlp_classifier((784, 30, 10), epochs=1)"
   ]
  },
  {
   "cell_type": "code",
   "execution_count": 3,
   "metadata": {},
   "outputs": [
    {
     "data": {
      "text/plain": [
       "['__doc__',\n",
       " '__file__',\n",
       " '__loader__',\n",
       " '__name__',\n",
       " '__package__',\n",
       " '__spec__',\n",
       " 'error',\n",
       " 'matrix_factorization',\n",
       " 'mlp_classifier',\n",
       " 'reduce_precision',\n",
       " 'system']"
      ]
     },
     "execution_count": 3,
     "metadata": {},
     "output_type": "execute_result"
    }
   ],
   "source": [
    "#spam.reduce_precision(1.3, 8)\n",
    "dir(spam)"
   ]
  },
  {
   "cell_type": "code",
   "execution_count": 4,
   "metadata": {},
   "outputs": [
    {
     "name": "stdout",
     "output_type": "stream",
     "text": [
      "c:\\users\\lubko\\appdata\\local\\programs\\python\\python39\\Lib\\site-packages\n"
     ]
    }
   ],
   "source": [
    "from distutils.sysconfig import get_python_lib\n",
    "print(get_python_lib())"
   ]
  },
  {
   "cell_type": "code",
   "execution_count": 5,
   "metadata": {},
   "outputs": [],
   "source": [
    "#import importlib\n",
    "#importlib.reload(spam)"
   ]
  },
  {
   "cell_type": "code",
   "execution_count": 6,
   "metadata": {},
   "outputs": [
    {
     "name": "stderr",
     "output_type": "stream",
     "text": [
      "wandb: Currently logged in as: lubomirkurcak (use `wandb login --relogin` to force relogin)\n"
     ]
    },
    {
     "data": {
      "text/plain": [
       "True"
      ]
     },
     "execution_count": 6,
     "metadata": {},
     "output_type": "execute_result"
    }
   ],
   "source": [
    "wandb.login()\n",
    "#wandb.init(project=\"my-test-project\")"
   ]
  },
  {
   "cell_type": "code",
   "execution_count": 7,
   "metadata": {},
   "outputs": [],
   "source": [
    "# vytvorenie sweep configu (pouzivame nahodne zvolenie parametrov)\n",
    "sweep_config = {\n",
    "    'method': 'random'\n",
    "}"
   ]
  },
  {
   "cell_type": "code",
   "execution_count": 8,
   "metadata": {},
   "outputs": [],
   "source": [
    "#metric = {\n",
    "#    'name': 'loss',\n",
    "#    'goal': 'minimize'\n",
    "#}\n",
    "\n",
    "metric = {\n",
    "    'name': 'correct_classifications',\n",
    "    'goal': 'maximize'\n",
    "}\n",
    "\n",
    "sweep_config['metric'] = metric"
   ]
  },
  {
   "cell_type": "code",
   "execution_count": 9,
   "metadata": {},
   "outputs": [],
   "source": [
    "# diskretne parametre\n",
    "parameters_dict = {\n",
    "    'fp_subnormal': {\n",
    "        'values': ['CPFLOAT_SUBN_RND',\n",
    "                   'CPFLOAT_SUBN_USE']\n",
    "    },\n",
    "    \n",
    "    'fp_round': {\n",
    "        'values': ['CPFLOAT_RND_NA',\n",
    "                   'CPFLOAT_RND_NZ',\n",
    "                   'CPFLOAT_RND_NE',\n",
    "                   'CPFLOAT_RND_TP',\n",
    "                   'CPFLOAT_RND_TN',\n",
    "                   'CPFLOAT_RND_TZ',\n",
    "                   'CPFLOAT_RND_SP',\n",
    "                   'CPFLOAT_RND_SE',\n",
    "                   'CPFLOAT_RND_OD',\n",
    "                   'CPFLOAT_NO_RND']\n",
    "    },\n",
    "    \n",
    "    'fp_flip': {\n",
    "        'values': ['CPFLOAT_NO_SOFTERR',\n",
    "                   'CPFLOAT_SOFTERR']\n",
    "    },\n",
    "    \n",
    "    'fp_explim': {\n",
    "        'values': ['CPFLOAT_EXPRANGE_STOR',\n",
    "                   'CPFLOAT_EXPRANGE_TARG']\n",
    "    },\n",
    "}\n",
    "\n",
    "sweep_config['parameters'] = parameters_dict"
   ]
  },
  {
   "cell_type": "code",
   "execution_count": 10,
   "metadata": {},
   "outputs": [],
   "source": [
    "# konstantne parametre\n",
    "parameters_dict.update({\n",
    "    'layer_sizes': {\n",
    "        'value': (784, 30, 10)\n",
    "    },\n",
    "    'epochs': {\n",
    "        'value': 5\n",
    "    },\n",
    "    'minibatch_size': {\n",
    "        'value': 10\n",
    "    },\n",
    "    'learning_rate': {\n",
    "        'value': 0.1\n",
    "    },\n",
    "    'weight_decay': {\n",
    "        'value': 0.0001\n",
    "    },\n",
    "    'dropout': {\n",
    "        'value': 0\n",
    "    },\n",
    "    'momentum_coefficient': {\n",
    "        'value': 0\n",
    "    },\n",
    "    'loss': {\n",
    "        'value': 'mean_squared_error'\n",
    "    }\n",
    "})"
   ]
  },
  {
   "cell_type": "code",
   "execution_count": 11,
   "metadata": {},
   "outputs": [
    {
     "data": {
      "text/plain": [
       "\"\\n'fp_precision': {\\n    'distribution': 'q_log_uniform',\\n    'q': 1,\\n    'min': math.log(4),\\n    'max': math.log(24),\\n},\\n\\n'fp_emax': {\\n    'distribution': 'q_log_uniform',\\n    'q': 1,\\n    'min': math.log(4),\\n    'max': math.log(127),\\n},\\n\""
      ]
     },
     "execution_count": 11,
     "metadata": {},
     "output_type": "execute_result"
    }
   ],
   "source": [
    "'''\n",
    "precision\n",
    "   * @brief Bits of precision of target format.\n",
    "   *\n",
    "   * @details The maximum values allowed are 24 and 53 if the storage format is\n",
    "   * `float` or `double`, respectively.\n",
    "'''\n",
    "\n",
    "'''\n",
    "maximum exponent\n",
    "   * @brief Maximum exponent of target format.\n",
    "   *\n",
    "   * @details The maximum values allowed are 127 and 1023 if the storage format\n",
    "   * is `float` or `double`, respectively. Larger values are reduced to the\n",
    "   * maximum allowed value without warning. This field is ignored unless\n",
    "   * `explim` is set to `CPFLOAT_EXPRANGE_TARG`.   \n",
    "'''\n",
    "\n",
    "# spojite parametre\n",
    "parameters_dict.update({\n",
    "    'fp_p': {\n",
    "        'distribution': 'uniform',\n",
    "        'min': 0,\n",
    "        'max': 0.5\n",
    "    },\n",
    "    \n",
    "    'fp_precision': {\n",
    "        'distribution': 'q_uniform',\n",
    "        'q': 1,\n",
    "        'min': 4,\n",
    "        'max': 24,\n",
    "    },\n",
    "    \n",
    "    'fp_emax': {\n",
    "        'distribution': 'q_uniform',\n",
    "        'q': 1,\n",
    "        'min': 4,\n",
    "        'max': 127,\n",
    "    },\n",
    "})\n",
    "\n",
    "\n",
    "'''\n",
    "'fp_precision': {\n",
    "    'distribution': 'q_log_uniform',\n",
    "    'q': 1,\n",
    "    'min': math.log(4),\n",
    "    'max': math.log(24),\n",
    "},\n",
    "\n",
    "'fp_emax': {\n",
    "    'distribution': 'q_log_uniform',\n",
    "    'q': 1,\n",
    "    'min': math.log(4),\n",
    "    'max': math.log(127),\n",
    "},\n",
    "'''"
   ]
  },
  {
   "cell_type": "code",
   "execution_count": 12,
   "metadata": {},
   "outputs": [
    {
     "name": "stdout",
     "output_type": "stream",
     "text": [
      "{'method': 'random',\n",
      " 'metric': {'goal': 'maximize', 'name': 'correct_classifications'},\n",
      " 'parameters': {'dropout': {'value': 0},\n",
      "                'epochs': {'value': 5},\n",
      "                'fp_emax': {'distribution': 'q_uniform',\n",
      "                            'max': 127,\n",
      "                            'min': 4,\n",
      "                            'q': 1},\n",
      "                'fp_explim': {'values': ['CPFLOAT_EXPRANGE_STOR',\n",
      "                                         'CPFLOAT_EXPRANGE_TARG']},\n",
      "                'fp_flip': {'values': ['CPFLOAT_NO_SOFTERR',\n",
      "                                       'CPFLOAT_SOFTERR']},\n",
      "                'fp_p': {'distribution': 'uniform', 'max': 0.5, 'min': 0},\n",
      "                'fp_precision': {'distribution': 'q_uniform',\n",
      "                                 'max': 24,\n",
      "                                 'min': 4,\n",
      "                                 'q': 1},\n",
      "                'fp_round': {'values': ['CPFLOAT_RND_NA',\n",
      "                                        'CPFLOAT_RND_NZ',\n",
      "                                        'CPFLOAT_RND_NE',\n",
      "                                        'CPFLOAT_RND_TP',\n",
      "                                        'CPFLOAT_RND_TN',\n",
      "                                        'CPFLOAT_RND_TZ',\n",
      "                                        'CPFLOAT_RND_SP',\n",
      "                                        'CPFLOAT_RND_SE',\n",
      "                                        'CPFLOAT_RND_OD',\n",
      "                                        'CPFLOAT_NO_RND']},\n",
      "                'fp_subnormal': {'values': ['CPFLOAT_SUBN_RND',\n",
      "                                            'CPFLOAT_SUBN_USE']},\n",
      "                'layer_sizes': {'value': (784, 30, 10)},\n",
      "                'learning_rate': {'value': 0.1},\n",
      "                'loss': {'value': 'mean_squared_error'},\n",
      "                'minibatch_size': {'value': 10},\n",
      "                'momentum_coefficient': {'value': 0},\n",
      "                'weight_decay': {'value': 0.0001}}}\n"
     ]
    }
   ],
   "source": [
    "pprint.pprint(sweep_config)"
   ]
  },
  {
   "cell_type": "code",
   "execution_count": 13,
   "metadata": {},
   "outputs": [
    {
     "data": {
      "text/plain": [
       "0"
      ]
     },
     "execution_count": 13,
     "metadata": {},
     "output_type": "execute_result"
    }
   ],
   "source": [
    "spam.system('echo %TIME%')"
   ]
  },
  {
   "cell_type": "code",
   "execution_count": 14,
   "metadata": {},
   "outputs": [
    {
     "name": "stdout",
     "output_type": "stream",
     "text": [
      "Create sweep with ID: fc3gl8vd\n",
      "Sweep URL: https://wandb.ai/lubomirkurcak/my-test-project/sweeps/fc3gl8vd\n"
     ]
    }
   ],
   "source": [
    "# inicializuj sweep pomocou konfigu (vytvori sa stranka sweepu, kde je mozne monitorovat behy a analyzovat parametre)\n",
    "sweep_id = wandb.sweep(sweep_config, project=\"my-test-project\")"
   ]
  },
  {
   "cell_type": "code",
   "execution_count": 15,
   "metadata": {},
   "outputs": [],
   "source": [
    "# trenovacia funkcia, pouzita pri volani trenovacich agentov\n",
    "def train():\n",
    "    \n",
    "    # inicialuzuj wandb a vyber config s nastavenymi hodnotami podla sweep configu\n",
    "    run = wandb.init()\n",
    "    config = run.config\n",
    "    \n",
    "    '''\n",
    "    for dummy_epoch in range(30):\n",
    "        wandb.log({\"loss\": 0.9 ** dummy_epoch,\n",
    "                   \"accuracy\": 1 - 0.97 ** dummy_epoch}, commit=False, step=dummy_epoch)\n",
    "    '''\n",
    "    \n",
    "    correct_classifications = spam.mlp_classifier(tuple(config[\"layer_sizes\"]),\n",
    "        epochs=config[\"epochs\"],\n",
    "        minibatch_size=config[\"minibatch_size\"],\n",
    "        learning_rate=config[\"learning_rate\"],\n",
    "        weight_decay=config[\"weight_decay\"],\n",
    "        dropout=config[\"dropout\"],\n",
    "        momentum_coefficient=config[\"momentum_coefficient\"],\n",
    "        fp_precision=config[\"fp_precision\"],\n",
    "        fp_emax=config[\"fp_emax\"],\n",
    "        fp_subnormal=config[\"fp_subnormal\"],\n",
    "        fp_round=config[\"fp_round\"],\n",
    "        fp_flip=config[\"fp_flip\"],\n",
    "        fp_p=config[\"fp_p\"],\n",
    "        fp_explim=config[\"fp_explim\"]\n",
    "    )\n",
    "    \n",
    "    \n",
    "    wandb.log({'correct_classifications': correct_classifications}, commit=False, step=0)\n",
    "    \n",
    "    '''\n",
    "    print('Early accuracy stop!')\n",
    "    wandb.alert(\n",
    "        title='Early accuracy stop!', \n",
    "        text=f'Accuracy {correct/total} is above 0.7',\n",
    "        level=AlertLevel.INFO, # INFO, WARN, or ERROR \n",
    "        wait_duration=timedelta(minutes=1)\n",
    "    )\n",
    "    '''\n",
    "        \n",
    "    run.finish()\n",
    "    "
   ]
  },
  {
   "cell_type": "code",
   "execution_count": 16,
   "metadata": {},
   "outputs": [],
   "source": [
    "#spam.create_forward_net([784, 30, 10])\n",
    "#spam.create_forward_net((784, 30, 10))"
   ]
  },
  {
   "cell_type": "code",
   "execution_count": 17,
   "metadata": {},
   "outputs": [],
   "source": [
    "#wandb.agent(\"i91zir54\", project=\"my-test-project\", function=train, count=400)"
   ]
  },
  {
   "cell_type": "code",
   "execution_count": null,
   "metadata": {
    "scrolled": false
   },
   "outputs": [
    {
     "name": "stderr",
     "output_type": "stream",
     "text": [
      "wandb: Agent Starting Run: ymrljv8s with config:\n",
      "wandb: \tdropout: 0\n",
      "wandb: \tepochs: 5\n",
      "wandb: \tfp_emax: 18\n",
      "wandb: \tfp_explim: CPFLOAT_EXPRANGE_TARG\n",
      "wandb: \tfp_flip: CPFLOAT_SOFTERR\n",
      "wandb: \tfp_p: 0.13106019853764334\n",
      "wandb: \tfp_precision: 10\n",
      "wandb: \tfp_round: CPFLOAT_RND_SP\n",
      "wandb: \tfp_subnormal: CPFLOAT_SUBN_USE\n",
      "wandb: \tlayer_sizes: [784, 30, 10]\n",
      "wandb: \tlearning_rate: 0.1\n",
      "wandb: \tloss: mean_squared_error\n",
      "wandb: \tminibatch_size: 10\n",
      "wandb: \tmomentum_coefficient: 0\n",
      "wandb: \tweight_decay: 0.0001\n",
      "wandb: wandb version 0.12.11 is available!  To upgrade, please run:\n",
      "wandb:  $ pip install wandb --upgrade\n"
     ]
    },
    {
     "data": {
      "text/html": [
       "\n",
       "                Tracking run with wandb version 0.10.21<br/>\n",
       "                Syncing run <strong style=\"color:#cdcd00\">peachy-sweep-1</strong> to <a href=\"https://wandb.ai\" target=\"_blank\">Weights & Biases</a> <a href=\"https://docs.wandb.com/integrations/jupyter.html\" target=\"_blank\">(Documentation)</a>.<br/>\n",
       "                Project page: <a href=\"https://wandb.ai/lubomirkurcak/my-test-project\" target=\"_blank\">https://wandb.ai/lubomirkurcak/my-test-project</a><br/>\n",
       "                Sweep page: <a href=\"https://wandb.ai/lubomirkurcak/my-test-project/sweeps/fc3gl8vd\" target=\"_blank\">https://wandb.ai/lubomirkurcak/my-test-project/sweeps/fc3gl8vd</a><br/>\n",
       "Run page: <a href=\"https://wandb.ai/lubomirkurcak/my-test-project/runs/ymrljv8s\" target=\"_blank\">https://wandb.ai/lubomirkurcak/my-test-project/runs/ymrljv8s</a><br/>\n",
       "                Run data is saved locally in <code>W:\\rpnn\\python\\wandb\\run-20220301_225944-ymrljv8s</code><br/><br/>\n",
       "            "
      ],
      "text/plain": [
       "<IPython.core.display.HTML object>"
      ]
     },
     "metadata": {},
     "output_type": "display_data"
    },
    {
     "name": "stdout",
     "output_type": "stream",
     "text": [
      "cpfloat_validate_optstruct returned 0\n",
      "Epoch 0/5 Batch 0/6000 Cost 1.920241 LR 0.100000\n",
      "Epoch 0/5 Batch 1024/6000 Cost 0.341838 LR 0.100000\n",
      "Epoch 0/5 Batch 2048/6000 Cost 0.121723 LR 0.100000\n",
      "Epoch 0/5 Batch 3072/6000 Cost 0.330341 LR 0.100000\n",
      "Epoch 0/5 Batch 4096/6000 Cost 0.257503 LR 0.100000\n",
      "Epoch 0/5 Batch 5120/6000 Cost 0.254673 LR 0.100000\n",
      "Epoch 0/5 Correct 8968/10000 Best 8968(0)Epoch 1/5 Batch 0/6000 Cost 0.097667 LR 0.100000\n",
      "Epoch 1/5 Batch 1024/6000 Cost 0.351005 LR 0.100000\n",
      "Epoch 1/5 Batch 2048/6000 Cost 0.106928 LR 0.100000\n",
      "Epoch 1/5 Batch 3072/6000 Cost 0.331145 LR 0.100000\n",
      "Epoch 1/5 Batch 4096/6000 Cost 0.231015 LR 0.100000\n",
      "Epoch 1/5 Batch 5120/6000 Cost 0.249076 LR 0.100000\n",
      "Epoch 1/5 Correct 8998/10000 Best 8998(0)Epoch 2/5 Batch 0/6000 Cost 0.096376 LR 0.100000\n",
      "Epoch 2/5 Batch 1024/6000 Cost 0.368299 LR 0.100000\n",
      "Epoch 2/5 Batch 2048/6000 Cost 0.097662 LR 0.100000\n",
      "Epoch 2/5 Batch 3072/6000 Cost 0.323273 LR 0.100000\n",
      "Epoch 2/5 Batch 4096/6000 Cost 0.231447 LR 0.100000\n",
      "Epoch 2/5 Batch 5120/6000 Cost 0.195630 LR 0.100000\n",
      "Epoch 2/5 Correct 9044/10000 Best 9044(0)Epoch 3/5 Batch 0/6000 Cost 0.097819 LR 0.100000\n",
      "Epoch 3/5 Batch 1024/6000 Cost 0.384795 LR 0.100000\n",
      "Epoch 3/5 Batch 2048/6000 Cost 0.092808 LR 0.100000\n",
      "Epoch 3/5 Batch 3072/6000 Cost 0.306803 LR 0.100000\n",
      "Epoch 3/5 Batch 4096/6000 Cost 0.227866 LR 0.100000\n",
      "Epoch 3/5 Batch 5120/6000 Cost 0.187198 LR 0.100000\n",
      "Epoch 3/5 Correct 9064/10000 Best 9064(0)Epoch 4/5 Batch 0/6000 Cost 0.096756 LR 0.100000\n",
      "Epoch 4/5 Batch 1024/6000 Cost 0.399896 LR 0.100000\n",
      "Epoch 4/5 Batch 2048/6000 Cost 0.088848 LR 0.100000\n",
      "Epoch 4/5 Batch 3072/6000 Cost 0.295264 LR 0.100000\n",
      "Epoch 4/5 Batch 4096/6000 Cost 0.228694 LR 0.100000\n"
     ]
    },
    {
     "name": "stderr",
     "output_type": "stream",
     "text": [
      "wandb: Network error (SSLError), entering retry loop. See W:\\rpnn\\python\\wandb\\run-20220301_225944-ymrljv8s\\logs\\debug-internal.log for full traceback.\n"
     ]
    },
    {
     "name": "stdout",
     "output_type": "stream",
     "text": [
      "Epoch 4/5 Batch 5120/6000 Cost 0.181177 LR 0.100000\n",
      "Epoch 4/5 Correct 9088/10000 Best 9088(0)"
     ]
    },
    {
     "data": {
      "text/html": [
       "<br/>Waiting for W&B process to finish, PID 26352<br/>Program ended successfully."
      ],
      "text/plain": [
       "<IPython.core.display.HTML object>"
      ]
     },
     "metadata": {},
     "output_type": "display_data"
    },
    {
     "data": {
      "application/vnd.jupyter.widget-view+json": {
       "model_id": "",
       "version_major": 2,
       "version_minor": 0
      },
      "text/plain": [
       "VBox(children=(Label(value=' 0.00MB of 0.00MB uploaded (0.00MB deduped)\\r'), FloatProgress(value=1.0, max=1.0)…"
      ]
     },
     "metadata": {},
     "output_type": "display_data"
    },
    {
     "data": {
      "text/html": [
       "Find user logs for this run at: <code>W:\\rpnn\\python\\wandb\\run-20220301_225944-ymrljv8s\\logs\\debug.log</code>"
      ],
      "text/plain": [
       "<IPython.core.display.HTML object>"
      ]
     },
     "metadata": {},
     "output_type": "display_data"
    },
    {
     "data": {
      "text/html": [
       "Find internal logs for this run at: <code>W:\\rpnn\\python\\wandb\\run-20220301_225944-ymrljv8s\\logs\\debug-internal.log</code>"
      ],
      "text/plain": [
       "<IPython.core.display.HTML object>"
      ]
     },
     "metadata": {},
     "output_type": "display_data"
    },
    {
     "data": {
      "text/html": [
       "<h3>Run summary:</h3><br/><style>\n",
       "    table.wandb td:nth-child(1) { padding: 0 10px; text-align: right }\n",
       "    </style><table class=\"wandb\">\n",
       "<tr><td>correct_classifications</td><td>9088</td></tr><tr><td>_runtime</td><td>1459</td></tr><tr><td>_timestamp</td><td>1646173443</td></tr><tr><td>_step</td><td>0</td></tr></table>"
      ],
      "text/plain": [
       "<IPython.core.display.HTML object>"
      ]
     },
     "metadata": {},
     "output_type": "display_data"
    },
    {
     "data": {
      "text/html": [
       "<h3>Run history:</h3><br/><style>\n",
       "    table.wandb td:nth-child(1) { padding: 0 10px; text-align: right }\n",
       "    </style><table class=\"wandb\">\n",
       "<tr><td>correct_classifications</td><td>▁</td></tr><tr><td>_runtime</td><td>▁</td></tr><tr><td>_timestamp</td><td>▁</td></tr><tr><td>_step</td><td>▁</td></tr></table><br/>"
      ],
      "text/plain": [
       "<IPython.core.display.HTML object>"
      ]
     },
     "metadata": {},
     "output_type": "display_data"
    },
    {
     "data": {
      "text/html": [
       "Synced 5 W&B file(s), 0 media file(s), 0 artifact file(s) and 0 other file(s)"
      ],
      "text/plain": [
       "<IPython.core.display.HTML object>"
      ]
     },
     "metadata": {},
     "output_type": "display_data"
    },
    {
     "data": {
      "text/html": [
       "\n",
       "                    <br/>Synced <strong style=\"color:#cdcd00\">peachy-sweep-1</strong>: <a href=\"https://wandb.ai/lubomirkurcak/my-test-project/runs/ymrljv8s\" target=\"_blank\">https://wandb.ai/lubomirkurcak/my-test-project/runs/ymrljv8s</a><br/>\n",
       "                "
      ],
      "text/plain": [
       "<IPython.core.display.HTML object>"
      ]
     },
     "metadata": {},
     "output_type": "display_data"
    },
    {
     "name": "stderr",
     "output_type": "stream",
     "text": [
      "wandb: Network error resolved after 0:23:31.792660, resuming normal operation.\n",
      "wandb: Agent Starting Run: ds52qu9u with config:\n",
      "wandb: \tdropout: 0\n",
      "wandb: \tepochs: 5\n",
      "wandb: \tfp_emax: 33\n",
      "wandb: \tfp_explim: CPFLOAT_EXPRANGE_STOR\n",
      "wandb: \tfp_flip: CPFLOAT_NO_SOFTERR\n",
      "wandb: \tfp_p: 0.22138856377662508\n",
      "wandb: \tfp_precision: 18\n",
      "wandb: \tfp_round: CPFLOAT_RND_TP\n",
      "wandb: \tfp_subnormal: CPFLOAT_SUBN_USE\n",
      "wandb: \tlayer_sizes: [784, 30, 10]\n",
      "wandb: \tlearning_rate: 0.1\n",
      "wandb: \tloss: mean_squared_error\n",
      "wandb: \tminibatch_size: 10\n",
      "wandb: \tmomentum_coefficient: 0\n",
      "wandb: \tweight_decay: 0.0001\n",
      "wandb: wandb version 0.12.11 is available!  To upgrade, please run:\n",
      "wandb:  $ pip install wandb --upgrade\n"
     ]
    },
    {
     "data": {
      "text/html": [
       "\n",
       "                Tracking run with wandb version 0.10.21<br/>\n",
       "                Syncing run <strong style=\"color:#cdcd00\">apricot-sweep-2</strong> to <a href=\"https://wandb.ai\" target=\"_blank\">Weights & Biases</a> <a href=\"https://docs.wandb.com/integrations/jupyter.html\" target=\"_blank\">(Documentation)</a>.<br/>\n",
       "                Project page: <a href=\"https://wandb.ai/lubomirkurcak/my-test-project\" target=\"_blank\">https://wandb.ai/lubomirkurcak/my-test-project</a><br/>\n",
       "                Sweep page: <a href=\"https://wandb.ai/lubomirkurcak/my-test-project/sweeps/fc3gl8vd\" target=\"_blank\">https://wandb.ai/lubomirkurcak/my-test-project/sweeps/fc3gl8vd</a><br/>\n",
       "Run page: <a href=\"https://wandb.ai/lubomirkurcak/my-test-project/runs/ds52qu9u\" target=\"_blank\">https://wandb.ai/lubomirkurcak/my-test-project/runs/ds52qu9u</a><br/>\n",
       "                Run data is saved locally in <code>W:\\rpnn\\python\\wandb\\run-20220301_232409-ds52qu9u</code><br/><br/>\n",
       "            "
      ],
      "text/plain": [
       "<IPython.core.display.HTML object>"
      ]
     },
     "metadata": {},
     "output_type": "display_data"
    },
    {
     "name": "stdout",
     "output_type": "stream",
     "text": [
      "cpfloat_validate_optstruct returned 0\n",
      "Epoch 0/5 Batch 0/6000 Cost 3.929653 LR 0.100000\n",
      "Epoch 0/5 Batch 1024/6000 Cost 0.405632 LR 0.100000\n",
      "Epoch 0/5 Batch 2048/6000 Cost 0.135213 LR 0.100000\n",
      "Epoch 0/5 Batch 3072/6000 Cost 0.339117 LR 0.100000\n",
      "Epoch 0/5 Batch 4096/6000 Cost 0.262824 LR 0.100000\n",
      "Epoch 0/5 Batch 5120/6000 Cost 0.247203 LR 0.100000\n",
      "Epoch 0/5 Correct 9112/10000 Best 9112(0)Epoch 1/5 Batch 0/6000 Cost 0.061975 LR 0.100000\n",
      "Epoch 1/5 Batch 1024/6000 Cost 0.299895 LR 0.100000\n",
      "Epoch 1/5 Batch 2048/6000 Cost 0.094421 LR 0.100000\n",
      "Epoch 1/5 Batch 3072/6000 Cost 0.320722 LR 0.100000\n",
      "Epoch 1/5 Batch 4096/6000 Cost 0.222438 LR 0.100000\n",
      "Epoch 1/5 Batch 5120/6000 Cost 0.205299 LR 0.100000\n",
      "Epoch 1/5 Correct 9163/10000 Best 9163(0)Epoch 2/5 Batch 0/6000 Cost 0.059730 LR 0.100000\n",
      "Epoch 2/5 Batch 1024/6000 Cost 0.289057 LR 0.100000\n",
      "Epoch 2/5 Batch 2048/6000 Cost 0.077119 LR 0.100000\n",
      "Epoch 2/5 Batch 3072/6000 Cost 0.297175 LR 0.100000\n",
      "Epoch 2/5 Batch 4096/6000 Cost 0.205417 LR 0.100000\n",
      "Epoch 2/5 Batch 5120/6000 Cost 0.182305 LR 0.100000\n",
      "Epoch 2/5 Correct 9186/10000 Best 9186(0)Epoch 3/5 Batch 0/6000 Cost 0.058551 LR 0.100000\n",
      "Epoch 3/5 Batch 1024/6000 Cost 0.314016 LR 0.100000\n",
      "Epoch 3/5 Batch 2048/6000 Cost 0.066944 LR 0.100000\n",
      "Epoch 3/5 Batch 3072/6000 Cost 0.277078 LR 0.100000\n",
      "Epoch 3/5 Batch 4096/6000 Cost 0.206871 LR 0.100000\n",
      "Epoch 3/5 Batch 5120/6000 Cost 0.187989 LR 0.100000\n",
      "Epoch 3/5 Correct 9208/10000 Best 9208(0)Epoch 4/5 Batch 0/6000 Cost 0.053345 LR 0.100000\n"
     ]
    },
    {
     "name": "stderr",
     "output_type": "stream",
     "text": [
      "wandb: Network error (SSLError), entering retry loop. See W:\\rpnn\\python\\wandb\\run-20220301_232409-ds52qu9u\\logs\\debug-internal.log for full traceback.\n"
     ]
    },
    {
     "name": "stdout",
     "output_type": "stream",
     "text": [
      "Epoch 4/5 Batch 1024/6000 Cost 0.325465 LR 0.100000\n",
      "Epoch 4/5 Batch 2048/6000 Cost 0.059598 LR 0.100000\n",
      "Epoch 4/5 Batch 3072/6000 Cost 0.268564 LR 0.100000\n",
      "Epoch 4/5 Batch 4096/6000 Cost 0.206401 LR 0.100000\n",
      "Epoch 4/5 Batch 5120/6000 Cost 0.180180 LR 0.100000\n",
      "Epoch 4/5 Correct 9243/10000 Best 9243(0)"
     ]
    },
    {
     "data": {
      "text/html": [
       "<br/>Waiting for W&B process to finish, PID 16312<br/>Program ended successfully."
      ],
      "text/plain": [
       "<IPython.core.display.HTML object>"
      ]
     },
     "metadata": {},
     "output_type": "display_data"
    },
    {
     "name": "stderr",
     "output_type": "stream",
     "text": [
      "wandb: Network error resolved after 0:04:05.315710, resuming normal operation.\n"
     ]
    },
    {
     "data": {
      "application/vnd.jupyter.widget-view+json": {
       "model_id": "",
       "version_major": 2,
       "version_minor": 0
      },
      "text/plain": [
       "VBox(children=(Label(value=' 0.00MB of 0.00MB uploaded (0.00MB deduped)\\r'), FloatProgress(value=1.0, max=1.0)…"
      ]
     },
     "metadata": {},
     "output_type": "display_data"
    },
    {
     "data": {
      "text/html": [
       "Find user logs for this run at: <code>W:\\rpnn\\python\\wandb\\run-20220301_232409-ds52qu9u\\logs\\debug.log</code>"
      ],
      "text/plain": [
       "<IPython.core.display.HTML object>"
      ]
     },
     "metadata": {},
     "output_type": "display_data"
    },
    {
     "data": {
      "text/html": [
       "Find internal logs for this run at: <code>W:\\rpnn\\python\\wandb\\run-20220301_232409-ds52qu9u\\logs\\debug-internal.log</code>"
      ],
      "text/plain": [
       "<IPython.core.display.HTML object>"
      ]
     },
     "metadata": {},
     "output_type": "display_data"
    },
    {
     "data": {
      "text/html": [
       "<h3>Run summary:</h3><br/><style>\n",
       "    table.wandb td:nth-child(1) { padding: 0 10px; text-align: right }\n",
       "    </style><table class=\"wandb\">\n",
       "<tr><td>correct_classifications</td><td>9243</td></tr><tr><td>_runtime</td><td>258</td></tr><tr><td>_timestamp</td><td>1646173707</td></tr><tr><td>_step</td><td>0</td></tr></table>"
      ],
      "text/plain": [
       "<IPython.core.display.HTML object>"
      ]
     },
     "metadata": {},
     "output_type": "display_data"
    },
    {
     "data": {
      "text/html": [
       "<h3>Run history:</h3><br/><style>\n",
       "    table.wandb td:nth-child(1) { padding: 0 10px; text-align: right }\n",
       "    </style><table class=\"wandb\">\n",
       "<tr><td>correct_classifications</td><td>▁</td></tr><tr><td>_runtime</td><td>▁</td></tr><tr><td>_timestamp</td><td>▁</td></tr><tr><td>_step</td><td>▁</td></tr></table><br/>"
      ],
      "text/plain": [
       "<IPython.core.display.HTML object>"
      ]
     },
     "metadata": {},
     "output_type": "display_data"
    },
    {
     "data": {
      "text/html": [
       "Synced 5 W&B file(s), 0 media file(s), 0 artifact file(s) and 0 other file(s)"
      ],
      "text/plain": [
       "<IPython.core.display.HTML object>"
      ]
     },
     "metadata": {},
     "output_type": "display_data"
    },
    {
     "data": {
      "text/html": [
       "\n",
       "                    <br/>Synced <strong style=\"color:#cdcd00\">apricot-sweep-2</strong>: <a href=\"https://wandb.ai/lubomirkurcak/my-test-project/runs/ds52qu9u\" target=\"_blank\">https://wandb.ai/lubomirkurcak/my-test-project/runs/ds52qu9u</a><br/>\n",
       "                "
      ],
      "text/plain": [
       "<IPython.core.display.HTML object>"
      ]
     },
     "metadata": {},
     "output_type": "display_data"
    },
    {
     "name": "stderr",
     "output_type": "stream",
     "text": [
      "wandb: Agent Starting Run: 1dxp7e5g with config:\n",
      "wandb: \tdropout: 0\n",
      "wandb: \tepochs: 5\n",
      "wandb: \tfp_emax: 6\n",
      "wandb: \tfp_explim: CPFLOAT_EXPRANGE_STOR\n",
      "wandb: \tfp_flip: CPFLOAT_SOFTERR\n",
      "wandb: \tfp_p: 0.0404399079158948\n",
      "wandb: \tfp_precision: 19\n",
      "wandb: \tfp_round: CPFLOAT_RND_TN\n",
      "wandb: \tfp_subnormal: CPFLOAT_SUBN_RND\n",
      "wandb: \tlayer_sizes: [784, 30, 10]\n",
      "wandb: \tlearning_rate: 0.1\n",
      "wandb: \tloss: mean_squared_error\n",
      "wandb: \tminibatch_size: 10\n",
      "wandb: \tmomentum_coefficient: 0\n",
      "wandb: \tweight_decay: 0.0001\n",
      "wandb: wandb version 0.12.11 is available!  To upgrade, please run:\n",
      "wandb:  $ pip install wandb --upgrade\n"
     ]
    },
    {
     "data": {
      "text/html": [
       "\n",
       "                Tracking run with wandb version 0.10.21<br/>\n",
       "                Syncing run <strong style=\"color:#cdcd00\">frosty-sweep-3</strong> to <a href=\"https://wandb.ai\" target=\"_blank\">Weights & Biases</a> <a href=\"https://docs.wandb.com/integrations/jupyter.html\" target=\"_blank\">(Documentation)</a>.<br/>\n",
       "                Project page: <a href=\"https://wandb.ai/lubomirkurcak/my-test-project\" target=\"_blank\">https://wandb.ai/lubomirkurcak/my-test-project</a><br/>\n",
       "                Sweep page: <a href=\"https://wandb.ai/lubomirkurcak/my-test-project/sweeps/fc3gl8vd\" target=\"_blank\">https://wandb.ai/lubomirkurcak/my-test-project/sweeps/fc3gl8vd</a><br/>\n",
       "Run page: <a href=\"https://wandb.ai/lubomirkurcak/my-test-project/runs/1dxp7e5g\" target=\"_blank\">https://wandb.ai/lubomirkurcak/my-test-project/runs/1dxp7e5g</a><br/>\n",
       "                Run data is saved locally in <code>W:\\rpnn\\python\\wandb\\run-20220301_232831-1dxp7e5g</code><br/><br/>\n",
       "            "
      ],
      "text/plain": [
       "<IPython.core.display.HTML object>"
      ]
     },
     "metadata": {},
     "output_type": "display_data"
    },
    {
     "name": "stdout",
     "output_type": "stream",
     "text": [
      "cpfloat_validate_optstruct returned 0\n",
      "Epoch 0/5 Batch 0/6000 Cost 2.609136 LR 0.100000\n",
      "Epoch 0/5 Batch 1024/6000 Cost 0.403909 LR 0.100000\n",
      "Epoch 0/5 Batch 2048/6000 Cost 0.140016 LR 0.100000\n",
      "Epoch 0/5 Batch 3072/6000 Cost 0.333147 LR 0.100000\n",
      "Epoch 0/5 Batch 4096/6000 Cost 0.256798 LR 0.100000\n",
      "Epoch 0/5 Batch 5120/6000 Cost 0.230167 LR 0.100000\n",
      "Epoch 0/5 Correct 9029/10000 Best 9029(0)Epoch 1/5 Batch 0/6000 Cost 0.090504 LR 0.100000\n",
      "Epoch 1/5 Batch 1024/6000 Cost 0.359993 LR 0.100000\n",
      "Epoch 1/5 Batch 2048/6000 Cost 0.105581 LR 0.100000\n",
      "Epoch 1/5 Batch 3072/6000 Cost 0.310901 LR 0.100000\n",
      "Epoch 1/5 Batch 4096/6000 Cost 0.224186 LR 0.100000\n",
      "Epoch 1/5 Batch 5120/6000 Cost 0.207374 LR 0.100000\n",
      "Epoch 1/5 Correct 9136/10000 Best 9136(0)Epoch 2/5 Batch 0/6000 Cost 0.068899 LR 0.100000\n",
      "Epoch 2/5 Batch 1024/6000 Cost 0.337016 LR 0.100000\n",
      "Epoch 2/5 Batch 2048/6000 Cost 0.085821 LR 0.100000\n",
      "Epoch 2/5 Batch 3072/6000 Cost 0.318719 LR 0.100000\n",
      "Epoch 2/5 Batch 4096/6000 Cost 0.174347 LR 0.100000\n",
      "Epoch 2/5 Batch 5120/6000 Cost 0.177626 LR 0.100000\n",
      "Epoch 2/5 Correct 9207/10000 Best 9207(0)Epoch 3/5 Batch 0/6000 Cost 0.076834 LR 0.100000\n",
      "Epoch 3/5 Batch 1024/6000 Cost 0.352570 LR 0.100000\n",
      "Epoch 3/5 Batch 2048/6000 Cost 0.069345 LR 0.100000\n",
      "Epoch 3/5 Batch 3072/6000 Cost 0.303458 LR 0.100000\n",
      "Epoch 3/5 Batch 4096/6000 Cost 0.157853 LR 0.100000\n",
      "Epoch 3/5 Batch 5120/6000 Cost 0.160673 LR 0.100000\n"
     ]
    },
    {
     "name": "stderr",
     "output_type": "stream",
     "text": [
      "wandb: Network error (SSLError), entering retry loop. See W:\\rpnn\\python\\wandb\\run-20220301_232831-1dxp7e5g\\logs\\debug-internal.log for full traceback.\n"
     ]
    },
    {
     "name": "stdout",
     "output_type": "stream",
     "text": [
      "Epoch 3/5 Correct 9256/10000 Best 9256(0)Epoch 4/5 Batch 0/6000 Cost 0.072502 LR 0.100000\n",
      "Epoch 4/5 Batch 1024/6000 Cost 0.347712 LR 0.100000\n",
      "Epoch 4/5 Batch 2048/6000 Cost 0.062326 LR 0.100000\n",
      "Epoch 4/5 Batch 3072/6000 Cost 0.291297 LR 0.100000\n",
      "Epoch 4/5 Batch 4096/6000 Cost 0.156302 LR 0.100000\n",
      "Epoch 4/5 Batch 5120/6000 Cost 0.158451 LR 0.100000\n",
      "Epoch 4/5 Correct 9275/10000 Best 9275(0)"
     ]
    },
    {
     "data": {
      "text/html": [
       "<br/>Waiting for W&B process to finish, PID 15132<br/>Program ended successfully."
      ],
      "text/plain": [
       "<IPython.core.display.HTML object>"
      ]
     },
     "metadata": {},
     "output_type": "display_data"
    },
    {
     "name": "stderr",
     "output_type": "stream",
     "text": [
      "wandb: Network error resolved after 0:11:01.184327, resuming normal operation.\n"
     ]
    },
    {
     "data": {
      "application/vnd.jupyter.widget-view+json": {
       "model_id": "",
       "version_major": 2,
       "version_minor": 0
      },
      "text/plain": [
       "VBox(children=(Label(value=' 0.00MB of 0.00MB uploaded (0.00MB deduped)\\r'), FloatProgress(value=1.0, max=1.0)…"
      ]
     },
     "metadata": {},
     "output_type": "display_data"
    },
    {
     "data": {
      "text/html": [
       "Find user logs for this run at: <code>W:\\rpnn\\python\\wandb\\run-20220301_232831-1dxp7e5g\\logs\\debug.log</code>"
      ],
      "text/plain": [
       "<IPython.core.display.HTML object>"
      ]
     },
     "metadata": {},
     "output_type": "display_data"
    },
    {
     "data": {
      "text/html": [
       "Find internal logs for this run at: <code>W:\\rpnn\\python\\wandb\\run-20220301_232831-1dxp7e5g\\logs\\debug-internal.log</code>"
      ],
      "text/plain": [
       "<IPython.core.display.HTML object>"
      ]
     },
     "metadata": {},
     "output_type": "display_data"
    },
    {
     "data": {
      "text/html": [
       "<h3>Run summary:</h3><br/><style>\n",
       "    table.wandb td:nth-child(1) { padding: 0 10px; text-align: right }\n",
       "    </style><table class=\"wandb\">\n",
       "<tr><td>correct_classifications</td><td>9275</td></tr><tr><td>_runtime</td><td>685</td></tr><tr><td>_timestamp</td><td>1646174396</td></tr><tr><td>_step</td><td>0</td></tr></table>"
      ],
      "text/plain": [
       "<IPython.core.display.HTML object>"
      ]
     },
     "metadata": {},
     "output_type": "display_data"
    },
    {
     "data": {
      "text/html": [
       "<h3>Run history:</h3><br/><style>\n",
       "    table.wandb td:nth-child(1) { padding: 0 10px; text-align: right }\n",
       "    </style><table class=\"wandb\">\n",
       "<tr><td>correct_classifications</td><td>▁</td></tr><tr><td>_runtime</td><td>▁</td></tr><tr><td>_timestamp</td><td>▁</td></tr><tr><td>_step</td><td>▁</td></tr></table><br/>"
      ],
      "text/plain": [
       "<IPython.core.display.HTML object>"
      ]
     },
     "metadata": {},
     "output_type": "display_data"
    },
    {
     "data": {
      "text/html": [
       "Synced 5 W&B file(s), 0 media file(s), 0 artifact file(s) and 0 other file(s)"
      ],
      "text/plain": [
       "<IPython.core.display.HTML object>"
      ]
     },
     "metadata": {},
     "output_type": "display_data"
    },
    {
     "data": {
      "text/html": [
       "\n",
       "                    <br/>Synced <strong style=\"color:#cdcd00\">frosty-sweep-3</strong>: <a href=\"https://wandb.ai/lubomirkurcak/my-test-project/runs/1dxp7e5g\" target=\"_blank\">https://wandb.ai/lubomirkurcak/my-test-project/runs/1dxp7e5g</a><br/>\n",
       "                "
      ],
      "text/plain": [
       "<IPython.core.display.HTML object>"
      ]
     },
     "metadata": {},
     "output_type": "display_data"
    },
    {
     "name": "stderr",
     "output_type": "stream",
     "text": [
      "wandb: Agent Starting Run: l0zj4p80 with config:\n",
      "wandb: \tdropout: 0\n",
      "wandb: \tepochs: 5\n",
      "wandb: \tfp_emax: 33\n",
      "wandb: \tfp_explim: CPFLOAT_EXPRANGE_STOR\n",
      "wandb: \tfp_flip: CPFLOAT_SOFTERR\n",
      "wandb: \tfp_p: 0.26739102312733076\n",
      "wandb: \tfp_precision: 17\n",
      "wandb: \tfp_round: CPFLOAT_RND_SP\n",
      "wandb: \tfp_subnormal: CPFLOAT_SUBN_RND\n",
      "wandb: \tlayer_sizes: [784, 30, 10]\n",
      "wandb: \tlearning_rate: 0.1\n",
      "wandb: \tloss: mean_squared_error\n",
      "wandb: \tminibatch_size: 10\n",
      "wandb: \tmomentum_coefficient: 0\n",
      "wandb: \tweight_decay: 0.0001\n",
      "wandb: wandb version 0.12.11 is available!  To upgrade, please run:\n",
      "wandb:  $ pip install wandb --upgrade\n"
     ]
    },
    {
     "data": {
      "text/html": [
       "\n",
       "                Tracking run with wandb version 0.10.21<br/>\n",
       "                Syncing run <strong style=\"color:#cdcd00\">rose-sweep-4</strong> to <a href=\"https://wandb.ai\" target=\"_blank\">Weights & Biases</a> <a href=\"https://docs.wandb.com/integrations/jupyter.html\" target=\"_blank\">(Documentation)</a>.<br/>\n",
       "                Project page: <a href=\"https://wandb.ai/lubomirkurcak/my-test-project\" target=\"_blank\">https://wandb.ai/lubomirkurcak/my-test-project</a><br/>\n",
       "                Sweep page: <a href=\"https://wandb.ai/lubomirkurcak/my-test-project/sweeps/fc3gl8vd\" target=\"_blank\">https://wandb.ai/lubomirkurcak/my-test-project/sweeps/fc3gl8vd</a><br/>\n",
       "Run page: <a href=\"https://wandb.ai/lubomirkurcak/my-test-project/runs/l0zj4p80\" target=\"_blank\">https://wandb.ai/lubomirkurcak/my-test-project/runs/l0zj4p80</a><br/>\n",
       "                Run data is saved locally in <code>W:\\rpnn\\python\\wandb\\run-20220301_234000-l0zj4p80</code><br/><br/>\n",
       "            "
      ],
      "text/plain": [
       "<IPython.core.display.HTML object>"
      ]
     },
     "metadata": {},
     "output_type": "display_data"
    }
   ],
   "source": [
    "wandb.agent(sweep_id, train, count=4)"
   ]
  },
  {
   "cell_type": "code",
   "execution_count": null,
   "metadata": {},
   "outputs": [],
   "source": []
  },
  {
   "cell_type": "code",
   "execution_count": null,
   "metadata": {},
   "outputs": [],
   "source": [
    "'''\n",
    "import gym\n",
    "env = gym.make('CartPole-v0')\n",
    "\n",
    "for i_episode in range(20):\n",
    "    observation = env.reset()\n",
    "    for t in range(100):\n",
    "        env.render()\n",
    "        #print(observation)\n",
    "        #action = env.action_space.sample()\n",
    "        #action = (t+1)//2%2\n",
    "        action = 1 if observation[2] > 0 else 0\n",
    "\n",
    "        observation, reward, done, info = env.step(action)\n",
    "        if done:\n",
    "            print(\"Episode finished after {} timesteps\".format(t+1))\n",
    "            break\n",
    "env.close()\n",
    "'''"
   ]
  }
 ],
 "metadata": {
  "kernelspec": {
   "display_name": "Python 3",
   "language": "python",
   "name": "python3"
  },
  "language_info": {
   "codemirror_mode": {
    "name": "ipython",
    "version": 3
   },
   "file_extension": ".py",
   "mimetype": "text/x-python",
   "name": "python",
   "nbconvert_exporter": "python",
   "pygments_lexer": "ipython3",
   "version": "3.9.2"
  }
 },
 "nbformat": 4,
 "nbformat_minor": 4
}

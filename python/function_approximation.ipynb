{
 "cells": [
  {
   "cell_type": "code",
   "execution_count": 4,
   "metadata": {},
   "outputs": [
    {
     "data": {
      "application/vnd.jupyter.widget-view+json": {
       "model_id": "322f6a86d1414dad9a31eab092f34d0b",
       "version_major": 2,
       "version_minor": 0
      },
      "text/plain": [
       "ToggleButton(value=False, description='Toggle Rendering')"
      ]
     },
     "metadata": {},
     "output_type": "display_data"
    }
   ],
   "source": [
    "import math\n",
    "import time\n",
    "import wandb\n",
    "import rpnn\n",
    "import pprint"
   ]
  },
  {
   "cell_type": "code",
   "execution_count": null,
   "metadata": {},
   "outputs": [],
   "source": [
    "WANDB_PROJECT = 'function-approximation'\n",
    "wandb.login()"
   ]
  },
  {
   "cell_type": "code",
   "execution_count": null,
   "metadata": {},
   "outputs": [],
   "source": [
    "sweep_config = {\n",
    "    'method': 'random'\n",
    "}"
   ]
  },
  {
   "cell_type": "code",
   "execution_count": null,
   "metadata": {},
   "outputs": [],
   "source": [
    "metric = {\n",
    "    'name': 'squared_error',\n",
    "    'goal': 'minimize'\n",
    "}\n",
    "\n",
    "sweep_config['metric'] = metric"
   ]
  },
  {
   "cell_type": "code",
   "execution_count": null,
   "metadata": {},
   "outputs": [],
   "source": [
    "# numerical precision params\n",
    "parameters_dict = {\n",
    "    'fp_precision': {\n",
    "        'distribution': 'q_uniform',\n",
    "        'q': 1,\n",
    "        'min': 4,\n",
    "        'max': 24,\n",
    "    },\n",
    "    \n",
    "    'fp_emax': {\n",
    "        'distribution': 'q_uniform',\n",
    "        'q': 1,\n",
    "        'min': 4,\n",
    "        'max': 127,\n",
    "    },\n",
    "    \n",
    "    'fp_subnormal': {\n",
    "        'value': 'CPFLOAT_SUBN_USE'\n",
    "    },\n",
    "    \n",
    "    'fp_round': {\n",
    "        'values': ['CPFLOAT_RND_SP',\n",
    "                   'CPFLOAT_RND_SE']\n",
    "    },\n",
    "    \n",
    "    'fp_flip': {\n",
    "        'value': 'CPFLOAT_NO_SOFTERR'\n",
    "    },\n",
    "    \n",
    "    'fp_explim': {\n",
    "        'value': 'CPFLOAT_EXPRANGE_TARG'\n",
    "    },\n",
    "    \n",
    "    'fp_p': {\n",
    "        'value': 0.0\n",
    "    },\n",
    "}\n"
   ]
  },
  {
   "cell_type": "code",
   "execution_count": null,
   "metadata": {},
   "outputs": [],
   "source": [
    "# reinforcement learning (RL) params\n",
    "parameters_dict = {\n",
    "    'epsilon0' : {\n",
    "        'value' = 1.0\n",
    "    },\n",
    "    'epsilon1' : {\n",
    "        'value' = 0.1\n",
    "    },\n",
    "    'exploration_steps' : {\n",
    "        'value' = 1000000\n",
    "    },\n",
    "    'epsilon' : {\n",
    "        'value' = 1.0\n",
    "    },\n",
    "    \n",
    "    'gamma' : {\n",
    "        'value' = 0.99\n",
    "    },\n",
    "    'alpha' : {\n",
    "        'value' = 1.0\n",
    "    },\n",
    "    \n",
    "    'target_update_frequency' : {\n",
    "        'value' = 10000\n",
    "    },\n",
    "    'replay_start_size' : {\n",
    "        'value' = 50000\n",
    "    },\n",
    "    \n",
    "    'action_repeat' : {\n",
    "        'value' = 1\n",
    "    }\n",
    "}"
   ]
  },
  {
   "cell_type": "code",
   "execution_count": null,
   "metadata": {},
   "outputs": [],
   "source": [
    "# neural network params\n",
    "parameters_dict.update({\n",
    "    'layer_sizes': {\n",
    "        'value': (4, 16, 16, 16, 2)\n",
    "    },\n",
    "    'epochs': {\n",
    "        'value': 50000\n",
    "    },\n",
    "    'minibatch_size': {\n",
    "        'value': 32\n",
    "    },\n",
    "    'learning_rate': {\n",
    "        'value': 0.1\n",
    "    },\n",
    "    'weight_decay': {\n",
    "        'value': 0.001\n",
    "    },\n",
    "    'dropout_keep_p': {\n",
    "        'value': 1\n",
    "    },\n",
    "    'momentum_coefficient': {\n",
    "        'value': 0\n",
    "    },\n",
    "    'loss': {\n",
    "        'value': 'mean_squared_error'\n",
    "    }\n",
    "})"
   ]
  },
  {
   "cell_type": "code",
   "execution_count": null,
   "metadata": {},
   "outputs": [],
   "source": [
    "sweep_config['parameters'] = parameters_dict"
   ]
  },
  {
   "cell_type": "code",
   "execution_count": null,
   "metadata": {},
   "outputs": [],
   "source": [
    "def train():\n",
    "    run = wandb.init()\n",
    "    config = run.config\n",
    "    \n",
    "    squared_error = rpnn.matrix_factorization(features=config[\"features\"],\n",
    "        epochs=config[\"epochs\"],\n",
    "        non_negative=config[\"non_negative\"],\n",
    "        learning_rate=config[\"learning_rate\"],\n",
    "        weight_decay=config[\"weight_decay\"],\n",
    "        dropout_keep_p=config[\"dropout_keep_p\"],\n",
    "        momentum_coefficient=config[\"momentum_coefficient\"],\n",
    "        fp_precision=config[\"fp_precision\"],\n",
    "        fp_emax=config[\"fp_emax\"],\n",
    "        fp_subnormal=config[\"fp_subnormal\"],\n",
    "        fp_round=config[\"fp_round\"],\n",
    "        fp_flip=config[\"fp_flip\"],\n",
    "        fp_p=config[\"fp_p\"],\n",
    "        fp_explim=config[\"fp_explim\"]\n",
    "    )\n",
    "    \n",
    "    wandb.log({'squared_error': squared_error}, commit=False, step=0)\n",
    "        \n",
    "    run.finish()"
   ]
  },
  {
   "cell_type": "code",
   "execution_count": null,
   "metadata": {},
   "outputs": [],
   "source": [
    "sweep_id = wandb.sweep(sweep_config, project=WANDB_PROJECT)\n",
    "#sweep_id = \"jneupcgr\"\n",
    "\n",
    "wandb.agent(sweep_id=sweep_id, project=WANDB_PROJECT, function=train, count=100)"
   ]
  }
 ],
 "metadata": {
  "kernelspec": {
   "display_name": "Python 3",
   "language": "python",
   "name": "python3"
  },
  "language_info": {
   "codemirror_mode": {
    "name": "ipython",
    "version": 3
   },
   "file_extension": ".py",
   "mimetype": "text/x-python",
   "name": "python",
   "nbconvert_exporter": "python",
   "pygments_lexer": "ipython3",
   "version": "3.9.2"
  }
 },
 "nbformat": 4,
 "nbformat_minor": 4
}
